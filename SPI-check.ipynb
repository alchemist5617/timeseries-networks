{
 "cells": [
  {
   "cell_type": "code",
   "execution_count": 64,
   "metadata": {},
   "outputs": [],
   "source": [
    "import numpy as np\n",
    "import math\n",
    "import pandas as pd\n",
    "from pandas import Series\n",
    "import random\n",
    "import matplotlib.pyplot as plt\n",
    "import seaborn as sns\n",
    "from netCDF4 import Dataset\n",
    "#from numpy import linspace\n",
    "#from numpy import meshgrid\n",
    "\n",
    "\n",
    "from Data import Data\n",
    "from datetime import datetime\n",
    "\n",
    "\n",
    "from scipy import stats\n",
    "\n",
    "import scipy.stats as st"
   ]
  },
  {
   "cell_type": "code",
   "execution_count": 68,
   "metadata": {},
   "outputs": [],
   "source": [
    "def spiParametersMle(x, dist=st.gamma):\n",
    "    i = x == 0\n",
    "    params = dist.fit(x[~i])\n",
    "    q = len(x[i])/len(x)\n",
    "    return(params, q)\n",
    "\n",
    "def spiGeneratorMle(x, dist=st.gamma):\n",
    "    i = x == 0\n",
    "\n",
    "    params = dist.fit(x[~i])\n",
    "    arg = params[:-2]\n",
    "    loc = params[-2]\n",
    "    scale = params[-1]\n",
    "    G = dist.cdf(x[~i], loc=loc, scale=scale, *arg)\n",
    "\n",
    "    q = len(x[i])/len(x)\n",
    "    probabilities = np.zeros(len(x))\n",
    "    probabilities[i] = q\n",
    "    probabilities[~i] = q + (1 - q) * G\n",
    "    result = st.norm.ppf(probabilities)\n",
    "    return(result)\n",
    "\n",
    "def spiGeneratorParamMle(x, params, q, dist=st.gamma):\n",
    "    i = x == 0\n",
    "    arg = params[:-2]\n",
    "    loc = params[-2]\n",
    "    scale = params[-1]\n",
    "    G = dist.cdf(x[~i], loc=loc, scale=scale, *arg)\n",
    "\n",
    "    if G == 1: G = 0.99\n",
    "    if G == 0: G = 0.01\n",
    "    probabilities = np.zeros(len(x))\n",
    "    probabilities[i] = q\n",
    "    probabilities[~i] = q + (1 - q) * G\n",
    "    result = st.norm.ppf(probabilities)\n",
    "    return(result)\n"
   ]
  },
  {
   "cell_type": "code",
   "execution_count": 81,
   "metadata": {},
   "outputs": [],
   "source": [
    "ref = np.array([0,0,0,0,3,4,3,4])"
   ]
  },
  {
   "cell_type": "code",
   "execution_count": 82,
   "metadata": {},
   "outputs": [],
   "source": [
    "params, q = spiParametersMle(ref)"
   ]
  },
  {
   "cell_type": "code",
   "execution_count": 83,
   "metadata": {},
   "outputs": [
    {
     "data": {
      "text/plain": [
       "0.5"
      ]
     },
     "execution_count": 83,
     "metadata": {},
     "output_type": "execute_result"
    }
   ],
   "source": [
    "q"
   ]
  },
  {
   "cell_type": "code",
   "execution_count": 84,
   "metadata": {},
   "outputs": [],
   "source": [
    "x = [0]"
   ]
  },
  {
   "cell_type": "code",
   "execution_count": 85,
   "metadata": {},
   "outputs": [
    {
     "data": {
      "text/plain": [
       "array([8.26526178e-13])"
      ]
     },
     "execution_count": 85,
     "metadata": {},
     "output_type": "execute_result"
    }
   ],
   "source": [
    "spiGeneratorParamMle([0],params=params,q=q)"
   ]
  },
  {
   "cell_type": "code",
   "execution_count": 74,
   "metadata": {},
   "outputs": [],
   "source": [
    "result = []\n",
    "for i in range(len(ref)):\n",
    "    result.append(spiGeneratorParamMle([ref[i]],params=params,q=q)[0])"
   ]
  },
  {
   "cell_type": "code",
   "execution_count": 75,
   "metadata": {},
   "outputs": [
    {
     "data": {
      "text/plain": [
       "<matplotlib.axes._subplots.AxesSubplot at 0x7fae334c2f28>"
      ]
     },
     "execution_count": 75,
     "metadata": {},
     "output_type": "execute_result"
    },
    {
     "data": {
      "image/png": "[encoded data removed]",
      "text/plain": [
       "<Figure size 432x288 with 1 Axes>"
      ]
     },
     "metadata": {},
     "output_type": "display_data"
    }
   ],
   "source": [
    "sns.distplot(result)"
   ]
  },
  {
   "cell_type": "code",
   "execution_count": null,
   "metadata": {},
   "outputs": [],
   "source": []
  }
 ],
 "metadata": {
  "kernelspec": {
   "display_name": "Python 3",
   "language": "python",
   "name": "python3"
  },
  "language_info": {
   "codemirror_mode": {
    "name": "ipython",
    "version": 3
   },
   "file_extension": ".py",
   "mimetype": "text/x-python",
   "name": "python",
   "nbconvert_exporter": "python",
   "pygments_lexer": "ipython3",
   "version": "3.6.9"
  }
 },
 "nbformat": 4,
 "nbformat_minor": 2
}
