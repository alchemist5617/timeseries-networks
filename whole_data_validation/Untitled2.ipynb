{
 "cells": [
  {
   "cell_type": "code",
   "execution_count": 11,
   "metadata": {},
   "outputs": [],
   "source": [
    "import numpy as np\n",
    "from netCDF4 import Dataset, num2date, date2num\n",
    "from Data import Data\n",
    "from datetime import datetime"
   ]
  },
  {
   "cell_type": "code",
   "execution_count": null,
   "metadata": {},
   "outputs": [],
   "source": []
  },
  {
   "cell_type": "code",
   "execution_count": null,
   "metadata": {},
   "outputs": [],
   "source": []
  },
  {
   "cell_type": "code",
   "execution_count": 3,
   "metadata": {},
   "outputs": [],
   "source": [
    "data = Dataset('../../../nc/cru_ts4.05.1901.2020.pre.dat.nc')"
   ]
  },
  {
   "cell_type": "code",
   "execution_count": 4,
   "metadata": {},
   "outputs": [
    {
     "data": {
      "text/plain": [
       "OrderedDict([('lon', <class 'netCDF4._netCDF4.Variable'>\n",
       "              float32 lon(lon)\n",
       "                  long_name: longitude\n",
       "                  units: degrees_east\n",
       "              unlimited dimensions: \n",
       "              current shape = (720,)\n",
       "              filling off), ('lat', <class 'netCDF4._netCDF4.Variable'>\n",
       "              float32 lat(lat)\n",
       "                  long_name: latitude\n",
       "                  units: degrees_north\n",
       "              unlimited dimensions: \n",
       "              current shape = (360,)\n",
       "              filling off), ('time', <class 'netCDF4._netCDF4.Variable'>\n",
       "              float32 time(time)\n",
       "                  long_name: time\n",
       "                  units: days since 1900-1-1\n",
       "                  calendar: gregorian\n",
       "              unlimited dimensions: time\n",
       "              current shape = (1440,)\n",
       "              filling off), ('pre', <class 'netCDF4._netCDF4.Variable'>\n",
       "              float32 pre(time, lat, lon)\n",
       "                  long_name: precipitation\n",
       "                  units: mm/month\n",
       "                  correlation_decay_distance: 450.0\n",
       "                  _FillValue: 9.96921e+36\n",
       "                  missing_value: 9.96921e+36\n",
       "              unlimited dimensions: time\n",
       "              current shape = (1440, 360, 720)\n",
       "              filling off), ('stn', <class 'netCDF4._netCDF4.Variable'>\n",
       "              int32 stn(time, lat, lon)\n",
       "                  description: number of stations contributing to each datum\n",
       "                  _FillValue: -999\n",
       "                  missing_value: -999\n",
       "              unlimited dimensions: time\n",
       "              current shape = (1440, 360, 720)\n",
       "              filling off)])"
      ]
     },
     "execution_count": 4,
     "metadata": {},
     "output_type": "execute_result"
    }
   ],
   "source": [
    "data.variables"
   ]
  },
  {
   "cell_type": "code",
   "execution_count": 6,
   "metadata": {},
   "outputs": [],
   "source": [
    "var = data.variables['pre']"
   ]
  },
  {
   "cell_type": "code",
   "execution_count": 7,
   "metadata": {},
   "outputs": [
    {
     "data": {
      "text/plain": [
       "(1440, 360, 720)"
      ]
     },
     "execution_count": 7,
     "metadata": {},
     "output_type": "execute_result"
    }
   ],
   "source": [
    "var.shape"
   ]
  },
  {
   "cell_type": "code",
   "execution_count": 8,
   "metadata": {},
   "outputs": [
    {
     "data": {
      "text/plain": [
       "masked"
      ]
     },
     "execution_count": 8,
     "metadata": {},
     "output_type": "execute_result"
    }
   ],
   "source": [
    "var[0,0,0]"
   ]
  },
  {
   "cell_type": "code",
   "execution_count": 82,
   "metadata": {},
   "outputs": [],
   "source": [
    "train_start = 1976\n",
    "validation_end = 2010\n",
    "\n",
    "n_components_sst = 8\n",
    "\n",
    "temporal_limits = {\"time_min\":datetime(train_start, 1, 16, 0, 0),\"time_max\":datetime(validation_end, 12, 16, 0, 0)}\n",
    "spatial_limits={\"lon_min\":-23.75,\"lon_max\":58.75,\"lat_min\":-38.75,\"lat_max\":38.75}"
   ]
  },
  {
   "cell_type": "code",
   "execution_count": 134,
   "metadata": {},
   "outputs": [],
   "source": [
    "d = Data('../../../nc/cru_ts4.05.1901.2020.tmp.dat.nc','tmp',temporal_limits,spatial_limits, missing_value=9.96921e+36)\n",
    "\n",
    "result = d.get_data()\n",
    "lon_list = d.get_lon_list()\n",
    "lat_list = d.get_lat_list()\n",
    "lon = d.get_lon()\n",
    "lat = d.get_lat()\n",
    "\n",
    "index = np.where(result[0,:] != 9.96921e+36)[1]\n",
    "\n",
    "result = result[:,index]\n",
    "lon_list = np.array(lon_list)[index]\n",
    "lat_list = np.array(lat_list)[index]"
   ]
  },
  {
   "cell_type": "code",
   "execution_count": 136,
   "metadata": {},
   "outputs": [
    {
     "data": {
      "text/plain": [
       "(420, 12952)"
      ]
     },
     "execution_count": 136,
     "metadata": {},
     "output_type": "execute_result"
    }
   ],
   "source": [
    "result.shape"
   ]
  },
  {
   "cell_type": "code",
   "execution_count": 127,
   "metadata": {},
   "outputs": [],
   "source": []
  },
  {
   "cell_type": "code",
   "execution_count": 131,
   "metadata": {},
   "outputs": [
    {
     "data": {
      "text/plain": [
       "0"
      ]
     },
     "execution_count": 131,
     "metadata": {},
     "output_type": "execute_result"
    }
   ],
   "source": [
    "np.count_nonzero(result[:,index] ==9.96921e+36)"
   ]
  },
  {
   "cell_type": "code",
   "execution_count": null,
   "metadata": {},
   "outputs": [],
   "source": [
    "    def _unflatten_refine(self,data, missing_value = -9.969209968386869e+36):\n",
    "        \"\"\"\n",
    "        Converts 3D spatio-temporal data inot 2D data\n",
    "        \n",
    "        Parameters\n",
    "        ----------\n",
    "        data : 3D matrix, shape (longtitude, latitude, time)\n",
    "        \n",
    "        Returns\n",
    "        -------\n",
    "        result : 2D matrix, shape (time, locaion)\n",
    "            \n",
    "        \"\"\"\n",
    "        result = []\n",
    "        index2d = {}\n",
    "        lat_list = []\n",
    "        lon_list = []\n",
    "        r = data.shape[0]\n",
    "        c = data.shape[1]\n",
    "        for i in range(r):\n",
    "            for j in range(c):\n",
    "                if (not np.ma.is_masked(data[i,j,:])) and data[i,j,-1] != (missing_value) and data[i,j,-1] > -1000 :\n",
    "                    result.append(data[i,j,:])\n",
    "                    index2d[len(result)-1] = (i,j)  \n",
    "                    lon_list.append(self._lon[i])\n",
    "                    lat_list.append(self._lat[j])\n",
    "        result = np.transpose(np.matrix(result))\n",
    "        return(result, index2d, lon_list, lat_list)"
   ]
  },
  {
   "cell_type": "code",
   "execution_count": null,
   "metadata": {},
   "outputs": [],
   "source": []
  },
  {
   "cell_type": "code",
   "execution_count": 121,
   "metadata": {},
   "outputs": [
    {
     "data": {
      "text/plain": [
       "12952.0"
      ]
     },
     "execution_count": 121,
     "metadata": {},
     "output_type": "execute_result"
    }
   ],
   "source": [
    "len(np.where(result != 9.96921e+36)[0])/420"
   ]
  },
  {
   "cell_type": "code",
   "execution_count": 87,
   "metadata": {},
   "outputs": [],
   "source": [
    "del(d)"
   ]
  },
  {
   "cell_type": "code",
   "execution_count": 15,
   "metadata": {},
   "outputs": [],
   "source": [
    "variable_name  = 'pre'"
   ]
  },
  {
   "cell_type": "code",
   "execution_count": 88,
   "metadata": {},
   "outputs": [
    {
     "name": "stderr",
     "output_type": "stream",
     "text": [
      "/home/mathsys2/anaconda3/lib/python3.6/site-packages/ipykernel_launcher.py:7: DeprecationWarning: tostring() is deprecated. Use tobytes() instead.\n",
      "  import sys\n"
     ]
    }
   ],
   "source": [
    "f = Dataset('../../../nc/cru_ts4.05.1901.2020.pre.dat.nc')\n",
    "# Create reference to observable\n",
    "var = f.variables[variable_name]\n",
    "var = np.squeeze(var)\n",
    "#Get time axis from NetCDF file plus dates\n",
    "time = f.variables['time'][:]\n",
    "units = f.variables['time'].units\n",
    "\n",
    "#Get longtitude and latitude\n",
    "lon = f.variables['lon'][:]\n",
    "lat = f.variables['lat'][:]  \n",
    "#Set minimum and maximum of longtitude and latitude"
   ]
  },
  {
   "cell_type": "code",
   "execution_count": 89,
   "metadata": {},
   "outputs": [
    {
     "data": {
      "text/plain": [
       "(1440, 360, 720)"
      ]
     },
     "execution_count": 89,
     "metadata": {},
     "output_type": "execute_result"
    }
   ],
   "source": [
    "var.shape"
   ]
  },
  {
   "cell_type": "code",
   "execution_count": 72,
   "metadata": {},
   "outputs": [],
   "source": [
    "lon_min = spatial_limits[\"lon_min\"]\n",
    "lon_max = spatial_limits[\"lon_max\"]"
   ]
  },
  {
   "cell_type": "code",
   "execution_count": 77,
   "metadata": {},
   "outputs": [
    {
     "data": {
      "text/plain": [
       "102"
      ]
     },
     "execution_count": 77,
     "metadata": {},
     "output_type": "execute_result"
    }
   ],
   "source": [
    "lat_min_Idx"
   ]
  },
  {
   "cell_type": "code",
   "execution_count": 78,
   "metadata": {},
   "outputs": [
    {
     "data": {
      "text/plain": [
       "257"
      ]
     },
     "execution_count": 78,
     "metadata": {},
     "output_type": "execute_result"
    }
   ],
   "source": [
    "lat_max_Idx"
   ]
  },
  {
   "cell_type": "code",
   "execution_count": 75,
   "metadata": {},
   "outputs": [
    {
     "ename": "NameError",
     "evalue": "name 'self' is not defined",
     "output_type": "error",
     "traceback": [
      "\u001b[0;31m---------------------------------------------------------------------------\u001b[0m",
      "\u001b[0;31mNameError\u001b[0m                                 Traceback (most recent call last)",
      "\u001b[0;32m<ipython-input-75-f6e09a2e322b>\u001b[0m in \u001b[0;36m<module>\u001b[0;34m()\u001b[0m\n\u001b[1;32m      5\u001b[0m      \u001b[0mlat_max_Idx\u001b[0m \u001b[0;34m=\u001b[0m \u001b[0mnp\u001b[0m\u001b[0;34m.\u001b[0m\u001b[0mwhere\u001b[0m\u001b[0;34m(\u001b[0m\u001b[0mlat\u001b[0m \u001b[0;34m==\u001b[0m \u001b[0mlat_max\u001b[0m\u001b[0;34m)\u001b[0m\u001b[0;34m[\u001b[0m\u001b[0;36m0\u001b[0m\u001b[0;34m]\u001b[0m\u001b[0;34m[\u001b[0m\u001b[0;36m0\u001b[0m\u001b[0;34m]\u001b[0m\u001b[0;34m\u001b[0m\u001b[0;34m\u001b[0m\u001b[0m\n\u001b[1;32m      6\u001b[0m      \u001b[0;32mif\u001b[0m \u001b[0mlat_min_Idx\u001b[0m \u001b[0;34m<=\u001b[0m \u001b[0mlat_max_Idx\u001b[0m\u001b[0;34m:\u001b[0m\u001b[0;34m\u001b[0m\u001b[0;34m\u001b[0m\u001b[0m\n\u001b[0;32m----> 7\u001b[0;31m          \u001b[0mself\u001b[0m\u001b[0;34m.\u001b[0m\u001b[0m_lat\u001b[0m \u001b[0;34m=\u001b[0m \u001b[0mlat\u001b[0m\u001b[0;34m[\u001b[0m\u001b[0mlat_min_Idx\u001b[0m\u001b[0;34m:\u001b[0m\u001b[0mlat_max_Idx\u001b[0m\u001b[0;34m+\u001b[0m\u001b[0;36m1\u001b[0m\u001b[0;34m]\u001b[0m\u001b[0;34m\u001b[0m\u001b[0;34m\u001b[0m\u001b[0m\n\u001b[0m\u001b[1;32m      8\u001b[0m      \u001b[0;32melse\u001b[0m\u001b[0;34m:\u001b[0m\u001b[0;34m\u001b[0m\u001b[0;34m\u001b[0m\u001b[0m\n\u001b[1;32m      9\u001b[0m          \u001b[0;32mraise\u001b[0m \u001b[0mIndexError\u001b[0m\u001b[0;34m(\u001b[0m\u001b[0;34m'lat_min is not less than lat_max'\u001b[0m\u001b[0;34m)\u001b[0m\u001b[0;34m\u001b[0m\u001b[0;34m\u001b[0m\u001b[0m\n",
      "\u001b[0;31mNameError\u001b[0m: name 'self' is not defined"
     ]
    }
   ],
   "source": [
    "lat_min = spatial_limits[\"lat_min\"]\n",
    "lat_max = spatial_limits[\"lat_max\"]\n",
    "if lat_min in lat and lat_max in lat:\n",
    "     lat_min_Idx = np.where(lat == lat_min)[0][0]\n",
    "     lat_max_Idx = np.where(lat == lat_max)[0][0]\n",
    "     if lat_min_Idx <= lat_max_Idx: \n",
    "         self._lat = lat[lat_min_Idx:lat_max_Idx+1]\n",
    "     else:\n",
    "         raise IndexError('lat_min is not less than lat_max')\n",
    "else:\n",
    "    raise IndexError('lat_min or lat_max is not in lat')"
   ]
  },
  {
   "cell_type": "code",
   "execution_count": null,
   "metadata": {},
   "outputs": [],
   "source": []
  },
  {
   "cell_type": "code",
   "execution_count": 73,
   "metadata": {},
   "outputs": [
    {
     "data": {
      "text/plain": [
       "58.75"
      ]
     },
     "execution_count": 73,
     "metadata": {},
     "output_type": "execute_result"
    }
   ],
   "source": [
    "lon_max"
   ]
  },
  {
   "cell_type": "code",
   "execution_count": 61,
   "metadata": {},
   "outputs": [
    {
     "data": {
      "text/plain": [
       "312"
      ]
     },
     "execution_count": 61,
     "metadata": {},
     "output_type": "execute_result"
    }
   ],
   "source": [
    "lon_max_Idx"
   ]
  },
  {
   "cell_type": "code",
   "execution_count": 63,
   "metadata": {},
   "outputs": [
    {
     "data": {
      "text/plain": [
       "477"
      ]
     },
     "execution_count": 63,
     "metadata": {},
     "output_type": "execute_result"
    }
   ],
   "source": [
    "lon_min_Idx"
   ]
  },
  {
   "cell_type": "code",
   "execution_count": null,
   "metadata": {},
   "outputs": [],
   "source": [
    "if spatial_limits is not None:\n",
    "            lon_min = spatial_limits[\"lon_min\"]\n",
    "            lon_max = spatial_limits[\"lon_max\"]\n",
    "            if  lon_min in lon and lon_max in lon:\n",
    "                 lon_min_Idx = np.where(lon == lon_min)[0][0]\n",
    "                 lon_max_Idx = np.where(lon == lon_max)[0][0]\n",
    "                 if lon_min_Idx <= lon_max_Idx:\n",
    "                     self._lon = lon[lon_min_Idx:lon_max_Idx+1]\n",
    "\n",
    "                 else:\n",
    "                     raise IndexError('lon_min is not less than lon_max')    \n",
    "            else:\n",
    "                raise IndexError('lon_min or lon_max is not in lon')\n",
    "            \n",
    "            lat_min = spatial_limits[\"lat_min\"]\n",
    "            lat_max = spatial_limits[\"lat_max\"]\n",
    "            if lat_min in lat and lat_max in lat:\n",
    "                 lat_min_Idx = np.where(lat == lat_min)[0][0]\n",
    "                 lat_max_Idx = np.where(lat == lat_max)[0][0]\n",
    "                 if lat_min_Idx <= lat_max_Idx: \n",
    "                     self._lat = lat[lat_min_Idx:lat_max_Idx+1]\n",
    "                 else:\n",
    "                     raise IndexError('lat_min is not less than lat_max')\n",
    "            else:\n",
    "                raise IndexError('lat_min or lat_max is not in lat')\n",
    "        else:\n",
    "            lon_min_Idx = 0 \n",
    "            lon_max_Idx = len(lon)-1\n",
    "            self._lon = lon\n",
    "            lat_min_Idx = 0 \n",
    "            lat_max_Idx = len(lat)-1\n",
    "            self._lat = lat"
   ]
  },
  {
   "cell_type": "code",
   "execution_count": null,
   "metadata": {},
   "outputs": [],
   "source": []
  },
  {
   "cell_type": "code",
   "execution_count": null,
   "metadata": {},
   "outputs": [],
   "source": []
  },
  {
   "cell_type": "code",
   "execution_count": null,
   "metadata": {},
   "outputs": [],
   "source": []
  },
  {
   "cell_type": "code",
   "execution_count": null,
   "metadata": {},
   "outputs": [],
   "source": []
  },
  {
   "cell_type": "code",
   "execution_count": null,
   "metadata": {},
   "outputs": [],
   "source": []
  },
  {
   "cell_type": "code",
   "execution_count": null,
   "metadata": {},
   "outputs": [],
   "source": []
  },
  {
   "cell_type": "code",
   "execution_count": null,
   "metadata": {},
   "outputs": [],
   "source": []
  },
  {
   "cell_type": "code",
   "execution_count": null,
   "metadata": {},
   "outputs": [],
   "source": []
  },
  {
   "cell_type": "code",
   "execution_count": null,
   "metadata": {},
   "outputs": [],
   "source": []
  },
  {
   "cell_type": "code",
   "execution_count": 36,
   "metadata": {},
   "outputs": [
    {
     "data": {
      "text/plain": [
       "'days since 1900-1-1'"
      ]
     },
     "execution_count": 36,
     "metadata": {},
     "output_type": "execute_result"
    }
   ],
   "source": [
    "units"
   ]
  },
  {
   "cell_type": "code",
   "execution_count": 32,
   "metadata": {},
   "outputs": [],
   "source": [
    "            t_min = date2num(temporal_limits[\"time_min\"], units)\n",
    "            t_max = date2num(temporal_limits[\"time_max\"], units)"
   ]
  },
  {
   "cell_type": "code",
   "execution_count": 51,
   "metadata": {},
   "outputs": [
    {
     "data": {
      "text/plain": [
       "datetime.datetime(1901, 12, 16, 0, 0)"
      ]
     },
     "execution_count": 51,
     "metadata": {},
     "output_type": "execute_result"
    }
   ],
   "source": [
    "num2date(714.0,units)"
   ]
  },
  {
   "cell_type": "code",
   "execution_count": 47,
   "metadata": {},
   "outputs": [
    {
     "data": {
      "text/plain": [
       "datetime.datetime(1901, 1, 16, 0, 0)"
      ]
     },
     "execution_count": 47,
     "metadata": {},
     "output_type": "execute_result"
    }
   ],
   "source": [
    "num2date(380.0,units)"
   ]
  },
  {
   "cell_type": "code",
   "execution_count": 50,
   "metadata": {},
   "outputs": [
    {
     "data": {
      "text/plain": [
       "array([380., 410., 439., 470., 500., 531., 561., 592., 623., 653., 684.,\n",
       "       714.], dtype=float32)"
      ]
     },
     "execution_count": 50,
     "metadata": {},
     "output_type": "execute_result"
    }
   ],
   "source": [
    "time[:12]"
   ]
  },
  {
   "cell_type": "code",
   "execution_count": 34,
   "metadata": {},
   "outputs": [
    {
     "data": {
      "text/plain": [
       "25901.0"
      ]
     },
     "execution_count": 34,
     "metadata": {},
     "output_type": "execute_result"
    }
   ],
   "source": [
    "t_max"
   ]
  },
  {
   "cell_type": "code",
   "execution_count": 35,
   "metadata": {},
   "outputs": [
    {
     "data": {
      "text/plain": [
       "(array([], dtype=int64),)"
      ]
     },
     "execution_count": 35,
     "metadata": {},
     "output_type": "execute_result"
    }
   ],
   "source": [
    "np.where(time == 18262)"
   ]
  },
  {
   "cell_type": "code",
   "execution_count": null,
   "metadata": {},
   "outputs": [],
   "source": [
    "\n",
    "        \n",
    "\n",
    "\n",
    "            if t_min in time and t_max in time:\n",
    "                t_min_Idx = np.where(time == t_min)[0][0]\n",
    "                t_max_Idx = np.where(time == t_max)[0][0]\n",
    "                if t_min_Idx < t_max_Idx:\n",
    "                    self._time = time[t_min_Idx:t_max_Idx+1]\n",
    "                else:\n",
    "                    raise IndexError('time_min is not less than time_max')\n",
    "            else:\n",
    "                raise IndexError('time_min or time_max is not in Index')\n",
    "        else:\n",
    "            t_min_Idx = 0 \n",
    "            t_max_Idx = len(time)-1\n",
    "        \n",
    "        time = time[t_min_Idx:t_max_Idx+1]\n",
    "        self._time = time\n",
    "        self._date = num2date(time, units)"
   ]
  },
  {
   "cell_type": "code",
   "execution_count": 41,
   "metadata": {},
   "outputs": [
    {
     "data": {
      "text/plain": [
       "380.0"
      ]
     },
     "execution_count": 41,
     "metadata": {},
     "output_type": "execute_result"
    }
   ],
   "source": [
    "time[0]"
   ]
  },
  {
   "cell_type": "code",
   "execution_count": null,
   "metadata": {},
   "outputs": [],
   "source": []
  },
  {
   "cell_type": "code",
   "execution_count": null,
   "metadata": {},
   "outputs": [],
   "source": []
  },
  {
   "cell_type": "code",
   "execution_count": null,
   "metadata": {},
   "outputs": [],
   "source": []
  },
  {
   "cell_type": "code",
   "execution_count": null,
   "metadata": {},
   "outputs": [],
   "source": []
  },
  {
   "cell_type": "code",
   "execution_count": null,
   "metadata": {},
   "outputs": [],
   "source": []
  },
  {
   "cell_type": "code",
   "execution_count": null,
   "metadata": {},
   "outputs": [],
   "source": []
  },
  {
   "cell_type": "code",
   "execution_count": null,
   "metadata": {},
   "outputs": [],
   "source": []
  },
  {
   "cell_type": "code",
   "execution_count": null,
   "metadata": {},
   "outputs": [],
   "source": []
  },
  {
   "cell_type": "code",
   "execution_count": null,
   "metadata": {},
   "outputs": [],
   "source": []
  }
 ],
 "metadata": {
  "kernelspec": {
   "display_name": "Python 3",
   "language": "python",
   "name": "python3"
  },
  "language_info": {
   "codemirror_mode": {
    "name": "ipython",
    "version": 3
   },
   "file_extension": ".py",
   "mimetype": "text/x-python",
   "name": "python",
   "nbconvert_exporter": "python",
   "pygments_lexer": "ipython3",
   "version": "3.6.9"
  }
 },
 "nbformat": 4,
 "nbformat_minor": 2
}
