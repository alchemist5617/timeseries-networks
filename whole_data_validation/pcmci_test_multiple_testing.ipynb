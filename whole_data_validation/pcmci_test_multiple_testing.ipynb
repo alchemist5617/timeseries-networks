{
 "cells": [
  {
   "cell_type": "code",
   "execution_count": 3,
   "metadata": {},
   "outputs": [],
   "source": [
    "import matplotlib.pyplot as plt\n",
    "import numpy as np\n",
    "import math\n",
    "import pandas as pd\n",
    "import random\n",
    "\n",
    "from scipy import eye, asarray, dot, sum, diag\n",
    "from scipy.linalg import svd\n",
    "from mpl_toolkits.basemap import Basemap\n",
    "import matplotlib as mpl\n",
    "from matplotlib import cm\n",
    "from colorspacious import cspace_converter\n",
    "from collections import OrderedDict\n",
    "from netCDF4 import Dataset\n",
    "from numpy import linspace\n",
    "from numpy import meshgrid\n",
    "\n",
    "\n",
    "import PCA_functions as pf\n",
    "import Extreme_functions as ef\n",
    "\n",
    "from tigramite import plotting as tp\n",
    "from tigramite.pcmci import PCMCI\n",
    "from tigramite.independence_tests import ParCorr, CMIknn\n",
    "import tigramite.data_processing as pp\n",
    "\n",
    "from Data import Data\n",
    "from datetime import datetime\n",
    "\n",
    "from sklearn.ensemble import RandomForestRegressor\n",
    "from sklearn.metrics import mean_squared_error\n",
    "\n",
    "import itertools\n",
    "from collections import Counter\n",
    "import pickle\n",
    "\n",
    "from numpy import linalg as LA\n",
    "\n",
    "import matplotlib.cm as cm\n",
    "\n",
    "from scipy.special import inv_boxcox\n",
    "from scipy import stats\n",
    "\n",
    "from matplotlib import animation\n",
    "\n",
    "import scipy.stats as st\n",
    "\n",
    "import reverse_geocoder as rg\n",
    "\n",
    "from pandas_datareader import wb\n",
    "import scipy.stats as st\n",
    "\n",
    "import Rung as rung\n",
    "\n",
    "from pandas_datareader import wb\n",
    "\n",
    "import seaborn as sns\n",
    "\n",
    "\n",
    "import seaborn as sns\n",
    "import feature_finder_keiko as ff\n",
    "#import feature_finder_f as ff1\n",
    "\n",
    "from scipy import signal\n",
    "\n",
    "plt.rcParams[\"figure.figsize\"] = (20,10)"
   ]
  },
  {
   "cell_type": "code",
   "execution_count": 4,
   "metadata": {},
   "outputs": [],
   "source": [
    "train_start = 2000\n",
    "validation_end = 2010\n",
    "f = 12\n",
    "n_components_sst = 8\n",
    "tau =12"
   ]
  },
  {
   "cell_type": "code",
   "execution_count": 5,
   "metadata": {},
   "outputs": [],
   "source": [
    "temporal_limits = {\"time_min\":datetime(train_start, 1, 1, 0, 0),\"time_max\":datetime(validation_end, 12, 1, 0, 0)}\n",
    "#original_count, count = ff.drought_timeseries(\"../ET_gamma_18912015.npy\",train_start[ijz],validation_end[ijz])\n",
    "#data_sst, ts, V, df_sst, avg, std = ff.PCA_computer_rotated('../../../nc/sst.mnmean.nc', \"sst\",temporal_limits, n_components_sst, -9.96921e+36)"
   ]
  },
  {
   "cell_type": "code",
   "execution_count": 6,
   "metadata": {},
   "outputs": [],
   "source": [
    "sst = Data('../../../nc/sst.mnmean.nc',\"sst\",temporal_limits, missing_value= -9.96921e+36)\n",
    "\n",
    "result = sst.get_data()\n",
    "lon_sst_list = sst.get_lon_list()\n",
    "lat_sst_list = sst.get_lat_list()\n",
    "lon_sst = sst.get_lon()\n",
    "lat_sst = sst.get_lat()\n",
    "\n",
    "result_sst, avgs, stds = pf.deseasonalize_avg_std(np.array(result))\n",
    "result_sst = signal.detrend(result_sst, axis=0)\n",
    "weights = np.sqrt(np.abs(np.cos(np.array(lat_sst_list)* math.pi/180)))\n",
    "for i in range(len(weights)):\n",
    "    result_sst[:,i] = weights[i] * result_sst[:,i]\n",
    "\n",
    "data_sst = pd.DataFrame(result_sst)\n",
    "\n",
    "V, U, S, ts, eig, explained, max_comps = rung.pca_svd(data_sst,truncate_by='max_comps', max_comps=n_components_sst)\n",
    "\n",
    "\n",
    "Vr, Rot = rung.varimax(V)\n",
    "Vr = rung.svd_flip(Vr)\n",
    "\n",
    "# Get explained variance of rotated components\n",
    "s2 = np.diag(S)**2 / (ts.shape[0] - 1.)\n",
    "\n",
    "# matrix with diagonal containing variances of rotated components\n",
    "S2r = np.dot(np.dot(np.transpose(Rot), np.matrix(np.diag(s2))), Rot)\n",
    "expvar = np.diag(S2r)\n",
    "\n",
    "sorted_expvar = np.sort(expvar)[::-1]\n",
    "# s_orig = ((Vt.shape[1] - 1) * s2) ** 0.5\n",
    "\n",
    "# reorder all elements according to explained variance (descending)\n",
    "nord = np.argsort(expvar)[::-1]\n",
    "Vr = Vr[:, nord]\n",
    "\n",
    "# Get time series of UNMASKED data\n",
    "comps_ts = np.matmul(np.array(data_sst),Vr)\n",
    "\n",
    "df_sst = pd.DataFrame({\"lons\":lon_sst_list,\"lats\":lat_sst_list})\n",
    "\n",
    "lon_temp = df_sst[\"lons\"].values\n",
    "lon_temp[lon_temp > 180] = lon_temp[lon_temp > 180] -360\n",
    "df_sst[\"lons\"].vlues = lon_temp"
   ]
  },
  {
   "cell_type": "code",
   "execution_count": 7,
   "metadata": {},
   "outputs": [],
   "source": [
    "ts = np.array(ts)"
   ]
  },
  {
   "cell_type": "code",
   "execution_count": 8,
   "metadata": {},
   "outputs": [],
   "source": [
    "dataframe = pp.DataFrame(ts)\n",
    "cond_ind_test = ParCorr()\n",
    "pcmci = PCMCI(dataframe=dataframe, cond_ind_test=cond_ind_test)"
   ]
  },
  {
   "cell_type": "code",
   "execution_count": 9,
   "metadata": {},
   "outputs": [],
   "source": [
    "results = pcmci.run_pcmci(tau_min=1, tau_max=3, pc_alpha=None)"
   ]
  },
  {
   "cell_type": "code",
   "execution_count": 10,
   "metadata": {
    "scrolled": true
   },
   "outputs": [
    {
     "name": "stdout",
     "output_type": "stream",
     "text": [
      "\n",
      "## Significant links at alpha = 0.05:\n",
      "\n",
      "    Variable 0 has 3 link(s):\n",
      "        (0 -1): pval = 0.00000 | val = 0.737\n",
      "        (4 -1): pval = 0.02949 | val = -0.200\n",
      "        (7 -2): pval = 0.03777 | val = -0.192\n",
      "\n",
      "    Variable 1 has 5 link(s):\n",
      "        (1 -1): pval = 0.00000 | val = 0.758\n",
      "        (1 -2): pval = 0.00067 | val = -0.307\n",
      "        (1 -3): pval = 0.00113 | val = 0.296\n",
      "        (4 -1): pval = 0.02756 | val = 0.201\n",
      "        (0 -1): pval = 0.04654 | val = 0.185\n",
      "\n",
      "    Variable 2 has 3 link(s):\n",
      "        (2 -1): pval = 0.00000 | val = 0.816\n",
      "        (2 -2): pval = 0.00096 | val = -0.294\n",
      "        (0 -2): pval = 0.02702 | val = -0.204\n",
      "\n",
      "    Variable 3 has 1 link(s):\n",
      "        (3 -1): pval = 0.00000 | val = 0.690\n",
      "\n",
      "    Variable 4 has 3 link(s):\n",
      "        (4 -1): pval = 0.00000 | val = 0.733\n",
      "        (6 -2): pval = 0.00916 | val = 0.236\n",
      "        (2 -1): pval = 0.03961 | val = 0.187\n",
      "\n",
      "    Variable 5 has 1 link(s):\n",
      "        (5 -1): pval = 0.00000 | val = 0.741\n",
      "\n",
      "    Variable 6 has 2 link(s):\n",
      "        (6 -1): pval = 0.00000 | val = 0.715\n",
      "        (0 -2): pval = 0.04372 | val = -0.187\n",
      "\n",
      "    Variable 7 has 4 link(s):\n",
      "        (7 -1): pval = 0.00000 | val = 0.773\n",
      "        (7 -2): pval = 0.00096 | val = -0.296\n",
      "        (0 -2): pval = 0.04176 | val = 0.189\n",
      "        (3 -3): pval = 0.04963 | val = 0.182\n"
     ]
    }
   ],
   "source": [
    "pcmci.print_significant_links(p_matrix=results['p_matrix'],\n",
    "                                     val_matrix=results['val_matrix'],\n",
    "                                     alpha_level=0.05)"
   ]
  },
  {
   "cell_type": "code",
   "execution_count": 28,
   "metadata": {},
   "outputs": [],
   "source": [
    "    pq_matrix = results['p_matrix']\n",
    "    val_matrix = results['val_matrix']"
   ]
  },
  {
   "cell_type": "code",
   "execution_count": 30,
   "metadata": {},
   "outputs": [
    {
     "data": {
      "text/plain": [
       "(8, 8, 4)"
      ]
     },
     "execution_count": 30,
     "metadata": {},
     "output_type": "execute_result"
    }
   ],
   "source": [
    "pq_matrix.shape"
   ]
  },
  {
   "cell_type": "code",
   "execution_count": 32,
   "metadata": {},
   "outputs": [
    {
     "data": {
      "text/plain": [
       "(8, 8, 4)"
      ]
     },
     "execution_count": 32,
     "metadata": {},
     "output_type": "execute_result"
    }
   ],
   "source": [
    "val_matrix.shape"
   ]
  },
  {
   "cell_type": "code",
   "execution_count": 40,
   "metadata": {},
   "outputs": [],
   "source": [
    "alpha_level = 0.05"
   ]
  },
  {
   "cell_type": "code",
   "execution_count": 41,
   "metadata": {},
   "outputs": [],
   "source": [
    "    N = pq_matrix.shape[0]\n",
    "\n",
    "    link_dict = dict()\n",
    "    for j in range(N):\n",
    "        # Get the good links\n",
    "        good_links = np.argwhere(pq_matrix[:, j, 1:] <= alpha_level)\n",
    "        # Build a dictionary from these links to their values\n",
    "        links = {(i, -tau - 1): np.abs(val_matrix[i, j, abs(tau) + 1])\n",
    "                 for i, tau in good_links}\n",
    "        # Sort by value\n",
    "        link_dict[j] = sorted(links, key=links.get, reverse=True)\n",
    "        \n",
    "    link = np.array(link_dict[0])\n",
    "    link = link[link[:,0] != 0,:]"
   ]
  },
  {
   "cell_type": "code",
   "execution_count": 42,
   "metadata": {},
   "outputs": [
    {
     "data": {
      "text/plain": [
       "array([[ 4, -1],\n",
       "       [ 7, -2]])"
      ]
     },
     "execution_count": 42,
     "metadata": {},
     "output_type": "execute_result"
    }
   ],
   "source": [
    "link"
   ]
  },
  {
   "cell_type": "code",
   "execution_count": 18,
   "metadata": {},
   "outputs": [],
   "source": [
    "alpha_level = 0.05\n",
    "pq_matrix = results['p_matrix']\n",
    "val_matrix = results['val_matrix']"
   ]
  },
  {
   "cell_type": "code",
   "execution_count": 19,
   "metadata": {},
   "outputs": [],
   "source": [
    "q_matrix = pcmci.get_corrected_pvalues(p_matrix=results['p_matrix'], fdr_method='fdr_bh')\n",
    "N = q_matrix.shape[0]\n",
    "link_dict = dict()\n",
    "for j in range(N):\n",
    "    # Get the good links\n",
    "    good_links = np.argwhere(q_matrix[:, j, 1:] <= alpha_level)\n",
    "    # Build a dictionary from these links to their values\n",
    "    links = {(i, -tau - 1): np.abs(val_matrix[i, j, abs(tau) + 1])\n",
    "             for i, tau in good_links}\n",
    "    # Sort by value\n",
    "    link_dict[j] = sorted(links, key=links.get, reverse=True)\n",
    "\n",
    "link = np.array(link_dict[0])\n",
    "link = link[link[:,0] != 0,:]"
   ]
  },
  {
   "cell_type": "code",
   "execution_count": 20,
   "metadata": {},
   "outputs": [
    {
     "data": {
      "text/plain": [
       "array([], shape=(0, 2), dtype=int64)"
      ]
     },
     "execution_count": 20,
     "metadata": {},
     "output_type": "execute_result"
    }
   ],
   "source": [
    "link"
   ]
  },
  {
   "cell_type": "code",
   "execution_count": null,
   "metadata": {},
   "outputs": [],
   "source": []
  },
  {
   "cell_type": "code",
   "execution_count": null,
   "metadata": {},
   "outputs": [],
   "source": []
  },
  {
   "cell_type": "code",
   "execution_count": null,
   "metadata": {},
   "outputs": [],
   "source": []
  },
  {
   "cell_type": "code",
   "execution_count": 11,
   "metadata": {},
   "outputs": [],
   "source": [
    "q_matrix = pcmci.get_corrected_pvalues(p_matrix=results['p_matrix'], fdr_method='fdr_bh')"
   ]
  },
  {
   "cell_type": "code",
   "execution_count": 13,
   "metadata": {},
   "outputs": [
    {
     "name": "stdout",
     "output_type": "stream",
     "text": [
      "\n",
      "## Significant links at alpha = 0.01:\n",
      "\n",
      "    Variable 0 has 1 link(s):\n",
      "        (0 -1): pval = 0.00000 | qval = 0.00000 | val = 0.737\n",
      "\n",
      "    Variable 1 has 1 link(s):\n",
      "        (1 -1): pval = 0.00000 | qval = 0.00000 | val = 0.758\n",
      "\n",
      "    Variable 2 has 1 link(s):\n",
      "        (2 -1): pval = 0.00000 | qval = 0.00000 | val = 0.816\n",
      "\n",
      "    Variable 3 has 1 link(s):\n",
      "        (3 -1): pval = 0.00000 | qval = 0.00000 | val = 0.690\n",
      "\n",
      "    Variable 4 has 1 link(s):\n",
      "        (4 -1): pval = 0.00000 | qval = 0.00000 | val = 0.733\n",
      "\n",
      "    Variable 5 has 1 link(s):\n",
      "        (5 -1): pval = 0.00000 | qval = 0.00000 | val = 0.741\n",
      "\n",
      "    Variable 6 has 1 link(s):\n",
      "        (6 -1): pval = 0.00000 | qval = 0.00000 | val = 0.715\n",
      "\n",
      "    Variable 7 has 1 link(s):\n",
      "        (7 -1): pval = 0.00000 | qval = 0.00000 | val = 0.773\n"
     ]
    }
   ],
   "source": [
    "pcmci.print_significant_links(\n",
    "        p_matrix = results['p_matrix'], \n",
    "        q_matrix = q_matrix,\n",
    "        val_matrix = results['val_matrix'],\n",
    "        alpha_level = 0.01)"
   ]
  },
  {
   "cell_type": "code",
   "execution_count": null,
   "metadata": {},
   "outputs": [],
   "source": []
  },
  {
   "cell_type": "code",
   "execution_count": 27,
   "metadata": {},
   "outputs": [
    {
     "name": "stdout",
     "output_type": "stream",
     "text": [
      "\n",
      "## Significant links at alpha = 0.05:\n",
      "\n",
      "    Variable 0 has 1 link(s):\n",
      "        (0 -1): pval = 0.00000 | qval = 0.00000 | val = 0.737\n",
      "\n",
      "    Variable 1 has 3 link(s):\n",
      "        (1 -1): pval = 0.00000 | qval = 0.00000 | val = 0.758\n",
      "        (1 -2): pval = 0.00067 | qval = 0.01431 | val = -0.307\n",
      "        (1 -3): pval = 0.00113 | qval = 0.01811 | val = 0.296\n",
      "\n",
      "    Variable 2 has 2 link(s):\n",
      "        (2 -1): pval = 0.00000 | qval = 0.00000 | val = 0.816\n",
      "        (2 -2): pval = 0.00096 | qval = 0.01677 | val = -0.294\n",
      "\n",
      "    Variable 3 has 1 link(s):\n",
      "        (3 -1): pval = 0.00000 | qval = 0.00000 | val = 0.690\n",
      "\n",
      "    Variable 4 has 1 link(s):\n",
      "        (4 -1): pval = 0.00000 | qval = 0.00000 | val = 0.733\n",
      "\n",
      "    Variable 5 has 1 link(s):\n",
      "        (5 -1): pval = 0.00000 | qval = 0.00000 | val = 0.741\n",
      "\n",
      "    Variable 6 has 1 link(s):\n",
      "        (6 -1): pval = 0.00000 | qval = 0.00000 | val = 0.715\n",
      "\n",
      "    Variable 7 has 2 link(s):\n",
      "        (7 -1): pval = 0.00000 | qval = 0.00000 | val = 0.773\n",
      "        (7 -2): pval = 0.00096 | qval = 0.01677 | val = -0.296\n"
     ]
    }
   ],
   "source": [
    "pcmci.print_significant_links(\n",
    "        p_matrix = results['p_matrix'], \n",
    "        q_matrix = q_matrix,\n",
    "        val_matrix = results['val_matrix'],\n",
    "        alpha_level = 0.05)"
   ]
  },
  {
   "cell_type": "code",
   "execution_count": 50,
   "metadata": {},
   "outputs": [],
   "source": [
    "    N = q_matrix.shape[0]\n",
    "\n",
    "    link_dict = dict()\n",
    "    for j in range(N):\n",
    "        # Get the good links\n",
    "        good_links = np.argwhere(q_matrix[:, j, 1:] <= alpha_level)\n",
    "        # Build a dictionary from these links to their values\n",
    "        links = {(i, -tau - 1): np.abs(val_matrix[i, j, abs(tau) + 1])\n",
    "                 for i, tau in good_links}\n",
    "        # Sort by value\n",
    "        link_dict[j] = sorted(links, key=links.get, reverse=True)\n",
    "        \n",
    "    link = np.array(link_dict[7])\n",
    "    #link = link[link[:,0] != 0,:]"
   ]
  },
  {
   "cell_type": "code",
   "execution_count": 51,
   "metadata": {},
   "outputs": [
    {
     "data": {
      "text/plain": [
       "array([[ 7, -1],\n",
       "       [ 7, -2]])"
      ]
     },
     "execution_count": 51,
     "metadata": {},
     "output_type": "execute_result"
    }
   ],
   "source": [
    "link"
   ]
  },
  {
   "cell_type": "code",
   "execution_count": null,
   "metadata": {},
   "outputs": [],
   "source": []
  }
 ],
 "metadata": {
  "kernelspec": {
   "display_name": "Python 3",
   "language": "python",
   "name": "python3"
  },
  "language_info": {
   "codemirror_mode": {
    "name": "ipython",
    "version": 3
   },
   "file_extension": ".py",
   "mimetype": "text/x-python",
   "name": "python",
   "nbconvert_exporter": "python",
   "pygments_lexer": "ipython3",
   "version": "3.6.9"
  }
 },
 "nbformat": 4,
 "nbformat_minor": 2
}
