{
 "cells": [
  {
   "cell_type": "code",
   "execution_count": 26,
   "metadata": {},
   "outputs": [],
   "source": [
    "import matplotlib.pyplot as plt\n",
    "import numpy as np\n",
    "import math\n",
    "import pandas as pd\n",
    "import random\n",
    "\n",
    "from scipy import eye, asarray, dot, sum, diag\n",
    "from scipy.linalg import svd\n",
    "from mpl_toolkits.basemap import Basemap\n",
    "import matplotlib as mpl\n",
    "from matplotlib import cm\n",
    "from colorspacious import cspace_converter\n",
    "from collections import OrderedDict\n",
    "from netCDF4 import Dataset\n",
    "from numpy import linspace\n",
    "from numpy import meshgrid\n",
    "\n",
    "\n",
    "import PCA_functions as pf\n",
    "import Extreme_functions as ef\n",
    "\n",
    "from tigramite import plotting as tp\n",
    "from tigramite.pcmci import PCMCI\n",
    "from tigramite.independence_tests import ParCorr, CMIknn\n",
    "import tigramite.data_processing as pp\n",
    "\n",
    "from Data import Data\n",
    "from datetime import datetime\n",
    "\n",
    "from sklearn.ensemble import RandomForestRegressor\n",
    "from sklearn.metrics import mean_squared_error\n",
    "\n",
    "import itertools\n",
    "from collections import Counter\n",
    "import pickle\n",
    "\n",
    "from numpy import linalg as LA\n",
    "\n",
    "import matplotlib.cm as cm\n",
    "\n",
    "from scipy.special import inv_boxcox\n",
    "from scipy import stats\n",
    "\n",
    "from matplotlib import animation\n",
    "\n",
    "import scipy.stats as st\n",
    "\n",
    "import reverse_geocoder as rg\n",
    "\n",
    "from pandas_datareader import wb\n",
    "import scipy.stats as st\n",
    "\n",
    "import Rung as rung\n",
    "\n",
    "from pandas_datareader import wb\n",
    "\n",
    "import seaborn as sns\n",
    "\n",
    "\n",
    "import seaborn as sns\n",
    "import feature_finder_keiko as ff\n",
    "import feature_finder_f as ff1\n",
    "\n",
    "from scipy import signal\n",
    "\n",
    "plt.rcParams[\"figure.figsize\"] = (20,10)"
   ]
  },
  {
   "cell_type": "code",
   "execution_count": 27,
   "metadata": {},
   "outputs": [],
   "source": [
    "def timeseries_enso(file_name, start_year = 1950, end_year=2015, base_year = 1950):\n",
    "    start_index = (start_year - base_year) * 12   \n",
    "    end_index = start_index + (end_year - (start_year - 1))*12\n",
    "    data = np.load(file_name)\n",
    "    return(data[start_index:end_index])"
   ]
  },
  {
   "cell_type": "code",
   "execution_count": 28,
   "metadata": {},
   "outputs": [],
   "source": [
    "nino = np.load('nino.npy')\n",
    "oni = np.load('oni.npy')"
   ]
  },
  {
   "cell_type": "code",
   "execution_count": 30,
   "metadata": {},
   "outputs": [],
   "source": [
    "nino = ff.timeseries_enso('nino.npy', start_year = 1950, end_year=1951)"
   ]
  },
  {
   "cell_type": "code",
   "execution_count": 6,
   "metadata": {},
   "outputs": [],
   "source": [
    "step = 1\n",
    "train_start = np.arange(1950,1977,step)\n",
    "#train_end = np.arange(1955,2006,step)\n",
    "validation_end = np.arange(1984,2011,step)\n",
    "test_start = np.arange(1985,2012,step)\n",
    "test_end = np.arange(1989,2016,step)"
   ]
  },
  {
   "cell_type": "code",
   "execution_count": 12,
   "metadata": {},
   "outputs": [],
   "source": [
    "f =12"
   ]
  },
  {
   "cell_type": "code",
   "execution_count": 11,
   "metadata": {},
   "outputs": [],
   "source": [
    "train_start = 1976\n",
    "validation_end = 2010\n",
    "test_start = 2011\n",
    "test_end = 2015\n",
    "tau = 12\n",
    "ratio = 0.8\n",
    "n_estimators=100\n",
    "max_depth=5"
   ]
  },
  {
   "cell_type": "code",
   "execution_count": null,
   "metadata": {},
   "outputs": [],
   "source": []
  },
  {
   "cell_type": "code",
   "execution_count": null,
   "metadata": {},
   "outputs": [],
   "source": []
  },
  {
   "cell_type": "code",
   "execution_count": 2,
   "metadata": {},
   "outputs": [],
   "source": [
    "step = 1\n",
    "train_start = np.arange(1948,1977,step)\n",
    "#train_end = np.arange(1955,2006,step)\n",
    "validation_end = np.arange(1982,2011,step)\n",
    "test_start = np.arange(1983,2012,step)\n",
    "test_end = np.arange(1987,2016,step)\n",
    "\n",
    "f = 12\n",
    "taus = np.arange(1,13,1)\n",
    "cc = 'ET'"
   ]
  },
  {
   "cell_type": "code",
   "execution_count": 8,
   "metadata": {},
   "outputs": [],
   "source": [
    "tau = 1"
   ]
  },
  {
   "cell_type": "code",
   "execution_count": 6,
   "metadata": {},
   "outputs": [
    {
     "name": "stdout",
     "output_type": "stream",
     "text": [
      "1\n"
     ]
    },
    {
     "ename": "ValueError",
     "evalue": "Found array with 0 sample(s) (shape=(0, 13)) while a minimum of 1 is required.",
     "output_type": "error",
     "traceback": [
      "\u001b[0;31m---------------------------------------------------------------------------\u001b[0m",
      "\u001b[0;31mValueError\u001b[0m                                Traceback (most recent call last)",
      "\u001b[0;32m<ipython-input-6-94cc9f597404>\u001b[0m in \u001b[0;36m<module>\u001b[0;34m()\u001b[0m\n\u001b[1;32m      9\u001b[0m         \u001b[0menso\u001b[0m \u001b[0;34m=\u001b[0m \u001b[0mff\u001b[0m\u001b[0;34m.\u001b[0m\u001b[0mtimeseries_enso\u001b[0m\u001b[0;34m(\u001b[0m\u001b[0;34m'nino.npy'\u001b[0m\u001b[0;34m,\u001b[0m\u001b[0mtrain_start\u001b[0m\u001b[0;34m[\u001b[0m\u001b[0mijz\u001b[0m\u001b[0;34m]\u001b[0m\u001b[0;34m,\u001b[0m\u001b[0mvalidation_end\u001b[0m\u001b[0;34m[\u001b[0m\u001b[0mijz\u001b[0m\u001b[0;34m]\u001b[0m\u001b[0;34m)\u001b[0m\u001b[0;34m\u001b[0m\u001b[0;34m\u001b[0m\u001b[0m\n\u001b[1;32m     10\u001b[0m         \u001b[0mprint\u001b[0m\u001b[0;34m(\u001b[0m\u001b[0mtau\u001b[0m\u001b[0;34m)\u001b[0m\u001b[0;34m\u001b[0m\u001b[0;34m\u001b[0m\u001b[0m\n\u001b[0;32m---> 11\u001b[0;31m         \u001b[0mbest_link\u001b[0m\u001b[0;34m,\u001b[0m \u001b[0mbase_model\u001b[0m\u001b[0;34m,\u001b[0m \u001b[0mmodel\u001b[0m \u001b[0;34m=\u001b[0m \u001b[0mff\u001b[0m\u001b[0;34m.\u001b[0m\u001b[0mforward_feature_enso\u001b[0m\u001b[0;34m(\u001b[0m\u001b[0moriginal_count\u001b[0m\u001b[0;34m,\u001b[0m \u001b[0menso\u001b[0m\u001b[0;34m,\u001b[0m \u001b[0mtau\u001b[0m\u001b[0;34m=\u001b[0m\u001b[0mtau\u001b[0m\u001b[0;34m,\u001b[0m \u001b[0mratio\u001b[0m\u001b[0;34m=\u001b[0m\u001b[0;36m0.8\u001b[0m\u001b[0;34m)\u001b[0m\u001b[0;34m\u001b[0m\u001b[0;34m\u001b[0m\u001b[0m\n\u001b[0m\u001b[1;32m     12\u001b[0m         \u001b[0;31m#np.save(\"./best_link_enso/pcmci_{}_{}_{}_{}_{}.npy\".format(f,train_start[ijz],validation_end[ijz],tau,n_components_sst[ijz]), best_link)\u001b[0m\u001b[0;34m\u001b[0m\u001b[0;34m\u001b[0m\u001b[0;34m\u001b[0m\u001b[0m\n\u001b[1;32m     13\u001b[0m \u001b[0;34m\u001b[0m\u001b[0m\n",
      "\u001b[0;32m~/Files/Time_Series/Climate_Network/Causality/TimeSeries/notebooks/whole_data_validation/feature_finder_keiko.py\u001b[0m in \u001b[0;36mforward_feature_enso\u001b[0;34m(count, enso, tau, ratio, n_estimators, max_depth)\u001b[0m\n\u001b[1;32m   1321\u001b[0m         \u001b[0mmin_index\u001b[0m \u001b[0;34m=\u001b[0m \u001b[0;36m0\u001b[0m\u001b[0;34m\u001b[0m\u001b[0;34m\u001b[0m\u001b[0m\n\u001b[1;32m   1322\u001b[0m         \u001b[0;32mfor\u001b[0m \u001b[0mc\u001b[0m \u001b[0;32min\u001b[0m \u001b[0mfeatures\u001b[0m\u001b[0;34m.\u001b[0m\u001b[0mcolumns\u001b[0m\u001b[0;34m:\u001b[0m\u001b[0;34m\u001b[0m\u001b[0;34m\u001b[0m\u001b[0m\n\u001b[0;32m-> 1323\u001b[0;31m             \u001b[0mmse\u001b[0m \u001b[0;34m=\u001b[0m \u001b[0mfeature_score\u001b[0m\u001b[0;34m(\u001b[0m\u001b[0mbase\u001b[0m\u001b[0;34m,\u001b[0m \u001b[0mfeatures\u001b[0m\u001b[0;34m[\u001b[0m\u001b[0mc\u001b[0m\u001b[0;34m]\u001b[0m\u001b[0;34m)\u001b[0m\u001b[0;34m\u001b[0m\u001b[0;34m\u001b[0m\u001b[0m\n\u001b[0m\u001b[1;32m   1324\u001b[0m             \u001b[0;32mif\u001b[0m \u001b[0;34m(\u001b[0m\u001b[0mresult\u001b[0m\u001b[0;34m[\u001b[0m\u001b[0;34m-\u001b[0m\u001b[0;36m1\u001b[0m\u001b[0;34m]\u001b[0m \u001b[0;34m>\u001b[0m \u001b[0mmse\u001b[0m\u001b[0;34m)\u001b[0m \u001b[0;32mand\u001b[0m \u001b[0;34m(\u001b[0m\u001b[0mmin_mse\u001b[0m \u001b[0;34m>\u001b[0m \u001b[0mmse\u001b[0m\u001b[0;34m)\u001b[0m\u001b[0;34m:\u001b[0m\u001b[0;34m\u001b[0m\u001b[0;34m\u001b[0m\u001b[0m\n\u001b[1;32m   1325\u001b[0m                 \u001b[0mmin_mse\u001b[0m \u001b[0;34m=\u001b[0m \u001b[0mmse\u001b[0m\u001b[0;34m\u001b[0m\u001b[0;34m\u001b[0m\u001b[0m\n",
      "\u001b[0;32m~/Files/Time_Series/Climate_Network/Causality/TimeSeries/notebooks/whole_data_validation/feature_finder_keiko.py\u001b[0m in \u001b[0;36mfeature_score\u001b[0;34m(base, feature, ratio, n_estimators, max_depth)\u001b[0m\n\u001b[1;32m    453\u001b[0m     \u001b[0my_train\u001b[0m\u001b[0;34m,\u001b[0m \u001b[0my_test\u001b[0m \u001b[0;34m=\u001b[0m \u001b[0mdf\u001b[0m\u001b[0;34m.\u001b[0m\u001b[0miloc\u001b[0m\u001b[0;34m[\u001b[0m\u001b[0;34m:\u001b[0m\u001b[0mindex\u001b[0m\u001b[0;34m,\u001b[0m\u001b[0;36m0\u001b[0m\u001b[0;34m]\u001b[0m\u001b[0;34m,\u001b[0m \u001b[0mdf\u001b[0m\u001b[0;34m.\u001b[0m\u001b[0miloc\u001b[0m\u001b[0;34m[\u001b[0m\u001b[0mindex\u001b[0m\u001b[0;34m:\u001b[0m\u001b[0;34m,\u001b[0m\u001b[0;36m0\u001b[0m\u001b[0;34m]\u001b[0m\u001b[0;34m\u001b[0m\u001b[0;34m\u001b[0m\u001b[0m\n\u001b[1;32m    454\u001b[0m     \u001b[0mmodel\u001b[0m \u001b[0;34m=\u001b[0m \u001b[0mRandomForestRegressor\u001b[0m\u001b[0;34m(\u001b[0m\u001b[0mmax_depth\u001b[0m\u001b[0;34m=\u001b[0m\u001b[0mmax_depth\u001b[0m\u001b[0;34m,\u001b[0m \u001b[0mrandom_state\u001b[0m\u001b[0;34m=\u001b[0m\u001b[0;36m0\u001b[0m\u001b[0;34m,\u001b[0m \u001b[0mn_estimators\u001b[0m\u001b[0;34m=\u001b[0m\u001b[0mn_estimators\u001b[0m\u001b[0;34m)\u001b[0m\u001b[0;34m\u001b[0m\u001b[0;34m\u001b[0m\u001b[0m\n\u001b[0;32m--> 455\u001b[0;31m     \u001b[0mmodel\u001b[0m\u001b[0;34m.\u001b[0m\u001b[0mfit\u001b[0m\u001b[0;34m(\u001b[0m\u001b[0mx_train\u001b[0m\u001b[0;34m,\u001b[0m \u001b[0my_train\u001b[0m\u001b[0;34m)\u001b[0m\u001b[0;34m\u001b[0m\u001b[0;34m\u001b[0m\u001b[0m\n\u001b[0m\u001b[1;32m    456\u001b[0m     \u001b[0my_pred\u001b[0m \u001b[0;34m=\u001b[0m \u001b[0mmodel\u001b[0m\u001b[0;34m.\u001b[0m\u001b[0mpredict\u001b[0m\u001b[0;34m(\u001b[0m\u001b[0mx_test\u001b[0m\u001b[0;34m)\u001b[0m\u001b[0;34m\u001b[0m\u001b[0;34m\u001b[0m\u001b[0m\n\u001b[1;32m    457\u001b[0m     \u001b[0;32mreturn\u001b[0m\u001b[0;34m(\u001b[0m\u001b[0mmean_squared_error\u001b[0m\u001b[0;34m(\u001b[0m\u001b[0my_pred\u001b[0m\u001b[0;34m,\u001b[0m \u001b[0my_test\u001b[0m\u001b[0;34m)\u001b[0m\u001b[0;34m)\u001b[0m\u001b[0;34m\u001b[0m\u001b[0;34m\u001b[0m\u001b[0m\n",
      "\u001b[0;32m~/anaconda3/lib/python3.6/site-packages/sklearn/ensemble/_forest.py\u001b[0m in \u001b[0;36mfit\u001b[0;34m(self, X, y, sample_weight)\u001b[0m\n\u001b[1;32m    303\u001b[0m             )\n\u001b[1;32m    304\u001b[0m         X, y = self._validate_data(X, y, multi_output=True,\n\u001b[0;32m--> 305\u001b[0;31m                                    accept_sparse=\"csc\", dtype=DTYPE)\n\u001b[0m\u001b[1;32m    306\u001b[0m         \u001b[0;32mif\u001b[0m \u001b[0msample_weight\u001b[0m \u001b[0;32mis\u001b[0m \u001b[0;32mnot\u001b[0m \u001b[0;32mNone\u001b[0m\u001b[0;34m:\u001b[0m\u001b[0;34m\u001b[0m\u001b[0;34m\u001b[0m\u001b[0m\n\u001b[1;32m    307\u001b[0m             \u001b[0msample_weight\u001b[0m \u001b[0;34m=\u001b[0m \u001b[0m_check_sample_weight\u001b[0m\u001b[0;34m(\u001b[0m\u001b[0msample_weight\u001b[0m\u001b[0;34m,\u001b[0m \u001b[0mX\u001b[0m\u001b[0;34m)\u001b[0m\u001b[0;34m\u001b[0m\u001b[0;34m\u001b[0m\u001b[0m\n",
      "\u001b[0;32m~/anaconda3/lib/python3.6/site-packages/sklearn/base.py\u001b[0m in \u001b[0;36m_validate_data\u001b[0;34m(self, X, y, reset, validate_separately, **check_params)\u001b[0m\n\u001b[1;32m    431\u001b[0m                 \u001b[0my\u001b[0m \u001b[0;34m=\u001b[0m \u001b[0mcheck_array\u001b[0m\u001b[0;34m(\u001b[0m\u001b[0my\u001b[0m\u001b[0;34m,\u001b[0m \u001b[0;34m**\u001b[0m\u001b[0mcheck_y_params\u001b[0m\u001b[0;34m)\u001b[0m\u001b[0;34m\u001b[0m\u001b[0;34m\u001b[0m\u001b[0m\n\u001b[1;32m    432\u001b[0m             \u001b[0;32melse\u001b[0m\u001b[0;34m:\u001b[0m\u001b[0;34m\u001b[0m\u001b[0;34m\u001b[0m\u001b[0m\n\u001b[0;32m--> 433\u001b[0;31m                 \u001b[0mX\u001b[0m\u001b[0;34m,\u001b[0m \u001b[0my\u001b[0m \u001b[0;34m=\u001b[0m \u001b[0mcheck_X_y\u001b[0m\u001b[0;34m(\u001b[0m\u001b[0mX\u001b[0m\u001b[0;34m,\u001b[0m \u001b[0my\u001b[0m\u001b[0;34m,\u001b[0m \u001b[0;34m**\u001b[0m\u001b[0mcheck_params\u001b[0m\u001b[0;34m)\u001b[0m\u001b[0;34m\u001b[0m\u001b[0;34m\u001b[0m\u001b[0m\n\u001b[0m\u001b[1;32m    434\u001b[0m             \u001b[0mout\u001b[0m \u001b[0;34m=\u001b[0m \u001b[0mX\u001b[0m\u001b[0;34m,\u001b[0m \u001b[0my\u001b[0m\u001b[0;34m\u001b[0m\u001b[0;34m\u001b[0m\u001b[0m\n\u001b[1;32m    435\u001b[0m \u001b[0;34m\u001b[0m\u001b[0m\n",
      "\u001b[0;32m~/anaconda3/lib/python3.6/site-packages/sklearn/utils/validation.py\u001b[0m in \u001b[0;36minner_f\u001b[0;34m(*args, **kwargs)\u001b[0m\n\u001b[1;32m     61\u001b[0m             \u001b[0mextra_args\u001b[0m \u001b[0;34m=\u001b[0m \u001b[0mlen\u001b[0m\u001b[0;34m(\u001b[0m\u001b[0margs\u001b[0m\u001b[0;34m)\u001b[0m \u001b[0;34m-\u001b[0m \u001b[0mlen\u001b[0m\u001b[0;34m(\u001b[0m\u001b[0mall_args\u001b[0m\u001b[0;34m)\u001b[0m\u001b[0;34m\u001b[0m\u001b[0;34m\u001b[0m\u001b[0m\n\u001b[1;32m     62\u001b[0m             \u001b[0;32mif\u001b[0m \u001b[0mextra_args\u001b[0m \u001b[0;34m<=\u001b[0m \u001b[0;36m0\u001b[0m\u001b[0;34m:\u001b[0m\u001b[0;34m\u001b[0m\u001b[0;34m\u001b[0m\u001b[0m\n\u001b[0;32m---> 63\u001b[0;31m                 \u001b[0;32mreturn\u001b[0m \u001b[0mf\u001b[0m\u001b[0;34m(\u001b[0m\u001b[0;34m*\u001b[0m\u001b[0margs\u001b[0m\u001b[0;34m,\u001b[0m \u001b[0;34m**\u001b[0m\u001b[0mkwargs\u001b[0m\u001b[0;34m)\u001b[0m\u001b[0;34m\u001b[0m\u001b[0;34m\u001b[0m\u001b[0m\n\u001b[0m\u001b[1;32m     64\u001b[0m \u001b[0;34m\u001b[0m\u001b[0m\n\u001b[1;32m     65\u001b[0m             \u001b[0;31m# extra_args > 0\u001b[0m\u001b[0;34m\u001b[0m\u001b[0;34m\u001b[0m\u001b[0;34m\u001b[0m\u001b[0m\n",
      "\u001b[0;32m~/anaconda3/lib/python3.6/site-packages/sklearn/utils/validation.py\u001b[0m in \u001b[0;36mcheck_X_y\u001b[0;34m(X, y, accept_sparse, accept_large_sparse, dtype, order, copy, force_all_finite, ensure_2d, allow_nd, multi_output, ensure_min_samples, ensure_min_features, y_numeric, estimator)\u001b[0m\n\u001b[1;32m    876\u001b[0m                     \u001b[0mensure_min_samples\u001b[0m\u001b[0;34m=\u001b[0m\u001b[0mensure_min_samples\u001b[0m\u001b[0;34m,\u001b[0m\u001b[0;34m\u001b[0m\u001b[0;34m\u001b[0m\u001b[0m\n\u001b[1;32m    877\u001b[0m                     \u001b[0mensure_min_features\u001b[0m\u001b[0;34m=\u001b[0m\u001b[0mensure_min_features\u001b[0m\u001b[0;34m,\u001b[0m\u001b[0;34m\u001b[0m\u001b[0;34m\u001b[0m\u001b[0m\n\u001b[0;32m--> 878\u001b[0;31m                     estimator=estimator)\n\u001b[0m\u001b[1;32m    879\u001b[0m     \u001b[0;32mif\u001b[0m \u001b[0mmulti_output\u001b[0m\u001b[0;34m:\u001b[0m\u001b[0;34m\u001b[0m\u001b[0;34m\u001b[0m\u001b[0m\n\u001b[1;32m    880\u001b[0m         y = check_array(y, accept_sparse='csr', force_all_finite=True,\n",
      "\u001b[0;32m~/anaconda3/lib/python3.6/site-packages/sklearn/utils/validation.py\u001b[0m in \u001b[0;36minner_f\u001b[0;34m(*args, **kwargs)\u001b[0m\n\u001b[1;32m     61\u001b[0m             \u001b[0mextra_args\u001b[0m \u001b[0;34m=\u001b[0m \u001b[0mlen\u001b[0m\u001b[0;34m(\u001b[0m\u001b[0margs\u001b[0m\u001b[0;34m)\u001b[0m \u001b[0;34m-\u001b[0m \u001b[0mlen\u001b[0m\u001b[0;34m(\u001b[0m\u001b[0mall_args\u001b[0m\u001b[0;34m)\u001b[0m\u001b[0;34m\u001b[0m\u001b[0;34m\u001b[0m\u001b[0m\n\u001b[1;32m     62\u001b[0m             \u001b[0;32mif\u001b[0m \u001b[0mextra_args\u001b[0m \u001b[0;34m<=\u001b[0m \u001b[0;36m0\u001b[0m\u001b[0;34m:\u001b[0m\u001b[0;34m\u001b[0m\u001b[0;34m\u001b[0m\u001b[0m\n\u001b[0;32m---> 63\u001b[0;31m                 \u001b[0;32mreturn\u001b[0m \u001b[0mf\u001b[0m\u001b[0;34m(\u001b[0m\u001b[0;34m*\u001b[0m\u001b[0margs\u001b[0m\u001b[0;34m,\u001b[0m \u001b[0;34m**\u001b[0m\u001b[0mkwargs\u001b[0m\u001b[0;34m)\u001b[0m\u001b[0;34m\u001b[0m\u001b[0;34m\u001b[0m\u001b[0m\n\u001b[0m\u001b[1;32m     64\u001b[0m \u001b[0;34m\u001b[0m\u001b[0m\n\u001b[1;32m     65\u001b[0m             \u001b[0;31m# extra_args > 0\u001b[0m\u001b[0;34m\u001b[0m\u001b[0;34m\u001b[0m\u001b[0;34m\u001b[0m\u001b[0m\n",
      "\u001b[0;32m~/anaconda3/lib/python3.6/site-packages/sklearn/utils/validation.py\u001b[0m in \u001b[0;36mcheck_array\u001b[0;34m(array, accept_sparse, accept_large_sparse, dtype, order, copy, force_all_finite, ensure_2d, allow_nd, ensure_min_samples, ensure_min_features, estimator)\u001b[0m\n\u001b[1;32m    727\u001b[0m                              \u001b[0;34m\" minimum of %d is required%s.\"\u001b[0m\u001b[0;34m\u001b[0m\u001b[0;34m\u001b[0m\u001b[0m\n\u001b[1;32m    728\u001b[0m                              % (n_samples, array.shape, ensure_min_samples,\n\u001b[0;32m--> 729\u001b[0;31m                                 context))\n\u001b[0m\u001b[1;32m    730\u001b[0m \u001b[0;34m\u001b[0m\u001b[0m\n\u001b[1;32m    731\u001b[0m     \u001b[0;32mif\u001b[0m \u001b[0mensure_min_features\u001b[0m \u001b[0;34m>\u001b[0m \u001b[0;36m0\u001b[0m \u001b[0;32mand\u001b[0m \u001b[0marray\u001b[0m\u001b[0;34m.\u001b[0m\u001b[0mndim\u001b[0m \u001b[0;34m==\u001b[0m \u001b[0;36m2\u001b[0m\u001b[0;34m:\u001b[0m\u001b[0;34m\u001b[0m\u001b[0;34m\u001b[0m\u001b[0m\n",
      "\u001b[0;31mValueError\u001b[0m: Found array with 0 sample(s) (shape=(0, 13)) while a minimum of 1 is required."
     ]
    }
   ],
   "source": [
    "for tau in taus:\n",
    "    base_result = []\n",
    "    model_results= []\n",
    "    base_p = []\n",
    "    model_p = []\n",
    "    for ijz in range(len(train_start)):\n",
    "        temporal_limits = {\"time_min\":datetime(train_start[ijz], 1, 1, 0, 0),\"time_max\":datetime(validation_end[ijz], 12, 1, 0, 0)}\n",
    "        original_count, count = ff.drought_timeseries(\"{}_gamma_18912015_{}.npy\".format(cc,f),train_start[ijz],validation_end[ijz])\n",
    "        enso = ff.timeseries_enso('nino.npy',train_start[ijz],validation_end[ijz])\n",
    "        print(tau)\n",
    "        best_link, base_model, model = ff.forward_feature_enso(original_count, enso, tau=tau, ratio=0.8)\n",
    "        #np.save(\"./best_link_enso/pcmci_{}_{}_{}_{}_{}.npy\".format(f,train_start[ijz],validation_end[ijz],tau,n_components_sst[ijz]), best_link)\n",
    "\n"
   ]
  },
  {
   "cell_type": "code",
   "execution_count": 2,
   "metadata": {},
   "outputs": [],
   "source": [
    "train_start = 1948"
   ]
  },
  {
   "cell_type": "code",
   "execution_count": 3,
   "metadata": {},
   "outputs": [],
   "source": [
    "validation_end = 1982"
   ]
  },
  {
   "cell_type": "code",
   "execution_count": 4,
   "metadata": {},
   "outputs": [],
   "source": [
    "tau = 1"
   ]
  },
  {
   "cell_type": "code",
   "execution_count": null,
   "metadata": {},
   "outputs": [],
   "source": []
  },
  {
   "cell_type": "code",
   "execution_count": null,
   "metadata": {},
   "outputs": [],
   "source": []
  },
  {
   "cell_type": "code",
   "execution_count": 10,
   "metadata": {},
   "outputs": [],
   "source": [
    "def timeseries_enso(file_name, start_year = 1948, end_year=2015, base_year = 1948):\n",
    "    start_index = (start_year - base_year) * 12   \n",
    "    end_index = start_index + (end_year - (start_year - 1))*12\n",
    "    data = np.load(file_name)\n",
    "    return(data[start_index:end_index])"
   ]
  },
  {
   "cell_type": "code",
   "execution_count": null,
   "metadata": {},
   "outputs": [],
   "source": []
  },
  {
   "cell_type": "code",
   "execution_count": null,
   "metadata": {},
   "outputs": [],
   "source": []
  },
  {
   "cell_type": "code",
   "execution_count": 31,
   "metadata": {},
   "outputs": [],
   "source": [
    "temporal_limits = {\"time_min\":datetime(train_start, 1, 1, 0, 0),\"time_max\":datetime(validation_end, 12, 1, 0, 0)}\n",
    "count, _ = ff.drought_timeseries(\"ET_gamma_18912015_12.npy\",train_start,validation_end)\n",
    "enso = timeseries_enso('nino.npy',train_start,validation_end)"
   ]
  },
  {
   "cell_type": "code",
   "execution_count": 32,
   "metadata": {},
   "outputs": [
    {
     "data": {
      "text/plain": [
       "array([26.63, 27.13, 27.89, 28.02, 28.17, 27.75, 27.16, 26.85, 26.73,\n",
       "       26.06, 26.35, 26.96, 26.12, 27.02, 26.7 , 27.96, 27.79, 26.97,\n",
       "       26.84, 26.56, 26.1 , 26.01, 25.33, 25.39, 25.53, 25.26, 26.18,\n",
       "       26.86, 26.56, 26.82, 26.14, 26.24, 25.65, 25.9 , 25.27, 25.55,\n",
       "       25.45, 26.02, 26.48, 27.6 , 27.77, 27.6 , 27.88, 27.77, 27.42,\n",
       "       27.52, 27.44, 27.3 , 26.97, 27.  , 27.3 , 28.18, 27.48, 27.03,\n",
       "       26.63, 26.45, 26.4 , 26.7 , 26.33, 26.04, 26.94, 27.  , 27.48,\n",
       "       28.54, 28.21, 28.1 , 27.42, 26.91, 27.42, 26.84, 26.96, 26.74,\n",
       "       26.97, 26.98, 27.27, 27.45, 27.34, 26.88, 26.2 , 25.8 , 25.72,\n",
       "       25.82, 25.49, 25.79, 25.92, 25.98, 26.46, 26.82, 26.64, 26.49,\n",
       "       25.91, 25.96, 25.42, 25.14, 24.75, 25.07, 25.35, 25.79, 26.32,\n",
       "       26.99, 27.28, 26.85, 26.28, 26.06, 25.84, 26.04, 25.64, 26.01,\n",
       "       26.02, 26.52, 27.34, 28.19, 28.31, 28.22, 27.91, 27.66, 27.28,\n",
       "       27.48, 27.74, 27.76, 28.12, 28.16, 28.25, 28.08, 28.19, 27.99,\n",
       "       27.26, 27.12, 26.44, 26.7 , 26.71, 26.89, 27.01, 27.26, 27.52,\n",
       "       28.04, 27.85, 27.36, 26.95, 26.47, 26.22, 26.84, 26.48, 26.54,\n",
       "       26.6 , 26.52, 27.17, 27.78, 27.92, 27.48, 26.98, 26.87, 26.79,\n",
       "       26.67, 26.27, 26.6 , 26.43, 26.8 , 27.16, 27.9 , 27.86, 27.79,\n",
       "       26.9 , 26.62, 26.23, 26.02, 26.46, 26.3 , 26.33, 26.6 , 26.85,\n",
       "       27.45, 27.45, 27.47, 26.92, 26.74, 26.19, 26.41, 26.22, 26.09,\n",
       "       26.26, 26.5 , 27.2 , 27.71, 27.86, 27.81, 27.95, 27.78, 27.4 ,\n",
       "       27.57, 27.4 , 27.63, 27.33, 27.31, 27.1 , 27.24, 27.13, 26.81,\n",
       "       26.58, 26.11, 25.82, 25.73, 25.55, 25.52, 26.01, 26.41, 26.92,\n",
       "       27.68, 28.05, 28.14, 28.03, 28.12, 28.01, 28.34, 28.2 , 28.04,\n",
       "       27.71, 27.59, 28.08, 28.31, 27.81, 27.82, 27.45, 26.77, 26.7 ,\n",
       "       26.69, 26.28, 26.32, 26.02, 26.2 , 26.79, 27.24, 27.63, 27.56,\n",
       "       27.12, 26.57, 26.17, 26.35, 26.32, 26.24, 25.98, 26.02, 26.5 ,\n",
       "       27.3 , 27.43, 27.87, 27.54, 27.2 , 26.8 , 27.05, 27.42, 27.35,\n",
       "       27.48, 27.79, 27.86, 28.1 , 28.25, 27.95, 27.32, 27.39, 27.22,\n",
       "       27.39, 27.4 , 27.27, 27.13, 27.12, 27.52, 27.95, 27.87, 27.38,\n",
       "       26.25, 25.92, 25.97, 26.08, 25.81, 25.47, 25.11, 25.48, 25.96,\n",
       "       26.8 , 27.04, 26.91, 26.59, 26.22, 26.  , 25.95, 25.8 , 25.69,\n",
       "       26.  , 26.55, 27.  , 27.98, 28.19, 28.35, 28.06, 28.18, 27.94,\n",
       "       28.5 , 28.53, 28.78, 28.18, 27.84, 27.83, 27.7 , 27.3 , 26.83,\n",
       "       26.08, 25.66, 25.35, 25.15, 24.58, 24.41, 24.56, 25.26, 25.82,\n",
       "       26.77, 27.07, 26.99, 26.58, 26.56, 26.4 , 25.98, 25.7 , 25.73,\n",
       "       26.21, 26.43, 26.66, 27.18, 26.87, 26.43, 25.99, 25.72, 25.31,\n",
       "       25.26, 25.19, 24.95, 24.78, 25.71, 26.58, 27.35, 27.37, 27.69,\n",
       "       27.38, 27.18, 27.32, 27.59, 27.54, 27.23, 27.42, 27.31, 27.65,\n",
       "       27.52, 27.84, 28.05, 27.67, 27.13, 27.19, 27.62, 27.69, 27.67,\n",
       "       27.3 , 27.27, 27.32, 27.4 , 27.37, 27.23, 26.75, 26.26, 26.15,\n",
       "       26.39, 26.5 , 26.66, 26.63, 26.86, 27.38, 27.94, 27.77, 27.72,\n",
       "       27.02, 27.09, 27.23, 27.05, 27.  , 27.28, 27.13, 27.09, 27.35,\n",
       "       27.97, 28.  , 28.05, 27.25, 26.65, 26.63, 26.63, 26.75, 26.94,\n",
       "       26.12, 26.31, 27.24, 27.6 , 27.76, 27.54, 26.79, 26.7 , 26.68,\n",
       "       26.7 , 26.39, 26.65, 26.54, 26.64, 27.24, 28.01, 28.51, 28.61,\n",
       "       27.86, 27.8 , 28.14, 28.73, 28.72, 28.92, 29.01, 28.98, 28.95,\n",
       "       28.89, 28.99, 28.31, 27.11, 26.75, 26.26, 25.7 , 25.52, 25.64,\n",
       "       25.78, 26.23, 26.78, 27.17, 27.22, 26.79, 26.82, 26.47, 26.4 ,\n",
       "       25.9 , 25.48, 25.05, 25.69, 25.85, 26.3 , 26.79, 26.97, 26.93,\n",
       "       26.62, 26.38, 26.18, 26.09, 26.22, 26.19, 25.79, 26.12, 26.75,\n",
       "       27.36, 27.39, 27.61, 27.38, 27.11, 27.34, 27.63, 27.7 , 27.56,\n",
       "       27.77, 27.94, 28.5 , 28.66, 28.77, 28.92, 28.56, 28.36, 28.28,\n",
       "       28.1 , 27.94, 27.64, 27.27, 27.11, 27.54, 27.28, 26.82, 26.23,\n",
       "       25.69, 25.43, 25.42, 24.65, 24.48, 24.6 , 24.63, 25.39, 25.93,\n",
       "       26.66, 27.06, 27.04, 26.76, 26.29, 26.37, 26.33, 26.36, 26.46,\n",
       "       26.6 , 27.12, 27.46, 28.03, 28.19, 27.69, 27.37, 27.05, 26.87,\n",
       "       26.86, 26.73, 26.9 , 27.09, 27.08, 27.36, 27.98, 28.3 , 28.34,\n",
       "       27.84, 27.3 , 26.98, 27.64, 27.79, 28.2 , 28.19, 28.39, 28.76,\n",
       "       29.18, 29.13, 28.22, 27.5 , 26.73, 26.61, 26.39, 26.51, 26.63,\n",
       "       26.86, 27.18, 27.73, 28.68, 28.79, 28.33, 27.55, 27.04, 27.01,\n",
       "       27.09, 26.94, 26.77, 26.61, 26.6 , 27.19, 27.8 , 28.  , 27.96,\n",
       "       27.38, 27.4 , 27.15, 27.63, 27.79, 27.8 , 27.68, 27.64, 27.75,\n",
       "       28.04, 27.89, 27.77, 27.26, 26.5 , 26.18, 26.01, 25.87, 25.86,\n",
       "       25.93, 26.1 , 26.78, 27.43, 27.46, 27.57, 27.08, 26.58, 26.41,\n",
       "       26.46, 26.35, 26.16, 26.15, 26.53, 27.19, 28.11, 28.74, 28.84,\n",
       "       28.83, 28.81, 28.85, 29.02, 29.08, 28.89, 29.  , 28.84, 28.75,\n",
       "       28.67, 28.55, 27.3 , 26.49, 26.04, 25.93, 25.54, 25.43, 25.08,\n",
       "       25.05, 25.35, 26.34, 26.96, 26.99, 26.74, 26.39, 25.89, 25.91,\n",
       "       25.7 , 25.24, 25.04, 24.79, 25.23, 26.  , 26.97, 27.07, 26.93,\n",
       "       26.65, 26.52, 26.36, 26.18, 25.91, 25.67, 25.7 , 26.13, 26.78,\n",
       "       27.47, 27.57, 27.58, 27.24, 26.8 , 26.47, 26.47, 26.37, 26.13,\n",
       "       26.44, 26.76, 27.36, 27.91, 28.07, 28.37, 27.8 , 27.57, 27.57,\n",
       "       27.89, 28.06, 28.  , 27.56, 27.4 , 27.74, 27.74, 27.34, 27.5 ,\n",
       "       27.37, 26.92, 26.9 , 27.19, 27.05, 26.91, 26.84, 26.93, 27.16,\n",
       "       27.83, 27.96, 27.82, 27.64, 27.54, 27.42, 27.46, 27.27, 27.3 ,\n",
       "       27.14, 27.02, 27.54, 28.05, 28.16, 27.91, 27.22, 26.83, 26.67,\n",
       "       26.59, 26.21, 25.83, 25.6 , 26.05, 26.53, 27.47, 27.76, 27.78,\n",
       "       27.25, 27.25, 27.38, 27.49, 27.64, 27.69, 27.17, 26.88, 27.11,\n",
       "       27.61, 27.47, 27.52, 26.86, 26.31, 25.71, 25.33, 25.07, 24.98,\n",
       "       24.79, 25.07, 26.09, 26.88, 27.22, 27.24, 27.19, 26.83, 26.47,\n",
       "       26.43, 26.29, 25.69])"
      ]
     },
     "execution_count": 32,
     "metadata": {},
     "output_type": "execute_result"
    }
   ],
   "source": [
    "enso"
   ]
  },
  {
   "cell_type": "code",
   "execution_count": 15,
   "metadata": {},
   "outputs": [
    {
     "ename": "ValueError",
     "evalue": "Found array with 0 sample(s) (shape=(0, 13)) while a minimum of 1 is required.",
     "output_type": "error",
     "traceback": [
      "\u001b[0;31m---------------------------------------------------------------------------\u001b[0m",
      "\u001b[0;31mValueError\u001b[0m                                Traceback (most recent call last)",
      "\u001b[0;32m<ipython-input-15-b102ed5bb91b>\u001b[0m in \u001b[0;36m<module>\u001b[0;34m()\u001b[0m\n\u001b[0;32m----> 1\u001b[0;31m \u001b[0mbest_link\u001b[0m\u001b[0;34m,\u001b[0m \u001b[0mbase_model\u001b[0m\u001b[0;34m,\u001b[0m \u001b[0mmodel\u001b[0m \u001b[0;34m=\u001b[0m \u001b[0mff\u001b[0m\u001b[0;34m.\u001b[0m\u001b[0mforward_feature_enso\u001b[0m\u001b[0;34m(\u001b[0m\u001b[0mcount\u001b[0m\u001b[0;34m,\u001b[0m \u001b[0menso\u001b[0m\u001b[0;34m,\u001b[0m \u001b[0mtau\u001b[0m\u001b[0;34m=\u001b[0m\u001b[0mtau\u001b[0m\u001b[0;34m,\u001b[0m \u001b[0mratio\u001b[0m\u001b[0;34m=\u001b[0m\u001b[0;36m0.8\u001b[0m\u001b[0;34m)\u001b[0m\u001b[0;34m\u001b[0m\u001b[0;34m\u001b[0m\u001b[0m\n\u001b[0m",
      "\u001b[0;32m~/Files/Time_Series/Climate_Network/Causality/TimeSeries/notebooks/whole_data_validation/feature_finder_keiko.py\u001b[0m in \u001b[0;36mforward_feature_enso\u001b[0;34m(count, enso, tau, ratio, n_estimators, max_depth)\u001b[0m\n\u001b[1;32m   1321\u001b[0m         \u001b[0mmin_index\u001b[0m \u001b[0;34m=\u001b[0m \u001b[0;36m0\u001b[0m\u001b[0;34m\u001b[0m\u001b[0;34m\u001b[0m\u001b[0m\n\u001b[1;32m   1322\u001b[0m         \u001b[0;32mfor\u001b[0m \u001b[0mc\u001b[0m \u001b[0;32min\u001b[0m \u001b[0mfeatures\u001b[0m\u001b[0;34m.\u001b[0m\u001b[0mcolumns\u001b[0m\u001b[0;34m:\u001b[0m\u001b[0;34m\u001b[0m\u001b[0;34m\u001b[0m\u001b[0m\n\u001b[0;32m-> 1323\u001b[0;31m             \u001b[0mmse\u001b[0m \u001b[0;34m=\u001b[0m \u001b[0mfeature_score\u001b[0m\u001b[0;34m(\u001b[0m\u001b[0mbase\u001b[0m\u001b[0;34m,\u001b[0m \u001b[0mfeatures\u001b[0m\u001b[0;34m[\u001b[0m\u001b[0mc\u001b[0m\u001b[0;34m]\u001b[0m\u001b[0;34m)\u001b[0m\u001b[0;34m\u001b[0m\u001b[0;34m\u001b[0m\u001b[0m\n\u001b[0m\u001b[1;32m   1324\u001b[0m             \u001b[0;32mif\u001b[0m \u001b[0;34m(\u001b[0m\u001b[0mresult\u001b[0m\u001b[0;34m[\u001b[0m\u001b[0;34m-\u001b[0m\u001b[0;36m1\u001b[0m\u001b[0;34m]\u001b[0m \u001b[0;34m>\u001b[0m \u001b[0mmse\u001b[0m\u001b[0;34m)\u001b[0m \u001b[0;32mand\u001b[0m \u001b[0;34m(\u001b[0m\u001b[0mmin_mse\u001b[0m \u001b[0;34m>\u001b[0m \u001b[0mmse\u001b[0m\u001b[0;34m)\u001b[0m\u001b[0;34m:\u001b[0m\u001b[0;34m\u001b[0m\u001b[0;34m\u001b[0m\u001b[0m\n\u001b[1;32m   1325\u001b[0m                 \u001b[0mmin_mse\u001b[0m \u001b[0;34m=\u001b[0m \u001b[0mmse\u001b[0m\u001b[0;34m\u001b[0m\u001b[0;34m\u001b[0m\u001b[0m\n",
      "\u001b[0;32m~/Files/Time_Series/Climate_Network/Causality/TimeSeries/notebooks/whole_data_validation/feature_finder_keiko.py\u001b[0m in \u001b[0;36mfeature_score\u001b[0;34m(base, feature, ratio, n_estimators, max_depth)\u001b[0m\n\u001b[1;32m    453\u001b[0m     \u001b[0my_train\u001b[0m\u001b[0;34m,\u001b[0m \u001b[0my_test\u001b[0m \u001b[0;34m=\u001b[0m \u001b[0mdf\u001b[0m\u001b[0;34m.\u001b[0m\u001b[0miloc\u001b[0m\u001b[0;34m[\u001b[0m\u001b[0;34m:\u001b[0m\u001b[0mindex\u001b[0m\u001b[0;34m,\u001b[0m\u001b[0;36m0\u001b[0m\u001b[0;34m]\u001b[0m\u001b[0;34m,\u001b[0m \u001b[0mdf\u001b[0m\u001b[0;34m.\u001b[0m\u001b[0miloc\u001b[0m\u001b[0;34m[\u001b[0m\u001b[0mindex\u001b[0m\u001b[0;34m:\u001b[0m\u001b[0;34m,\u001b[0m\u001b[0;36m0\u001b[0m\u001b[0;34m]\u001b[0m\u001b[0;34m\u001b[0m\u001b[0;34m\u001b[0m\u001b[0m\n\u001b[1;32m    454\u001b[0m     \u001b[0mmodel\u001b[0m \u001b[0;34m=\u001b[0m \u001b[0mRandomForestRegressor\u001b[0m\u001b[0;34m(\u001b[0m\u001b[0mmax_depth\u001b[0m\u001b[0;34m=\u001b[0m\u001b[0mmax_depth\u001b[0m\u001b[0;34m,\u001b[0m \u001b[0mrandom_state\u001b[0m\u001b[0;34m=\u001b[0m\u001b[0;36m0\u001b[0m\u001b[0;34m,\u001b[0m \u001b[0mn_estimators\u001b[0m\u001b[0;34m=\u001b[0m\u001b[0mn_estimators\u001b[0m\u001b[0;34m)\u001b[0m\u001b[0;34m\u001b[0m\u001b[0;34m\u001b[0m\u001b[0m\n\u001b[0;32m--> 455\u001b[0;31m     \u001b[0mmodel\u001b[0m\u001b[0;34m.\u001b[0m\u001b[0mfit\u001b[0m\u001b[0;34m(\u001b[0m\u001b[0mx_train\u001b[0m\u001b[0;34m,\u001b[0m \u001b[0my_train\u001b[0m\u001b[0;34m)\u001b[0m\u001b[0;34m\u001b[0m\u001b[0;34m\u001b[0m\u001b[0m\n\u001b[0m\u001b[1;32m    456\u001b[0m     \u001b[0my_pred\u001b[0m \u001b[0;34m=\u001b[0m \u001b[0mmodel\u001b[0m\u001b[0;34m.\u001b[0m\u001b[0mpredict\u001b[0m\u001b[0;34m(\u001b[0m\u001b[0mx_test\u001b[0m\u001b[0;34m)\u001b[0m\u001b[0;34m\u001b[0m\u001b[0;34m\u001b[0m\u001b[0m\n\u001b[1;32m    457\u001b[0m     \u001b[0;32mreturn\u001b[0m\u001b[0;34m(\u001b[0m\u001b[0mmean_squared_error\u001b[0m\u001b[0;34m(\u001b[0m\u001b[0my_pred\u001b[0m\u001b[0;34m,\u001b[0m \u001b[0my_test\u001b[0m\u001b[0;34m)\u001b[0m\u001b[0;34m)\u001b[0m\u001b[0;34m\u001b[0m\u001b[0;34m\u001b[0m\u001b[0m\n",
      "\u001b[0;32m~/anaconda3/lib/python3.6/site-packages/sklearn/ensemble/_forest.py\u001b[0m in \u001b[0;36mfit\u001b[0;34m(self, X, y, sample_weight)\u001b[0m\n\u001b[1;32m    303\u001b[0m             )\n\u001b[1;32m    304\u001b[0m         X, y = self._validate_data(X, y, multi_output=True,\n\u001b[0;32m--> 305\u001b[0;31m                                    accept_sparse=\"csc\", dtype=DTYPE)\n\u001b[0m\u001b[1;32m    306\u001b[0m         \u001b[0;32mif\u001b[0m \u001b[0msample_weight\u001b[0m \u001b[0;32mis\u001b[0m \u001b[0;32mnot\u001b[0m \u001b[0;32mNone\u001b[0m\u001b[0;34m:\u001b[0m\u001b[0;34m\u001b[0m\u001b[0;34m\u001b[0m\u001b[0m\n\u001b[1;32m    307\u001b[0m             \u001b[0msample_weight\u001b[0m \u001b[0;34m=\u001b[0m \u001b[0m_check_sample_weight\u001b[0m\u001b[0;34m(\u001b[0m\u001b[0msample_weight\u001b[0m\u001b[0;34m,\u001b[0m \u001b[0mX\u001b[0m\u001b[0;34m)\u001b[0m\u001b[0;34m\u001b[0m\u001b[0;34m\u001b[0m\u001b[0m\n",
      "\u001b[0;32m~/anaconda3/lib/python3.6/site-packages/sklearn/base.py\u001b[0m in \u001b[0;36m_validate_data\u001b[0;34m(self, X, y, reset, validate_separately, **check_params)\u001b[0m\n\u001b[1;32m    431\u001b[0m                 \u001b[0my\u001b[0m \u001b[0;34m=\u001b[0m \u001b[0mcheck_array\u001b[0m\u001b[0;34m(\u001b[0m\u001b[0my\u001b[0m\u001b[0;34m,\u001b[0m \u001b[0;34m**\u001b[0m\u001b[0mcheck_y_params\u001b[0m\u001b[0;34m)\u001b[0m\u001b[0;34m\u001b[0m\u001b[0;34m\u001b[0m\u001b[0m\n\u001b[1;32m    432\u001b[0m             \u001b[0;32melse\u001b[0m\u001b[0;34m:\u001b[0m\u001b[0;34m\u001b[0m\u001b[0;34m\u001b[0m\u001b[0m\n\u001b[0;32m--> 433\u001b[0;31m                 \u001b[0mX\u001b[0m\u001b[0;34m,\u001b[0m \u001b[0my\u001b[0m \u001b[0;34m=\u001b[0m \u001b[0mcheck_X_y\u001b[0m\u001b[0;34m(\u001b[0m\u001b[0mX\u001b[0m\u001b[0;34m,\u001b[0m \u001b[0my\u001b[0m\u001b[0;34m,\u001b[0m \u001b[0;34m**\u001b[0m\u001b[0mcheck_params\u001b[0m\u001b[0;34m)\u001b[0m\u001b[0;34m\u001b[0m\u001b[0;34m\u001b[0m\u001b[0m\n\u001b[0m\u001b[1;32m    434\u001b[0m             \u001b[0mout\u001b[0m \u001b[0;34m=\u001b[0m \u001b[0mX\u001b[0m\u001b[0;34m,\u001b[0m \u001b[0my\u001b[0m\u001b[0;34m\u001b[0m\u001b[0;34m\u001b[0m\u001b[0m\n\u001b[1;32m    435\u001b[0m \u001b[0;34m\u001b[0m\u001b[0m\n",
      "\u001b[0;32m~/anaconda3/lib/python3.6/site-packages/sklearn/utils/validation.py\u001b[0m in \u001b[0;36minner_f\u001b[0;34m(*args, **kwargs)\u001b[0m\n\u001b[1;32m     61\u001b[0m             \u001b[0mextra_args\u001b[0m \u001b[0;34m=\u001b[0m \u001b[0mlen\u001b[0m\u001b[0;34m(\u001b[0m\u001b[0margs\u001b[0m\u001b[0;34m)\u001b[0m \u001b[0;34m-\u001b[0m \u001b[0mlen\u001b[0m\u001b[0;34m(\u001b[0m\u001b[0mall_args\u001b[0m\u001b[0;34m)\u001b[0m\u001b[0;34m\u001b[0m\u001b[0;34m\u001b[0m\u001b[0m\n\u001b[1;32m     62\u001b[0m             \u001b[0;32mif\u001b[0m \u001b[0mextra_args\u001b[0m \u001b[0;34m<=\u001b[0m \u001b[0;36m0\u001b[0m\u001b[0;34m:\u001b[0m\u001b[0;34m\u001b[0m\u001b[0;34m\u001b[0m\u001b[0m\n\u001b[0;32m---> 63\u001b[0;31m                 \u001b[0;32mreturn\u001b[0m \u001b[0mf\u001b[0m\u001b[0;34m(\u001b[0m\u001b[0;34m*\u001b[0m\u001b[0margs\u001b[0m\u001b[0;34m,\u001b[0m \u001b[0;34m**\u001b[0m\u001b[0mkwargs\u001b[0m\u001b[0;34m)\u001b[0m\u001b[0;34m\u001b[0m\u001b[0;34m\u001b[0m\u001b[0m\n\u001b[0m\u001b[1;32m     64\u001b[0m \u001b[0;34m\u001b[0m\u001b[0m\n\u001b[1;32m     65\u001b[0m             \u001b[0;31m# extra_args > 0\u001b[0m\u001b[0;34m\u001b[0m\u001b[0;34m\u001b[0m\u001b[0;34m\u001b[0m\u001b[0m\n",
      "\u001b[0;32m~/anaconda3/lib/python3.6/site-packages/sklearn/utils/validation.py\u001b[0m in \u001b[0;36mcheck_X_y\u001b[0;34m(X, y, accept_sparse, accept_large_sparse, dtype, order, copy, force_all_finite, ensure_2d, allow_nd, multi_output, ensure_min_samples, ensure_min_features, y_numeric, estimator)\u001b[0m\n\u001b[1;32m    876\u001b[0m                     \u001b[0mensure_min_samples\u001b[0m\u001b[0;34m=\u001b[0m\u001b[0mensure_min_samples\u001b[0m\u001b[0;34m,\u001b[0m\u001b[0;34m\u001b[0m\u001b[0;34m\u001b[0m\u001b[0m\n\u001b[1;32m    877\u001b[0m                     \u001b[0mensure_min_features\u001b[0m\u001b[0;34m=\u001b[0m\u001b[0mensure_min_features\u001b[0m\u001b[0;34m,\u001b[0m\u001b[0;34m\u001b[0m\u001b[0;34m\u001b[0m\u001b[0m\n\u001b[0;32m--> 878\u001b[0;31m                     estimator=estimator)\n\u001b[0m\u001b[1;32m    879\u001b[0m     \u001b[0;32mif\u001b[0m \u001b[0mmulti_output\u001b[0m\u001b[0;34m:\u001b[0m\u001b[0;34m\u001b[0m\u001b[0;34m\u001b[0m\u001b[0m\n\u001b[1;32m    880\u001b[0m         y = check_array(y, accept_sparse='csr', force_all_finite=True,\n",
      "\u001b[0;32m~/anaconda3/lib/python3.6/site-packages/sklearn/utils/validation.py\u001b[0m in \u001b[0;36minner_f\u001b[0;34m(*args, **kwargs)\u001b[0m\n\u001b[1;32m     61\u001b[0m             \u001b[0mextra_args\u001b[0m \u001b[0;34m=\u001b[0m \u001b[0mlen\u001b[0m\u001b[0;34m(\u001b[0m\u001b[0margs\u001b[0m\u001b[0;34m)\u001b[0m \u001b[0;34m-\u001b[0m \u001b[0mlen\u001b[0m\u001b[0;34m(\u001b[0m\u001b[0mall_args\u001b[0m\u001b[0;34m)\u001b[0m\u001b[0;34m\u001b[0m\u001b[0;34m\u001b[0m\u001b[0m\n\u001b[1;32m     62\u001b[0m             \u001b[0;32mif\u001b[0m \u001b[0mextra_args\u001b[0m \u001b[0;34m<=\u001b[0m \u001b[0;36m0\u001b[0m\u001b[0;34m:\u001b[0m\u001b[0;34m\u001b[0m\u001b[0;34m\u001b[0m\u001b[0m\n\u001b[0;32m---> 63\u001b[0;31m                 \u001b[0;32mreturn\u001b[0m \u001b[0mf\u001b[0m\u001b[0;34m(\u001b[0m\u001b[0;34m*\u001b[0m\u001b[0margs\u001b[0m\u001b[0;34m,\u001b[0m \u001b[0;34m**\u001b[0m\u001b[0mkwargs\u001b[0m\u001b[0;34m)\u001b[0m\u001b[0;34m\u001b[0m\u001b[0;34m\u001b[0m\u001b[0m\n\u001b[0m\u001b[1;32m     64\u001b[0m \u001b[0;34m\u001b[0m\u001b[0m\n\u001b[1;32m     65\u001b[0m             \u001b[0;31m# extra_args > 0\u001b[0m\u001b[0;34m\u001b[0m\u001b[0;34m\u001b[0m\u001b[0;34m\u001b[0m\u001b[0m\n",
      "\u001b[0;32m~/anaconda3/lib/python3.6/site-packages/sklearn/utils/validation.py\u001b[0m in \u001b[0;36mcheck_array\u001b[0;34m(array, accept_sparse, accept_large_sparse, dtype, order, copy, force_all_finite, ensure_2d, allow_nd, ensure_min_samples, ensure_min_features, estimator)\u001b[0m\n\u001b[1;32m    727\u001b[0m                              \u001b[0;34m\" minimum of %d is required%s.\"\u001b[0m\u001b[0;34m\u001b[0m\u001b[0;34m\u001b[0m\u001b[0m\n\u001b[1;32m    728\u001b[0m                              % (n_samples, array.shape, ensure_min_samples,\n\u001b[0;32m--> 729\u001b[0;31m                                 context))\n\u001b[0m\u001b[1;32m    730\u001b[0m \u001b[0;34m\u001b[0m\u001b[0m\n\u001b[1;32m    731\u001b[0m     \u001b[0;32mif\u001b[0m \u001b[0mensure_min_features\u001b[0m \u001b[0;34m>\u001b[0m \u001b[0;36m0\u001b[0m \u001b[0;32mand\u001b[0m \u001b[0marray\u001b[0m\u001b[0;34m.\u001b[0m\u001b[0mndim\u001b[0m \u001b[0;34m==\u001b[0m \u001b[0;36m2\u001b[0m\u001b[0;34m:\u001b[0m\u001b[0;34m\u001b[0m\u001b[0;34m\u001b[0m\u001b[0m\n",
      "\u001b[0;31mValueError\u001b[0m: Found array with 0 sample(s) (shape=(0, 13)) while a minimum of 1 is required."
     ]
    }
   ],
   "source": [
    "best_link, base_model, model = ff.forward_feature_enso(count, enso, tau=tau, ratio=0.8)"
   ]
  },
  {
   "cell_type": "code",
   "execution_count": 6,
   "metadata": {},
   "outputs": [],
   "source": [
    "ratio = 0.8\n",
    "n_estimators=100\n",
    "max_depth=5"
   ]
  },
  {
   "cell_type": "code",
   "execution_count": 9,
   "metadata": {},
   "outputs": [],
   "source": [
    "    result = []\n",
    "    link_list = []\n",
    "    start_lag = tau\n",
    "    end_lag = tau + 11\n",
    "    df = pd.DataFrame({\"drought\":count})\n",
    "\n",
    "    df = ff.shift_df(df, start_lag, end_lag)\n",
    "    index = int(df.shape[0]*ratio)\n",
    "    dim = df.shape[1]\n",
    "    x_train, x_test = df.iloc[:index,1:dim], df.iloc[index:,1:dim]\n",
    "    y_train, y_test = df.iloc[:index,0], df.iloc[index:,0]\n",
    "    base_model = RandomForestRegressor(max_depth=max_depth, random_state=0, n_estimators=n_estimators)\n",
    "    base_model.fit(x_train, y_train)\n",
    "    y_pred = base_model.predict(x_test)\n",
    "    result.append(mean_squared_error(y_pred, y_test))\n"
   ]
  },
  {
   "cell_type": "code",
   "execution_count": 11,
   "metadata": {},
   "outputs": [],
   "source": [
    "    df_count = pd.DataFrame({\"drought\": count})\n",
    "    lags = np.arange(start_lag,end_lag + 1)\n",
    "    df_count = df_count.assign(**{\n",
    "    '{} (t-{})'.format(col, t): df_count[col].shift(t)\n",
    "    for t in lags\n",
    "    for col in df_count\n",
    "    })"
   ]
  },
  {
   "cell_type": "code",
   "execution_count": null,
   "metadata": {},
   "outputs": [],
   "source": []
  },
  {
   "cell_type": "code",
   "execution_count": 7,
   "metadata": {},
   "outputs": [],
   "source": [
    "\n",
    "\n",
    "\n",
    "    df_enso = pd.DataFrame({\"enso\": enso})\n",
    "    lags = np.arange(start_lag,end_lag + 1)\n",
    "    df_enso = df_enso.assign(**{\n",
    "    '{} (t-{})'.format(col, t): df_enso[col].shift(t)\n",
    "    for t in lags\n",
    "    for col in df_enso\n",
    "    })\n",
    "\n",
    "    df_enso = df_enso.drop(['enso'],1)\n",
    "\n",
    "    df = pd.concat([df_count, df_enso],axis=1)\n",
    "    df = df.dropna()"
   ]
  },
  {
   "cell_type": "code",
   "execution_count": 8,
   "metadata": {},
   "outputs": [
    {
     "data": {
      "text/html": [
       "<div>\n",
       "<style scoped>\n",
       "    .dataframe tbody tr th:only-of-type {\n",
       "        vertical-align: middle;\n",
       "    }\n",
       "\n",
       "    .dataframe tbody tr th {\n",
       "        vertical-align: top;\n",
       "    }\n",
       "\n",
       "    .dataframe thead th {\n",
       "        text-align: right;\n",
       "    }\n",
       "</style>\n",
       "<table border=\"1\" class=\"dataframe\">\n",
       "  <thead>\n",
       "    <tr style=\"text-align: right;\">\n",
       "      <th></th>\n",
       "      <th>drought</th>\n",
       "      <th>drought (t-1)</th>\n",
       "      <th>drought (t-2)</th>\n",
       "      <th>drought (t-3)</th>\n",
       "      <th>drought (t-4)</th>\n",
       "      <th>drought (t-5)</th>\n",
       "      <th>drought (t-6)</th>\n",
       "      <th>drought (t-7)</th>\n",
       "      <th>drought (t-8)</th>\n",
       "      <th>drought (t-9)</th>\n",
       "      <th>...</th>\n",
       "      <th>enso (t-3)</th>\n",
       "      <th>enso (t-4)</th>\n",
       "      <th>enso (t-5)</th>\n",
       "      <th>enso (t-6)</th>\n",
       "      <th>enso (t-7)</th>\n",
       "      <th>enso (t-8)</th>\n",
       "      <th>enso (t-9)</th>\n",
       "      <th>enso (t-10)</th>\n",
       "      <th>enso (t-11)</th>\n",
       "      <th>enso (t-12)</th>\n",
       "    </tr>\n",
       "  </thead>\n",
       "  <tbody>\n",
       "  </tbody>\n",
       "</table>\n",
       "<p>0 rows × 25 columns</p>\n",
       "</div>"
      ],
      "text/plain": [
       "Empty DataFrame\n",
       "Columns: [drought, drought (t-1), drought (t-2), drought (t-3), drought (t-4), drought (t-5), drought (t-6), drought (t-7), drought (t-8), drought (t-9), drought (t-10), drought (t-11), drought (t-12), enso (t-1), enso (t-2), enso (t-3), enso (t-4), enso (t-5), enso (t-6), enso (t-7), enso (t-8), enso (t-9), enso (t-10), enso (t-11), enso (t-12)]\n",
       "Index: []\n",
       "\n",
       "[0 rows x 25 columns]"
      ]
     },
     "execution_count": 8,
     "metadata": {},
     "output_type": "execute_result"
    }
   ],
   "source": [
    "df"
   ]
  },
  {
   "cell_type": "code",
   "execution_count": 23,
   "metadata": {},
   "outputs": [
    {
     "data": {
      "text/plain": [
       "array([], dtype=float64)"
      ]
     },
     "execution_count": 23,
     "metadata": {},
     "output_type": "execute_result"
    }
   ],
   "source": [
    "enso"
   ]
  },
  {
   "cell_type": "code",
   "execution_count": null,
   "metadata": {},
   "outputs": [],
   "source": []
  },
  {
   "cell_type": "code",
   "execution_count": null,
   "metadata": {},
   "outputs": [],
   "source": [
    "def forward_feature_enso(count, enso, tau, ratio = 0.8, n_estimators=100, max_depth=5):\n",
    "    result = []\n",
    "    link_list = []\n",
    "    start_lag = tau\n",
    "    end_lag = tau + 11\n",
    "    df = pd.DataFrame({\"drought\":count})\n",
    "\n",
    "    df = shift_df(df, start_lag, end_lag)\n",
    "    index = int(df.shape[0]*ratio)\n",
    "    dim = df.shape[1]\n",
    "    x_train, x_test = df.iloc[:index,1:dim], df.iloc[index:,1:dim]\n",
    "    y_train, y_test = df.iloc[:index,0], df.iloc[index:,0]\n",
    "    base_model = RandomForestRegressor(max_depth=max_depth, random_state=0, n_estimators=n_estimators)\n",
    "    base_model.fit(x_train, y_train)\n",
    "    y_pred = base_model.predict(x_test)\n",
    "    result.append(mean_squared_error(y_pred, y_test))\n",
    "\n",
    "    df_count = pd.DataFrame({\"drought\": count})\n",
    "    lags = np.arange(start_lag,end_lag + 1)\n",
    "    df_count = df_count.assign(**{\n",
    "    '{} (t-{})'.format(col, t): df_count[col].shift(t)\n",
    "    for t in lags\n",
    "    for col in df_count\n",
    "    })\n",
    "\n",
    "    df_enso = pd.DataFrame({\"enso\": enso})\n",
    "    lags = np.arange(start_lag,end_lag + 1)\n",
    "    df_enso = df_enso.assign(**{\n",
    "    '{} (t-{})'.format(col, t): df_enso[col].shift(t)\n",
    "    for t in lags\n",
    "    for col in df_enso\n",
    "    })\n",
    "\n",
    "    df_enso = df_enso.drop(['enso'],1)\n",
    "\n",
    "    df = pd.concat([df_count, df_enso],axis=1)\n",
    "    df = df.dropna()\n",
    "\n",
    "    base = df.iloc[:,:13].copy()\n",
    "    features = df.iloc[:,13:].copy()\n",
    "\n",
    "    while features.shape[1]>0:\n",
    "        min_mse = np.Inf\n",
    "        min_index = 0\n",
    "        for c in features.columns:\n",
    "            mse = feature_score(base, features[c])\n",
    "            if (result[-1] > mse) and (min_mse > mse):\n",
    "                min_mse = mse\n",
    "                min_index = c\n",
    "        if isinstance(min_index, int): break\n",
    "        result.append(min_mse)\n",
    "        base = pd.concat([base, features[min_index]],axis=1)\n",
    "        features = features.drop(min_index,1)\n",
    "        link_list.append(min_index)\n",
    "\n",
    "    if len(link_list) > 0:        \n",
    "        x_train = base.iloc[:,1:]\n",
    "        y_train = base.iloc[:,0]\n",
    "        model = RandomForestRegressor(max_depth=max_depth, random_state=0, n_estimators=n_estimators)\n",
    "        model.fit(x_train, y_train)\n",
    "    else:\n",
    "        model = base_model\n",
    "        link_list = []"
   ]
  },
  {
   "cell_type": "code",
   "execution_count": null,
   "metadata": {},
   "outputs": [],
   "source": []
  },
  {
   "cell_type": "code",
   "execution_count": null,
   "metadata": {},
   "outputs": [],
   "source": []
  },
  {
   "cell_type": "code",
   "execution_count": null,
   "metadata": {},
   "outputs": [],
   "source": []
  },
  {
   "cell_type": "code",
   "execution_count": null,
   "metadata": {},
   "outputs": [],
   "source": []
  },
  {
   "cell_type": "code",
   "execution_count": null,
   "metadata": {},
   "outputs": [],
   "source": []
  },
  {
   "cell_type": "code",
   "execution_count": null,
   "metadata": {},
   "outputs": [],
   "source": []
  },
  {
   "cell_type": "code",
   "execution_count": null,
   "metadata": {},
   "outputs": [],
   "source": []
  },
  {
   "cell_type": "code",
   "execution_count": null,
   "metadata": {},
   "outputs": [],
   "source": []
  },
  {
   "cell_type": "code",
   "execution_count": null,
   "metadata": {},
   "outputs": [],
   "source": []
  },
  {
   "cell_type": "code",
   "execution_count": null,
   "metadata": {},
   "outputs": [],
   "source": []
  },
  {
   "cell_type": "code",
   "execution_count": null,
   "metadata": {},
   "outputs": [],
   "source": []
  },
  {
   "cell_type": "code",
   "execution_count": null,
   "metadata": {},
   "outputs": [],
   "source": []
  },
  {
   "cell_type": "code",
   "execution_count": null,
   "metadata": {},
   "outputs": [],
   "source": []
  },
  {
   "cell_type": "code",
   "execution_count": null,
   "metadata": {},
   "outputs": [],
   "source": []
  },
  {
   "cell_type": "code",
   "execution_count": 13,
   "metadata": {},
   "outputs": [],
   "source": [
    "temporal_limits = {\"time_min\":datetime(test_start, 1, 1, 0, 0),\"time_max\":datetime(test_end, 12, 1, 0, 0)}\n",
    "count_test, _ = ff.drought_timeseries(\"ET_gamma_18912015_12.npy\",test_start,test_end)\n",
    "enso = ff.timeseries_enso('nino.npy',test_start,test_end)"
   ]
  },
  {
   "cell_type": "code",
   "execution_count": 14,
   "metadata": {},
   "outputs": [],
   "source": [
    "y_pred_base, y_test_base = ff.base_model_result(count_test, base_model, best_link, tau)\n",
    "y_pred, y_test = ff.model_result_enso(count_test, enso, best_link, model,tau)"
   ]
  },
  {
   "cell_type": "code",
   "execution_count": 16,
   "metadata": {},
   "outputs": [
    {
     "data": {
      "text/plain": [
       "3356.5698575925126"
      ]
     },
     "execution_count": 16,
     "metadata": {},
     "output_type": "execute_result"
    }
   ],
   "source": [
    "mean_squared_error(y_pred, y_test)"
   ]
  },
  {
   "cell_type": "code",
   "execution_count": 17,
   "metadata": {},
   "outputs": [
    {
     "data": {
      "text/plain": [
       "3349.6879572293483"
      ]
     },
     "execution_count": 17,
     "metadata": {},
     "output_type": "execute_result"
    }
   ],
   "source": [
    "mean_squared_error(y_pred_base, y_test_base)"
   ]
  },
  {
   "cell_type": "code",
   "execution_count": null,
   "metadata": {},
   "outputs": [],
   "source": []
  },
  {
   "cell_type": "code",
   "execution_count": 67,
   "metadata": {},
   "outputs": [],
   "source": [
    "result = []\n",
    "link_list = []\n",
    "start_lag = tau\n",
    "end_lag = tau + 11\n",
    "df = pd.DataFrame({\"drought\":count})\n",
    "\n",
    "df = ff.shift_df(df, start_lag, end_lag)\n",
    "index = int(df.shape[0]*ratio)\n",
    "dim = df.shape[1]\n",
    "x_train, x_test = df.iloc[:index,1:dim], df.iloc[index:,1:dim]\n",
    "y_train, y_test = df.iloc[:index,0], df.iloc[index:,0]\n",
    "base_model = RandomForestRegressor(max_depth=max_depth, random_state=0, n_estimators=n_estimators)\n",
    "base_model.fit(x_train, y_train)\n",
    "y_pred = base_model.predict(x_test)\n",
    "result.append(mean_squared_error(y_pred, y_test))"
   ]
  },
  {
   "cell_type": "code",
   "execution_count": 68,
   "metadata": {},
   "outputs": [],
   "source": [
    "df_count = pd.DataFrame({\"drought\": count})\n",
    "lags = np.arange(start_lag,end_lag + 1)\n",
    "df_count = df_count.assign(**{\n",
    "'{} (t-{})'.format(col, t): df_count[col].shift(t)\n",
    "for t in lags\n",
    "for col in df_count\n",
    "})\n",
    "\n",
    "df_enso = pd.DataFrame({\"enso\": enso})\n",
    "lags = np.arange(start_lag,end_lag + 1)\n",
    "df_enso = df_enso.assign(**{\n",
    "'{} (t-{})'.format(col, t): df_enso[col].shift(t)\n",
    "for t in lags\n",
    "for col in df_enso\n",
    "})\n",
    "\n",
    "df_enso = df_enso.drop(['enso'],1)\n",
    "\n",
    "df = pd.concat([df_count, df_enso],axis=1)\n",
    "df = df.dropna()"
   ]
  },
  {
   "cell_type": "code",
   "execution_count": 70,
   "metadata": {},
   "outputs": [],
   "source": [
    "base = df.iloc[:,:13].copy()\n",
    "features = df.iloc[:,13:].copy()"
   ]
  },
  {
   "cell_type": "code",
   "execution_count": 71,
   "metadata": {},
   "outputs": [],
   "source": [
    "while features.shape[1]>0:\n",
    "    min_mse = np.Inf\n",
    "    min_index = 0\n",
    "    for c in features.columns:\n",
    "        mse = ff.feature_score(base, features[c])\n",
    "        if (result[-1] > mse) and (min_mse > mse):\n",
    "            min_mse = mse\n",
    "            min_index = c\n",
    "    if isinstance(min_index, int): break\n",
    "    result.append(min_mse)\n",
    "    base = pd.concat([base, features[min_index]],axis=1)\n",
    "    features = features.drop(min_index,1)\n",
    "    link_list.append(min_index)"
   ]
  },
  {
   "cell_type": "code",
   "execution_count": 72,
   "metadata": {},
   "outputs": [
    {
     "data": {
      "text/plain": [
       "['enso (t-13)', 'enso (t-14)']"
      ]
     },
     "execution_count": 72,
     "metadata": {},
     "output_type": "execute_result"
    }
   ],
   "source": [
    "link_list"
   ]
  },
  {
   "cell_type": "code",
   "execution_count": 73,
   "metadata": {},
   "outputs": [],
   "source": [
    "if len(link_list) > 0:        \n",
    "    x_train = base.iloc[:,1:]\n",
    "    y_train = base.iloc[:,0]\n",
    "    model = RandomForestRegressor(max_depth=max_depth, random_state=0, n_estimators=n_estimators)\n",
    "    model.fit(x_train, y_train)\n",
    "else:\n",
    "    model = base_model\n",
    "    link_list = []"
   ]
  },
  {
   "cell_type": "code",
   "execution_count": null,
   "metadata": {},
   "outputs": [],
   "source": []
  },
  {
   "cell_type": "code",
   "execution_count": null,
   "metadata": {},
   "outputs": [],
   "source": []
  },
  {
   "cell_type": "code",
   "execution_count": 75,
   "metadata": {},
   "outputs": [],
   "source": [
    "start_lag = tau\n",
    "end_lag = tau + 11\n",
    "\n",
    "df = pd.DataFrame({\"drought\":count})\n",
    "lags = np.arange(start_lag,end_lag + 1)\n",
    "df = df.assign(**{\n",
    "'{} (t-{})'.format(col, t): df[col].shift(t)\n",
    "for t in lags\n",
    "for col in df\n",
    "})"
   ]
  },
  {
   "cell_type": "code",
   "execution_count": null,
   "metadata": {},
   "outputs": [],
   "source": []
  },
  {
   "cell_type": "code",
   "execution_count": 76,
   "metadata": {},
   "outputs": [],
   "source": [
    "\n"
   ]
  },
  {
   "cell_type": "code",
   "execution_count": 87,
   "metadata": {},
   "outputs": [],
   "source": [
    "df = pd.concat([df, df_enso[link_list[1]]],axis=1)   "
   ]
  },
  {
   "cell_type": "code",
   "execution_count": 88,
   "metadata": {},
   "outputs": [
    {
     "data": {
      "text/html": [
       "<div>\n",
       "<style scoped>\n",
       "    .dataframe tbody tr th:only-of-type {\n",
       "        vertical-align: middle;\n",
       "    }\n",
       "\n",
       "    .dataframe tbody tr th {\n",
       "        vertical-align: top;\n",
       "    }\n",
       "\n",
       "    .dataframe thead th {\n",
       "        text-align: right;\n",
       "    }\n",
       "</style>\n",
       "<table border=\"1\" class=\"dataframe\">\n",
       "  <thead>\n",
       "    <tr style=\"text-align: right;\">\n",
       "      <th></th>\n",
       "      <th>drought</th>\n",
       "      <th>drought (t-12)</th>\n",
       "      <th>drought (t-13)</th>\n",
       "      <th>drought (t-14)</th>\n",
       "      <th>drought (t-15)</th>\n",
       "      <th>drought (t-16)</th>\n",
       "      <th>drought (t-17)</th>\n",
       "      <th>drought (t-18)</th>\n",
       "      <th>drought (t-19)</th>\n",
       "      <th>drought (t-20)</th>\n",
       "      <th>drought (t-21)</th>\n",
       "      <th>drought (t-22)</th>\n",
       "      <th>drought (t-23)</th>\n",
       "      <th>enso (t-14)</th>\n",
       "      <th>enso (t-14)</th>\n",
       "    </tr>\n",
       "  </thead>\n",
       "  <tbody>\n",
       "    <tr>\n",
       "      <td>0</td>\n",
       "      <td>62</td>\n",
       "      <td>NaN</td>\n",
       "      <td>NaN</td>\n",
       "      <td>NaN</td>\n",
       "      <td>NaN</td>\n",
       "      <td>NaN</td>\n",
       "      <td>NaN</td>\n",
       "      <td>NaN</td>\n",
       "      <td>NaN</td>\n",
       "      <td>NaN</td>\n",
       "      <td>NaN</td>\n",
       "      <td>NaN</td>\n",
       "      <td>NaN</td>\n",
       "      <td>NaN</td>\n",
       "      <td>NaN</td>\n",
       "    </tr>\n",
       "    <tr>\n",
       "      <td>1</td>\n",
       "      <td>62</td>\n",
       "      <td>NaN</td>\n",
       "      <td>NaN</td>\n",
       "      <td>NaN</td>\n",
       "      <td>NaN</td>\n",
       "      <td>NaN</td>\n",
       "      <td>NaN</td>\n",
       "      <td>NaN</td>\n",
       "      <td>NaN</td>\n",
       "      <td>NaN</td>\n",
       "      <td>NaN</td>\n",
       "      <td>NaN</td>\n",
       "      <td>NaN</td>\n",
       "      <td>NaN</td>\n",
       "      <td>NaN</td>\n",
       "    </tr>\n",
       "    <tr>\n",
       "      <td>2</td>\n",
       "      <td>62</td>\n",
       "      <td>NaN</td>\n",
       "      <td>NaN</td>\n",
       "      <td>NaN</td>\n",
       "      <td>NaN</td>\n",
       "      <td>NaN</td>\n",
       "      <td>NaN</td>\n",
       "      <td>NaN</td>\n",
       "      <td>NaN</td>\n",
       "      <td>NaN</td>\n",
       "      <td>NaN</td>\n",
       "      <td>NaN</td>\n",
       "      <td>NaN</td>\n",
       "      <td>NaN</td>\n",
       "      <td>NaN</td>\n",
       "    </tr>\n",
       "    <tr>\n",
       "      <td>3</td>\n",
       "      <td>48</td>\n",
       "      <td>NaN</td>\n",
       "      <td>NaN</td>\n",
       "      <td>NaN</td>\n",
       "      <td>NaN</td>\n",
       "      <td>NaN</td>\n",
       "      <td>NaN</td>\n",
       "      <td>NaN</td>\n",
       "      <td>NaN</td>\n",
       "      <td>NaN</td>\n",
       "      <td>NaN</td>\n",
       "      <td>NaN</td>\n",
       "      <td>NaN</td>\n",
       "      <td>NaN</td>\n",
       "      <td>NaN</td>\n",
       "    </tr>\n",
       "    <tr>\n",
       "      <td>4</td>\n",
       "      <td>52</td>\n",
       "      <td>NaN</td>\n",
       "      <td>NaN</td>\n",
       "      <td>NaN</td>\n",
       "      <td>NaN</td>\n",
       "      <td>NaN</td>\n",
       "      <td>NaN</td>\n",
       "      <td>NaN</td>\n",
       "      <td>NaN</td>\n",
       "      <td>NaN</td>\n",
       "      <td>NaN</td>\n",
       "      <td>NaN</td>\n",
       "      <td>NaN</td>\n",
       "      <td>NaN</td>\n",
       "      <td>NaN</td>\n",
       "    </tr>\n",
       "    <tr>\n",
       "      <td>...</td>\n",
       "      <td>...</td>\n",
       "      <td>...</td>\n",
       "      <td>...</td>\n",
       "      <td>...</td>\n",
       "      <td>...</td>\n",
       "      <td>...</td>\n",
       "      <td>...</td>\n",
       "      <td>...</td>\n",
       "      <td>...</td>\n",
       "      <td>...</td>\n",
       "      <td>...</td>\n",
       "      <td>...</td>\n",
       "      <td>...</td>\n",
       "      <td>...</td>\n",
       "      <td>...</td>\n",
       "    </tr>\n",
       "    <tr>\n",
       "      <td>415</td>\n",
       "      <td>64</td>\n",
       "      <td>109.0</td>\n",
       "      <td>105.0</td>\n",
       "      <td>81.0</td>\n",
       "      <td>37.0</td>\n",
       "      <td>48.0</td>\n",
       "      <td>61.0</td>\n",
       "      <td>65.0</td>\n",
       "      <td>70.0</td>\n",
       "      <td>72.0</td>\n",
       "      <td>89.0</td>\n",
       "      <td>108.0</td>\n",
       "      <td>87.0</td>\n",
       "      <td>28.04</td>\n",
       "      <td>28.04</td>\n",
       "    </tr>\n",
       "    <tr>\n",
       "      <td>416</td>\n",
       "      <td>51</td>\n",
       "      <td>92.0</td>\n",
       "      <td>109.0</td>\n",
       "      <td>105.0</td>\n",
       "      <td>81.0</td>\n",
       "      <td>37.0</td>\n",
       "      <td>48.0</td>\n",
       "      <td>61.0</td>\n",
       "      <td>65.0</td>\n",
       "      <td>70.0</td>\n",
       "      <td>72.0</td>\n",
       "      <td>89.0</td>\n",
       "      <td>108.0</td>\n",
       "      <td>27.78</td>\n",
       "      <td>27.78</td>\n",
       "    </tr>\n",
       "    <tr>\n",
       "      <td>417</td>\n",
       "      <td>40</td>\n",
       "      <td>126.0</td>\n",
       "      <td>92.0</td>\n",
       "      <td>109.0</td>\n",
       "      <td>105.0</td>\n",
       "      <td>81.0</td>\n",
       "      <td>37.0</td>\n",
       "      <td>48.0</td>\n",
       "      <td>61.0</td>\n",
       "      <td>65.0</td>\n",
       "      <td>70.0</td>\n",
       "      <td>72.0</td>\n",
       "      <td>89.0</td>\n",
       "      <td>27.42</td>\n",
       "      <td>27.42</td>\n",
       "    </tr>\n",
       "    <tr>\n",
       "      <td>418</td>\n",
       "      <td>42</td>\n",
       "      <td>102.0</td>\n",
       "      <td>126.0</td>\n",
       "      <td>92.0</td>\n",
       "      <td>109.0</td>\n",
       "      <td>105.0</td>\n",
       "      <td>81.0</td>\n",
       "      <td>37.0</td>\n",
       "      <td>48.0</td>\n",
       "      <td>61.0</td>\n",
       "      <td>65.0</td>\n",
       "      <td>70.0</td>\n",
       "      <td>72.0</td>\n",
       "      <td>27.40</td>\n",
       "      <td>27.40</td>\n",
       "    </tr>\n",
       "    <tr>\n",
       "      <td>419</td>\n",
       "      <td>38</td>\n",
       "      <td>154.0</td>\n",
       "      <td>102.0</td>\n",
       "      <td>126.0</td>\n",
       "      <td>92.0</td>\n",
       "      <td>109.0</td>\n",
       "      <td>105.0</td>\n",
       "      <td>81.0</td>\n",
       "      <td>37.0</td>\n",
       "      <td>48.0</td>\n",
       "      <td>61.0</td>\n",
       "      <td>65.0</td>\n",
       "      <td>70.0</td>\n",
       "      <td>27.60</td>\n",
       "      <td>27.60</td>\n",
       "    </tr>\n",
       "  </tbody>\n",
       "</table>\n",
       "<p>420 rows × 15 columns</p>\n",
       "</div>"
      ],
      "text/plain": [
       "     drought  drought (t-12)  drought (t-13)  drought (t-14)  drought (t-15)  \\\n",
       "0         62             NaN             NaN             NaN             NaN   \n",
       "1         62             NaN             NaN             NaN             NaN   \n",
       "2         62             NaN             NaN             NaN             NaN   \n",
       "3         48             NaN             NaN             NaN             NaN   \n",
       "4         52             NaN             NaN             NaN             NaN   \n",
       "..       ...             ...             ...             ...             ...   \n",
       "415       64           109.0           105.0            81.0            37.0   \n",
       "416       51            92.0           109.0           105.0            81.0   \n",
       "417       40           126.0            92.0           109.0           105.0   \n",
       "418       42           102.0           126.0            92.0           109.0   \n",
       "419       38           154.0           102.0           126.0            92.0   \n",
       "\n",
       "     drought (t-16)  drought (t-17)  drought (t-18)  drought (t-19)  \\\n",
       "0               NaN             NaN             NaN             NaN   \n",
       "1               NaN             NaN             NaN             NaN   \n",
       "2               NaN             NaN             NaN             NaN   \n",
       "3               NaN             NaN             NaN             NaN   \n",
       "4               NaN             NaN             NaN             NaN   \n",
       "..              ...             ...             ...             ...   \n",
       "415            48.0            61.0            65.0            70.0   \n",
       "416            37.0            48.0            61.0            65.0   \n",
       "417            81.0            37.0            48.0            61.0   \n",
       "418           105.0            81.0            37.0            48.0   \n",
       "419           109.0           105.0            81.0            37.0   \n",
       "\n",
       "     drought (t-20)  drought (t-21)  drought (t-22)  drought (t-23)  \\\n",
       "0               NaN             NaN             NaN             NaN   \n",
       "1               NaN             NaN             NaN             NaN   \n",
       "2               NaN             NaN             NaN             NaN   \n",
       "3               NaN             NaN             NaN             NaN   \n",
       "4               NaN             NaN             NaN             NaN   \n",
       "..              ...             ...             ...             ...   \n",
       "415            72.0            89.0           108.0            87.0   \n",
       "416            70.0            72.0            89.0           108.0   \n",
       "417            65.0            70.0            72.0            89.0   \n",
       "418            61.0            65.0            70.0            72.0   \n",
       "419            48.0            61.0            65.0            70.0   \n",
       "\n",
       "     enso (t-14)  enso (t-14)  \n",
       "0            NaN          NaN  \n",
       "1            NaN          NaN  \n",
       "2            NaN          NaN  \n",
       "3            NaN          NaN  \n",
       "4            NaN          NaN  \n",
       "..           ...          ...  \n",
       "415        28.04        28.04  \n",
       "416        27.78        27.78  \n",
       "417        27.42        27.42  \n",
       "418        27.40        27.40  \n",
       "419        27.60        27.60  \n",
       "\n",
       "[420 rows x 15 columns]"
      ]
     },
     "execution_count": 88,
     "metadata": {},
     "output_type": "execute_result"
    }
   ],
   "source": [
    "df"
   ]
  },
  {
   "cell_type": "code",
   "execution_count": 86,
   "metadata": {},
   "outputs": [],
   "source": [
    "def forward_feature_enso(count, enso, tau, ratio = 0.8, n_estimators=100, max_depth=5):\n",
    "    result = []\n",
    "    link_list = []\n",
    "    start_lag = tau\n",
    "    end_lag = tau + 11\n",
    "    df = pd.DataFrame({\"drought\":count})\n",
    "\n",
    "    df = ff.shift_df(df, start_lag, end_lag)\n",
    "    index = int(df.shape[0]*ratio)\n",
    "    dim = df.shape[1]\n",
    "    x_train, x_test = df.iloc[:index,1:dim], df.iloc[index:,1:dim]\n",
    "    y_train, y_test = df.iloc[:index,0], df.iloc[index:,0]\n",
    "    base_model = RandomForestRegressor(max_depth=max_depth, random_state=0, n_estimators=n_estimators)\n",
    "    base_model.fit(x_train, y_train)\n",
    "    y_pred = base_model.predict(x_test)\n",
    "    result.append(mean_squared_error(y_pred, y_test))\n",
    "\n",
    "    df_count = pd.DataFrame({\"drought\": count})\n",
    "    lags = np.arange(start_lag,end_lag + 1)\n",
    "    df_count = df_count.assign(**{\n",
    "    '{} (t-{})'.format(col, t): df_count[col].shift(t)\n",
    "    for t in lags\n",
    "    for col in df_count\n",
    "    })\n",
    "\n",
    "    df_enso = pd.DataFrame({\"enso\": enso})\n",
    "    lags = np.arange(start_lag,end_lag + 1)\n",
    "    df_enso = df_enso.assign(**{\n",
    "    '{} (t-{})'.format(col, t): df_enso[col].shift(t)\n",
    "    for t in lags\n",
    "    for col in df_enso\n",
    "    })\n",
    "\n",
    "    df_enso = df_enso.drop(['enso'],1)\n",
    "\n",
    "    df = pd.concat([df_count, df_enso],axis=1)\n",
    "    df = df.dropna()\n",
    "\n",
    "    base = df.iloc[:,:13].copy()\n",
    "    features = df.iloc[:,13:].copy()\n",
    "\n",
    "    while features.shape[1]>0:\n",
    "        min_mse = np.Inf\n",
    "        min_index = 0\n",
    "        for c in features.columns:\n",
    "            mse = ff.feature_score(base, features[c])\n",
    "            if (result[-1] > mse) and (min_mse > mse):\n",
    "                min_mse = mse\n",
    "                min_index = c\n",
    "        if isinstance(min_index, int): break\n",
    "        result.append(min_mse)\n",
    "        base = pd.concat([base, features[min_index]],axis=1)\n",
    "        features = features.drop(min_index,1)\n",
    "        link_list.append(min_index)\n",
    "\n",
    "    if len(link_list) > 0:        \n",
    "        x_train = base.iloc[:,1:]\n",
    "        y_train = base.iloc[:,0]\n",
    "        model = RandomForestRegressor(max_depth=max_depth, random_state=0, n_estimators=n_estimators)\n",
    "        model.fit(x_train, y_train)\n",
    "    else:\n",
    "        model = base_model\n",
    "        link_list = []\n",
    "    \n",
    "    return(np.array(link_list),base_model, model)"
   ]
  },
  {
   "cell_type": "code",
   "execution_count": 85,
   "metadata": {},
   "outputs": [],
   "source": [
    "def model_result_enso(count, enso, link, model, tau=1, n_estimators=100, max_depth=5):\n",
    "    if len(link) > 0:\n",
    "        start_lag = tau\n",
    "        end_lag = tau + 11\n",
    "\n",
    "        df = pd.DataFrame({\"drought\":count})\n",
    "        lags = np.arange(start_lag,end_lag + 1)\n",
    "        df = df.assign(**{\n",
    "        '{} (t-{})'.format(col, t): df[col].shift(t)\n",
    "        for t in lags\n",
    "        for col in df\n",
    "        })\n",
    "        \n",
    "        df_enso = pd.DataFrame({\"enso\": enso})\n",
    "        lags = np.arange(start_lag,end_lag + 1)\n",
    "        df_enso = df_enso.assign(**{\n",
    "        '{} (t-{})'.format(col, t): df_enso[col].shift(t)\n",
    "        for t in lags\n",
    "        for col in df_enso\n",
    "        })\n",
    "\n",
    "        df_enso = df_enso.drop(['enso'],1)\n",
    "        \n",
    "        for k in range(len(link)):\n",
    "            df = pd.concat([df_count, df_enso[link_list[k]]],axis=1) \n",
    "        df = df.dropna()\n",
    "\n",
    "        x_test = df.iloc[:,1:]\n",
    "        y_test = df.iloc[:,0]\n",
    "\n",
    "        y_pred = model.predict(x_test)\n",
    "        return(y_pred, y_test)\n",
    "    else:\n",
    "        return(np.nan, np.nan)"
   ]
  },
  {
   "cell_type": "code",
   "execution_count": null,
   "metadata": {},
   "outputs": [],
   "source": []
  },
  {
   "cell_type": "code",
   "execution_count": null,
   "metadata": {},
   "outputs": [],
   "source": []
  },
  {
   "cell_type": "code",
   "execution_count": null,
   "metadata": {},
   "outputs": [],
   "source": []
  },
  {
   "cell_type": "code",
   "execution_count": null,
   "metadata": {},
   "outputs": [],
   "source": []
  },
  {
   "cell_type": "code",
   "execution_count": null,
   "metadata": {},
   "outputs": [],
   "source": []
  },
  {
   "cell_type": "code",
   "execution_count": 82,
   "metadata": {},
   "outputs": [],
   "source": [
    "for tau in np.arange(1,13):\n",
    "    result = []\n",
    "    for ijz in range(len(train_start)):\n",
    "        temporal_limits = {\"time_min\":datetime(train_start[ijz], 1, 1, 0, 0),\"time_max\":datetime(validation_end[ijz], 12, 1, 0, 0)}\n",
    "        count, _ = ff.drought_timeseries(\"ZW_gamma_18912015_12.npy\",train_start[ijz],validation_end[ijz])\n",
    "        enso = timeseries('nino.npy',train_start[ijz],validation_end[ijz])\n",
    "\n",
    "        start_lag = tau\n",
    "        end_lag = tau + 11\n",
    "\n",
    "        df_count = pd.DataFrame({\"drought\": count})\n",
    "        lags = np.arange(start_lag,end_lag + 1)\n",
    "        df_count = df_count.assign(**{\n",
    "        '{} (t-{})'.format(col, t): df_count[col].shift(t)\n",
    "        for t in lags\n",
    "        for col in df_count\n",
    "        })\n",
    "\n",
    "        df_enso = pd.DataFrame({\"enso\": enso})\n",
    "        lags = np.arange(start_lag,end_lag + 1)\n",
    "        df_enso = df_enso.assign(**{\n",
    "        '{} (t-{})'.format(col, t): df_enso[col].shift(t)\n",
    "        for t in lags\n",
    "        for col in df_enso\n",
    "        })\n",
    "\n",
    "        df_enso = df_enso.drop(['enso'],1)\n",
    "\n",
    "        df = pd.concat([df_count, df_enso],axis=1)\n",
    "        df = df.dropna()\n",
    "\n",
    "        x_train = df.iloc[:,1:]\n",
    "        y_train = df.iloc[:,0]\n",
    "        model = RandomForestRegressor(max_depth=5, random_state=0, n_estimators=100)\n",
    "        model.fit(x_train, y_train)\n",
    "\n",
    "        temporal_limits = {\"time_min\":datetime(test_start[ijz], 1, 1, 0, 0),\"time_max\":datetime(test_end[ijz], 12, 1, 0, 0)}\n",
    "        count, _ = ff.drought_timeseries(\"ZW_gamma_18912015_12.npy\",test_start[ijz],test_end[ijz])\n",
    "        enso = timeseries('nino.npy',test_start[ijz],test_end[ijz])\n",
    "\n",
    "        df_count = pd.DataFrame({\"drought\": count})\n",
    "        lags = np.arange(start_lag,end_lag + 1)\n",
    "        df_count = df_count.assign(**{\n",
    "        '{} (t-{})'.format(col, t): df_count[col].shift(t)\n",
    "        for t in lags\n",
    "        for col in df_count\n",
    "        })\n",
    "\n",
    "        df_enso = pd.DataFrame({\"enso\": enso})\n",
    "        lags = np.arange(start_lag,end_lag + 1)\n",
    "        df_enso = df_enso.assign(**{\n",
    "        '{} (t-{})'.format(col, t): df_enso[col].shift(t)\n",
    "        for t in lags\n",
    "        for col in df_enso\n",
    "        })\n",
    "\n",
    "        df_enso = df_enso.drop(['enso'],1)\n",
    "\n",
    "        df = pd.concat([df_count, df_enso],axis=1)\n",
    "        df = df.dropna()\n",
    "\n",
    "        x_test = df.iloc[:,1:]\n",
    "        y_test = df.iloc[:,0]\n",
    "\n",
    "        y_pred = model.predict(x_test)\n",
    "\n",
    "        result.append(mean_squared_error(y_pred, y_test))\n",
    "    np.save(\"./enso/model_{}_{}_{}_{}_{}.npy\".format(f,step,test_start[0],test_end[-1],tau),result)"
   ]
  },
  {
   "cell_type": "code",
   "execution_count": 70,
   "metadata": {},
   "outputs": [
    {
     "data": {
      "text/plain": [
       "[79.9684988731764,\n",
       " 237.95274624448973,\n",
       " 563.3475660809452,\n",
       " 947.2434550270092,\n",
       " 1404.1073700699762,\n",
       " 1989.2321164841999,\n",
       " 2443.3799679479166,\n",
       " 2512.1706685360136,\n",
       " 2862.78825365628,\n",
       " 2908.93359627239,\n",
       " 3064.1886594762336,\n",
       " 3066.0141542219626]"
      ]
     },
     "execution_count": 70,
     "metadata": {},
     "output_type": "execute_result"
    }
   ],
   "source": [
    "result"
   ]
  },
  {
   "cell_type": "code",
   "execution_count": 5,
   "metadata": {},
   "outputs": [],
   "source": [
    "n_components_sst = np.load(\"sst_number.npy\")\n",
    "f = 12\n",
    "#taus = np.arange(1,4,1)\n",
    "cc = 'ET'"
   ]
  },
  {
   "cell_type": "code",
   "execution_count": 6,
   "metadata": {},
   "outputs": [],
   "source": [
    "step = 1\n",
    "train_start = np.arange(1950,1977,step)\n",
    "#train_end = np.arange(1955,2006,step)\n",
    "validation_end = np.arange(1984,2011,step)\n",
    "test_start = np.arange(1985,2012,step)\n",
    "test_end = np.arange(1989,2016,step)"
   ]
  },
  {
   "cell_type": "code",
   "execution_count": 7,
   "metadata": {},
   "outputs": [],
   "source": [
    "tau = 1"
   ]
  },
  {
   "cell_type": "code",
   "execution_count": 8,
   "metadata": {},
   "outputs": [],
   "source": [
    "extremes_treshold = -2"
   ]
  },
  {
   "cell_type": "code",
   "execution_count": 12,
   "metadata": {},
   "outputs": [],
   "source": [
    "result = []\n",
    "for ijz in range(len(train_start)):\n",
    "    temporal_limits = {\"time_min\":datetime(train_start[ijz], 1, 1, 0, 0),\"time_max\":datetime(validation_end[ijz], 12, 1, 0, 0)}\n",
    "    original_count, count = ff.drought_timeseries(\"{}_gamma_18912015_{}.npy\".format(cc,f),train_start[ijz],validation_end[ijz],extremes_treshold = extremes_treshold)\n",
    "    oni_t = timeseries_enso('oni.npy', start_year = train_start[ijz] , end_year=validation_end[ijz])\n",
    "    result.append(ff.crosscorr(original_count,oni_t,tau))"
   ]
  },
  {
   "cell_type": "code",
   "execution_count": 13,
   "metadata": {},
   "outputs": [
    {
     "data": {
      "text/plain": [
       "[(-0.15519563832093838, 0.0014394896320042666),\n",
       " (-0.21324866164691345, 1.0686466465874762e-05),\n",
       " (-0.2186727129001003, 6.256353965210729e-06),\n",
       " (-0.2248727776292903, 3.336214490853008e-06),\n",
       " (-0.20926284098695228, 1.5701207795908018e-05),\n",
       " (-0.1781106346987281, 0.000248032905898267),\n",
       " (-0.16182398903381923, 0.0008857835598812674),\n",
       " (-0.1588712204170303, 0.0011022186243682085),\n",
       " (-0.1310278395254933, 0.0072389276873145265),\n",
       " (-0.1324329471653292, 0.006633517441967645),\n",
       " (-0.13648841594509603, 0.005132310037061268),\n",
       " (-0.13591912064145165, 0.00532268716214264),\n",
       " (-0.12344074341222866, 0.01144208708842324),\n",
       " (-0.11958363904983606, 0.014313481244036278),\n",
       " (-0.12544748930361088, 0.010159988441377743),\n",
       " (-0.1335117143018185, 0.006199929878955994),\n",
       " (-0.14477528944092563, 0.0029752187752887685),\n",
       " (-0.13474587359418935, 0.005735202926672228),\n",
       " (-0.13325794458047016, 0.0062995747260266655),\n",
       " (-0.12997889855237965, 0.007722600470023519),\n",
       " (-0.1289200064359735, 0.008239927930382276),\n",
       " (-0.1330365399185202, 0.006387681799909286),\n",
       " (-0.10851567449663739, 0.026338259974432707),\n",
       " (-0.1393301755636008, 0.0042706337797191055),\n",
       " (-0.06940564900281507, 0.15614270395077115),\n",
       " (-0.0109021502777165, 0.8239235901272969),\n",
       " (0.010080868745434821, 0.8369947810206855)]"
      ]
     },
     "execution_count": 13,
     "metadata": {},
     "output_type": "execute_result"
    }
   ],
   "source": [
    "result"
   ]
  },
  {
   "cell_type": "code",
   "execution_count": 33,
   "metadata": {},
   "outputs": [
    {
     "data": {
      "text/plain": [
       "'ET'"
      ]
     },
     "execution_count": 33,
     "metadata": {},
     "output_type": "execute_result"
    }
   ],
   "source": [
    "cc"
   ]
  },
  {
   "cell_type": "code",
   "execution_count": 34,
   "metadata": {},
   "outputs": [],
   "source": [
    "extremes_treshold = np.arange(0,-2.6,-0.1)"
   ]
  },
  {
   "cell_type": "code",
   "execution_count": 181,
   "metadata": {},
   "outputs": [],
   "source": [
    "tau = 7"
   ]
  },
  {
   "cell_type": "code",
   "execution_count": 182,
   "metadata": {},
   "outputs": [],
   "source": [
    "#extremes_treshold = -2\n",
    "result = []\n",
    "train_start = 1948\n",
    "validation_end  = 2010\n",
    "oni_t = timeseries_enso('nino.npy', start_year = train_start , end_year=validation_end, base_year = 1948)\n",
    "#for tau in np.arange(1,13):\n",
    "for e in extremes_treshold:\n",
    "    temporal_limits = {\"time_min\":datetime(train_start, 1, 1, 0, 0),\"time_max\":datetime(validation_end, 12, 1, 0, 0)}\n",
    "    original_count, count = ff.drought_timeseries(\"{}_gamma_18912015_{}.npy\".format(cc,f),train_start,validation_end, extremes_treshold = e)\n",
    "    oni_t = timeseries_enso('nino.npy', start_year = train_start , end_year=validation_end, base_year = 1948)\n",
    "    result.append(ff.crosscorr(count,oni_t,tau))"
   ]
  },
  {
   "cell_type": "code",
   "execution_count": 183,
   "metadata": {},
   "outputs": [],
   "source": [
    "result = np.array(result)"
   ]
  },
  {
   "cell_type": "code",
   "execution_count": 184,
   "metadata": {},
   "outputs": [
    {
     "data": {
      "text/plain": [
       "Text(0.5, 0, 'cutoff threshold')"
      ]
     },
     "execution_count": 184,
     "metadata": {},
     "output_type": "execute_result"
    },
    {
     "data": {
      "image/png": "[encoded data removed]",
      "text/plain": [
       "<Figure size 1440x720 with 1 Axes>"
      ]
     },
     "metadata": {},
     "output_type": "display_data"
    }
   ],
   "source": [
    "plt.plot(extremes_treshold,result[:,1])\n",
    "plt.axhline(y=0.05, color='r', linestyle='-')\n",
    "plt.ylabel(\"p-value\", fontsize = 20)\n",
    "plt.xlabel(\"cutoff threshold\", fontsize = 20)"
   ]
  },
  {
   "cell_type": "code",
   "execution_count": 267,
   "metadata": {},
   "outputs": [
    {
     "data": {
      "text/plain": [
       "<matplotlib.lines.Line2D at 0x7fbea46edcf8>"
      ]
     },
     "execution_count": 267,
     "metadata": {},
     "output_type": "execute_result"
    },
    {
     "data": {
      "image/png": "[encoded data removed]",
      "text/plain": [
       "<Figure size 1440x720 with 1 Axes>"
      ]
     },
     "metadata": {},
     "output_type": "display_data"
    }
   ],
   "source": [
    "plt.plot(extremes_treshold,result[:,1])\n",
    "plt.axhline(y=0.05, color='r', linestyle='-')"
   ]
  },
  {
   "cell_type": "code",
   "execution_count": null,
   "metadata": {},
   "outputs": [],
   "source": []
  },
  {
   "cell_type": "code",
   "execution_count": null,
   "metadata": {},
   "outputs": [],
   "source": []
  },
  {
   "cell_type": "code",
   "execution_count": 20,
   "metadata": {},
   "outputs": [
    {
     "data": {
      "text/plain": [
       "[(0.05477244355095615, 0.13901751787314043),\n",
       " (0.07260383899393363, 0.04989367038393676),\n",
       " (0.09145100635910923, 0.013506856232428855),\n",
       " (0.10341209338685911, 0.005223665652730155),\n",
       " (0.10248319002674057, 0.005678712868490234),\n",
       " (0.09007243026587748, 0.015194873926204626),\n",
       " (0.06514508124592562, 0.07961563244824967),\n",
       " (0.033333462166921055, 0.37046063272324115),\n",
       " (0.001642756018656886, 0.9648285927073882),\n",
       " (-0.021638617215204513, 0.561583267369839),\n",
       " (-0.03712836594440729, 0.31946218449484654),\n",
       " (-0.044921302363348875, 0.22863655465619462)]"
      ]
     },
     "execution_count": 20,
     "metadata": {},
     "output_type": "execute_result"
    }
   ],
   "source": [
    "result"
   ]
  },
  {
   "cell_type": "code",
   "execution_count": 268,
   "metadata": {},
   "outputs": [],
   "source": [
    "def drought_timeseries_2d(file_name, start_year = 1922, end_year=2015, extremes_treshold = -1, base_year = 1922):\n",
    "    start_index = (start_year - base_year) * 12\n",
    "    end_index = start_index + (end_year - (start_year - 1))*12\n",
    "    ET_gamma = np.load(file_name)\n",
    "    return(ET_gamma[start_index:end_index,:])"
   ]
  },
  {
   "cell_type": "code",
   "execution_count": null,
   "metadata": {},
   "outputs": [],
   "source": []
  },
  {
   "cell_type": "code",
   "execution_count": 281,
   "metadata": {},
   "outputs": [],
   "source": [
    "result_agg = []\n",
    "train_start = 1950\n",
    "validation_end  = 2010\n",
    "taus = np.arange(1,13,1)\n",
    "spi = drought_timeseries_2d(\"{}_gamma_18912015_{}.npy\".format(cc,f),train_start,validation_end)\n",
    "oni_t = timeseries('nino.npy', start_year = train_start , end_year=validation_end)\n",
    "for tau in taus:\n",
    "    result = []\n",
    "    for i in range(spi.shape[1]):\n",
    "        result.append(ff.crosscorr(spi[:,i],oni_t,tau))\n",
    "    result = np.array(result)\n",
    "    I = result[:,1] < 0.05\n",
    "    result_agg.append(np.count_nonzero(I)/303)"
   ]
  },
  {
   "cell_type": "code",
   "execution_count": 277,
   "metadata": {},
   "outputs": [],
   "source": [
    "result = np.array(result)"
   ]
  },
  {
   "cell_type": "code",
   "execution_count": 278,
   "metadata": {},
   "outputs": [],
   "source": [
    "I = result[:,1] < 0.05"
   ]
  },
  {
   "cell_type": "code",
   "execution_count": 279,
   "metadata": {},
   "outputs": [
    {
     "data": {
      "text/plain": [
       "0.6237623762376238"
      ]
     },
     "execution_count": 279,
     "metadata": {},
     "output_type": "execute_result"
    }
   ],
   "source": [
    "np.count_nonzero(I)/303"
   ]
  },
  {
   "cell_type": "code",
   "execution_count": 282,
   "metadata": {},
   "outputs": [
    {
     "data": {
      "text/plain": [
       "[0.6237623762376238,\n",
       " 0.6303630363036303,\n",
       " 0.6600660066006601,\n",
       " 0.6534653465346535,\n",
       " 0.6600660066006601,\n",
       " 0.6633663366336634,\n",
       " 0.6666666666666666,\n",
       " 0.6534653465346535,\n",
       " 0.6402640264026402,\n",
       " 0.6600660066006601,\n",
       " 0.6072607260726073,\n",
       " 0.5676567656765676]"
      ]
     },
     "execution_count": 282,
     "metadata": {},
     "output_type": "execute_result"
    }
   ],
   "source": [
    "result_agg"
   ]
  },
  {
   "cell_type": "code",
   "execution_count": null,
   "metadata": {},
   "outputs": [],
   "source": []
  },
  {
   "cell_type": "code",
   "execution_count": null,
   "metadata": {},
   "outputs": [],
   "source": []
  },
  {
   "cell_type": "code",
   "execution_count": null,
   "metadata": {},
   "outputs": [],
   "source": []
  },
  {
   "cell_type": "code",
   "execution_count": 80,
   "metadata": {},
   "outputs": [],
   "source": [
    "class_list = np.load(\"ET_class_list.npy\")"
   ]
  },
  {
   "cell_type": "code",
   "execution_count": 87,
   "metadata": {},
   "outputs": [],
   "source": [
    "class_index = class_list == 'Cwb'"
   ]
  },
  {
   "cell_type": "code",
   "execution_count": 88,
   "metadata": {},
   "outputs": [
    {
     "data": {
      "text/plain": [
       "0.5714285714285714"
      ]
     },
     "execution_count": 88,
     "metadata": {},
     "output_type": "execute_result"
    }
   ],
   "source": [
    "np.count_nonzero(I & class_index)/np.count_nonzero(class_index)"
   ]
  },
  {
   "cell_type": "code",
   "execution_count": 74,
   "metadata": {},
   "outputs": [
    {
     "data": {
      "text/plain": [
       "117"
      ]
     },
     "execution_count": 74,
     "metadata": {},
     "output_type": "execute_result"
    }
   ],
   "source": [
    "np.count_nonzero(class_index)"
   ]
  },
  {
   "cell_type": "code",
   "execution_count": 75,
   "metadata": {},
   "outputs": [
    {
     "data": {
      "text/plain": [
       "67"
      ]
     },
     "execution_count": 75,
     "metadata": {},
     "output_type": "execute_result"
    }
   ],
   "source": [
    "np.count_nonzero(I & class_index)"
   ]
  },
  {
   "cell_type": "code",
   "execution_count": 76,
   "metadata": {},
   "outputs": [
    {
     "data": {
      "text/plain": [
       "array([ True,  True,  True,  True,  True,  True, False, False,  True,\n",
       "        True,  True,  True,  True,  True,  True,  True,  True,  True,\n",
       "        True, False, False,  True,  True,  True,  True,  True,  True,\n",
       "       False, False, False,  True,  True,  True, False,  True,  True,\n",
       "       False, False, False, False, False,  True,  True,  True, False,\n",
       "       False, False,  True,  True, False, False, False, False, False,\n",
       "       False,  True,  True,  True, False, False, False,  True, False,\n",
       "       False,  True,  True,  True, False, False, False, False,  True,\n",
       "        True,  True, False,  True, False, False, False, False, False,\n",
       "       False, False, False, False, False,  True, False, False, False,\n",
       "        True, False,  True,  True, False, False, False, False, False,\n",
       "        True, False,  True, False, False, False, False, False, False,\n",
       "       False, False, False, False, False, False,  True,  True, False,\n",
       "       False, False, False, False, False, False, False, False, False,\n",
       "       False,  True, False, False, False, False,  True, False,  True,\n",
       "       False,  True,  True, False, False, False, False, False,  True,\n",
       "       False, False, False, False, False, False, False, False, False,\n",
       "       False, False,  True, False, False, False, False, False, False,\n",
       "       False, False, False, False, False, False, False, False, False,\n",
       "        True, False, False, False, False, False, False, False, False,\n",
       "       False, False, False, False, False, False, False, False, False,\n",
       "       False, False, False, False, False, False, False, False, False,\n",
       "       False, False, False,  True, False, False, False, False, False,\n",
       "        True,  True,  True, False, False, False, False, False, False,\n",
       "       False, False, False, False,  True, False, False, False, False,\n",
       "       False, False, False, False, False, False, False, False, False,\n",
       "       False, False, False, False, False, False, False, False, False,\n",
       "       False, False, False, False, False, False, False, False, False,\n",
       "       False, False, False, False,  True,  True, False, False, False,\n",
       "       False, False, False, False, False, False, False, False, False,\n",
       "       False, False, False, False, False, False, False, False, False,\n",
       "       False, False, False, False, False, False, False, False, False,\n",
       "       False, False, False, False, False, False, False, False, False,\n",
       "       False, False, False, False, False, False])"
      ]
     },
     "execution_count": 76,
     "metadata": {},
     "output_type": "execute_result"
    }
   ],
   "source": [
    "I & class_index"
   ]
  },
  {
   "cell_type": "code",
   "execution_count": null,
   "metadata": {},
   "outputs": [],
   "source": []
  }
 ],
 "metadata": {
  "kernelspec": {
   "display_name": "Python 3",
   "language": "python",
   "name": "python3"
  },
  "language_info": {
   "codemirror_mode": {
    "name": "ipython",
    "version": 3
   },
   "file_extension": ".py",
   "mimetype": "text/x-python",
   "name": "python",
   "nbconvert_exporter": "python",
   "pygments_lexer": "ipython3",
   "version": "3.6.9"
  }
 },
 "nbformat": 4,
 "nbformat_minor": 2
}
