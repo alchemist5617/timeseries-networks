{
 "cells": [
  {
   "cell_type": "code",
   "execution_count": 2,
   "metadata": {},
   "outputs": [],
   "source": [
    "import matplotlib.pyplot as plt\n",
    "import numpy as np\n",
    "import math\n",
    "import pandas as pd\n",
    "import random\n",
    "\n",
    "from scipy import eye, asarray, dot, sum, diag\n",
    "from scipy.linalg import svd\n",
    "from mpl_toolkits.basemap import Basemap\n",
    "import matplotlib as mpl\n",
    "from matplotlib import cm\n",
    "from colorspacious import cspace_converter\n",
    "from collections import OrderedDict\n",
    "from netCDF4 import Dataset\n",
    "from numpy import linspace\n",
    "from numpy import meshgrid\n",
    "\n",
    "\n",
    "import PCA_functions as pf\n",
    "import Extreme_functions as ef\n",
    "\n",
    "from tigramite import plotting as tp\n",
    "from tigramite.pcmci import PCMCI\n",
    "from tigramite.independence_tests import ParCorr, CMIknn\n",
    "import tigramite.data_processing as pp\n",
    "\n",
    "from Data import Data\n",
    "from datetime import datetime\n",
    "\n",
    "from sklearn.ensemble import RandomForestRegressor\n",
    "from sklearn.metrics import mean_squared_error\n",
    "\n",
    "import itertools\n",
    "from collections import Counter\n",
    "import pickle\n",
    "\n",
    "from numpy import linalg as LA\n",
    "\n",
    "import matplotlib.cm as cm\n",
    "\n",
    "from scipy.special import inv_boxcox\n",
    "from scipy import stats\n",
    "\n",
    "from matplotlib import animation\n",
    "\n",
    "import scipy.stats as st\n",
    "\n",
    "import reverse_geocoder as rg\n",
    "\n",
    "from pandas_datareader import wb\n",
    "import scipy.stats as st\n",
    "\n",
    "import Rung as rung\n",
    "\n",
    "from pandas_datareader import wb\n",
    "\n",
    "import seaborn as sns\n",
    "\n",
    "\n",
    "import seaborn as sns\n",
    "import feature_finder_keiko as ff\n",
    "import feature_finder_f as ff1\n",
    "\n",
    "from scipy import signal\n",
    "\n",
    "plt.rcParams[\"figure.figsize\"] = (20,10)"
   ]
  },
  {
   "cell_type": "code",
   "execution_count": 3,
   "metadata": {},
   "outputs": [],
   "source": [
    "train_start = 1976\n",
    "validation_end = 2015\n",
    "n_components_soil = 40\n",
    "f = 12"
   ]
  },
  {
   "cell_type": "code",
   "execution_count": 4,
   "metadata": {},
   "outputs": [],
   "source": [
    "temporal_limits = {\"time_min\":datetime(train_start, 1, 1, 0, 0),\"time_max\":datetime(validation_end, 12, 1, 0, 0)}\n"
   ]
  },
  {
   "cell_type": "code",
   "execution_count": 5,
   "metadata": {},
   "outputs": [
    {
     "name": "stderr",
     "output_type": "stream",
     "text": [
      "/home/mathsys2/anaconda3/lib/python3.6/site-packages/numpy/core/_asarray.py:85: RuntimeWarning: invalid value encountered in less\n",
      "  return array(a, dtype, copy=False, order=order)\n",
      "/home/mathsys2/anaconda3/lib/python3.6/site-packages/numpy/core/_asarray.py:85: RuntimeWarning: invalid value encountered in greater\n",
      "  return array(a, dtype, copy=False, order=order)\n"
     ]
    }
   ],
   "source": [
    "soil = Data('../../../nc/soilw.mon.mean.v2.nc',\"soilw\",temporal_limits, missing_value= 0)\n",
    "\n",
    "result = soil.get_data()\n",
    "lon_list = soil.get_lon_list()\n",
    "lat_list = soil.get_lat_list()\n",
    "lon = soil.get_lon()\n",
    "lat = soil.get_lat()"
   ]
  },
  {
   "cell_type": "code",
   "execution_count": 6,
   "metadata": {},
   "outputs": [
    {
     "data": {
      "text/plain": [
       "array([ 89.75,  89.25,  88.75,  88.25,  87.75,  87.25,  86.75,  86.25,\n",
       "        85.75,  85.25,  84.75,  84.25,  83.75,  83.25,  82.75,  82.25,\n",
       "        81.75,  81.25,  80.75,  80.25,  79.75,  79.25,  78.75,  78.25,\n",
       "        77.75,  77.25,  76.75,  76.25,  75.75,  75.25,  74.75,  74.25,\n",
       "        73.75,  73.25,  72.75,  72.25,  71.75,  71.25,  70.75,  70.25,\n",
       "        69.75,  69.25,  68.75,  68.25,  67.75,  67.25,  66.75,  66.25,\n",
       "        65.75,  65.25,  64.75,  64.25,  63.75,  63.25,  62.75,  62.25,\n",
       "        61.75,  61.25,  60.75,  60.25,  59.75,  59.25,  58.75,  58.25,\n",
       "        57.75,  57.25,  56.75,  56.25,  55.75,  55.25,  54.75,  54.25,\n",
       "        53.75,  53.25,  52.75,  52.25,  51.75,  51.25,  50.75,  50.25,\n",
       "        49.75,  49.25,  48.75,  48.25,  47.75,  47.25,  46.75,  46.25,\n",
       "        45.75,  45.25,  44.75,  44.25,  43.75,  43.25,  42.75,  42.25,\n",
       "        41.75,  41.25,  40.75,  40.25,  39.75,  39.25,  38.75,  38.25,\n",
       "        37.75,  37.25,  36.75,  36.25,  35.75,  35.25,  34.75,  34.25,\n",
       "        33.75,  33.25,  32.75,  32.25,  31.75,  31.25,  30.75,  30.25,\n",
       "        29.75,  29.25,  28.75,  28.25,  27.75,  27.25,  26.75,  26.25,\n",
       "        25.75,  25.25,  24.75,  24.25,  23.75,  23.25,  22.75,  22.25,\n",
       "        21.75,  21.25,  20.75,  20.25,  19.75,  19.25,  18.75,  18.25,\n",
       "        17.75,  17.25,  16.75,  16.25,  15.75,  15.25,  14.75,  14.25,\n",
       "        13.75,  13.25,  12.75,  12.25,  11.75,  11.25,  10.75,  10.25,\n",
       "         9.75,   9.25,   8.75,   8.25,   7.75,   7.25,   6.75,   6.25,\n",
       "         5.75,   5.25,   4.75,   4.25,   3.75,   3.25,   2.75,   2.25,\n",
       "         1.75,   1.25,   0.75,   0.25,  -0.25,  -0.75,  -1.25,  -1.75,\n",
       "        -2.25,  -2.75,  -3.25,  -3.75,  -4.25,  -4.75,  -5.25,  -5.75,\n",
       "        -6.25,  -6.75,  -7.25,  -7.75,  -8.25,  -8.75,  -9.25,  -9.75,\n",
       "       -10.25, -10.75, -11.25, -11.75, -12.25, -12.75, -13.25, -13.75,\n",
       "       -14.25, -14.75, -15.25, -15.75, -16.25, -16.75, -17.25, -17.75,\n",
       "       -18.25, -18.75, -19.25, -19.75, -20.25, -20.75, -21.25, -21.75,\n",
       "       -22.25, -22.75, -23.25, -23.75, -24.25, -24.75, -25.25, -25.75,\n",
       "       -26.25, -26.75, -27.25, -27.75, -28.25, -28.75, -29.25, -29.75,\n",
       "       -30.25, -30.75, -31.25, -31.75, -32.25, -32.75, -33.25, -33.75,\n",
       "       -34.25, -34.75, -35.25, -35.75, -36.25, -36.75, -37.25, -37.75,\n",
       "       -38.25, -38.75, -39.25, -39.75, -40.25, -40.75, -41.25, -41.75,\n",
       "       -42.25, -42.75, -43.25, -43.75, -44.25, -44.75, -45.25, -45.75,\n",
       "       -46.25, -46.75, -47.25, -47.75, -48.25, -48.75, -49.25, -49.75,\n",
       "       -50.25, -50.75, -51.25, -51.75, -52.25, -52.75, -53.25, -53.75,\n",
       "       -54.25, -54.75, -55.25, -55.75, -56.25, -56.75, -57.25, -57.75,\n",
       "       -58.25, -58.75, -59.25, -59.75, -60.25, -60.75, -61.25, -61.75,\n",
       "       -62.25, -62.75, -63.25, -63.75, -64.25, -64.75, -65.25, -65.75,\n",
       "       -66.25, -66.75, -67.25, -67.75, -68.25, -68.75, -69.25, -69.75,\n",
       "       -70.25, -70.75, -71.25, -71.75, -72.25, -72.75, -73.25, -73.75,\n",
       "       -74.25, -74.75, -75.25, -75.75, -76.25, -76.75, -77.25, -77.75,\n",
       "       -78.25, -78.75, -79.25, -79.75, -80.25, -80.75, -81.25, -81.75,\n",
       "       -82.25, -82.75, -83.25, -83.75, -84.25, -84.75, -85.25, -85.75,\n",
       "       -86.25, -86.75, -87.25, -87.75, -88.25, -88.75, -89.25, -89.75],\n",
       "      dtype=float32)"
      ]
     },
     "execution_count": 6,
     "metadata": {},
     "output_type": "execute_result"
    }
   ],
   "source": [
    "lat"
   ]
  },
  {
   "cell_type": "code",
   "execution_count": 9,
   "metadata": {},
   "outputs": [],
   "source": [
    "sst = Data('../../../nc/sst.mnmean.nc',\"sst\",temporal_limits)\n",
    "\n",
    "result = sst.get_data()\n",
    "lon_list = sst.get_lon_list()\n",
    "lat_list = sst.get_lat_list()\n",
    "lon = sst.get_lon()\n",
    "lat = sst.get_lat()"
   ]
  },
  {
   "cell_type": "code",
   "execution_count": 11,
   "metadata": {},
   "outputs": [
    {
     "data": {
      "text/plain": [
       "array([ 88.,  86.,  84.,  82.,  80.,  78.,  76.,  74.,  72.,  70.,  68.,\n",
       "        66.,  64.,  62.,  60.,  58.,  56.,  54.,  52.,  50.,  48.,  46.,\n",
       "        44.,  42.,  40.,  38.,  36.,  34.,  32.,  30.,  28.,  26.,  24.,\n",
       "        22.,  20.,  18.,  16.,  14.,  12.,  10.,   8.,   6.,   4.,   2.,\n",
       "         0.,  -2.,  -4.,  -6.,  -8., -10., -12., -14., -16., -18., -20.,\n",
       "       -22., -24., -26., -28., -30., -32., -34., -36., -38., -40., -42.,\n",
       "       -44., -46., -48., -50., -52., -54., -56., -58., -60., -62., -64.,\n",
       "       -66., -68., -70., -72., -74., -76., -78., -80., -82., -84., -86.,\n",
       "       -88.], dtype=float32)"
      ]
     },
     "execution_count": 11,
     "metadata": {},
     "output_type": "execute_result"
    }
   ],
   "source": [
    "lat"
   ]
  },
  {
   "cell_type": "code",
   "execution_count": null,
   "metadata": {},
   "outputs": [],
   "source": []
  }
 ],
 "metadata": {
  "kernelspec": {
   "display_name": "Python 3",
   "language": "python",
   "name": "python3"
  },
  "language_info": {
   "codemirror_mode": {
    "name": "ipython",
    "version": 3
   },
   "file_extension": ".py",
   "mimetype": "text/x-python",
   "name": "python",
   "nbconvert_exporter": "python",
   "pygments_lexer": "ipython3",
   "version": "3.6.9"
  }
 },
 "nbformat": 4,
 "nbformat_minor": 2
}
