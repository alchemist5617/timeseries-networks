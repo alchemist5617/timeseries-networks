{
 "cells": [
  {
   "cell_type": "code",
   "execution_count": 412,
   "metadata": {},
   "outputs": [],
   "source": [
    "import matplotlib.pyplot as plt\n",
    "import numpy as np\n",
    "import math\n",
    "import pandas as pd\n",
    "import random\n",
    "\n",
    "from scipy import eye, asarray, dot, sum, diag\n",
    "from scipy.linalg import svd\n",
    "from mpl_toolkits.basemap import Basemap\n",
    "import matplotlib as mpl\n",
    "from matplotlib import cm\n",
    "from colorspacious import cspace_converter\n",
    "from collections import OrderedDict\n",
    "from netCDF4 import Dataset\n",
    "from numpy import linspace\n",
    "from numpy import meshgrid\n",
    "\n",
    "\n",
    "import PCA_functions as pf\n",
    "import Extreme_functions as ef\n",
    "\n",
    "from tigramite import plotting as tp\n",
    "from tigramite.pcmci import PCMCI\n",
    "from tigramite.independence_tests import ParCorr, CMIknn\n",
    "import tigramite.data_processing as pp\n",
    "\n",
    "from Data import Data\n",
    "from datetime import datetime\n",
    "\n",
    "from sklearn.ensemble import RandomForestRegressor\n",
    "from sklearn.metrics import mean_squared_error\n",
    "\n",
    "import itertools\n",
    "from collections import Counter\n",
    "import pickle\n",
    "\n",
    "from numpy import linalg as LA\n",
    "\n",
    "import matplotlib.cm as cm\n",
    "\n",
    "from scipy.special import inv_boxcox\n",
    "from scipy import stats\n",
    "\n",
    "from matplotlib import animation\n",
    "\n",
    "import scipy.stats as st\n",
    "\n",
    "import reverse_geocoder as rg\n",
    "\n",
    "from pandas_datareader import wb\n",
    "import scipy.stats as st\n",
    "\n",
    "import Rung as rung\n",
    "\n",
    "from pandas_datareader import wb\n",
    "\n",
    "import seaborn as sns\n",
    "\n",
    "\n",
    "import seaborn as sns\n",
    "import feature_finder_keiko as ff\n",
    "import feature_finder_f as ff1\n",
    "\n",
    "from scipy import signal\n",
    "\n",
    "plt.rcParams[\"figure.figsize\"] = (20,10)"
   ]
  },
  {
   "cell_type": "code",
   "execution_count": 413,
   "metadata": {},
   "outputs": [],
   "source": [
    "def feature_score(base, feature, base_val, feature_val, n_estimators=100, max_depth=5):\n",
    "    df = pd.concat([base, feature],axis=1)\n",
    "    df_val = pd.concat([base_val, feature_val],axis=1) \n",
    "    #index = int(df.shape[0]*ratio)\n",
    "\n",
    "    x_train, y_train = df.iloc[:,1:], df.iloc[:,0]\n",
    "    x_val, y_val = df_val.iloc[:,1:], df_val.iloc[:,0]\n",
    "    \n",
    "    model = RandomForestRegressor(max_depth=max_depth, random_state=0, n_estimators=n_estimators)\n",
    "    model.fit(x_train, y_train)\n",
    "    y_pred = model.predict(x_val)\n",
    "    return(mean_squared_error(y_pred, y_val))"
   ]
  },
  {
   "cell_type": "code",
   "execution_count": 414,
   "metadata": {},
   "outputs": [],
   "source": [
    "def forward_feature(original_count, original_count_val, data_sst, data_sst_val, link, V, tau, n_estimators=100, max_depth=5):\n",
    "    result = []\n",
    "    link_list = []\n",
    "    start_lag = tau\n",
    "    end_lag = tau + 11\n",
    "    \n",
    "    df = pd.DataFrame({\"drought\":original_count})\n",
    "    df = ff.shift_df(df, start_lag, end_lag)\n",
    "\n",
    "    x_train, y_train = df.iloc[:,1:], df.iloc[:,0]\n",
    "\n",
    "    df_val = pd.DataFrame({\"drought\":original_count_val})\n",
    "    df_val = ff.shift_df(df_val, start_lag, end_lag)\n",
    "\n",
    "    x_val, y_val = df_val.iloc[:,1:], df_val.iloc[:,0]\n",
    "\n",
    "    base_model = RandomForestRegressor(max_depth=max_depth, random_state=0, n_estimators=n_estimators)\n",
    "    base_model.fit(x_train, y_train);\n",
    "\n",
    "    y_pred = base_model.predict(x_val)\n",
    "    result.append(mean_squared_error(y_pred, y_val))\n",
    "    \n",
    "    df = pd.DataFrame({\"drought\": original_count})\n",
    "    lags = np.arange(start_lag,end_lag + 1)\n",
    "    df = df.assign(**{\n",
    "    '{} (t-{})'.format(col, t): df[col].shift(t)\n",
    "    for t in lags\n",
    "    for col in df\n",
    "    })\n",
    "    for k in range(len(link)):\n",
    "        df_sst[\"pc\"] = V[:,link[k,0]-1]\n",
    "        df[str(k)] = ff.time_series_maker(link[k,0]-1, df_sst, data_sst)\n",
    "        df[str(k)] = df[str(k)].shift(abs(link[k,1]))\n",
    "    df = df.dropna()\n",
    "    \n",
    "    \n",
    "    base = df.iloc[:,:13].copy()\n",
    "    features = df.iloc[:,13:].copy()\n",
    "\n",
    "    df_val = pd.DataFrame({\"drought\": original_count_val})\n",
    "    lags = np.arange(start_lag,end_lag + 1)\n",
    "    df_val = df_val.assign(**{\n",
    "    '{} (t-{})'.format(col, t): df_val[col].shift(t)\n",
    "    for t in lags\n",
    "    for col in df_val\n",
    "    })\n",
    "    for k in range(len(link)):\n",
    "        df_sst[\"pc\"] = V[:,link[k,0]-1]\n",
    "        df_val[str(k)] = ff.time_series_maker(link[k,0]-1, df_sst, data_sst_val)\n",
    "        df_val[str(k)] = df_val[str(k)].shift(abs(link[k,1]))\n",
    "    df_val = df_val.dropna()\n",
    "\n",
    "    base_val = df_val.iloc[:,:13].copy()\n",
    "    features_val = df_val.iloc[:,13:].copy()\n",
    "    \n",
    "    while features.shape[1]>0:\n",
    "        min_mse = np.Inf\n",
    "        min_index = 0\n",
    "        for c in features.columns:\n",
    "            mse = feature_score(base, features[c], base_val, features_val[c])\n",
    "            if (result[-1] > mse) and (min_mse > mse):\n",
    "                min_mse = mse\n",
    "                min_index = c\n",
    "        if isinstance(min_index, int): break\n",
    "        result.append(min_mse)\n",
    "        base = pd.concat([base, features[min_index]],axis=1)\n",
    "        features = features.drop(min_index,1)\n",
    "        base_val = pd.concat([base_val, features_val[min_index]],axis=1)\n",
    "        features_val = features_val.drop(min_index,1)\n",
    "        link_list.append(link[int(min_index)])\n",
    "    \n",
    "    return(np.array(link_list), result)\n"
   ]
  },
  {
   "cell_type": "code",
   "execution_count": 415,
   "metadata": {},
   "outputs": [],
   "source": [
    "def model_generator(count, data_sst, best_link, df_sst, V, tau, n_estimators=100, max_depth=5):\n",
    "    \n",
    "    start_lag = tau\n",
    "    end_lag = tau+11\n",
    "    \n",
    "    df = pd.DataFrame({\"drought\":count})\n",
    "    df = ff.shift_df(df, start_lag, end_lag)\n",
    "    x_train = df.iloc[:,1:]\n",
    "    y_train = df.iloc[:,0]\n",
    "    base_model = RandomForestRegressor(max_depth=max_depth, random_state=0, n_estimators=n_estimators)\n",
    "    base_model.fit(x_train, y_train)        \n",
    "            \n",
    "    df = pd.DataFrame({\"drought\": count})\n",
    "    lags = np.arange(start_lag,end_lag+1)\n",
    "    df = df.assign(**{\n",
    "    '{} (t-{})'.format(col, t): df[col].shift(t)\n",
    "    for t in lags\n",
    "    for col in df\n",
    "    })\n",
    "    for k in range(len(best_link)):\n",
    "        df_sst[\"pc\"] = V[:,best_link[k,0]-1]\n",
    "        df[str(k)] = ff.time_series_maker(best_link[k,0]-1, df_sst, data_sst)\n",
    "        df[str(k)] = df[str(k)].shift(abs(best_link[k,1]))\n",
    "    df = df.dropna()\n",
    "        \n",
    "    x_train = df.iloc[:,1:]\n",
    "    y_train = df.iloc[:,0]\n",
    "    model = RandomForestRegressor(max_depth=max_depth, random_state=0, n_estimators=n_estimators)\n",
    "    model.fit(x_train, y_train)\n",
    "        \n",
    "    return(base_model, model)"
   ]
  },
  {
   "cell_type": "code",
   "execution_count": 365,
   "metadata": {},
   "outputs": [],
   "source": [
    "def base_model_result(count, base_model, tau=1):\n",
    "    start_lag = tau\n",
    "    end_lag = tau + 11\n",
    "    df = pd.DataFrame({\"drought\":count})\n",
    "    df = ff.shift_df(df, start_lag, end_lag)\n",
    "\n",
    "    x_test, y_test = df_test.iloc[:,1:], df_test.iloc[:,0]\n",
    "    y_pred = base_model.predict(x_test)\n",
    "\n",
    "    return(y_pred, y_test)"
   ]
  },
  {
   "cell_type": "code",
   "execution_count": 366,
   "metadata": {},
   "outputs": [],
   "source": [
    "def model_result(count, data_sst, link, df_sst, V, model, tau=-1, n_estimators=100, max_depth=5):\n",
    "    if len(link) > 0:\n",
    "        start_lag = tau\n",
    "        end_lag = tau + 11\n",
    "\n",
    "        df = pd.DataFrame({\"drought\":count})\n",
    "        lags = np.arange(start_lag,end_lag + 1)\n",
    "        df = df.assign(**{\n",
    "        '{} (t-{})'.format(col, t): df[col].shift(t)\n",
    "        for t in lags\n",
    "        for col in df\n",
    "        })\n",
    "        for k in range(len(link)):\n",
    "            df_sst[\"pc\"] = V[:,link[k,0]-1]\n",
    "            df[str(k)] = ff.time_series_maker(link[k,0]-1, df_sst, data_sst)\n",
    "            df[str(k)] = df[str(k)].shift(abs(link[k,1]))\n",
    "        df = df.dropna()\n",
    "\n",
    "        x_test = df.iloc[:,1:]\n",
    "        y_test = df.iloc[:,0]\n",
    "\n",
    "        y_pred = model.predict(x_test)\n",
    "        return(y_pred, y_test)\n",
    "    else:\n",
    "        return(np.nan, np.nan)\n"
   ]
  },
  {
   "cell_type": "code",
   "execution_count": 416,
   "metadata": {},
   "outputs": [],
   "source": [
    "tau = 1\n",
    "n_components_sst = 87\n",
    "start_lag = tau\n",
    "end_lag = tau+11\n",
    "max_depth = 5\n",
    "n_estimators = 100"
   ]
  },
  {
   "cell_type": "code",
   "execution_count": 368,
   "metadata": {},
   "outputs": [],
   "source": [
    "link_caus = np.load(\"../../whole_data_results/link_rotated_ET/link_all_1930_2000_{}.npy\".format(tau))\n",
    "link_corr = np.load(\"../../whole_data_results/link_rotated_ET/link_all_corr_1930_2000_{}.npy\".format(tau))"
   ]
  },
  {
   "cell_type": "code",
   "execution_count": 69,
   "metadata": {},
   "outputs": [],
   "source": [
    "link_caus = np.load(\"../../whole_data_results/link_ET_all/link_12_1930_2000_{}_98.npy\".format(tau))\n",
    "link_corr = np.load(\"../../whole_data_results/link_ET_all/link_corr_12_1930_2000_{}_98.npy\".format(tau))"
   ]
  },
  {
   "cell_type": "code",
   "execution_count": 191,
   "metadata": {},
   "outputs": [],
   "source": [
    "class_list = np.load(\"../npy_files/ET_class_list.npy\")\n",
    "class_name = \"BSh\"\n",
    "index = (np.array(class_list) == class_name)"
   ]
  },
  {
   "cell_type": "code",
   "execution_count": 444,
   "metadata": {},
   "outputs": [],
   "source": [
    "train_start = 1976\n",
    "train_end = 2000\n",
    "\n",
    "temporal_limits = {\"time_min\":datetime(train_start, 1, 1, 0, 0),\"time_max\":datetime(train_end, 12, 1, 0, 0)}\n",
    "original_count, count = ff.drought_timeseries(\"../npy_files/ET_gamma_18912015.npy\",train_start,train_end)\n",
    "data_sst, ts, V, df_sst, avg, std = ff.PCA_computer_rotated('../../../nc/sst.mnmean.nc', \"sst\",temporal_limits, n_components_sst, -9.96921e+36)"
   ]
  },
  {
   "cell_type": "code",
   "execution_count": 443,
   "metadata": {},
   "outputs": [
    {
     "data": {
      "text/plain": [
       "(-0.08965282318487433, 0.008876601128429274)"
      ]
     },
     "execution_count": 443,
     "metadata": {},
     "output_type": "execute_result"
    }
   ],
   "source": [
    "stats.pearsonr(original_count[1:], ts[:-1,3])"
   ]
  },
  {
   "cell_type": "code",
   "execution_count": 445,
   "metadata": {},
   "outputs": [
    {
     "data": {
      "text/plain": [
       "(-0.07292630458413729, 0.20860644414712579)"
      ]
     },
     "execution_count": 445,
     "metadata": {},
     "output_type": "execute_result"
    }
   ],
   "source": [
    "stats.pearsonr(original_count[1:], ts[:-1,3])"
   ]
  },
  {
   "cell_type": "code",
   "execution_count": null,
   "metadata": {},
   "outputs": [],
   "source": []
  },
  {
   "cell_type": "code",
   "execution_count": null,
   "metadata": {},
   "outputs": [],
   "source": []
  },
  {
   "cell_type": "code",
   "execution_count": 370,
   "metadata": {},
   "outputs": [],
   "source": [
    "val_start = 2001\n",
    "val_end = 2005\n",
    "\n",
    "temporal_limits_val = {\"time_min\":datetime(val_start, 1, 1, 0, 0),\"time_max\":datetime(val_end, 12, 1, 0, 0)}\n",
    "data_sst_val = ff.data_generator_avg_std('../../../nc/sst.mnmean.nc', \"sst\",temporal_limits_val, avg, std, 12, -9.96921e+36)\n",
    "original_count_val, count_val = ff.drought_timeseries(\"../npy_files/ET_gamma_18912015.npy\",val_start,val_end)"
   ]
  },
  {
   "cell_type": "code",
   "execution_count": 371,
   "metadata": {},
   "outputs": [],
   "source": [
    "test_start = 2006\n",
    "test_end = 2010\n",
    "\n",
    "temporal_limits_test = {\"time_min\":datetime(test_start, 1, 1, 0, 0),\"time_max\":datetime(test_end, 12, 1, 0, 0)}\n",
    "data_sst_test = ff.data_generator_avg_std('../../../nc/sst.mnmean.nc', \"sst\",temporal_limits_test, avg, std, 12, -9.96921e+36)\n",
    "original_count_test, count_test = ff.drought_timeseries(\"../npy_files/ET_gamma_18912015.npy\",test_start,test_end)"
   ]
  },
  {
   "cell_type": "code",
   "execution_count": 372,
   "metadata": {},
   "outputs": [],
   "source": [
    "Vc = V.copy()"
   ]
  },
  {
   "cell_type": "code",
   "execution_count": 378,
   "metadata": {},
   "outputs": [
    {
     "data": {
      "text/plain": [
       "1"
      ]
     },
     "execution_count": 378,
     "metadata": {},
     "output_type": "execute_result"
    }
   ],
   "source": [
    "tau"
   ]
  },
  {
   "cell_type": "code",
   "execution_count": 374,
   "metadata": {},
   "outputs": [],
   "source": [
    "link = link_caus"
   ]
  },
  {
   "cell_type": "code",
   "execution_count": 375,
   "metadata": {},
   "outputs": [],
   "source": [
    "l, r = forward_feature(original_count, original_count_val, data_sst, data_sst_val, link, V, tau)"
   ]
  },
  {
   "cell_type": "code",
   "execution_count": 376,
   "metadata": {},
   "outputs": [],
   "source": [
    "best_link = l"
   ]
  },
  {
   "cell_type": "code",
   "execution_count": 377,
   "metadata": {},
   "outputs": [
    {
     "data": {
      "text/plain": [
       "array([[ 49, -12],\n",
       "       [ 69,  -9],\n",
       "       [ 44,  -2],\n",
       "       [ 27,  -1],\n",
       "       [ 87,  -5],\n",
       "       [ 83, -10],\n",
       "       [ 14, -12],\n",
       "       [ 37,  -5]])"
      ]
     },
     "execution_count": 377,
     "metadata": {},
     "output_type": "execute_result"
    }
   ],
   "source": [
    "l"
   ]
  },
  {
   "cell_type": "code",
   "execution_count": 295,
   "metadata": {},
   "outputs": [
    {
     "data": {
      "text/plain": [
       "array([[ 37, -12],\n",
       "       [ 83, -13],\n",
       "       [ 25, -18],\n",
       "       [ 83, -12],\n",
       "       [  7, -18],\n",
       "       [  2, -18],\n",
       "       [ 48, -13],\n",
       "       [ 31, -12],\n",
       "       [ 53, -12]])"
      ]
     },
     "execution_count": 295,
     "metadata": {},
     "output_type": "execute_result"
    }
   ],
   "source": [
    "l"
   ]
  },
  {
   "cell_type": "code",
   "execution_count": 266,
   "metadata": {},
   "outputs": [
    {
     "data": {
      "text/plain": [
       "array([[ 37, -12],\n",
       "       [ 83, -13],\n",
       "       [ 25, -18],\n",
       "       [ 83, -12],\n",
       "       [  7, -18],\n",
       "       [  2, -18],\n",
       "       [ 48, -13],\n",
       "       [ 31, -12],\n",
       "       [ 53, -12]])"
      ]
     },
     "execution_count": 266,
     "metadata": {},
     "output_type": "execute_result"
    }
   ],
   "source": [
    "#For tau = 12 and components of 87"
   ]
  },
  {
   "cell_type": "code",
   "execution_count": 314,
   "metadata": {},
   "outputs": [
    {
     "data": {
      "text/plain": [
       "array([[ 37, -12],\n",
       "       [ 83, -13],\n",
       "       [ 25, -18],\n",
       "       [ 83, -12],\n",
       "       [  7, -18],\n",
       "       [  2, -18],\n",
       "       [ 48, -13],\n",
       "       [ 31, -12],\n",
       "       [ 53, -12]])"
      ]
     },
     "execution_count": 314,
     "metadata": {},
     "output_type": "execute_result"
    }
   ],
   "source": [
    "np.load(\"../../whole_data_results/link_finder/spi12/best_link_all_1930_2000_{}.npy\".format(tau))"
   ]
  },
  {
   "cell_type": "code",
   "execution_count": 345,
   "metadata": {},
   "outputs": [],
   "source": [
    "best_link = np.load(\"../../whole_data_results/link_finder/spi12/best_link_all_1930_2000_{}.npy\".format(tau))"
   ]
  },
  {
   "cell_type": "code",
   "execution_count": 200,
   "metadata": {},
   "outputs": [
    {
     "data": {
      "text/plain": [
       "array([[ 49, -12],\n",
       "       [  4,  -7],\n",
       "       [ 69,  -9],\n",
       "       [ 27,  -1],\n",
       "       [ 20,  -5],\n",
       "       [ 14, -12],\n",
       "       [ 37,  -5],\n",
       "       [ 20,  -9]])"
      ]
     },
     "execution_count": 200,
     "metadata": {},
     "output_type": "execute_result"
    }
   ],
   "source": [
    "best_link"
   ]
  },
  {
   "cell_type": "code",
   "execution_count": 219,
   "metadata": {},
   "outputs": [
    {
     "data": {
      "text/plain": [
       "array([[ 49, -12],\n",
       "       [  4,  -7],\n",
       "       [ 69,  -9],\n",
       "       [ 27,  -1],\n",
       "       [ 20,  -5],\n",
       "       [ 14, -12],\n",
       "       [ 37,  -5],\n",
       "       [ 20,  -9]])"
      ]
     },
     "execution_count": 219,
     "metadata": {},
     "output_type": "execute_result"
    }
   ],
   "source": [
    "best_link"
   ]
  },
  {
   "cell_type": "code",
   "execution_count": 269,
   "metadata": {},
   "outputs": [
    {
     "data": {
      "text/plain": [
       "array([[ 37, -12],\n",
       "       [ 83, -13],\n",
       "       [ 25, -18],\n",
       "       [ 83, -12],\n",
       "       [  7, -18],\n",
       "       [  2, -18],\n",
       "       [ 48, -13],\n",
       "       [ 31, -12],\n",
       "       [ 53, -12]])"
      ]
     },
     "execution_count": 269,
     "metadata": {},
     "output_type": "execute_result"
    }
   ],
   "source": [
    "best_link"
   ]
  },
  {
   "cell_type": "code",
   "execution_count": 197,
   "metadata": {},
   "outputs": [],
   "source": [
    "best_link1 = best_link.copy()"
   ]
  },
  {
   "cell_type": "code",
   "execution_count": 199,
   "metadata": {},
   "outputs": [
    {
     "data": {
      "text/plain": [
       "array([[  7,  -3],\n",
       "       [ 86,  -3],\n",
       "       [ 63, -10],\n",
       "       [ 40,  -9],\n",
       "       [ 73,  -7],\n",
       "       [ 95,  -5],\n",
       "       [ 26,  -8],\n",
       "       [ 40,  -1]])"
      ]
     },
     "execution_count": 199,
     "metadata": {},
     "output_type": "execute_result"
    }
   ],
   "source": [
    "best_link1"
   ]
  },
  {
   "cell_type": "code",
   "execution_count": 35,
   "metadata": {},
   "outputs": [
    {
     "data": {
      "text/plain": [
       "array([[  7,  -3],\n",
       "       [ 95,  -5],\n",
       "       [ 63, -10],\n",
       "       [  2,  -7],\n",
       "       [ 77,  -5],\n",
       "       [  6,  -1],\n",
       "       [ 72,  -3]])"
      ]
     },
     "execution_count": 35,
     "metadata": {},
     "output_type": "execute_result"
    }
   ],
   "source": [
    "best_link"
   ]
  },
  {
   "cell_type": "code",
   "execution_count": 294,
   "metadata": {},
   "outputs": [
    {
     "data": {
      "text/plain": [
       "[1319.1028429876462,\n",
       " 1101.279533678752,\n",
       " 983.2087567080001,\n",
       " 880.5084147456777,\n",
       " 831.2133577952143,\n",
       " 798.0146988714893,\n",
       " 776.2888526862916,\n",
       " 737.8597522237484,\n",
       " 729.2799313169061,\n",
       " 684.6835385431983]"
      ]
     },
     "execution_count": 294,
     "metadata": {},
     "output_type": "execute_result"
    }
   ],
   "source": [
    "r"
   ]
  },
  {
   "cell_type": "code",
   "execution_count": 379,
   "metadata": {},
   "outputs": [
    {
     "data": {
      "text/plain": [
       "12"
      ]
     },
     "execution_count": 379,
     "metadata": {},
     "output_type": "execute_result"
    }
   ],
   "source": [
    "end_lag"
   ]
  },
  {
   "cell_type": "code",
   "execution_count": 380,
   "metadata": {},
   "outputs": [],
   "source": [
    "temporal_limits = {\"time_min\":datetime(train_start, 1, 1, 0, 0),\"time_max\":datetime(val_end, 12, 1, 0, 0)}\n",
    "original_count, count = ff.drought_timeseries(\"../npy_files/ET_gamma_18912015.npy\",train_start,val_end)\n",
    "data_sst, ts, V , df_sst, avg, std = ff.PCA_computer_rotated('../../../nc/sst.mnmean.nc', \"sst\",temporal_limits, n_components_sst, -9.96921e+36)"
   ]
  },
  {
   "cell_type": "code",
   "execution_count": 391,
   "metadata": {},
   "outputs": [],
   "source": [
    "base, m = model_generator(original_count, data_sst, best_link, df_sst, V, tau)"
   ]
  },
  {
   "cell_type": "code",
   "execution_count": 409,
   "metadata": {},
   "outputs": [
    {
     "data": {
      "text/plain": [
       "267.8521566661802"
      ]
     },
     "execution_count": 409,
     "metadata": {},
     "output_type": "execute_result"
    }
   ],
   "source": [
    "df = pd.DataFrame({\"drought\":original_count})\n",
    "df = ff.shift_df(df, start_lag, end_lag)\n",
    "\n",
    "x_train, y_train = df.iloc[:,1:], df.iloc[:,0]\n",
    "\n",
    "df_test = pd.DataFrame({\"drought\":original_count_test})\n",
    "df_test = ff.shift_df(df_test, start_lag, end_lag)\n",
    "\n",
    "x_test, y_test = df_test.iloc[:,1:], df_test.iloc[:,0]\n",
    "\n",
    "base_model = RandomForestRegressor(max_depth=max_depth, random_state=0, n_estimators=n_estimators)\n",
    "base_model.fit(x_train, y_train);\n",
    "\n",
    "y_pred = base_model.predict(x_test)\n",
    "mean_squared_error(y_pred, y_test)"
   ]
  },
  {
   "cell_type": "code",
   "execution_count": 411,
   "metadata": {},
   "outputs": [
    {
     "data": {
      "text/html": [
       "<div>\n",
       "<style scoped>\n",
       "    .dataframe tbody tr th:only-of-type {\n",
       "        vertical-align: middle;\n",
       "    }\n",
       "\n",
       "    .dataframe tbody tr th {\n",
       "        vertical-align: top;\n",
       "    }\n",
       "\n",
       "    .dataframe thead th {\n",
       "        text-align: right;\n",
       "    }\n",
       "</style>\n",
       "<table border=\"1\" class=\"dataframe\">\n",
       "  <thead>\n",
       "    <tr style=\"text-align: right;\">\n",
       "      <th></th>\n",
       "      <th>drought</th>\n",
       "      <th>drought (t-1)</th>\n",
       "      <th>drought (t-2)</th>\n",
       "      <th>drought (t-3)</th>\n",
       "      <th>drought (t-4)</th>\n",
       "      <th>drought (t-5)</th>\n",
       "      <th>drought (t-6)</th>\n",
       "      <th>drought (t-7)</th>\n",
       "      <th>drought (t-8)</th>\n",
       "      <th>drought (t-9)</th>\n",
       "      <th>drought (t-10)</th>\n",
       "      <th>drought (t-11)</th>\n",
       "      <th>drought (t-12)</th>\n",
       "    </tr>\n",
       "  </thead>\n",
       "  <tbody>\n",
       "    <tr>\n",
       "      <td>12</td>\n",
       "      <td>2</td>\n",
       "      <td>17.0</td>\n",
       "      <td>19.0</td>\n",
       "      <td>18.0</td>\n",
       "      <td>34.0</td>\n",
       "      <td>7.0</td>\n",
       "      <td>13.0</td>\n",
       "      <td>23.0</td>\n",
       "      <td>29.0</td>\n",
       "      <td>30.0</td>\n",
       "      <td>30.0</td>\n",
       "      <td>33.0</td>\n",
       "      <td>33.0</td>\n",
       "    </tr>\n",
       "    <tr>\n",
       "      <td>13</td>\n",
       "      <td>1</td>\n",
       "      <td>2.0</td>\n",
       "      <td>17.0</td>\n",
       "      <td>19.0</td>\n",
       "      <td>18.0</td>\n",
       "      <td>34.0</td>\n",
       "      <td>7.0</td>\n",
       "      <td>13.0</td>\n",
       "      <td>23.0</td>\n",
       "      <td>29.0</td>\n",
       "      <td>30.0</td>\n",
       "      <td>30.0</td>\n",
       "      <td>33.0</td>\n",
       "    </tr>\n",
       "    <tr>\n",
       "      <td>14</td>\n",
       "      <td>0</td>\n",
       "      <td>1.0</td>\n",
       "      <td>2.0</td>\n",
       "      <td>17.0</td>\n",
       "      <td>19.0</td>\n",
       "      <td>18.0</td>\n",
       "      <td>34.0</td>\n",
       "      <td>7.0</td>\n",
       "      <td>13.0</td>\n",
       "      <td>23.0</td>\n",
       "      <td>29.0</td>\n",
       "      <td>30.0</td>\n",
       "      <td>30.0</td>\n",
       "    </tr>\n",
       "    <tr>\n",
       "      <td>15</td>\n",
       "      <td>1</td>\n",
       "      <td>0.0</td>\n",
       "      <td>1.0</td>\n",
       "      <td>2.0</td>\n",
       "      <td>17.0</td>\n",
       "      <td>19.0</td>\n",
       "      <td>18.0</td>\n",
       "      <td>34.0</td>\n",
       "      <td>7.0</td>\n",
       "      <td>13.0</td>\n",
       "      <td>23.0</td>\n",
       "      <td>29.0</td>\n",
       "      <td>30.0</td>\n",
       "    </tr>\n",
       "    <tr>\n",
       "      <td>16</td>\n",
       "      <td>0</td>\n",
       "      <td>1.0</td>\n",
       "      <td>0.0</td>\n",
       "      <td>1.0</td>\n",
       "      <td>2.0</td>\n",
       "      <td>17.0</td>\n",
       "      <td>19.0</td>\n",
       "      <td>18.0</td>\n",
       "      <td>34.0</td>\n",
       "      <td>7.0</td>\n",
       "      <td>13.0</td>\n",
       "      <td>23.0</td>\n",
       "      <td>29.0</td>\n",
       "    </tr>\n",
       "    <tr>\n",
       "      <td>17</td>\n",
       "      <td>0</td>\n",
       "      <td>0.0</td>\n",
       "      <td>1.0</td>\n",
       "      <td>0.0</td>\n",
       "      <td>1.0</td>\n",
       "      <td>2.0</td>\n",
       "      <td>17.0</td>\n",
       "      <td>19.0</td>\n",
       "      <td>18.0</td>\n",
       "      <td>34.0</td>\n",
       "      <td>7.0</td>\n",
       "      <td>13.0</td>\n",
       "      <td>23.0</td>\n",
       "    </tr>\n",
       "    <tr>\n",
       "      <td>18</td>\n",
       "      <td>0</td>\n",
       "      <td>0.0</td>\n",
       "      <td>0.0</td>\n",
       "      <td>1.0</td>\n",
       "      <td>0.0</td>\n",
       "      <td>1.0</td>\n",
       "      <td>2.0</td>\n",
       "      <td>17.0</td>\n",
       "      <td>19.0</td>\n",
       "      <td>18.0</td>\n",
       "      <td>34.0</td>\n",
       "      <td>7.0</td>\n",
       "      <td>13.0</td>\n",
       "    </tr>\n",
       "    <tr>\n",
       "      <td>19</td>\n",
       "      <td>1</td>\n",
       "      <td>0.0</td>\n",
       "      <td>0.0</td>\n",
       "      <td>0.0</td>\n",
       "      <td>1.0</td>\n",
       "      <td>0.0</td>\n",
       "      <td>1.0</td>\n",
       "      <td>2.0</td>\n",
       "      <td>17.0</td>\n",
       "      <td>19.0</td>\n",
       "      <td>18.0</td>\n",
       "      <td>34.0</td>\n",
       "      <td>7.0</td>\n",
       "    </tr>\n",
       "    <tr>\n",
       "      <td>20</td>\n",
       "      <td>0</td>\n",
       "      <td>1.0</td>\n",
       "      <td>0.0</td>\n",
       "      <td>0.0</td>\n",
       "      <td>0.0</td>\n",
       "      <td>1.0</td>\n",
       "      <td>0.0</td>\n",
       "      <td>1.0</td>\n",
       "      <td>2.0</td>\n",
       "      <td>17.0</td>\n",
       "      <td>19.0</td>\n",
       "      <td>18.0</td>\n",
       "      <td>34.0</td>\n",
       "    </tr>\n",
       "    <tr>\n",
       "      <td>21</td>\n",
       "      <td>2</td>\n",
       "      <td>0.0</td>\n",
       "      <td>1.0</td>\n",
       "      <td>0.0</td>\n",
       "      <td>0.0</td>\n",
       "      <td>0.0</td>\n",
       "      <td>1.0</td>\n",
       "      <td>0.0</td>\n",
       "      <td>1.0</td>\n",
       "      <td>2.0</td>\n",
       "      <td>17.0</td>\n",
       "      <td>19.0</td>\n",
       "      <td>18.0</td>\n",
       "    </tr>\n",
       "    <tr>\n",
       "      <td>22</td>\n",
       "      <td>20</td>\n",
       "      <td>2.0</td>\n",
       "      <td>0.0</td>\n",
       "      <td>1.0</td>\n",
       "      <td>0.0</td>\n",
       "      <td>0.0</td>\n",
       "      <td>0.0</td>\n",
       "      <td>1.0</td>\n",
       "      <td>0.0</td>\n",
       "      <td>1.0</td>\n",
       "      <td>2.0</td>\n",
       "      <td>17.0</td>\n",
       "      <td>19.0</td>\n",
       "    </tr>\n",
       "    <tr>\n",
       "      <td>23</td>\n",
       "      <td>23</td>\n",
       "      <td>20.0</td>\n",
       "      <td>2.0</td>\n",
       "      <td>0.0</td>\n",
       "      <td>1.0</td>\n",
       "      <td>0.0</td>\n",
       "      <td>0.0</td>\n",
       "      <td>0.0</td>\n",
       "      <td>1.0</td>\n",
       "      <td>0.0</td>\n",
       "      <td>1.0</td>\n",
       "      <td>2.0</td>\n",
       "      <td>17.0</td>\n",
       "    </tr>\n",
       "    <tr>\n",
       "      <td>24</td>\n",
       "      <td>35</td>\n",
       "      <td>23.0</td>\n",
       "      <td>20.0</td>\n",
       "      <td>2.0</td>\n",
       "      <td>0.0</td>\n",
       "      <td>1.0</td>\n",
       "      <td>0.0</td>\n",
       "      <td>0.0</td>\n",
       "      <td>0.0</td>\n",
       "      <td>1.0</td>\n",
       "      <td>0.0</td>\n",
       "      <td>1.0</td>\n",
       "      <td>2.0</td>\n",
       "    </tr>\n",
       "    <tr>\n",
       "      <td>25</td>\n",
       "      <td>32</td>\n",
       "      <td>35.0</td>\n",
       "      <td>23.0</td>\n",
       "      <td>20.0</td>\n",
       "      <td>2.0</td>\n",
       "      <td>0.0</td>\n",
       "      <td>1.0</td>\n",
       "      <td>0.0</td>\n",
       "      <td>0.0</td>\n",
       "      <td>0.0</td>\n",
       "      <td>1.0</td>\n",
       "      <td>0.0</td>\n",
       "      <td>1.0</td>\n",
       "    </tr>\n",
       "    <tr>\n",
       "      <td>26</td>\n",
       "      <td>43</td>\n",
       "      <td>32.0</td>\n",
       "      <td>35.0</td>\n",
       "      <td>23.0</td>\n",
       "      <td>20.0</td>\n",
       "      <td>2.0</td>\n",
       "      <td>0.0</td>\n",
       "      <td>1.0</td>\n",
       "      <td>0.0</td>\n",
       "      <td>0.0</td>\n",
       "      <td>0.0</td>\n",
       "      <td>1.0</td>\n",
       "      <td>0.0</td>\n",
       "    </tr>\n",
       "    <tr>\n",
       "      <td>27</td>\n",
       "      <td>59</td>\n",
       "      <td>43.0</td>\n",
       "      <td>32.0</td>\n",
       "      <td>35.0</td>\n",
       "      <td>23.0</td>\n",
       "      <td>20.0</td>\n",
       "      <td>2.0</td>\n",
       "      <td>0.0</td>\n",
       "      <td>1.0</td>\n",
       "      <td>0.0</td>\n",
       "      <td>0.0</td>\n",
       "      <td>0.0</td>\n",
       "      <td>1.0</td>\n",
       "    </tr>\n",
       "    <tr>\n",
       "      <td>28</td>\n",
       "      <td>65</td>\n",
       "      <td>59.0</td>\n",
       "      <td>43.0</td>\n",
       "      <td>32.0</td>\n",
       "      <td>35.0</td>\n",
       "      <td>23.0</td>\n",
       "      <td>20.0</td>\n",
       "      <td>2.0</td>\n",
       "      <td>0.0</td>\n",
       "      <td>1.0</td>\n",
       "      <td>0.0</td>\n",
       "      <td>0.0</td>\n",
       "      <td>0.0</td>\n",
       "    </tr>\n",
       "    <tr>\n",
       "      <td>29</td>\n",
       "      <td>57</td>\n",
       "      <td>65.0</td>\n",
       "      <td>59.0</td>\n",
       "      <td>43.0</td>\n",
       "      <td>32.0</td>\n",
       "      <td>35.0</td>\n",
       "      <td>23.0</td>\n",
       "      <td>20.0</td>\n",
       "      <td>2.0</td>\n",
       "      <td>0.0</td>\n",
       "      <td>1.0</td>\n",
       "      <td>0.0</td>\n",
       "      <td>0.0</td>\n",
       "    </tr>\n",
       "    <tr>\n",
       "      <td>30</td>\n",
       "      <td>62</td>\n",
       "      <td>57.0</td>\n",
       "      <td>65.0</td>\n",
       "      <td>59.0</td>\n",
       "      <td>43.0</td>\n",
       "      <td>32.0</td>\n",
       "      <td>35.0</td>\n",
       "      <td>23.0</td>\n",
       "      <td>20.0</td>\n",
       "      <td>2.0</td>\n",
       "      <td>0.0</td>\n",
       "      <td>1.0</td>\n",
       "      <td>0.0</td>\n",
       "    </tr>\n",
       "    <tr>\n",
       "      <td>31</td>\n",
       "      <td>90</td>\n",
       "      <td>62.0</td>\n",
       "      <td>57.0</td>\n",
       "      <td>65.0</td>\n",
       "      <td>59.0</td>\n",
       "      <td>43.0</td>\n",
       "      <td>32.0</td>\n",
       "      <td>35.0</td>\n",
       "      <td>23.0</td>\n",
       "      <td>20.0</td>\n",
       "      <td>2.0</td>\n",
       "      <td>0.0</td>\n",
       "      <td>1.0</td>\n",
       "    </tr>\n",
       "    <tr>\n",
       "      <td>32</td>\n",
       "      <td>87</td>\n",
       "      <td>90.0</td>\n",
       "      <td>62.0</td>\n",
       "      <td>57.0</td>\n",
       "      <td>65.0</td>\n",
       "      <td>59.0</td>\n",
       "      <td>43.0</td>\n",
       "      <td>32.0</td>\n",
       "      <td>35.0</td>\n",
       "      <td>23.0</td>\n",
       "      <td>20.0</td>\n",
       "      <td>2.0</td>\n",
       "      <td>0.0</td>\n",
       "    </tr>\n",
       "    <tr>\n",
       "      <td>33</td>\n",
       "      <td>108</td>\n",
       "      <td>87.0</td>\n",
       "      <td>90.0</td>\n",
       "      <td>62.0</td>\n",
       "      <td>57.0</td>\n",
       "      <td>65.0</td>\n",
       "      <td>59.0</td>\n",
       "      <td>43.0</td>\n",
       "      <td>32.0</td>\n",
       "      <td>35.0</td>\n",
       "      <td>23.0</td>\n",
       "      <td>20.0</td>\n",
       "      <td>2.0</td>\n",
       "    </tr>\n",
       "    <tr>\n",
       "      <td>34</td>\n",
       "      <td>89</td>\n",
       "      <td>108.0</td>\n",
       "      <td>87.0</td>\n",
       "      <td>90.0</td>\n",
       "      <td>62.0</td>\n",
       "      <td>57.0</td>\n",
       "      <td>65.0</td>\n",
       "      <td>59.0</td>\n",
       "      <td>43.0</td>\n",
       "      <td>32.0</td>\n",
       "      <td>35.0</td>\n",
       "      <td>23.0</td>\n",
       "      <td>20.0</td>\n",
       "    </tr>\n",
       "    <tr>\n",
       "      <td>35</td>\n",
       "      <td>72</td>\n",
       "      <td>89.0</td>\n",
       "      <td>108.0</td>\n",
       "      <td>87.0</td>\n",
       "      <td>90.0</td>\n",
       "      <td>62.0</td>\n",
       "      <td>57.0</td>\n",
       "      <td>65.0</td>\n",
       "      <td>59.0</td>\n",
       "      <td>43.0</td>\n",
       "      <td>32.0</td>\n",
       "      <td>35.0</td>\n",
       "      <td>23.0</td>\n",
       "    </tr>\n",
       "    <tr>\n",
       "      <td>36</td>\n",
       "      <td>70</td>\n",
       "      <td>72.0</td>\n",
       "      <td>89.0</td>\n",
       "      <td>108.0</td>\n",
       "      <td>87.0</td>\n",
       "      <td>90.0</td>\n",
       "      <td>62.0</td>\n",
       "      <td>57.0</td>\n",
       "      <td>65.0</td>\n",
       "      <td>59.0</td>\n",
       "      <td>43.0</td>\n",
       "      <td>32.0</td>\n",
       "      <td>35.0</td>\n",
       "    </tr>\n",
       "    <tr>\n",
       "      <td>37</td>\n",
       "      <td>65</td>\n",
       "      <td>70.0</td>\n",
       "      <td>72.0</td>\n",
       "      <td>89.0</td>\n",
       "      <td>108.0</td>\n",
       "      <td>87.0</td>\n",
       "      <td>90.0</td>\n",
       "      <td>62.0</td>\n",
       "      <td>57.0</td>\n",
       "      <td>65.0</td>\n",
       "      <td>59.0</td>\n",
       "      <td>43.0</td>\n",
       "      <td>32.0</td>\n",
       "    </tr>\n",
       "    <tr>\n",
       "      <td>38</td>\n",
       "      <td>61</td>\n",
       "      <td>65.0</td>\n",
       "      <td>70.0</td>\n",
       "      <td>72.0</td>\n",
       "      <td>89.0</td>\n",
       "      <td>108.0</td>\n",
       "      <td>87.0</td>\n",
       "      <td>90.0</td>\n",
       "      <td>62.0</td>\n",
       "      <td>57.0</td>\n",
       "      <td>65.0</td>\n",
       "      <td>59.0</td>\n",
       "      <td>43.0</td>\n",
       "    </tr>\n",
       "    <tr>\n",
       "      <td>39</td>\n",
       "      <td>48</td>\n",
       "      <td>61.0</td>\n",
       "      <td>65.0</td>\n",
       "      <td>70.0</td>\n",
       "      <td>72.0</td>\n",
       "      <td>89.0</td>\n",
       "      <td>108.0</td>\n",
       "      <td>87.0</td>\n",
       "      <td>90.0</td>\n",
       "      <td>62.0</td>\n",
       "      <td>57.0</td>\n",
       "      <td>65.0</td>\n",
       "      <td>59.0</td>\n",
       "    </tr>\n",
       "    <tr>\n",
       "      <td>40</td>\n",
       "      <td>37</td>\n",
       "      <td>48.0</td>\n",
       "      <td>61.0</td>\n",
       "      <td>65.0</td>\n",
       "      <td>70.0</td>\n",
       "      <td>72.0</td>\n",
       "      <td>89.0</td>\n",
       "      <td>108.0</td>\n",
       "      <td>87.0</td>\n",
       "      <td>90.0</td>\n",
       "      <td>62.0</td>\n",
       "      <td>57.0</td>\n",
       "      <td>65.0</td>\n",
       "    </tr>\n",
       "    <tr>\n",
       "      <td>41</td>\n",
       "      <td>81</td>\n",
       "      <td>37.0</td>\n",
       "      <td>48.0</td>\n",
       "      <td>61.0</td>\n",
       "      <td>65.0</td>\n",
       "      <td>70.0</td>\n",
       "      <td>72.0</td>\n",
       "      <td>89.0</td>\n",
       "      <td>108.0</td>\n",
       "      <td>87.0</td>\n",
       "      <td>90.0</td>\n",
       "      <td>62.0</td>\n",
       "      <td>57.0</td>\n",
       "    </tr>\n",
       "    <tr>\n",
       "      <td>42</td>\n",
       "      <td>105</td>\n",
       "      <td>81.0</td>\n",
       "      <td>37.0</td>\n",
       "      <td>48.0</td>\n",
       "      <td>61.0</td>\n",
       "      <td>65.0</td>\n",
       "      <td>70.0</td>\n",
       "      <td>72.0</td>\n",
       "      <td>89.0</td>\n",
       "      <td>108.0</td>\n",
       "      <td>87.0</td>\n",
       "      <td>90.0</td>\n",
       "      <td>62.0</td>\n",
       "    </tr>\n",
       "    <tr>\n",
       "      <td>43</td>\n",
       "      <td>109</td>\n",
       "      <td>105.0</td>\n",
       "      <td>81.0</td>\n",
       "      <td>37.0</td>\n",
       "      <td>48.0</td>\n",
       "      <td>61.0</td>\n",
       "      <td>65.0</td>\n",
       "      <td>70.0</td>\n",
       "      <td>72.0</td>\n",
       "      <td>89.0</td>\n",
       "      <td>108.0</td>\n",
       "      <td>87.0</td>\n",
       "      <td>90.0</td>\n",
       "    </tr>\n",
       "    <tr>\n",
       "      <td>44</td>\n",
       "      <td>92</td>\n",
       "      <td>109.0</td>\n",
       "      <td>105.0</td>\n",
       "      <td>81.0</td>\n",
       "      <td>37.0</td>\n",
       "      <td>48.0</td>\n",
       "      <td>61.0</td>\n",
       "      <td>65.0</td>\n",
       "      <td>70.0</td>\n",
       "      <td>72.0</td>\n",
       "      <td>89.0</td>\n",
       "      <td>108.0</td>\n",
       "      <td>87.0</td>\n",
       "    </tr>\n",
       "    <tr>\n",
       "      <td>45</td>\n",
       "      <td>126</td>\n",
       "      <td>92.0</td>\n",
       "      <td>109.0</td>\n",
       "      <td>105.0</td>\n",
       "      <td>81.0</td>\n",
       "      <td>37.0</td>\n",
       "      <td>48.0</td>\n",
       "      <td>61.0</td>\n",
       "      <td>65.0</td>\n",
       "      <td>70.0</td>\n",
       "      <td>72.0</td>\n",
       "      <td>89.0</td>\n",
       "      <td>108.0</td>\n",
       "    </tr>\n",
       "    <tr>\n",
       "      <td>46</td>\n",
       "      <td>102</td>\n",
       "      <td>126.0</td>\n",
       "      <td>92.0</td>\n",
       "      <td>109.0</td>\n",
       "      <td>105.0</td>\n",
       "      <td>81.0</td>\n",
       "      <td>37.0</td>\n",
       "      <td>48.0</td>\n",
       "      <td>61.0</td>\n",
       "      <td>65.0</td>\n",
       "      <td>70.0</td>\n",
       "      <td>72.0</td>\n",
       "      <td>89.0</td>\n",
       "    </tr>\n",
       "    <tr>\n",
       "      <td>47</td>\n",
       "      <td>154</td>\n",
       "      <td>102.0</td>\n",
       "      <td>126.0</td>\n",
       "      <td>92.0</td>\n",
       "      <td>109.0</td>\n",
       "      <td>105.0</td>\n",
       "      <td>81.0</td>\n",
       "      <td>37.0</td>\n",
       "      <td>48.0</td>\n",
       "      <td>61.0</td>\n",
       "      <td>65.0</td>\n",
       "      <td>70.0</td>\n",
       "      <td>72.0</td>\n",
       "    </tr>\n",
       "    <tr>\n",
       "      <td>48</td>\n",
       "      <td>115</td>\n",
       "      <td>154.0</td>\n",
       "      <td>102.0</td>\n",
       "      <td>126.0</td>\n",
       "      <td>92.0</td>\n",
       "      <td>109.0</td>\n",
       "      <td>105.0</td>\n",
       "      <td>81.0</td>\n",
       "      <td>37.0</td>\n",
       "      <td>48.0</td>\n",
       "      <td>61.0</td>\n",
       "      <td>65.0</td>\n",
       "      <td>70.0</td>\n",
       "    </tr>\n",
       "    <tr>\n",
       "      <td>49</td>\n",
       "      <td>133</td>\n",
       "      <td>115.0</td>\n",
       "      <td>154.0</td>\n",
       "      <td>102.0</td>\n",
       "      <td>126.0</td>\n",
       "      <td>92.0</td>\n",
       "      <td>109.0</td>\n",
       "      <td>105.0</td>\n",
       "      <td>81.0</td>\n",
       "      <td>37.0</td>\n",
       "      <td>48.0</td>\n",
       "      <td>61.0</td>\n",
       "      <td>65.0</td>\n",
       "    </tr>\n",
       "    <tr>\n",
       "      <td>50</td>\n",
       "      <td>102</td>\n",
       "      <td>133.0</td>\n",
       "      <td>115.0</td>\n",
       "      <td>154.0</td>\n",
       "      <td>102.0</td>\n",
       "      <td>126.0</td>\n",
       "      <td>92.0</td>\n",
       "      <td>109.0</td>\n",
       "      <td>105.0</td>\n",
       "      <td>81.0</td>\n",
       "      <td>37.0</td>\n",
       "      <td>48.0</td>\n",
       "      <td>61.0</td>\n",
       "    </tr>\n",
       "    <tr>\n",
       "      <td>51</td>\n",
       "      <td>84</td>\n",
       "      <td>102.0</td>\n",
       "      <td>133.0</td>\n",
       "      <td>115.0</td>\n",
       "      <td>154.0</td>\n",
       "      <td>102.0</td>\n",
       "      <td>126.0</td>\n",
       "      <td>92.0</td>\n",
       "      <td>109.0</td>\n",
       "      <td>105.0</td>\n",
       "      <td>81.0</td>\n",
       "      <td>37.0</td>\n",
       "      <td>48.0</td>\n",
       "    </tr>\n",
       "    <tr>\n",
       "      <td>52</td>\n",
       "      <td>78</td>\n",
       "      <td>84.0</td>\n",
       "      <td>102.0</td>\n",
       "      <td>133.0</td>\n",
       "      <td>115.0</td>\n",
       "      <td>154.0</td>\n",
       "      <td>102.0</td>\n",
       "      <td>126.0</td>\n",
       "      <td>92.0</td>\n",
       "      <td>109.0</td>\n",
       "      <td>105.0</td>\n",
       "      <td>81.0</td>\n",
       "      <td>37.0</td>\n",
       "    </tr>\n",
       "    <tr>\n",
       "      <td>53</td>\n",
       "      <td>62</td>\n",
       "      <td>78.0</td>\n",
       "      <td>84.0</td>\n",
       "      <td>102.0</td>\n",
       "      <td>133.0</td>\n",
       "      <td>115.0</td>\n",
       "      <td>154.0</td>\n",
       "      <td>102.0</td>\n",
       "      <td>126.0</td>\n",
       "      <td>92.0</td>\n",
       "      <td>109.0</td>\n",
       "      <td>105.0</td>\n",
       "      <td>81.0</td>\n",
       "    </tr>\n",
       "    <tr>\n",
       "      <td>54</td>\n",
       "      <td>64</td>\n",
       "      <td>62.0</td>\n",
       "      <td>78.0</td>\n",
       "      <td>84.0</td>\n",
       "      <td>102.0</td>\n",
       "      <td>133.0</td>\n",
       "      <td>115.0</td>\n",
       "      <td>154.0</td>\n",
       "      <td>102.0</td>\n",
       "      <td>126.0</td>\n",
       "      <td>92.0</td>\n",
       "      <td>109.0</td>\n",
       "      <td>105.0</td>\n",
       "    </tr>\n",
       "    <tr>\n",
       "      <td>55</td>\n",
       "      <td>64</td>\n",
       "      <td>64.0</td>\n",
       "      <td>62.0</td>\n",
       "      <td>78.0</td>\n",
       "      <td>84.0</td>\n",
       "      <td>102.0</td>\n",
       "      <td>133.0</td>\n",
       "      <td>115.0</td>\n",
       "      <td>154.0</td>\n",
       "      <td>102.0</td>\n",
       "      <td>126.0</td>\n",
       "      <td>92.0</td>\n",
       "      <td>109.0</td>\n",
       "    </tr>\n",
       "    <tr>\n",
       "      <td>56</td>\n",
       "      <td>51</td>\n",
       "      <td>64.0</td>\n",
       "      <td>64.0</td>\n",
       "      <td>62.0</td>\n",
       "      <td>78.0</td>\n",
       "      <td>84.0</td>\n",
       "      <td>102.0</td>\n",
       "      <td>133.0</td>\n",
       "      <td>115.0</td>\n",
       "      <td>154.0</td>\n",
       "      <td>102.0</td>\n",
       "      <td>126.0</td>\n",
       "      <td>92.0</td>\n",
       "    </tr>\n",
       "    <tr>\n",
       "      <td>57</td>\n",
       "      <td>40</td>\n",
       "      <td>51.0</td>\n",
       "      <td>64.0</td>\n",
       "      <td>64.0</td>\n",
       "      <td>62.0</td>\n",
       "      <td>78.0</td>\n",
       "      <td>84.0</td>\n",
       "      <td>102.0</td>\n",
       "      <td>133.0</td>\n",
       "      <td>115.0</td>\n",
       "      <td>154.0</td>\n",
       "      <td>102.0</td>\n",
       "      <td>126.0</td>\n",
       "    </tr>\n",
       "    <tr>\n",
       "      <td>58</td>\n",
       "      <td>42</td>\n",
       "      <td>40.0</td>\n",
       "      <td>51.0</td>\n",
       "      <td>64.0</td>\n",
       "      <td>64.0</td>\n",
       "      <td>62.0</td>\n",
       "      <td>78.0</td>\n",
       "      <td>84.0</td>\n",
       "      <td>102.0</td>\n",
       "      <td>133.0</td>\n",
       "      <td>115.0</td>\n",
       "      <td>154.0</td>\n",
       "      <td>102.0</td>\n",
       "    </tr>\n",
       "    <tr>\n",
       "      <td>59</td>\n",
       "      <td>38</td>\n",
       "      <td>42.0</td>\n",
       "      <td>40.0</td>\n",
       "      <td>51.0</td>\n",
       "      <td>64.0</td>\n",
       "      <td>64.0</td>\n",
       "      <td>62.0</td>\n",
       "      <td>78.0</td>\n",
       "      <td>84.0</td>\n",
       "      <td>102.0</td>\n",
       "      <td>133.0</td>\n",
       "      <td>115.0</td>\n",
       "      <td>154.0</td>\n",
       "    </tr>\n",
       "  </tbody>\n",
       "</table>\n",
       "</div>"
      ],
      "text/plain": [
       "    drought  drought (t-1)  drought (t-2)  drought (t-3)  drought (t-4)  \\\n",
       "12        2           17.0           19.0           18.0           34.0   \n",
       "13        1            2.0           17.0           19.0           18.0   \n",
       "14        0            1.0            2.0           17.0           19.0   \n",
       "15        1            0.0            1.0            2.0           17.0   \n",
       "16        0            1.0            0.0            1.0            2.0   \n",
       "17        0            0.0            1.0            0.0            1.0   \n",
       "18        0            0.0            0.0            1.0            0.0   \n",
       "19        1            0.0            0.0            0.0            1.0   \n",
       "20        0            1.0            0.0            0.0            0.0   \n",
       "21        2            0.0            1.0            0.0            0.0   \n",
       "22       20            2.0            0.0            1.0            0.0   \n",
       "23       23           20.0            2.0            0.0            1.0   \n",
       "24       35           23.0           20.0            2.0            0.0   \n",
       "25       32           35.0           23.0           20.0            2.0   \n",
       "26       43           32.0           35.0           23.0           20.0   \n",
       "27       59           43.0           32.0           35.0           23.0   \n",
       "28       65           59.0           43.0           32.0           35.0   \n",
       "29       57           65.0           59.0           43.0           32.0   \n",
       "30       62           57.0           65.0           59.0           43.0   \n",
       "31       90           62.0           57.0           65.0           59.0   \n",
       "32       87           90.0           62.0           57.0           65.0   \n",
       "33      108           87.0           90.0           62.0           57.0   \n",
       "34       89          108.0           87.0           90.0           62.0   \n",
       "35       72           89.0          108.0           87.0           90.0   \n",
       "36       70           72.0           89.0          108.0           87.0   \n",
       "37       65           70.0           72.0           89.0          108.0   \n",
       "38       61           65.0           70.0           72.0           89.0   \n",
       "39       48           61.0           65.0           70.0           72.0   \n",
       "40       37           48.0           61.0           65.0           70.0   \n",
       "41       81           37.0           48.0           61.0           65.0   \n",
       "42      105           81.0           37.0           48.0           61.0   \n",
       "43      109          105.0           81.0           37.0           48.0   \n",
       "44       92          109.0          105.0           81.0           37.0   \n",
       "45      126           92.0          109.0          105.0           81.0   \n",
       "46      102          126.0           92.0          109.0          105.0   \n",
       "47      154          102.0          126.0           92.0          109.0   \n",
       "48      115          154.0          102.0          126.0           92.0   \n",
       "49      133          115.0          154.0          102.0          126.0   \n",
       "50      102          133.0          115.0          154.0          102.0   \n",
       "51       84          102.0          133.0          115.0          154.0   \n",
       "52       78           84.0          102.0          133.0          115.0   \n",
       "53       62           78.0           84.0          102.0          133.0   \n",
       "54       64           62.0           78.0           84.0          102.0   \n",
       "55       64           64.0           62.0           78.0           84.0   \n",
       "56       51           64.0           64.0           62.0           78.0   \n",
       "57       40           51.0           64.0           64.0           62.0   \n",
       "58       42           40.0           51.0           64.0           64.0   \n",
       "59       38           42.0           40.0           51.0           64.0   \n",
       "\n",
       "    drought (t-5)  drought (t-6)  drought (t-7)  drought (t-8)  drought (t-9)  \\\n",
       "12            7.0           13.0           23.0           29.0           30.0   \n",
       "13           34.0            7.0           13.0           23.0           29.0   \n",
       "14           18.0           34.0            7.0           13.0           23.0   \n",
       "15           19.0           18.0           34.0            7.0           13.0   \n",
       "16           17.0           19.0           18.0           34.0            7.0   \n",
       "17            2.0           17.0           19.0           18.0           34.0   \n",
       "18            1.0            2.0           17.0           19.0           18.0   \n",
       "19            0.0            1.0            2.0           17.0           19.0   \n",
       "20            1.0            0.0            1.0            2.0           17.0   \n",
       "21            0.0            1.0            0.0            1.0            2.0   \n",
       "22            0.0            0.0            1.0            0.0            1.0   \n",
       "23            0.0            0.0            0.0            1.0            0.0   \n",
       "24            1.0            0.0            0.0            0.0            1.0   \n",
       "25            0.0            1.0            0.0            0.0            0.0   \n",
       "26            2.0            0.0            1.0            0.0            0.0   \n",
       "27           20.0            2.0            0.0            1.0            0.0   \n",
       "28           23.0           20.0            2.0            0.0            1.0   \n",
       "29           35.0           23.0           20.0            2.0            0.0   \n",
       "30           32.0           35.0           23.0           20.0            2.0   \n",
       "31           43.0           32.0           35.0           23.0           20.0   \n",
       "32           59.0           43.0           32.0           35.0           23.0   \n",
       "33           65.0           59.0           43.0           32.0           35.0   \n",
       "34           57.0           65.0           59.0           43.0           32.0   \n",
       "35           62.0           57.0           65.0           59.0           43.0   \n",
       "36           90.0           62.0           57.0           65.0           59.0   \n",
       "37           87.0           90.0           62.0           57.0           65.0   \n",
       "38          108.0           87.0           90.0           62.0           57.0   \n",
       "39           89.0          108.0           87.0           90.0           62.0   \n",
       "40           72.0           89.0          108.0           87.0           90.0   \n",
       "41           70.0           72.0           89.0          108.0           87.0   \n",
       "42           65.0           70.0           72.0           89.0          108.0   \n",
       "43           61.0           65.0           70.0           72.0           89.0   \n",
       "44           48.0           61.0           65.0           70.0           72.0   \n",
       "45           37.0           48.0           61.0           65.0           70.0   \n",
       "46           81.0           37.0           48.0           61.0           65.0   \n",
       "47          105.0           81.0           37.0           48.0           61.0   \n",
       "48          109.0          105.0           81.0           37.0           48.0   \n",
       "49           92.0          109.0          105.0           81.0           37.0   \n",
       "50          126.0           92.0          109.0          105.0           81.0   \n",
       "51          102.0          126.0           92.0          109.0          105.0   \n",
       "52          154.0          102.0          126.0           92.0          109.0   \n",
       "53          115.0          154.0          102.0          126.0           92.0   \n",
       "54          133.0          115.0          154.0          102.0          126.0   \n",
       "55          102.0          133.0          115.0          154.0          102.0   \n",
       "56           84.0          102.0          133.0          115.0          154.0   \n",
       "57           78.0           84.0          102.0          133.0          115.0   \n",
       "58           62.0           78.0           84.0          102.0          133.0   \n",
       "59           64.0           62.0           78.0           84.0          102.0   \n",
       "\n",
       "    drought (t-10)  drought (t-11)  drought (t-12)  \n",
       "12            30.0            33.0            33.0  \n",
       "13            30.0            30.0            33.0  \n",
       "14            29.0            30.0            30.0  \n",
       "15            23.0            29.0            30.0  \n",
       "16            13.0            23.0            29.0  \n",
       "17             7.0            13.0            23.0  \n",
       "18            34.0             7.0            13.0  \n",
       "19            18.0            34.0             7.0  \n",
       "20            19.0            18.0            34.0  \n",
       "21            17.0            19.0            18.0  \n",
       "22             2.0            17.0            19.0  \n",
       "23             1.0             2.0            17.0  \n",
       "24             0.0             1.0             2.0  \n",
       "25             1.0             0.0             1.0  \n",
       "26             0.0             1.0             0.0  \n",
       "27             0.0             0.0             1.0  \n",
       "28             0.0             0.0             0.0  \n",
       "29             1.0             0.0             0.0  \n",
       "30             0.0             1.0             0.0  \n",
       "31             2.0             0.0             1.0  \n",
       "32            20.0             2.0             0.0  \n",
       "33            23.0            20.0             2.0  \n",
       "34            35.0            23.0            20.0  \n",
       "35            32.0            35.0            23.0  \n",
       "36            43.0            32.0            35.0  \n",
       "37            59.0            43.0            32.0  \n",
       "38            65.0            59.0            43.0  \n",
       "39            57.0            65.0            59.0  \n",
       "40            62.0            57.0            65.0  \n",
       "41            90.0            62.0            57.0  \n",
       "42            87.0            90.0            62.0  \n",
       "43           108.0            87.0            90.0  \n",
       "44            89.0           108.0            87.0  \n",
       "45            72.0            89.0           108.0  \n",
       "46            70.0            72.0            89.0  \n",
       "47            65.0            70.0            72.0  \n",
       "48            61.0            65.0            70.0  \n",
       "49            48.0            61.0            65.0  \n",
       "50            37.0            48.0            61.0  \n",
       "51            81.0            37.0            48.0  \n",
       "52           105.0            81.0            37.0  \n",
       "53           109.0           105.0            81.0  \n",
       "54            92.0           109.0           105.0  \n",
       "55           126.0            92.0           109.0  \n",
       "56           102.0           126.0            92.0  \n",
       "57           154.0           102.0           126.0  \n",
       "58           115.0           154.0           102.0  \n",
       "59           133.0           115.0           154.0  "
      ]
     },
     "execution_count": 411,
     "metadata": {},
     "output_type": "execute_result"
    }
   ],
   "source": [
    "df_test"
   ]
  },
  {
   "cell_type": "code",
   "execution_count": 393,
   "metadata": {},
   "outputs": [
    {
     "data": {
      "text/plain": [
       "267.8521566661802"
      ]
     },
     "execution_count": 393,
     "metadata": {},
     "output_type": "execute_result"
    }
   ],
   "source": [
    "y_pred = base.predict(x_test)\n",
    "mean_squared_error(y_pred, y_test)"
   ]
  },
  {
   "cell_type": "code",
   "execution_count": 394,
   "metadata": {},
   "outputs": [],
   "source": [
    "def base_model_result(count, base_model, link, tau=-1):\n",
    "    start_lag = tau\n",
    "    end_lag = tau + 11\n",
    "    df = pd.DataFrame({\"drought\":count})\n",
    "    df = ff.shift_df(df, start_lag, end_lag)\n",
    "\n",
    "    x_test =  df.iloc[:,1:].values\n",
    "    y_test = df.iloc[:,0].values\n",
    "\n",
    "    y_pred = base_model.predict(x_test)\n",
    "\n",
    "    return(y_pred, y_test)"
   ]
  },
  {
   "cell_type": "code",
   "execution_count": 395,
   "metadata": {},
   "outputs": [
    {
     "data": {
      "text/plain": [
       "267.8521566661802"
      ]
     },
     "execution_count": 395,
     "metadata": {},
     "output_type": "execute_result"
    }
   ],
   "source": [
    "y_pred, y_test = base_model_result(original_count_test, base, best_link,tau)\n",
    "mean_squared_error(y_pred, y_test)"
   ]
  },
  {
   "cell_type": "code",
   "execution_count": 334,
   "metadata": {},
   "outputs": [
    {
     "data": {
      "text/plain": [
       "array([[ 49, -12],\n",
       "       [  4,  -7],\n",
       "       [ 69,  -9],\n",
       "       [ 27,  -1],\n",
       "       [ 20,  -5],\n",
       "       [ 14, -12],\n",
       "       [ 37,  -5],\n",
       "       [ 20,  -9]])"
      ]
     },
     "execution_count": 334,
     "metadata": {},
     "output_type": "execute_result"
    }
   ],
   "source": [
    "best_link"
   ]
  },
  {
   "cell_type": "code",
   "execution_count": 406,
   "metadata": {},
   "outputs": [
    {
     "data": {
      "text/plain": [
       "1"
      ]
     },
     "execution_count": 406,
     "metadata": {},
     "output_type": "execute_result"
    }
   ],
   "source": [
    "tau"
   ]
  },
  {
   "cell_type": "code",
   "execution_count": null,
   "metadata": {},
   "outputs": [],
   "source": []
  },
  {
   "cell_type": "code",
   "execution_count": null,
   "metadata": {},
   "outputs": [],
   "source": []
  },
  {
   "cell_type": "code",
   "execution_count": null,
   "metadata": {},
   "outputs": [],
   "source": []
  },
  {
   "cell_type": "code",
   "execution_count": null,
   "metadata": {},
   "outputs": [],
   "source": []
  },
  {
   "cell_type": "code",
   "execution_count": null,
   "metadata": {},
   "outputs": [],
   "source": []
  },
  {
   "cell_type": "code",
   "execution_count": null,
   "metadata": {},
   "outputs": [],
   "source": []
  },
  {
   "cell_type": "code",
   "execution_count": null,
   "metadata": {},
   "outputs": [],
   "source": []
  },
  {
   "cell_type": "code",
   "execution_count": null,
   "metadata": {},
   "outputs": [],
   "source": []
  },
  {
   "cell_type": "code",
   "execution_count": 291,
   "metadata": {},
   "outputs": [],
   "source": [
    "V = Vc"
   ]
  },
  {
   "cell_type": "code",
   "execution_count": 396,
   "metadata": {},
   "outputs": [],
   "source": [
    "df = pd.DataFrame({\"drought\": original_count})\n",
    "lags = np.arange(start_lag,end_lag + 1)\n",
    "df = df.assign(**{\n",
    "'{} (t-{})'.format(col, t): df[col].shift(t)\n",
    "for t in lags\n",
    "for col in df\n",
    "})\n",
    "for k in range(len(best_link)):\n",
    "    df[str(k)] = ff.time_series_maker_V(data_sst, V[:,link[k,0]-1])\n",
    "    df[str(k)] = df[str(k)].shift(abs(link[k,1]))\n",
    "    df_sst[\"pc\"] = V[:,best_link[k,0]-1]\n",
    "    #df[str(k)] = ff.time_series_maker(best_link[k,0]-1, df_sst, data_sst)\n",
    "    #df[str(k)] = df[str(k)].shift(abs(best_link[k,1]))\n",
    "df = df.dropna()\n",
    "\n",
    "x_train, y_train = df.iloc[:,1:], df.iloc[:,0]\n",
    "\n",
    "model = RandomForestRegressor(max_depth=max_depth, random_state=0, n_estimators=n_estimators)\n",
    "model.fit(x_train, y_train);\n",
    "\n",
    "df_test = pd.DataFrame({\"drought\": original_count_test})\n",
    "lags = np.arange(start_lag,end_lag + 1)\n",
    "df_test = df_test.assign(**{\n",
    "'{} (t-{})'.format(col, t): df_test[col].shift(t)\n",
    "for t in lags\n",
    "for col in df_test\n",
    "})\n",
    "for k in range(len(best_link)):\n",
    "    #df_test[str(k)] = ff.time_series_maker_V(data_sst_test, V[:,link[k,0]-1])\n",
    "    #df_test[str(k)] = df_test[str(k)].shift(abs(link[k,1]))\n",
    "    df_sst[\"pc\"] = V[:,best_link[k,0]-1]\n",
    "    df_test[str(k)] = ff.time_series_maker(best_link[k,0]-1, df_sst, data_sst_test)\n",
    "    df_test[str(k)] = df_test[str(k)].shift(abs(best_link[k,1]))\n",
    "df_test = df_test.dropna()\n",
    "\n",
    "x_test, y_test = df_test.iloc[:,1:], df_test.iloc[:,0]\n"
   ]
  },
  {
   "cell_type": "code",
   "execution_count": 397,
   "metadata": {},
   "outputs": [
    {
     "data": {
      "text/plain": [
       "261.5551214337309"
      ]
     },
     "execution_count": 397,
     "metadata": {},
     "output_type": "execute_result"
    }
   ],
   "source": [
    "y_pred = model.predict(x_test)\n",
    "mean_squared_error(y_pred, y_test)"
   ]
  },
  {
   "cell_type": "code",
   "execution_count": 388,
   "metadata": {},
   "outputs": [],
   "source": [
    "def model_result(count, data_sst, link, df_sst, V,model, tau=1, n_estimators=100, max_depth=5):\n",
    "    if len(link) > 0:\n",
    "        start_lag = tau\n",
    "        end_lag = tau + 11\n",
    "\n",
    "        df = pd.DataFrame({\"drought\":count})\n",
    "        lags = np.arange(start_lag,end_lag + 1)\n",
    "        \n",
    "        df = df.assign(**{\n",
    "        '{} (t-{})'.format(col, t): df[col].shift(t)\n",
    "        for t in lags\n",
    "        for col in df\n",
    "        })\n",
    "        for k in range(len(link)):\n",
    "            df_sst[\"pc\"] = V[:,link[k,0]-1]\n",
    "            df[str(k)] = ff.time_series_maker(link[k,0]-1, df_sst, data_sst)\n",
    "            df[str(k)] = df[str(k)].shift(abs(link[k,1]))\n",
    "        df = df.dropna()\n",
    "\n",
    "        x_test = df.iloc[:,1:]\n",
    "        y_test = df.iloc[:,0]\n",
    "\n",
    "        y_pred = model.predict(x_test)\n",
    "        return(y_pred, y_test)\n",
    "    else:\n",
    "        return(np.nan, np.nan)\n"
   ]
  },
  {
   "cell_type": "code",
   "execution_count": 389,
   "metadata": {},
   "outputs": [
    {
     "data": {
      "text/plain": [
       "279.27052987403323"
      ]
     },
     "execution_count": 389,
     "metadata": {},
     "output_type": "execute_result"
    }
   ],
   "source": [
    "y_pred, y_test = model_result(original_count_test, data_sst_test, best_link, df_sst, V ,m, tau)\n",
    "mean_squared_error(y_pred, y_test)"
   ]
  },
  {
   "cell_type": "code",
   "execution_count": 309,
   "metadata": {},
   "outputs": [
    {
     "data": {
      "text/plain": [
       "(120, 10988)"
      ]
     },
     "execution_count": 309,
     "metadata": {},
     "output_type": "execute_result"
    }
   ],
   "source": [
    "data_sst_val.shape"
   ]
  },
  {
   "cell_type": "code",
   "execution_count": 311,
   "metadata": {},
   "outputs": [
    {
     "data": {
      "text/plain": [
       "(60, 10988)"
      ]
     },
     "execution_count": 311,
     "metadata": {},
     "output_type": "execute_result"
    }
   ],
   "source": [
    "data_sst_test.shape"
   ]
  },
  {
   "cell_type": "code",
   "execution_count": 250,
   "metadata": {},
   "outputs": [],
   "source": [
    "result = []\n",
    "for tau in np.arange(1,13):\n",
    "    pred = np.load(\"../../whole_data_results/results/spi12/pred_all_2011_2015_{}.npy\".format(tau))\n",
    "    test = np.load(\"../../whole_data_results/results/spi12/test_all_2011_2015_{}.npy\".format(tau))\n",
    "    result.append(mean_squared_error(pred, test))"
   ]
  },
  {
   "cell_type": "code",
   "execution_count": 246,
   "metadata": {},
   "outputs": [],
   "source": [
    "#result = np.sqrt(result)/303"
   ]
  },
  {
   "cell_type": "code",
   "execution_count": 252,
   "metadata": {},
   "outputs": [],
   "source": [
    "result_base = []\n",
    "for tau in np.arange(1,13):\n",
    "    pred = np.load(\"../../whole_data_results/results/spi12/pred_base_all_2011_2015_{}.npy\".format(tau))\n",
    "    test = np.load(\"../../whole_data_results/results/spi12/test_base_all_2011_2015_{}.npy\".format(tau))\n",
    "    result_base.append(mean_squared_error(pred, test))"
   ]
  },
  {
   "cell_type": "code",
   "execution_count": 248,
   "metadata": {},
   "outputs": [],
   "source": [
    "result_base = np.sqrt(result_base)/303"
   ]
  },
  {
   "cell_type": "code",
   "execution_count": 253,
   "metadata": {},
   "outputs": [
    {
     "data": {
      "text/plain": [
       "[82.02159063307798,\n",
       " 255.31742661694028,\n",
       " 574.1325182478246,\n",
       " 883.2508220153633,\n",
       " 1057.691906026736,\n",
       " 1117.9014602694829,\n",
       " 1348.1162211062206,\n",
       " 1322.555426030099,\n",
       " 1548.9810932511919,\n",
       " 1750.8488650751488,\n",
       " 2070.238065425716,\n",
       " 2199.392057962592]"
      ]
     },
     "execution_count": 253,
     "metadata": {},
     "output_type": "execute_result"
    }
   ],
   "source": [
    "result_base"
   ]
  },
  {
   "cell_type": "code",
   "execution_count": 251,
   "metadata": {},
   "outputs": [
    {
     "data": {
      "text/plain": [
       "[113.6589618822751,\n",
       " 289.0173763988031,\n",
       " 697.1300809957195,\n",
       " 906.4977000692725,\n",
       " 972.0975427778422,\n",
       " 1264.1819209381745,\n",
       " 1304.8724753394497,\n",
       " 1468.7112826034845,\n",
       " 2478.004312588626,\n",
       " 2102.76008897911,\n",
       " 2444.382313281672,\n",
       " 2375.454533098977]"
      ]
     },
     "execution_count": 251,
     "metadata": {},
     "output_type": "execute_result"
    }
   ],
   "source": [
    "result"
   ]
  },
  {
   "cell_type": "code",
   "execution_count": 104,
   "metadata": {},
   "outputs": [
    {
     "data": {
      "text/plain": [
       "[<matplotlib.lines.Line2D at 0x7fab7520ef60>,\n",
       " <matplotlib.lines.Line2D at 0x7fab8dd9d0b8>]"
      ]
     },
     "execution_count": 104,
     "metadata": {},
     "output_type": "execute_result"
    },
    {
     "data": {
      "image/png": "[encoded data removed]",
      "text/plain": [
       "<Figure size 1440x720 with 1 Axes>"
      ]
     },
     "metadata": {},
     "output_type": "display_data"
    }
   ],
   "source": [
    "x = np.arange(len(result))\n",
    "plt.plot(x,result,x,result_base)"
   ]
  },
  {
   "cell_type": "code",
   "execution_count": 45,
   "metadata": {},
   "outputs": [],
   "source": []
  },
  {
   "cell_type": "code",
   "execution_count": 62,
   "metadata": {},
   "outputs": [],
   "source": [
    "result = []\n",
    "link_list = []\n",
    "start_lag = tau\n",
    "end_lag = tau + 11\n",
    "n_estimators=100\n",
    "max_depth=5"
   ]
  },
  {
   "cell_type": "code",
   "execution_count": 63,
   "metadata": {},
   "outputs": [],
   "source": [
    "df = pd.DataFrame({\"drought\":original_count})\n",
    "df = ff.shift_df(df, start_lag, end_lag)\n",
    "\n",
    "x_train, y_train = df.iloc[:,1:], df.iloc[:,0]"
   ]
  },
  {
   "cell_type": "code",
   "execution_count": 64,
   "metadata": {},
   "outputs": [],
   "source": [
    "df_val = pd.DataFrame({\"drought\":original_count_val})\n",
    "df_val = ff.shift_df(df_val, start_lag, end_lag)\n",
    "\n",
    "x_val, y_val = df_val.iloc[:,1:], df_val.iloc[:,0]"
   ]
  },
  {
   "cell_type": "code",
   "execution_count": 65,
   "metadata": {},
   "outputs": [],
   "source": [
    "base_model = RandomForestRegressor(max_depth=max_depth, random_state=0, n_estimators=n_estimators)\n",
    "base_model.fit(x_train, y_train);"
   ]
  },
  {
   "cell_type": "code",
   "execution_count": 66,
   "metadata": {},
   "outputs": [],
   "source": [
    "y_pred = base_model.predict(x_val)\n",
    "result.append(mean_squared_error(y_pred, y_val))"
   ]
  },
  {
   "cell_type": "code",
   "execution_count": 67,
   "metadata": {},
   "outputs": [
    {
     "data": {
      "text/plain": [
       "[160.10574334929868]"
      ]
     },
     "execution_count": 67,
     "metadata": {},
     "output_type": "execute_result"
    }
   ],
   "source": [
    "result"
   ]
  },
  {
   "cell_type": "code",
   "execution_count": 302,
   "metadata": {},
   "outputs": [],
   "source": [
    "df = pd.DataFrame({\"drought\": original_count})\n",
    "lags = np.arange(start_lag,end_lag + 1)\n",
    "df = df.assign(**{\n",
    "'{} (t-{})'.format(col, t): df[col].shift(t)\n",
    "for t in lags\n",
    "for col in df\n",
    "})\n",
    "for k in range(len(link)):\n",
    "    #df[str(k)] = ff.time_series_maker_V(data_sst, V[:,link[k,0]-1])\n",
    "    #df[str(k)] = df[str(k)].shift(abs(link[k,1]))\n",
    "    df_sst[\"pc\"] = V[:,link[k,0]-1]\n",
    "    df[str(k)] = ff.time_series_maker(link[k,0]-1, df_sst, data_sst)\n",
    "    df[str(k)] = df[str(k)].shift(abs(link[k,1]))\n",
    "df = df.dropna()\n",
    "\n",
    "base = df.iloc[:,:13].copy()\n",
    "features = df.iloc[:,13:].copy()"
   ]
  },
  {
   "cell_type": "code",
   "execution_count": 303,
   "metadata": {},
   "outputs": [],
   "source": [
    "df_val = pd.DataFrame({\"drought\": original_count_val})\n",
    "lags = np.arange(start_lag,end_lag + 1)\n",
    "df_val = df_val.assign(**{\n",
    "'{} (t-{})'.format(col, t): df_val[col].shift(t)\n",
    "for t in lags\n",
    "for col in df_val\n",
    "})\n",
    "for k in range(len(link)):\n",
    "    df_sst[\"pc\"] = V[:,link[k,0]-1]\n",
    "    df_val[str(k)] = ff.time_series_maker(link[k,0]-1, df_sst, data_sst_val)\n",
    "    df_val[str(k)] = df_val[str(k)].shift(abs(link[k,1]))\n",
    "df_val = df_val.dropna()\n",
    "\n",
    "base_val = df_val.iloc[:,:13].copy()\n",
    "features_val = df_val.iloc[:,13:].copy()"
   ]
  },
  {
   "cell_type": "code",
   "execution_count": 304,
   "metadata": {},
   "outputs": [],
   "source": [
    "def feature_score(base, feature, base_val, feature_val, n_estimators=100, max_depth=5):\n",
    "    df = pd.concat([base, feature],axis=1)\n",
    "    df_val = pd.concat([base_val, feature_val],axis=1) \n",
    "    #index = int(df.shape[0]*ratio)\n",
    "\n",
    "    x_train, y_train = df.iloc[:,1:], df.iloc[:,0]\n",
    "    x_val, y_val = df_val.iloc[:,1:], df_val.iloc[:,0]\n",
    "    \n",
    "    model = RandomForestRegressor(max_depth=max_depth, random_state=0, n_estimators=n_estimators)\n",
    "    model.fit(x_train, y_train)\n",
    "    y_pred = model.predict(x_val)\n",
    "    return(mean_squared_error(y_pred, y_val))"
   ]
  },
  {
   "cell_type": "code",
   "execution_count": 305,
   "metadata": {},
   "outputs": [],
   "source": [
    "while features.shape[1]>0:\n",
    "    min_mse = np.Inf\n",
    "    min_index = 0\n",
    "    for c in features.columns:\n",
    "        mse = feature_score(base, features[c], base_val, features_val[c])\n",
    "        if (result[-1] > mse) and (min_mse > mse):\n",
    "            min_mse = mse\n",
    "            min_index = c\n",
    "    if isinstance(min_index, int): break\n",
    "    result.append(min_mse)\n",
    "    base = pd.concat([base, features[min_index]],axis=1)\n",
    "    features = features.drop(min_index,1)\n",
    "    base_val = pd.concat([base_val, features_val[min_index]],axis=1)\n",
    "    features_val = features_val.drop(min_index,1)\n",
    "    link_list.append(link[int(min_index)])"
   ]
  },
  {
   "cell_type": "code",
   "execution_count": 306,
   "metadata": {},
   "outputs": [
    {
     "data": {
      "text/plain": [
       "[array([ 37, -12]),\n",
       " array([ 83, -13]),\n",
       " array([ 25, -18]),\n",
       " array([ 83, -12]),\n",
       " array([  7, -18]),\n",
       " array([  2, -18]),\n",
       " array([ 48, -13]),\n",
       " array([ 31, -12]),\n",
       " array([ 53, -12])]"
      ]
     },
     "execution_count": 306,
     "metadata": {},
     "output_type": "execute_result"
    }
   ],
   "source": [
    "link_list"
   ]
  },
  {
   "cell_type": "code",
   "execution_count": 307,
   "metadata": {},
   "outputs": [
    {
     "data": {
      "text/plain": [
       "[1319.1028429876462,\n",
       " 1101.279533678752,\n",
       " 983.2087567080001,\n",
       " 880.5084147456777,\n",
       " 831.2133577952143,\n",
       " 798.0146988714893,\n",
       " 776.2888526862916,\n",
       " 737.8597522237484,\n",
       " 729.2799313169061,\n",
       " 684.6835385431983]"
      ]
     },
     "execution_count": 307,
     "metadata": {},
     "output_type": "execute_result"
    }
   ],
   "source": [
    "result"
   ]
  },
  {
   "cell_type": "code",
   "execution_count": null,
   "metadata": {},
   "outputs": [],
   "source": []
  },
  {
   "cell_type": "code",
   "execution_count": null,
   "metadata": {},
   "outputs": [],
   "source": []
  },
  {
   "cell_type": "code",
   "execution_count": null,
   "metadata": {},
   "outputs": [],
   "source": []
  },
  {
   "cell_type": "code",
   "execution_count": 56,
   "metadata": {},
   "outputs": [
    {
     "data": {
      "text/plain": [
       "[array([ 11, -17]),\n",
       " array([ 33, -20]),\n",
       " array([ 22, -17]),\n",
       " array([  7, -22]),\n",
       " array([ 11, -14]),\n",
       " array([  5, -15]),\n",
       " array([ 52, -16]),\n",
       " array([ 39, -17])]"
      ]
     },
     "execution_count": 56,
     "metadata": {},
     "output_type": "execute_result"
    }
   ],
   "source": [
    "link_list"
   ]
  },
  {
   "cell_type": "code",
   "execution_count": 57,
   "metadata": {},
   "outputs": [
    {
     "data": {
      "text/plain": [
       "[1319.1028429876462,\n",
       " 1202.7095608659129,\n",
       " 1159.783139468003,\n",
       " 1130.431605537738,\n",
       " 1104.8273252330673,\n",
       " 1101.8139287998545,\n",
       " 1091.468353027205,\n",
       " 1083.1310072113597,\n",
       " 1081.0397756033483]"
      ]
     },
     "execution_count": 57,
     "metadata": {},
     "output_type": "execute_result"
    }
   ],
   "source": [
    "result"
   ]
  },
  {
   "cell_type": "code",
   "execution_count": null,
   "metadata": {},
   "outputs": [],
   "source": []
  },
  {
   "cell_type": "code",
   "execution_count": 145,
   "metadata": {},
   "outputs": [
    {
     "data": {
      "text/plain": [
       "array([[ 74, -12],\n",
       "       [ 40, -12],\n",
       "       [ 46, -18],\n",
       "       [  4, -21],\n",
       "       [ 25, -19],\n",
       "       [ 11, -23],\n",
       "       [ 47, -15],\n",
       "       [ 25, -17]])"
      ]
     },
     "execution_count": 145,
     "metadata": {},
     "output_type": "execute_result"
    }
   ],
   "source": [
    "l"
   ]
  },
  {
   "cell_type": "code",
   "execution_count": 38,
   "metadata": {},
   "outputs": [
    {
     "data": {
      "text/plain": [
       "[array([ 74, -12]),\n",
       " array([ 15, -21]),\n",
       " array([ 86, -21]),\n",
       " array([ 81, -13]),\n",
       " array([ 46, -15]),\n",
       " array([ 50, -13]),\n",
       " array([ 78, -16]),\n",
       " array([  2, -20]),\n",
       " array([ 98, -23])]"
      ]
     },
     "execution_count": 38,
     "metadata": {},
     "output_type": "execute_result"
    }
   ],
   "source": [
    "link_list"
   ]
  },
  {
   "cell_type": "code",
   "execution_count": 39,
   "metadata": {},
   "outputs": [
    {
     "data": {
      "text/plain": [
       "[1319.1028429876462,\n",
       " 1050.9921668418306,\n",
       " 974.9414948137519,\n",
       " 912.2021775375831,\n",
       " 870.7395367277998,\n",
       " 840.3332341529032,\n",
       " 808.7885683520061,\n",
       " 780.1320369437708,\n",
       " 764.7519484046292,\n",
       " 756.4666002296735]"
      ]
     },
     "execution_count": 39,
     "metadata": {},
     "output_type": "execute_result"
    }
   ],
   "source": [
    "result"
   ]
  },
  {
   "cell_type": "code",
   "execution_count": 59,
   "metadata": {},
   "outputs": [],
   "source": [
    "link_list = [[ 74, -12],[ 15, -21],\n",
    " [ 86, -21],\n",
    " [ 81, -13],\n",
    " [ 46, -15],\n",
    " [ 50, -13],\n",
    " [ 78, -16],\n",
    " [  2, -20],\n",
    " [ 98, -23]]"
   ]
  },
  {
   "cell_type": "code",
   "execution_count": 73,
   "metadata": {},
   "outputs": [],
   "source": [
    "best_link = np.array(link_list)"
   ]
  },
  {
   "cell_type": "code",
   "execution_count": 79,
   "metadata": {},
   "outputs": [],
   "source": []
  },
  {
   "cell_type": "code",
   "execution_count": 195,
   "metadata": {},
   "outputs": [],
   "source": []
  },
  {
   "cell_type": "code",
   "execution_count": 123,
   "metadata": {},
   "outputs": [
    {
     "data": {
      "text/plain": [
       "12"
      ]
     },
     "execution_count": 123,
     "metadata": {},
     "output_type": "execute_result"
    }
   ],
   "source": [
    "tau"
   ]
  },
  {
   "cell_type": "code",
   "execution_count": 179,
   "metadata": {},
   "outputs": [
    {
     "data": {
      "text/plain": [
       "array([[ 37, -12],\n",
       "       [ 83, -13],\n",
       "       [ 25, -18],\n",
       "       [ 83, -12],\n",
       "       [  7, -18],\n",
       "       [  2, -18],\n",
       "       [ 48, -13],\n",
       "       [ 31, -12],\n",
       "       [ 53, -12]])"
      ]
     },
     "execution_count": 179,
     "metadata": {},
     "output_type": "execute_result"
    }
   ],
   "source": [
    "best_link"
   ]
  },
  {
   "cell_type": "code",
   "execution_count": 158,
   "metadata": {},
   "outputs": [],
   "source": [
    "best_link = l"
   ]
  },
  {
   "cell_type": "code",
   "execution_count": 159,
   "metadata": {},
   "outputs": [],
   "source": []
  },
  {
   "cell_type": "code",
   "execution_count": 131,
   "metadata": {},
   "outputs": [],
   "source": [
    "temporal_limits = {\"time_min\":datetime(train_start, 1, 1, 0, 0),\"time_max\":datetime(val_end, 12, 1, 0, 0)}\n",
    "original_count, count = ff.drought_timeseries(\"../npy_files/ET_gamma_18912015.npy\",train_start,val_end)\n",
    "data_sst, ts, V , df_sst, avg, std = ff.PCA_computer_rotated('../../../nc/sst.mnmean.nc', \"sst\",temporal_limits, n_components_sst, -9.96921e+36)"
   ]
  },
  {
   "cell_type": "code",
   "execution_count": 132,
   "metadata": {},
   "outputs": [],
   "source": [
    "df = pd.DataFrame({\"drought\":original_count})\n",
    "df = ff.shift_df(df, start_lag, end_lag)\n",
    "\n",
    "x_train, y_train = df.iloc[:,1:], df.iloc[:,0]"
   ]
  },
  {
   "cell_type": "code",
   "execution_count": 133,
   "metadata": {},
   "outputs": [],
   "source": [
    "df_test = pd.DataFrame({\"drought\":original_count_test})\n",
    "df_test = ff.shift_df(df_test, start_lag, end_lag)\n",
    "\n",
    "x_test, y_test = df_test.iloc[:,1:], df_test.iloc[:,0]"
   ]
  },
  {
   "cell_type": "code",
   "execution_count": 136,
   "metadata": {},
   "outputs": [
    {
     "data": {
      "text/plain": [
       "82.02159063307798"
      ]
     },
     "execution_count": 136,
     "metadata": {},
     "output_type": "execute_result"
    }
   ],
   "source": [
    "base_model = RandomForestRegressor(max_depth=max_depth, random_state=0, n_estimators=n_estimators)\n",
    "base_model.fit(x_train, y_train);\n",
    "\n",
    "y_pred = base_model.predict(x_test)\n",
    "mean_squared_error(y_pred, y_test)"
   ]
  },
  {
   "cell_type": "code",
   "execution_count": 199,
   "metadata": {},
   "outputs": [
    {
     "data": {
      "text/plain": [
       "1868.1025306776066"
      ]
     },
     "execution_count": 199,
     "metadata": {},
     "output_type": "execute_result"
    }
   ],
   "source": []
  },
  {
   "cell_type": "code",
   "execution_count": 200,
   "metadata": {},
   "outputs": [
    {
     "data": {
      "text/plain": [
       "[1319.1028429876462,\n",
       " 1101.279533678752,\n",
       " 983.2087567080001,\n",
       " 880.5084147456777,\n",
       " 831.2133577952143,\n",
       " 798.0146988714893,\n",
       " 776.2888526862916,\n",
       " 737.8597522237484,\n",
       " 729.2799313169061,\n",
       " 684.6835385431983]"
      ]
     },
     "execution_count": 200,
     "metadata": {},
     "output_type": "execute_result"
    }
   ],
   "source": [
    "r"
   ]
  },
  {
   "cell_type": "code",
   "execution_count": 202,
   "metadata": {},
   "outputs": [],
   "source": [
    "#base_model_result(original_count_test, b, tau)"
   ]
  },
  {
   "cell_type": "code",
   "execution_count": 167,
   "metadata": {},
   "outputs": [],
   "source": []
  },
  {
   "cell_type": "code",
   "execution_count": 156,
   "metadata": {},
   "outputs": [],
   "source": []
  },
  {
   "cell_type": "code",
   "execution_count": null,
   "metadata": {},
   "outputs": [],
   "source": []
  },
  {
   "cell_type": "code",
   "execution_count": 137,
   "metadata": {},
   "outputs": [],
   "source": [
    "df = pd.DataFrame({\"drought\": original_count})\n",
    "lags = np.arange(start_lag,end_lag + 1)\n",
    "df = df.assign(**{\n",
    "'{} (t-{})'.format(col, t): df[col].shift(t)\n",
    "for t in lags\n",
    "for col in df\n",
    "})\n",
    "for k in range(len(best_link)):\n",
    "    #df[str(k)] = ff.time_series_maker_V(data_sst, V[:,link[k,0]-1])\n",
    "    #df[str(k)] = df[str(k)].shift(abs(link[k,1]))\n",
    "    df_sst[\"pc\"] = V[:,best_link[k,0]-1]\n",
    "    df[str(k)] = ff.time_series_maker(best_link[k,0]-1, df_sst, data_sst)\n",
    "    df[str(k)] = df[str(k)].shift(abs(best_link[k,1]))\n",
    "df = df.dropna()\n",
    "\n",
    "x_train, y_train = df.iloc[:,1:], df.iloc[:,0]\n",
    "\n",
    "model = RandomForestRegressor(max_depth=max_depth, random_state=0, n_estimators=n_estimators)\n",
    "model.fit(x_train, y_train);"
   ]
  },
  {
   "cell_type": "code",
   "execution_count": 138,
   "metadata": {},
   "outputs": [],
   "source": [
    "df_test = pd.DataFrame({\"drought\": original_count_test})\n",
    "lags = np.arange(start_lag,end_lag + 1)\n",
    "df_test = df_test.assign(**{\n",
    "'{} (t-{})'.format(col, t): df_test[col].shift(t)\n",
    "for t in lags\n",
    "for col in df_test\n",
    "})\n",
    "for k in range(len(best_link)):\n",
    "    #df_test[str(k)] = ff.time_series_maker_V(data_sst, V[:,link[k,0]-1])\n",
    "    #df_test[str(k)] = df_test[str(k)].shift(abs(link[k,1]))\n",
    "    df_sst[\"pc\"] = V[:,best_link[k,0]-1]\n",
    "    df_test[str(k)] = ff.time_series_maker(best_link[k,0]-1, df_sst, data_sst_test)\n",
    "    df_test[str(k)] = df_test[str(k)].shift(abs(best_link[k,1]))\n",
    "df_test = df_test.dropna()\n",
    "\n",
    "x_test, y_test = df_test.iloc[:,1:], df_test.iloc[:,0]\n",
    "\n"
   ]
  },
  {
   "cell_type": "code",
   "execution_count": 139,
   "metadata": {},
   "outputs": [
    {
     "data": {
      "text/plain": [
       "81.76578448430591"
      ]
     },
     "execution_count": 139,
     "metadata": {},
     "output_type": "execute_result"
    }
   ],
   "source": [
    "y_pred = model.predict(x_test)\n",
    "mean_squared_error(y_pred, y_test)"
   ]
  },
  {
   "cell_type": "code",
   "execution_count": 140,
   "metadata": {},
   "outputs": [
    {
     "data": {
      "text/plain": [
       "81.76578448430591"
      ]
     },
     "execution_count": 140,
     "metadata": {},
     "output_type": "execute_result"
    }
   ],
   "source": [
    "y_pred = m.predict(x_test)\n",
    "mean_squared_error(y_pred, y_test)"
   ]
  },
  {
   "cell_type": "code",
   "execution_count": 207,
   "metadata": {},
   "outputs": [
    {
     "data": {
      "text/plain": [
       "[1319.1028429876462,\n",
       " 1101.279533678752,\n",
       " 983.2087567080001,\n",
       " 880.5084147456777,\n",
       " 831.2133577952143,\n",
       " 798.0146988714893,\n",
       " 776.2888526862916,\n",
       " 737.8597522237484,\n",
       " 729.2799313169061,\n",
       " 684.6835385431983]"
      ]
     },
     "execution_count": 207,
     "metadata": {},
     "output_type": "execute_result"
    }
   ],
   "source": [
    "r"
   ]
  },
  {
   "cell_type": "code",
   "execution_count": null,
   "metadata": {},
   "outputs": [],
   "source": []
  },
  {
   "cell_type": "code",
   "execution_count": null,
   "metadata": {},
   "outputs": [],
   "source": []
  },
  {
   "cell_type": "code",
   "execution_count": 82,
   "metadata": {},
   "outputs": [
    {
     "data": {
      "text/plain": [
       "0.12883974452767746"
      ]
     },
     "execution_count": 82,
     "metadata": {},
     "output_type": "execute_result"
    }
   ],
   "source": [
    "math.sqrt(1524)/303"
   ]
  },
  {
   "cell_type": "code",
   "execution_count": 83,
   "metadata": {},
   "outputs": [
    {
     "data": {
      "text/plain": [
       "0.15476401435898818"
      ]
     },
     "execution_count": 83,
     "metadata": {},
     "output_type": "execute_result"
    }
   ],
   "source": [
    "math.sqrt(2199)/303"
   ]
  },
  {
   "cell_type": "code",
   "execution_count": null,
   "metadata": {},
   "outputs": [],
   "source": []
  },
  {
   "cell_type": "code",
   "execution_count": 19,
   "metadata": {},
   "outputs": [
    {
     "data": {
      "text/plain": [
       "[array([ 7, -3]),\n",
       " array([86, -3]),\n",
       " array([ 63, -10]),\n",
       " array([40, -9]),\n",
       " array([73, -7]),\n",
       " array([95, -5]),\n",
       " array([26, -8]),\n",
       " array([40, -1])]"
      ]
     },
     "execution_count": 19,
     "metadata": {},
     "output_type": "execute_result"
    }
   ],
   "source": [
    "link_list"
   ]
  },
  {
   "cell_type": "code",
   "execution_count": 20,
   "metadata": {},
   "outputs": [
    {
     "data": {
      "text/plain": [
       "[288.67583732502163,\n",
       " 271.3785553338698,\n",
       " 253.2389522828555,\n",
       " 246.59468575446846,\n",
       " 239.70305104114522,\n",
       " 237.55003947612022,\n",
       " 230.79977026507407,\n",
       " 227.70897095039092,\n",
       " 222.63137236958852]"
      ]
     },
     "execution_count": 20,
     "metadata": {},
     "output_type": "execute_result"
    }
   ],
   "source": [
    "result"
   ]
  },
  {
   "cell_type": "code",
   "execution_count": 21,
   "metadata": {},
   "outputs": [
    {
     "data": {
      "text/html": [
       "<div>\n",
       "<style scoped>\n",
       "    .dataframe tbody tr th:only-of-type {\n",
       "        vertical-align: middle;\n",
       "    }\n",
       "\n",
       "    .dataframe tbody tr th {\n",
       "        vertical-align: top;\n",
       "    }\n",
       "\n",
       "    .dataframe thead th {\n",
       "        text-align: right;\n",
       "    }\n",
       "</style>\n",
       "<table border=\"1\" class=\"dataframe\">\n",
       "  <thead>\n",
       "    <tr style=\"text-align: right;\">\n",
       "      <th></th>\n",
       "      <th>lons</th>\n",
       "      <th>lats</th>\n",
       "      <th>pc</th>\n",
       "    </tr>\n",
       "  </thead>\n",
       "  <tbody>\n",
       "    <tr>\n",
       "      <td>0</td>\n",
       "      <td>0.0</td>\n",
       "      <td>88.0</td>\n",
       "      <td>NaN</td>\n",
       "    </tr>\n",
       "    <tr>\n",
       "      <td>1</td>\n",
       "      <td>0.0</td>\n",
       "      <td>86.0</td>\n",
       "      <td>NaN</td>\n",
       "    </tr>\n",
       "    <tr>\n",
       "      <td>2</td>\n",
       "      <td>0.0</td>\n",
       "      <td>84.0</td>\n",
       "      <td>NaN</td>\n",
       "    </tr>\n",
       "    <tr>\n",
       "      <td>3</td>\n",
       "      <td>0.0</td>\n",
       "      <td>82.0</td>\n",
       "      <td>NaN</td>\n",
       "    </tr>\n",
       "    <tr>\n",
       "      <td>4</td>\n",
       "      <td>0.0</td>\n",
       "      <td>80.0</td>\n",
       "      <td>NaN</td>\n",
       "    </tr>\n",
       "    <tr>\n",
       "      <td>...</td>\n",
       "      <td>...</td>\n",
       "      <td>...</td>\n",
       "      <td>...</td>\n",
       "    </tr>\n",
       "    <tr>\n",
       "      <td>10983</td>\n",
       "      <td>-2.0</td>\n",
       "      <td>-62.0</td>\n",
       "      <td>NaN</td>\n",
       "    </tr>\n",
       "    <tr>\n",
       "      <td>10984</td>\n",
       "      <td>-2.0</td>\n",
       "      <td>-64.0</td>\n",
       "      <td>NaN</td>\n",
       "    </tr>\n",
       "    <tr>\n",
       "      <td>10985</td>\n",
       "      <td>-2.0</td>\n",
       "      <td>-66.0</td>\n",
       "      <td>NaN</td>\n",
       "    </tr>\n",
       "    <tr>\n",
       "      <td>10986</td>\n",
       "      <td>-2.0</td>\n",
       "      <td>-68.0</td>\n",
       "      <td>NaN</td>\n",
       "    </tr>\n",
       "    <tr>\n",
       "      <td>10987</td>\n",
       "      <td>-2.0</td>\n",
       "      <td>-70.0</td>\n",
       "      <td>NaN</td>\n",
       "    </tr>\n",
       "  </tbody>\n",
       "</table>\n",
       "<p>10988 rows × 3 columns</p>\n",
       "</div>"
      ],
      "text/plain": [
       "       lons  lats  pc\n",
       "0       0.0  88.0 NaN\n",
       "1       0.0  86.0 NaN\n",
       "2       0.0  84.0 NaN\n",
       "3       0.0  82.0 NaN\n",
       "4       0.0  80.0 NaN\n",
       "...     ...   ...  ..\n",
       "10983  -2.0 -62.0 NaN\n",
       "10984  -2.0 -64.0 NaN\n",
       "10985  -2.0 -66.0 NaN\n",
       "10986  -2.0 -68.0 NaN\n",
       "10987  -2.0 -70.0 NaN\n",
       "\n",
       "[10988 rows x 3 columns]"
      ]
     },
     "execution_count": 21,
     "metadata": {},
     "output_type": "execute_result"
    }
   ],
   "source": [
    "df_sst"
   ]
  },
  {
   "cell_type": "code",
   "execution_count": null,
   "metadata": {},
   "outputs": [],
   "source": []
  },
  {
   "cell_type": "code",
   "execution_count": null,
   "metadata": {},
   "outputs": [],
   "source": []
  },
  {
   "cell_type": "code",
   "execution_count": null,
   "metadata": {},
   "outputs": [],
   "source": []
  },
  {
   "cell_type": "code",
   "execution_count": 155,
   "metadata": {},
   "outputs": [
    {
     "data": {
      "text/plain": [
       "[array([12, -6]), array([ 84, -12]), array([ 8, -7])]"
      ]
     },
     "execution_count": 155,
     "metadata": {},
     "output_type": "execute_result"
    }
   ],
   "source": [
    "link_list"
   ]
  },
  {
   "cell_type": "code",
   "execution_count": 156,
   "metadata": {},
   "outputs": [
    {
     "data": {
      "text/plain": [
       "[288.67583732502163, 276.8398434208238, 268.28223215111984, 258.892908056739]"
      ]
     },
     "execution_count": 156,
     "metadata": {},
     "output_type": "execute_result"
    }
   ],
   "source": [
    "result"
   ]
  },
  {
   "cell_type": "code",
   "execution_count": null,
   "metadata": {},
   "outputs": [],
   "source": []
  },
  {
   "cell_type": "code",
   "execution_count": null,
   "metadata": {},
   "outputs": [],
   "source": []
  },
  {
   "cell_type": "code",
   "execution_count": 141,
   "metadata": {},
   "outputs": [
    {
     "data": {
      "text/plain": [
       "[array([54, -4]),\n",
       " array([92, -8]),\n",
       " array([40, -9]),\n",
       " array([ 84, -12]),\n",
       " array([86, -3]),\n",
       " array([98, -9]),\n",
       " array([ 59, -12]),\n",
       " array([ 87, -11])]"
      ]
     },
     "execution_count": 141,
     "metadata": {},
     "output_type": "execute_result"
    }
   ],
   "source": [
    "link_list"
   ]
  },
  {
   "cell_type": "code",
   "execution_count": 142,
   "metadata": {},
   "outputs": [
    {
     "data": {
      "text/plain": [
       "array([[ 73,  -1],\n",
       "       [ 54,  -4],\n",
       "       [ 95,  -5],\n",
       "       [ 56, -12],\n",
       "       [ 70,  -9],\n",
       "       [ 57,  -7],\n",
       "       [  7,  -3]])"
      ]
     },
     "execution_count": 142,
     "metadata": {},
     "output_type": "execute_result"
    }
   ],
   "source": [
    " np.load(\"../../whole_data_results/link_rotated_ET/best_link_all_1930_2000_{}.npy\".format(tau))"
   ]
  },
  {
   "cell_type": "code",
   "execution_count": 143,
   "metadata": {},
   "outputs": [
    {
     "data": {
      "text/plain": [
       "[288.67583732502163,\n",
       " 271.3889583401474,\n",
       " 262.0091439555347,\n",
       " 255.13429840251408,\n",
       " 251.1191158656034,\n",
       " 250.6312310256766,\n",
       " 247.8699569671881,\n",
       " 246.30396615566238,\n",
       " 242.55459104265896]"
      ]
     },
     "execution_count": 143,
     "metadata": {},
     "output_type": "execute_result"
    }
   ],
   "source": [
    "result"
   ]
  },
  {
   "cell_type": "code",
   "execution_count": 127,
   "metadata": {},
   "outputs": [
    {
     "data": {
      "text/html": [
       "<div>\n",
       "<style scoped>\n",
       "    .dataframe tbody tr th:only-of-type {\n",
       "        vertical-align: middle;\n",
       "    }\n",
       "\n",
       "    .dataframe tbody tr th {\n",
       "        vertical-align: top;\n",
       "    }\n",
       "\n",
       "    .dataframe thead th {\n",
       "        text-align: right;\n",
       "    }\n",
       "</style>\n",
       "<table border=\"1\" class=\"dataframe\">\n",
       "  <thead>\n",
       "    <tr style=\"text-align: right;\">\n",
       "      <th></th>\n",
       "      <th>drought</th>\n",
       "      <th>drought (t-1)</th>\n",
       "      <th>drought (t-2)</th>\n",
       "      <th>drought (t-3)</th>\n",
       "      <th>drought (t-4)</th>\n",
       "      <th>drought (t-5)</th>\n",
       "      <th>drought (t-6)</th>\n",
       "      <th>drought (t-7)</th>\n",
       "      <th>drought (t-8)</th>\n",
       "      <th>drought (t-9)</th>\n",
       "      <th>drought (t-10)</th>\n",
       "      <th>drought (t-11)</th>\n",
       "      <th>drought (t-12)</th>\n",
       "      <th>10</th>\n",
       "    </tr>\n",
       "  </thead>\n",
       "  <tbody>\n",
       "    <tr>\n",
       "      <td>12</td>\n",
       "      <td>23</td>\n",
       "      <td>24.0</td>\n",
       "      <td>24.0</td>\n",
       "      <td>23.0</td>\n",
       "      <td>11.0</td>\n",
       "      <td>1.0</td>\n",
       "      <td>7.0</td>\n",
       "      <td>1.0</td>\n",
       "      <td>0.0</td>\n",
       "      <td>4.0</td>\n",
       "      <td>6.0</td>\n",
       "      <td>7.0</td>\n",
       "      <td>25.0</td>\n",
       "      <td>-1.374026</td>\n",
       "    </tr>\n",
       "    <tr>\n",
       "      <td>13</td>\n",
       "      <td>25</td>\n",
       "      <td>23.0</td>\n",
       "      <td>24.0</td>\n",
       "      <td>24.0</td>\n",
       "      <td>23.0</td>\n",
       "      <td>11.0</td>\n",
       "      <td>1.0</td>\n",
       "      <td>7.0</td>\n",
       "      <td>1.0</td>\n",
       "      <td>0.0</td>\n",
       "      <td>4.0</td>\n",
       "      <td>6.0</td>\n",
       "      <td>7.0</td>\n",
       "      <td>3.683157</td>\n",
       "    </tr>\n",
       "    <tr>\n",
       "      <td>14</td>\n",
       "      <td>25</td>\n",
       "      <td>25.0</td>\n",
       "      <td>23.0</td>\n",
       "      <td>24.0</td>\n",
       "      <td>24.0</td>\n",
       "      <td>23.0</td>\n",
       "      <td>11.0</td>\n",
       "      <td>1.0</td>\n",
       "      <td>7.0</td>\n",
       "      <td>1.0</td>\n",
       "      <td>0.0</td>\n",
       "      <td>4.0</td>\n",
       "      <td>6.0</td>\n",
       "      <td>-3.105318</td>\n",
       "    </tr>\n",
       "    <tr>\n",
       "      <td>15</td>\n",
       "      <td>26</td>\n",
       "      <td>25.0</td>\n",
       "      <td>25.0</td>\n",
       "      <td>23.0</td>\n",
       "      <td>24.0</td>\n",
       "      <td>24.0</td>\n",
       "      <td>23.0</td>\n",
       "      <td>11.0</td>\n",
       "      <td>1.0</td>\n",
       "      <td>7.0</td>\n",
       "      <td>1.0</td>\n",
       "      <td>0.0</td>\n",
       "      <td>4.0</td>\n",
       "      <td>1.271245</td>\n",
       "    </tr>\n",
       "    <tr>\n",
       "      <td>16</td>\n",
       "      <td>79</td>\n",
       "      <td>26.0</td>\n",
       "      <td>25.0</td>\n",
       "      <td>25.0</td>\n",
       "      <td>23.0</td>\n",
       "      <td>24.0</td>\n",
       "      <td>24.0</td>\n",
       "      <td>23.0</td>\n",
       "      <td>11.0</td>\n",
       "      <td>1.0</td>\n",
       "      <td>7.0</td>\n",
       "      <td>1.0</td>\n",
       "      <td>0.0</td>\n",
       "      <td>2.165204</td>\n",
       "    </tr>\n",
       "    <tr>\n",
       "      <td>...</td>\n",
       "      <td>...</td>\n",
       "      <td>...</td>\n",
       "      <td>...</td>\n",
       "      <td>...</td>\n",
       "      <td>...</td>\n",
       "      <td>...</td>\n",
       "      <td>...</td>\n",
       "      <td>...</td>\n",
       "      <td>...</td>\n",
       "      <td>...</td>\n",
       "      <td>...</td>\n",
       "      <td>...</td>\n",
       "      <td>...</td>\n",
       "      <td>...</td>\n",
       "    </tr>\n",
       "    <tr>\n",
       "      <td>847</td>\n",
       "      <td>84</td>\n",
       "      <td>62.0</td>\n",
       "      <td>62.0</td>\n",
       "      <td>86.0</td>\n",
       "      <td>103.0</td>\n",
       "      <td>64.0</td>\n",
       "      <td>64.0</td>\n",
       "      <td>63.0</td>\n",
       "      <td>69.0</td>\n",
       "      <td>67.0</td>\n",
       "      <td>78.0</td>\n",
       "      <td>76.0</td>\n",
       "      <td>61.0</td>\n",
       "      <td>1.996249</td>\n",
       "    </tr>\n",
       "    <tr>\n",
       "      <td>848</td>\n",
       "      <td>84</td>\n",
       "      <td>84.0</td>\n",
       "      <td>62.0</td>\n",
       "      <td>62.0</td>\n",
       "      <td>86.0</td>\n",
       "      <td>103.0</td>\n",
       "      <td>64.0</td>\n",
       "      <td>64.0</td>\n",
       "      <td>63.0</td>\n",
       "      <td>69.0</td>\n",
       "      <td>67.0</td>\n",
       "      <td>78.0</td>\n",
       "      <td>76.0</td>\n",
       "      <td>-5.317979</td>\n",
       "    </tr>\n",
       "    <tr>\n",
       "      <td>849</td>\n",
       "      <td>79</td>\n",
       "      <td>84.0</td>\n",
       "      <td>84.0</td>\n",
       "      <td>62.0</td>\n",
       "      <td>62.0</td>\n",
       "      <td>86.0</td>\n",
       "      <td>103.0</td>\n",
       "      <td>64.0</td>\n",
       "      <td>64.0</td>\n",
       "      <td>63.0</td>\n",
       "      <td>69.0</td>\n",
       "      <td>67.0</td>\n",
       "      <td>78.0</td>\n",
       "      <td>-8.649045</td>\n",
       "    </tr>\n",
       "    <tr>\n",
       "      <td>850</td>\n",
       "      <td>74</td>\n",
       "      <td>79.0</td>\n",
       "      <td>84.0</td>\n",
       "      <td>84.0</td>\n",
       "      <td>62.0</td>\n",
       "      <td>62.0</td>\n",
       "      <td>86.0</td>\n",
       "      <td>103.0</td>\n",
       "      <td>64.0</td>\n",
       "      <td>64.0</td>\n",
       "      <td>63.0</td>\n",
       "      <td>69.0</td>\n",
       "      <td>67.0</td>\n",
       "      <td>-6.487833</td>\n",
       "    </tr>\n",
       "    <tr>\n",
       "      <td>851</td>\n",
       "      <td>51</td>\n",
       "      <td>74.0</td>\n",
       "      <td>79.0</td>\n",
       "      <td>84.0</td>\n",
       "      <td>84.0</td>\n",
       "      <td>62.0</td>\n",
       "      <td>62.0</td>\n",
       "      <td>86.0</td>\n",
       "      <td>103.0</td>\n",
       "      <td>64.0</td>\n",
       "      <td>64.0</td>\n",
       "      <td>63.0</td>\n",
       "      <td>69.0</td>\n",
       "      <td>-2.982062</td>\n",
       "    </tr>\n",
       "  </tbody>\n",
       "</table>\n",
       "<p>840 rows × 14 columns</p>\n",
       "</div>"
      ],
      "text/plain": [
       "     drought  drought (t-1)  drought (t-2)  drought (t-3)  drought (t-4)  \\\n",
       "12        23           24.0           24.0           23.0           11.0   \n",
       "13        25           23.0           24.0           24.0           23.0   \n",
       "14        25           25.0           23.0           24.0           24.0   \n",
       "15        26           25.0           25.0           23.0           24.0   \n",
       "16        79           26.0           25.0           25.0           23.0   \n",
       "..       ...            ...            ...            ...            ...   \n",
       "847       84           62.0           62.0           86.0          103.0   \n",
       "848       84           84.0           62.0           62.0           86.0   \n",
       "849       79           84.0           84.0           62.0           62.0   \n",
       "850       74           79.0           84.0           84.0           62.0   \n",
       "851       51           74.0           79.0           84.0           84.0   \n",
       "\n",
       "     drought (t-5)  drought (t-6)  drought (t-7)  drought (t-8)  \\\n",
       "12             1.0            7.0            1.0            0.0   \n",
       "13            11.0            1.0            7.0            1.0   \n",
       "14            23.0           11.0            1.0            7.0   \n",
       "15            24.0           23.0           11.0            1.0   \n",
       "16            24.0           24.0           23.0           11.0   \n",
       "..             ...            ...            ...            ...   \n",
       "847           64.0           64.0           63.0           69.0   \n",
       "848          103.0           64.0           64.0           63.0   \n",
       "849           86.0          103.0           64.0           64.0   \n",
       "850           62.0           86.0          103.0           64.0   \n",
       "851           62.0           62.0           86.0          103.0   \n",
       "\n",
       "     drought (t-9)  drought (t-10)  drought (t-11)  drought (t-12)        10  \n",
       "12             4.0             6.0             7.0            25.0 -1.374026  \n",
       "13             0.0             4.0             6.0             7.0  3.683157  \n",
       "14             1.0             0.0             4.0             6.0 -3.105318  \n",
       "15             7.0             1.0             0.0             4.0  1.271245  \n",
       "16             1.0             7.0             1.0             0.0  2.165204  \n",
       "..             ...             ...             ...             ...       ...  \n",
       "847           67.0            78.0            76.0            61.0  1.996249  \n",
       "848           69.0            67.0            78.0            76.0 -5.317979  \n",
       "849           63.0            69.0            67.0            78.0 -8.649045  \n",
       "850           64.0            63.0            69.0            67.0 -6.487833  \n",
       "851           64.0            64.0            63.0            69.0 -2.982062  \n",
       "\n",
       "[840 rows x 14 columns]"
      ]
     },
     "execution_count": 127,
     "metadata": {},
     "output_type": "execute_result"
    }
   ],
   "source": [
    "base"
   ]
  },
  {
   "cell_type": "code",
   "execution_count": 128,
   "metadata": {},
   "outputs": [
    {
     "data": {
      "text/html": [
       "<div>\n",
       "<style scoped>\n",
       "    .dataframe tbody tr th:only-of-type {\n",
       "        vertical-align: middle;\n",
       "    }\n",
       "\n",
       "    .dataframe tbody tr th {\n",
       "        vertical-align: top;\n",
       "    }\n",
       "\n",
       "    .dataframe thead th {\n",
       "        text-align: right;\n",
       "    }\n",
       "</style>\n",
       "<table border=\"1\" class=\"dataframe\">\n",
       "  <thead>\n",
       "    <tr style=\"text-align: right;\">\n",
       "      <th></th>\n",
       "      <th>drought</th>\n",
       "      <th>drought (t-1)</th>\n",
       "      <th>drought (t-2)</th>\n",
       "      <th>drought (t-3)</th>\n",
       "      <th>drought (t-4)</th>\n",
       "      <th>drought (t-5)</th>\n",
       "      <th>drought (t-6)</th>\n",
       "      <th>drought (t-7)</th>\n",
       "      <th>drought (t-8)</th>\n",
       "      <th>drought (t-9)</th>\n",
       "      <th>drought (t-10)</th>\n",
       "      <th>drought (t-11)</th>\n",
       "      <th>drought (t-12)</th>\n",
       "    </tr>\n",
       "  </thead>\n",
       "  <tbody>\n",
       "    <tr>\n",
       "      <td>12</td>\n",
       "      <td>14</td>\n",
       "      <td>15.0</td>\n",
       "      <td>7.0</td>\n",
       "      <td>1.0</td>\n",
       "      <td>1.0</td>\n",
       "      <td>2.0</td>\n",
       "      <td>5.0</td>\n",
       "      <td>8.0</td>\n",
       "      <td>10.0</td>\n",
       "      <td>0.0</td>\n",
       "      <td>31.0</td>\n",
       "      <td>37.0</td>\n",
       "      <td>39.0</td>\n",
       "    </tr>\n",
       "    <tr>\n",
       "      <td>13</td>\n",
       "      <td>9</td>\n",
       "      <td>14.0</td>\n",
       "      <td>15.0</td>\n",
       "      <td>7.0</td>\n",
       "      <td>1.0</td>\n",
       "      <td>1.0</td>\n",
       "      <td>2.0</td>\n",
       "      <td>5.0</td>\n",
       "      <td>8.0</td>\n",
       "      <td>10.0</td>\n",
       "      <td>0.0</td>\n",
       "      <td>31.0</td>\n",
       "      <td>37.0</td>\n",
       "    </tr>\n",
       "    <tr>\n",
       "      <td>14</td>\n",
       "      <td>9</td>\n",
       "      <td>9.0</td>\n",
       "      <td>14.0</td>\n",
       "      <td>15.0</td>\n",
       "      <td>7.0</td>\n",
       "      <td>1.0</td>\n",
       "      <td>1.0</td>\n",
       "      <td>2.0</td>\n",
       "      <td>5.0</td>\n",
       "      <td>8.0</td>\n",
       "      <td>10.0</td>\n",
       "      <td>0.0</td>\n",
       "      <td>31.0</td>\n",
       "    </tr>\n",
       "    <tr>\n",
       "      <td>15</td>\n",
       "      <td>6</td>\n",
       "      <td>9.0</td>\n",
       "      <td>9.0</td>\n",
       "      <td>14.0</td>\n",
       "      <td>15.0</td>\n",
       "      <td>7.0</td>\n",
       "      <td>1.0</td>\n",
       "      <td>1.0</td>\n",
       "      <td>2.0</td>\n",
       "      <td>5.0</td>\n",
       "      <td>8.0</td>\n",
       "      <td>10.0</td>\n",
       "      <td>0.0</td>\n",
       "    </tr>\n",
       "    <tr>\n",
       "      <td>16</td>\n",
       "      <td>16</td>\n",
       "      <td>6.0</td>\n",
       "      <td>9.0</td>\n",
       "      <td>9.0</td>\n",
       "      <td>14.0</td>\n",
       "      <td>15.0</td>\n",
       "      <td>7.0</td>\n",
       "      <td>1.0</td>\n",
       "      <td>1.0</td>\n",
       "      <td>2.0</td>\n",
       "      <td>5.0</td>\n",
       "      <td>8.0</td>\n",
       "      <td>10.0</td>\n",
       "    </tr>\n",
       "    <tr>\n",
       "      <td>...</td>\n",
       "      <td>...</td>\n",
       "      <td>...</td>\n",
       "      <td>...</td>\n",
       "      <td>...</td>\n",
       "      <td>...</td>\n",
       "      <td>...</td>\n",
       "      <td>...</td>\n",
       "      <td>...</td>\n",
       "      <td>...</td>\n",
       "      <td>...</td>\n",
       "      <td>...</td>\n",
       "      <td>...</td>\n",
       "      <td>...</td>\n",
       "    </tr>\n",
       "    <tr>\n",
       "      <td>115</td>\n",
       "      <td>64</td>\n",
       "      <td>64.0</td>\n",
       "      <td>62.0</td>\n",
       "      <td>78.0</td>\n",
       "      <td>84.0</td>\n",
       "      <td>102.0</td>\n",
       "      <td>133.0</td>\n",
       "      <td>115.0</td>\n",
       "      <td>154.0</td>\n",
       "      <td>102.0</td>\n",
       "      <td>126.0</td>\n",
       "      <td>92.0</td>\n",
       "      <td>109.0</td>\n",
       "    </tr>\n",
       "    <tr>\n",
       "      <td>116</td>\n",
       "      <td>51</td>\n",
       "      <td>64.0</td>\n",
       "      <td>64.0</td>\n",
       "      <td>62.0</td>\n",
       "      <td>78.0</td>\n",
       "      <td>84.0</td>\n",
       "      <td>102.0</td>\n",
       "      <td>133.0</td>\n",
       "      <td>115.0</td>\n",
       "      <td>154.0</td>\n",
       "      <td>102.0</td>\n",
       "      <td>126.0</td>\n",
       "      <td>92.0</td>\n",
       "    </tr>\n",
       "    <tr>\n",
       "      <td>117</td>\n",
       "      <td>40</td>\n",
       "      <td>51.0</td>\n",
       "      <td>64.0</td>\n",
       "      <td>64.0</td>\n",
       "      <td>62.0</td>\n",
       "      <td>78.0</td>\n",
       "      <td>84.0</td>\n",
       "      <td>102.0</td>\n",
       "      <td>133.0</td>\n",
       "      <td>115.0</td>\n",
       "      <td>154.0</td>\n",
       "      <td>102.0</td>\n",
       "      <td>126.0</td>\n",
       "    </tr>\n",
       "    <tr>\n",
       "      <td>118</td>\n",
       "      <td>42</td>\n",
       "      <td>40.0</td>\n",
       "      <td>51.0</td>\n",
       "      <td>64.0</td>\n",
       "      <td>64.0</td>\n",
       "      <td>62.0</td>\n",
       "      <td>78.0</td>\n",
       "      <td>84.0</td>\n",
       "      <td>102.0</td>\n",
       "      <td>133.0</td>\n",
       "      <td>115.0</td>\n",
       "      <td>154.0</td>\n",
       "      <td>102.0</td>\n",
       "    </tr>\n",
       "    <tr>\n",
       "      <td>119</td>\n",
       "      <td>38</td>\n",
       "      <td>42.0</td>\n",
       "      <td>40.0</td>\n",
       "      <td>51.0</td>\n",
       "      <td>64.0</td>\n",
       "      <td>64.0</td>\n",
       "      <td>62.0</td>\n",
       "      <td>78.0</td>\n",
       "      <td>84.0</td>\n",
       "      <td>102.0</td>\n",
       "      <td>133.0</td>\n",
       "      <td>115.0</td>\n",
       "      <td>154.0</td>\n",
       "    </tr>\n",
       "  </tbody>\n",
       "</table>\n",
       "<p>108 rows × 13 columns</p>\n",
       "</div>"
      ],
      "text/plain": [
       "     drought  drought (t-1)  drought (t-2)  drought (t-3)  drought (t-4)  \\\n",
       "12        14           15.0            7.0            1.0            1.0   \n",
       "13         9           14.0           15.0            7.0            1.0   \n",
       "14         9            9.0           14.0           15.0            7.0   \n",
       "15         6            9.0            9.0           14.0           15.0   \n",
       "16        16            6.0            9.0            9.0           14.0   \n",
       "..       ...            ...            ...            ...            ...   \n",
       "115       64           64.0           62.0           78.0           84.0   \n",
       "116       51           64.0           64.0           62.0           78.0   \n",
       "117       40           51.0           64.0           64.0           62.0   \n",
       "118       42           40.0           51.0           64.0           64.0   \n",
       "119       38           42.0           40.0           51.0           64.0   \n",
       "\n",
       "     drought (t-5)  drought (t-6)  drought (t-7)  drought (t-8)  \\\n",
       "12             2.0            5.0            8.0           10.0   \n",
       "13             1.0            2.0            5.0            8.0   \n",
       "14             1.0            1.0            2.0            5.0   \n",
       "15             7.0            1.0            1.0            2.0   \n",
       "16            15.0            7.0            1.0            1.0   \n",
       "..             ...            ...            ...            ...   \n",
       "115          102.0          133.0          115.0          154.0   \n",
       "116           84.0          102.0          133.0          115.0   \n",
       "117           78.0           84.0          102.0          133.0   \n",
       "118           62.0           78.0           84.0          102.0   \n",
       "119           64.0           62.0           78.0           84.0   \n",
       "\n",
       "     drought (t-9)  drought (t-10)  drought (t-11)  drought (t-12)  \n",
       "12             0.0            31.0            37.0            39.0  \n",
       "13            10.0             0.0            31.0            37.0  \n",
       "14             8.0            10.0             0.0            31.0  \n",
       "15             5.0             8.0            10.0             0.0  \n",
       "16             2.0             5.0             8.0            10.0  \n",
       "..             ...             ...             ...             ...  \n",
       "115          102.0           126.0            92.0           109.0  \n",
       "116          154.0           102.0           126.0            92.0  \n",
       "117          115.0           154.0           102.0           126.0  \n",
       "118          133.0           115.0           154.0           102.0  \n",
       "119          102.0           133.0           115.0           154.0  \n",
       "\n",
       "[108 rows x 13 columns]"
      ]
     },
     "execution_count": 128,
     "metadata": {},
     "output_type": "execute_result"
    }
   ],
   "source": [
    "base_val"
   ]
  },
  {
   "cell_type": "code",
   "execution_count": 129,
   "metadata": {},
   "outputs": [
    {
     "data": {
      "text/plain": [
       "[288.67583732502163, 271.3889583401474]"
      ]
     },
     "execution_count": 129,
     "metadata": {},
     "output_type": "execute_result"
    }
   ],
   "source": [
    "result"
   ]
  },
  {
   "cell_type": "code",
   "execution_count": null,
   "metadata": {},
   "outputs": [],
   "source": []
  },
  {
   "cell_type": "code",
   "execution_count": null,
   "metadata": {},
   "outputs": [],
   "source": []
  },
  {
   "cell_type": "code",
   "execution_count": null,
   "metadata": {},
   "outputs": [],
   "source": []
  },
  {
   "cell_type": "code",
   "execution_count": null,
   "metadata": {},
   "outputs": [],
   "source": [
    "def feature_score(base, feature, base_val, feature_val, n_estimators=100, max_depth=5):\n",
    "    df = pd.concat([base, feature],axis=1)\n",
    "    df_val = df = pd.concat([base_val, feature_val],axis=1) \n",
    "    #index = int(df.shape[0]*ratio)\n",
    "\n",
    "    x_train, y_train = df.iloc[:,1:], df.iloc[:,1]\n",
    "    x_val, y_val = df_val.iloc[:,1:], df_val.iloc[:,1]\n",
    "    \n",
    "    model = RandomForestRegressor(max_depth=max_depth, random_state=0, n_estimators=n_estimators)\n",
    "    model.fit(x_train, y_train)\n",
    "    y_pred = model.predict(x_val)\n",
    "    return(mean_squared_error(y_pred, y_val))\n",
    "    \n",
    "\n",
    "def forward_feature_V(count, data_sst, link, V, tau,  ratio = 0.8, n_estimators=100, max_depth=5):\n",
    "    result = []\n",
    "    link_list = []\n",
    "    start_lag = tau\n",
    "    end_lag = tau + 11\n",
    "    df = pd.DataFrame({\"drought\":count})\n",
    "    \n",
    "    df = shift_df(df, start_lag, end_lag)\n",
    "    index = int(df.shape[0]*ratio)\n",
    "    dim = df.shape[1]\n",
    "    x_train, x_test = df.iloc[:index,1:dim], df.iloc[index:,1:dim]\n",
    "    y_train, y_test = df.iloc[:index,0], df.iloc[index:,0]\n",
    "    base_model = RandomForestRegressor(max_depth=max_depth, random_state=0, n_estimators=n_estimators)\n",
    "    base_model.fit(x_train, y_train)\n",
    "    y_pred = base_model.predict(x_test)\n",
    "    result.append(mean_squared_error(y_pred, y_test))\n",
    "    \n",
    "    df = pd.DataFrame({\"drought\": count})\n",
    "    lags = np.arange(start_lag,end_lag + 1)\n",
    "    df = df.assign(**{\n",
    "    '{} (t-{})'.format(col, t): df[col].shift(t)\n",
    "    for t in lags\n",
    "    for col in df\n",
    "    })\n",
    "    for k in range(len(link)):\n",
    "        df[str(k)] = time_series_maker_V(data_sst, V[:,link[k,0]-1])\n",
    "        df[str(k)] = df[str(k)].shift(abs(link[k,1]))\n",
    "    df = df.dropna()\n",
    "    \n",
    "    base = df.iloc[:,:14].copy()\n",
    "    features = df.iloc[:,14:].copy()\n",
    "    \n",
    "    while features.shape[1]>0:\n",
    "        min_mse = np.Inf\n",
    "        min_index = 0\n",
    "        for c in features.columns:\n",
    "            mse = feature_score(base, features[c])\n",
    "            if (result[-1] > mse) and (min_mse > mse):\n",
    "                min_mse = mse\n",
    "                min_index = c\n",
    "        if isinstance(min_index, int): break\n",
    "        result.append(min_mse)\n",
    "        base = pd.concat([base, features[min_index]],axis=1)\n",
    "        features = features.drop(min_index,1)\n",
    "        link_list.append(link[int(min_index)])\n",
    "            \n",
    "    if len(link_list) > 0:        \n",
    "        x_train = base.iloc[:,1:]\n",
    "        y_train = base.iloc[:,0]\n",
    "        model = RandomForestRegressor(max_depth=max_depth, random_state=0, n_estimators=n_estimators)\n",
    "        model.fit(x_train, y_train)\n",
    "    else:\n",
    "        model = base_model\n",
    "        link_list = []\n",
    "    \n",
    "    return(np.array(link_list),base_model, model)"
   ]
  },
  {
   "cell_type": "code",
   "execution_count": null,
   "metadata": {},
   "outputs": [],
   "source": []
  },
  {
   "cell_type": "code",
   "execution_count": null,
   "metadata": {},
   "outputs": [],
   "source": []
  }
 ],
 "metadata": {
  "kernelspec": {
   "display_name": "Python 3",
   "language": "python",
   "name": "python3"
  },
  "language_info": {
   "codemirror_mode": {
    "name": "ipython",
    "version": 3
   },
   "file_extension": ".py",
   "mimetype": "text/x-python",
   "name": "python",
   "nbconvert_exporter": "python",
   "pygments_lexer": "ipython3",
   "version": "3.6.9"
  }
 },
 "nbformat": 4,
 "nbformat_minor": 2
}
