{
 "cells": [
  {
   "cell_type": "code",
   "execution_count": 2,
   "metadata": {},
   "outputs": [],
   "source": [
    "#from statsmodels.tsa.arima_process import ArmaProcess \n",
    "from statsmodels.tsa.stattools import pacf, acf\n",
    "from statsmodels.graphics.tsaplots import plot_pacf, plot_acf\n",
    "import matplotlib.pyplot as plt\n",
    "import numpy as np\n",
    "import math\n",
    "import pandas as pd\n",
    "from pandas import Series\n",
    "import random\n",
    "from sklearn.decomposition import PCA\n",
    "from sklearn.preprocessing import StandardScaler\n",
    "from scipy import eye, asarray, dot, sum, diag\n",
    "from scipy.linalg import svd\n",
    "from mpl_toolkits.basemap import Basemap\n",
    "import matplotlib as mpl\n",
    "from matplotlib import cm\n",
    "from colorspacious import cspace_converter\n",
    "from collections import OrderedDict\n",
    "from netCDF4 import Dataset\n",
    "from numpy import linspace\n",
    "from numpy import meshgrid\n",
    "from sklearn.preprocessing import MinMaxScaler\n",
    "from statsmodels.tsa.stattools import grangercausalitytests\n",
    "\n",
    "import PCA_functions as pf\n",
    "import Extreme_functions as ef\n",
    "\n",
    "from tigramite import plotting as tp\n",
    "from tigramite.pcmci import PCMCI\n",
    "from tigramite.independence_tests import ParCorr, CMIknn\n",
    "import tigramite.data_processing as pp\n",
    "\n",
    "from statsmodels.tsa.stattools import adfuller\n",
    "from Data import Data\n",
    "from datetime import datetime\n",
    "\n",
    "from sklearn.manifold import TSNE, MDS, Isomap\n",
    "from sklearn.cluster import AgglomerativeClustering, DBSCAN\n",
    "\n",
    "import itertools\n",
    "from collections import Counter\n",
    "import pickle\n",
    "\n",
    "from numpy import linalg as LA\n",
    "\n",
    "import matplotlib.cm as cm\n",
    "\n",
    "from scipy.special import inv_boxcox\n",
    "from scipy import stats\n",
    "\n",
    "from matplotlib import animation\n",
    "\n",
    "import scipy.stats as st\n",
    "\n",
    "import reverse_geocoder as rg\n",
    "\n",
    "from pandas_datareader import wb\n",
    "import scipy.stats as st\n",
    "\n",
    "plt.rcParams[\"figure.figsize\"] = (5,5)\n",
    "\n",
    "from pandas_datareader import wb\n",
    "\n",
    "import seaborn as sns\n",
    "\n",
    "from sklearn import preprocessing\n",
    "import Rung as rung\n",
    "\n",
    "import reverse_geocoder as rg\n",
    "from datetime import datetime\n",
    "\n",
    "plt.rcParams[\"figure.figsize\"] = (20,10)\n",
    "from scipy import signal"
   ]
  },
  {
   "cell_type": "code",
   "execution_count": 4,
   "metadata": {},
   "outputs": [],
   "source": [
    "temporal_limits= {\"time_min\":datetime(1891, 1, 1, 0, 0),\"time_max\":datetime(2015, 12, 1, 0, 0) }"
   ]
  },
  {
   "cell_type": "code",
   "execution_count": 6,
   "metadata": {},
   "outputs": [],
   "source": [
    "file_name = '../../../nc/precip.mon.total.v2018.nc'\n",
    "country_code = 'ZW'"
   ]
  },
  {
   "cell_type": "code",
   "execution_count": 16,
   "metadata": {},
   "outputs": [],
   "source": [
    "lon = d.get_lon()\n",
    "lat = d.get_lat()"
   ]
  },
  {
   "cell_type": "code",
   "execution_count": 7,
   "metadata": {},
   "outputs": [
    {
     "name": "stdout",
     "output_type": "stream",
     "text": [
      "Loading formatted geocoded file...\n"
     ]
    }
   ],
   "source": [
    "    \n",
    "d = Data(file_name,'precip',temporal_limits,missing_value=-9.96921e+36)\n",
    "\n",
    "result = d.get_data()\n",
    "lon_list = d.get_lon_list()\n",
    "lat_list = d.get_lat_list()\n",
    "\n",
    "\n",
    "coordinates = list(zip(lat_list,lon_list))\n",
    "dic = rg.search(coordinates)\n",
    "country = []\n",
    "for i in range(len(dic)):\n",
    "    country.append(dic[i].get('cc'))\n",
    "\n",
    "ET_index = np.where(np.array(country)== country_code)[0]\n",
    "ET_data = result[:,ET_index]"
   ]
  },
  {
   "cell_type": "code",
   "execution_count": 35,
   "metadata": {},
   "outputs": [],
   "source": [
    "lat_sst  = lat"
   ]
  },
  {
   "cell_type": "code",
   "execution_count": 36,
   "metadata": {},
   "outputs": [],
   "source": [
    "df_sst = pd.DataFrame({\"lons\":lon_list,\"lats\":lat_list})"
   ]
  },
  {
   "cell_type": "code",
   "execution_count": 54,
   "metadata": {},
   "outputs": [
    {
     "data": {
      "text/html": [
       "<div>\n",
       "<style scoped>\n",
       "    .dataframe tbody tr th:only-of-type {\n",
       "        vertical-align: middle;\n",
       "    }\n",
       "\n",
       "    .dataframe tbody tr th {\n",
       "        vertical-align: top;\n",
       "    }\n",
       "\n",
       "    .dataframe thead th {\n",
       "        text-align: right;\n",
       "    }\n",
       "</style>\n",
       "<table border=\"1\" class=\"dataframe\">\n",
       "  <thead>\n",
       "    <tr style=\"text-align: right;\">\n",
       "      <th></th>\n",
       "      <th>lons</th>\n",
       "      <th>lats</th>\n",
       "    </tr>\n",
       "  </thead>\n",
       "  <tbody>\n",
       "    <tr>\n",
       "      <td>0</td>\n",
       "      <td>0.25</td>\n",
       "      <td>53.75</td>\n",
       "    </tr>\n",
       "    <tr>\n",
       "      <td>1</td>\n",
       "      <td>0.25</td>\n",
       "      <td>53.25</td>\n",
       "    </tr>\n",
       "    <tr>\n",
       "      <td>2</td>\n",
       "      <td>0.25</td>\n",
       "      <td>52.75</td>\n",
       "    </tr>\n",
       "    <tr>\n",
       "      <td>3</td>\n",
       "      <td>0.25</td>\n",
       "      <td>52.25</td>\n",
       "    </tr>\n",
       "    <tr>\n",
       "      <td>4</td>\n",
       "      <td>0.25</td>\n",
       "      <td>51.75</td>\n",
       "    </tr>\n",
       "    <tr>\n",
       "      <td>...</td>\n",
       "      <td>...</td>\n",
       "      <td>...</td>\n",
       "    </tr>\n",
       "    <tr>\n",
       "      <td>69731</td>\n",
       "      <td>359.75</td>\n",
       "      <td>7.25</td>\n",
       "    </tr>\n",
       "    <tr>\n",
       "      <td>69732</td>\n",
       "      <td>359.75</td>\n",
       "      <td>6.75</td>\n",
       "    </tr>\n",
       "    <tr>\n",
       "      <td>69733</td>\n",
       "      <td>359.75</td>\n",
       "      <td>6.25</td>\n",
       "    </tr>\n",
       "    <tr>\n",
       "      <td>69734</td>\n",
       "      <td>359.75</td>\n",
       "      <td>5.75</td>\n",
       "    </tr>\n",
       "    <tr>\n",
       "      <td>69735</td>\n",
       "      <td>359.75</td>\n",
       "      <td>5.25</td>\n",
       "    </tr>\n",
       "  </tbody>\n",
       "</table>\n",
       "<p>69736 rows × 2 columns</p>\n",
       "</div>"
      ],
      "text/plain": [
       "         lons   lats\n",
       "0        0.25  53.75\n",
       "1        0.25  53.25\n",
       "2        0.25  52.75\n",
       "3        0.25  52.25\n",
       "4        0.25  51.75\n",
       "...       ...    ...\n",
       "69731  359.75   7.25\n",
       "69732  359.75   6.75\n",
       "69733  359.75   6.25\n",
       "69734  359.75   5.75\n",
       "69735  359.75   5.25\n",
       "\n",
       "[69736 rows x 2 columns]"
      ]
     },
     "execution_count": 54,
     "metadata": {},
     "output_type": "execute_result"
    }
   ],
   "source": [
    "df_sst"
   ]
  },
  {
   "cell_type": "code",
   "execution_count": 57,
   "metadata": {},
   "outputs": [],
   "source": [
    "df_sst[\"pc\"]= 0"
   ]
  },
  {
   "cell_type": "code",
   "execution_count": 59,
   "metadata": {},
   "outputs": [],
   "source": [
    "df_sst.iloc[ET_index,2]=1"
   ]
  },
  {
   "cell_type": "code",
   "execution_count": 52,
   "metadata": {},
   "outputs": [
    {
     "data": {
      "text/plain": [
       "array([[-18.25,  26.25],\n",
       "       [-18.75,  26.25],\n",
       "       [-18.25,  26.75],\n",
       "       [-18.75,  26.75],\n",
       "       [-19.25,  26.75],\n",
       "       [-17.75,  27.25],\n",
       "       [-18.25,  27.25],\n",
       "       [-18.75,  27.25],\n",
       "       [-19.25,  27.25],\n",
       "       [-17.75,  27.75],\n",
       "       [-18.25,  27.75],\n",
       "       [-18.75,  27.75],\n",
       "       [-19.25,  27.75],\n",
       "       [-19.75,  27.75],\n",
       "       [-20.25,  27.75],\n",
       "       [-20.75,  27.75],\n",
       "       [-17.75,  28.25],\n",
       "       [-18.25,  28.25],\n",
       "       [-18.75,  28.25],\n",
       "       [-19.25,  28.25],\n",
       "       [-19.75,  28.25],\n",
       "       [-20.25,  28.25],\n",
       "       [-20.75,  28.25],\n",
       "       [-15.75,  28.75],\n",
       "       [-16.25,  28.75],\n",
       "       [-17.75,  28.75],\n",
       "       [-18.25,  28.75],\n",
       "       [-18.75,  28.75],\n",
       "       [-19.25,  28.75],\n",
       "       [-19.75,  28.75],\n",
       "       [-20.25,  28.75],\n",
       "       [-20.75,  28.75],\n",
       "       [-21.25,  28.75],\n",
       "       [-15.75,  29.25],\n",
       "       [-16.25,  29.25],\n",
       "       [-16.75,  29.25],\n",
       "       [-17.25,  29.25],\n",
       "       [-17.75,  29.25],\n",
       "       [-18.25,  29.25],\n",
       "       [-18.75,  29.25],\n",
       "       [-19.25,  29.25],\n",
       "       [-19.75,  29.25],\n",
       "       [-20.25,  29.25],\n",
       "       [-20.75,  29.25],\n",
       "       [-21.25,  29.25],\n",
       "       [-16.25,  29.75],\n",
       "       [-16.75,  29.75],\n",
       "       [-17.25,  29.75],\n",
       "       [-17.75,  29.75],\n",
       "       [-18.25,  29.75],\n",
       "       [-18.75,  29.75],\n",
       "       [-19.25,  29.75],\n",
       "       [-19.75,  29.75],\n",
       "       [-20.25,  29.75],\n",
       "       [-20.75,  29.75],\n",
       "       [-21.25,  29.75],\n",
       "       [-21.75,  29.75],\n",
       "       [-22.25,  29.75],\n",
       "       [-16.25,  30.25],\n",
       "       [-16.75,  30.25],\n",
       "       [-17.25,  30.25],\n",
       "       [-17.75,  30.25],\n",
       "       [-18.25,  30.25],\n",
       "       [-18.75,  30.25],\n",
       "       [-19.25,  30.25],\n",
       "       [-19.75,  30.25],\n",
       "       [-20.25,  30.25],\n",
       "       [-20.75,  30.25],\n",
       "       [-21.25,  30.25],\n",
       "       [-21.75,  30.25],\n",
       "       [-16.25,  30.75],\n",
       "       [-16.75,  30.75],\n",
       "       [-17.25,  30.75],\n",
       "       [-17.75,  30.75],\n",
       "       [-18.25,  30.75],\n",
       "       [-18.75,  30.75],\n",
       "       [-19.25,  30.75],\n",
       "       [-19.75,  30.75],\n",
       "       [-20.25,  30.75],\n",
       "       [-20.75,  30.75],\n",
       "       [-21.25,  30.75],\n",
       "       [-16.25,  31.25],\n",
       "       [-16.75,  31.25],\n",
       "       [-17.25,  31.25],\n",
       "       [-17.75,  31.25],\n",
       "       [-18.25,  31.25],\n",
       "       [-18.75,  31.25],\n",
       "       [-19.25,  31.25],\n",
       "       [-19.75,  31.25],\n",
       "       [-20.25,  31.25],\n",
       "       [-20.75,  31.25],\n",
       "       [-21.25,  31.25],\n",
       "       [-15.75,  31.75],\n",
       "       [-16.25,  31.75],\n",
       "       [-16.75,  31.75],\n",
       "       [-17.25,  31.75],\n",
       "       [-17.75,  31.75],\n",
       "       [-18.25,  31.75],\n",
       "       [-18.75,  31.75],\n",
       "       [-19.25,  31.75],\n",
       "       [-19.75,  31.75],\n",
       "       [-20.25,  31.75],\n",
       "       [-20.75,  31.75],\n",
       "       [-21.25,  31.75],\n",
       "       [-21.75,  31.75],\n",
       "       [-15.75,  32.25],\n",
       "       [-16.25,  32.25],\n",
       "       [-16.75,  32.25],\n",
       "       [-17.25,  32.25],\n",
       "       [-17.75,  32.25],\n",
       "       [-18.25,  32.25],\n",
       "       [-18.75,  32.25],\n",
       "       [-19.25,  32.25],\n",
       "       [-19.75,  32.25],\n",
       "       [-20.25,  32.25],\n",
       "       [-20.75,  32.25],\n",
       "       [-21.25,  32.25],\n",
       "       [-21.75,  32.25],\n",
       "       [-22.25,  32.25],\n",
       "       [-16.75,  32.75],\n",
       "       [-17.25,  32.75],\n",
       "       [-17.75,  32.75],\n",
       "       [-18.25,  32.75],\n",
       "       [-18.75,  32.75],\n",
       "       [-19.25,  32.75],\n",
       "       [-19.75,  32.75],\n",
       "       [-20.25,  32.75],\n",
       "       [-20.75,  32.75],\n",
       "       [-21.25,  32.75],\n",
       "       [-21.75,  32.75],\n",
       "       [-22.25,  32.75],\n",
       "       [-17.25,  33.25],\n",
       "       [-17.75,  33.25],\n",
       "       [-18.25,  33.25],\n",
       "       [-19.75,  33.25],\n",
       "       [-20.25,  33.25],\n",
       "       [-20.75,  33.25],\n",
       "       [-21.25,  33.25],\n",
       "       [-21.75,  33.25],\n",
       "       [-22.25,  33.25],\n",
       "       [-17.75,  33.75],\n",
       "       [-20.25,  33.75],\n",
       "       [-20.75,  33.75],\n",
       "       [-21.25,  33.75],\n",
       "       [-21.75,  33.75]], dtype=float32)"
      ]
     },
     "execution_count": 52,
     "metadata": {},
     "output_type": "execute_result"
    }
   ],
   "source": [
    "np.array(coordinates)[ET_index]"
   ]
  },
  {
   "cell_type": "code",
   "execution_count": 61,
   "metadata": {},
   "outputs": [
    {
     "ename": "KeyboardInterrupt",
     "evalue": "",
     "output_type": "error",
     "traceback": [
      "\u001b[0;31m---------------------------------------------------------------------------\u001b[0m",
      "\u001b[0;31mKeyboardInterrupt\u001b[0m                         Traceback (most recent call last)",
      "\u001b[0;32m<ipython-input-61-1c66e9d43824>\u001b[0m in \u001b[0;36m<module>\u001b[0;34m()\u001b[0m\n\u001b[1;32m     13\u001b[0m \u001b[0;32mfor\u001b[0m \u001b[0mi\u001b[0m \u001b[0;32min\u001b[0m \u001b[0mrange\u001b[0m\u001b[0;34m(\u001b[0m\u001b[0mlat_number\u001b[0m\u001b[0;34m)\u001b[0m\u001b[0;34m:\u001b[0m\u001b[0;34m\u001b[0m\u001b[0;34m\u001b[0m\u001b[0m\n\u001b[1;32m     14\u001b[0m     \u001b[0;32mfor\u001b[0m \u001b[0mj\u001b[0m \u001b[0;32min\u001b[0m \u001b[0mrange\u001b[0m\u001b[0;34m(\u001b[0m\u001b[0mlon_number\u001b[0m\u001b[0;34m)\u001b[0m\u001b[0;34m:\u001b[0m\u001b[0;34m\u001b[0m\u001b[0;34m\u001b[0m\u001b[0m\n\u001b[0;32m---> 15\u001b[0;31m         \u001b[0;32mif\u001b[0m \u001b[0;32mnot\u001b[0m \u001b[0mdf_sst\u001b[0m\u001b[0;34m[\u001b[0m\u001b[0;34m(\u001b[0m\u001b[0mdf_sst\u001b[0m\u001b[0;34m.\u001b[0m\u001b[0mlats\u001b[0m \u001b[0;34m==\u001b[0m \u001b[0mlat_sst\u001b[0m\u001b[0;34m[\u001b[0m\u001b[0mi\u001b[0m\u001b[0;34m]\u001b[0m\u001b[0;34m)\u001b[0m \u001b[0;34m&\u001b[0m \u001b[0;34m(\u001b[0m\u001b[0mdf_sst\u001b[0m\u001b[0;34m.\u001b[0m\u001b[0mlons\u001b[0m \u001b[0;34m==\u001b[0m \u001b[0mlon1_sst\u001b[0m\u001b[0;34m[\u001b[0m\u001b[0mj\u001b[0m\u001b[0;34m]\u001b[0m\u001b[0;34m)\u001b[0m\u001b[0;34m]\u001b[0m\u001b[0;34m.\u001b[0m\u001b[0mpc\u001b[0m\u001b[0;34m.\u001b[0m\u001b[0mvalues\u001b[0m\u001b[0;34m.\u001b[0m\u001b[0msize\u001b[0m \u001b[0;34m==\u001b[0m \u001b[0;36m0\u001b[0m\u001b[0;34m:\u001b[0m\u001b[0;34m\u001b[0m\u001b[0;34m\u001b[0m\u001b[0m\n\u001b[0m\u001b[1;32m     16\u001b[0m             \u001b[0mdeg\u001b[0m\u001b[0;34m[\u001b[0m\u001b[0mi\u001b[0m\u001b[0;34m,\u001b[0m\u001b[0mj\u001b[0m\u001b[0;34m]\u001b[0m \u001b[0;34m=\u001b[0m \u001b[0mdf_sst\u001b[0m\u001b[0;34m[\u001b[0m\u001b[0;34m(\u001b[0m\u001b[0mdf_sst\u001b[0m\u001b[0;34m.\u001b[0m\u001b[0mlats\u001b[0m \u001b[0;34m==\u001b[0m \u001b[0mlat_sst\u001b[0m\u001b[0;34m[\u001b[0m\u001b[0mi\u001b[0m\u001b[0;34m]\u001b[0m\u001b[0;34m)\u001b[0m \u001b[0;34m&\u001b[0m \u001b[0;34m(\u001b[0m\u001b[0mdf_sst\u001b[0m\u001b[0;34m.\u001b[0m\u001b[0mlons\u001b[0m \u001b[0;34m==\u001b[0m \u001b[0mlon1_sst\u001b[0m\u001b[0;34m[\u001b[0m\u001b[0mj\u001b[0m\u001b[0;34m]\u001b[0m\u001b[0;34m)\u001b[0m\u001b[0;34m]\u001b[0m\u001b[0;34m.\u001b[0m\u001b[0mpc\u001b[0m\u001b[0;34m.\u001b[0m\u001b[0mvalues\u001b[0m\u001b[0;34m\u001b[0m\u001b[0;34m\u001b[0m\u001b[0m\n\u001b[1;32m     17\u001b[0m         \u001b[0;32melse\u001b[0m\u001b[0;34m:\u001b[0m\u001b[0;34m\u001b[0m\u001b[0;34m\u001b[0m\u001b[0m\n",
      "\u001b[0;32m~/anaconda3/lib/python3.6/site-packages/pandas/core/frame.py\u001b[0m in \u001b[0;36m__getitem__\u001b[0;34m(self, key)\u001b[0m\n\u001b[1;32m   2969\u001b[0m         \u001b[0;31m# Do we have a (boolean) 1d indexer?\u001b[0m\u001b[0;34m\u001b[0m\u001b[0;34m\u001b[0m\u001b[0;34m\u001b[0m\u001b[0m\n\u001b[1;32m   2970\u001b[0m         \u001b[0;32mif\u001b[0m \u001b[0mcom\u001b[0m\u001b[0;34m.\u001b[0m\u001b[0mis_bool_indexer\u001b[0m\u001b[0;34m(\u001b[0m\u001b[0mkey\u001b[0m\u001b[0;34m)\u001b[0m\u001b[0;34m:\u001b[0m\u001b[0;34m\u001b[0m\u001b[0;34m\u001b[0m\u001b[0m\n\u001b[0;32m-> 2971\u001b[0;31m             \u001b[0;32mreturn\u001b[0m \u001b[0mself\u001b[0m\u001b[0;34m.\u001b[0m\u001b[0m_getitem_bool_array\u001b[0m\u001b[0;34m(\u001b[0m\u001b[0mkey\u001b[0m\u001b[0;34m)\u001b[0m\u001b[0;34m\u001b[0m\u001b[0;34m\u001b[0m\u001b[0m\n\u001b[0m\u001b[1;32m   2972\u001b[0m \u001b[0;34m\u001b[0m\u001b[0m\n\u001b[1;32m   2973\u001b[0m         \u001b[0;31m# We are left with two options: a single key, and a collection of keys,\u001b[0m\u001b[0;34m\u001b[0m\u001b[0;34m\u001b[0m\u001b[0;34m\u001b[0m\u001b[0m\n",
      "\u001b[0;32m~/anaconda3/lib/python3.6/site-packages/pandas/core/frame.py\u001b[0m in \u001b[0;36m_getitem_bool_array\u001b[0;34m(self, key)\u001b[0m\n\u001b[1;32m   3023\u001b[0m         \u001b[0mkey\u001b[0m \u001b[0;34m=\u001b[0m \u001b[0mcheck_bool_indexer\u001b[0m\u001b[0;34m(\u001b[0m\u001b[0mself\u001b[0m\u001b[0;34m.\u001b[0m\u001b[0mindex\u001b[0m\u001b[0;34m,\u001b[0m \u001b[0mkey\u001b[0m\u001b[0;34m)\u001b[0m\u001b[0;34m\u001b[0m\u001b[0;34m\u001b[0m\u001b[0m\n\u001b[1;32m   3024\u001b[0m         \u001b[0mindexer\u001b[0m \u001b[0;34m=\u001b[0m \u001b[0mkey\u001b[0m\u001b[0;34m.\u001b[0m\u001b[0mnonzero\u001b[0m\u001b[0;34m(\u001b[0m\u001b[0;34m)\u001b[0m\u001b[0;34m[\u001b[0m\u001b[0;36m0\u001b[0m\u001b[0;34m]\u001b[0m\u001b[0;34m\u001b[0m\u001b[0;34m\u001b[0m\u001b[0m\n\u001b[0;32m-> 3025\u001b[0;31m         \u001b[0;32mreturn\u001b[0m \u001b[0mself\u001b[0m\u001b[0;34m.\u001b[0m\u001b[0mtake\u001b[0m\u001b[0;34m(\u001b[0m\u001b[0mindexer\u001b[0m\u001b[0;34m,\u001b[0m \u001b[0maxis\u001b[0m\u001b[0;34m=\u001b[0m\u001b[0;36m0\u001b[0m\u001b[0;34m)\u001b[0m\u001b[0;34m\u001b[0m\u001b[0;34m\u001b[0m\u001b[0m\n\u001b[0m\u001b[1;32m   3026\u001b[0m \u001b[0;34m\u001b[0m\u001b[0m\n\u001b[1;32m   3027\u001b[0m     \u001b[0;32mdef\u001b[0m \u001b[0m_getitem_multilevel\u001b[0m\u001b[0;34m(\u001b[0m\u001b[0mself\u001b[0m\u001b[0;34m,\u001b[0m \u001b[0mkey\u001b[0m\u001b[0;34m)\u001b[0m\u001b[0;34m:\u001b[0m\u001b[0;34m\u001b[0m\u001b[0;34m\u001b[0m\u001b[0m\n",
      "\u001b[0;32m~/anaconda3/lib/python3.6/site-packages/pandas/core/generic.py\u001b[0m in \u001b[0;36mtake\u001b[0;34m(self, indices, axis, is_copy, **kwargs)\u001b[0m\n\u001b[1;32m   3602\u001b[0m \u001b[0;34m\u001b[0m\u001b[0m\n\u001b[1;32m   3603\u001b[0m         new_data = self._data.take(\n\u001b[0;32m-> 3604\u001b[0;31m             \u001b[0mindices\u001b[0m\u001b[0;34m,\u001b[0m \u001b[0maxis\u001b[0m\u001b[0;34m=\u001b[0m\u001b[0mself\u001b[0m\u001b[0;34m.\u001b[0m\u001b[0m_get_block_manager_axis\u001b[0m\u001b[0;34m(\u001b[0m\u001b[0maxis\u001b[0m\u001b[0;34m)\u001b[0m\u001b[0;34m,\u001b[0m \u001b[0mverify\u001b[0m\u001b[0;34m=\u001b[0m\u001b[0;32mTrue\u001b[0m\u001b[0;34m\u001b[0m\u001b[0;34m\u001b[0m\u001b[0m\n\u001b[0m\u001b[1;32m   3605\u001b[0m         )\n\u001b[1;32m   3606\u001b[0m         \u001b[0mresult\u001b[0m \u001b[0;34m=\u001b[0m \u001b[0mself\u001b[0m\u001b[0;34m.\u001b[0m\u001b[0m_constructor\u001b[0m\u001b[0;34m(\u001b[0m\u001b[0mnew_data\u001b[0m\u001b[0;34m)\u001b[0m\u001b[0;34m.\u001b[0m\u001b[0m__finalize__\u001b[0m\u001b[0;34m(\u001b[0m\u001b[0mself\u001b[0m\u001b[0;34m)\u001b[0m\u001b[0;34m\u001b[0m\u001b[0;34m\u001b[0m\u001b[0m\n",
      "\u001b[0;32m~/anaconda3/lib/python3.6/site-packages/pandas/core/internals/managers.py\u001b[0m in \u001b[0;36mtake\u001b[0;34m(self, indexer, axis, verify, convert)\u001b[0m\n\u001b[1;32m   1395\u001b[0m         \u001b[0mnew_labels\u001b[0m \u001b[0;34m=\u001b[0m \u001b[0mself\u001b[0m\u001b[0;34m.\u001b[0m\u001b[0maxes\u001b[0m\u001b[0;34m[\u001b[0m\u001b[0maxis\u001b[0m\u001b[0;34m]\u001b[0m\u001b[0;34m.\u001b[0m\u001b[0mtake\u001b[0m\u001b[0;34m(\u001b[0m\u001b[0mindexer\u001b[0m\u001b[0;34m)\u001b[0m\u001b[0;34m\u001b[0m\u001b[0;34m\u001b[0m\u001b[0m\n\u001b[1;32m   1396\u001b[0m         return self.reindex_indexer(\n\u001b[0;32m-> 1397\u001b[0;31m             \u001b[0mnew_axis\u001b[0m\u001b[0;34m=\u001b[0m\u001b[0mnew_labels\u001b[0m\u001b[0;34m,\u001b[0m \u001b[0mindexer\u001b[0m\u001b[0;34m=\u001b[0m\u001b[0mindexer\u001b[0m\u001b[0;34m,\u001b[0m \u001b[0maxis\u001b[0m\u001b[0;34m=\u001b[0m\u001b[0maxis\u001b[0m\u001b[0;34m,\u001b[0m \u001b[0mallow_dups\u001b[0m\u001b[0;34m=\u001b[0m\u001b[0;32mTrue\u001b[0m\u001b[0;34m\u001b[0m\u001b[0;34m\u001b[0m\u001b[0m\n\u001b[0m\u001b[1;32m   1398\u001b[0m         )\n\u001b[1;32m   1399\u001b[0m \u001b[0;34m\u001b[0m\u001b[0m\n",
      "\u001b[0;32m~/anaconda3/lib/python3.6/site-packages/pandas/core/internals/managers.py\u001b[0m in \u001b[0;36mreindex_indexer\u001b[0;34m(self, new_axis, indexer, axis, fill_value, allow_dups, copy)\u001b[0m\n\u001b[1;32m   1265\u001b[0m                     ),\n\u001b[1;32m   1266\u001b[0m                 )\n\u001b[0;32m-> 1267\u001b[0;31m                 \u001b[0;32mfor\u001b[0m \u001b[0mblk\u001b[0m \u001b[0;32min\u001b[0m \u001b[0mself\u001b[0m\u001b[0;34m.\u001b[0m\u001b[0mblocks\u001b[0m\u001b[0;34m\u001b[0m\u001b[0;34m\u001b[0m\u001b[0m\n\u001b[0m\u001b[1;32m   1268\u001b[0m             ]\n\u001b[1;32m   1269\u001b[0m \u001b[0;34m\u001b[0m\u001b[0m\n",
      "\u001b[0;32m~/anaconda3/lib/python3.6/site-packages/pandas/core/internals/managers.py\u001b[0m in \u001b[0;36m<listcomp>\u001b[0;34m(.0)\u001b[0m\n\u001b[1;32m   1265\u001b[0m                     ),\n\u001b[1;32m   1266\u001b[0m                 )\n\u001b[0;32m-> 1267\u001b[0;31m                 \u001b[0;32mfor\u001b[0m \u001b[0mblk\u001b[0m \u001b[0;32min\u001b[0m \u001b[0mself\u001b[0m\u001b[0;34m.\u001b[0m\u001b[0mblocks\u001b[0m\u001b[0;34m\u001b[0m\u001b[0;34m\u001b[0m\u001b[0m\n\u001b[0m\u001b[1;32m   1268\u001b[0m             ]\n\u001b[1;32m   1269\u001b[0m \u001b[0;34m\u001b[0m\u001b[0m\n",
      "\u001b[0;32m~/anaconda3/lib/python3.6/site-packages/pandas/core/internals/blocks.py\u001b[0m in \u001b[0;36mtake_nd\u001b[0;34m(self, indexer, axis, new_mgr_locs, fill_tuple)\u001b[0m\n\u001b[1;32m   1312\u001b[0m \u001b[0;34m\u001b[0m\u001b[0m\n\u001b[1;32m   1313\u001b[0m         new_values = algos.take_nd(\n\u001b[0;32m-> 1314\u001b[0;31m             \u001b[0mvalues\u001b[0m\u001b[0;34m,\u001b[0m \u001b[0mindexer\u001b[0m\u001b[0;34m,\u001b[0m \u001b[0maxis\u001b[0m\u001b[0;34m=\u001b[0m\u001b[0maxis\u001b[0m\u001b[0;34m,\u001b[0m \u001b[0mallow_fill\u001b[0m\u001b[0;34m=\u001b[0m\u001b[0mallow_fill\u001b[0m\u001b[0;34m,\u001b[0m \u001b[0mfill_value\u001b[0m\u001b[0;34m=\u001b[0m\u001b[0mfill_value\u001b[0m\u001b[0;34m\u001b[0m\u001b[0;34m\u001b[0m\u001b[0m\n\u001b[0m\u001b[1;32m   1315\u001b[0m         )\n\u001b[1;32m   1316\u001b[0m \u001b[0;34m\u001b[0m\u001b[0m\n",
      "\u001b[0;32m~/anaconda3/lib/python3.6/site-packages/pandas/core/algorithms.py\u001b[0m in \u001b[0;36mtake_nd\u001b[0;34m(arr, indexer, axis, out, fill_value, mask_info, allow_fill)\u001b[0m\n\u001b[1;32m   1719\u001b[0m         \u001b[0marr\u001b[0m\u001b[0;34m.\u001b[0m\u001b[0mndim\u001b[0m\u001b[0;34m,\u001b[0m \u001b[0marr\u001b[0m\u001b[0;34m.\u001b[0m\u001b[0mdtype\u001b[0m\u001b[0;34m,\u001b[0m \u001b[0mout\u001b[0m\u001b[0;34m.\u001b[0m\u001b[0mdtype\u001b[0m\u001b[0;34m,\u001b[0m \u001b[0maxis\u001b[0m\u001b[0;34m=\u001b[0m\u001b[0maxis\u001b[0m\u001b[0;34m,\u001b[0m \u001b[0mmask_info\u001b[0m\u001b[0;34m=\u001b[0m\u001b[0mmask_info\u001b[0m\u001b[0;34m\u001b[0m\u001b[0;34m\u001b[0m\u001b[0m\n\u001b[1;32m   1720\u001b[0m     )\n\u001b[0;32m-> 1721\u001b[0;31m     \u001b[0mfunc\u001b[0m\u001b[0;34m(\u001b[0m\u001b[0marr\u001b[0m\u001b[0;34m,\u001b[0m \u001b[0mindexer\u001b[0m\u001b[0;34m,\u001b[0m \u001b[0mout\u001b[0m\u001b[0;34m,\u001b[0m \u001b[0mfill_value\u001b[0m\u001b[0;34m)\u001b[0m\u001b[0;34m\u001b[0m\u001b[0;34m\u001b[0m\u001b[0m\n\u001b[0m\u001b[1;32m   1722\u001b[0m \u001b[0;34m\u001b[0m\u001b[0m\n\u001b[1;32m   1723\u001b[0m     \u001b[0;32mif\u001b[0m \u001b[0mflip_order\u001b[0m\u001b[0;34m:\u001b[0m\u001b[0;34m\u001b[0m\u001b[0;34m\u001b[0m\u001b[0m\n",
      "\u001b[0;31mKeyboardInterrupt\u001b[0m: "
     ]
    },
    {
     "data": {
      "text/plain": [
       "<Figure size 2160x1080 with 0 Axes>"
      ]
     },
     "metadata": {},
     "output_type": "display_data"
    }
   ],
   "source": [
    "plt.figure(figsize=(30,15))\n",
    "# df_sst[\"pc\"] = Vr[:,pc-1]\n",
    "\n",
    "#lon1 = np.arange(-178.75,179.0,2.5)\n",
    "lon1_sst = np.arange(-179.25,179.75,0.5)\n",
    "#lat1 = np.arange(-40,40,2.5)\n",
    "\n",
    "deg = np.zeros((len(lat_sst),len(lon1_sst)))\n",
    "\n",
    "lat_number = deg.shape[0]\n",
    "lon_number = deg.shape[1]\n",
    "\n",
    "for i in range(lat_number):\n",
    "    for j in range(lon_number):\n",
    "        if not df_sst[(df_sst.lats == lat_sst[i]) & (df_sst.lons == lon1_sst[j])].pc.values.size == 0:\n",
    "            deg[i,j] = df_sst[(df_sst.lats == lat_sst[i]) & (df_sst.lons == lon1_sst[j])].pc.values\n",
    "        else:\n",
    "            deg[i,j]=np.nan\n",
    "ii\n",
    "\n",
    "\n",
    "lat_number = deg.shape[0]\n",
    "lon_number = deg.shape[1]\n",
    "\n",
    "map=Basemap(llcrnrlon=-180, llcrnrlat=-65,urcrnrlon=180,urcrnrlat=80)\n",
    "#m.drawmapboundary(fill_color='#A6CAE0', linewidth=0)\n",
    "map.fillcontinents(color='grey', alpha=0.5)\n",
    "#m.drawcoastlines(linewidth=0.1, color=\"white\")\n",
    "#map.drawparallels(np.arange(int(-39.75),int(39.75),3),labels=[1,0,0,0],linewidth=0.5)\n",
    "#map.drawmeridians(np.arange(int(-29.75),int(59.75),3),labels=[0,0,0,1],linewidth=0.5)\n",
    "map.drawcoastlines(linewidth=0.)\n",
    "\n",
    "\n",
    "xx, yy = meshgrid(lon1_sst, lat_sst)\n",
    "cs = map.pcolormesh(xx, yy, deg, cmap=plt.cm.Spectral_r)\n",
    "\n",
    "#map = Basemap(llcrnrlon=-180, llcrnrlat=-65,urcrnrlon=180,urcrnrlat=80)\n",
    "#map = Basemap(projection='ortho',lat_0=45,lon_0=-100,resolution='l')\n",
    "#map.fillcontinents(color='grey', alpha=0.5)\n",
    "#map.drawcoastlines(linewidth=0.)\n",
    "\n",
    "\n",
    "#xx, yy = meshgrid(lon1_sst, lat_sst)\n",
    "#cs = map.pcolormesh(xx, yy, deg, cmap=plt.cm.Spectral_r)"
   ]
  },
  {
   "cell_type": "markdown",
   "metadata": {},
   "source": [
    "# Data Finder:"
   ]
  },
  {
   "cell_type": "code",
   "execution_count": 5,
   "metadata": {},
   "outputs": [],
   "source": [
    "def data_finder(country_code, file_name = '../../../nc/precip.mon.total.v2018.nc', temporal_limits= {\"time_min\":datetime(1891, 1, 1, 0, 0),\"time_max\":datetime(2015, 12, 1, 0, 0) } ):\n",
    "    \n",
    "    d = Data(file_name,'precip',temporal_limits,missing_value=-9.96921e+36)\n",
    "\n",
    "    result = d.get_data()\n",
    "    lon_list = d.get_lon_list()\n",
    "    lat_list = d.get_lat_list()\n",
    "    \n",
    "    coordinates = list(zip(lat_list,lon_list))\n",
    "    dic = rg.search(coordinates)\n",
    "    country = []\n",
    "    for i in range(len(dic)):\n",
    "        country.append(dic[i].get('cc'))\n",
    "\n",
    "    ET_index = np.where(np.array(country)== country_code)[0]\n",
    "    ET_data = result[:,ET_index]\n",
    "    return(ET_data)"
   ]
  },
  {
   "cell_type": "code",
   "execution_count": 6,
   "metadata": {},
   "outputs": [
    {
     "name": "stdout",
     "output_type": "stream",
     "text": [
      "Loading formatted geocoded file...\n"
     ]
    }
   ],
   "source": [
    "d = data_finder(\"ZW\")"
   ]
  },
  {
   "cell_type": "code",
   "execution_count": 8,
   "metadata": {},
   "outputs": [
    {
     "data": {
      "text/plain": [
       "(1500, 145)"
      ]
     },
     "execution_count": 8,
     "metadata": {},
     "output_type": "execute_result"
    }
   ],
   "source": [
    "d.shape"
   ]
  },
  {
   "cell_type": "code",
   "execution_count": null,
   "metadata": {},
   "outputs": [],
   "source": []
  },
  {
   "cell_type": "code",
   "execution_count": null,
   "metadata": {},
   "outputs": [],
   "source": []
  },
  {
   "cell_type": "code",
   "execution_count": 4,
   "metadata": {},
   "outputs": [],
   "source": [
    "np.save(\"ZW_data_18912015.npy\",d)"
   ]
  },
  {
   "cell_type": "code",
   "execution_count": 11,
   "metadata": {},
   "outputs": [
    {
     "data": {
      "text/plain": [
       "(1500, 145)"
      ]
     },
     "execution_count": 11,
     "metadata": {},
     "output_type": "execute_result"
    }
   ],
   "source": [
    "d.shape"
   ]
  },
  {
   "cell_type": "code",
   "execution_count": null,
   "metadata": {},
   "outputs": [],
   "source": []
  },
  {
   "cell_type": "code",
   "execution_count": 9,
   "metadata": {},
   "outputs": [],
   "source": [
    "np.save(\"ZA_data_18912015.npy\",d)"
   ]
  },
  {
   "cell_type": "code",
   "execution_count": 10,
   "metadata": {},
   "outputs": [
    {
     "data": {
      "text/plain": [
       "(1500, 475)"
      ]
     },
     "execution_count": 10,
     "metadata": {},
     "output_type": "execute_result"
    }
   ],
   "source": [
    "d.shape"
   ]
  },
  {
   "cell_type": "code",
   "execution_count": 2,
   "metadata": {},
   "outputs": [],
   "source": [
    "data = np.load(\"ZA_data_18912015.npy\")"
   ]
  },
  {
   "cell_type": "code",
   "execution_count": 3,
   "metadata": {},
   "outputs": [
    {
     "data": {
      "text/plain": [
       "(1500, 475)"
      ]
     },
     "execution_count": 3,
     "metadata": {},
     "output_type": "execute_result"
    }
   ],
   "source": [
    "data.shape"
   ]
  },
  {
   "cell_type": "code",
   "execution_count": 3,
   "metadata": {},
   "outputs": [],
   "source": [
    "file_name = '../../../nc/precip.mon.total.v2018.nc'"
   ]
  },
  {
   "cell_type": "code",
   "execution_count": 5,
   "metadata": {},
   "outputs": [],
   "source": [
    "temporal_limits= {\"time_min\":datetime(1891, 1, 1, 0, 0),\"time_max\":datetime(2015, 12, 1, 0, 0) }"
   ]
  },
  {
   "cell_type": "code",
   "execution_count": null,
   "metadata": {},
   "outputs": [],
   "source": []
  },
  {
   "cell_type": "code",
   "execution_count": 6,
   "metadata": {},
   "outputs": [],
   "source": [
    "d = Data(file_name,'precip',temporal_limits,missing_value=-9.96921e+36)\n",
    "\n",
    "result = d.get_data()\n",
    "lon_list = d.get_lon_list()\n",
    "lat_list = d.get_lat_list()"
   ]
  },
  {
   "cell_type": "code",
   "execution_count": 12,
   "metadata": {},
   "outputs": [],
   "source": [
    "result = d.get_data()\n",
    "lon_list = d.get_lon_list()\n",
    "lat_list = d.get_lat_list()\n",
    "\n",
    "coordinates = list(zip(lat_list,lon_list))\n",
    "dic = rg.search(coordinates)\n",
    "country = []\n",
    "for i in range(len(dic)):\n",
    "    country.append(dic[i].get('cc'))\n",
    "\n",
    "ET_index = np.where(np.array(country)== 'ET')[0]"
   ]
  },
  {
   "cell_type": "code",
   "execution_count": 13,
   "metadata": {},
   "outputs": [
    {
     "data": {
      "text/plain": [
       "array([10532, 10714, 10715, 10716, 10717, 10718, 10891, 10892, 10893,\n",
       "       10894, 10895, 10896, 10897, 11072, 11073, 11074, 11075, 11076,\n",
       "       11077, 11078, 11079, 11248, 11249, 11250, 11251, 11252, 11253,\n",
       "       11254, 11255, 11256, 11257, 11423, 11424, 11425, 11426, 11427,\n",
       "       11428, 11429, 11430, 11431, 11432, 11433, 11434, 11435, 11436,\n",
       "       11599, 11600, 11601, 11602, 11603, 11604, 11605, 11606, 11607,\n",
       "       11608, 11609, 11610, 11611, 11612, 11613, 11766, 11767, 11768,\n",
       "       11769, 11770, 11771, 11772, 11773, 11774, 11775, 11776, 11777,\n",
       "       11778, 11779, 11780, 11781, 11782, 11928, 11929, 11930, 11931,\n",
       "       11932, 11933, 11934, 11935, 11936, 11937, 11938, 11939, 11940,\n",
       "       11941, 11942, 11943, 11944, 11945, 11946, 11947, 12090, 12091,\n",
       "       12092, 12093, 12094, 12095, 12096, 12097, 12098, 12099, 12100,\n",
       "       12101, 12102, 12103, 12104, 12105, 12106, 12107, 12108, 12109,\n",
       "       12110, 12249, 12250, 12251, 12252, 12253, 12254, 12255, 12256,\n",
       "       12257, 12258, 12259, 12260, 12261, 12262, 12263, 12264, 12265,\n",
       "       12266, 12267, 12268, 12269, 12270, 12410, 12411, 12412, 12413,\n",
       "       12414, 12415, 12416, 12417, 12418, 12419, 12420, 12421, 12422,\n",
       "       12423, 12424, 12425, 12426, 12427, 12428, 12429, 12430, 12431,\n",
       "       12432, 12569, 12570, 12571, 12572, 12573, 12574, 12575, 12576,\n",
       "       12577, 12578, 12579, 12580, 12581, 12582, 12583, 12584, 12585,\n",
       "       12586, 12587, 12588, 12589, 12729, 12730, 12731, 12732, 12733,\n",
       "       12734, 12735, 12736, 12737, 12738, 12739, 12740, 12741, 12742,\n",
       "       12743, 12744, 12745, 12746, 12747, 12748, 12891, 12892, 12893,\n",
       "       12894, 12895, 12896, 12897, 12898, 12899, 12900, 12901, 12902,\n",
       "       12903, 12904, 12905, 12906, 12907, 12908, 12909, 12910, 13052,\n",
       "       13053, 13054, 13055, 13056, 13057, 13058, 13059, 13060, 13061,\n",
       "       13062, 13063, 13064, 13065, 13066, 13067, 13068, 13069, 13070,\n",
       "       13071, 13204, 13205, 13206, 13207, 13208, 13209, 13210, 13211,\n",
       "       13212, 13213, 13214, 13215, 13216, 13217, 13218, 13352, 13353,\n",
       "       13354, 13355, 13356, 13357, 13358, 13359, 13360, 13361, 13362,\n",
       "       13363, 13364, 13365, 13366, 13490, 13492, 13493, 13494, 13495,\n",
       "       13496, 13497, 13498, 13499, 13500, 13501, 13629, 13630, 13631,\n",
       "       13632, 13633, 13634, 13635, 13636, 13637, 13767, 13768, 13769,\n",
       "       13770, 13771, 13772, 13773, 13904, 13905])"
      ]
     },
     "execution_count": 13,
     "metadata": {},
     "output_type": "execute_result"
    }
   ],
   "source": [
    "ET_index"
   ]
  },
  {
   "cell_type": "code",
   "execution_count": 20,
   "metadata": {},
   "outputs": [],
   "source": [
    "np.save(\"ET_lat_list.npy\",np.array(lat_list)[ET_index])"
   ]
  },
  {
   "cell_type": "code",
   "execution_count": 23,
   "metadata": {},
   "outputs": [
    {
     "data": {
      "text/plain": [
       "0.25"
      ]
     },
     "execution_count": 23,
     "metadata": {},
     "output_type": "execute_result"
    }
   ],
   "source": [
    "d.get_lon()[0]"
   ]
  },
  {
   "cell_type": "code",
   "execution_count": 24,
   "metadata": {},
   "outputs": [
    {
     "data": {
      "text/plain": [
       "359.75"
      ]
     },
     "execution_count": 24,
     "metadata": {},
     "output_type": "execute_result"
    }
   ],
   "source": [
    "d.get_lon()[-1]"
   ]
  },
  {
   "cell_type": "code",
   "execution_count": null,
   "metadata": {},
   "outputs": [],
   "source": []
  }
 ],
 "metadata": {
  "kernelspec": {
   "display_name": "Python 3",
   "language": "python",
   "name": "python3"
  },
  "language_info": {
   "codemirror_mode": {
    "name": "ipython",
    "version": 3
   },
   "file_extension": ".py",
   "mimetype": "text/x-python",
   "name": "python",
   "nbconvert_exporter": "python",
   "pygments_lexer": "ipython3",
   "version": "3.6.9"
  }
 },
 "nbformat": 4,
 "nbformat_minor": 2
}
