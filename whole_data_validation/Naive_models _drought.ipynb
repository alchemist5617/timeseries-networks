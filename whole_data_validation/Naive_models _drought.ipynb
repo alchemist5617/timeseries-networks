{
 "cells": [
  {
   "cell_type": "code",
   "execution_count": 1,
   "metadata": {},
   "outputs": [
    {
     "name": "stdout",
     "output_type": "stream",
     "text": [
      "Could not import rpy package\n",
      "Could not import r-package RCIT\n"
     ]
    }
   ],
   "source": [
    "import os\n",
    "import numpy as np\n",
    "import pandas as pd\n",
    "import matplotlib.pyplot as plt\n",
    "from statsmodels.tsa.api import ExponentialSmoothing, SimpleExpSmoothing, Holt\n",
    "import feature_finder_keiko as ff\n",
    "from datetime import datetime\n",
    "from sklearn.metrics import mean_squared_error"
   ]
  },
  {
   "cell_type": "code",
   "execution_count": 4,
   "metadata": {},
   "outputs": [],
   "source": [
    "step = 1\n",
    "train_start = np.arange(1948,1977,step)\n",
    "#train_end = np.arange(1955,2006,step)\n",
    "validation_end = np.arange(1982,2011,step)\n",
    "test_start = np.arange(1983,2012,step)\n",
    "test_end = np.arange(1987,2016,step)\n",
    "\n",
    "f = 12\n",
    "taus = np.arange(1,4,1)\n",
    "cc = 'ET'\n",
    "extremes_treshold = -1"
   ]
  },
  {
   "cell_type": "code",
   "execution_count": 9,
   "metadata": {},
   "outputs": [],
   "source": [
    "original_count, count = ff.drought_timeseries(\"./{}_gamma_18912015_{}.npy\".format(cc,f),train_start[ijz],validation_end[ijz],extremes_treshold = extremes_treshold)"
   ]
  },
  {
   "cell_type": "code",
   "execution_count": 13,
   "metadata": {},
   "outputs": [],
   "source": [
    "data = original_count"
   ]
  },
  {
   "cell_type": "code",
   "execution_count": 20,
   "metadata": {},
   "outputs": [],
   "source": [
    "fit3 = SimpleExpSmoothing(data).fit()"
   ]
  },
  {
   "cell_type": "code",
   "execution_count": 21,
   "metadata": {},
   "outputs": [],
   "source": [
    "fcast3 = fit3.forecast(60)"
   ]
  },
  {
   "cell_type": "code",
   "execution_count": 22,
   "metadata": {},
   "outputs": [
    {
     "data": {
      "text/plain": [
       "array([24.17986202, 24.17986202, 24.17986202, 24.17986202, 24.17986202,\n",
       "       24.17986202, 24.17986202, 24.17986202, 24.17986202, 24.17986202,\n",
       "       24.17986202, 24.17986202, 24.17986202, 24.17986202, 24.17986202,\n",
       "       24.17986202, 24.17986202, 24.17986202, 24.17986202, 24.17986202,\n",
       "       24.17986202, 24.17986202, 24.17986202, 24.17986202, 24.17986202,\n",
       "       24.17986202, 24.17986202, 24.17986202, 24.17986202, 24.17986202,\n",
       "       24.17986202, 24.17986202, 24.17986202, 24.17986202, 24.17986202,\n",
       "       24.17986202, 24.17986202, 24.17986202, 24.17986202, 24.17986202,\n",
       "       24.17986202, 24.17986202, 24.17986202, 24.17986202, 24.17986202,\n",
       "       24.17986202, 24.17986202, 24.17986202, 24.17986202, 24.17986202,\n",
       "       24.17986202, 24.17986202, 24.17986202, 24.17986202, 24.17986202,\n",
       "       24.17986202, 24.17986202, 24.17986202, 24.17986202, 24.17986202])"
      ]
     },
     "execution_count": 22,
     "metadata": {},
     "output_type": "execute_result"
    }
   ],
   "source": [
    "fcast3"
   ]
  },
  {
   "cell_type": "code",
   "execution_count": 36,
   "metadata": {},
   "outputs": [],
   "source": [
    "fit3 = Holt(data).fit()"
   ]
  },
  {
   "cell_type": "code",
   "execution_count": 37,
   "metadata": {},
   "outputs": [
    {
     "data": {
      "text/html": [
       "<table class=\"simpletable\">\n",
       "<caption>Holt Model Results</caption>\n",
       "<tr>\n",
       "  <th>Dep. Variable:</th>      <td>endog</td>  <th>  No. Observations:  </th>        <td>420</td>      \n",
       "</tr>\n",
       "<tr>\n",
       "  <th>Model:</th>              <td>Holt</td>   <th>  SSE                </th>     <td>44816.651</td>   \n",
       "</tr>\n",
       "<tr>\n",
       "  <th>Optimized:</th>          <td>True</td>   <th>  AIC                </th>     <td>1969.434</td>    \n",
       "</tr>\n",
       "<tr>\n",
       "  <th>Trend:</th>            <td>Additive</td> <th>  BIC                </th>     <td>1985.595</td>    \n",
       "</tr>\n",
       "<tr>\n",
       "  <th>Seasonal:</th>           <td>None</td>   <th>  AICC               </th>     <td>1969.637</td>    \n",
       "</tr>\n",
       "<tr>\n",
       "  <th>Seasonal Periods:</th>   <td>None</td>   <th>  Date:              </th> <td>Thu, 30 Sep 2021</td>\n",
       "</tr>\n",
       "<tr>\n",
       "  <th>Box-Cox:</th>            <td>False</td>  <th>  Time:              </th>     <td>10:05:59</td>    \n",
       "</tr>\n",
       "<tr>\n",
       "  <th>Box-Cox Coeff.:</th>     <td>None</td>   <th>                     </th>         <td> </td>       \n",
       "</tr>\n",
       "</table>\n",
       "<table class=\"simpletable\">\n",
       "<tr>\n",
       "         <td></td>                 <th>coeff</th>                <th>code</th>               <th>optimized</th>     \n",
       "</tr>\n",
       "<tr>\n",
       "  <th>smoothing_level</th> <td>           0.9229411</td> <td>               alpha</td> <td>                True</td>\n",
       "</tr>\n",
       "<tr>\n",
       "  <th>smoothing_slope</th> <td>            0.000000</td> <td>                beta</td> <td>                True</td>\n",
       "</tr>\n",
       "<tr>\n",
       "  <th>initial_level</th>   <td>           4.9368208</td> <td>                 l.0</td> <td>                True</td>\n",
       "</tr>\n",
       "<tr>\n",
       "  <th>initial_slope</th>   <td>           0.0458283</td> <td>                 b.0</td> <td>                True</td>\n",
       "</tr>\n",
       "</table>"
      ],
      "text/plain": [
       "<class 'statsmodels.iolib.summary.Summary'>\n",
       "\"\"\"\n",
       "                              Holt Model Results                              \n",
       "==============================================================================\n",
       "Dep. Variable:                  endog   No. Observations:                  420\n",
       "Model:                           Holt   SSE                          44816.651\n",
       "Optimized:                       True   AIC                           1969.434\n",
       "Trend:                       Additive   BIC                           1985.595\n",
       "Seasonal:                        None   AICC                          1969.637\n",
       "Seasonal Periods:                None   Date:                 Thu, 30 Sep 2021\n",
       "Box-Cox:                        False   Time:                         10:05:59\n",
       "Box-Cox Coeff.:                  None                                         \n",
       "==============================================================================\n",
       "                       coeff                 code              optimized      \n",
       "------------------------------------------------------------------------------\n",
       "smoothing_level            0.9229411                alpha                 True\n",
       "smoothing_slope             0.000000                 beta                 True\n",
       "initial_level              4.9368208                  l.0                 True\n",
       "initial_slope              0.0458283                  b.0                 True\n",
       "------------------------------------------------------------------------------\n",
       "\"\"\""
      ]
     },
     "execution_count": 37,
     "metadata": {},
     "output_type": "execute_result"
    }
   ],
   "source": [
    "fit3.summary()"
   ]
  },
  {
   "cell_type": "code",
   "execution_count": 31,
   "metadata": {},
   "outputs": [],
   "source": [
    "pred = fit3.forecast(60)"
   ]
  },
  {
   "cell_type": "code",
   "execution_count": 32,
   "metadata": {},
   "outputs": [
    {
     "data": {
      "text/plain": [
       "[<matplotlib.lines.Line2D at 0x7f3098e29668>]"
      ]
     },
     "execution_count": 32,
     "metadata": {},
     "output_type": "execute_result"
    },
    {
     "data": {
      "image/png": "[encoded data removed]",
      "text/plain": [
       "<Figure size 432x288 with 1 Axes>"
      ]
     },
     "metadata": {},
     "output_type": "display_data"
    }
   ],
   "source": [
    "plt.plot(pred)"
   ]
  },
  {
   "cell_type": "code",
   "execution_count": 29,
   "metadata": {},
   "outputs": [
    {
     "data": {
      "text/plain": [
       "[<matplotlib.lines.Line2D at 0x7f3098ebeeb8>]"
      ]
     },
     "execution_count": 29,
     "metadata": {},
     "output_type": "execute_result"
    },
    {
     "data": {
      "image/png": "[encoded data removed]",
      "text/plain": [
       "<Figure size 432x288 with 1 Axes>"
      ]
     },
     "metadata": {},
     "output_type": "display_data"
    }
   ],
   "source": [
    "plt.plot(data)"
   ]
  },
  {
   "cell_type": "code",
   "execution_count": null,
   "metadata": {},
   "outputs": [],
   "source": []
  },
  {
   "cell_type": "code",
   "execution_count": null,
   "metadata": {},
   "outputs": [],
   "source": []
  },
  {
   "cell_type": "code",
   "execution_count": null,
   "metadata": {},
   "outputs": [],
   "source": []
  },
  {
   "cell_type": "code",
   "execution_count": 83,
   "metadata": {},
   "outputs": [
    {
     "data": {
      "text/plain": [
       "array([  5,   5,   3,   2,   5,   2,   1,   0,   3,   5,   6,   6,   6,\n",
       "         6,  11,  16,  48,  28,  27,  20,   8,  10,  22,  20,   7,   6,\n",
       "         7,   6,   4,  16,  14,   8,   1,   1,   4,   5,   5,   5,   4,\n",
       "         1,   1,   2,   1,  16,  43,  57,  26,  16,  15,  13,  12,  44,\n",
       "        15,  28,  11,   4,   0,   0,   9,  25,  32,  31,  23,  36,  47,\n",
       "        26,  11,   1,   2,  10,  30,  26,  21,  20,  28,  22,  53,  53,\n",
       "        39,  31,  22,  16,  26,  18,  17,  16,  16,  22,   4,  44,  45,\n",
       "        44,  63,  66,  47,  63,  58,  63,  60,  57,  38,  38,  17,   9,\n",
       "         7,   7,  18,  25,  27,  28,  26,  17,  17,   2,   1,   7,   2,\n",
       "         4,  12,   3,   2,   2,   2,  24,  18,  35,  15,   9,  27,  23,\n",
       "        24,  35,  52,  51,  48,  42,  59,  56,  73,  72,  69,  68,  48,\n",
       "        42,  43,  47,  45,   3,   2,   0,   0,   0,   0,   8,  11,  11,\n",
       "        11,  11,   8,   9,  15,  15,  11,   2,   0,   6,  19,   0,   3,\n",
       "         5,   6,   6,   9,   8,  14,  21,  20,  21,  19,  25,  25,  27,\n",
       "        22,  30,  22,  19,  21,  22,  20,  27,  27,  21,  21,  21,  22,\n",
       "        22,  26,  26,  16,   8,   3,   0,  11,  20,  12,  12,  12,  12,\n",
       "        11,  19,  20,  32,  44,  63,  32,  21,  26,  28,  21,  16,  16,\n",
       "         8,   8,   6,  18,   8,  13,  26,  26,  26,  30,  26,  27,  17,\n",
       "         3,   5,   9,   9,   9,   7,   7,   7,   7,  11,  12,  11,   2,\n",
       "         0,   0,   3,   6,  17,  11,  11,  11,   0,   5,  10,  12,  16,\n",
       "        16,  14,  16,  14,  23,  16,  25,  24,  32,  31,  36,  20,  19,\n",
       "        14,   9,   9,   7,  10,  11,  47,  39,  22,  24,  31,  45,  66,\n",
       "        71,  45,  38,  37,  29,  28,  13,  31,  17,  24,  37,  40,  46,\n",
       "        39,  38,  40,  49,  73, 114,  94, 116,  93,  70,  46,  62,  71,\n",
       "        70,  71,  70,  20,  27,  31,  30,  23,  21,  17,  47,  50,  37,\n",
       "        33,  33,  52,  33,  50,  43,  43,  40,  39,  28,  17,  16,  18,\n",
       "        21,   9,   4,   2,   3,   2,   4,  10,  10,   7,   7,   5,   4,\n",
       "         4,   8,   6,  12,   5,   4,   6,   5,  10,   9,   9,   8,   7,\n",
       "         1,   2,   4,   4,   1,   1,   6,  16,  14,   8,  18,  19,   6,\n",
       "         0,   3,   6,   3,   5,  17,  15,  13,  21,  30,  41,  27,  28,\n",
       "        39,  50,  57,  47,  48,  39,  53,  52,  52,   4,  12,  14,  18,\n",
       "        15,   9,   3,   3,   8,   9,   5,   3,   3,   3,   3,   3,  19,\n",
       "        23,  31,  26,  24,  24,  24,  29,  37,  31,  23,  21,  11,  10,\n",
       "        10,   8,  13,  14,  16,  17,  24,  51,  43,  36,  40,  89,  88,\n",
       "       111, 104,  90,  87,  84,  66,  31,  32,  40,  10,   3,   7,  10,\n",
       "        13,  16,  16,  15,  15,  27,  36,  30,  37,  45,  39,  25,  27,\n",
       "        29,  28,  30,  20,  23,   1,   9,   5,   2,  10,   4,   4])"
      ]
     },
     "execution_count": 83,
     "metadata": {},
     "output_type": "execute_result"
    }
   ],
   "source": [
    "np.load(\"./drought/data_1948_1987.npy\")"
   ]
  },
  {
   "cell_type": "code",
   "execution_count": 14,
   "metadata": {},
   "outputs": [],
   "source": [
    "class_list = np.load(\"ZW_class_list.npy\")"
   ]
  },
  {
   "cell_type": "code",
   "execution_count": 15,
   "metadata": {},
   "outputs": [
    {
     "data": {
      "text/plain": [
       "136"
      ]
     },
     "execution_count": 15,
     "metadata": {},
     "output_type": "execute_result"
    }
   ],
   "source": [
    "len(class_list)"
   ]
  },
  {
   "cell_type": "code",
   "execution_count": 102,
   "metadata": {},
   "outputs": [],
   "source": [
    "class_list = np.load(\"ET_class_list.npy\")\n",
    "class_name = \"Aw\"\n",
    "index = (np.array(class_list) == class_name)\n",
    "\n",
    "for ijz in range(len(train_start)):\n",
    "    temporal_limits = {\"time_min\":datetime(train_start[ijz], 1, 1, 0, 0),\"time_max\":datetime(test_end[ijz], 12, 1, 0, 0)}\n",
    "    original_count, count = ff.drought_timeseries_class(\"./{}_gamma_18912015_{}.npy\".format(cc,f),index,train_start[ijz],test_end[ijz],extremes_treshold = extremes_treshold)\n",
    "    np.save(\"./drought/{}/data_{}_{}.npy\".format(class_name, train_start[ijz],test_end[ijz]),original_count)"
   ]
  },
  {
   "cell_type": "code",
   "execution_count": null,
   "metadata": {},
   "outputs": [],
   "source": []
  },
  {
   "cell_type": "code",
   "execution_count": 76,
   "metadata": {},
   "outputs": [],
   "source": [
    "temporal_limits = {\"time_min\":datetime(train_start[0], 1, 1, 0, 0),\"time_max\":datetime(test_end[-1], 12, 1, 0, 0)}\n",
    "original_count, count = ff.drought_timeseries(\"./{}_gamma_18912015_{}.npy\".format(cc,f),train_start[0],test_end[-1],extremes_treshold = extremes_treshold)\n",
    "np.save(\"./drought/data_{}_{}.npy\".format(train_start[0],test_end[-1]),original_count)"
   ]
  },
  {
   "cell_type": "code",
   "execution_count": 7,
   "metadata": {},
   "outputs": [],
   "source": [
    "for ijz in range(len(train_start)):\n",
    "    temporal_limits = {\"time_min\":datetime(train_start[ijz], 1, 1, 0, 0),\"time_max\":datetime(test_end[ijz], 12, 1, 0, 0)}\n",
    "    original_count, count = ff.drought_timeseries(\"./{}_gamma_18912015_{}.npy\".format(cc,f),train_start[ijz],test_end[ijz],extremes_treshold = extremes_treshold)\n",
    "    np.save(\"./drought/{}/data_{}_{}.npy\".format(cc,train_start[ijz],test_end[ijz]),original_count)"
   ]
  },
  {
   "cell_type": "code",
   "execution_count": 9,
   "metadata": {},
   "outputs": [],
   "source": [
    "taus = np.arange(1,13)"
   ]
  },
  {
   "cell_type": "code",
   "execution_count": 10,
   "metadata": {},
   "outputs": [],
   "source": [
    "result = np.zeros((12,29))\n",
    "for ijz in range(len(train_start)):\n",
    "    temporal_limits = {\"time_min\":datetime(train_start[ijz], 1, 1, 0, 0),\"time_max\":datetime(test_end[ijz], 12, 1, 0, 0)}\n",
    "    original_count, count = ff.drought_timeseries(\"./{}_gamma_18912015_{}.npy\".format(cc,f),train_start[ijz],test_end[ijz],extremes_treshold = extremes_treshold)\n",
    "\n",
    "    test = original_count[420:]\n",
    "    mse = []\n",
    "    for tau in taus:\n",
    "        pred = []\n",
    "        end = 60 - tau\n",
    "        for j in range(11,end):\n",
    "            pred.append(np.mean(test[j-11:j+1]))\n",
    "        mse.append(mean_squared_error(pred, test[11+tau:60]))\n",
    "    result[:,ijz] = mse        "
   ]
  },
  {
   "cell_type": "code",
   "execution_count": 12,
   "metadata": {},
   "outputs": [],
   "source": [
    "np.save(\"{}_naive_mean.npy\".format(cc),result)"
   ]
  },
  {
   "cell_type": "code",
   "execution_count": null,
   "metadata": {},
   "outputs": [],
   "source": []
  },
  {
   "cell_type": "code",
   "execution_count": null,
   "metadata": {},
   "outputs": [],
   "source": []
  },
  {
   "cell_type": "code",
   "execution_count": 13,
   "metadata": {},
   "outputs": [],
   "source": [
    "class_list = np.load(\"ET_class_list.npy\")\n",
    "class_name = \"Cwb\"\n",
    "index = (np.array(class_list) == class_name)\n",
    "\n",
    "\n",
    "step = 1\n",
    "train_start = np.arange(1948,1977,step)\n",
    "#train_end = np.arange(1955,2006,step)\n",
    "validation_end = np.arange(1982,2011,step)\n",
    "test_start = np.arange(1983,2012,step)\n",
    "test_end = np.arange(1987,2016,step)\n",
    "taus = np.arange(1,13)\n",
    "\n",
    "result = np.zeros((12,29))\n",
    "for ijz in range(len(train_start)):\n",
    "    temporal_limits = {\"time_min\":datetime(train_start[ijz], 1, 1, 0, 0),\"time_max\":datetime(test_end[ijz], 12, 1, 0, 0)}\n",
    "    original_count, count = ff.drought_timeseries_class(\"./{}_gamma_18912015_{}.npy\".format(cc,f),index,train_start[ijz],test_end[ijz],extremes_treshold = extremes_treshold)\n",
    "\n",
    "    test = original_count[420:]\n",
    "    mse = []\n",
    "    for tau in taus:\n",
    "        pred = []\n",
    "        end = 60 - tau\n",
    "        for j in range(11,end):\n",
    "            pred.append(np.mean(test[j-11:j+1]))\n",
    "        mse.append(mean_squared_error(pred, test[11+tau:60]))\n",
    "    result[:,ijz] = mse        "
   ]
  },
  {
   "cell_type": "code",
   "execution_count": 14,
   "metadata": {},
   "outputs": [],
   "source": [
    "np.save(\"./drought/{}/naive.npy\".format(class_name),result)"
   ]
  },
  {
   "cell_type": "code",
   "execution_count": null,
   "metadata": {},
   "outputs": [],
   "source": []
  },
  {
   "cell_type": "code",
   "execution_count": 7,
   "metadata": {},
   "outputs": [
    {
     "data": {
      "text/plain": [
       "[276.44820601851853, 332.78871158392434, 383.4470108695652]"
      ]
     },
     "execution_count": 7,
     "metadata": {},
     "output_type": "execute_result"
    }
   ],
   "source": [
    "mse"
   ]
  },
  {
   "cell_type": "code",
   "execution_count": null,
   "metadata": {},
   "outputs": [],
   "source": []
  },
  {
   "cell_type": "code",
   "execution_count": null,
   "metadata": {},
   "outputs": [],
   "source": []
  },
  {
   "cell_type": "code",
   "execution_count": 34,
   "metadata": {},
   "outputs": [
    {
     "name": "stdout",
     "output_type": "stream",
     "text": [
      "48\n",
      "47\n",
      "46\n",
      "45\n",
      "44\n",
      "43\n",
      "42\n",
      "41\n",
      "40\n",
      "39\n",
      "38\n",
      "37\n"
     ]
    }
   ],
   "source": [
    "    temporal_limits = {\"time_min\":datetime(train_start[ijz], 1, 1, 0, 0),\"time_max\":datetime(test_end[ijz], 12, 1, 0, 0)}\n",
    "    original_count, count = ff.drought_timeseries(\"./{}_gamma_18912015_{}.npy\".format(cc,f),train_start[ijz],test_end[ijz],extremes_treshold = extremes_treshold)\n",
    "\n",
    "    test = original_count[420:]\n",
    "    mse = []\n",
    "    for tau in taus:\n",
    "        pred = []\n",
    "        end = 60 - tau\n",
    "        for j in range(11,end):\n",
    "            pred.append(np.mean(test[j-11:j+1]))\n",
    "        mse.append(mean_squared_error(pred, test[11+tau:60]))"
   ]
  },
  {
   "cell_type": "code",
   "execution_count": 37,
   "metadata": {},
   "outputs": [
    {
     "data": {
      "text/plain": [
       "12"
      ]
     },
     "execution_count": 37,
     "metadata": {},
     "output_type": "execute_result"
    }
   ],
   "source": [
    "len(mse)"
   ]
  },
  {
   "cell_type": "code",
   "execution_count": null,
   "metadata": {},
   "outputs": [],
   "source": [
    "mse<-c()\n",
    "for(i in c(1:12)){\n",
    "end <- length(test)-(i-1)-1\n",
    "pred<-c()\n",
    "for(j in c(12:end)){\n",
    "  pred<-c(pred,forecast(ets(test[j], model=fit, use.initial = TRUE),h=h)$mean[i])\n",
    "}\n",
    "\n",
    "start_idx <- i+12\n",
    "end_idx <- length(test)\n",
    "\n",
    "mse<-c(mse,sum(test[start_idx:end_idx] - pred)^2)\n",
    "}\n",
    "result[,k]<- mse\n",
    "}\n",
    "npySave(\"Naive.npy\", result)"
   ]
  },
  {
   "cell_type": "code",
   "execution_count": 13,
   "metadata": {},
   "outputs": [],
   "source": [
    "tau = 1"
   ]
  },
  {
   "cell_type": "code",
   "execution_count": 14,
   "metadata": {},
   "outputs": [
    {
     "name": "stdout",
     "output_type": "stream",
     "text": [
      "11\n",
      "12\n",
      "13\n",
      "14\n",
      "15\n",
      "16\n",
      "17\n",
      "18\n",
      "19\n",
      "20\n",
      "21\n",
      "22\n",
      "23\n",
      "24\n",
      "25\n",
      "26\n",
      "27\n",
      "28\n",
      "29\n",
      "30\n",
      "31\n",
      "32\n",
      "33\n",
      "34\n",
      "35\n",
      "36\n",
      "37\n",
      "38\n",
      "39\n",
      "40\n",
      "41\n",
      "42\n",
      "43\n",
      "44\n",
      "45\n",
      "46\n",
      "47\n",
      "48\n",
      "49\n",
      "50\n",
      "51\n",
      "52\n",
      "53\n",
      "54\n",
      "55\n",
      "56\n",
      "57\n",
      "58\n"
     ]
    }
   ],
   "source": [
    "for j in range(11,(60 - tau)):\n",
    "    print(j)"
   ]
  },
  {
   "cell_type": "code",
   "execution_count": 17,
   "metadata": {},
   "outputs": [
    {
     "data": {
      "text/plain": [
       "48"
      ]
     },
     "execution_count": 17,
     "metadata": {},
     "output_type": "execute_result"
    }
   ],
   "source": [
    "58 - 10"
   ]
  },
  {
   "cell_type": "code",
   "execution_count": null,
   "metadata": {},
   "outputs": [],
   "source": []
  },
  {
   "cell_type": "code",
   "execution_count": null,
   "metadata": {},
   "outputs": [],
   "source": []
  },
  {
   "cell_type": "code",
   "execution_count": null,
   "metadata": {},
   "outputs": [],
   "source": []
  }
 ],
 "metadata": {
  "kernelspec": {
   "display_name": "Python 3",
   "language": "python",
   "name": "python3"
  },
  "language_info": {
   "codemirror_mode": {
    "name": "ipython",
    "version": 3
   },
   "file_extension": ".py",
   "mimetype": "text/x-python",
   "name": "python",
   "nbconvert_exporter": "python",
   "pygments_lexer": "ipython3",
   "version": "3.6.9"
  }
 },
 "nbformat": 4,
 "nbformat_minor": 2
}
