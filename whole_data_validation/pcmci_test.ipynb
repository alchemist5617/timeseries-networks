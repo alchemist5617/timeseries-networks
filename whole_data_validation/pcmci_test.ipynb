{
 "cells": [
  {
   "cell_type": "code",
   "execution_count": 3,
   "metadata": {},
   "outputs": [],
   "source": [
    "import numpy as np\n",
    "import feature_finder_keiko as ff\n",
    "from datetime import datetime\n",
    "from sklearn.metrics import mean_squared_error\n",
    "import scipy.stats as st"
   ]
  },
  {
   "cell_type": "code",
   "execution_count": 4,
   "metadata": {},
   "outputs": [],
   "source": [
    "step = 1\n",
    "train_start = np.arange(1948,1977,step)\n",
    "#train_end = np.arange(1955,2006,step)\n",
    "validation_end = np.arange(1982,2011,step)\n",
    "test_start = np.arange(1983,2012,step)\n",
    "test_end = np.arange(1987,2016,step)\n",
    "\n",
    "n_components_sst = np.load(\"sst_number.npy\")\n",
    "f = 12\n",
    "taus = np.arange(1,2,1)\n",
    "cc = 'ET'\n",
    "\n",
    "class_list = np.load(\"../npy_files/ET_class_list.npy\")\n",
    "class_name = \"Aw\"\n",
    "index = (np.array(class_list) == class_name)"
   ]
  },
  {
   "cell_type": "code",
   "execution_count": 5,
   "metadata": {},
   "outputs": [
    {
     "ename": "KeyboardInterrupt",
     "evalue": "",
     "output_type": "error",
     "traceback": [
      "\u001b[0;31m---------------------------------------------------------------------------\u001b[0m",
      "\u001b[0;31mKeyboardInterrupt\u001b[0m                         Traceback (most recent call last)",
      "\u001b[0;32m<ipython-input-5-99017f93ee19>\u001b[0m in \u001b[0;36m<module>\u001b[0;34m()\u001b[0m\n\u001b[1;32m      7\u001b[0m         \u001b[0mtemporal_limits\u001b[0m \u001b[0;34m=\u001b[0m \u001b[0;34m{\u001b[0m\u001b[0;34m\"time_min\"\u001b[0m\u001b[0;34m:\u001b[0m\u001b[0mdatetime\u001b[0m\u001b[0;34m(\u001b[0m\u001b[0mtrain_start\u001b[0m\u001b[0;34m[\u001b[0m\u001b[0mijz\u001b[0m\u001b[0;34m]\u001b[0m\u001b[0;34m,\u001b[0m \u001b[0;36m1\u001b[0m\u001b[0;34m,\u001b[0m \u001b[0;36m1\u001b[0m\u001b[0;34m,\u001b[0m \u001b[0;36m0\u001b[0m\u001b[0;34m,\u001b[0m \u001b[0;36m0\u001b[0m\u001b[0;34m)\u001b[0m\u001b[0;34m,\u001b[0m\u001b[0;34m\"time_max\"\u001b[0m\u001b[0;34m:\u001b[0m\u001b[0mdatetime\u001b[0m\u001b[0;34m(\u001b[0m\u001b[0mvalidation_end\u001b[0m\u001b[0;34m[\u001b[0m\u001b[0mijz\u001b[0m\u001b[0;34m]\u001b[0m\u001b[0;34m,\u001b[0m \u001b[0;36m12\u001b[0m\u001b[0;34m,\u001b[0m \u001b[0;36m1\u001b[0m\u001b[0;34m,\u001b[0m \u001b[0;36m0\u001b[0m\u001b[0;34m,\u001b[0m \u001b[0;36m0\u001b[0m\u001b[0;34m)\u001b[0m\u001b[0;34m}\u001b[0m\u001b[0;34m\u001b[0m\u001b[0;34m\u001b[0m\u001b[0m\n\u001b[1;32m      8\u001b[0m         \u001b[0moriginal_count\u001b[0m\u001b[0;34m,\u001b[0m \u001b[0mcount\u001b[0m \u001b[0;34m=\u001b[0m \u001b[0mff\u001b[0m\u001b[0;34m.\u001b[0m\u001b[0mdrought_timeseries_class\u001b[0m\u001b[0;34m(\u001b[0m\u001b[0;34m\"../npy_files/{}_gamma_18912015.npy\"\u001b[0m\u001b[0;34m.\u001b[0m\u001b[0mformat\u001b[0m\u001b[0;34m(\u001b[0m\u001b[0mcc\u001b[0m\u001b[0;34m)\u001b[0m\u001b[0;34m,\u001b[0m\u001b[0mindex\u001b[0m\u001b[0;34m,\u001b[0m\u001b[0mtrain_start\u001b[0m\u001b[0;34m[\u001b[0m\u001b[0mijz\u001b[0m\u001b[0;34m]\u001b[0m\u001b[0;34m,\u001b[0m\u001b[0mvalidation_end\u001b[0m\u001b[0;34m[\u001b[0m\u001b[0mijz\u001b[0m\u001b[0;34m]\u001b[0m\u001b[0;34m)\u001b[0m\u001b[0;34m\u001b[0m\u001b[0;34m\u001b[0m\u001b[0m\n\u001b[0;32m----> 9\u001b[0;31m         \u001b[0mdata_sst\u001b[0m\u001b[0;34m,\u001b[0m \u001b[0mts\u001b[0m\u001b[0;34m,\u001b[0m \u001b[0mV\u001b[0m\u001b[0;34m,\u001b[0m \u001b[0mdf_sst\u001b[0m\u001b[0;34m,\u001b[0m \u001b[0mavg\u001b[0m\u001b[0;34m,\u001b[0m \u001b[0mstd\u001b[0m \u001b[0;34m=\u001b[0m \u001b[0mff\u001b[0m\u001b[0;34m.\u001b[0m\u001b[0mPCA_computer_rotated\u001b[0m\u001b[0;34m(\u001b[0m\u001b[0;34m'../../../nc/sst.mnmean.nc'\u001b[0m\u001b[0;34m,\u001b[0m \u001b[0;34m\"sst\"\u001b[0m\u001b[0;34m,\u001b[0m\u001b[0mtemporal_limits\u001b[0m\u001b[0;34m,\u001b[0m \u001b[0mn_components_sst\u001b[0m\u001b[0;34m[\u001b[0m\u001b[0mijz\u001b[0m\u001b[0;34m]\u001b[0m\u001b[0;34m,\u001b[0m \u001b[0;34m-\u001b[0m\u001b[0;36m9.96921e+36\u001b[0m\u001b[0;34m)\u001b[0m\u001b[0;34m\u001b[0m\u001b[0;34m\u001b[0m\u001b[0m\n\u001b[0m\u001b[1;32m     10\u001b[0m         \u001b[0mlink\u001b[0m \u001b[0;34m=\u001b[0m \u001b[0mnp\u001b[0m\u001b[0;34m.\u001b[0m\u001b[0mload\u001b[0m\u001b[0;34m(\u001b[0m\u001b[0;34m\"../../whole_data_results/ET_orac/link_{}/pcmci_{}_{}_{}_{}_{}.npy\"\u001b[0m\u001b[0;34m.\u001b[0m\u001b[0mformat\u001b[0m\u001b[0;34m(\u001b[0m\u001b[0mclass_name\u001b[0m\u001b[0;34m,\u001b[0m\u001b[0mf\u001b[0m\u001b[0;34m,\u001b[0m\u001b[0mtrain_start\u001b[0m\u001b[0;34m[\u001b[0m\u001b[0mijz\u001b[0m\u001b[0;34m]\u001b[0m\u001b[0;34m,\u001b[0m\u001b[0mvalidation_end\u001b[0m\u001b[0;34m[\u001b[0m\u001b[0mijz\u001b[0m\u001b[0;34m]\u001b[0m\u001b[0;34m,\u001b[0m\u001b[0mtau\u001b[0m\u001b[0;34m,\u001b[0m\u001b[0mn_components_sst\u001b[0m\u001b[0;34m[\u001b[0m\u001b[0mijz\u001b[0m\u001b[0;34m]\u001b[0m\u001b[0;34m)\u001b[0m\u001b[0;34m)\u001b[0m\u001b[0;34m\u001b[0m\u001b[0;34m\u001b[0m\u001b[0m\n\u001b[1;32m     11\u001b[0m \u001b[0;34m\u001b[0m\u001b[0m\n",
      "\u001b[0;32m~/Files/Time_Series/Climate_Network/Causality/TimeSeries/notebooks/whole_data_validation/feature_finder_keiko.py\u001b[0m in \u001b[0;36mPCA_computer_rotated\u001b[0;34m(file_name, code, temporal_limits, n_components_sst, missing_value)\u001b[0m\n\u001b[1;32m    251\u001b[0m     \u001b[0mlat_sst_list\u001b[0m \u001b[0;34m=\u001b[0m \u001b[0msst\u001b[0m\u001b[0;34m.\u001b[0m\u001b[0mget_lat_list\u001b[0m\u001b[0;34m(\u001b[0m\u001b[0;34m)\u001b[0m\u001b[0;34m\u001b[0m\u001b[0;34m\u001b[0m\u001b[0m\n\u001b[1;32m    252\u001b[0m \u001b[0;34m\u001b[0m\u001b[0m\n\u001b[0;32m--> 253\u001b[0;31m     \u001b[0mresult_sst\u001b[0m\u001b[0;34m,\u001b[0m \u001b[0mavgs\u001b[0m\u001b[0;34m,\u001b[0m \u001b[0mstds\u001b[0m \u001b[0;34m=\u001b[0m \u001b[0mpf\u001b[0m\u001b[0;34m.\u001b[0m\u001b[0mdeseasonalize_avg_std\u001b[0m\u001b[0;34m(\u001b[0m\u001b[0mnp\u001b[0m\u001b[0;34m.\u001b[0m\u001b[0marray\u001b[0m\u001b[0;34m(\u001b[0m\u001b[0mresult\u001b[0m\u001b[0;34m)\u001b[0m\u001b[0;34m)\u001b[0m\u001b[0;34m\u001b[0m\u001b[0;34m\u001b[0m\u001b[0m\n\u001b[0m\u001b[1;32m    254\u001b[0m     \u001b[0mresult_sst\u001b[0m \u001b[0;34m=\u001b[0m \u001b[0msignal\u001b[0m\u001b[0;34m.\u001b[0m\u001b[0mdetrend\u001b[0m\u001b[0;34m(\u001b[0m\u001b[0mresult_sst\u001b[0m\u001b[0;34m,\u001b[0m \u001b[0maxis\u001b[0m\u001b[0;34m=\u001b[0m\u001b[0;36m0\u001b[0m\u001b[0;34m)\u001b[0m\u001b[0;34m\u001b[0m\u001b[0;34m\u001b[0m\u001b[0m\n\u001b[1;32m    255\u001b[0m     \u001b[0mweights\u001b[0m \u001b[0;34m=\u001b[0m \u001b[0mnp\u001b[0m\u001b[0;34m.\u001b[0m\u001b[0msqrt\u001b[0m\u001b[0;34m(\u001b[0m\u001b[0mnp\u001b[0m\u001b[0;34m.\u001b[0m\u001b[0mabs\u001b[0m\u001b[0;34m(\u001b[0m\u001b[0mnp\u001b[0m\u001b[0;34m.\u001b[0m\u001b[0mcos\u001b[0m\u001b[0;34m(\u001b[0m\u001b[0mnp\u001b[0m\u001b[0;34m.\u001b[0m\u001b[0marray\u001b[0m\u001b[0;34m(\u001b[0m\u001b[0mlat_sst_list\u001b[0m\u001b[0;34m)\u001b[0m\u001b[0;34m*\u001b[0m \u001b[0mmath\u001b[0m\u001b[0;34m.\u001b[0m\u001b[0mpi\u001b[0m\u001b[0;34m/\u001b[0m\u001b[0;36m180\u001b[0m\u001b[0;34m)\u001b[0m\u001b[0;34m)\u001b[0m\u001b[0;34m)\u001b[0m\u001b[0;34m\u001b[0m\u001b[0;34m\u001b[0m\u001b[0m\n",
      "\u001b[0;32m~/Files/Time_Series/Climate_Network/Causality/TimeSeries/notebooks/whole_data_validation/PCA_functions.py\u001b[0m in \u001b[0;36mdeseasonalize_avg_std\u001b[0;34m(data, freq)\u001b[0m\n\u001b[1;32m    115\u001b[0m             \u001b[0;32melse\u001b[0m\u001b[0;34m:\u001b[0m\u001b[0;34m\u001b[0m\u001b[0;34m\u001b[0m\u001b[0m\n\u001b[1;32m    116\u001b[0m                 \u001b[0mr\u001b[0m\u001b[0;34m[\u001b[0m\u001b[0mIdx\u001b[0m\u001b[0;34m]\u001b[0m \u001b[0;34m=\u001b[0m \u001b[0;34m(\u001b[0m\u001b[0mtemp\u001b[0m\u001b[0;34m[\u001b[0m\u001b[0mIdx\u001b[0m\u001b[0;34m]\u001b[0m \u001b[0;34m-\u001b[0m \u001b[0mtemp\u001b[0m\u001b[0;34m[\u001b[0m\u001b[0mIdx\u001b[0m\u001b[0;34m]\u001b[0m\u001b[0;34m.\u001b[0m\u001b[0mmean\u001b[0m\u001b[0;34m(\u001b[0m\u001b[0;34m)\u001b[0m\u001b[0;34m)\u001b[0m\u001b[0;34m/\u001b[0m\u001b[0mtemp\u001b[0m\u001b[0;34m[\u001b[0m\u001b[0mIdx\u001b[0m\u001b[0;34m]\u001b[0m\u001b[0;34m.\u001b[0m\u001b[0mstd\u001b[0m\u001b[0;34m(\u001b[0m\u001b[0;34m)\u001b[0m\u001b[0;34m\u001b[0m\u001b[0;34m\u001b[0m\u001b[0m\n\u001b[0;32m--> 117\u001b[0;31m             \u001b[0mAvgs\u001b[0m\u001b[0;34m[\u001b[0m\u001b[0mi\u001b[0m\u001b[0;34m,\u001b[0m\u001b[0mj\u001b[0m\u001b[0;34m]\u001b[0m \u001b[0;34m=\u001b[0m \u001b[0mtemp\u001b[0m\u001b[0;34m[\u001b[0m\u001b[0mIdx\u001b[0m\u001b[0;34m]\u001b[0m\u001b[0;34m.\u001b[0m\u001b[0mmean\u001b[0m\u001b[0;34m(\u001b[0m\u001b[0;34m)\u001b[0m\u001b[0;34m\u001b[0m\u001b[0;34m\u001b[0m\u001b[0m\n\u001b[0m\u001b[1;32m    118\u001b[0m             \u001b[0mStds\u001b[0m\u001b[0;34m[\u001b[0m\u001b[0mi\u001b[0m\u001b[0;34m,\u001b[0m\u001b[0mj\u001b[0m\u001b[0;34m]\u001b[0m \u001b[0;34m=\u001b[0m \u001b[0mtemp\u001b[0m\u001b[0;34m[\u001b[0m\u001b[0mIdx\u001b[0m\u001b[0;34m]\u001b[0m\u001b[0;34m.\u001b[0m\u001b[0mstd\u001b[0m\u001b[0;34m(\u001b[0m\u001b[0;34m)\u001b[0m\u001b[0;34m\u001b[0m\u001b[0;34m\u001b[0m\u001b[0m\n\u001b[1;32m    119\u001b[0m         \u001b[0mdata_deseasonal\u001b[0m\u001b[0;34m[\u001b[0m\u001b[0;34m:\u001b[0m\u001b[0;34m,\u001b[0m\u001b[0mi\u001b[0m\u001b[0;34m]\u001b[0m \u001b[0;34m=\u001b[0m \u001b[0mnp\u001b[0m\u001b[0;34m.\u001b[0m\u001b[0mcopy\u001b[0m\u001b[0;34m(\u001b[0m\u001b[0mr\u001b[0m\u001b[0;34m)\u001b[0m\u001b[0;34m\u001b[0m\u001b[0;34m\u001b[0m\u001b[0m\n",
      "\u001b[0;32m~/anaconda3/lib/python3.6/site-packages/numpy/core/_methods.py\u001b[0m in \u001b[0;36m_mean\u001b[0;34m(a, axis, dtype, out, keepdims)\u001b[0m\n\u001b[1;32m    158\u001b[0m             \u001b[0mis_float16_result\u001b[0m \u001b[0;34m=\u001b[0m \u001b[0;32mTrue\u001b[0m\u001b[0;34m\u001b[0m\u001b[0;34m\u001b[0m\u001b[0m\n\u001b[1;32m    159\u001b[0m \u001b[0;34m\u001b[0m\u001b[0m\n\u001b[0;32m--> 160\u001b[0;31m     \u001b[0mret\u001b[0m \u001b[0;34m=\u001b[0m \u001b[0mumr_sum\u001b[0m\u001b[0;34m(\u001b[0m\u001b[0marr\u001b[0m\u001b[0;34m,\u001b[0m \u001b[0maxis\u001b[0m\u001b[0;34m,\u001b[0m \u001b[0mdtype\u001b[0m\u001b[0;34m,\u001b[0m \u001b[0mout\u001b[0m\u001b[0;34m,\u001b[0m \u001b[0mkeepdims\u001b[0m\u001b[0;34m)\u001b[0m\u001b[0;34m\u001b[0m\u001b[0;34m\u001b[0m\u001b[0m\n\u001b[0m\u001b[1;32m    161\u001b[0m     \u001b[0;32mif\u001b[0m \u001b[0misinstance\u001b[0m\u001b[0;34m(\u001b[0m\u001b[0mret\u001b[0m\u001b[0;34m,\u001b[0m \u001b[0mmu\u001b[0m\u001b[0;34m.\u001b[0m\u001b[0mndarray\u001b[0m\u001b[0;34m)\u001b[0m\u001b[0;34m:\u001b[0m\u001b[0;34m\u001b[0m\u001b[0;34m\u001b[0m\u001b[0m\n\u001b[1;32m    162\u001b[0m         ret = um.true_divide(\n",
      "\u001b[0;31mKeyboardInterrupt\u001b[0m: "
     ]
    }
   ],
   "source": [
    "for tau in taus:\n",
    "    base_result = []\n",
    "    model_results= []\n",
    "    base_p = []\n",
    "    model_p = []\n",
    "    for ijz in range(len(train_start)):\n",
    "        temporal_limits = {\"time_min\":datetime(train_start[ijz], 1, 1, 0, 0),\"time_max\":datetime(validation_end[ijz], 12, 1, 0, 0)}\n",
    "        original_count, count = ff.drought_timeseries_class(\"../npy_files/{}_gamma_18912015.npy\".format(cc),index,train_start[ijz],validation_end[ijz])\n",
    "        data_sst, ts, V, df_sst, avg, std = ff.PCA_computer_rotated('../../../nc/sst.mnmean.nc', \"sst\",temporal_limits, n_components_sst[ijz], -9.96921e+36)\n",
    "        link = np.load(\"../../whole_data_results/ET_orac/link_{}/pcmci_{}_{}_{}_{}_{}.npy\".format(class_name,f,train_start[ijz],validation_end[ijz],tau,n_components_sst[ijz]))\n",
    "\n",
    "        best_link, base_model, model = ff.forward_feature_V(original_count, data_sst, df_sst, link, V, tau=tau, ratio=0.8)\n",
    "        #np.save(\"./best_link_{}/pcmci_{}_{}_{}_{}_{}.npy\".format(class_name,f,train_start[ijz],validation_end[ijz],tau,n_components_sst[ijz]), best_link)\n",
    "\n",
    "        temporal_limits = {\"time_min\":datetime(test_start[ijz], 1, 1, 0, 0),\"time_max\":datetime(test_end[ijz], 12, 1, 0, 0)}\n",
    "        data_sst = ff.data_generator_avg_std('../sst.mnmean.nc', \"sst\",temporal_limits, avg, std, 12, -9.96921e+36)\n",
    "        original_count_test, count_test = ff.drought_timeseries_class(\"../{}_gamma_18912015_{}.npy\".format(cc,f),index,test_start[ijz],test_end[ijz])\n",
    "\n",
    "        y_pred_base, y_test_base = ff.base_model_result(original_count_test, base_model, best_link, tau)\n",
    "        y_pred, y_test = ff.model_result(original_count_test, data_sst, best_link, df_sst, V, model,tau)\n"
   ]
  },
  {
   "cell_type": "code",
   "execution_count": 10,
   "metadata": {},
   "outputs": [
    {
     "data": {
      "text/plain": [
       "1"
      ]
     },
     "execution_count": 10,
     "metadata": {},
     "output_type": "execute_result"
    }
   ],
   "source": []
  },
  {
   "cell_type": "code",
   "execution_count": 11,
   "metadata": {},
   "outputs": [],
   "source": [
    "    start_lag = 1\n",
    "    end_lag = 12"
   ]
  },
  {
   "cell_type": "code",
   "execution_count": 13,
   "metadata": {},
   "outputs": [],
   "source": [
    "    df = pd.DataFrame({\"drought\": original_count})\n",
    "    lags = np.arange(start_lag,end_lag + 1)\n",
    "    df = df.assign(**{\n",
    "    '{} (t-{})'.format(col, t): df[col].shift(t)\n",
    "    for t in lags\n",
    "    for col in df\n",
    "    })"
   ]
  },
  {
   "cell_type": "code",
   "execution_count": 8,
   "metadata": {},
   "outputs": [
    {
     "data": {
      "text/plain": [
       "0"
      ]
     },
     "execution_count": 8,
     "metadata": {},
     "output_type": "execute_result"
    }
   ],
   "source": [
    "for k in range(len(link)):\n",
    "#        df_sst[\"pc\"] = V[:,link[k,0]-1]\n",
    "#       df[str(k)] = time_series_maker(link[k,0]-1, df_sst, data_sst)\n",
    "\n",
    "    df[str(k)] = time_series_maker_V(data_sst, V[:,link[k,0]-1])\n",
    "    df[str(k)] = df[str(k)].shift(abs(link[k,1]))"
   ]
  },
  {
   "cell_type": "code",
   "execution_count": 9,
   "metadata": {},
   "outputs": [
    {
     "data": {
      "text/plain": [
       "array([[ 38,  -8],\n",
       "       [ 29,  -1],\n",
       "       [ 42,  -6],\n",
       "       [ 17,  -3],\n",
       "       [ 30,  -2],\n",
       "       [ 42,  -2],\n",
       "       [ 28,  -4],\n",
       "       [ 53,  -5],\n",
       "       [ 35, -10],\n",
       "       [ 13,  -9],\n",
       "       [ 14, -11],\n",
       "       [ 10,  -5],\n",
       "       [ 16,  -4],\n",
       "       [ 10,  -1],\n",
       "       [ 52,  -2],\n",
       "       [ 34,  -2],\n",
       "       [ 22,  -2],\n",
       "       [ 40, -12],\n",
       "       [ 46,  -7],\n",
       "       [ 28, -10],\n",
       "       [ 41,  -5],\n",
       "       [  5, -12],\n",
       "       [ 51,  -5],\n",
       "       [ 37,  -7],\n",
       "       [  1,  -3],\n",
       "       [ 36,  -7],\n",
       "       [ 39,  -5],\n",
       "       [ 43, -11],\n",
       "       [ 16, -11],\n",
       "       [  1, -10],\n",
       "       [ 35,  -3],\n",
       "       [ 53,  -1],\n",
       "       [ 17, -10],\n",
       "       [ 33,  -3],\n",
       "       [ 19,  -4],\n",
       "       [ 43,  -1],\n",
       "       [ 12,  -2],\n",
       "       [  9,  -2],\n",
       "       [  9,  -9],\n",
       "       [  7,  -8],\n",
       "       [ 50,  -6],\n",
       "       [ 34,  -3]])"
      ]
     },
     "execution_count": 9,
     "metadata": {},
     "output_type": "execute_result"
    }
   ],
   "source": [
    "link"
   ]
  },
  {
   "cell_type": "code",
   "execution_count": null,
   "metadata": {},
   "outputs": [],
   "source": []
  },
  {
   "cell_type": "code",
   "execution_count": null,
   "metadata": {},
   "outputs": [],
   "source": []
  }
 ],
 "metadata": {
  "kernelspec": {
   "display_name": "Python 3",
   "language": "python",
   "name": "python3"
  },
  "language_info": {
   "codemirror_mode": {
    "name": "ipython",
    "version": 3
   },
   "file_extension": ".py",
   "mimetype": "text/x-python",
   "name": "python",
   "nbconvert_exporter": "python",
   "pygments_lexer": "ipython3",
   "version": "3.6.9"
  }
 },
 "nbformat": 4,
 "nbformat_minor": 2
}
