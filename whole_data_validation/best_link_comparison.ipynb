{
 "cells": [
  {
   "cell_type": "code",
   "execution_count": 1,
   "metadata": {},
   "outputs": [
    {
     "name": "stdout",
     "output_type": "stream",
     "text": [
      "Could not import rpy package\n",
      "Could not import r-package RCIT\n"
     ]
    },
    {
     "name": "stderr",
     "output_type": "stream",
     "text": [
      "/home/mathsys2/anaconda3/lib/python3.6/site-packages/sklearn/ensemble/weight_boosting.py:29: DeprecationWarning: numpy.core.umath_tests is an internal NumPy module and should not be imported. It will be removed in a future NumPy release.\n",
      "  from numpy.core.umath_tests import inner1d\n"
     ]
    }
   ],
   "source": [
    "#from statsmodels.tsa.arima_process import ArmaProcess \n",
    "from statsmodels.tsa.stattools import pacf, acf\n",
    "from statsmodels.graphics.tsaplots import plot_pacf, plot_acf\n",
    "import matplotlib.pyplot as plt\n",
    "import numpy as np\n",
    "import math\n",
    "import pandas as pd\n",
    "from pandas import Series\n",
    "import random\n",
    "\n",
    "from mpl_toolkits.basemap import Basemap\n",
    "import matplotlib as mpl\n",
    "from matplotlib import cm\n",
    "from colorspacious import cspace_converter\n",
    "from collections import OrderedDict\n",
    "from netCDF4 import Dataset\n",
    "from numpy import linspace\n",
    "from numpy import meshgrid\n",
    "\n",
    "\n",
    "import PCA_functions as pf\n",
    "import Extreme_functions as ef\n",
    "\n",
    "from tigramite import plotting as tp\n",
    "from tigramite.pcmci import PCMCI\n",
    "from tigramite.independence_tests import ParCorr, CMIknn\n",
    "import tigramite.data_processing as pp\n",
    "\n",
    "\n",
    "\n",
    "\n",
    "from statsmodels.tsa.stattools import adfuller\n",
    "from Data import Data\n",
    "from datetime import datetime\n",
    "\n",
    "from sklearn.ensemble import RandomForestRegressor\n",
    "from sklearn.metrics import mean_squared_error, r2_score\n",
    "\n",
    "import itertools\n",
    "from collections import Counter\n",
    "import pickle\n",
    "\n",
    "from numpy import linalg as LA\n",
    "\n",
    "import matplotlib.cm as cm\n",
    "\n",
    "from scipy.special import inv_boxcox\n",
    "from scipy import stats\n",
    "\n",
    "from matplotlib import animation\n",
    "\n",
    "import scipy.stats as st\n",
    "\n",
    "import reverse_geocoder as rg\n",
    "\n",
    "from pandas_datareader import wb\n",
    "import scipy.stats as st\n",
    "\n",
    "import Rung as rung\n",
    "\n",
    "plt.rcParams[\"figure.figsize\"] = (5,5)\n",
    "\n",
    "from pandas_datareader import wb\n",
    "\n",
    "import seaborn as sns\n",
    "\n",
    "from sklearn import preprocessing\n",
    "\n",
    "import seaborn as sns\n",
    "import feature_finder_station as ff\n",
    "import feature_finder1 as ff1\n",
    "from statsmodels.tsa.stattools import adfuller\n",
    "\n",
    "plt.rcParams[\"figure.figsize\"] = (20,10)\n",
    "\n",
    "from scipy import stats"
   ]
  },
  {
   "cell_type": "markdown",
   "metadata": {},
   "source": [
    "# ET"
   ]
  },
  {
   "cell_type": "code",
   "execution_count": 5,
   "metadata": {},
   "outputs": [],
   "source": [
    "f = 12\n",
    "test_start = 1976\n",
    "test_end = 2010\n",
    "n_components_sst = 57\n",
    "tau = 12\n",
    "cc = 'ET_orac'"
   ]
  },
  {
   "cell_type": "code",
   "execution_count": 6,
   "metadata": {},
   "outputs": [
    {
     "data": {
      "text/plain": [
       "array([[ 15, -12],\n",
       "       [ 41, -12],\n",
       "       [ 54, -23],\n",
       "       [ 18, -13],\n",
       "       [ 34, -23],\n",
       "       [  7, -12],\n",
       "       [ 12, -19],\n",
       "       [  6, -13],\n",
       "       [ 36, -23],\n",
       "       [ 43, -16]])"
      ]
     },
     "execution_count": 6,
     "metadata": {},
     "output_type": "execute_result"
    }
   ],
   "source": [
    "np.load(\"../../whole_data_results/ET_orac/best_link/pcmci_{}_{}_{}_{}_{}.npy\".format(f,test_start,test_end,tau,n_components_sst))"
   ]
  },
  {
   "cell_type": "code",
   "execution_count": null,
   "metadata": {},
   "outputs": [],
   "source": []
  },
  {
   "cell_type": "code",
   "execution_count": null,
   "metadata": {},
   "outputs": [],
   "source": []
  },
  {
   "cell_type": "code",
   "execution_count": null,
   "metadata": {},
   "outputs": [],
   "source": []
  },
  {
   "cell_type": "code",
   "execution_count": null,
   "metadata": {},
   "outputs": [],
   "source": []
  },
  {
   "cell_type": "code",
   "execution_count": null,
   "metadata": {},
   "outputs": [],
   "source": []
  },
  {
   "cell_type": "code",
   "execution_count": null,
   "metadata": {},
   "outputs": [],
   "source": [
    "base = []\n",
    "pcmci = []\n",
    "corr = []\n",
    "for tau in range(1,13):\n",
    "    base.append(np.load(\"../../whole_data_results/ET_orac/pcmci/base_{}_{}_{}_{}_{}.npy\".format(f,test_start,test_end,tau,n_components_sst)))\n",
    "    pcmci.append(np.load(\"../../whole_data_results/ET_orac/pcmci/model_{}_{}_{}_{}_{}.npy\".format(f,test_start,test_end,tau,n_components_sst)))\n",
    "    corr.append(np.load(\"../../whole_data_results/ET_orac/corr/model_{}_{}_{}_{}_{}.npy\".format(f,test_start,test_end,tau,n_components_sst)))\n",
    "\n",
    "base = np.sqrt(base)/303\n",
    "pcmci = np.sqrt(pcmci)/303\n",
    "corr = np.sqrt(corr)/303"
   ]
  }
 ],
 "metadata": {
  "kernelspec": {
   "display_name": "Python 3",
   "language": "python",
   "name": "python3"
  },
  "language_info": {
   "codemirror_mode": {
    "name": "ipython",
    "version": 3
   },
   "file_extension": ".py",
   "mimetype": "text/x-python",
   "name": "python",
   "nbconvert_exporter": "python",
   "pygments_lexer": "ipython3",
   "version": "3.6.9"
  }
 },
 "nbformat": 4,
 "nbformat_minor": 2
}
