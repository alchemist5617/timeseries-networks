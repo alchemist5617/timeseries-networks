{
 "cells": [
  {
   "cell_type": "code",
   "execution_count": 1,
   "metadata": {},
   "outputs": [
    {
     "name": "stdout",
     "output_type": "stream",
     "text": [
      "Could not import rpy package\n",
      "Could not import r-package RCIT\n"
     ]
    }
   ],
   "source": [
    "import numpy as np\n",
    "import feature_finder_f as ff\n",
    "from datetime import datetime\n",
    "from scipy import stats\n",
    "from scipy.stats import chi2_contingency\n",
    "from sklearn.metrics import mutual_info_score\n",
    "import pandas as pd\n",
    "from statsmodels.tsa.stattools import grangercausalitytests\n",
    "import numpy.ma as ma"
   ]
  },
  {
   "cell_type": "code",
   "execution_count": 2,
   "metadata": {},
   "outputs": [],
   "source": [
    "def calc_MI(x, y, bins):\n",
    "    c_xy = np.histogram2d(x, y, bins)[0]\n",
    "    g, p, dof, expected = chi2_contingency(c_xy, lambda_=\"log-likelihood\")\n",
    "    mi = 0.5 * g / c_xy.sum()\n",
    "    return(mi, p)"
   ]
  },
  {
   "cell_type": "code",
   "execution_count": 3,
   "metadata": {},
   "outputs": [],
   "source": [
    "def crossMI(datax, datay, lag=1, bins = 10):   \n",
    "    return(calc_MI(datax[lag:], datay[:-lag],bins))"
   ]
  },
  {
   "cell_type": "code",
   "execution_count": 7,
   "metadata": {},
   "outputs": [],
   "source": [
    "def calc_MI(x, y, bins = 10):\n",
    "    c_xy = np.histogram2d(x, y, bins)[0]\n",
    "    g, p, dof, expected = chi2_contingency(c_xy, lambda_=\"log-likelihood\")\n",
    "    #mi = 0.5 * g / c_xy.sum()\n",
    "    mi = mutual_info_score(None, None, contingency=c_xy)\n",
    "    return(mi, p)\n",
    "\n",
    "def cross_MI(datax, datay, lag=1, bins = 10):\n",
    "    return(calc_MI(datax[lag:], datay[:-lag],bins))\n"
   ]
  },
  {
   "cell_type": "code",
   "execution_count": 39,
   "metadata": {},
   "outputs": [],
   "source": [
    "tau = 1\n",
    "tau_min = tau\n",
    "tau_max = tau+11\n",
    "level = 0.05"
   ]
  },
  {
   "cell_type": "code",
   "execution_count": null,
   "metadata": {},
   "outputs": [],
   "source": []
  },
  {
   "cell_type": "code",
   "execution_count": 42,
   "metadata": {},
   "outputs": [],
   "source": [
    "    result_extremes = np.array(count)\n",
    "    result_extremes = result_extremes.reshape((-1,1))\n",
    "    componenet = []\n",
    "    lag = []\n",
    "    result_sst = np.array(ts)"
   ]
  },
  {
   "cell_type": "code",
   "execution_count": 47,
   "metadata": {},
   "outputs": [],
   "source": [
    "test_type = \"all\""
   ]
  },
  {
   "cell_type": "code",
   "execution_count": 51,
   "metadata": {},
   "outputs": [],
   "source": [
    "i = 20"
   ]
  },
  {
   "cell_type": "code",
   "execution_count": 56,
   "metadata": {},
   "outputs": [],
   "source": [
    "sst = result_sst[:,i].reshape((-1,1))\n",
    "data = np.concatenate((result_extremes,sst), axis=1)\n",
    "data = np.array(data)\n",
    "df = pd.DataFrame(data)"
   ]
  },
  {
   "cell_type": "code",
   "execution_count": 60,
   "metadata": {},
   "outputs": [],
   "source": [
    "lag_range = range(tau_min, tau_max+1)\n",
    "r = grangercausalitytests(df,maxlag=lag_range,  verbose=False)"
   ]
  },
  {
   "cell_type": "code",
   "execution_count": 66,
   "metadata": {},
   "outputs": [],
   "source": [
    "        p = np.zeros(4)\n",
    "        for j in lag_range:\n",
    "            p[0] = r[j][0]['lrtest'][1]\n",
    "            p[1] = r[j][0]['params_ftest'][1]\n",
    "            p[2] = r[j][0]['ssr_chi2test'][1]\n",
    "            p[3] = r[j][0]['ssr_ftest'][1]\n",
    "\n",
    "\n",
    "            if test_type == \"all\" and np.all(p < level):\n",
    "                componenet.append(i+1)\n",
    "                lag.append(-j)\n",
    "            elif test_type == 'lrtest' and p[0] < level:\n",
    "                componenet.append(i+1)\n",
    "                lag.append(-j)\n",
    "            elif test_type == 'params_ftest' and p[1] < level:\n",
    "                componenet.append(i+1)\n",
    "                lag.append(-j)\n",
    "            elif test_type == 'ssr_chi2test' and p[2] < level:\n",
    "                componenet.append(i+1)\n",
    "                lag.append(-j)\n",
    "            elif test_type == 'ssr_ftest' and p[3] < level:\n",
    "                componenet.append(i+1)\n",
    "                lag.append(-j)"
   ]
  },
  {
   "cell_type": "code",
   "execution_count": 68,
   "metadata": {},
   "outputs": [
    {
     "data": {
      "text/plain": [
       "{1: ({'lrtest': (0.1932365712605133, 0.6602363891688867, 1),\n",
       "   'params_ftest': (0.19189726253893621, 0.6615695830964576, 416.0, 1.0),\n",
       "   'ssr_chi2test': (0.19328113702841745, 0.6601996714126976, 1),\n",
       "   'ssr_ftest': (0.1918972625389538, 0.6615695830964576, 416.0, 1)},\n",
       "  [<statsmodels.regression.linear_model.RegressionResultsWrapper at 0x7f604b015cf8>,\n",
       "   <statsmodels.regression.linear_model.RegressionResultsWrapper at 0x7f604b015780>,\n",
       "   array([[0., 1., 0.]])]),\n",
       " 2: ({'lrtest': (1.2583647701908376, 0.5330274340672316, 2),\n",
       "   'params_ftest': (0.6225929498028248, 0.5370541884303011, 413.0, 2.0),\n",
       "   'ssr_chi2test': (1.2602607894312796, 0.5325223583780274, 2),\n",
       "   'ssr_ftest': (0.6225929498027732, 0.5370541884303381, 413.0, 2)},\n",
       "  [<statsmodels.regression.linear_model.RegressionResultsWrapper at 0x7f5fe1894a58>,\n",
       "   <statsmodels.regression.linear_model.RegressionResultsWrapper at 0x7f604b191358>,\n",
       "   array([[0., 0., 1., 0., 0.],\n",
       "          [0., 0., 0., 1., 0.]])]),\n",
       " 3: ({'lrtest': (2.1057851819696225, 0.550743268568918, 3),\n",
       "   'params_ftest': (0.6918909238353729, 0.5574029749224949, 410.0, 3.0),\n",
       "   'ssr_chi2test': (2.111111087117207, 0.549668187443767, 3),\n",
       "   'ssr_ftest': (0.6918909238353755, 0.5574029749224949, 410.0, 3)},\n",
       "  [<statsmodels.regression.linear_model.RegressionResultsWrapper at 0x7f604b014e48>,\n",
       "   <statsmodels.regression.linear_model.RegressionResultsWrapper at 0x7f604b0147b8>,\n",
       "   array([[0., 0., 0., 1., 0., 0., 0.],\n",
       "          [0., 0., 0., 0., 1., 0., 0.],\n",
       "          [0., 0., 0., 0., 0., 1., 0.]])]),\n",
       " 4: ({'lrtest': (2.134652353704041, 0.7110090600706189, 4),\n",
       "   'params_ftest': (0.5234593775661802, 0.7185495754449123, 407.0, 4.0),\n",
       "   'ssr_chi2test': (2.1401385854302726, 0.7100021993634927, 4),\n",
       "   'ssr_ftest': (0.5234593775661784, 0.7185495754449123, 407.0, 4)},\n",
       "  [<statsmodels.regression.linear_model.RegressionResultsWrapper at 0x7f604b014208>,\n",
       "   <statsmodels.regression.linear_model.RegressionResultsWrapper at 0x7f604b014b38>,\n",
       "   array([[0., 0., 0., 0., 1., 0., 0., 0., 0.],\n",
       "          [0., 0., 0., 0., 0., 1., 0., 0., 0.],\n",
       "          [0., 0., 0., 0., 0., 0., 1., 0., 0.],\n",
       "          [0., 0., 0., 0., 0., 0., 0., 1., 0.]])]),\n",
       " 5: ({'lrtest': (3.368119947843752, 0.6434297776913243, 5),\n",
       "   'params_ftest': (0.6584372039409644, 0.6552209815225334, 404.0, 5.0),\n",
       "   'ssr_chi2test': (3.3818247479640995, 0.6413395168982475, 5),\n",
       "   'ssr_ftest': (0.6584372039409621, 0.6552209815225412, 404.0, 5)},\n",
       "  [<statsmodels.regression.linear_model.RegressionResultsWrapper at 0x7f604aff5e80>,\n",
       "   <statsmodels.regression.linear_model.RegressionResultsWrapper at 0x7f604aff5d68>,\n",
       "   array([[0., 0., 0., 0., 0., 1., 0., 0., 0., 0., 0.],\n",
       "          [0., 0., 0., 0., 0., 0., 1., 0., 0., 0., 0.],\n",
       "          [0., 0., 0., 0., 0., 0., 0., 1., 0., 0., 0.],\n",
       "          [0., 0., 0., 0., 0., 0., 0., 0., 1., 0., 0.],\n",
       "          [0., 0., 0., 0., 0., 0., 0., 0., 0., 1., 0.]])]),\n",
       " 6: ({'lrtest': (4.573864365236204, 0.5995071280078552, 6),\n",
       "   'params_ftest': (0.7424672645015208, 0.6157131679779135, 401.0, 6.0),\n",
       "   'ssr_chi2test': (4.599223653421012, 0.5961417661317381, 6),\n",
       "   'ssr_ftest': (0.7424672645015401, 0.6157131679778948, 401.0, 6)},\n",
       "  [<statsmodels.regression.linear_model.RegressionResultsWrapper at 0x7f604aff5a20>,\n",
       "   <statsmodels.regression.linear_model.RegressionResultsWrapper at 0x7f604aff5908>,\n",
       "   array([[0., 0., 0., 0., 0., 0., 1., 0., 0., 0., 0., 0., 0.],\n",
       "          [0., 0., 0., 0., 0., 0., 0., 1., 0., 0., 0., 0., 0.],\n",
       "          [0., 0., 0., 0., 0., 0., 0., 0., 1., 0., 0., 0., 0.],\n",
       "          [0., 0., 0., 0., 0., 0., 0., 0., 0., 1., 0., 0., 0.],\n",
       "          [0., 0., 0., 0., 0., 0., 0., 0., 0., 0., 1., 0., 0.],\n",
       "          [0., 0., 0., 0., 0., 0., 0., 0., 0., 0., 0., 1., 0.]])]),\n",
       " 7: ({'lrtest': (6.018249903338983, 0.5376200242661668, 7),\n",
       "   'params_ftest': (0.8345902702123293, 0.5590257289846474, 398.0, 7.0),\n",
       "   'ssr_chi2test': (6.062312741667874, 0.5324925720662563, 7),\n",
       "   'ssr_ftest': (0.8345902702123189, 0.559025728984653, 398.0, 7)},\n",
       "  [<statsmodels.regression.linear_model.RegressionResultsWrapper at 0x7f604aff5550>,\n",
       "   <statsmodels.regression.linear_model.RegressionResultsWrapper at 0x7f604aff5438>,\n",
       "   array([[0., 0., 0., 0., 0., 0., 0., 1., 0., 0., 0., 0., 0., 0., 0.],\n",
       "          [0., 0., 0., 0., 0., 0., 0., 0., 1., 0., 0., 0., 0., 0., 0.],\n",
       "          [0., 0., 0., 0., 0., 0., 0., 0., 0., 1., 0., 0., 0., 0., 0.],\n",
       "          [0., 0., 0., 0., 0., 0., 0., 0., 0., 0., 1., 0., 0., 0., 0.],\n",
       "          [0., 0., 0., 0., 0., 0., 0., 0., 0., 0., 0., 1., 0., 0., 0.],\n",
       "          [0., 0., 0., 0., 0., 0., 0., 0., 0., 0., 0., 0., 1., 0., 0.],\n",
       "          [0., 0., 0., 0., 0., 0., 0., 0., 0., 0., 0., 0., 0., 1., 0.]])]),\n",
       " 8: ({'lrtest': (5.916473315340681, 0.6565877105522528, 8),\n",
       "   'params_ftest': (0.7141588945985252, 0.6790890229930477, 395.0, 8.0),\n",
       "   'ssr_chi2test': (5.959158776194188, 0.6518068532369119, 8),\n",
       "   'ssr_ftest': (0.7141588945985147, 0.6790890229930621, 395.0, 8)},\n",
       "  [<statsmodels.regression.linear_model.RegressionResultsWrapper at 0x7f5fe1867ef0>,\n",
       "   <statsmodels.regression.linear_model.RegressionResultsWrapper at 0x7f5fe18673c8>,\n",
       "   array([[0., 0., 0., 0., 0., 0., 0., 0., 1., 0., 0., 0., 0., 0., 0., 0.,\n",
       "           0.],\n",
       "          [0., 0., 0., 0., 0., 0., 0., 0., 0., 1., 0., 0., 0., 0., 0., 0.,\n",
       "           0.],\n",
       "          [0., 0., 0., 0., 0., 0., 0., 0., 0., 0., 1., 0., 0., 0., 0., 0.,\n",
       "           0.],\n",
       "          [0., 0., 0., 0., 0., 0., 0., 0., 0., 0., 0., 1., 0., 0., 0., 0.,\n",
       "           0.],\n",
       "          [0., 0., 0., 0., 0., 0., 0., 0., 0., 0., 0., 0., 1., 0., 0., 0.,\n",
       "           0.],\n",
       "          [0., 0., 0., 0., 0., 0., 0., 0., 0., 0., 0., 0., 0., 1., 0., 0.,\n",
       "           0.],\n",
       "          [0., 0., 0., 0., 0., 0., 0., 0., 0., 0., 0., 0., 0., 0., 1., 0.,\n",
       "           0.],\n",
       "          [0., 0., 0., 0., 0., 0., 0., 0., 0., 0., 0., 0., 0., 0., 0., 1.,\n",
       "           0.]])]),\n",
       " 9: ({'lrtest': (9.296223712321535, 0.41039173326625505, 9),\n",
       "   'params_ftest': (0.9963894381409758, 0.4423384361699825, 392.0, 9.0),\n",
       "   'ssr_chi2test': (9.40215441755993, 0.4010097232476308, 9),\n",
       "   'ssr_ftest': (0.996389438140982, 0.4423384361699807, 392.0, 9)},\n",
       "  [<statsmodels.regression.linear_model.RegressionResultsWrapper at 0x7f5fe16f7748>,\n",
       "   <statsmodels.regression.linear_model.RegressionResultsWrapper at 0x7f5fe17584a8>,\n",
       "   array([[0., 0., 0., 0., 0., 0., 0., 0., 0., 1., 0., 0., 0., 0., 0., 0.,\n",
       "           0., 0., 0.],\n",
       "          [0., 0., 0., 0., 0., 0., 0., 0., 0., 0., 1., 0., 0., 0., 0., 0.,\n",
       "           0., 0., 0.],\n",
       "          [0., 0., 0., 0., 0., 0., 0., 0., 0., 0., 0., 1., 0., 0., 0., 0.,\n",
       "           0., 0., 0.],\n",
       "          [0., 0., 0., 0., 0., 0., 0., 0., 0., 0., 0., 0., 1., 0., 0., 0.,\n",
       "           0., 0., 0.],\n",
       "          [0., 0., 0., 0., 0., 0., 0., 0., 0., 0., 0., 0., 0., 1., 0., 0.,\n",
       "           0., 0., 0.],\n",
       "          [0., 0., 0., 0., 0., 0., 0., 0., 0., 0., 0., 0., 0., 0., 1., 0.,\n",
       "           0., 0., 0.],\n",
       "          [0., 0., 0., 0., 0., 0., 0., 0., 0., 0., 0., 0., 0., 0., 0., 1.,\n",
       "           0., 0., 0.],\n",
       "          [0., 0., 0., 0., 0., 0., 0., 0., 0., 0., 0., 0., 0., 0., 0., 0.,\n",
       "           1., 0., 0.],\n",
       "          [0., 0., 0., 0., 0., 0., 0., 0., 0., 0., 0., 0., 0., 0., 0., 0.,\n",
       "           0., 1., 0.]])]),\n",
       " 10: ({'lrtest': (9.44661861674831, 0.49030585109122615, 10),\n",
       "   'params_ftest': (0.9066818483448614, 0.5269375561276826, 389.0, 10.0),\n",
       "   'ssr_chi2test': (9.556286833454827, 0.4802444820197551, 10),\n",
       "   'ssr_ftest': (0.9066818483448602, 0.5269375561276826, 389.0, 10)},\n",
       "  [<statsmodels.regression.linear_model.RegressionResultsWrapper at 0x7f5fe16ab198>,\n",
       "   <statsmodels.regression.linear_model.RegressionResultsWrapper at 0x7f5fe16abf28>,\n",
       "   array([[0., 0., 0., 0., 0., 0., 0., 0., 0., 0., 1., 0., 0., 0., 0., 0.,\n",
       "           0., 0., 0., 0., 0.],\n",
       "          [0., 0., 0., 0., 0., 0., 0., 0., 0., 0., 0., 1., 0., 0., 0., 0.,\n",
       "           0., 0., 0., 0., 0.],\n",
       "          [0., 0., 0., 0., 0., 0., 0., 0., 0., 0., 0., 0., 1., 0., 0., 0.,\n",
       "           0., 0., 0., 0., 0.],\n",
       "          [0., 0., 0., 0., 0., 0., 0., 0., 0., 0., 0., 0., 0., 1., 0., 0.,\n",
       "           0., 0., 0., 0., 0.],\n",
       "          [0., 0., 0., 0., 0., 0., 0., 0., 0., 0., 0., 0., 0., 0., 1., 0.,\n",
       "           0., 0., 0., 0., 0.],\n",
       "          [0., 0., 0., 0., 0., 0., 0., 0., 0., 0., 0., 0., 0., 0., 0., 1.,\n",
       "           0., 0., 0., 0., 0.],\n",
       "          [0., 0., 0., 0., 0., 0., 0., 0., 0., 0., 0., 0., 0., 0., 0., 0.,\n",
       "           1., 0., 0., 0., 0.],\n",
       "          [0., 0., 0., 0., 0., 0., 0., 0., 0., 0., 0., 0., 0., 0., 0., 0.,\n",
       "           0., 1., 0., 0., 0.],\n",
       "          [0., 0., 0., 0., 0., 0., 0., 0., 0., 0., 0., 0., 0., 0., 0., 0.,\n",
       "           0., 0., 1., 0., 0.],\n",
       "          [0., 0., 0., 0., 0., 0., 0., 0., 0., 0., 0., 0., 0., 0., 0., 0.,\n",
       "           0., 0., 0., 1., 0.]])]),\n",
       " 11: ({'lrtest': (9.51340158166704, 0.57461294204494, 11),\n",
       "   'params_ftest': (0.8257865575430703, 0.6142684951099271, 386.0, 11.0),\n",
       "   'ssr_chi2test': (9.624906016544905, 0.5644088327555534, 11),\n",
       "   'ssr_ftest': (0.8257865575430836, 0.6142684951099148, 386.0, 11)},\n",
       "  [<statsmodels.regression.linear_model.RegressionResultsWrapper at 0x7f604b171668>,\n",
       "   <statsmodels.regression.linear_model.RegressionResultsWrapper at 0x7f604b171cf8>,\n",
       "   array([[0., 0., 0., 0., 0., 0., 0., 0., 0., 0., 0., 1., 0., 0., 0., 0.,\n",
       "           0., 0., 0., 0., 0., 0., 0.],\n",
       "          [0., 0., 0., 0., 0., 0., 0., 0., 0., 0., 0., 0., 1., 0., 0., 0.,\n",
       "           0., 0., 0., 0., 0., 0., 0.],\n",
       "          [0., 0., 0., 0., 0., 0., 0., 0., 0., 0., 0., 0., 0., 1., 0., 0.,\n",
       "           0., 0., 0., 0., 0., 0., 0.],\n",
       "          [0., 0., 0., 0., 0., 0., 0., 0., 0., 0., 0., 0., 0., 0., 1., 0.,\n",
       "           0., 0., 0., 0., 0., 0., 0.],\n",
       "          [0., 0., 0., 0., 0., 0., 0., 0., 0., 0., 0., 0., 0., 0., 0., 1.,\n",
       "           0., 0., 0., 0., 0., 0., 0.],\n",
       "          [0., 0., 0., 0., 0., 0., 0., 0., 0., 0., 0., 0., 0., 0., 0., 0.,\n",
       "           1., 0., 0., 0., 0., 0., 0.],\n",
       "          [0., 0., 0., 0., 0., 0., 0., 0., 0., 0., 0., 0., 0., 0., 0., 0.,\n",
       "           0., 1., 0., 0., 0., 0., 0.],\n",
       "          [0., 0., 0., 0., 0., 0., 0., 0., 0., 0., 0., 0., 0., 0., 0., 0.,\n",
       "           0., 0., 1., 0., 0., 0., 0.],\n",
       "          [0., 0., 0., 0., 0., 0., 0., 0., 0., 0., 0., 0., 0., 0., 0., 0.,\n",
       "           0., 0., 0., 1., 0., 0., 0.],\n",
       "          [0., 0., 0., 0., 0., 0., 0., 0., 0., 0., 0., 0., 0., 0., 0., 0.,\n",
       "           0., 0., 0., 0., 1., 0., 0.],\n",
       "          [0., 0., 0., 0., 0., 0., 0., 0., 0., 0., 0., 0., 0., 0., 0., 0.,\n",
       "           0., 0., 0., 0., 0., 1., 0.]])]),\n",
       " 12: ({'lrtest': (11.810663990391276, 0.4610028892597967, 12),\n",
       "   'params_ftest': (0.9374168526586658, 0.5092389307846487, 383.0, 12.0),\n",
       "   'ssr_chi2test': (11.98327130709359, 0.447024083684038, 12),\n",
       "   'ssr_ftest': (0.9374168526586693, 0.5092389307846421, 383.0, 12)},\n",
       "  [<statsmodels.regression.linear_model.RegressionResultsWrapper at 0x7f604b015eb8>,\n",
       "   <statsmodels.regression.linear_model.RegressionResultsWrapper at 0x7f604b015b38>,\n",
       "   array([[0., 0., 0., 0., 0., 0., 0., 0., 0., 0., 0., 0., 1., 0., 0., 0.,\n",
       "           0., 0., 0., 0., 0., 0., 0., 0., 0.],\n",
       "          [0., 0., 0., 0., 0., 0., 0., 0., 0., 0., 0., 0., 0., 1., 0., 0.,\n",
       "           0., 0., 0., 0., 0., 0., 0., 0., 0.],\n",
       "          [0., 0., 0., 0., 0., 0., 0., 0., 0., 0., 0., 0., 0., 0., 1., 0.,\n",
       "           0., 0., 0., 0., 0., 0., 0., 0., 0.],\n",
       "          [0., 0., 0., 0., 0., 0., 0., 0., 0., 0., 0., 0., 0., 0., 0., 1.,\n",
       "           0., 0., 0., 0., 0., 0., 0., 0., 0.],\n",
       "          [0., 0., 0., 0., 0., 0., 0., 0., 0., 0., 0., 0., 0., 0., 0., 0.,\n",
       "           1., 0., 0., 0., 0., 0., 0., 0., 0.],\n",
       "          [0., 0., 0., 0., 0., 0., 0., 0., 0., 0., 0., 0., 0., 0., 0., 0.,\n",
       "           0., 1., 0., 0., 0., 0., 0., 0., 0.],\n",
       "          [0., 0., 0., 0., 0., 0., 0., 0., 0., 0., 0., 0., 0., 0., 0., 0.,\n",
       "           0., 0., 1., 0., 0., 0., 0., 0., 0.],\n",
       "          [0., 0., 0., 0., 0., 0., 0., 0., 0., 0., 0., 0., 0., 0., 0., 0.,\n",
       "           0., 0., 0., 1., 0., 0., 0., 0., 0.],\n",
       "          [0., 0., 0., 0., 0., 0., 0., 0., 0., 0., 0., 0., 0., 0., 0., 0.,\n",
       "           0., 0., 0., 0., 1., 0., 0., 0., 0.],\n",
       "          [0., 0., 0., 0., 0., 0., 0., 0., 0., 0., 0., 0., 0., 0., 0., 0.,\n",
       "           0., 0., 0., 0., 0., 1., 0., 0., 0.],\n",
       "          [0., 0., 0., 0., 0., 0., 0., 0., 0., 0., 0., 0., 0., 0., 0., 0.,\n",
       "           0., 0., 0., 0., 0., 0., 1., 0., 0.],\n",
       "          [0., 0., 0., 0., 0., 0., 0., 0., 0., 0., 0., 0., 0., 0., 0., 0.,\n",
       "           0., 0., 0., 0., 0., 0., 0., 1., 0.]])])}"
      ]
     },
     "execution_count": 68,
     "metadata": {},
     "output_type": "execute_result"
    }
   ],
   "source": [
    "r"
   ]
  },
  {
   "cell_type": "code",
   "execution_count": null,
   "metadata": {},
   "outputs": [],
   "source": []
  },
  {
   "cell_type": "code",
   "execution_count": 140,
   "metadata": {},
   "outputs": [],
   "source": [
    "def granger_generator(ts, count, data_sst, V, test_type = \"all\", tau_min = 1, tau_max = 12,level = 0.05):\n",
    "    result_extremes = np.array(count)\n",
    "    result_extremes = result_extremes.reshape((-1,1))\n",
    "    componenet = []\n",
    "    lag = []\n",
    "    result_sst = np.array(ts)\n",
    "\n",
    "    for i in range(result_sst.shape[1]):\n",
    "        sst = result_sst[:,i].reshape((-1,1))\n",
    "        data = np.concatenate((result_extremes,sst), axis=1)\n",
    "        data = np.array(data)\n",
    "        df = pd.DataFrame(data)\n",
    "        lag_range = range(tau_min, tau_max+1)\n",
    "        r = grangercausalitytests(df,maxlag=lag_range,  verbose=False)\n",
    "        p = np.zeros(4)\n",
    "        for j in lag_range:\n",
    "            p[0] = r[j][0]['lrtest'][1]\n",
    "            p[1] = r[j][0]['params_ftest'][1]\n",
    "            p[2] = r[j][0]['ssr_chi2test'][1]\n",
    "            p[3] = r[j][0]['ssr_ftest'][1]\n",
    "\n",
    "\n",
    "            if test_type == \"all\" and np.all(p < level):\n",
    "                componenet.append(i+1)\n",
    "                lag.append(-j)\n",
    "            elif test_type == 'lrtest' and p[0] < level:\n",
    "                componenet.append(i+1)\n",
    "                lag.append(-j)\n",
    "            elif test_type == 'params_ftest' and p[1] < level:\n",
    "                componenet.append(i+1)\n",
    "                lag.append(-j)\n",
    "            elif test_type == 'ssr_chi2test' and p[2] < level:\n",
    "                componenet.append(i+1)\n",
    "                lag.append(-j)\n",
    "            elif test_type == 'ssr_ftest' and p[3] < level:\n",
    "                componenet.append(i+1)\n",
    "                lag.append(-j)\n",
    "\n",
    "    link = np.array(list(zip((componenet),(lag))))\n",
    "    \n",
    "    df = ff.data_list_maker_V(data_sst, V, link)\n",
    "    deleted_index = []\n",
    "    componenets = set(link[:,0])\n",
    "    for componenet in componenets:\n",
    "        componenet_index = (link[:,0] == componenet)\n",
    "        componenet_list = link[componenet_index]\n",
    "        Index = componenet_index.nonzero()[0]\n",
    "        sorted_index = np.argsort(componenet_list[:,1],axis=0)\n",
    "        mx = ma.masked_array(componenet_list)\n",
    "        for i in range(len(sorted_index)):\n",
    "            if ma.is_masked(mx[sorted_index[i]]): continue\n",
    "            for j in range(i+1,len(sorted_index)):\n",
    "                if (not ma.is_masked(mx[sorted_index[i]]) and (df.iloc[:,Index[sorted_index[i]]].corr(df.iloc[:,Index[sorted_index[j]]]) > 0.7)):\n",
    "                    mx[sorted_index[j]] = ma.masked\n",
    "\n",
    "        if not np.isscalar(mx.mask):\n",
    "            deleted_index.extend(Index[mx.mask[:,0].nonzero()[0]])\n",
    "    deleted_index = np.array(deleted_index)\n",
    "    link = np.delete(link,deleted_index,axis=0) \n",
    "    return(link)\n"
   ]
  },
  {
   "cell_type": "code",
   "execution_count": 5,
   "metadata": {},
   "outputs": [],
   "source": [
    "link = ff.granger_generator(ts, count, data_sst, V, auto_corr=0.7)"
   ]
  },
  {
   "cell_type": "code",
   "execution_count": 6,
   "metadata": {},
   "outputs": [
    {
     "data": {
      "text/plain": [
       "array([[  3, -10],\n",
       "       [ 15,  -5],\n",
       "       [ 27,  -1],\n",
       "       [ 29,  -6],\n",
       "       [ 29,  -8],\n",
       "       [ 29, -11],\n",
       "       [ 30,  -2],\n",
       "       [ 30,  -4],\n",
       "       [ 30,  -6],\n",
       "       [ 30,  -8],\n",
       "       [ 30, -10],\n",
       "       [ 30, -12],\n",
       "       [ 35,  -2],\n",
       "       [ 40,  -4],\n",
       "       [ 41,  -2],\n",
       "       [ 41,  -4]])"
      ]
     },
     "execution_count": 6,
     "metadata": {},
     "output_type": "execute_result"
    }
   ],
   "source": [
    "link"
   ]
  },
  {
   "cell_type": "code",
   "execution_count": null,
   "metadata": {},
   "outputs": [],
   "source": []
  },
  {
   "cell_type": "code",
   "execution_count": null,
   "metadata": {},
   "outputs": [],
   "source": []
  },
  {
   "cell_type": "code",
   "execution_count": 84,
   "metadata": {},
   "outputs": [],
   "source": [
    "df = ff.data_list_maker_V(data_sst, V, link)\n",
    "deleted_index = []\n",
    "componenets = set(link[:,0])"
   ]
  },
  {
   "cell_type": "code",
   "execution_count": 144,
   "metadata": {},
   "outputs": [
    {
     "data": {
      "text/plain": [
       "array([[  3, -10],\n",
       "       [ 15,  -5],\n",
       "       [ 27,  -1],\n",
       "       [ 29,  -6],\n",
       "       [ 29,  -8],\n",
       "       [ 29, -11],\n",
       "       [ 30,  -2],\n",
       "       [ 30,  -4],\n",
       "       [ 30,  -6],\n",
       "       [ 30,  -8],\n",
       "       [ 30, -10],\n",
       "       [ 30, -12],\n",
       "       [ 35,  -2],\n",
       "       [ 40,  -4],\n",
       "       [ 41,  -2],\n",
       "       [ 41,  -4]])"
      ]
     },
     "execution_count": 144,
     "metadata": {},
     "output_type": "execute_result"
    }
   ],
   "source": [
    "link"
   ]
  },
  {
   "cell_type": "code",
   "execution_count": 141,
   "metadata": {},
   "outputs": [
    {
     "data": {
      "text/plain": [
       "array([[  3,  -9],\n",
       "       [  3, -10],\n",
       "       [ 15,  -5],\n",
       "       [ 27,  -1],\n",
       "       [ 29,  -5],\n",
       "       [ 29,  -6],\n",
       "       [ 29,  -7],\n",
       "       [ 29,  -8],\n",
       "       [ 29, -10],\n",
       "       [ 29, -11],\n",
       "       [ 30,  -1],\n",
       "       [ 30,  -2],\n",
       "       [ 30,  -3],\n",
       "       [ 30,  -4],\n",
       "       [ 30,  -5],\n",
       "       [ 30,  -6],\n",
       "       [ 30,  -7],\n",
       "       [ 30,  -8],\n",
       "       [ 30,  -9],\n",
       "       [ 30, -10],\n",
       "       [ 30, -11],\n",
       "       [ 30, -12],\n",
       "       [ 35,  -2],\n",
       "       [ 40,  -4],\n",
       "       [ 41,  -1],\n",
       "       [ 41,  -2],\n",
       "       [ 41,  -3],\n",
       "       [ 41,  -4]])"
      ]
     },
     "execution_count": 141,
     "metadata": {},
     "output_type": "execute_result"
    }
   ],
   "source": [
    "link"
   ]
  },
  {
   "cell_type": "code",
   "execution_count": 85,
   "metadata": {},
   "outputs": [
    {
     "data": {
      "text/html": [
       "<div>\n",
       "<style scoped>\n",
       "    .dataframe tbody tr th:only-of-type {\n",
       "        vertical-align: middle;\n",
       "    }\n",
       "\n",
       "    .dataframe tbody tr th {\n",
       "        vertical-align: top;\n",
       "    }\n",
       "\n",
       "    .dataframe thead th {\n",
       "        text-align: right;\n",
       "    }\n",
       "</style>\n",
       "<table border=\"1\" class=\"dataframe\">\n",
       "  <thead>\n",
       "    <tr style=\"text-align: right;\">\n",
       "      <th></th>\n",
       "      <th>0</th>\n",
       "      <th>1</th>\n",
       "      <th>2</th>\n",
       "      <th>3</th>\n",
       "      <th>4</th>\n",
       "      <th>5</th>\n",
       "      <th>6</th>\n",
       "      <th>7</th>\n",
       "      <th>8</th>\n",
       "      <th>9</th>\n",
       "      <th>...</th>\n",
       "      <th>18</th>\n",
       "      <th>19</th>\n",
       "      <th>20</th>\n",
       "      <th>21</th>\n",
       "      <th>22</th>\n",
       "      <th>23</th>\n",
       "      <th>24</th>\n",
       "      <th>25</th>\n",
       "      <th>26</th>\n",
       "      <th>27</th>\n",
       "    </tr>\n",
       "  </thead>\n",
       "  <tbody>\n",
       "    <tr>\n",
       "      <td>12</td>\n",
       "      <td>-15.658477</td>\n",
       "      <td>-18.875230</td>\n",
       "      <td>-1.462725</td>\n",
       "      <td>-2.494005</td>\n",
       "      <td>-4.742317</td>\n",
       "      <td>-11.971237</td>\n",
       "      <td>-8.811559</td>\n",
       "      <td>-5.876422</td>\n",
       "      <td>-9.537527</td>\n",
       "      <td>-8.610736</td>\n",
       "      <td>...</td>\n",
       "      <td>-6.870880</td>\n",
       "      <td>-10.414479</td>\n",
       "      <td>-12.280805</td>\n",
       "      <td>-22.539744</td>\n",
       "      <td>-3.862890</td>\n",
       "      <td>-12.410080</td>\n",
       "      <td>2.374501</td>\n",
       "      <td>9.848307</td>\n",
       "      <td>3.059157</td>\n",
       "      <td>-7.286640</td>\n",
       "    </tr>\n",
       "    <tr>\n",
       "      <td>13</td>\n",
       "      <td>-16.247750</td>\n",
       "      <td>-15.658477</td>\n",
       "      <td>-7.388692</td>\n",
       "      <td>5.868590</td>\n",
       "      <td>-3.620935</td>\n",
       "      <td>-4.742317</td>\n",
       "      <td>-11.971237</td>\n",
       "      <td>-8.811559</td>\n",
       "      <td>-4.718250</td>\n",
       "      <td>-9.537527</td>\n",
       "      <td>...</td>\n",
       "      <td>-13.103352</td>\n",
       "      <td>-6.870880</td>\n",
       "      <td>-10.414479</td>\n",
       "      <td>-12.280805</td>\n",
       "      <td>-3.827599</td>\n",
       "      <td>-9.823005</td>\n",
       "      <td>10.403320</td>\n",
       "      <td>2.374501</td>\n",
       "      <td>9.848307</td>\n",
       "      <td>3.059157</td>\n",
       "    </tr>\n",
       "    <tr>\n",
       "      <td>14</td>\n",
       "      <td>-8.978083</td>\n",
       "      <td>-16.247750</td>\n",
       "      <td>4.445281</td>\n",
       "      <td>-3.602385</td>\n",
       "      <td>-1.406557</td>\n",
       "      <td>-3.620935</td>\n",
       "      <td>-4.742317</td>\n",
       "      <td>-11.971237</td>\n",
       "      <td>-5.876422</td>\n",
       "      <td>-4.718250</td>\n",
       "      <td>...</td>\n",
       "      <td>-11.078641</td>\n",
       "      <td>-13.103352</td>\n",
       "      <td>-6.870880</td>\n",
       "      <td>-10.414479</td>\n",
       "      <td>-6.044788</td>\n",
       "      <td>-15.887835</td>\n",
       "      <td>2.017544</td>\n",
       "      <td>10.403320</td>\n",
       "      <td>2.374501</td>\n",
       "      <td>9.848307</td>\n",
       "    </tr>\n",
       "    <tr>\n",
       "      <td>15</td>\n",
       "      <td>-7.691997</td>\n",
       "      <td>-8.978083</td>\n",
       "      <td>16.317852</td>\n",
       "      <td>-18.548149</td>\n",
       "      <td>7.062464</td>\n",
       "      <td>-1.406557</td>\n",
       "      <td>-3.620935</td>\n",
       "      <td>-4.742317</td>\n",
       "      <td>-8.811559</td>\n",
       "      <td>-5.876422</td>\n",
       "      <td>...</td>\n",
       "      <td>-23.622484</td>\n",
       "      <td>-11.078641</td>\n",
       "      <td>-13.103352</td>\n",
       "      <td>-6.870880</td>\n",
       "      <td>-7.999546</td>\n",
       "      <td>-5.584725</td>\n",
       "      <td>8.935667</td>\n",
       "      <td>2.017544</td>\n",
       "      <td>10.403320</td>\n",
       "      <td>2.374501</td>\n",
       "    </tr>\n",
       "    <tr>\n",
       "      <td>16</td>\n",
       "      <td>-3.818863</td>\n",
       "      <td>-7.691997</td>\n",
       "      <td>12.782455</td>\n",
       "      <td>-18.941576</td>\n",
       "      <td>0.416635</td>\n",
       "      <td>7.062464</td>\n",
       "      <td>-1.406557</td>\n",
       "      <td>-3.620935</td>\n",
       "      <td>-11.971237</td>\n",
       "      <td>-8.811559</td>\n",
       "      <td>...</td>\n",
       "      <td>-9.145543</td>\n",
       "      <td>-23.622484</td>\n",
       "      <td>-11.078641</td>\n",
       "      <td>-13.103352</td>\n",
       "      <td>-7.031180</td>\n",
       "      <td>-8.985496</td>\n",
       "      <td>13.214939</td>\n",
       "      <td>8.935667</td>\n",
       "      <td>2.017544</td>\n",
       "      <td>10.403320</td>\n",
       "    </tr>\n",
       "    <tr>\n",
       "      <td>...</td>\n",
       "      <td>...</td>\n",
       "      <td>...</td>\n",
       "      <td>...</td>\n",
       "      <td>...</td>\n",
       "      <td>...</td>\n",
       "      <td>...</td>\n",
       "      <td>...</td>\n",
       "      <td>...</td>\n",
       "      <td>...</td>\n",
       "      <td>...</td>\n",
       "      <td>...</td>\n",
       "      <td>...</td>\n",
       "      <td>...</td>\n",
       "      <td>...</td>\n",
       "      <td>...</td>\n",
       "      <td>...</td>\n",
       "      <td>...</td>\n",
       "      <td>...</td>\n",
       "      <td>...</td>\n",
       "      <td>...</td>\n",
       "      <td>...</td>\n",
       "    </tr>\n",
       "    <tr>\n",
       "      <td>415</td>\n",
       "      <td>24.076212</td>\n",
       "      <td>3.987968</td>\n",
       "      <td>9.603717</td>\n",
       "      <td>14.449409</td>\n",
       "      <td>13.479496</td>\n",
       "      <td>15.934460</td>\n",
       "      <td>2.721533</td>\n",
       "      <td>-0.570186</td>\n",
       "      <td>-0.030342</td>\n",
       "      <td>-2.645194</td>\n",
       "      <td>...</td>\n",
       "      <td>-5.008418</td>\n",
       "      <td>-2.881616</td>\n",
       "      <td>-0.178987</td>\n",
       "      <td>3.182010</td>\n",
       "      <td>-12.331287</td>\n",
       "      <td>-11.242183</td>\n",
       "      <td>18.162507</td>\n",
       "      <td>15.190981</td>\n",
       "      <td>18.763838</td>\n",
       "      <td>19.803094</td>\n",
       "    </tr>\n",
       "    <tr>\n",
       "      <td>416</td>\n",
       "      <td>29.419209</td>\n",
       "      <td>24.076212</td>\n",
       "      <td>15.877617</td>\n",
       "      <td>7.526736</td>\n",
       "      <td>17.377247</td>\n",
       "      <td>13.479496</td>\n",
       "      <td>15.934460</td>\n",
       "      <td>2.721533</td>\n",
       "      <td>-3.654015</td>\n",
       "      <td>-0.030342</td>\n",
       "      <td>...</td>\n",
       "      <td>-4.186917</td>\n",
       "      <td>-5.008418</td>\n",
       "      <td>-2.881616</td>\n",
       "      <td>-0.178987</td>\n",
       "      <td>-0.051098</td>\n",
       "      <td>-0.189972</td>\n",
       "      <td>11.615687</td>\n",
       "      <td>18.162507</td>\n",
       "      <td>15.190981</td>\n",
       "      <td>18.763838</td>\n",
       "    </tr>\n",
       "    <tr>\n",
       "      <td>417</td>\n",
       "      <td>23.974378</td>\n",
       "      <td>29.419209</td>\n",
       "      <td>28.776422</td>\n",
       "      <td>8.523444</td>\n",
       "      <td>16.446438</td>\n",
       "      <td>17.377247</td>\n",
       "      <td>13.479496</td>\n",
       "      <td>15.934460</td>\n",
       "      <td>-0.570186</td>\n",
       "      <td>-3.654015</td>\n",
       "      <td>...</td>\n",
       "      <td>-6.329120</td>\n",
       "      <td>-4.186917</td>\n",
       "      <td>-5.008418</td>\n",
       "      <td>-2.881616</td>\n",
       "      <td>3.454851</td>\n",
       "      <td>17.447818</td>\n",
       "      <td>5.580168</td>\n",
       "      <td>11.615687</td>\n",
       "      <td>18.162507</td>\n",
       "      <td>15.190981</td>\n",
       "    </tr>\n",
       "    <tr>\n",
       "      <td>418</td>\n",
       "      <td>22.348548</td>\n",
       "      <td>23.974378</td>\n",
       "      <td>28.537041</td>\n",
       "      <td>8.597736</td>\n",
       "      <td>12.915137</td>\n",
       "      <td>16.446438</td>\n",
       "      <td>17.377247</td>\n",
       "      <td>13.479496</td>\n",
       "      <td>2.721533</td>\n",
       "      <td>-0.570186</td>\n",
       "      <td>...</td>\n",
       "      <td>5.933121</td>\n",
       "      <td>-6.329120</td>\n",
       "      <td>-4.186917</td>\n",
       "      <td>-5.008418</td>\n",
       "      <td>10.450159</td>\n",
       "      <td>10.315818</td>\n",
       "      <td>6.520422</td>\n",
       "      <td>5.580168</td>\n",
       "      <td>11.615687</td>\n",
       "      <td>18.162507</td>\n",
       "    </tr>\n",
       "    <tr>\n",
       "      <td>419</td>\n",
       "      <td>18.024205</td>\n",
       "      <td>22.348548</td>\n",
       "      <td>26.944263</td>\n",
       "      <td>12.053134</td>\n",
       "      <td>10.326710</td>\n",
       "      <td>12.915137</td>\n",
       "      <td>16.446438</td>\n",
       "      <td>17.377247</td>\n",
       "      <td>15.934460</td>\n",
       "      <td>2.721533</td>\n",
       "      <td>...</td>\n",
       "      <td>8.195432</td>\n",
       "      <td>5.933121</td>\n",
       "      <td>-6.329120</td>\n",
       "      <td>-4.186917</td>\n",
       "      <td>10.640869</td>\n",
       "      <td>16.134432</td>\n",
       "      <td>5.599452</td>\n",
       "      <td>6.520422</td>\n",
       "      <td>5.580168</td>\n",
       "      <td>11.615687</td>\n",
       "    </tr>\n",
       "  </tbody>\n",
       "</table>\n",
       "<p>408 rows × 28 columns</p>\n",
       "</div>"
      ],
      "text/plain": [
       "             0          1          2          3          4          5  \\\n",
       "12  -15.658477 -18.875230  -1.462725  -2.494005  -4.742317 -11.971237   \n",
       "13  -16.247750 -15.658477  -7.388692   5.868590  -3.620935  -4.742317   \n",
       "14   -8.978083 -16.247750   4.445281  -3.602385  -1.406557  -3.620935   \n",
       "15   -7.691997  -8.978083  16.317852 -18.548149   7.062464  -1.406557   \n",
       "16   -3.818863  -7.691997  12.782455 -18.941576   0.416635   7.062464   \n",
       "..         ...        ...        ...        ...        ...        ...   \n",
       "415  24.076212   3.987968   9.603717  14.449409  13.479496  15.934460   \n",
       "416  29.419209  24.076212  15.877617   7.526736  17.377247  13.479496   \n",
       "417  23.974378  29.419209  28.776422   8.523444  16.446438  17.377247   \n",
       "418  22.348548  23.974378  28.537041   8.597736  12.915137  16.446438   \n",
       "419  18.024205  22.348548  26.944263  12.053134  10.326710  12.915137   \n",
       "\n",
       "             6          7          8         9  ...         18         19  \\\n",
       "12   -8.811559  -5.876422  -9.537527 -8.610736  ...  -6.870880 -10.414479   \n",
       "13  -11.971237  -8.811559  -4.718250 -9.537527  ... -13.103352  -6.870880   \n",
       "14   -4.742317 -11.971237  -5.876422 -4.718250  ... -11.078641 -13.103352   \n",
       "15   -3.620935  -4.742317  -8.811559 -5.876422  ... -23.622484 -11.078641   \n",
       "16   -1.406557  -3.620935 -11.971237 -8.811559  ...  -9.145543 -23.622484   \n",
       "..         ...        ...        ...       ...  ...        ...        ...   \n",
       "415   2.721533  -0.570186  -0.030342 -2.645194  ...  -5.008418  -2.881616   \n",
       "416  15.934460   2.721533  -3.654015 -0.030342  ...  -4.186917  -5.008418   \n",
       "417  13.479496  15.934460  -0.570186 -3.654015  ...  -6.329120  -4.186917   \n",
       "418  17.377247  13.479496   2.721533 -0.570186  ...   5.933121  -6.329120   \n",
       "419  16.446438  17.377247  15.934460  2.721533  ...   8.195432   5.933121   \n",
       "\n",
       "            20         21         22         23         24         25  \\\n",
       "12  -12.280805 -22.539744  -3.862890 -12.410080   2.374501   9.848307   \n",
       "13  -10.414479 -12.280805  -3.827599  -9.823005  10.403320   2.374501   \n",
       "14   -6.870880 -10.414479  -6.044788 -15.887835   2.017544  10.403320   \n",
       "15  -13.103352  -6.870880  -7.999546  -5.584725   8.935667   2.017544   \n",
       "16  -11.078641 -13.103352  -7.031180  -8.985496  13.214939   8.935667   \n",
       "..         ...        ...        ...        ...        ...        ...   \n",
       "415  -0.178987   3.182010 -12.331287 -11.242183  18.162507  15.190981   \n",
       "416  -2.881616  -0.178987  -0.051098  -0.189972  11.615687  18.162507   \n",
       "417  -5.008418  -2.881616   3.454851  17.447818   5.580168  11.615687   \n",
       "418  -4.186917  -5.008418  10.450159  10.315818   6.520422   5.580168   \n",
       "419  -6.329120  -4.186917  10.640869  16.134432   5.599452   6.520422   \n",
       "\n",
       "            26         27  \n",
       "12    3.059157  -7.286640  \n",
       "13    9.848307   3.059157  \n",
       "14    2.374501   9.848307  \n",
       "15   10.403320   2.374501  \n",
       "16    2.017544  10.403320  \n",
       "..         ...        ...  \n",
       "415  18.763838  19.803094  \n",
       "416  15.190981  18.763838  \n",
       "417  18.162507  15.190981  \n",
       "418  11.615687  18.162507  \n",
       "419   5.580168  11.615687  \n",
       "\n",
       "[408 rows x 28 columns]"
      ]
     },
     "execution_count": 85,
     "metadata": {},
     "output_type": "execute_result"
    }
   ],
   "source": [
    "df"
   ]
  },
  {
   "cell_type": "code",
   "execution_count": 95,
   "metadata": {},
   "outputs": [
    {
     "data": {
      "text/plain": [
       "array([[  3,  -9],\n",
       "       [  3, -10],\n",
       "       [ 15,  -5],\n",
       "       [ 27,  -1],\n",
       "       [ 29,  -5],\n",
       "       [ 29,  -6],\n",
       "       [ 29,  -7],\n",
       "       [ 29,  -8],\n",
       "       [ 29, -10],\n",
       "       [ 29, -11],\n",
       "       [ 30,  -1],\n",
       "       [ 30,  -2],\n",
       "       [ 30,  -3],\n",
       "       [ 30,  -4],\n",
       "       [ 30,  -5],\n",
       "       [ 30,  -6],\n",
       "       [ 30,  -7],\n",
       "       [ 30,  -8],\n",
       "       [ 30,  -9],\n",
       "       [ 30, -10],\n",
       "       [ 30, -11],\n",
       "       [ 30, -12],\n",
       "       [ 35,  -2],\n",
       "       [ 40,  -4],\n",
       "       [ 41,  -1],\n",
       "       [ 41,  -2],\n",
       "       [ 41,  -3],\n",
       "       [ 41,  -4]])"
      ]
     },
     "execution_count": 95,
     "metadata": {},
     "output_type": "execute_result"
    }
   ],
   "source": [
    "link"
   ]
  },
  {
   "cell_type": "code",
   "execution_count": 121,
   "metadata": {},
   "outputs": [],
   "source": [
    "componenet = 41"
   ]
  },
  {
   "cell_type": "code",
   "execution_count": 122,
   "metadata": {},
   "outputs": [],
   "source": [
    "componenet_index = (link[:,0] == componenet)"
   ]
  },
  {
   "cell_type": "code",
   "execution_count": 123,
   "metadata": {},
   "outputs": [
    {
     "data": {
      "text/plain": [
       "array([False, False, False, False, False, False, False, False, False,\n",
       "       False, False, False, False, False, False, False, False, False,\n",
       "       False, False, False, False, False, False,  True,  True,  True,\n",
       "        True])"
      ]
     },
     "execution_count": 123,
     "metadata": {},
     "output_type": "execute_result"
    }
   ],
   "source": [
    "componenet_index"
   ]
  },
  {
   "cell_type": "code",
   "execution_count": 124,
   "metadata": {},
   "outputs": [],
   "source": [
    "componenet_list = link[componenet_index]"
   ]
  },
  {
   "cell_type": "code",
   "execution_count": 125,
   "metadata": {},
   "outputs": [
    {
     "data": {
      "text/plain": [
       "array([[41, -1],\n",
       "       [41, -2],\n",
       "       [41, -3],\n",
       "       [41, -4]])"
      ]
     },
     "execution_count": 125,
     "metadata": {},
     "output_type": "execute_result"
    }
   ],
   "source": [
    "componenet_list"
   ]
  },
  {
   "cell_type": "code",
   "execution_count": 126,
   "metadata": {},
   "outputs": [],
   "source": [
    "Index = componenet_index.nonzero()[0]"
   ]
  },
  {
   "cell_type": "code",
   "execution_count": 127,
   "metadata": {},
   "outputs": [
    {
     "data": {
      "text/plain": [
       "array([24, 25, 26, 27])"
      ]
     },
     "execution_count": 127,
     "metadata": {},
     "output_type": "execute_result"
    }
   ],
   "source": [
    "Index"
   ]
  },
  {
   "cell_type": "code",
   "execution_count": 128,
   "metadata": {},
   "outputs": [],
   "source": [
    "sorted_index = np.argsort(componenet_list[:,1],axis=0)"
   ]
  },
  {
   "cell_type": "code",
   "execution_count": 129,
   "metadata": {},
   "outputs": [
    {
     "data": {
      "text/plain": [
       "array([3, 2, 1, 0])"
      ]
     },
     "execution_count": 129,
     "metadata": {},
     "output_type": "execute_result"
    }
   ],
   "source": [
    "sorted_index"
   ]
  },
  {
   "cell_type": "code",
   "execution_count": 130,
   "metadata": {},
   "outputs": [
    {
     "data": {
      "text/plain": [
       "array([[41, -1],\n",
       "       [41, -2],\n",
       "       [41, -3],\n",
       "       [41, -4]])"
      ]
     },
     "execution_count": 130,
     "metadata": {},
     "output_type": "execute_result"
    }
   ],
   "source": [
    "componenet_list"
   ]
  },
  {
   "cell_type": "code",
   "execution_count": 131,
   "metadata": {},
   "outputs": [],
   "source": [
    "mx = ma.masked_array(componenet_list)\n",
    "for i in range(len(sorted_index)):\n",
    "    if ma.is_masked(mx[sorted_index[i]]): continue\n",
    "    for j in range(i+1,len(sorted_index)):\n",
    "        if (not ma.is_masked(mx[sorted_index[i]]) and (df.iloc[:,Index[sorted_index[i]]].corr(df.iloc[:,Index[sorted_index[j]]]) > 0.8)):\n",
    "            mx[sorted_index[j]] = ma.masked"
   ]
  },
  {
   "cell_type": "code",
   "execution_count": 132,
   "metadata": {},
   "outputs": [
    {
     "data": {
      "text/plain": [
       "masked_array(\n",
       "  data=[[41, -1],\n",
       "        [41, -2],\n",
       "        [41, -3],\n",
       "        [41, -4]],\n",
       "  mask=False,\n",
       "  fill_value=999999)"
      ]
     },
     "execution_count": 132,
     "metadata": {},
     "output_type": "execute_result"
    }
   ],
   "source": [
    "mx"
   ]
  },
  {
   "cell_type": "code",
   "execution_count": 103,
   "metadata": {},
   "outputs": [
    {
     "data": {
      "text/plain": [
       "array([11, 10,  9,  8,  7,  6,  5,  4,  3,  2,  1,  0])"
      ]
     },
     "execution_count": 103,
     "metadata": {},
     "output_type": "execute_result"
    }
   ],
   "source": [
    "sorted_index"
   ]
  },
  {
   "cell_type": "code",
   "execution_count": 133,
   "metadata": {},
   "outputs": [],
   "source": [
    "i=0"
   ]
  },
  {
   "cell_type": "code",
   "execution_count": 106,
   "metadata": {},
   "outputs": [
    {
     "data": {
      "text/plain": [
       "21"
      ]
     },
     "execution_count": 106,
     "metadata": {},
     "output_type": "execute_result"
    }
   ],
   "source": [
    "Index[sorted_index[i]]"
   ]
  },
  {
   "cell_type": "code",
   "execution_count": 108,
   "metadata": {},
   "outputs": [
    {
     "data": {
      "text/plain": [
       "array([ 30, -12])"
      ]
     },
     "execution_count": 108,
     "metadata": {},
     "output_type": "execute_result"
    }
   ],
   "source": [
    "link[21]"
   ]
  },
  {
   "cell_type": "code",
   "execution_count": null,
   "metadata": {},
   "outputs": [],
   "source": []
  },
  {
   "cell_type": "code",
   "execution_count": 107,
   "metadata": {},
   "outputs": [
    {
     "data": {
      "text/plain": [
       "12    -22.539744\n",
       "13    -12.280805\n",
       "14    -10.414479\n",
       "15     -6.870880\n",
       "16    -13.103352\n",
       "         ...    \n",
       "415     3.182010\n",
       "416    -0.178987\n",
       "417    -2.881616\n",
       "418    -5.008418\n",
       "419    -4.186917\n",
       "Name: 21, Length: 408, dtype: float64"
      ]
     },
     "execution_count": 107,
     "metadata": {},
     "output_type": "execute_result"
    }
   ],
   "source": [
    "df.iloc[:,Index[sorted_index[i]]]"
   ]
  },
  {
   "cell_type": "code",
   "execution_count": 138,
   "metadata": {},
   "outputs": [],
   "source": [
    "j=i+3"
   ]
  },
  {
   "cell_type": "code",
   "execution_count": 139,
   "metadata": {},
   "outputs": [
    {
     "data": {
      "text/plain": [
       "0.4652663873421293"
      ]
     },
     "execution_count": 139,
     "metadata": {},
     "output_type": "execute_result"
    }
   ],
   "source": [
    "df.iloc[:,Index[sorted_index[i]]].corr(df.iloc[:,Index[sorted_index[j]]])"
   ]
  },
  {
   "cell_type": "code",
   "execution_count": 81,
   "metadata": {},
   "outputs": [
    {
     "data": {
      "text/plain": [
       "array([[  3, -10],\n",
       "       [ 15,  -5],\n",
       "       [ 27,  -1],\n",
       "       [ 29,  -5],\n",
       "       [ 29,  -6],\n",
       "       [ 29,  -7],\n",
       "       [ 29,  -8],\n",
       "       [ 29, -10],\n",
       "       [ 29, -11],\n",
       "       [ 30,  -1],\n",
       "       [ 30,  -2],\n",
       "       [ 30,  -3],\n",
       "       [ 30,  -4],\n",
       "       [ 30,  -5],\n",
       "       [ 30,  -6],\n",
       "       [ 30,  -7],\n",
       "       [ 30,  -8],\n",
       "       [ 30,  -9],\n",
       "       [ 30, -10],\n",
       "       [ 30, -11],\n",
       "       [ 30, -12],\n",
       "       [ 35,  -2],\n",
       "       [ 40,  -4],\n",
       "       [ 41,  -1],\n",
       "       [ 41,  -2],\n",
       "       [ 41,  -3],\n",
       "       [ 41,  -4]])"
      ]
     },
     "execution_count": 81,
     "metadata": {},
     "output_type": "execute_result"
    }
   ],
   "source": [
    "\n",
    "    for componenet in componenets:\n",
    "        componenet_index = (link[:,0] == componenet)\n",
    "        componenet_list = link[componenet_index]\n",
    "        Index = componenet_index.nonzero()[0]\n",
    "        sorted_index = np.argsort(componenet_list[:,1],axis=0)\n",
    "        mx = ma.masked_array(componenet_list)\n",
    "        for i in range(len(sorted_index)):\n",
    "            if ma.is_masked(mx[sorted_index[i]]): continue\n",
    "            for j in range(i+1,len(sorted_index)):\n",
    "                if (not ma.is_masked(mx[sorted_index[i]]) and (df.iloc[:,Index[sorted_index[i]]].corr(df.iloc[:,Index[sorted_index[j]]]) > 0.8)):\n",
    "                    mx[sorted_index[j]] = ma.masked\n",
    "\n",
    "        if not np.isscalar(mx.mask):\n",
    "            deleted_index.extend(Index[mx.mask[:,0].nonzero()[0]])\n",
    "    deleted_index = np.array(deleted_index)\n",
    "    link = np.delete(link,deleted_index,axis=0) "
   ]
  },
  {
   "cell_type": "code",
   "execution_count": null,
   "metadata": {},
   "outputs": [],
   "source": []
  },
  {
   "cell_type": "code",
   "execution_count": null,
   "metadata": {},
   "outputs": [],
   "source": []
  },
  {
   "cell_type": "code",
   "execution_count": null,
   "metadata": {},
   "outputs": [],
   "source": []
  },
  {
   "cell_type": "code",
   "execution_count": null,
   "metadata": {},
   "outputs": [],
   "source": []
  },
  {
   "cell_type": "code",
   "execution_count": null,
   "metadata": {},
   "outputs": [],
   "source": []
  },
  {
   "cell_type": "code",
   "execution_count": 2,
   "metadata": {},
   "outputs": [],
   "source": [
    "train_start = 1976\n",
    "validation_end = 2010\n",
    "f = 12\n",
    "cc = 'ET'\n",
    "n_components_sst = 57"
   ]
  },
  {
   "cell_type": "code",
   "execution_count": 3,
   "metadata": {},
   "outputs": [],
   "source": [
    "temporal_limits = {\"time_min\":datetime(train_start, 1, 1, 0, 0),\"time_max\":datetime(validation_end, 12, 1, 0, 0)}\n",
    "original_count, count = ff.drought_timeseries(\"./{}_gamma_18912015_{}.npy\".format(cc,f),train_start,validation_end)"
   ]
  },
  {
   "cell_type": "code",
   "execution_count": 4,
   "metadata": {},
   "outputs": [],
   "source": [
    "data_sst, ts, V, df_sst, avg, std = ff.PCA_computer_rotated('../../../nc/sst.mnmean.nc', \"sst\",temporal_limits, n_components_sst, -9.96921e+36)"
   ]
  },
  {
   "cell_type": "code",
   "execution_count": 94,
   "metadata": {},
   "outputs": [],
   "source": [
    "y = original_count"
   ]
  },
  {
   "cell_type": "code",
   "execution_count": 95,
   "metadata": {},
   "outputs": [],
   "source": [
    "x = ts[:,20]"
   ]
  },
  {
   "cell_type": "code",
   "execution_count": 101,
   "metadata": {},
   "outputs": [],
   "source": [
    "r = []\n",
    "for tau in np.arange(1,13):\n",
    "    r.append(crossMI(x,y,tau,10))"
   ]
  },
  {
   "cell_type": "code",
   "execution_count": 102,
   "metadata": {},
   "outputs": [
    {
     "data": {
      "text/plain": [
       "[(0.13635516760515987, 0.008807370799585976),\n",
       " (0.11373617229994125, 0.1356944078491482),\n",
       " (0.11326945485394589, 0.1454308662194523),\n",
       " (0.11281034567135093, 0.15553195976067463),\n",
       " (0.12508643484417614, 0.04464739236655455),\n",
       " (0.13420765543975544, 0.014811560636947446),\n",
       " (0.12838487597978465, 0.032420658209457484),\n",
       " (0.14814173310785192, 0.0021730763708920522),\n",
       " (0.11061378660206903, 0.21130759935119353),\n",
       " (0.11829930284519549, 0.10847455918816165),\n",
       " (0.13099446204800289, 0.02749775431408723),\n",
       " (0.13013874747098222, 0.03172464785623767)]"
      ]
     },
     "execution_count": 102,
     "metadata": {},
     "output_type": "execute_result"
    }
   ],
   "source": [
    "r"
   ]
  },
  {
   "cell_type": "code",
   "execution_count": 96,
   "metadata": {},
   "outputs": [
    {
     "data": {
      "text/plain": [
       "(0.13821540923000122, 0.006423903980565155)"
      ]
     },
     "execution_count": 96,
     "metadata": {},
     "output_type": "execute_result"
    }
   ],
   "source": [
    "calc_MI(x,y,10)"
   ]
  },
  {
   "cell_type": "code",
   "execution_count": null,
   "metadata": {},
   "outputs": [],
   "source": []
  },
  {
   "cell_type": "code",
   "execution_count": 74,
   "metadata": {},
   "outputs": [],
   "source": [
    "    c_xy = np.histogram2d(x, y, 10)[0]\n",
    "    g, p, dof, expected = chi2_contingency(c_xy, lambda_=\"log-likelihood\")"
   ]
  },
  {
   "cell_type": "code",
   "execution_count": 83,
   "metadata": {},
   "outputs": [],
   "source": [
    "result = []\n",
    "for i in range(ts.shape[1]):\n",
    "    x = ts[:,i]\n",
    "    #result.append(calc_MI(x,y,10)[1])\n",
    "    result.append(stats.pearsonr(x,y)[1])"
   ]
  },
  {
   "cell_type": "code",
   "execution_count": 84,
   "metadata": {},
   "outputs": [],
   "source": [
    "result = np.array(result)"
   ]
  },
  {
   "cell_type": "code",
   "execution_count": 85,
   "metadata": {},
   "outputs": [],
   "source": [
    "b = np.where(result < 0.01)"
   ]
  },
  {
   "cell_type": "code",
   "execution_count": 48,
   "metadata": {},
   "outputs": [
    {
     "data": {
      "text/plain": [
       "21"
      ]
     },
     "execution_count": 48,
     "metadata": {},
     "output_type": "execute_result"
    }
   ],
   "source": [
    "np.count_nonzero(result < 0.05)"
   ]
  },
  {
   "cell_type": "code",
   "execution_count": 57,
   "metadata": {},
   "outputs": [
    {
     "data": {
      "text/plain": [
       "array([ 2,  3,  4,  5,  8,  9, 13, 16, 17, 20, 25, 32, 33, 34, 39, 42, 45,\n",
       "       46, 48, 49, 50])"
      ]
     },
     "execution_count": 57,
     "metadata": {},
     "output_type": "execute_result"
    }
   ],
   "source": [
    "a[0]"
   ]
  },
  {
   "cell_type": "code",
   "execution_count": 58,
   "metadata": {},
   "outputs": [
    {
     "data": {
      "text/plain": [
       "array([ 0,  1,  2,  4,  5,  8,  9, 10, 12, 16, 19, 20, 21, 25, 27, 28, 30,\n",
       "       32, 33, 37, 49, 56])"
      ]
     },
     "execution_count": 58,
     "metadata": {},
     "output_type": "execute_result"
    }
   ],
   "source": [
    "b[0]"
   ]
  },
  {
   "cell_type": "code",
   "execution_count": 86,
   "metadata": {},
   "outputs": [
    {
     "data": {
      "text/plain": [
       "array([ 2,  5,  8, 20, 33, 49])"
      ]
     },
     "execution_count": 86,
     "metadata": {},
     "output_type": "execute_result"
    }
   ],
   "source": [
    "np.intersect1d(a[0],b[0])\n"
   ]
  },
  {
   "cell_type": "code",
   "execution_count": null,
   "metadata": {},
   "outputs": [],
   "source": []
  }
 ],
 "metadata": {
  "kernelspec": {
   "display_name": "Python 3",
   "language": "python",
   "name": "python3"
  },
  "language_info": {
   "codemirror_mode": {
    "name": "ipython",
    "version": 3
   },
   "file_extension": ".py",
   "mimetype": "text/x-python",
   "name": "python",
   "nbconvert_exporter": "python",
   "pygments_lexer": "ipython3",
   "version": "3.6.9"
  }
 },
 "nbformat": 4,
 "nbformat_minor": 2
}
