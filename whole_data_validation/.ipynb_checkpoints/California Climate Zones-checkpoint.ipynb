{
 "cells": [
  {
   "cell_type": "code",
   "execution_count": 1,
   "metadata": {},
   "outputs": [
    {
     "name": "stdout",
     "output_type": "stream",
     "text": [
      "Could not import rpy package\n",
      "Could not import r-package RCIT\n"
     ]
    }
   ],
   "source": [
    "#from statsmodels.tsa.arima_process import ArmaProcess \n",
    "from statsmodels.tsa.stattools import pacf, acf\n",
    "from statsmodels.graphics.tsaplots import plot_pacf, plot_acf\n",
    "import matplotlib.pyplot as plt\n",
    "import numpy as np\n",
    "import math\n",
    "import pandas as pd\n",
    "from pandas import Series\n",
    "import random\n",
    "from sklearn.decomposition import PCA\n",
    "from sklearn.preprocessing import StandardScaler\n",
    "from scipy import eye, asarray, dot, sum, diag\n",
    "from scipy.linalg import svd\n",
    "from mpl_toolkits.basemap import Basemap\n",
    "import matplotlib as mpl\n",
    "from matplotlib import cm\n",
    "from colorspacious import cspace_converter\n",
    "from collections import OrderedDict\n",
    "from netCDF4 import Dataset\n",
    "from numpy import linspace\n",
    "from numpy import meshgrid\n",
    "from sklearn.preprocessing import MinMaxScaler\n",
    "from statsmodels.tsa.stattools import grangercausalitytests\n",
    "\n",
    "import PCA_functions as pf\n",
    "import Extreme_functions as ef\n",
    "\n",
    "from tigramite import plotting as tp\n",
    "from tigramite.pcmci import PCMCI\n",
    "from tigramite.independence_tests import ParCorr, CMIknn\n",
    "import tigramite.data_processing as pp\n",
    "\n",
    "from statsmodels.tsa.stattools import adfuller\n",
    "from Data import Data\n",
    "from datetime import datetime\n",
    "\n",
    "from sklearn.manifold import TSNE, MDS, Isomap\n",
    "from sklearn.cluster import AgglomerativeClustering, DBSCAN\n",
    "\n",
    "import itertools\n",
    "from collections import Counter\n",
    "import pickle\n",
    "\n",
    "from numpy import linalg as LA\n",
    "\n",
    "import matplotlib.cm as cm\n",
    "\n",
    "from scipy.special import inv_boxcox\n",
    "from scipy import stats\n",
    "\n",
    "from matplotlib import animation\n",
    "\n",
    "import scipy.stats as st\n",
    "\n",
    "import reverse_geocoder as rg\n",
    "\n",
    "from pandas_datareader import wb\n",
    "import scipy.stats as st\n",
    "\n",
    "plt.rcParams[\"figure.figsize\"] = (5,5)\n",
    "\n",
    "from pandas_datareader import wb\n",
    "\n",
    "import seaborn as sns\n",
    "\n",
    "from sklearn import preprocessing\n",
    "import Rung as rung\n",
    "\n",
    "import reverse_geocoder as rg\n",
    "from datetime import datetime\n",
    "\n",
    "plt.rcParams[\"figure.figsize\"] = (20,10)\n",
    "from scipy import signal"
   ]
  },
  {
   "cell_type": "code",
   "execution_count": 2,
   "metadata": {},
   "outputs": [],
   "source": [
    "sst = Data('../../../nc/Cal_18912015.nc','precip', missing_value= -9.96921e+36)\n",
    "\n",
    "result = sst.get_data()\n",
    "lon_list = sst.get_lon_list()\n",
    "lat_list = sst.get_lat_list()"
   ]
  },
  {
   "cell_type": "code",
   "execution_count": 4,
   "metadata": {},
   "outputs": [],
   "source": [
    "import eeweather"
   ]
  },
  {
   "cell_type": "code",
   "execution_count": 27,
   "metadata": {},
   "outputs": [
    {
     "data": {
      "text/plain": [
       "array([42.25, 41.75, 41.25, 40.75, 40.25, 39.75, 39.25, 38.75, 38.25,\n",
       "       37.75, 37.25, 36.75, 36.25, 35.75, 35.25, 34.75, 34.25, 33.75,\n",
       "       33.25, 32.75], dtype=float32)"
      ]
     },
     "execution_count": 27,
     "metadata": {},
     "output_type": "execute_result"
    }
   ],
   "source": [
    "sst.get_lat()"
   ]
  },
  {
   "cell_type": "code",
   "execution_count": 29,
   "metadata": {},
   "outputs": [
    {
     "data": {
      "text/plain": [
       "125.75"
      ]
     },
     "execution_count": 29,
     "metadata": {},
     "output_type": "execute_result"
    }
   ],
   "source": [
    "360 - 234.25"
   ]
  },
  {
   "cell_type": "code",
   "execution_count": 30,
   "metadata": {},
   "outputs": [
    {
     "data": {
      "text/plain": [
       "114.25"
      ]
     },
     "execution_count": 30,
     "metadata": {},
     "output_type": "execute_result"
    }
   ],
   "source": [
    "360 - 245.75"
   ]
  },
  {
   "cell_type": "code",
   "execution_count": 28,
   "metadata": {},
   "outputs": [
    {
     "data": {
      "text/plain": [
       "array([234.25, 234.75, 235.25, 235.75, 236.25, 236.75, 237.25, 237.75,\n",
       "       238.25, 238.75, 239.25, 239.75, 240.25, 240.75, 241.25, 241.75,\n",
       "       242.25, 242.75, 243.25, 243.75, 244.25, 244.75, 245.25, 245.75],\n",
       "      dtype=float32)"
      ]
     },
     "execution_count": 28,
     "metadata": {},
     "output_type": "execute_result"
    }
   ],
   "source": [
    "sst.get_lon()"
   ]
  },
  {
   "cell_type": "code",
   "execution_count": null,
   "metadata": {},
   "outputs": [],
   "source": [
    "import eeweather\n",
    ">>> ranked_stations = eeweather.rank_stations(35, -95)\n",
    ">>> station, warnings = eeweather.select_station(ranked_stations)\n",
    ">>> station\n",
    "ISDStation('720627')\n",
    ">>> ranked_stations.loc[station.usaf_id]"
   ]
  },
  {
   "cell_type": "code",
   "execution_count": 5,
   "metadata": {},
   "outputs": [],
   "source": [
    "i = 0\n",
    "lon, lat = lon_list[i], lat_list[i]\n",
    "if lon > 180: lon -= 360"
   ]
  },
  {
   "cell_type": "code",
   "execution_count": 11,
   "metadata": {},
   "outputs": [],
   "source": [
    "ranked_stations = eeweather.rank_stations(lat, lon)\n",
    "station, warnings = eeweather.select_station(ranked_stations)"
   ]
  },
  {
   "cell_type": "code",
   "execution_count": 19,
   "metadata": {},
   "outputs": [
    {
     "data": {
      "text/plain": [
       "'4'"
      ]
     },
     "execution_count": 19,
     "metadata": {},
     "output_type": "execute_result"
    }
   ],
   "source": [
    "ranked_stations.loc[station.usaf_id].iecc_climate_zone"
   ]
  },
  {
   "cell_type": "code",
   "execution_count": 17,
   "metadata": {},
   "outputs": [
    {
     "data": {
      "text/plain": [
       "'4'"
      ]
     },
     "execution_count": 17,
     "metadata": {},
     "output_type": "execute_result"
    }
   ],
   "source": [
    "a.iecc_climate_zone"
   ]
  },
  {
   "cell_type": "code",
   "execution_count": 24,
   "metadata": {},
   "outputs": [],
   "source": [
    "class_list = []\n",
    "for i in range(len(lon_list)):\n",
    "    lon, lat = lon_list[i], lat_list[i]\n",
    "    if lon > 180: lon -= 360\n",
    "    ranked_stations = eeweather.rank_stations(lat, lon)\n",
    "    station, warnings = eeweather.select_station(ranked_stations)\n",
    "    class_list.append(ranked_stations.loc[station.usaf_id].ca_climate_zone)\n"
   ]
  },
  {
   "cell_type": "code",
   "execution_count": 25,
   "metadata": {},
   "outputs": [
    {
     "data": {
      "text/plain": [
       "array([None, None, None, None, 'CA_01', 'CA_01', None, None, None, None,\n",
       "       None, 'CA_01', 'CA_01', None, 'CA_01', 'CA_01', 'CA_01', None,\n",
       "       'CA_16', 'CA_16', 'CA_16', 'CA_16', 'CA_01', 'CA_02', None, None,\n",
       "       None, None, 'CA_16', 'CA_16', 'CA_16', 'CA_11', 'CA_11', 'CA_02',\n",
       "       'CA_02', 'CA_02', None, None, 'CA_16', 'CA_16', 'CA_11', 'CA_11',\n",
       "       'CA_11', 'CA_11', 'CA_12', 'CA_02', 'CA_03', 'CA_04', None, None,\n",
       "       None, None, 'CA_16', 'CA_16', 'CA_11', 'CA_11', 'CA_11', 'CA_12',\n",
       "       'CA_12', 'CA_12', 'CA_04', 'CA_03', 'CA_03', None, None, None,\n",
       "       'CA_16', 'CA_16', 'CA_16', 'CA_11', 'CA_11', 'CA_12', 'CA_12',\n",
       "       'CA_12', 'CA_12', 'CA_04', 'CA_04', 'CA_05', 'CA_05', None,\n",
       "       'CA_16', 'CA_16', 'CA_16', 'CA_16', 'CA_16', 'CA_16', 'CA_12',\n",
       "       'CA_12', 'CA_12', 'CA_12', 'CA_04', 'CA_04', 'CA_04', 'CA_05',\n",
       "       'CA_05', None, None, 'CA_16', 'CA_16', 'CA_16', 'CA_16', None,\n",
       "       'CA_16', 'CA_16', 'CA_12', 'CA_12', 'CA_12', 'CA_13', 'CA_13',\n",
       "       'CA_04', 'CA_05', 'CA_05', 'CA_06', None, None, None, 'CA_16',\n",
       "       'CA_16', None, None, None, 'CA_16', 'CA_16', 'CA_12', 'CA_13',\n",
       "       'CA_13', 'CA_13', 'CA_13', 'CA_13', 'CA_05', None, None, None,\n",
       "       None, None, 'CA_16', None, None, None, None, 'CA_16', 'CA_16',\n",
       "       'CA_16', 'CA_16', 'CA_13', 'CA_13', 'CA_13', 'CA_13', 'CA_13',\n",
       "       'CA_06', None, None, None, None, None, None, None, None, None,\n",
       "       None, None, 'CA_16', 'CA_16', 'CA_13', 'CA_13', 'CA_13', 'CA_16',\n",
       "       'CA_16', 'CA_09', 'CA_06', None, None, None, None, None, None,\n",
       "       None, None, None, None, None, 'CA_16', 'CA_16', 'CA_16', 'CA_14',\n",
       "       'CA_14', 'CA_16', 'CA_14', 'CA_09', None, None, None, None, None,\n",
       "       None, None, None, None, None, None, None, None, 'CA_16', 'CA_16',\n",
       "       'CA_16', 'CA_14', 'CA_14', 'CA_14', 'CA_10', 'CA_08', 'CA_06',\n",
       "       None, None, None, None, None, None, None, None, None, None, None,\n",
       "       'CA_16', 'CA_16', 'CA_14', 'CA_14', 'CA_14', 'CA_10', 'CA_10',\n",
       "       'CA_07', None, None, None, None, None, None, None, None, None,\n",
       "       None, None, None, 'CA_16', 'CA_16', 'CA_14', 'CA_14', 'CA_14',\n",
       "       'CA_16', 'CA_15', 'CA_10', 'CA_10', None, None, None, None, None,\n",
       "       None, None, None, None, None, None, None, None, 'CA_14', 'CA_14',\n",
       "       'CA_14', 'CA_14', 'CA_15', 'CA_15', 'CA_14', None, None, None,\n",
       "       None, None, None, None, None, None, None, None, None, None, None,\n",
       "       'CA_14', 'CA_14', 'CA_14', 'CA_15', 'CA_15', 'CA_15', None, None,\n",
       "       None, None, None, None, None, None, None, None, None, None, None,\n",
       "       None, None, 'CA_15', 'CA_15', 'CA_15', 'CA_15', 'CA_15', None,\n",
       "       None, None, None, None, None, None, None, None, None, None, None,\n",
       "       None, None, None, 'CA_15', 'CA_15', 'CA_15', 'CA_15', None, None,\n",
       "       None, None, None, None, None, None, None, None, None, None, None,\n",
       "       None, None, None, 'CA_15', 'CA_15', 'CA_15', None, None],\n",
       "      dtype=object)"
      ]
     },
     "execution_count": 25,
     "metadata": {},
     "output_type": "execute_result"
    }
   ],
   "source": [
    "np.array(class_list) == "
   ]
  },
  {
   "cell_type": "code",
   "execution_count": null,
   "metadata": {},
   "outputs": [],
   "source": []
  }
 ],
 "metadata": {
  "kernelspec": {
   "display_name": "Python 3",
   "language": "python",
   "name": "python3"
  },
  "language_info": {
   "codemirror_mode": {
    "name": "ipython",
    "version": 3
   },
   "file_extension": ".py",
   "mimetype": "text/x-python",
   "name": "python",
   "nbconvert_exporter": "python",
   "pygments_lexer": "ipython3",
   "version": "3.6.9"
  }
 },
 "nbformat": 4,
 "nbformat_minor": 2
}
