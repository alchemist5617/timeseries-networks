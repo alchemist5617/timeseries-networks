{
 "cells": [
  {
   "cell_type": "code",
   "execution_count": 3,
   "metadata": {},
   "outputs": [],
   "source": [
    "import tensorflow as tf\n",
    "from tensorflow import keras\n",
    "from tensorflow.keras import layers\n",
    "import pandas as pd\n",
    "import numpy as np\n",
    "import matplotlib.pyplot as plt\n",
    "import math\n",
    "from sklearn.metrics import mean_squared_error\n",
    "import csv\n",
    "import scipy.stats as stats\n",
    "from tensorboard.plugins.hparams import api as hp\n",
    "import scipy.stats as stats\n",
    "plt.rcParams[\"figure.figsize\"] = (20,10)\n",
    "\n",
    "import seaborn as sns\n",
    "from Data import Data\n",
    "from datetime import datetime\n",
    "import feature_finder_keiko as ff\n",
    "import h5py"
   ]
  },
  {
   "cell_type": "code",
   "execution_count": 6,
   "metadata": {},
   "outputs": [],
   "source": [
    "tau = 6\n",
    "\n",
    "n_components_sst = 98\n",
    "\n",
    "link_caus = np.load(\"./link_rotated_station/best_link_1976_2010_{}.npy\".format(tau))\n",
    "link_corr = np.load(\"./link_rotated_station/best_link_corr_1976_2010_{}.npy\".format(tau))"
   ]
  },
  {
   "cell_type": "code",
   "execution_count": 8,
   "metadata": {},
   "outputs": [],
   "source": [
    "file_name = '../../../nc/sst.mnmean.nc'"
   ]
  },
  {
   "cell_type": "code",
   "execution_count": 10,
   "metadata": {},
   "outputs": [],
   "source": [
    "train_start = 1976\n",
    "validation_end = 2010\n",
    "\n",
    "temporal_limits = {\"time_min\":datetime(train_start, 1, 1, 0, 0),\"time_max\":datetime(validation_end, 12, 1, 0, 0)}\n",
    "original_count, count = ff.drought_timeseries(\"../npy_files/ET_gamma_18912015.npy\",train_start,validation_end)\n",
    "#data_sst, ts, V, df_sst, avg, std = ff.PCA_computer_rotated(file_name, \"sst\",temporal_limits, n_components_sst, -9.96921e+36)"
   ]
  },
  {
   "cell_type": "code",
   "execution_count": 11,
   "metadata": {},
   "outputs": [],
   "source": [
    "data_sst = np.load(\"data_sst.npy\")\n",
    "V = np.load(\"V.npy\")\n",
    "ts = np.load(\"ts.npy\")\n",
    "avg = np.load(\"avg.npy\")\n",
    "std = np.load(\"std.npy\")\n",
    "data_sst_test = np.load(\"data_sst_test.npy\")"
   ]
  },
  {
   "cell_type": "code",
   "execution_count": 14,
   "metadata": {},
   "outputs": [],
   "source": [
    "df_sst = pd.read_csv(\"df_sst.csv\")"
   ]
  },
  {
   "cell_type": "code",
   "execution_count": 13,
   "metadata": {},
   "outputs": [],
   "source": [
    "test_start = 2011\n",
    "test_end = 2015\n",
    "\n",
    "temporal_limits_test = {\"time_min\":datetime(test_start, 1, 1, 0, 0),\"time_max\":datetime(test_end, 12, 1, 0, 0)}\n",
    "#data_sst_test = ff.data_generator_avg_std('../../../nc/sst.mnmean.nc', \"sst\",temporal_limits_test, avg, std, 12, -9.96921e+36)\n",
    "original_count_test, count_test = ff.drought_timeseries(\"../npy_files/ET_gamma_18912015.npy\",test_start,test_end)"
   ]
  },
  {
   "cell_type": "code",
   "execution_count": 20,
   "metadata": {},
   "outputs": [],
   "source": [
    "del df_sst[\"Unnamed: 0\"]"
   ]
  },
  {
   "cell_type": "code",
   "execution_count": 23,
   "metadata": {},
   "outputs": [],
   "source": [
    "link = link_caus\n",
    "\n",
    "start_lag = tau\n",
    "end_lag = tau+12\n",
    "\n",
    "df = pd.DataFrame({\"drought\": original_count})\n",
    "lags = np.arange(start_lag,end_lag + 1)\n",
    "df = df.assign(**{\n",
    "'{} (t-{})'.format(col, t): df[col].shift(t)\n",
    "for t in lags\n",
    "for col in df\n",
    "})\n",
    "for k in range(len(link)):\n",
    "    df[str(k)] = ff.time_series_maker_V(data_sst, V[:,link[k,0]-1])\n",
    "    df[str(k)] = df[str(k)].shift(abs(link[k,1]))\n",
    "df = df.dropna()\n",
    "\n",
    "x_train = df.iloc[:,1:]\n",
    "y_train = df.iloc[:,0]"
   ]
  },
  {
   "cell_type": "code",
   "execution_count": 25,
   "metadata": {},
   "outputs": [],
   "source": [
    "start_lag = tau\n",
    "end_lag = tau + 12\n",
    "\n",
    "df_test = pd.DataFrame({\"drought\":original_count_test})\n",
    "lags = np.arange(start_lag,end_lag + 1)\n",
    "df_test = df_test.assign(**{\n",
    "'{} (t-{})'.format(col, t): df_test[col].shift(t)\n",
    "for t in lags\n",
    "for col in df_test\n",
    "})\n",
    "for k in range(len(link)):\n",
    "    df_sst[\"pc\"] = V[:,link[k,0]-1]\n",
    "    df_test[str(k)] = ff.time_series_maker(link[k,0]-1, df_sst, data_sst_test)\n",
    "    df_test[str(k)] = df_test[str(k)].shift(abs(link[k,1]))\n",
    "df_test = df_test.dropna()\n",
    "\n",
    "x_test = df_test.iloc[:,1:]\n",
    "y_test = df_test.iloc[:,0]"
   ]
  },
  {
   "cell_type": "code",
   "execution_count": 29,
   "metadata": {},
   "outputs": [
    {
     "name": "stdout",
     "output_type": "stream",
     "text": [
      "The tensorboard extension is already loaded. To reload it, use:\n",
      "  %reload_ext tensorboard\n"
     ]
    }
   ],
   "source": [
    "!rm -rf ./logs/\n",
    "\n",
    "%load_ext tensorboard"
   ]
  },
  {
   "cell_type": "code",
   "execution_count": 38,
   "metadata": {},
   "outputs": [
    {
     "name": "stdout",
     "output_type": "stream",
     "text": [
      "--- Starting trial: run-0\n",
      "{'num_units 1': 32, 'num_units 2': 32, 'dropout': 0.29, 'l2 regularizer': 0.009, 'optimizer': 'RMSprop'}\n",
      "42/42 [==============================] - 0s 1ms/sample - loss: 1320224.9673 - RootMeanSquaredError: 1149.0104\n",
      "mis_rmse 1149.0103759765625\n",
      "--- Starting trial: run-1\n",
      "{'num_units 1': 32, 'num_units 2': 32, 'dropout': 0.29, 'l2 regularizer': 0.009, 'optimizer': 'adam'}\n",
      "42/42 [==============================] - 0s 1ms/sample - loss: 1093924.0536 - RootMeanSquaredError: 1045.9082\n",
      "mis_rmse 1045.908203125\n",
      "--- Starting trial: run-2\n",
      "{'num_units 1': 32, 'num_units 2': 32, 'dropout': 0.29, 'l2 regularizer': 0.009, 'optimizer': 'sgd'}\n",
      "42/42 [==============================] - 0s 2ms/sample - loss: nan - RootMeanSquaredError: nan\n",
      "--- Starting trial: run-3\n",
      "{'num_units 1': 32, 'num_units 2': 32, 'dropout': 0.29, 'l2 regularizer': 0.01, 'optimizer': 'RMSprop'}\n",
      "42/42 [==============================] - 0s 2ms/sample - loss: 1141024.7500 - RootMeanSquaredError: 1068.1875\n",
      "--- Starting trial: run-4\n",
      "{'num_units 1': 32, 'num_units 2': 32, 'dropout': 0.29, 'l2 regularizer': 0.01, 'optimizer': 'adam'}\n",
      "42/42 [==============================] - 0s 1ms/sample - loss: 908524.2857 - RootMeanSquaredError: 953.1653\n",
      "mis_rmse 953.1653442382812\n",
      "--- Starting trial: run-5\n",
      "{'num_units 1': 32, 'num_units 2': 32, 'dropout': 0.29, 'l2 regularizer': 0.01, 'optimizer': 'sgd'}\n",
      "42/42 [==============================] - 0s 1ms/sample - loss: nan - RootMeanSquaredError: nan\n",
      "--- Starting trial: run-6\n",
      "{'num_units 1': 32, 'num_units 2': 32, 'dropout': 0.3, 'l2 regularizer': 0.009, 'optimizer': 'RMSprop'}\n",
      "42/42 [==============================] - 0s 1ms/sample - loss: 418930.7946 - RootMeanSquaredError: 647.2486\n",
      "mis_rmse 647.2485961914062\n",
      "--- Starting trial: run-7\n",
      "{'num_units 1': 32, 'num_units 2': 32, 'dropout': 0.3, 'l2 regularizer': 0.009, 'optimizer': 'adam'}\n",
      "42/42 [==============================] - 0s 2ms/sample - loss: 1710779.7798 - RootMeanSquaredError: 1307.9678\n",
      "--- Starting trial: run-8\n",
      "{'num_units 1': 32, 'num_units 2': 32, 'dropout': 0.3, 'l2 regularizer': 0.009, 'optimizer': 'sgd'}\n",
      "42/42 [==============================] - 0s 1ms/sample - loss: nan - RootMeanSquaredError: nan\n",
      "--- Starting trial: run-9\n",
      "{'num_units 1': 32, 'num_units 2': 32, 'dropout': 0.3, 'l2 regularizer': 0.01, 'optimizer': 'RMSprop'}\n",
      "42/42 [==============================] - 0s 1ms/sample - loss: 769349.0863 - RootMeanSquaredError: 877.1254\n",
      "--- Starting trial: run-10\n",
      "{'num_units 1': 32, 'num_units 2': 32, 'dropout': 0.3, 'l2 regularizer': 0.01, 'optimizer': 'adam'}\n",
      "42/42 [==============================] - 0s 2ms/sample - loss: 440117.8958 - RootMeanSquaredError: 663.4138\n",
      "--- Starting trial: run-11\n",
      "{'num_units 1': 32, 'num_units 2': 32, 'dropout': 0.3, 'l2 regularizer': 0.01, 'optimizer': 'sgd'}\n",
      "42/42 [==============================] - 0s 1ms/sample - loss: nan - RootMeanSquaredError: nan\n"
     ]
    }
   ],
   "source": [
    "HP_NUM_UNITS1 = hp.HParam('num_units 1', hp.Discrete([32])) \n",
    "HP_NUM_UNITS2 = hp.HParam('num_units 2', hp.Discrete([32]))\n",
    "HP_DROPOUT = hp.HParam('dropout', hp.RealInterval(0.29,0.3))\n",
    "HP_OPTIMIZER = hp.HParam('optimizer', hp.Discrete(['adam', 'sgd','RMSprop']))\n",
    "HP_L2 = hp.HParam('l2 regularizer', hp.RealInterval(.009,.01))\n",
    "METRIC_RMSE = 'RootMeanSquaredError'\n",
    "\n",
    "with tf.summary.create_file_writer('logs/hparam_tuning').as_default():\n",
    "    hp.hparams_config(\n",
    "    hparams=[HP_NUM_UNITS1,HP_NUM_UNITS2, HP_DROPOUT,HP_L2 ,HP_OPTIMIZER],\n",
    "    metrics=[hp.Metric(METRIC_RMSE, display_name='RMSE')],\n",
    "  )\n",
    "\n",
    "def train_test_model(hparams):\n",
    "    model = tf.keras.Sequential([\n",
    "        tf.keras.layers.InputLayer(input_shape = x_train.shape[1]),\n",
    "        layers.Dense(hparams[HP_NUM_UNITS1], kernel_regularizer=tf.keras.regularizers.l2(0.001), activation=tf.nn.relu),\n",
    "        layers.Dropout(hparams[HP_DROPOUT]),\n",
    "        layers.Dense(hparams[HP_NUM_UNITS2], kernel_regularizer=tf.keras.regularizers.l2(0.001), activation=tf.nn.relu),\n",
    "        layers.Dense(1)\n",
    "    ])\n",
    "\n",
    "    model.compile(optimizer=hparams[HP_OPTIMIZER],\n",
    "                loss='mean_squared_error',\n",
    "                metrics=['RootMeanSquaredError'])\n",
    "\n",
    "    model.fit(x_train, y_train, epochs=100,verbose=False) \n",
    "    _, rmse = model.evaluate(x_test, y_test)\n",
    "    return rmse\n",
    "\n",
    "def run(run_dir, hparams):\n",
    "    with tf.summary.create_file_writer(run_dir).as_default():\n",
    "        hp.hparams(hparams)  # record the values used in this trial\n",
    "        rmse = train_test_model(hparams)\n",
    "        tf.summary.scalar(METRIC_RMSE, rmse, step=1)\n",
    "    return(rmse, hparams)\n",
    "\n",
    "session_num = 0\n",
    "min_rmse = float('inf')\n",
    "best_hparams = {}\n",
    "for num_units1 in HP_NUM_UNITS1.domain.values:\n",
    "    for num_units2 in HP_NUM_UNITS2.domain.values:\n",
    "        for dropout_rate in (HP_DROPOUT.domain.min_value, HP_DROPOUT.domain.max_value):\n",
    "            for l2 in (HP_L2.domain.min_value, HP_L2.domain.max_value):\n",
    "                for optimizer in HP_OPTIMIZER.domain.values:\n",
    "                    hparams = {\n",
    "                        HP_NUM_UNITS1: num_units1,\n",
    "                        HP_NUM_UNITS2: num_units2,\n",
    "                        HP_DROPOUT: dropout_rate,\n",
    "                        HP_L2: l2,\n",
    "                        HP_OPTIMIZER: optimizer\n",
    "                    }\n",
    "                    run_name = \"run-%d\" % session_num\n",
    "                    print('--- Starting trial: %s' % run_name)\n",
    "                    print({h.name: hparams[h] for h in hparams})\n",
    "                    rmse, current_hparams = run('logs/hparam_tuning/' + run_name, hparams)\n",
    "                    if (~np.isnan(rmse)) and (rmse < min_rmse): \n",
    "                        best_hparams = current_hparams\n",
    "                        min_rmse = rmse\n",
    "                        print(\"mis_rmse {}\".format(min_rmse))\n",
    "                    session_num += 1"
   ]
  },
  {
   "cell_type": "code",
   "execution_count": 28,
   "metadata": {},
   "outputs": [
    {
     "data": {
      "text/html": [
       "\n",
       "      <iframe id=\"tensorboard-frame-a7ef26de7d0d0700\" width=\"100%\" height=\"800\" frameborder=\"0\">\n",
       "      </iframe>\n",
       "      <script>\n",
       "        (function() {\n",
       "          const frame = document.getElementById(\"tensorboard-frame-a7ef26de7d0d0700\");\n",
       "          const url = new URL(\"/\", window.location);\n",
       "          url.port = 6006;\n",
       "          frame.src = url;\n",
       "        })();\n",
       "      </script>\n",
       "  "
      ],
      "text/plain": [
       "<IPython.core.display.HTML object>"
      ]
     },
     "metadata": {},
     "output_type": "display_data"
    }
   ],
   "source": [
    "%tensorboard --logdir logs/hparam_tuning"
   ]
  },
  {
   "cell_type": "code",
   "execution_count": null,
   "metadata": {},
   "outputs": [],
   "source": []
  }
 ],
 "metadata": {
  "kernelspec": {
   "display_name": "Python 3",
   "language": "python",
   "name": "python3"
  },
  "language_info": {
   "codemirror_mode": {
    "name": "ipython",
    "version": 3
   },
   "file_extension": ".py",
   "mimetype": "text/x-python",
   "name": "python",
   "nbconvert_exporter": "python",
   "pygments_lexer": "ipython3",
   "version": "3.6.9"
  }
 },
 "nbformat": 4,
 "nbformat_minor": 2
}
