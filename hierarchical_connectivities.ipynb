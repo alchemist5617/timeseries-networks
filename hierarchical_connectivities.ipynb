{
 "cells": [
  {
   "cell_type": "code",
   "execution_count": 1,
   "metadata": {},
   "outputs": [],
   "source": [
    "import numpy as np\n",
    "import random\n",
    "import matplotlib.pyplot as plt"
   ]
  },
  {
   "cell_type": "code",
   "execution_count": 2,
   "metadata": {},
   "outputs": [],
   "source": [
    "def adjacency_maker(row):\n",
    "    \"\"\"Constructing a circulant adjacency matrix from a row.\n",
    "    Shifting the row cyclically one position to the right in \n",
    "    order to obtain successive rows.\n",
    "    Parameters\n",
    "    ----------\n",
    "    row : ndarray\n",
    "        The first row of the matrix\n",
    "    Returns\n",
    "    -------\n",
    "    adjacency_matrix : circulant adjacency matrix\n",
    "    \"\"\"\n",
    "    \n",
    "    #initialization of the matrix\n",
    "    N = len(row)\n",
    "    adjacency_matrix = np.zeros((N,N))\n",
    "    \n",
    "    #shifting the input row to the right \n",
    "    for z in range(N):\n",
    "        adjacency_matrix[z,:] = np.roll(row,z)\n",
    "        \n",
    "    return(adjacency_matrix)"
   ]
  },
  {
   "cell_type": "code",
   "execution_count": 3,
   "metadata": {},
   "outputs": [],
   "source": [
    "def hierarchical_connectivities(base,n,m):\n",
    "    \"\"\"Construction of the hierarchical network connectivity. \n",
    "    Parameters\n",
    "    ----------\n",
    "    base : ndarray\n",
    "        The base pattern is containing zeros and non-zero values.\n",
    "    n : int\n",
    "        The last hierarchical step which defines the size of the resulting network\n",
    "    m : int\n",
    "        The number of hierarchical steps (m <= n).\n",
    "    Returns\n",
    "    -------\n",
    "    C    : Coupling matrix (Adjacency matrix).\n",
    "    c_nm : The number of links for the network at hierarchical step m.\n",
    "    \"\"\"\n",
    "    \n",
    "    #converting base to boolean\n",
    "    base = np.array(base).astype('bool')\n",
    "    \n",
    "    #length of the base pattern\n",
    "    b = len(base)\n",
    "    \n",
    "    #The number of ones in the base pattern and the number of links in the network.\n",
    "    c_1 = np.count_nonzero(base)\n",
    "    c_nm = (c_1**m) * (b**(n-m))\n",
    "    \n",
    "    #initialization of the row of the coupling matrix\n",
    "    row = list(np.copy(base))\n",
    "    \n",
    "    #performing the fractal construction algorithm of a Cantor set\n",
    "    for i in range(1,m):\n",
    "        temp = []\n",
    "        for j in range(len(row)):\n",
    "            if row[j]:\n",
    "                temp = temp + list(base)\n",
    "            if not row[j]:\n",
    "                temp = temp + ([False]*len(base))\n",
    "        row = list(np.copy(temp))\n",
    "    \n",
    "\n",
    "    if m < n:\n",
    "        final_n = b**(n-m)\n",
    "        temp = []\n",
    "        for j in range(len(row)):\n",
    "            if row[j]:\n",
    "                temp = temp + ([True]*final_n)\n",
    "            if not row[j]:\n",
    "                temp = temp + ([False]*final_n)\n",
    "        row = list(np.copy(temp))\n",
    "    \n",
    "    #adding an additional zero corresponds to the self-coupling\n",
    "    row.insert(0,False) \n",
    "    \n",
    "    #constructing the coupling matrix\n",
    "    C = adjacency_maker(row)\n",
    "    \n",
    "    return(C, c_nm)"
   ]
  },
  {
   "cell_type": "code",
   "execution_count": 4,
   "metadata": {},
   "outputs": [],
   "source": [
    "def logisticmap(x, a):\n",
    "    return x * a * (1 - x)"
   ]
  },
  {
   "cell_type": "code",
   "execution_count": 5,
   "metadata": {},
   "outputs": [],
   "source": [
    "def timeseries_maker(C, T, a, c_nm, sigma):\n",
    "    N = C.shape[0]\n",
    "    data = np.zeros((T,N))\n",
    "    data[0,:] = np.random.random((1,N))\n",
    "    for i in range(N):\n",
    "        for j in range(1, T):\n",
    "            data[j,i] = logisticmap(data[j-1,i], a) + (sigma/c_nm)*np.matmul((np.array([logisticmap(data[j-1,i], a)]*N) \n",
    "                                               - np.array(list(map(lambda d: logisticmap(d, a), \n",
    "                                                                   list(data[j-1,:]))))),C[i,:])\n",
    "    return(data)"
   ]
  },
  {
   "cell_type": "code",
   "execution_count": 13,
   "metadata": {},
   "outputs": [],
   "source": [
    "#np.matmul(np.array([logisticmap(data[j-1,i], a)]*N) - np.array(list(map(lambda d: logisticmap(d, a), list(data[j-1,:])))),C[i,:])\n"
   ]
  },
  {
   "cell_type": "code",
   "execution_count": 7,
   "metadata": {},
   "outputs": [],
   "source": [
    "C, c_nm = hierarchical_connectivities([1,0,1],3,3)"
   ]
  },
  {
   "cell_type": "code",
   "execution_count": 8,
   "metadata": {},
   "outputs": [],
   "source": [
    "T = 100"
   ]
  },
  {
   "cell_type": "code",
   "execution_count": 9,
   "metadata": {},
   "outputs": [
    {
     "name": "stderr",
     "output_type": "stream",
     "text": [
      "/home/mathsys2/anaconda3/lib/python3.6/site-packages/ipykernel_launcher.py:2: RuntimeWarning: overflow encountered in double_scalars\n",
      "  \n",
      "/home/mathsys2/anaconda3/lib/python3.6/site-packages/ipykernel_launcher.py:9: RuntimeWarning: invalid value encountered in subtract\n",
      "  if __name__ == '__main__':\n",
      "/home/mathsys2/anaconda3/lib/python3.6/site-packages/ipykernel_launcher.py:9: RuntimeWarning: invalid value encountered in matmul\n",
      "  if __name__ == '__main__':\n"
     ]
    }
   ],
   "source": [
    "d=timeseries_maker(C, T, 1, c_nm, 0.2)"
   ]
  },
  {
   "cell_type": "code",
   "execution_count": 12,
   "metadata": {},
   "outputs": [
    {
     "data": {
      "text/plain": [
       "(100, 28)"
      ]
     },
     "execution_count": 12,
     "metadata": {},
     "output_type": "execute_result"
    }
   ],
   "source": [
    "d.shape"
   ]
  },
  {
   "cell_type": "code",
   "execution_count": 14,
   "metadata": {},
   "outputs": [
    {
     "data": {
      "text/plain": [
       "[<matplotlib.lines.Line2D at 0x7f3802c3b390>]"
      ]
     },
     "execution_count": 14,
     "metadata": {},
     "output_type": "execute_result"
    },
    {
     "data": {
      "image/png": "[encoded data removed]",
      "text/plain": [
       "<Figure size 432x288 with 1 Axes>"
      ]
     },
     "metadata": {},
     "output_type": "display_data"
    }
   ],
   "source": [
    "plt.plot(d[:,22])"
   ]
  },
  {
   "cell_type": "code",
   "execution_count": null,
   "metadata": {},
   "outputs": [],
   "source": []
  },
  {
   "cell_type": "code",
   "execution_count": null,
   "metadata": {},
   "outputs": [],
   "source": []
  },
  {
   "cell_type": "code",
   "execution_count": null,
   "metadata": {},
   "outputs": [],
   "source": []
  },
  {
   "cell_type": "code",
   "execution_count": null,
   "metadata": {},
   "outputs": [],
   "source": []
  },
  {
   "cell_type": "code",
   "execution_count": null,
   "metadata": {},
   "outputs": [],
   "source": []
  }
 ],
 "metadata": {
  "kernelspec": {
   "display_name": "Python 3",
   "language": "python",
   "name": "python3"
  },
  "language_info": {
   "codemirror_mode": {
    "name": "ipython",
    "version": 3
   },
   "file_extension": ".py",
   "mimetype": "text/x-python",
   "name": "python",
   "nbconvert_exporter": "python",
   "pygments_lexer": "ipython3",
   "version": "3.6.9"
  }
 },
 "nbformat": 4,
 "nbformat_minor": 2
}
