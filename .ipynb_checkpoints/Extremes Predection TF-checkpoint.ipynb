{
 "cells": [
  {
   "cell_type": "code",
   "execution_count": 34,
   "metadata": {},
   "outputs": [],
   "source": [
    "import tensorflow as tf\n",
    "from tensorflow import keras\n",
    "from tensorflow.keras import layers\n",
    "import pandas as pd\n",
    "import numpy as np\n",
    "import matplotlib.pyplot as plt\n",
    "import math\n",
    "from sklearn.metrics import mean_squared_error\n",
    "\n",
    "from tensorboard.plugins.hparams import api as hp"
   ]
  },
  {
   "cell_type": "code",
   "execution_count": null,
   "metadata": {},
   "outputs": [],
   "source": []
  },
  {
   "cell_type": "code",
   "execution_count": null,
   "metadata": {},
   "outputs": [],
   "source": []
  },
  {
   "cell_type": "code",
   "execution_count": 33,
   "metadata": {},
   "outputs": [],
   "source": [
    "HP_NUM_UNITS1 = hp.HParam('num_units 1', hp.Discrete([8,16,32,64])) \n",
    "HP_NUM_UNITS2 = hp.HParam('num_units 2', hp.Discrete([8,16,32]))\n",
    "#HP_DROPOUT = hp.HParam('dropout', hp.RealInterval(0.1, 0.3))\n",
    "HP_OPTIMIZER = hp.HParam('optimizer', hp.Discrete(['adam', 'sgd','RMSprop']))\n",
    "HP_L2 = hp.HParam('l2 regularizer', hp.RealInterval(.001,.01))\n",
    "METRIC_RMSE = 'RootMeanSquaredError'\n",
    "\n",
    "n = 26\n",
    "# Set forecasting window length (in years)\n",
    "m = 13\n",
    "# Set annual sampling rate\n",
    "f = 12 \n",
    "\n",
    "freq = 12\n",
    "h = m*f\n",
    "n_steps = 12\n",
    "\n",
    "def split_sequence(sequence, n_steps):\n",
    "    X, y = list(), list()\n",
    "    for i in range(len(sequence)):\n",
    "        # find the end of this pattern\n",
    "        end_ix = i + n_steps\n",
    "        # check if we are beyond the sequence\n",
    "        if end_ix > len(sequence)-1:\n",
    "            break\n",
    "        # gather input and output parts of the pattern\n",
    "        seq_x, seq_y = sequence[i:end_ix], sequence[end_ix]\n",
    "        X.append(seq_x)\n",
    "        y.append(seq_y)\n",
    "    return np.array(X), np.array(y)\n",
    "\n",
    "\n",
    "def train_test_split_ts_2d_raw(X, h):\n",
    "    return(X[:-h],X[-h:])\n",
    "\n",
    "rmse_list = []\n",
    "for i in range(6):\n",
    "    file_name =\"../extreme_data/SPI12_{}.csv\".format(i) \n",
    "    data = pd.read_csv(file_name)\n",
    "    \n",
    "    x = data.iloc[1:,1].values\n",
    "    oni = data.iloc[1:,2].values\n",
    "    \n",
    "\n",
    "    \n",
    "    #raw_seq = x[index:index+(n+m)*f]\n",
    "    X, y = split_sequence(x, n_steps)\n",
    "\n",
    "    X_oni, _ = split_sequence(oni, n_steps)\n",
    "\n",
    "    X = np.hstack((X_oni,X))\n",
    "\n",
    "    #X = (X - X.mean(0))/X.std(0)\n",
    "\n",
    "    x_train, x_test = train_test_split_ts_2d_raw(X, h)\n",
    "    y_train, y_test = train_test_split_ts_2d_raw(y, h)\n",
    "\n",
    "    def train_test_model(hparams):\n",
    "        model = tf.keras.Sequential([\n",
    "            tf.keras.layers.InputLayer(input_shape = x_train.shape[1]),\n",
    "            layers.Dense(hparams[HP_NUM_UNITS1], kernel_regularizer=tf.keras.regularizers.l2(0.001), activation=tf.nn.relu),\n",
    "            layers.Dropout(0.1),\n",
    "            layers.Dense(hparams[HP_NUM_UNITS2], kernel_regularizer=tf.keras.regularizers.l2(0.001), activation=tf.nn.relu),\n",
    "            layers.Dense(1)\n",
    "        ])\n",
    "\n",
    "        model.compile(optimizer=hparams[HP_OPTIMIZER],\n",
    "                    loss='mean_squared_error',\n",
    "                    metrics=['RootMeanSquaredError'])\n",
    "\n",
    "        model.fit(x_train, y_train, epochs=100,verbose=False) \n",
    "        _, rmse = model.evaluate(x_test, y_test, verbose=False)\n",
    "        return rmse\n",
    "\n",
    "    def run( hparams):\n",
    "        #with tf.summary.create_file_writer(run_dir).as_default():\n",
    "        hp.hparams(hparams)  # record the values used in this trial\n",
    "        rmse = train_test_model(hparams)\n",
    "        #    tf.summary.scalar(METRIC_RMSE, rmse, step=1)\n",
    "        return(rmse, hparams)\n",
    "\n",
    "    session_num = 0\n",
    "    min_rmse = float('inf')\n",
    "    best_hparams = {}\n",
    "    for num_units1 in HP_NUM_UNITS1.domain.values:\n",
    "        for num_units2 in HP_NUM_UNITS2.domain.values:\n",
    "            #for dropout_rate in (HP_DROPOUT.domain.min_value, HP_DROPOUT.domain.max_value):\n",
    "            for l2 in (HP_L2.domain.min_value, HP_L2.domain.max_value):\n",
    "                for optimizer in HP_OPTIMIZER.domain.values:\n",
    "                    hparams = {\n",
    "                        HP_NUM_UNITS1: num_units1,\n",
    "                        HP_NUM_UNITS2: num_units2,\n",
    "                        #HP_DROPOUT: dropout_rate,\n",
    "                        HP_L2: l2,\n",
    "                        HP_OPTIMIZER: optimizer\n",
    "                    }\n",
    "                    run_name = \"run-%d\" % session_num\n",
    "                    #print('--- Starting trial: %s' % run_name)\n",
    "                    #print({h.name: hparams[h] for h in hparams})\n",
    "                    rmse, current_hparams = run(hparams)\n",
    "                    if ~np.isnan(rmse) and rmse < min_rmse: \n",
    "                        best_hparams = current_hparams\n",
    "                        min_rmse = rmse\n",
    "                    session_num += 1\n",
    "\n",
    "    #params = list(best_hparams.values())\n",
    "    rmse_list.append(min_rmse)\n",
    "    #result_list.append(np.array(rmse_list).mean())\n",
    "\n",
    "np.save(\"SPIWithONI_NoNormal.npy\",np.array(rmse_list))\n",
    "    "
   ]
  },
  {
   "cell_type": "code",
   "execution_count": null,
   "metadata": {},
   "outputs": [],
   "source": []
  },
  {
   "cell_type": "code",
   "execution_count": null,
   "metadata": {},
   "outputs": [],
   "source": []
  },
  {
   "cell_type": "code",
   "execution_count": null,
   "metadata": {},
   "outputs": [],
   "source": []
  },
  {
   "cell_type": "code",
   "execution_count": 35,
   "metadata": {},
   "outputs": [],
   "source": [
    "def univariate_data(dataset, start_index, end_index, history_size, target_size):\n",
    "    data = []\n",
    "    labels = []\n",
    "\n",
    "    start_index = start_index + history_size\n",
    "    if end_index is None:\n",
    "        end_index = len(dataset) - target_size\n",
    "\n",
    "    for i in range(start_index, end_index):\n",
    "        indices = range(i-history_size, i)\n",
    "    # Reshape data from (history_size,) to (history_size, 1)\n",
    "        data.append(np.reshape(dataset[indices], (history_size, 1)))\n",
    "        labels.append(dataset[i+target_size])\n",
    "    return np.array(data), np.array(labels)"
   ]
  },
  {
   "cell_type": "code",
   "execution_count": 36,
   "metadata": {},
   "outputs": [],
   "source": [
    "def split_sequence(sequence, n_steps):\n",
    "    X, y = list(), list()\n",
    "    for i in range(len(sequence)):\n",
    "        # find the end of this pattern\n",
    "        end_ix = i + n_steps\n",
    "        # check if we are beyond the sequence\n",
    "        if end_ix > len(sequence)-1:\n",
    "            break\n",
    "        # gather input and output parts of the pattern\n",
    "        seq_x, seq_y = sequence[i:end_ix], sequence[end_ix]\n",
    "        X.append(seq_x)\n",
    "        y.append(seq_y)\n",
    "    return np.array(X), np.array(y)\n",
    "\n",
    "\n",
    "def train_test_split_ts_2d_raw(X, h):\n",
    "    return(X[:-h],X[-h:])\n",
    "\n",
    "\n",
    "def train_test_split_ts(X, y, test_size=0.2):\n",
    "    r = X.shape[0]\n",
    "    split_index = int((1-test_size)*r)\n",
    "    return(X[:split_index,:,:],X[split_index:,:,:],y[:split_index],y[split_index:])\n",
    "\n",
    "def train_test_split_ts_index(X, y, split_index):\n",
    "    r = X.shape[0]\n",
    "    return(X[:split_index,:,:],X[split_index:,:,:],y[:split_index],y[split_index:])\n",
    "\n",
    "def train_test_split_ts_2d(X, y, test_size=0.2):\n",
    "    r = X.shape[0]\n",
    "    split_index = int((1-test_size)*r)\n",
    "    return(X[:split_index,:],X[split_index:,:],y[:split_index],y[split_index:])\n",
    "\n",
    "def train_test_split_ts_2d_index(X, y, split_index):\n",
    "    r = X.shape[0]\n",
    "    return(X[:split_index,:],X[split_index:,:],y[:split_index],y[split_index:])"
   ]
  },
  {
   "cell_type": "code",
   "execution_count": 37,
   "metadata": {},
   "outputs": [],
   "source": [
    "def create_dataset(dataset, window_size = 1):\n",
    "    data_X, data_Y = [], []\n",
    "    for i in range(len(dataset) - window_size - 1):\n",
    "        a = dataset[i:(i + window_size)]\n",
    "        data_X.append(a)\n",
    "        data_Y.append(dataset[i + window_size])\n",
    "    return(np.array(data_X), np.array(data_Y))"
   ]
  },
  {
   "cell_type": "code",
   "execution_count": 38,
   "metadata": {},
   "outputs": [],
   "source": [
    "def forecast(first_item, model, h, n_step):\n",
    "    x = first_item\n",
    "    result = []\n",
    "    #x = np.reshape(x,(1,20))\n",
    "    for i in range(h):\n",
    "        y = model.predict(np.reshape(x,(1,n_step*2)))\n",
    "        result.append(y)\n",
    "        x = np.append(x[1:],np.array(y))\n",
    "    return(np.array(result))   "
   ]
  },
  {
   "cell_type": "code",
   "execution_count": 39,
   "metadata": {},
   "outputs": [],
   "source": [
    "def build_model(n_steps, n_units, learning_rate, optimizer_name):\n",
    "    model = keras.Sequential()\n",
    "    if len(n_units) == 1:\n",
    "        model.add(layers.Dense(n_units[0], activation=tf.nn.relu, input_dim=n_steps))\n",
    "    else:  \n",
    "        model.add(layers.Dense(n_units[0], activation=tf.nn.relu, input_dim=n_steps))\n",
    "        for i in range(1,len(n_units)):\n",
    "            model.add(layers.Dense(n_units[i], activation=tf.nn.relu))\n",
    "    \n",
    "    model.add(layers.Dense(1))\n",
    "    \n",
    "    if optimizer_name == \"adam\":\n",
    "        optimizer = tf.keras.optimizers.Adam(learning_rate)\n",
    "    else:\n",
    "        optimizer = tf.keras.optimizers.SGD(learning_rate)\n",
    "\n",
    "    model.compile(loss='mean_squared_error', optimizer=optimizer)\n",
    "    return model"
   ]
  },
  {
   "cell_type": "code",
   "execution_count": 40,
   "metadata": {},
   "outputs": [],
   "source": [
    "def cv_hparam_tunning(x, n_steps, num_units, optimizer, learning_rate,\n",
    "                      training_window=15, forecast_window=1, freq=12,epochs=1):\n",
    "\n",
    "    fuzzify(x)\n",
    "    L = len(x)\n",
    "    errors = []\n",
    "    \n",
    "    for i in range(0, L - (training_window+forecast_window)*freq, freq):   \n",
    "\n",
    "        raw_seq = x[i:i+(training_window + forecast_window)*freq]\n",
    "\n",
    "        X, y_test = train_test_split_ts_2d_raw(raw_seq, forecast_window*freq) \n",
    "        X_train, y_train = split_sequence(X, n_steps)\n",
    "\n",
    "        #estimator = KerasRegressor(build_fn=baseline_ model(n_steps), epochs=100, batch_size=5, verbose=0)\n",
    "        model = build_model(n_steps, num_units, learning_rate, optimizer)\n",
    "\n",
    "\n",
    "        #EPOCHS = 100\n",
    "        model.fit(X_train, y_train, epochs=epochs, validation_split = 0.2, verbose=0)\n",
    "\n",
    "        y_hat = forecast(np.append(X_train[-1][1:],np.array(y_train[-1])), model, freq, n_steps)\n",
    "        y_hat = np.reshape(y_hat,len(y_test))\n",
    "        if np.any(np.isnan(y_hat)):\n",
    "            errors.append(np.nan)\n",
    "        else:\n",
    "            errors.append(math.sqrt(mean_squared_error(y_test,y_hat)))\n",
    "\n",
    "        #errors.append(math.sqrt(mean_squared_error(y_test,y_hat)))\n",
    "        \n",
    "    return(np.nanmean(errors))"
   ]
  },
  {
   "cell_type": "code",
   "execution_count": 41,
   "metadata": {},
   "outputs": [],
   "source": [
    "def uni_deseasonalize(ts,freq=12):\n",
    "    ts = np.array(ts)\n",
    "    avgs = np.zeros(freq)\n",
    "    stds = np.zeros(freq)\n",
    "    N = len(ts)\n",
    "    #averages = np.zeros((freq,n))\n",
    "    temp = ts\n",
    "    result = np.zeros((N))\n",
    "    for j in range(freq):\n",
    "        Idx = np.arange(j,N,freq)\n",
    "        avgs[j] = temp[Idx].mean()\n",
    "        stds[j] = temp[Idx].std()\n",
    "        result[Idx] = (temp[Idx] - temp[Idx].mean())#/temp[Idx].std()\n",
    "    return(result, avgs) "
   ]
  },
  {
   "cell_type": "code",
   "execution_count": 16,
   "metadata": {},
   "outputs": [
    {
     "ename": "FileNotFoundError",
     "evalue": "[Errno 2] No such file or directory: 'data.npy'",
     "output_type": "error",
     "traceback": [
      "\u001b[0;31m---------------------------------------------------------------------------\u001b[0m",
      "\u001b[0;31mFileNotFoundError\u001b[0m                         Traceback (most recent call last)",
      "\u001b[0;32m<ipython-input-16-f1f944bb1489>\u001b[0m in \u001b[0;36m<module>\u001b[0;34m\u001b[0m\n\u001b[0;32m----> 1\u001b[0;31m \u001b[0mdata\u001b[0m \u001b[0;34m=\u001b[0m \u001b[0mnp\u001b[0m\u001b[0;34m.\u001b[0m\u001b[0mload\u001b[0m\u001b[0;34m(\u001b[0m\u001b[0;34m'data.npy'\u001b[0m\u001b[0;34m)\u001b[0m\u001b[0;34m\u001b[0m\u001b[0;34m\u001b[0m\u001b[0m\n\u001b[0m\u001b[1;32m      2\u001b[0m \u001b[0mlat\u001b[0m \u001b[0;34m=\u001b[0m \u001b[0mnp\u001b[0m\u001b[0;34m.\u001b[0m\u001b[0mload\u001b[0m\u001b[0;34m(\u001b[0m\u001b[0;34m'lat.npy'\u001b[0m\u001b[0;34m)\u001b[0m\u001b[0;34m\u001b[0m\u001b[0;34m\u001b[0m\u001b[0m\n\u001b[1;32m      3\u001b[0m \u001b[0mlon\u001b[0m \u001b[0;34m=\u001b[0m \u001b[0mnp\u001b[0m\u001b[0;34m.\u001b[0m\u001b[0mload\u001b[0m\u001b[0;34m(\u001b[0m\u001b[0;34m'lon.npy'\u001b[0m\u001b[0;34m)\u001b[0m\u001b[0;34m\u001b[0m\u001b[0;34m\u001b[0m\u001b[0m\n",
      "\u001b[0;32m~/anaconda3/envs/tensorflow/lib/python3.6/site-packages/numpy/lib/npyio.py\u001b[0m in \u001b[0;36mload\u001b[0;34m(file, mmap_mode, allow_pickle, fix_imports, encoding)\u001b[0m\n\u001b[1;32m    420\u001b[0m         \u001b[0mown_fid\u001b[0m \u001b[0;34m=\u001b[0m \u001b[0;32mFalse\u001b[0m\u001b[0;34m\u001b[0m\u001b[0;34m\u001b[0m\u001b[0m\n\u001b[1;32m    421\u001b[0m     \u001b[0;32melse\u001b[0m\u001b[0;34m:\u001b[0m\u001b[0;34m\u001b[0m\u001b[0;34m\u001b[0m\u001b[0m\n\u001b[0;32m--> 422\u001b[0;31m         \u001b[0mfid\u001b[0m \u001b[0;34m=\u001b[0m \u001b[0mopen\u001b[0m\u001b[0;34m(\u001b[0m\u001b[0mos_fspath\u001b[0m\u001b[0;34m(\u001b[0m\u001b[0mfile\u001b[0m\u001b[0;34m)\u001b[0m\u001b[0;34m,\u001b[0m \u001b[0;34m\"rb\"\u001b[0m\u001b[0;34m)\u001b[0m\u001b[0;34m\u001b[0m\u001b[0;34m\u001b[0m\u001b[0m\n\u001b[0m\u001b[1;32m    423\u001b[0m         \u001b[0mown_fid\u001b[0m \u001b[0;34m=\u001b[0m \u001b[0;32mTrue\u001b[0m\u001b[0;34m\u001b[0m\u001b[0;34m\u001b[0m\u001b[0m\n\u001b[1;32m    424\u001b[0m \u001b[0;34m\u001b[0m\u001b[0m\n",
      "\u001b[0;31mFileNotFoundError\u001b[0m: [Errno 2] No such file or directory: 'data.npy'"
     ]
    }
   ],
   "source": [
    "data = np.load('data.npy')\n",
    "lat = np.load('lat.npy')\n",
    "lon = np.load('lon.npy')"
   ]
  },
  {
   "cell_type": "code",
   "execution_count": 339,
   "metadata": {},
   "outputs": [],
   "source": [
    "x = data[27,6,]"
   ]
  },
  {
   "cell_type": "code",
   "execution_count": 110,
   "metadata": {},
   "outputs": [],
   "source": [
    "data = pd.read_csv(\"../extreme_data/raw12_5.csv\")"
   ]
  },
  {
   "cell_type": "code",
   "execution_count": 111,
   "metadata": {},
   "outputs": [],
   "source": [
    "x = data.iloc[1:,1].values\n",
    "oni = data.iloc[1:,2].values"
   ]
  },
  {
   "cell_type": "code",
   "execution_count": 331,
   "metadata": {},
   "outputs": [],
   "source": [
    "x = np.array(data.iloc[1:,1:].values)\n",
    "oni = np.array(data.iloc[1:,2:].values)"
   ]
  },
  {
   "cell_type": "code",
   "execution_count": 112,
   "metadata": {},
   "outputs": [],
   "source": [
    "n = 26\n",
    "# Set forecasting window length (in years)\n",
    "m = 13\n",
    "# Set annual sampling rate\n",
    "f = 12 \n",
    "L = x.shape[0]\n",
    "errors = []\n",
    "j = 0\n",
    "\n",
    "\n",
    "start = 1977\n",
    "origin = 1977\n",
    "# Set annual sampling rate\n",
    "freq = 12\n",
    "h = m*f\n",
    "n_steps = 12\n",
    "\n",
    "index = (origin - start) * f"
   ]
  },
  {
   "cell_type": "code",
   "execution_count": 113,
   "metadata": {},
   "outputs": [],
   "source": [
    "raw_seq = x[index:index+(n+m)*f]\n",
    "X, y = split_sequence(raw_seq, n_steps)"
   ]
  },
  {
   "cell_type": "code",
   "execution_count": 114,
   "metadata": {},
   "outputs": [],
   "source": [
    "oni_seq = oni[index:index+(n+m)*f]\n",
    "X_oni, _ = split_sequence(oni_seq, n_steps)"
   ]
  },
  {
   "cell_type": "code",
   "execution_count": 115,
   "metadata": {},
   "outputs": [],
   "source": [
    "X = np.hstack((X_oni,X))"
   ]
  },
  {
   "cell_type": "code",
   "execution_count": 116,
   "metadata": {},
   "outputs": [],
   "source": [
    "X_norm = (X - X.mean(0))/X.std(0)"
   ]
  },
  {
   "cell_type": "code",
   "execution_count": 117,
   "metadata": {},
   "outputs": [],
   "source": [
    "x_train, x_test = train_test_split_ts_2d_raw(X, h)\n",
    "y_train, y_test = train_test_split_ts_2d_raw(y, h)"
   ]
  },
  {
   "cell_type": "code",
   "execution_count": null,
   "metadata": {},
   "outputs": [],
   "source": []
  },
  {
   "cell_type": "code",
   "execution_count": 75,
   "metadata": {},
   "outputs": [
    {
     "name": "stdout",
     "output_type": "stream",
     "text": [
      "--- Starting trial: run-0\n",
      "{'num_units 1': 4, 'num_units 2': 4, 'dropout': 0.1, 'l2 regularizer': 0.001, 'optimizer': 'RMSprop'}\n",
      "156/156 [==============================] - 0s 532us/sample - loss: 11.2444 - RootMeanSquaredError: 3.3516\n",
      "mis_rmse 3.351649284362793\n",
      "--- Starting trial: run-1\n",
      "{'num_units 1': 4, 'num_units 2': 4, 'dropout': 0.1, 'l2 regularizer': 0.001, 'optimizer': 'adam'}\n",
      "156/156 [==============================] - 0s 419us/sample - loss: 73.4387 - RootMeanSquaredError: 8.5693\n",
      "--- Starting trial: run-2\n",
      "{'num_units 1': 4, 'num_units 2': 4, 'dropout': 0.1, 'l2 regularizer': 0.001, 'optimizer': 'sgd'}\n",
      "156/156 [==============================] - 0s 404us/sample - loss: 37.2455 - RootMeanSquaredError: 6.0995\n",
      "--- Starting trial: run-3\n",
      "{'num_units 1': 4, 'num_units 2': 4, 'dropout': 0.1, 'l2 regularizer': 0.01, 'optimizer': 'RMSprop'}\n",
      "156/156 [==============================] - 0s 412us/sample - loss: 14.1517 - RootMeanSquaredError: 3.7607\n",
      "--- Starting trial: run-4\n",
      "{'num_units 1': 4, 'num_units 2': 4, 'dropout': 0.1, 'l2 regularizer': 0.01, 'optimizer': 'adam'}\n",
      "156/156 [==============================] - 0s 411us/sample - loss: 14.1266 - RootMeanSquaredError: 3.7571\n",
      "--- Starting trial: run-5\n",
      "{'num_units 1': 4, 'num_units 2': 4, 'dropout': 0.1, 'l2 regularizer': 0.01, 'optimizer': 'sgd'}\n",
      "156/156 [==============================] - 0s 400us/sample - loss: 47.6550 - RootMeanSquaredError: 6.0301\n",
      "--- Starting trial: run-6\n",
      "{'num_units 1': 4, 'num_units 2': 4, 'dropout': 0.3, 'l2 regularizer': 0.001, 'optimizer': 'RMSprop'}\n",
      "156/156 [==============================] - 0s 414us/sample - loss: 12.6954 - RootMeanSquaredError: 3.5619\n",
      "--- Starting trial: run-7\n",
      "{'num_units 1': 4, 'num_units 2': 4, 'dropout': 0.3, 'l2 regularizer': 0.001, 'optimizer': 'adam'}\n",
      "156/156 [==============================] - 0s 413us/sample - loss: 16.5823 - RootMeanSquaredError: 4.0706\n",
      "--- Starting trial: run-8\n",
      "{'num_units 1': 4, 'num_units 2': 4, 'dropout': 0.3, 'l2 regularizer': 0.001, 'optimizer': 'sgd'}\n",
      "156/156 [==============================] - 0s 397us/sample - loss: 176.3839 - RootMeanSquaredError: 6.0709\n",
      "--- Starting trial: run-9\n",
      "{'num_units 1': 4, 'num_units 2': 4, 'dropout': 0.3, 'l2 regularizer': 0.01, 'optimizer': 'RMSprop'}\n",
      "156/156 [==============================] - 0s 410us/sample - loss: 12.6550 - RootMeanSquaredError: 3.5563\n",
      "--- Starting trial: run-10\n",
      "{'num_units 1': 4, 'num_units 2': 4, 'dropout': 0.3, 'l2 regularizer': 0.01, 'optimizer': 'adam'}\n",
      "156/156 [==============================] - 0s 440us/sample - loss: 16.6241 - RootMeanSquaredError: 4.0768\n",
      "--- Starting trial: run-11\n",
      "{'num_units 1': 4, 'num_units 2': 4, 'dropout': 0.3, 'l2 regularizer': 0.01, 'optimizer': 'sgd'}\n",
      "156/156 [==============================] - 0s 403us/sample - loss: 27.0896 - RootMeanSquaredError: 5.1900\n",
      "--- Starting trial: run-12\n",
      "{'num_units 1': 4, 'num_units 2': 8, 'dropout': 0.1, 'l2 regularizer': 0.001, 'optimizer': 'RMSprop'}\n",
      "156/156 [==============================] - 0s 397us/sample - loss: 12.3039 - RootMeanSquaredError: 3.5057\n",
      "--- Starting trial: run-13\n",
      "{'num_units 1': 4, 'num_units 2': 8, 'dropout': 0.1, 'l2 regularizer': 0.001, 'optimizer': 'adam'}\n",
      "156/156 [==============================] - 0s 400us/sample - loss: 12.2979 - RootMeanSquaredError: 3.5050\n",
      "--- Starting trial: run-14\n",
      "{'num_units 1': 4, 'num_units 2': 8, 'dropout': 0.1, 'l2 regularizer': 0.001, 'optimizer': 'sgd'}\n",
      "156/156 [==============================] - 0s 505us/sample - loss: 267341.7997 - RootMeanSquaredError: 5.8295\n",
      "--- Starting trial: run-15\n",
      "{'num_units 1': 4, 'num_units 2': 8, 'dropout': 0.1, 'l2 regularizer': 0.01, 'optimizer': 'RMSprop'}\n",
      "156/156 [==============================] - 0s 402us/sample - loss: 10.2671 - RootMeanSquaredError: 3.2025\n",
      "mis_rmse 3.2025084495544434\n",
      "--- Starting trial: run-16\n",
      "{'num_units 1': 4, 'num_units 2': 8, 'dropout': 0.1, 'l2 regularizer': 0.01, 'optimizer': 'adam'}\n",
      "156/156 [==============================] - 0s 398us/sample - loss: 15.3560 - RootMeanSquaredError: 3.9170\n",
      "--- Starting trial: run-17\n",
      "{'num_units 1': 4, 'num_units 2': 8, 'dropout': 0.1, 'l2 regularizer': 0.01, 'optimizer': 'sgd'}\n",
      "156/156 [==============================] - 0s 420us/sample - loss: 141.4934 - RootMeanSquaredError: 6.0364\n",
      "--- Starting trial: run-18\n",
      "{'num_units 1': 4, 'num_units 2': 8, 'dropout': 0.3, 'l2 regularizer': 0.001, 'optimizer': 'RMSprop'}\n",
      "156/156 [==============================] - 0s 403us/sample - loss: 17.5456 - RootMeanSquaredError: 4.1877\n",
      "--- Starting trial: run-19\n",
      "{'num_units 1': 4, 'num_units 2': 8, 'dropout': 0.3, 'l2 regularizer': 0.001, 'optimizer': 'adam'}\n",
      "156/156 [==============================] - 0s 388us/sample - loss: 13.9512 - RootMeanSquaredError: 3.7344\n",
      "--- Starting trial: run-20\n",
      "{'num_units 1': 4, 'num_units 2': 8, 'dropout': 0.3, 'l2 regularizer': 0.001, 'optimizer': 'sgd'}\n",
      "156/156 [==============================] - 0s 394us/sample - loss: 130.9683 - RootMeanSquaredError: 6.0357\n",
      "--- Starting trial: run-21\n",
      "{'num_units 1': 4, 'num_units 2': 8, 'dropout': 0.3, 'l2 regularizer': 0.01, 'optimizer': 'RMSprop'}\n",
      "156/156 [==============================] - 0s 453us/sample - loss: 14.4682 - RootMeanSquaredError: 3.8028\n",
      "--- Starting trial: run-22\n",
      "{'num_units 1': 4, 'num_units 2': 8, 'dropout': 0.3, 'l2 regularizer': 0.01, 'optimizer': 'adam'}\n",
      "156/156 [==============================] - 0s 398us/sample - loss: 14.8836 - RootMeanSquaredError: 3.8564\n",
      "--- Starting trial: run-23\n",
      "{'num_units 1': 4, 'num_units 2': 8, 'dropout': 0.3, 'l2 regularizer': 0.01, 'optimizer': 'sgd'}\n",
      "156/156 [==============================] - 0s 402us/sample - loss: 33.9377 - RootMeanSquaredError: 5.8242\n",
      "--- Starting trial: run-24\n",
      "{'num_units 1': 8, 'num_units 2': 4, 'dropout': 0.1, 'l2 regularizer': 0.001, 'optimizer': 'RMSprop'}\n",
      "156/156 [==============================] - 0s 395us/sample - loss: 14.3245 - RootMeanSquaredError: 3.7828\n",
      "--- Starting trial: run-25\n",
      "{'num_units 1': 8, 'num_units 2': 4, 'dropout': 0.1, 'l2 regularizer': 0.001, 'optimizer': 'adam'}\n",
      "156/156 [==============================] - 0s 391us/sample - loss: 11.5819 - RootMeanSquaredError: 3.4013\n",
      "--- Starting trial: run-26\n",
      "{'num_units 1': 8, 'num_units 2': 4, 'dropout': 0.1, 'l2 regularizer': 0.001, 'optimizer': 'sgd'}\n",
      "156/156 [==============================] - 0s 398us/sample - loss: 41.2822 - RootMeanSquaredError: 6.0124\n",
      "--- Starting trial: run-27\n",
      "{'num_units 1': 8, 'num_units 2': 4, 'dropout': 0.1, 'l2 regularizer': 0.01, 'optimizer': 'RMSprop'}\n",
      "156/156 [==============================] - 0s 397us/sample - loss: 10.8530 - RootMeanSquaredError: 3.2916\n",
      "--- Starting trial: run-28\n",
      "{'num_units 1': 8, 'num_units 2': 4, 'dropout': 0.1, 'l2 regularizer': 0.01, 'optimizer': 'adam'}\n",
      "156/156 [==============================] - 0s 395us/sample - loss: 72.3966 - RootMeanSquaredError: 8.5077\n",
      "--- Starting trial: run-29\n",
      "{'num_units 1': 8, 'num_units 2': 4, 'dropout': 0.1, 'l2 regularizer': 0.01, 'optimizer': 'sgd'}\n",
      "156/156 [==============================] - 0s 402us/sample - loss: 24924.9440 - RootMeanSquaredError: 6.0267\n",
      "--- Starting trial: run-30\n",
      "{'num_units 1': 8, 'num_units 2': 4, 'dropout': 0.3, 'l2 regularizer': 0.001, 'optimizer': 'RMSprop'}\n",
      "156/156 [==============================] - 0s 383us/sample - loss: 13.7812 - RootMeanSquaredError: 3.7100\n",
      "--- Starting trial: run-31\n",
      "{'num_units 1': 8, 'num_units 2': 4, 'dropout': 0.3, 'l2 regularizer': 0.001, 'optimizer': 'adam'}\n",
      "156/156 [==============================] - 0s 401us/sample - loss: 12.9072 - RootMeanSquaredError: 3.5902\n",
      "--- Starting trial: run-32\n",
      "{'num_units 1': 8, 'num_units 2': 4, 'dropout': 0.3, 'l2 regularizer': 0.001, 'optimizer': 'sgd'}\n",
      "156/156 [==============================] - 0s 387us/sample - loss: 1635.6556 - RootMeanSquaredError: 6.3086\n",
      "--- Starting trial: run-33\n",
      "{'num_units 1': 8, 'num_units 2': 4, 'dropout': 0.3, 'l2 regularizer': 0.01, 'optimizer': 'RMSprop'}\n",
      "156/156 [==============================] - 0s 400us/sample - loss: 11.2813 - RootMeanSquaredError: 3.3566\n",
      "--- Starting trial: run-34\n",
      "{'num_units 1': 8, 'num_units 2': 4, 'dropout': 0.3, 'l2 regularizer': 0.01, 'optimizer': 'adam'}\n",
      "156/156 [==============================] - 0s 410us/sample - loss: 13.4481 - RootMeanSquaredError: 3.6650\n",
      "--- Starting trial: run-35\n",
      "{'num_units 1': 8, 'num_units 2': 4, 'dropout': 0.3, 'l2 regularizer': 0.01, 'optimizer': 'sgd'}\n"
     ]
    },
    {
     "name": "stdout",
     "output_type": "stream",
     "text": [
      "156/156 [==============================] - 0s 429us/sample - loss: 103.4627 - RootMeanSquaredError: 6.0475\n",
      "--- Starting trial: run-36\n",
      "{'num_units 1': 8, 'num_units 2': 8, 'dropout': 0.1, 'l2 regularizer': 0.001, 'optimizer': 'RMSprop'}\n",
      "156/156 [==============================] - 0s 396us/sample - loss: 10.9165 - RootMeanSquaredError: 3.3010\n",
      "--- Starting trial: run-37\n",
      "{'num_units 1': 8, 'num_units 2': 8, 'dropout': 0.1, 'l2 regularizer': 0.001, 'optimizer': 'adam'}\n",
      "156/156 [==============================] - 0s 396us/sample - loss: 9.9839 - RootMeanSquaredError: 3.1567\n",
      "mis_rmse 3.1567482948303223\n",
      "--- Starting trial: run-38\n",
      "{'num_units 1': 8, 'num_units 2': 8, 'dropout': 0.1, 'l2 regularizer': 0.001, 'optimizer': 'sgd'}\n",
      "156/156 [==============================] - 0s 389us/sample - loss: 39856.2599 - RootMeanSquaredError: 6.0481\n",
      "--- Starting trial: run-39\n",
      "{'num_units 1': 8, 'num_units 2': 8, 'dropout': 0.1, 'l2 regularizer': 0.01, 'optimizer': 'RMSprop'}\n",
      "156/156 [==============================] - 0s 439us/sample - loss: 11.2207 - RootMeanSquaredError: 3.3470\n",
      "--- Starting trial: run-40\n",
      "{'num_units 1': 8, 'num_units 2': 8, 'dropout': 0.1, 'l2 regularizer': 0.01, 'optimizer': 'adam'}\n",
      "156/156 [==============================] - 0s 490us/sample - loss: 10.0217 - RootMeanSquaredError: 3.1628\n",
      "--- Starting trial: run-41\n",
      "{'num_units 1': 8, 'num_units 2': 8, 'dropout': 0.1, 'l2 regularizer': 0.01, 'optimizer': 'sgd'}\n",
      "156/156 [==============================] - 0s 534us/sample - loss: 640575062025437184.0000 - RootMeanSquaredError: 6.0295\n",
      "--- Starting trial: run-42\n",
      "{'num_units 1': 8, 'num_units 2': 8, 'dropout': 0.3, 'l2 regularizer': 0.001, 'optimizer': 'RMSprop'}\n",
      "156/156 [==============================] - 0s 515us/sample - loss: 12.8529 - RootMeanSquaredError: 3.5828\n",
      "--- Starting trial: run-43\n",
      "{'num_units 1': 8, 'num_units 2': 8, 'dropout': 0.3, 'l2 regularizer': 0.001, 'optimizer': 'adam'}\n",
      "156/156 [==============================] - 0s 526us/sample - loss: 14.3819 - RootMeanSquaredError: 3.7899\n",
      "--- Starting trial: run-44\n",
      "{'num_units 1': 8, 'num_units 2': 8, 'dropout': 0.3, 'l2 regularizer': 0.001, 'optimizer': 'sgd'}\n",
      "156/156 [==============================] - 0s 452us/sample - loss: 514627.7740 - RootMeanSquaredError: 6.0386\n",
      "--- Starting trial: run-45\n",
      "{'num_units 1': 8, 'num_units 2': 8, 'dropout': 0.3, 'l2 regularizer': 0.01, 'optimizer': 'RMSprop'}\n",
      "156/156 [==============================] - 0s 414us/sample - loss: 14.2547 - RootMeanSquaredError: 3.7739\n",
      "--- Starting trial: run-46\n",
      "{'num_units 1': 8, 'num_units 2': 8, 'dropout': 0.3, 'l2 regularizer': 0.01, 'optimizer': 'adam'}\n",
      "156/156 [==============================] - 0s 446us/sample - loss: 14.4934 - RootMeanSquaredError: 3.8049\n",
      "--- Starting trial: run-47\n",
      "{'num_units 1': 8, 'num_units 2': 8, 'dropout': 0.3, 'l2 regularizer': 0.01, 'optimizer': 'sgd'}\n",
      "156/156 [==============================] - 0s 403us/sample - loss: 36.5435 - RootMeanSquaredError: 6.0325\n",
      "--- Starting trial: run-48\n",
      "{'num_units 1': 16, 'num_units 2': 4, 'dropout': 0.1, 'l2 regularizer': 0.001, 'optimizer': 'RMSprop'}\n",
      "156/156 [==============================] - 0s 489us/sample - loss: 10.5184 - RootMeanSquaredError: 3.2398\n",
      "--- Starting trial: run-49\n",
      "{'num_units 1': 16, 'num_units 2': 4, 'dropout': 0.1, 'l2 regularizer': 0.001, 'optimizer': 'adam'}\n",
      "156/156 [==============================] - 0s 424us/sample - loss: 11.1563 - RootMeanSquaredError: 3.3369\n",
      "--- Starting trial: run-50\n",
      "{'num_units 1': 16, 'num_units 2': 4, 'dropout': 0.1, 'l2 regularizer': 0.001, 'optimizer': 'sgd'}\n",
      "156/156 [==============================] - 0s 522us/sample - loss: 63292424847360.0000 - RootMeanSquaredError: 6.0363\n",
      "--- Starting trial: run-51\n",
      "{'num_units 1': 16, 'num_units 2': 4, 'dropout': 0.1, 'l2 regularizer': 0.01, 'optimizer': 'RMSprop'}\n",
      "156/156 [==============================] - 0s 413us/sample - loss: 10.4849 - RootMeanSquaredError: 3.2350\n",
      "--- Starting trial: run-52\n",
      "{'num_units 1': 16, 'num_units 2': 4, 'dropout': 0.1, 'l2 regularizer': 0.01, 'optimizer': 'adam'}\n",
      "156/156 [==============================] - 0s 521us/sample - loss: 10.5207 - RootMeanSquaredError: 3.2395\n",
      "--- Starting trial: run-53\n",
      "{'num_units 1': 16, 'num_units 2': 4, 'dropout': 0.1, 'l2 regularizer': 0.01, 'optimizer': 'sgd'}\n",
      "156/156 [==============================] - 0s 426us/sample - loss: 36.6951 - RootMeanSquaredError: 6.0546\n",
      "--- Starting trial: run-54\n",
      "{'num_units 1': 16, 'num_units 2': 4, 'dropout': 0.3, 'l2 regularizer': 0.001, 'optimizer': 'RMSprop'}\n",
      "156/156 [==============================] - 0s 455us/sample - loss: 11.5104 - RootMeanSquaredError: 3.3895\n",
      "--- Starting trial: run-55\n",
      "{'num_units 1': 16, 'num_units 2': 4, 'dropout': 0.3, 'l2 regularizer': 0.001, 'optimizer': 'adam'}\n",
      "156/156 [==============================] - 0s 388us/sample - loss: 13.5582 - RootMeanSquaredError: 3.6787\n",
      "--- Starting trial: run-56\n",
      "{'num_units 1': 16, 'num_units 2': 4, 'dropout': 0.3, 'l2 regularizer': 0.001, 'optimizer': 'sgd'}\n",
      "156/156 [==============================] - 0s 405us/sample - loss: 13823882.3077 - RootMeanSquaredError: 6.0237\n",
      "--- Starting trial: run-57\n",
      "{'num_units 1': 16, 'num_units 2': 4, 'dropout': 0.3, 'l2 regularizer': 0.01, 'optimizer': 'RMSprop'}\n",
      "156/156 [==============================] - 0s 410us/sample - loss: 12.8018 - RootMeanSquaredError: 3.5754\n",
      "--- Starting trial: run-58\n",
      "{'num_units 1': 16, 'num_units 2': 4, 'dropout': 0.3, 'l2 regularizer': 0.01, 'optimizer': 'adam'}\n",
      "156/156 [==============================] - 0s 415us/sample - loss: 11.6845 - RootMeanSquaredError: 3.4150\n",
      "--- Starting trial: run-59\n",
      "{'num_units 1': 16, 'num_units 2': 4, 'dropout': 0.3, 'l2 regularizer': 0.01, 'optimizer': 'sgd'}\n",
      "156/156 [==============================] - 0s 397us/sample - loss: 223.4180 - RootMeanSquaredError: 6.0442\n",
      "--- Starting trial: run-60\n",
      "{'num_units 1': 16, 'num_units 2': 8, 'dropout': 0.1, 'l2 regularizer': 0.001, 'optimizer': 'RMSprop'}\n",
      "156/156 [==============================] - 0s 405us/sample - loss: 9.8310 - RootMeanSquaredError: 3.1314\n",
      "mis_rmse 3.131361722946167\n",
      "--- Starting trial: run-61\n",
      "{'num_units 1': 16, 'num_units 2': 8, 'dropout': 0.1, 'l2 regularizer': 0.001, 'optimizer': 'adam'}\n",
      "156/156 [==============================] - 0s 470us/sample - loss: 11.8116 - RootMeanSquaredError: 3.4321\n",
      "--- Starting trial: run-62\n",
      "{'num_units 1': 16, 'num_units 2': 8, 'dropout': 0.1, 'l2 regularizer': 0.001, 'optimizer': 'sgd'}\n",
      "156/156 [==============================] - 0s 420us/sample - loss: 28658857984.0000 - RootMeanSquaredError: 6.0351\n",
      "--- Starting trial: run-63\n",
      "{'num_units 1': 16, 'num_units 2': 8, 'dropout': 0.1, 'l2 regularizer': 0.01, 'optimizer': 'RMSprop'}\n",
      "156/156 [==============================] - 0s 421us/sample - loss: 10.6609 - RootMeanSquaredError: 3.2608\n",
      "--- Starting trial: run-64\n",
      "{'num_units 1': 16, 'num_units 2': 8, 'dropout': 0.1, 'l2 regularizer': 0.01, 'optimizer': 'adam'}\n",
      "156/156 [==============================] - 0s 612us/sample - loss: 10.1913 - RootMeanSquaredError: 3.1875\n",
      "--- Starting trial: run-65\n",
      "{'num_units 1': 16, 'num_units 2': 8, 'dropout': 0.1, 'l2 regularizer': 0.01, 'optimizer': 'sgd'}\n",
      "156/156 [==============================] - 0s 560us/sample - loss: 3276.6101 - RootMeanSquaredError: 6.1343\n",
      "--- Starting trial: run-66\n",
      "{'num_units 1': 16, 'num_units 2': 8, 'dropout': 0.3, 'l2 regularizer': 0.001, 'optimizer': 'RMSprop'}\n",
      "156/156 [==============================] - 0s 491us/sample - loss: 10.4774 - RootMeanSquaredError: 3.2335\n",
      "--- Starting trial: run-67\n",
      "{'num_units 1': 16, 'num_units 2': 8, 'dropout': 0.3, 'l2 regularizer': 0.001, 'optimizer': 'adam'}\n",
      "156/156 [==============================] - 0s 470us/sample - loss: 13.2021 - RootMeanSquaredError: 3.6298\n",
      "--- Starting trial: run-68\n",
      "{'num_units 1': 16, 'num_units 2': 8, 'dropout': 0.3, 'l2 regularizer': 0.001, 'optimizer': 'sgd'}\n",
      "156/156 [==============================] - 0s 470us/sample - loss: 286.8720 - RootMeanSquaredError: 6.0185\n",
      "--- Starting trial: run-69\n",
      "{'num_units 1': 16, 'num_units 2': 8, 'dropout': 0.3, 'l2 regularizer': 0.01, 'optimizer': 'RMSprop'}\n",
      "156/156 [==============================] - 0s 500us/sample - loss: 12.3275 - RootMeanSquaredError: 3.5074\n",
      "--- Starting trial: run-70\n",
      "{'num_units 1': 16, 'num_units 2': 8, 'dropout': 0.3, 'l2 regularizer': 0.01, 'optimizer': 'adam'}\n"
     ]
    },
    {
     "name": "stdout",
     "output_type": "stream",
     "text": [
      "156/156 [==============================] - 0s 537us/sample - loss: 10.6927 - RootMeanSquaredError: 3.2657\n",
      "--- Starting trial: run-71\n",
      "{'num_units 1': 16, 'num_units 2': 8, 'dropout': 0.3, 'l2 regularizer': 0.01, 'optimizer': 'sgd'}\n",
      "156/156 [==============================] - 0s 416us/sample - loss: 1591653857002258432.0000 - RootMeanSquaredError: 6.0210\n"
     ]
    }
   ],
   "source": [
    "HP_NUM_UNITS1 = hp.HParam('num_units 1', hp.Discrete([4,8,16])) \n",
    "HP_NUM_UNITS2 = hp.HParam('num_units 2', hp.Discrete([4,8]))\n",
    "HP_DROPOUT = hp.HParam('dropout', hp.RealInterval(0.1, 0.3))\n",
    "HP_OPTIMIZER = hp.HParam('optimizer', hp.Discrete(['adam', 'sgd','RMSprop']))\n",
    "HP_L2 = hp.HParam('l2 regularizer', hp.RealInterval(.001,.01))\n",
    "METRIC_RMSE = 'RootMeanSquaredError'\n",
    "\n",
    "with tf.summary.create_file_writer('logs/hparam_tuning').as_default():\n",
    "    hp.hparams_config(\n",
    "    hparams=[HP_NUM_UNITS1,HP_NUM_UNITS2, HP_DROPOUT,HP_L2 ,HP_OPTIMIZER],\n",
    "    metrics=[hp.Metric(METRIC_RMSE, display_name='RMSE')],\n",
    "  )\n",
    "\n",
    "def train_test_model(hparams):\n",
    "    model = tf.keras.Sequential([\n",
    "        tf.keras.layers.InputLayer(input_shape = x_train.shape[1]),\n",
    "        layers.Dense(hparams[HP_NUM_UNITS1], kernel_regularizer=tf.keras.regularizers.l2(0.001), activation=tf.nn.relu),\n",
    "        layers.Dropout(hparams[HP_DROPOUT]),\n",
    "        layers.Dense(hparams[HP_NUM_UNITS2], kernel_regularizer=tf.keras.regularizers.l2(0.001), activation=tf.nn.relu),\n",
    "        layers.Dense(1)\n",
    "    ])\n",
    "\n",
    "    model.compile(optimizer=hparams[HP_OPTIMIZER],\n",
    "                loss='mean_squared_error',\n",
    "                metrics=['RootMeanSquaredError'])\n",
    "\n",
    "    model.fit(x_train, y_train, epochs=100,verbose=False) \n",
    "    _, rmse = model.evaluate(x_test, y_test)\n",
    "    return rmse\n",
    "\n",
    "def run(run_dir, hparams):\n",
    "    with tf.summary.create_file_writer(run_dir).as_default():\n",
    "        hp.hparams(hparams)  # record the values used in this trial\n",
    "        rmse = train_test_model(hparams)\n",
    "        tf.summary.scalar(METRIC_RMSE, rmse, step=1)\n",
    "    return(rmse, hparams)\n",
    "\n",
    "session_num = 0\n",
    "min_rmse = float('inf')\n",
    "best_hparams = {}\n",
    "for num_units1 in HP_NUM_UNITS1.domain.values:\n",
    "    for num_units2 in HP_NUM_UNITS2.domain.values:\n",
    "        for dropout_rate in (HP_DROPOUT.domain.min_value, HP_DROPOUT.domain.max_value):\n",
    "            for l2 in (HP_L2.domain.min_value, HP_L2.domain.max_value):\n",
    "                for optimizer in HP_OPTIMIZER.domain.values:\n",
    "                    hparams = {\n",
    "                        HP_NUM_UNITS1: num_units1,\n",
    "                        HP_NUM_UNITS2: num_units2,\n",
    "                        HP_DROPOUT: dropout_rate,\n",
    "                        HP_L2: l2,\n",
    "                        HP_OPTIMIZER: optimizer\n",
    "                    }\n",
    "                    run_name = \"run-%d\" % session_num\n",
    "                    print('--- Starting trial: %s' % run_name)\n",
    "                    print({h.name: hparams[h] for h in hparams})\n",
    "                    rmse, current_hparams = run('logs/hparam_tuning/' + run_name, hparams)\n",
    "                    if (~np.isnan(rmse)) and (rmse < min_rmse): \n",
    "                        best_hparams = current_hparams\n",
    "                        min_rmse = rmse\n",
    "                        print(\"mis_rmse {}\".format(min_rmse))\n",
    "                    session_num += 1"
   ]
  },
  {
   "cell_type": "code",
   "execution_count": null,
   "metadata": {},
   "outputs": [],
   "source": [
    "!rm -rf ./logs/"
   ]
  },
  {
   "cell_type": "code",
   "execution_count": 82,
   "metadata": {},
   "outputs": [],
   "source": [
    "%reload_ext tensorboard"
   ]
  },
  {
   "cell_type": "code",
   "execution_count": 83,
   "metadata": {},
   "outputs": [
    {
     "data": {
      "text/html": [
       "\n",
       "      <iframe id=\"tensorboard-frame-e4ab18964ce6251e\" width=\"100%\" height=\"800\" frameborder=\"0\">\n",
       "      </iframe>\n",
       "      <script>\n",
       "        (function() {\n",
       "          const frame = document.getElementById(\"tensorboard-frame-e4ab18964ce6251e\");\n",
       "          const url = new URL(\"/\", window.location);\n",
       "          url.port = 6006;\n",
       "          frame.src = url;\n",
       "        })();\n",
       "      </script>\n",
       "  "
      ],
      "text/plain": [
       "<IPython.core.display.HTML object>"
      ]
     },
     "metadata": {},
     "output_type": "display_data"
    }
   ],
   "source": [
    "%tensorboard --logdir logs/hparam_tuning"
   ]
  },
  {
   "cell_type": "code",
   "execution_count": 94,
   "metadata": {},
   "outputs": [
    {
     "data": {
      "text/plain": [
       "3.1313617"
      ]
     },
     "execution_count": 94,
     "metadata": {},
     "output_type": "execute_result"
    }
   ],
   "source": [
    "min_rmse"
   ]
  },
  {
   "cell_type": "code",
   "execution_count": 95,
   "metadata": {},
   "outputs": [
    {
     "data": {
      "text/plain": [
       "[16, 8, 0.1, 0.001, 'RMSprop']"
      ]
     },
     "execution_count": 95,
     "metadata": {},
     "output_type": "execute_result"
    }
   ],
   "source": [
    "list(best_hparams.values())"
   ]
  },
  {
   "cell_type": "code",
   "execution_count": 118,
   "metadata": {},
   "outputs": [],
   "source": [
    "model = tf.keras.Sequential([\n",
    "    tf.keras.layers.InputLayer(input_shape = x_train.shape[1]),\n",
    "    layers.Dense(16, kernel_regularizer=tf.keras.regularizers.l2(0.001), activation=tf.nn.relu),\n",
    "    layers.Dropout(0.1),\n",
    "    layers.Dense(8, kernel_regularizer=tf.keras.regularizers.l2(0.001), activation=tf.nn.relu),\n",
    "    layers.Dense(1)\n",
    "])"
   ]
  },
  {
   "cell_type": "code",
   "execution_count": 119,
   "metadata": {},
   "outputs": [],
   "source": [
    "model.compile(optimizer=\"RMSProp\",\n",
    "            loss='mean_squared_error',\n",
    "            metrics=['RootMeanSquaredError'])"
   ]
  },
  {
   "cell_type": "code",
   "execution_count": 120,
   "metadata": {},
   "outputs": [
    {
     "name": "stdout",
     "output_type": "stream",
     "text": [
      "156/156 [==============================] - 0s 536us/sample - loss: 2.5500 - RootMeanSquaredError: 1.5885\n"
     ]
    }
   ],
   "source": [
    "model.fit(x_train, y_train, epochs=100, verbose=False) \n",
    "\n",
    "_, rmse = model.evaluate(x_test, y_test)"
   ]
  },
  {
   "cell_type": "code",
   "execution_count": 121,
   "metadata": {},
   "outputs": [],
   "source": [
    "predictions = model.predict(x_test)"
   ]
  },
  {
   "cell_type": "code",
   "execution_count": 122,
   "metadata": {},
   "outputs": [
    {
     "data": {
      "text/plain": [
       "<matplotlib.legend.Legend at 0x7f8a42de7128>"
      ]
     },
     "execution_count": 122,
     "metadata": {},
     "output_type": "execute_result"
    },
    {
     "data": {
      "image/png": "[encoded data removed]",
      "text/plain": [
       "<Figure size 1440x756 with 1 Axes>"
      ]
     },
     "metadata": {
      "needs_background": "light"
     },
     "output_type": "display_data"
    }
   ],
   "source": [
    "fig = plt.gcf()\n",
    "fig.set_size_inches(20, 10.5)\n",
    "plt.plot(range(len(y_test)), y_test, label=\"Observations\")\n",
    "plt.plot(range(len(y_test)), predictions, label=\"Predictions\")\n",
    "plt.legend(fontsize = 16)"
   ]
  },
  {
   "cell_type": "code",
   "execution_count": 124,
   "metadata": {},
   "outputs": [
    {
     "data": {
      "text/plain": [
       "(0, 20)"
      ]
     },
     "execution_count": 124,
     "metadata": {},
     "output_type": "execute_result"
    },
    {
     "data": {
      "image/png": "[encoded data removed]",
      "text/plain": [
       "<Figure size 432x288 with 1 Axes>"
      ]
     },
     "metadata": {
      "needs_background": "light"
     },
     "output_type": "display_data"
    }
   ],
   "source": [
    "plt.scatter(predictions, y_test)\n",
    "plt.xlim((0,20))\n",
    "plt.ylim((0,20))"
   ]
  },
  {
   "cell_type": "code",
   "execution_count": null,
   "metadata": {},
   "outputs": [],
   "source": []
  },
  {
   "cell_type": "code",
   "execution_count": null,
   "metadata": {},
   "outputs": [],
   "source": []
  },
  {
   "cell_type": "code",
   "execution_count": null,
   "metadata": {},
   "outputs": [],
   "source": []
  },
  {
   "cell_type": "code",
   "execution_count": null,
   "metadata": {},
   "outputs": [],
   "source": []
  },
  {
   "cell_type": "code",
   "execution_count": null,
   "metadata": {},
   "outputs": [],
   "source": []
  },
  {
   "cell_type": "code",
   "execution_count": null,
   "metadata": {},
   "outputs": [],
   "source": []
  },
  {
   "cell_type": "code",
   "execution_count": null,
   "metadata": {},
   "outputs": [],
   "source": []
  },
  {
   "cell_type": "code",
   "execution_count": null,
   "metadata": {},
   "outputs": [],
   "source": []
  },
  {
   "cell_type": "code",
   "execution_count": null,
   "metadata": {},
   "outputs": [],
   "source": []
  },
  {
   "cell_type": "code",
   "execution_count": null,
   "metadata": {},
   "outputs": [],
   "source": []
  },
  {
   "cell_type": "code",
   "execution_count": 424,
   "metadata": {},
   "outputs": [],
   "source": [
    "model = tf.keras.Sequential([\n",
    "    tf.keras.layers.InputLayer(input_shape = x_train.shape[1]),\n",
    "    layers.Dense(4, activation=tf.nn.relu),\n",
    "    layers.Dropout(0.1),\n",
    "    layers.Dense(8, activation=tf.nn.relu),\n",
    "    layers.Dense(1)\n",
    "])"
   ]
  },
  {
   "cell_type": "code",
   "execution_count": 431,
   "metadata": {},
   "outputs": [],
   "source": [
    "model = tf.keras.Sequential([\n",
    "    tf.keras.layers.InputLayer(input_shape = x_train.shape[1]),\n",
    "    layers.Dense(4, kernel_regularizer=tf.keras.regularizers.l2(0.01), activation=tf.nn.relu),\n",
    "    layers.Dropout(0.1),\n",
    "    layers.Dense(8, kernel_regularizer=tf.keras.regularizers.l2(0.01), activation=tf.nn.relu),\n",
    "    layers.Dense(1)\n",
    "])"
   ]
  },
  {
   "cell_type": "code",
   "execution_count": 432,
   "metadata": {},
   "outputs": [],
   "source": [
    "model.compile(optimizer=\"RMSProp\",\n",
    "            loss='mean_squared_error',\n",
    "            metrics=['RootMeanSquaredError'])"
   ]
  },
  {
   "cell_type": "code",
   "execution_count": 436,
   "metadata": {},
   "outputs": [
    {
     "name": "stdout",
     "output_type": "stream",
     "text": [
      "48/48 [==============================] - 0s 65us/sample - loss: 18.1600 - RootMeanSquaredError: 4.2500\n"
     ]
    }
   ],
   "source": [
    "model.fit(x_train, y_train, epochs=100, verbose=False) \n",
    "\n",
    "_, rmse = model.evaluate(x_test, y_test)"
   ]
  },
  {
   "cell_type": "code",
   "execution_count": 434,
   "metadata": {},
   "outputs": [
    {
     "data": {
      "text/plain": [
       "4.4760284"
      ]
     },
     "execution_count": 434,
     "metadata": {},
     "output_type": "execute_result"
    }
   ],
   "source": [
    "rmse"
   ]
  },
  {
   "cell_type": "code",
   "execution_count": 428,
   "metadata": {},
   "outputs": [],
   "source": [
    "predictions = model.predict(x_test)"
   ]
  },
  {
   "cell_type": "code",
   "execution_count": 429,
   "metadata": {},
   "outputs": [
    {
     "data": {
      "text/plain": [
       "4.093961828487743"
      ]
     },
     "execution_count": 429,
     "metadata": {},
     "output_type": "execute_result"
    }
   ],
   "source": [
    "math.sqrt(mean_squared_error(y_test,predictions))"
   ]
  },
  {
   "cell_type": "code",
   "execution_count": 22,
   "metadata": {},
   "outputs": [
    {
     "data": {
      "text/plain": [
       "1.3121330443779999e+32"
      ]
     },
     "execution_count": 22,
     "metadata": {},
     "output_type": "execute_result"
    }
   ],
   "source": [
    "y_hat = forecast(np.append(x_train[-1][1:],np.array(y_train[-1])), model, h, n_steps)\n",
    "y_hat = np.reshape(y_hat,len(y_test))\n",
    "\n",
    "math.sqrt(mean_squared_error(y_test,y_hat))"
   ]
  },
  {
   "cell_type": "code",
   "execution_count": 430,
   "metadata": {},
   "outputs": [
    {
     "data": {
      "text/plain": [
       "<matplotlib.legend.Legend at 0x7f48b7d98c88>"
      ]
     },
     "execution_count": 430,
     "metadata": {},
     "output_type": "execute_result"
    },
    {
     "data": {
      "image/png": "[encoded data removed]",
      "text/plain": [
       "<Figure size 432x288 with 1 Axes>"
      ]
     },
     "metadata": {
      "needs_background": "light"
     },
     "output_type": "display_data"
    }
   ],
   "source": [
    "plt.plot(range(len(y_test)), y_test, label=\"Observations\")\n",
    "plt.plot(range(len(y_test)), predictions, label=\"Predictions\")\n",
    "plt.legend()"
   ]
  },
  {
   "cell_type": "code",
   "execution_count": 367,
   "metadata": {},
   "outputs": [
    {
     "data": {
      "text/plain": [
       "array([ 4,  3,  2,  5,  3,  3,  3,  2,  1,  3,  7, 25, 31, 27, 21, 12,  8,\n",
       "        7,  9,  6,  7,  6,  1,  1,  1,  2,  2,  2,  4,  3,  3,  3,  3,  4,\n",
       "        3,  4,  5,  6,  6,  7,  8,  8,  8, 11, 11,  8,  5,  8])"
      ]
     },
     "execution_count": 367,
     "metadata": {},
     "output_type": "execute_result"
    }
   ],
   "source": [
    "y_test"
   ]
  },
  {
   "cell_type": "code",
   "execution_count": 368,
   "metadata": {},
   "outputs": [
    {
     "data": {
      "text/plain": [
       "array([[ 4.3304925],\n",
       "       [ 4.1157084],\n",
       "       [ 4.510546 ],\n",
       "       [ 2.1828644],\n",
       "       [ 4.7701654],\n",
       "       [ 4.578716 ],\n",
       "       [ 4.109888 ],\n",
       "       [ 3.4815905],\n",
       "       [ 3.6134114],\n",
       "       [ 2.4285672],\n",
       "       [ 2.6691763],\n",
       "       [ 6.6833134],\n",
       "       [20.75802  ],\n",
       "       [29.71366  ],\n",
       "       [26.457047 ],\n",
       "       [21.636944 ],\n",
       "       [15.348185 ],\n",
       "       [ 8.876786 ],\n",
       "       [ 4.997763 ],\n",
       "       [ 6.7743354],\n",
       "       [ 6.659576 ],\n",
       "       [ 7.1900506],\n",
       "       [ 5.728469 ],\n",
       "       [ 4.671945 ],\n",
       "       [ 4.2929974],\n",
       "       [ 3.7907398],\n",
       "       [ 3.4014685],\n",
       "       [ 2.4700365],\n",
       "       [ 2.674887 ],\n",
       "       [ 2.8462791],\n",
       "       [ 4.8797803],\n",
       "       [ 4.3375816],\n",
       "       [ 4.7033877],\n",
       "       [ 5.591171 ],\n",
       "       [ 5.25372  ],\n",
       "       [ 4.1358533],\n",
       "       [ 4.576705 ],\n",
       "       [ 5.8609815],\n",
       "       [ 6.9745603],\n",
       "       [ 6.513139 ],\n",
       "       [ 7.410751 ],\n",
       "       [ 8.147883 ],\n",
       "       [ 8.272674 ],\n",
       "       [ 7.422599 ],\n",
       "       [ 8.93429  ],\n",
       "       [10.05007  ],\n",
       "       [ 7.4488416],\n",
       "       [ 5.8084435]], dtype=float32)"
      ]
     },
     "execution_count": 368,
     "metadata": {},
     "output_type": "execute_result"
    }
   ],
   "source": [
    "predictions"
   ]
  },
  {
   "cell_type": "code",
   "execution_count": 115,
   "metadata": {},
   "outputs": [],
   "source": [
    "df_oni = pd.DataFrame(x,\n",
    "                  columns=[\"number\"],\n",
    "                  index=pd.date_range(\"19770101\", periods=len(x), freq='MS'))"
   ]
  },
  {
   "cell_type": "code",
   "execution_count": 117,
   "metadata": {},
   "outputs": [
    {
     "data": {
      "text/plain": [
       "[<matplotlib.lines.Line2D at 0x7fe54a5a6048>]"
      ]
     },
     "execution_count": 117,
     "metadata": {},
     "output_type": "execute_result"
    },
    {
     "data": {
      "image/png": "[encoded data removed]",
      "text/plain": [
       "<Figure size 1440x360 with 1 Axes>"
      ]
     },
     "metadata": {
      "needs_background": "light"
     },
     "output_type": "display_data"
    }
   ],
   "source": [
    "plt.rcParams[\"figure.figsize\"] = (20,5)\n",
    "plt.plot(x)"
   ]
  },
  {
   "cell_type": "code",
   "execution_count": 118,
   "metadata": {},
   "outputs": [
    {
     "data": {
      "text/plain": [
       "<matplotlib.axes._subplots.AxesSubplot at 0x7fe55178fe80>"
      ]
     },
     "execution_count": 118,
     "metadata": {},
     "output_type": "execute_result"
    },
    {
     "data": {
      "image/png": "[encoded data removed]",
      "text/plain": [
       "<Figure size 1440x360 with 1 Axes>"
      ]
     },
     "metadata": {
      "needs_background": "light"
     },
     "output_type": "display_data"
    }
   ],
   "source": [
    "df_oni.plot()"
   ]
  },
  {
   "cell_type": "code",
   "execution_count": 114,
   "metadata": {},
   "outputs": [
    {
     "data": {
      "text/html": [
       "<div>\n",
       "<style scoped>\n",
       "    .dataframe tbody tr th:only-of-type {\n",
       "        vertical-align: middle;\n",
       "    }\n",
       "\n",
       "    .dataframe tbody tr th {\n",
       "        vertical-align: top;\n",
       "    }\n",
       "\n",
       "    .dataframe thead th {\n",
       "        text-align: right;\n",
       "    }\n",
       "</style>\n",
       "<table border=\"1\" class=\"dataframe\">\n",
       "  <thead>\n",
       "    <tr style=\"text-align: right;\">\n",
       "      <th></th>\n",
       "      <th>number</th>\n",
       "    </tr>\n",
       "  </thead>\n",
       "  <tbody>\n",
       "    <tr>\n",
       "      <td>1970-01-01 00:00:00.000001980</td>\n",
       "      <td>3</td>\n",
       "    </tr>\n",
       "    <tr>\n",
       "      <td>1970-02-01 00:00:00.000001980</td>\n",
       "      <td>4</td>\n",
       "    </tr>\n",
       "    <tr>\n",
       "      <td>1970-03-01 00:00:00.000001980</td>\n",
       "      <td>6</td>\n",
       "    </tr>\n",
       "    <tr>\n",
       "      <td>1970-04-01 00:00:00.000001980</td>\n",
       "      <td>10</td>\n",
       "    </tr>\n",
       "    <tr>\n",
       "      <td>1970-05-01 00:00:00.000001980</td>\n",
       "      <td>12</td>\n",
       "    </tr>\n",
       "    <tr>\n",
       "      <td>...</td>\n",
       "      <td>...</td>\n",
       "    </tr>\n",
       "    <tr>\n",
       "      <td>2008-08-01 00:00:00.000001980</td>\n",
       "      <td>2</td>\n",
       "    </tr>\n",
       "    <tr>\n",
       "      <td>2008-09-01 00:00:00.000001980</td>\n",
       "      <td>2</td>\n",
       "    </tr>\n",
       "    <tr>\n",
       "      <td>2008-10-01 00:00:00.000001980</td>\n",
       "      <td>3</td>\n",
       "    </tr>\n",
       "    <tr>\n",
       "      <td>2008-11-01 00:00:00.000001980</td>\n",
       "      <td>3</td>\n",
       "    </tr>\n",
       "    <tr>\n",
       "      <td>2008-12-01 00:00:00.000001980</td>\n",
       "      <td>2</td>\n",
       "    </tr>\n",
       "  </tbody>\n",
       "</table>\n",
       "<p>468 rows × 1 columns</p>\n",
       "</div>"
      ],
      "text/plain": [
       "                               number\n",
       "1970-01-01 00:00:00.000001980       3\n",
       "1970-02-01 00:00:00.000001980       4\n",
       "1970-03-01 00:00:00.000001980       6\n",
       "1970-04-01 00:00:00.000001980      10\n",
       "1970-05-01 00:00:00.000001980      12\n",
       "...                               ...\n",
       "2008-08-01 00:00:00.000001980       2\n",
       "2008-09-01 00:00:00.000001980       2\n",
       "2008-10-01 00:00:00.000001980       3\n",
       "2008-11-01 00:00:00.000001980       3\n",
       "2008-12-01 00:00:00.000001980       2\n",
       "\n",
       "[468 rows x 1 columns]"
      ]
     },
     "execution_count": 114,
     "metadata": {},
     "output_type": "execute_result"
    }
   ],
   "source": [
    "df_oni"
   ]
  },
  {
   "cell_type": "code",
   "execution_count": null,
   "metadata": {},
   "outputs": [],
   "source": []
  },
  {
   "cell_type": "code",
   "execution_count": null,
   "metadata": {},
   "outputs": [],
   "source": []
  },
  {
   "cell_type": "code",
   "execution_count": null,
   "metadata": {},
   "outputs": [],
   "source": []
  },
  {
   "cell_type": "code",
   "execution_count": null,
   "metadata": {},
   "outputs": [],
   "source": []
  },
  {
   "cell_type": "code",
   "execution_count": null,
   "metadata": {},
   "outputs": [],
   "source": []
  },
  {
   "cell_type": "code",
   "execution_count": 38,
   "metadata": {},
   "outputs": [],
   "source": [
    "raw_seq = x[index:index+(n+m)*f,:]"
   ]
  },
  {
   "cell_type": "code",
   "execution_count": 14,
   "metadata": {},
   "outputs": [],
   "source": [
    "# define input sequence\n",
    "raw_seq = x[index:index+(n+m)*f]\n",
    "X, y_test = train_test_split_ts_2d_raw(raw_seq, h) \n",
    "#X, avgs = uni_deseasonalize(X)\n",
    "x_train, y_train = split_sequence(X, n_steps)"
   ]
  },
  {
   "cell_type": "code",
   "execution_count": 15,
   "metadata": {},
   "outputs": [],
   "source": [
    "x_test, y_test = split_sequence(y_test, n_steps)"
   ]
  },
  {
   "cell_type": "code",
   "execution_count": 65,
   "metadata": {},
   "outputs": [],
   "source": [
    "X_train, y_train = split_sequence(X[:,0], n_steps)"
   ]
  },
  {
   "cell_type": "code",
   "execution_count": 66,
   "metadata": {},
   "outputs": [],
   "source": [
    "oni_x = np.reshape(X[19:-1,1], (X_train.shape[0],1))\n",
    "oni_y = np.reshape(X[19:-1,1], (X_train.shape[0],1))"
   ]
  },
  {
   "cell_type": "code",
   "execution_count": 67,
   "metadata": {},
   "outputs": [],
   "source": [
    "X_train = np.hstack((oni_x, X_train))"
   ]
  },
  {
   "cell_type": "code",
   "execution_count": 59,
   "metadata": {},
   "outputs": [],
   "source": []
  },
  {
   "cell_type": "code",
   "execution_count": null,
   "metadata": {},
   "outputs": [],
   "source": [
    "# define input sequence\n",
    "raw_seq = x[index:index+(n+m)*f]\n",
    "X, y_test = train_test_split_ts_2d_raw(raw_seq, h) \n",
    "#X, avgs = uni_deseasonalize(X)\n",
    "\n",
    "X_train, y_train = split_sequence(X, n_steps)"
   ]
  },
  {
   "cell_type": "code",
   "execution_count": null,
   "metadata": {},
   "outputs": [],
   "source": []
  },
  {
   "cell_type": "code",
   "execution_count": 86,
   "metadata": {},
   "outputs": [],
   "source": [
    "raw_seq = x[index:index+(n+m)*f]"
   ]
  },
  {
   "cell_type": "code",
   "execution_count": 87,
   "metadata": {},
   "outputs": [],
   "source": [
    "X, y = split_sequence(raw_seq, n_steps)"
   ]
  },
  {
   "cell_type": "code",
   "execution_count": 88,
   "metadata": {},
   "outputs": [],
   "source": [
    "x_train, x_test = train_test_split_ts_2d_raw(X, h)"
   ]
  },
  {
   "cell_type": "code",
   "execution_count": 89,
   "metadata": {},
   "outputs": [],
   "source": [
    "y_train, y_test = train_test_split_ts_2d_raw(y, h)"
   ]
  },
  {
   "cell_type": "code",
   "execution_count": null,
   "metadata": {},
   "outputs": [],
   "source": []
  },
  {
   "cell_type": "code",
   "execution_count": 55,
   "metadata": {},
   "outputs": [],
   "source": [
    "n_units = [16]\n",
    "learning_rate = 0.001\n",
    "optimizer = 'adam'\n",
    "epochs = 100"
   ]
  },
  {
   "cell_type": "code",
   "execution_count": 59,
   "metadata": {},
   "outputs": [],
   "source": [
    "n_units = [200,100,50,30,20,10]\n",
    "learning_rate = 0.001\n",
    "optimizer = 'adam'\n",
    "epochs = 500"
   ]
  },
  {
   "cell_type": "code",
   "execution_count": 60,
   "metadata": {},
   "outputs": [],
   "source": [
    "model = build_model(n_steps, n_units, learning_rate, optimizer)\n",
    "model.fit(X_train, y_train, epochs=epochs, validation_split = 0.2, verbose=0)\n",
    "y_hat = forecast(np.append(X_train[-1][1:],np.array(y_train[-1])), model, h, n_steps)\n",
    "y_hat = np.reshape(y_hat,len(y_test))"
   ]
  },
  {
   "cell_type": "code",
   "execution_count": 116,
   "metadata": {},
   "outputs": [],
   "source": [
    "#avgs = np.tile(avgs, int(len(y_hat)/f))\n",
    "#stds = np.tile(stds, int(len(y_hat)/f))"
   ]
  },
  {
   "cell_type": "code",
   "execution_count": 61,
   "metadata": {},
   "outputs": [
    {
     "data": {
      "text/plain": [
       "8.306955666928031"
      ]
     },
     "execution_count": 61,
     "metadata": {},
     "output_type": "execute_result"
    }
   ],
   "source": [
    "math.sqrt(mean_squared_error(y_test,y_hat))"
   ]
  },
  {
   "cell_type": "code",
   "execution_count": 58,
   "metadata": {},
   "outputs": [
    {
     "data": {
      "text/plain": [
       "<matplotlib.legend.Legend at 0x7f23c050ea58>"
      ]
     },
     "execution_count": 58,
     "metadata": {},
     "output_type": "execute_result"
    },
    {
     "data": {
      "image/png": "[encoded data removed]",
      "text/plain": [
       "<Figure size 432x288 with 1 Axes>"
      ]
     },
     "metadata": {
      "needs_background": "light"
     },
     "output_type": "display_data"
    }
   ],
   "source": [
    "plt.plot(range(len(y_test)), y_test, label=\"Observations\")\n",
    "plt.plot(range(len(y_test)), y_hat, label=\"Predictions\")\n",
    "plt.legend()"
   ]
  },
  {
   "cell_type": "code",
   "execution_count": 112,
   "metadata": {},
   "outputs": [
    {
     "data": {
      "text/plain": [
       "array([ 1,  2,  2,  2,  4,  3,  3,  3,  3,  4,  3,  4,  5,  6,  6,  7,  8,\n",
       "        8,  8, 11, 11,  8,  5,  8,  8, 14, 12, 11, 14, 15, 17, 15, 17, 14,\n",
       "       18, 11])"
      ]
     },
     "execution_count": 112,
     "metadata": {},
     "output_type": "execute_result"
    }
   ],
   "source": [
    "y_test"
   ]
  },
  {
   "cell_type": "code",
   "execution_count": null,
   "metadata": {},
   "outputs": [],
   "source": []
  },
  {
   "cell_type": "code",
   "execution_count": null,
   "metadata": {},
   "outputs": [],
   "source": [
    "if np.any(np.isnan(y_hat)):\n",
    "    errors.append(np.nan)\n",
    "else:\n",
    "    errors.append(math.sqrt(mean_squared_error(y_test,y_hat)))"
   ]
  },
  {
   "cell_type": "code",
   "execution_count": null,
   "metadata": {},
   "outputs": [],
   "source": []
  },
  {
   "cell_type": "code",
   "execution_count": null,
   "metadata": {},
   "outputs": [],
   "source": []
  },
  {
   "cell_type": "code",
   "execution_count": 29,
   "metadata": {},
   "outputs": [],
   "source": [
    "%load_ext tensorboard"
   ]
  },
  {
   "cell_type": "code",
   "execution_count": 30,
   "metadata": {},
   "outputs": [],
   "source": [
    "!rm -rf ./logs/ "
   ]
  },
  {
   "cell_type": "code",
   "execution_count": 371,
   "metadata": {},
   "outputs": [],
   "source": [
    "HP_NUM_UNITS = hp.HParam('num_units', hp.Discrete([16, 32]))\n",
    "HP_DROPOUT = hp.HParam('dropout', hp.RealInterval(0.1, 0.2))\n",
    "HP_OPTIMIZER = hp.HParam('optimizer', hp.Discrete(['adam', 'sgd']))\n",
    "\n",
    "METRIC_RMSE = 'RootMeanSquaredError'\n",
    "\n",
    "with tf.summary.create_file_writer('logs/hparam_tuning').as_default():\n",
    "    hp.hparams_config(\n",
    "    hparams=[HP_NUM_UNITS, HP_DROPOUT, HP_OPTIMIZER],\n",
    "    metrics=[hp.Metric(METRIC_RMSE, display_name='RMSE')],\n",
    "  )"
   ]
  },
  {
   "cell_type": "code",
   "execution_count": 373,
   "metadata": {},
   "outputs": [],
   "source": [
    "def train_test_model(hparams):\n",
    "    model = tf.keras.models.Sequential([\n",
    "    tf.keras.layers.InputLayer(input_shape = n_steps *2 ),\n",
    "    tf.keras.layers.Dense(hparams[HP_NUM_UNITS], activation=tf.nn.relu),\n",
    "    tf.keras.layers.Dropout(hparams[HP_DROPOUT]),\n",
    "    tf.keras.layers.Dense(1),\n",
    "    ])\n",
    "    model.compile(\n",
    "      optimizer=hparams[HP_OPTIMIZER],\n",
    "      loss='mean_squared_error',\n",
    "      metrics=['RootMeanSquaredError'],\n",
    "    )\n",
    "\n",
    "    model.fit(x_train, y_train, epochs=100,verbose=False) # Run with 1 epoch to speed things up for demo purposes\n",
    "    _, rmse = model.evaluate(x_test, y_test)\n",
    "    return rmse\n"
   ]
  },
  {
   "cell_type": "code",
   "execution_count": 374,
   "metadata": {},
   "outputs": [],
   "source": [
    "def run(run_dir, hparams):\n",
    "    with tf.summary.create_file_writer(run_dir).as_default():\n",
    "        hp.hparams(hparams)  # record the values used in this trial\n",
    "        rmse = train_test_model(hparams)\n",
    "        tf.summary.scalar(METRIC_RMSE, rmse, step=10)"
   ]
  },
  {
   "cell_type": "code",
   "execution_count": 375,
   "metadata": {},
   "outputs": [
    {
     "name": "stdout",
     "output_type": "stream",
     "text": [
      "--- Starting trial: run-0\n",
      "{'num_units': 16, 'dropout': 0.1, 'optimizer': 'adam'}\n",
      "48/48 [==============================] - 0s 1ms/sample - loss: 19.1536 - RootMeanSquaredError: 4.3765\n",
      "--- Starting trial: run-1\n",
      "{'num_units': 16, 'dropout': 0.1, 'optimizer': 'sgd'}\n",
      "48/48 [==============================] - 0s 1ms/sample - loss: 47.7244 - RootMeanSquaredError: 6.9083\n",
      "--- Starting trial: run-2\n",
      "{'num_units': 16, 'dropout': 0.2, 'optimizer': 'adam'}\n",
      "48/48 [==============================] - 0s 1ms/sample - loss: 18.5791 - RootMeanSquaredError: 4.3103\n",
      "--- Starting trial: run-3\n",
      "{'num_units': 16, 'dropout': 0.2, 'optimizer': 'sgd'}\n",
      "48/48 [==============================] - 0s 1ms/sample - loss: 47.5877 - RootMeanSquaredError: 6.8984\n",
      "--- Starting trial: run-4\n",
      "{'num_units': 32, 'dropout': 0.1, 'optimizer': 'adam'}\n",
      "48/48 [==============================] - 0s 1ms/sample - loss: 21.7139 - RootMeanSquaredError: 4.6598\n",
      "--- Starting trial: run-5\n",
      "{'num_units': 32, 'dropout': 0.1, 'optimizer': 'sgd'}\n",
      "48/48 [==============================] - 0s 985us/sample - loss: 48.1635 - RootMeanSquaredError: 6.9400\n",
      "--- Starting trial: run-6\n",
      "{'num_units': 32, 'dropout': 0.2, 'optimizer': 'adam'}\n",
      "48/48 [==============================] - 0s 995us/sample - loss: 20.6733 - RootMeanSquaredError: 4.5468\n",
      "--- Starting trial: run-7\n",
      "{'num_units': 32, 'dropout': 0.2, 'optimizer': 'sgd'}\n",
      "48/48 [==============================] - 0s 1ms/sample - loss: 48.1068 - RootMeanSquaredError: 6.9359\n"
     ]
    }
   ],
   "source": [
    "session_num = 0\n",
    "\n",
    "for num_units in HP_NUM_UNITS.domain.values:\n",
    "    for dropout_rate in (HP_DROPOUT.domain.min_value, HP_DROPOUT.domain.max_value):\n",
    "        for optimizer in HP_OPTIMIZER.domain.values:\n",
    "            hparams = {\n",
    "                HP_NUM_UNITS: num_units,\n",
    "                HP_DROPOUT: dropout_rate,\n",
    "                HP_OPTIMIZER: optimizer,\n",
    "            }\n",
    "            run_name = \"run-%d\" % session_num\n",
    "            print('--- Starting trial: %s' % run_name)\n",
    "            print({h.name: hparams[h] for h in hparams})\n",
    "            run('logs/hparam_tuning/' + run_name, hparams)\n",
    "            session_num += 1\n",
    "\n"
   ]
  },
  {
   "cell_type": "code",
   "execution_count": 23,
   "metadata": {},
   "outputs": [],
   "source": [
    "!kill 27181"
   ]
  },
  {
   "cell_type": "code",
   "execution_count": 253,
   "metadata": {},
   "outputs": [
    {
     "data": {
      "text/plain": [
       "Reusing TensorBoard on port 6006 (pid 28404), started 7:23:30 ago. (Use '!kill 28404' to kill it.)"
      ]
     },
     "metadata": {},
     "output_type": "display_data"
    },
    {
     "data": {
      "text/html": [
       "\n",
       "      <iframe id=\"tensorboard-frame-4cef9140f8d58125\" width=\"100%\" height=\"800\" frameborder=\"0\">\n",
       "      </iframe>\n",
       "      <script>\n",
       "        (function() {\n",
       "          const frame = document.getElementById(\"tensorboard-frame-4cef9140f8d58125\");\n",
       "          const url = new URL(\"/\", window.location);\n",
       "          url.port = 6006;\n",
       "          frame.src = url;\n",
       "        })();\n",
       "      </script>\n",
       "  "
      ],
      "text/plain": [
       "<IPython.core.display.HTML object>"
      ]
     },
     "metadata": {},
     "output_type": "display_data"
    }
   ],
   "source": [
    "%tensorboard --logdir logs/hparam_tuning"
   ]
  },
  {
   "cell_type": "code",
   "execution_count": null,
   "metadata": {},
   "outputs": [],
   "source": []
  },
  {
   "cell_type": "code",
   "execution_count": 59,
   "metadata": {},
   "outputs": [],
   "source": [
    "HP_NUM_UNITS1 = hp.HParam('num_units 1', hp.Discrete([4,8,16])) \n",
    "HP_NUM_UNITS2 = hp.HParam('num_units 2', hp.Discrete([4,8]))\n",
    "HP_DROPOUT = hp.HParam('dropout', hp.RealInterval(0.1, 0.3))\n",
    "HP_OPTIMIZER = hp.HParam('optimizer', hp.Discrete(['adam', 'sgd','RMSprop']))\n",
    "HP_L2 = hp.HParam('l2 regularizer', hp.RealInterval(.001,.01))\n",
    "METRIC_RMSE = 'RootMeanSquaredError'\n",
    "\n",
    "with tf.summary.create_file_writer('logs/hparam_tuning').as_default():\n",
    "    hp.hparams_config(\n",
    "    hparams=[HP_NUM_UNITS1,HP_NUM_UNITS2, HP_DROPOUT,HP_L2 ,HP_OPTIMIZER],\n",
    "    metrics=[hp.Metric(METRIC_RMSE, display_name='RMSE')],\n",
    "  )"
   ]
  },
  {
   "cell_type": "code",
   "execution_count": 60,
   "metadata": {},
   "outputs": [],
   "source": [
    "def train_test_model(hparams):\n",
    "    model = tf.keras.Sequential([\n",
    "        tf.keras.layers.InputLayer(input_shape = x_train.shape[1]),\n",
    "        layers.Dense(hparams[HP_NUM_UNITS1], kernel_regularizer=tf.keras.regularizers.l2(0.001), activation=tf.nn.relu),\n",
    "        layers.Dropout(hparams[HP_DROPOUT]),\n",
    "        layers.Dense(hparams[HP_NUM_UNITS2], kernel_regularizer=tf.keras.regularizers.l2(0.001), activation=tf.nn.relu),\n",
    "        layers.Dense(1)\n",
    "    ])\n",
    "\n",
    "    model.compile(optimizer=hparams[HP_OPTIMIZER],\n",
    "                loss='mean_squared_error',\n",
    "                metrics=['RootMeanSquaredError'])\n",
    "\n",
    "    model.fit(x_train, y_train, epochs=100,verbose=False) \n",
    "    _, rmse = model.evaluate(x_test, y_test)\n",
    "    return rmse"
   ]
  },
  {
   "cell_type": "code",
   "execution_count": 61,
   "metadata": {},
   "outputs": [],
   "source": [
    "def run(run_dir, hparams):\n",
    "    with tf.summary.create_file_writer(run_dir).as_default():\n",
    "        hp.hparams(hparams)  # record the values used in this trial\n",
    "        rmse = train_test_model(hparams)\n",
    "        tf.summary.scalar(METRIC_RMSE, rmse, step=1)\n",
    "    return(rmse, hparams)"
   ]
  },
  {
   "cell_type": "code",
   "execution_count": 62,
   "metadata": {},
   "outputs": [
    {
     "name": "stdout",
     "output_type": "stream",
     "text": [
      "--- Starting trial: run-0\n",
      "{'num_units 1': 4, 'num_units 2': 4, 'dropout': 0.1, 'l2 regularizer': 0.001, 'optimizer': 'RMSprop'}\n",
      "156/156 [==============================] - 0s 449us/sample - loss: 17.8580 - RootMeanSquaredError: 4.2251\n",
      "mis_rmse 4.225065231323242\n",
      "--- Starting trial: run-1\n",
      "{'num_units 1': 4, 'num_units 2': 4, 'dropout': 0.1, 'l2 regularizer': 0.001, 'optimizer': 'adam'}\n",
      "156/156 [==============================] - 0s 412us/sample - loss: 10.4366 - RootMeanSquaredError: 3.2289\n",
      "mis_rmse 3.228870153427124\n",
      "--- Starting trial: run-2\n",
      "{'num_units 1': 4, 'num_units 2': 4, 'dropout': 0.1, 'l2 regularizer': 0.001, 'optimizer': 'sgd'}\n",
      "156/156 [==============================] - 0s 407us/sample - loss: 41.9251 - RootMeanSquaredError: 6.0395\n",
      "--- Starting trial: run-3\n",
      "{'num_units 1': 4, 'num_units 2': 4, 'dropout': 0.1, 'l2 regularizer': 0.01, 'optimizer': 'RMSprop'}\n",
      "156/156 [==============================] - 0s 419us/sample - loss: 15.8140 - RootMeanSquaredError: 3.9760\n",
      "--- Starting trial: run-4\n",
      "{'num_units 1': 4, 'num_units 2': 4, 'dropout': 0.1, 'l2 regularizer': 0.01, 'optimizer': 'adam'}\n",
      "156/156 [==============================] - 0s 387us/sample - loss: 11.4550 - RootMeanSquaredError: 3.3829\n",
      "--- Starting trial: run-5\n",
      "{'num_units 1': 4, 'num_units 2': 4, 'dropout': 0.1, 'l2 regularizer': 0.01, 'optimizer': 'sgd'}\n",
      "156/156 [==============================] - 0s 392us/sample - loss: 997.6267 - RootMeanSquaredError: 6.0777\n",
      "--- Starting trial: run-6\n",
      "{'num_units 1': 4, 'num_units 2': 4, 'dropout': 0.3, 'l2 regularizer': 0.001, 'optimizer': 'RMSprop'}\n",
      "156/156 [==============================] - 0s 414us/sample - loss: 15.3868 - RootMeanSquaredError: 3.9214\n",
      "--- Starting trial: run-7\n",
      "{'num_units 1': 4, 'num_units 2': 4, 'dropout': 0.3, 'l2 regularizer': 0.001, 'optimizer': 'adam'}\n",
      "156/156 [==============================] - 0s 396us/sample - loss: 12.9074 - RootMeanSquaredError: 3.5917\n",
      "--- Starting trial: run-8\n",
      "{'num_units 1': 4, 'num_units 2': 4, 'dropout': 0.3, 'l2 regularizer': 0.001, 'optimizer': 'sgd'}\n",
      "156/156 [==============================] - 0s 388us/sample - loss: 127773.1593 - RootMeanSquaredError: 5.6668\n",
      "--- Starting trial: run-9\n",
      "{'num_units 1': 4, 'num_units 2': 4, 'dropout': 0.3, 'l2 regularizer': 0.01, 'optimizer': 'RMSprop'}\n",
      "156/156 [==============================] - 0s 385us/sample - loss: 13.1581 - RootMeanSquaredError: 3.6268\n",
      "--- Starting trial: run-10\n",
      "{'num_units 1': 4, 'num_units 2': 4, 'dropout': 0.3, 'l2 regularizer': 0.01, 'optimizer': 'adam'}\n",
      "156/156 [==============================] - 0s 379us/sample - loss: 16.4359 - RootMeanSquaredError: 4.0528\n",
      "--- Starting trial: run-11\n",
      "{'num_units 1': 4, 'num_units 2': 4, 'dropout': 0.3, 'l2 regularizer': 0.01, 'optimizer': 'sgd'}\n",
      "156/156 [==============================] - 0s 404us/sample - loss: 36.7986 - RootMeanSquaredError: 6.0307\n",
      "--- Starting trial: run-12\n",
      "{'num_units 1': 4, 'num_units 2': 8, 'dropout': 0.1, 'l2 regularizer': 0.001, 'optimizer': 'RMSprop'}\n",
      "156/156 [==============================] - 0s 518us/sample - loss: 11.8623 - RootMeanSquaredError: 3.4427\n",
      "--- Starting trial: run-13\n",
      "{'num_units 1': 4, 'num_units 2': 8, 'dropout': 0.1, 'l2 regularizer': 0.001, 'optimizer': 'adam'}\n",
      "156/156 [==============================] - 0s 417us/sample - loss: 11.8636 - RootMeanSquaredError: 3.4429\n",
      "--- Starting trial: run-14\n",
      "{'num_units 1': 4, 'num_units 2': 8, 'dropout': 0.1, 'l2 regularizer': 0.001, 'optimizer': 'sgd'}\n",
      "156/156 [==============================] - 0s 390us/sample - loss: 124995.9543 - RootMeanSquaredError: 6.0280\n",
      "--- Starting trial: run-15\n",
      "{'num_units 1': 4, 'num_units 2': 8, 'dropout': 0.1, 'l2 regularizer': 0.01, 'optimizer': 'RMSprop'}\n",
      "156/156 [==============================] - 0s 418us/sample - loss: 14.9055 - RootMeanSquaredError: 3.8596\n",
      "--- Starting trial: run-16\n",
      "{'num_units 1': 4, 'num_units 2': 8, 'dropout': 0.1, 'l2 regularizer': 0.01, 'optimizer': 'adam'}\n",
      "156/156 [==============================] - 0s 386us/sample - loss: 12.2984 - RootMeanSquaredError: 3.5058\n",
      "--- Starting trial: run-17\n",
      "{'num_units 1': 4, 'num_units 2': 8, 'dropout': 0.1, 'l2 regularizer': 0.01, 'optimizer': 'sgd'}\n",
      "156/156 [==============================] - 0s 381us/sample - loss: 40.7698 - RootMeanSquaredError: 6.3826\n",
      "--- Starting trial: run-18\n",
      "{'num_units 1': 4, 'num_units 2': 8, 'dropout': 0.3, 'l2 regularizer': 0.001, 'optimizer': 'RMSprop'}\n",
      "156/156 [==============================] - 0s 390us/sample - loss: 14.0637 - RootMeanSquaredError: 3.7488\n",
      "--- Starting trial: run-19\n",
      "{'num_units 1': 4, 'num_units 2': 8, 'dropout': 0.3, 'l2 regularizer': 0.001, 'optimizer': 'adam'}\n",
      "156/156 [==============================] - 0s 411us/sample - loss: 13.9164 - RootMeanSquaredError: 3.7295\n",
      "--- Starting trial: run-20\n",
      "{'num_units 1': 4, 'num_units 2': 8, 'dropout': 0.3, 'l2 regularizer': 0.001, 'optimizer': 'sgd'}\n",
      "156/156 [==============================] - 0s 504us/sample - loss: 33.8626 - RootMeanSquaredError: 5.8151\n",
      "--- Starting trial: run-21\n",
      "{'num_units 1': 4, 'num_units 2': 8, 'dropout': 0.3, 'l2 regularizer': 0.01, 'optimizer': 'RMSprop'}\n",
      "156/156 [==============================] - 0s 395us/sample - loss: 17.7992 - RootMeanSquaredError: 4.2177\n",
      "--- Starting trial: run-22\n",
      "{'num_units 1': 4, 'num_units 2': 8, 'dropout': 0.3, 'l2 regularizer': 0.01, 'optimizer': 'adam'}\n",
      "156/156 [==============================] - 0s 381us/sample - loss: 15.9704 - RootMeanSquaredError: 3.9951\n",
      "--- Starting trial: run-23\n",
      "{'num_units 1': 4, 'num_units 2': 8, 'dropout': 0.3, 'l2 regularizer': 0.01, 'optimizer': 'sgd'}\n",
      "156/156 [==============================] - 0s 414us/sample - loss: 36.2064 - RootMeanSquaredError: 6.0158\n",
      "--- Starting trial: run-24\n",
      "{'num_units 1': 8, 'num_units 2': 4, 'dropout': 0.1, 'l2 regularizer': 0.001, 'optimizer': 'RMSprop'}\n",
      "156/156 [==============================] - 0s 396us/sample - loss: 11.3683 - RootMeanSquaredError: 3.3705\n",
      "--- Starting trial: run-25\n",
      "{'num_units 1': 8, 'num_units 2': 4, 'dropout': 0.1, 'l2 regularizer': 0.001, 'optimizer': 'adam'}\n",
      "156/156 [==============================] - 0s 501us/sample - loss: 17.6494 - RootMeanSquaredError: 4.1996\n",
      "--- Starting trial: run-26\n",
      "{'num_units 1': 8, 'num_units 2': 4, 'dropout': 0.1, 'l2 regularizer': 0.001, 'optimizer': 'sgd'}\n",
      "156/156 [==============================] - 0s 532us/sample - loss: 241.9973 - RootMeanSquaredError: 6.0525\n",
      "--- Starting trial: run-27\n",
      "{'num_units 1': 8, 'num_units 2': 4, 'dropout': 0.1, 'l2 regularizer': 0.01, 'optimizer': 'RMSprop'}\n",
      "156/156 [==============================] - 0s 389us/sample - loss: 12.2068 - RootMeanSquaredError: 3.4925\n",
      "--- Starting trial: run-28\n",
      "{'num_units 1': 8, 'num_units 2': 4, 'dropout': 0.1, 'l2 regularizer': 0.01, 'optimizer': 'adam'}\n",
      "156/156 [==============================] - 0s 431us/sample - loss: 13.7668 - RootMeanSquaredError: 3.7086\n",
      "--- Starting trial: run-29\n",
      "{'num_units 1': 8, 'num_units 2': 4, 'dropout': 0.1, 'l2 regularizer': 0.01, 'optimizer': 'sgd'}\n",
      "156/156 [==============================] - 0s 462us/sample - loss: 40.6933 - RootMeanSquaredError: 6.0224\n",
      "--- Starting trial: run-30\n",
      "{'num_units 1': 8, 'num_units 2': 4, 'dropout': 0.3, 'l2 regularizer': 0.001, 'optimizer': 'RMSprop'}\n",
      "156/156 [==============================] - 0s 391us/sample - loss: 16.1875 - RootMeanSquaredError: 4.0218\n",
      "--- Starting trial: run-31\n",
      "{'num_units 1': 8, 'num_units 2': 4, 'dropout': 0.3, 'l2 regularizer': 0.001, 'optimizer': 'adam'}\n",
      "156/156 [==============================] - 0s 401us/sample - loss: 12.9453 - RootMeanSquaredError: 3.5967\n",
      "--- Starting trial: run-32\n",
      "{'num_units 1': 8, 'num_units 2': 4, 'dropout': 0.3, 'l2 regularizer': 0.001, 'optimizer': 'sgd'}\n",
      "156/156 [==============================] - 0s 467us/sample - loss: 157.5461 - RootMeanSquaredError: 6.0161\n",
      "--- Starting trial: run-33\n",
      "{'num_units 1': 8, 'num_units 2': 4, 'dropout': 0.3, 'l2 regularizer': 0.01, 'optimizer': 'RMSprop'}\n",
      "156/156 [==============================] - 0s 473us/sample - loss: 12.0536 - RootMeanSquaredError: 3.4702\n",
      "--- Starting trial: run-34\n",
      "{'num_units 1': 8, 'num_units 2': 4, 'dropout': 0.3, 'l2 regularizer': 0.01, 'optimizer': 'adam'}\n",
      "156/156 [==============================] - 0s 451us/sample - loss: 15.9718 - RootMeanSquaredError: 3.9947\n",
      "--- Starting trial: run-35\n",
      "{'num_units 1': 8, 'num_units 2': 4, 'dropout': 0.3, 'l2 regularizer': 0.01, 'optimizer': 'sgd'}\n"
     ]
    },
    {
     "name": "stdout",
     "output_type": "stream",
     "text": [
      "156/156 [==============================] - 0s 487us/sample - loss: 40.0987 - RootMeanSquaredError: 6.0327\n",
      "--- Starting trial: run-36\n",
      "{'num_units 1': 8, 'num_units 2': 8, 'dropout': 0.1, 'l2 regularizer': 0.001, 'optimizer': 'RMSprop'}\n",
      "156/156 [==============================] - 0s 413us/sample - loss: 10.9880 - RootMeanSquaredError: 3.3129\n",
      "--- Starting trial: run-37\n",
      "{'num_units 1': 8, 'num_units 2': 8, 'dropout': 0.1, 'l2 regularizer': 0.001, 'optimizer': 'adam'}\n",
      "156/156 [==============================] - 0s 472us/sample - loss: 11.7133 - RootMeanSquaredError: 3.4203\n",
      "--- Starting trial: run-38\n",
      "{'num_units 1': 8, 'num_units 2': 8, 'dropout': 0.1, 'l2 regularizer': 0.001, 'optimizer': 'sgd'}\n",
      "156/156 [==============================] - 0s 569us/sample - loss: 46.9215 - RootMeanSquaredError: 6.0434\n",
      "--- Starting trial: run-39\n",
      "{'num_units 1': 8, 'num_units 2': 8, 'dropout': 0.1, 'l2 regularizer': 0.01, 'optimizer': 'RMSprop'}\n",
      "156/156 [==============================] - 0s 514us/sample - loss: 10.7290 - RootMeanSquaredError: 3.2732\n",
      "--- Starting trial: run-40\n",
      "{'num_units 1': 8, 'num_units 2': 8, 'dropout': 0.1, 'l2 regularizer': 0.01, 'optimizer': 'adam'}\n",
      "156/156 [==============================] - 0s 441us/sample - loss: 13.1631 - RootMeanSquaredError: 3.6261\n",
      "--- Starting trial: run-41\n",
      "{'num_units 1': 8, 'num_units 2': 8, 'dropout': 0.1, 'l2 regularizer': 0.01, 'optimizer': 'sgd'}\n",
      "156/156 [==============================] - 0s 468us/sample - loss: 856724.0032 - RootMeanSquaredError: 6.0309\n",
      "--- Starting trial: run-42\n",
      "{'num_units 1': 8, 'num_units 2': 8, 'dropout': 0.3, 'l2 regularizer': 0.001, 'optimizer': 'RMSprop'}\n",
      "156/156 [==============================] - 0s 449us/sample - loss: 14.7538 - RootMeanSquaredError: 3.8399\n",
      "--- Starting trial: run-43\n",
      "{'num_units 1': 8, 'num_units 2': 8, 'dropout': 0.3, 'l2 regularizer': 0.001, 'optimizer': 'adam'}\n",
      "156/156 [==============================] - 0s 426us/sample - loss: 15.3679 - RootMeanSquaredError: 3.9183\n",
      "--- Starting trial: run-44\n",
      "{'num_units 1': 8, 'num_units 2': 8, 'dropout': 0.3, 'l2 regularizer': 0.001, 'optimizer': 'sgd'}\n",
      "156/156 [==============================] - 0s 451us/sample - loss: 42.7000 - RootMeanSquaredError: 5.8721\n",
      "--- Starting trial: run-45\n",
      "{'num_units 1': 8, 'num_units 2': 8, 'dropout': 0.3, 'l2 regularizer': 0.01, 'optimizer': 'RMSprop'}\n",
      "156/156 [==============================] - 0s 533us/sample - loss: 17.1409 - RootMeanSquaredError: 4.1383\n",
      "--- Starting trial: run-46\n",
      "{'num_units 1': 8, 'num_units 2': 8, 'dropout': 0.3, 'l2 regularizer': 0.01, 'optimizer': 'adam'}\n",
      "156/156 [==============================] - 0s 426us/sample - loss: 15.7034 - RootMeanSquaredError: 3.9609\n",
      "--- Starting trial: run-47\n",
      "{'num_units 1': 8, 'num_units 2': 8, 'dropout': 0.3, 'l2 regularizer': 0.01, 'optimizer': 'sgd'}\n",
      "156/156 [==============================] - 0s 401us/sample - loss: 36.7071 - RootMeanSquaredError: 6.0486\n",
      "--- Starting trial: run-48\n",
      "{'num_units 1': 16, 'num_units 2': 4, 'dropout': 0.1, 'l2 regularizer': 0.001, 'optimizer': 'RMSprop'}\n",
      "156/156 [==============================] - 0s 402us/sample - loss: 11.1362 - RootMeanSquaredError: 3.3347\n",
      "--- Starting trial: run-49\n",
      "{'num_units 1': 16, 'num_units 2': 4, 'dropout': 0.1, 'l2 regularizer': 0.001, 'optimizer': 'adam'}\n",
      "156/156 [==============================] - 0s 406us/sample - loss: 10.1282 - RootMeanSquaredError: 3.1799\n",
      "mis_rmse 3.1798791885375977\n",
      "--- Starting trial: run-50\n",
      "{'num_units 1': 16, 'num_units 2': 4, 'dropout': 0.1, 'l2 regularizer': 0.001, 'optimizer': 'sgd'}\n",
      "156/156 [==============================] - 0s 406us/sample - loss: 1136.4602 - RootMeanSquaredError: 6.0323\n",
      "--- Starting trial: run-51\n",
      "{'num_units 1': 16, 'num_units 2': 4, 'dropout': 0.1, 'l2 regularizer': 0.01, 'optimizer': 'RMSprop'}\n",
      "156/156 [==============================] - 0s 400us/sample - loss: 10.6138 - RootMeanSquaredError: 3.2550\n",
      "--- Starting trial: run-52\n",
      "{'num_units 1': 16, 'num_units 2': 4, 'dropout': 0.1, 'l2 regularizer': 0.01, 'optimizer': 'adam'}\n",
      "156/156 [==============================] - 0s 416us/sample - loss: 10.8960 - RootMeanSquaredError: 3.2984\n",
      "--- Starting trial: run-53\n",
      "{'num_units 1': 16, 'num_units 2': 4, 'dropout': 0.1, 'l2 regularizer': 0.01, 'optimizer': 'sgd'}\n",
      "156/156 [==============================] - 0s 396us/sample - loss: 197330.2332 - RootMeanSquaredError: 6.0467\n",
      "--- Starting trial: run-54\n",
      "{'num_units 1': 16, 'num_units 2': 4, 'dropout': 0.3, 'l2 regularizer': 0.001, 'optimizer': 'RMSprop'}\n",
      "156/156 [==============================] - 0s 409us/sample - loss: 12.5746 - RootMeanSquaredError: 3.5437\n",
      "--- Starting trial: run-55\n",
      "{'num_units 1': 16, 'num_units 2': 4, 'dropout': 0.3, 'l2 regularizer': 0.001, 'optimizer': 'adam'}\n",
      "156/156 [==============================] - 0s 402us/sample - loss: 74.6713 - RootMeanSquaredError: 8.6401\n",
      "--- Starting trial: run-56\n",
      "{'num_units 1': 16, 'num_units 2': 4, 'dropout': 0.3, 'l2 regularizer': 0.001, 'optimizer': 'sgd'}\n",
      "156/156 [==============================] - 0s 398us/sample - loss: 3242641.6154 - RootMeanSquaredError: 6.0072\n",
      "--- Starting trial: run-57\n",
      "{'num_units 1': 16, 'num_units 2': 4, 'dropout': 0.3, 'l2 regularizer': 0.01, 'optimizer': 'RMSprop'}\n",
      "156/156 [==============================] - 0s 411us/sample - loss: 9.5905 - RootMeanSquaredError: 3.0939\n",
      "mis_rmse 3.093949317932129\n",
      "--- Starting trial: run-58\n",
      "{'num_units 1': 16, 'num_units 2': 4, 'dropout': 0.3, 'l2 regularizer': 0.01, 'optimizer': 'adam'}\n",
      "156/156 [==============================] - 0s 395us/sample - loss: 10.3586 - RootMeanSquaredError: 3.2157\n",
      "--- Starting trial: run-59\n",
      "{'num_units 1': 16, 'num_units 2': 4, 'dropout': 0.3, 'l2 regularizer': 0.01, 'optimizer': 'sgd'}\n",
      "156/156 [==============================] - 0s 527us/sample - loss: 481.1842 - RootMeanSquaredError: 6.0511\n",
      "--- Starting trial: run-60\n",
      "{'num_units 1': 16, 'num_units 2': 8, 'dropout': 0.1, 'l2 regularizer': 0.001, 'optimizer': 'RMSprop'}\n",
      "156/156 [==============================] - 0s 397us/sample - loss: 9.8790 - RootMeanSquaredError: 3.1400\n",
      "--- Starting trial: run-61\n",
      "{'num_units 1': 16, 'num_units 2': 8, 'dropout': 0.1, 'l2 regularizer': 0.001, 'optimizer': 'adam'}\n",
      "156/156 [==============================] - 0s 419us/sample - loss: 11.8270 - RootMeanSquaredError: 3.4352\n",
      "--- Starting trial: run-62\n",
      "{'num_units 1': 16, 'num_units 2': 8, 'dropout': 0.1, 'l2 regularizer': 0.001, 'optimizer': 'sgd'}\n",
      "156/156 [==============================] - 0s 401us/sample - loss: 41.6816 - RootMeanSquaredError: 6.0524\n",
      "--- Starting trial: run-63\n",
      "{'num_units 1': 16, 'num_units 2': 8, 'dropout': 0.1, 'l2 regularizer': 0.01, 'optimizer': 'RMSprop'}\n",
      "156/156 [==============================] - 0s 386us/sample - loss: 10.8470 - RootMeanSquaredError: 3.2909\n",
      "--- Starting trial: run-64\n",
      "{'num_units 1': 16, 'num_units 2': 8, 'dropout': 0.1, 'l2 regularizer': 0.01, 'optimizer': 'adam'}\n",
      "156/156 [==============================] - 0s 437us/sample - loss: 10.7513 - RootMeanSquaredError: 3.2751\n",
      "--- Starting trial: run-65\n",
      "{'num_units 1': 16, 'num_units 2': 8, 'dropout': 0.1, 'l2 regularizer': 0.01, 'optimizer': 'sgd'}\n",
      "156/156 [==============================] - 0s 407us/sample - loss: nan - RootMeanSquaredError: nan\n",
      "--- Starting trial: run-66\n",
      "{'num_units 1': 16, 'num_units 2': 8, 'dropout': 0.3, 'l2 regularizer': 0.001, 'optimizer': 'RMSprop'}\n",
      "156/156 [==============================] - 0s 403us/sample - loss: 12.0693 - RootMeanSquaredError: 3.4720\n",
      "--- Starting trial: run-67\n",
      "{'num_units 1': 16, 'num_units 2': 8, 'dropout': 0.3, 'l2 regularizer': 0.001, 'optimizer': 'adam'}\n",
      "156/156 [==============================] - 0s 404us/sample - loss: 11.9077 - RootMeanSquaredError: 3.4475\n",
      "--- Starting trial: run-68\n",
      "{'num_units 1': 16, 'num_units 2': 8, 'dropout': 0.3, 'l2 regularizer': 0.001, 'optimizer': 'sgd'}\n",
      "156/156 [==============================] - 0s 403us/sample - loss: 11316729856.0000 - RootMeanSquaredError: 6.0180\n",
      "--- Starting trial: run-69\n",
      "{'num_units 1': 16, 'num_units 2': 8, 'dropout': 0.3, 'l2 regularizer': 0.01, 'optimizer': 'RMSprop'}\n",
      "156/156 [==============================] - 0s 447us/sample - loss: 15.3750 - RootMeanSquaredError: 3.9188\n",
      "--- Starting trial: run-70\n",
      "{'num_units 1': 16, 'num_units 2': 8, 'dropout': 0.3, 'l2 regularizer': 0.01, 'optimizer': 'adam'}\n"
     ]
    },
    {
     "name": "stdout",
     "output_type": "stream",
     "text": [
      "156/156 [==============================] - 0s 449us/sample - loss: 12.0740 - RootMeanSquaredError: 3.4720\n",
      "--- Starting trial: run-71\n",
      "{'num_units 1': 16, 'num_units 2': 8, 'dropout': 0.3, 'l2 regularizer': 0.01, 'optimizer': 'sgd'}\n",
      "156/156 [==============================] - 0s 404us/sample - loss: 1240754091246746171604992.0000 - RootMeanSquaredError: 29829.9004\n"
     ]
    }
   ],
   "source": [
    "session_num = 0\n",
    "min_rmse = float('inf')\n",
    "best_hparams = {}\n",
    "for num_units1 in HP_NUM_UNITS1.domain.values:\n",
    "    for num_units2 in HP_NUM_UNITS2.domain.values:\n",
    "        for dropout_rate in (HP_DROPOUT.domain.min_value, HP_DROPOUT.domain.max_value):\n",
    "            for l2 in (HP_L2.domain.min_value, HP_L2.domain.max_value):\n",
    "                for optimizer in HP_OPTIMIZER.domain.values:\n",
    "                    hparams = {\n",
    "                        HP_NUM_UNITS1: num_units1,\n",
    "                        HP_NUM_UNITS2: num_units2,\n",
    "                        HP_DROPOUT: dropout_rate,\n",
    "                        HP_L2: l2,\n",
    "                        HP_OPTIMIZER: optimizer\n",
    "                    }\n",
    "                    run_name = \"run-%d\" % session_num\n",
    "                    print('--- Starting trial: %s' % run_name)\n",
    "                    print({h.name: hparams[h] for h in hparams})\n",
    "                    rmse, current_hparams = run('logs/hparam_tuning/' + run_name, hparams)\n",
    "                    if (~np.isnan(rmse)) and (rmse < min_rmse): \n",
    "                        best_hparams = current_hparams\n",
    "                        min_rmse = rmse\n",
    "                        print(\"mis_rmse {}\".format(min_rmse))\n",
    "                    session_num += 1"
   ]
  },
  {
   "cell_type": "code",
   "execution_count": 64,
   "metadata": {},
   "outputs": [
    {
     "data": {
      "text/plain": [
       "[16, 4, 0.3, 0.01, 'RMSprop']"
      ]
     },
     "execution_count": 64,
     "metadata": {},
     "output_type": "execute_result"
    }
   ],
   "source": [
    "list(best_hparams.values())"
   ]
  },
  {
   "cell_type": "code",
   "execution_count": 69,
   "metadata": {},
   "outputs": [
    {
     "data": {
      "text/plain": [
       "3.0939493"
      ]
     },
     "execution_count": 69,
     "metadata": {},
     "output_type": "execute_result"
    }
   ],
   "source": [
    "min_rmse"
   ]
  },
  {
   "cell_type": "code",
   "execution_count": 58,
   "metadata": {},
   "outputs": [],
   "source": [
    "!rm -rf ./logs/ "
   ]
  },
  {
   "cell_type": "code",
   "execution_count": 57,
   "metadata": {},
   "outputs": [],
   "source": [
    "!kill 3869"
   ]
  },
  {
   "cell_type": "code",
   "execution_count": 66,
   "metadata": {},
   "outputs": [],
   "source": [
    "%reload_ext tensorboard"
   ]
  },
  {
   "cell_type": "code",
   "execution_count": 67,
   "metadata": {},
   "outputs": [
    {
     "data": {
      "text/html": [
       "\n",
       "      <iframe id=\"tensorboard-frame-fe80860eab7ba079\" width=\"100%\" height=\"800\" frameborder=\"0\">\n",
       "      </iframe>\n",
       "      <script>\n",
       "        (function() {\n",
       "          const frame = document.getElementById(\"tensorboard-frame-fe80860eab7ba079\");\n",
       "          const url = new URL(\"/\", window.location);\n",
       "          url.port = 6006;\n",
       "          frame.src = url;\n",
       "        })();\n",
       "      </script>\n",
       "  "
      ],
      "text/plain": [
       "<IPython.core.display.HTML object>"
      ]
     },
     "metadata": {},
     "output_type": "display_data"
    }
   ],
   "source": [
    "%tensorboard --logdir logs/hparam_tuning"
   ]
  },
  {
   "cell_type": "code",
   "execution_count": null,
   "metadata": {},
   "outputs": [],
   "source": []
  },
  {
   "cell_type": "code",
   "execution_count": null,
   "metadata": {},
   "outputs": [],
   "source": []
  },
  {
   "cell_type": "code",
   "execution_count": 443,
   "metadata": {},
   "outputs": [
    {
     "name": "stdout",
     "output_type": "stream",
     "text": [
      "<HParam 'num_units 1': {4, 8, 16}>\n",
      "<HParam 'num_units 2': {4, 8}>\n",
      "<HParam 'dropout': [0.1, 0.3]>\n",
      "<HParam 'l2 regularizer': [0.001, 0.01]>\n",
      "<HParam 'optimizer': {'RMSprop', 'adam', 'sgd'}>\n"
     ]
    }
   ],
   "source": [
    "for key in best_hparams.keys():\n",
    "    print(key)"
   ]
  },
  {
   "cell_type": "code",
   "execution_count": 27,
   "metadata": {},
   "outputs": [
    {
     "data": {
      "text/plain": [
       "[32, 8, 0.1, 0.001, 'adam']"
      ]
     },
     "execution_count": 27,
     "metadata": {},
     "output_type": "execute_result"
    }
   ],
   "source": [
    "list(best_hparams.values())"
   ]
  },
  {
   "cell_type": "code",
   "execution_count": 68,
   "metadata": {},
   "outputs": [
    {
     "data": {
      "text/plain": [
       "3.0939493"
      ]
     },
     "execution_count": 68,
     "metadata": {},
     "output_type": "execute_result"
    }
   ],
   "source": [
    "min_rmse"
   ]
  },
  {
   "cell_type": "code",
   "execution_count": null,
   "metadata": {},
   "outputs": [],
   "source": []
  },
  {
   "cell_type": "code",
   "execution_count": null,
   "metadata": {},
   "outputs": [],
   "source": []
  },
  {
   "cell_type": "code",
   "execution_count": null,
   "metadata": {},
   "outputs": [],
   "source": []
  },
  {
   "cell_type": "code",
   "execution_count": null,
   "metadata": {},
   "outputs": [],
   "source": []
  },
  {
   "cell_type": "code",
   "execution_count": null,
   "metadata": {},
   "outputs": [],
   "source": []
  },
  {
   "cell_type": "code",
   "execution_count": null,
   "metadata": {},
   "outputs": [],
   "source": []
  },
  {
   "cell_type": "code",
   "execution_count": null,
   "metadata": {},
   "outputs": [],
   "source": []
  },
  {
   "cell_type": "code",
   "execution_count": 321,
   "metadata": {},
   "outputs": [],
   "source": [
    "!rm -rf ./logs/ "
   ]
  },
  {
   "cell_type": "code",
   "execution_count": 349,
   "metadata": {},
   "outputs": [],
   "source": [
    "%load_ext tensorboard"
   ]
  },
  {
   "cell_type": "code",
   "execution_count": 350,
   "metadata": {
    "scrolled": true
   },
   "outputs": [
    {
     "data": {
      "text/plain": [
       "Reusing TensorBoard on port 6006 (pid 13393), started 6:38:46 ago. (Use '!kill 13393' to kill it.)"
      ]
     },
     "metadata": {},
     "output_type": "display_data"
    },
    {
     "data": {
      "text/html": [
       "\n",
       "      <iframe id=\"tensorboard-frame-6fad2bcba6d7f57e\" width=\"100%\" height=\"800\" frameborder=\"0\">\n",
       "      </iframe>\n",
       "      <script>\n",
       "        (function() {\n",
       "          const frame = document.getElementById(\"tensorboard-frame-6fad2bcba6d7f57e\");\n",
       "          const url = new URL(\"/\", window.location);\n",
       "          url.port = 6006;\n",
       "          frame.src = url;\n",
       "        })();\n",
       "      </script>\n",
       "  "
      ],
      "text/plain": [
       "<IPython.core.display.HTML object>"
      ]
     },
     "metadata": {},
     "output_type": "display_data"
    }
   ],
   "source": [
    "%tensorboard --logdir logs/hparam_tuning"
   ]
  },
  {
   "cell_type": "code",
   "execution_count": null,
   "metadata": {},
   "outputs": [],
   "source": []
  },
  {
   "cell_type": "code",
   "execution_count": null,
   "metadata": {},
   "outputs": [],
   "source": []
  },
  {
   "cell_type": "code",
   "execution_count": 91,
   "metadata": {},
   "outputs": [],
   "source": [
    "model = tf.keras.Sequential([\n",
    "    tf.keras.layers.InputLayer(input_shape = n_steps),\n",
    "    layers.Dense(16, kernel_regularizer=tf.keras.regularizers.l2(0.001), activation=tf.nn.relu),\n",
    "    layers.Dropout(0.3),\n",
    "    layers.Dense(4, kernel_regularizer=tf.keras.regularizers.l2(0.001), activation=tf.nn.relu),\n",
    "    layers.Dense(1)\n",
    "])"
   ]
  },
  {
   "cell_type": "code",
   "execution_count": 92,
   "metadata": {},
   "outputs": [],
   "source": [
    "model.compile(optimizer=tf.keras.optimizers.Adam(),\n",
    "            loss='mean_squared_error',\n",
    "            metrics=['RootMeanSquaredError'])"
   ]
  },
  {
   "cell_type": "code",
   "execution_count": 93,
   "metadata": {},
   "outputs": [
    {
     "ename": "ValueError",
     "evalue": "Error when checking input: expected input_363 to have shape (20,) but got array with shape (1,)",
     "output_type": "error",
     "traceback": [
      "\u001b[0;31m---------------------------------------------------------------------------\u001b[0m",
      "\u001b[0;31mValueError\u001b[0m                                Traceback (most recent call last)",
      "\u001b[0;32m<ipython-input-93-40f234ebf377>\u001b[0m in \u001b[0;36m<module>\u001b[0;34m\u001b[0m\n\u001b[0;32m----> 1\u001b[0;31m \u001b[0mmodel\u001b[0m\u001b[0;34m.\u001b[0m\u001b[0mfit\u001b[0m\u001b[0;34m(\u001b[0m\u001b[0mx_train\u001b[0m\u001b[0;34m,\u001b[0m \u001b[0my_train\u001b[0m\u001b[0;34m,\u001b[0m \u001b[0mepochs\u001b[0m\u001b[0;34m=\u001b[0m\u001b[0;36m50\u001b[0m\u001b[0;34m,\u001b[0m \u001b[0mverbose\u001b[0m\u001b[0;34m=\u001b[0m\u001b[0;32mFalse\u001b[0m\u001b[0;34m)\u001b[0m\u001b[0;34m\u001b[0m\u001b[0;34m\u001b[0m\u001b[0m\n\u001b[0m",
      "\u001b[0;32m~/anaconda3/envs/tensorflow/lib/python3.6/site-packages/tensorflow_core/python/keras/engine/training.py\u001b[0m in \u001b[0;36mfit\u001b[0;34m(self, x, y, batch_size, epochs, verbose, callbacks, validation_split, validation_data, shuffle, class_weight, sample_weight, initial_epoch, steps_per_epoch, validation_steps, validation_freq, max_queue_size, workers, use_multiprocessing, **kwargs)\u001b[0m\n\u001b[1;32m    817\u001b[0m         \u001b[0mmax_queue_size\u001b[0m\u001b[0;34m=\u001b[0m\u001b[0mmax_queue_size\u001b[0m\u001b[0;34m,\u001b[0m\u001b[0;34m\u001b[0m\u001b[0;34m\u001b[0m\u001b[0m\n\u001b[1;32m    818\u001b[0m         \u001b[0mworkers\u001b[0m\u001b[0;34m=\u001b[0m\u001b[0mworkers\u001b[0m\u001b[0;34m,\u001b[0m\u001b[0;34m\u001b[0m\u001b[0;34m\u001b[0m\u001b[0m\n\u001b[0;32m--> 819\u001b[0;31m         use_multiprocessing=use_multiprocessing)\n\u001b[0m\u001b[1;32m    820\u001b[0m \u001b[0;34m\u001b[0m\u001b[0m\n\u001b[1;32m    821\u001b[0m   def evaluate(self,\n",
      "\u001b[0;32m~/anaconda3/envs/tensorflow/lib/python3.6/site-packages/tensorflow_core/python/keras/engine/training_v2.py\u001b[0m in \u001b[0;36mfit\u001b[0;34m(self, model, x, y, batch_size, epochs, verbose, callbacks, validation_split, validation_data, shuffle, class_weight, sample_weight, initial_epoch, steps_per_epoch, validation_steps, validation_freq, max_queue_size, workers, use_multiprocessing, **kwargs)\u001b[0m\n\u001b[1;32m    233\u001b[0m           \u001b[0mmax_queue_size\u001b[0m\u001b[0;34m=\u001b[0m\u001b[0mmax_queue_size\u001b[0m\u001b[0;34m,\u001b[0m\u001b[0;34m\u001b[0m\u001b[0;34m\u001b[0m\u001b[0m\n\u001b[1;32m    234\u001b[0m           \u001b[0mworkers\u001b[0m\u001b[0;34m=\u001b[0m\u001b[0mworkers\u001b[0m\u001b[0;34m,\u001b[0m\u001b[0;34m\u001b[0m\u001b[0;34m\u001b[0m\u001b[0m\n\u001b[0;32m--> 235\u001b[0;31m           use_multiprocessing=use_multiprocessing)\n\u001b[0m\u001b[1;32m    236\u001b[0m \u001b[0;34m\u001b[0m\u001b[0m\n\u001b[1;32m    237\u001b[0m       \u001b[0mtotal_samples\u001b[0m \u001b[0;34m=\u001b[0m \u001b[0m_get_total_number_of_samples\u001b[0m\u001b[0;34m(\u001b[0m\u001b[0mtraining_data_adapter\u001b[0m\u001b[0;34m)\u001b[0m\u001b[0;34m\u001b[0m\u001b[0;34m\u001b[0m\u001b[0m\n",
      "\u001b[0;32m~/anaconda3/envs/tensorflow/lib/python3.6/site-packages/tensorflow_core/python/keras/engine/training_v2.py\u001b[0m in \u001b[0;36m_process_training_inputs\u001b[0;34m(model, x, y, batch_size, epochs, sample_weights, class_weights, steps_per_epoch, validation_split, validation_data, validation_steps, shuffle, distribution_strategy, max_queue_size, workers, use_multiprocessing)\u001b[0m\n\u001b[1;32m    591\u001b[0m         \u001b[0mmax_queue_size\u001b[0m\u001b[0;34m=\u001b[0m\u001b[0mmax_queue_size\u001b[0m\u001b[0;34m,\u001b[0m\u001b[0;34m\u001b[0m\u001b[0;34m\u001b[0m\u001b[0m\n\u001b[1;32m    592\u001b[0m         \u001b[0mworkers\u001b[0m\u001b[0;34m=\u001b[0m\u001b[0mworkers\u001b[0m\u001b[0;34m,\u001b[0m\u001b[0;34m\u001b[0m\u001b[0;34m\u001b[0m\u001b[0m\n\u001b[0;32m--> 593\u001b[0;31m         use_multiprocessing=use_multiprocessing)\n\u001b[0m\u001b[1;32m    594\u001b[0m     \u001b[0mval_adapter\u001b[0m \u001b[0;34m=\u001b[0m \u001b[0;32mNone\u001b[0m\u001b[0;34m\u001b[0m\u001b[0;34m\u001b[0m\u001b[0m\n\u001b[1;32m    595\u001b[0m     \u001b[0;32mif\u001b[0m \u001b[0mvalidation_data\u001b[0m\u001b[0;34m:\u001b[0m\u001b[0;34m\u001b[0m\u001b[0;34m\u001b[0m\u001b[0m\n",
      "\u001b[0;32m~/anaconda3/envs/tensorflow/lib/python3.6/site-packages/tensorflow_core/python/keras/engine/training_v2.py\u001b[0m in \u001b[0;36m_process_inputs\u001b[0;34m(model, mode, x, y, batch_size, epochs, sample_weights, class_weights, shuffle, steps, distribution_strategy, max_queue_size, workers, use_multiprocessing)\u001b[0m\n\u001b[1;32m    644\u001b[0m     \u001b[0mstandardize_function\u001b[0m \u001b[0;34m=\u001b[0m \u001b[0;32mNone\u001b[0m\u001b[0;34m\u001b[0m\u001b[0;34m\u001b[0m\u001b[0m\n\u001b[1;32m    645\u001b[0m     x, y, sample_weights = standardize(\n\u001b[0;32m--> 646\u001b[0;31m         x, y, sample_weight=sample_weights)\n\u001b[0m\u001b[1;32m    647\u001b[0m   \u001b[0;32melif\u001b[0m \u001b[0madapter_cls\u001b[0m \u001b[0;32mis\u001b[0m \u001b[0mdata_adapter\u001b[0m\u001b[0;34m.\u001b[0m\u001b[0mListsOfScalarsDataAdapter\u001b[0m\u001b[0;34m:\u001b[0m\u001b[0;34m\u001b[0m\u001b[0;34m\u001b[0m\u001b[0m\n\u001b[1;32m    648\u001b[0m     \u001b[0mstandardize_function\u001b[0m \u001b[0;34m=\u001b[0m \u001b[0mstandardize\u001b[0m\u001b[0;34m\u001b[0m\u001b[0;34m\u001b[0m\u001b[0m\n",
      "\u001b[0;32m~/anaconda3/envs/tensorflow/lib/python3.6/site-packages/tensorflow_core/python/keras/engine/training.py\u001b[0m in \u001b[0;36m_standardize_user_data\u001b[0;34m(self, x, y, sample_weight, class_weight, batch_size, check_steps, steps_name, steps, validation_split, shuffle, extract_tensors_from_dataset)\u001b[0m\n\u001b[1;32m   2381\u001b[0m         \u001b[0mis_dataset\u001b[0m\u001b[0;34m=\u001b[0m\u001b[0mis_dataset\u001b[0m\u001b[0;34m,\u001b[0m\u001b[0;34m\u001b[0m\u001b[0;34m\u001b[0m\u001b[0m\n\u001b[1;32m   2382\u001b[0m         \u001b[0mclass_weight\u001b[0m\u001b[0;34m=\u001b[0m\u001b[0mclass_weight\u001b[0m\u001b[0;34m,\u001b[0m\u001b[0;34m\u001b[0m\u001b[0;34m\u001b[0m\u001b[0m\n\u001b[0;32m-> 2383\u001b[0;31m         batch_size=batch_size)\n\u001b[0m\u001b[1;32m   2384\u001b[0m \u001b[0;34m\u001b[0m\u001b[0m\n\u001b[1;32m   2385\u001b[0m   def _standardize_tensors(self, x, y, sample_weight, run_eagerly, dict_inputs,\n",
      "\u001b[0;32m~/anaconda3/envs/tensorflow/lib/python3.6/site-packages/tensorflow_core/python/keras/engine/training.py\u001b[0m in \u001b[0;36m_standardize_tensors\u001b[0;34m(self, x, y, sample_weight, run_eagerly, dict_inputs, is_dataset, class_weight, batch_size)\u001b[0m\n\u001b[1;32m   2408\u001b[0m           \u001b[0mfeed_input_shapes\u001b[0m\u001b[0;34m,\u001b[0m\u001b[0;34m\u001b[0m\u001b[0;34m\u001b[0m\u001b[0m\n\u001b[1;32m   2409\u001b[0m           \u001b[0mcheck_batch_axis\u001b[0m\u001b[0;34m=\u001b[0m\u001b[0;32mFalse\u001b[0m\u001b[0;34m,\u001b[0m  \u001b[0;31m# Don't enforce the batch size.\u001b[0m\u001b[0;34m\u001b[0m\u001b[0;34m\u001b[0m\u001b[0m\n\u001b[0;32m-> 2410\u001b[0;31m           exception_prefix='input')\n\u001b[0m\u001b[1;32m   2411\u001b[0m \u001b[0;34m\u001b[0m\u001b[0m\n\u001b[1;32m   2412\u001b[0m     \u001b[0;31m# Get typespecs for the input data and sanitize it if necessary.\u001b[0m\u001b[0;34m\u001b[0m\u001b[0;34m\u001b[0m\u001b[0;34m\u001b[0m\u001b[0m\n",
      "\u001b[0;32m~/anaconda3/envs/tensorflow/lib/python3.6/site-packages/tensorflow_core/python/keras/engine/training_utils.py\u001b[0m in \u001b[0;36mstandardize_input_data\u001b[0;34m(data, names, shapes, check_batch_axis, exception_prefix)\u001b[0m\n\u001b[1;32m    580\u001b[0m                              \u001b[0;34m': expected '\u001b[0m \u001b[0;34m+\u001b[0m \u001b[0mnames\u001b[0m\u001b[0;34m[\u001b[0m\u001b[0mi\u001b[0m\u001b[0;34m]\u001b[0m \u001b[0;34m+\u001b[0m \u001b[0;34m' to have shape '\u001b[0m \u001b[0;34m+\u001b[0m\u001b[0;34m\u001b[0m\u001b[0;34m\u001b[0m\u001b[0m\n\u001b[1;32m    581\u001b[0m                              \u001b[0mstr\u001b[0m\u001b[0;34m(\u001b[0m\u001b[0mshape\u001b[0m\u001b[0;34m)\u001b[0m \u001b[0;34m+\u001b[0m \u001b[0;34m' but got array with shape '\u001b[0m \u001b[0;34m+\u001b[0m\u001b[0;34m\u001b[0m\u001b[0;34m\u001b[0m\u001b[0m\n\u001b[0;32m--> 582\u001b[0;31m                              str(data_shape))\n\u001b[0m\u001b[1;32m    583\u001b[0m   \u001b[0;32mreturn\u001b[0m \u001b[0mdata\u001b[0m\u001b[0;34m\u001b[0m\u001b[0;34m\u001b[0m\u001b[0m\n\u001b[1;32m    584\u001b[0m \u001b[0;34m\u001b[0m\u001b[0m\n",
      "\u001b[0;31mValueError\u001b[0m: Error when checking input: expected input_363 to have shape (20,) but got array with shape (1,)"
     ]
    }
   ],
   "source": [
    "model.fit(x_train, y_train, epochs=50, verbose=False) "
   ]
  },
  {
   "cell_type": "code",
   "execution_count": 78,
   "metadata": {},
   "outputs": [
    {
     "name": "stdout",
     "output_type": "stream",
     "text": [
      "36/36 [==============================] - 0s 2ms/sample - loss: 3.1590 - RootMeanSquaredError: 1.7710\n"
     ]
    }
   ],
   "source": [
    " _, rmse = model.evaluate(x_test, y_test)"
   ]
  },
  {
   "cell_type": "code",
   "execution_count": 79,
   "metadata": {},
   "outputs": [],
   "source": [
    "y_hat = forecast(np.append(x_train[-1][1:],np.array(y_train[-1])), model, h, n_steps)\n",
    "y_hat = np.reshape(y_hat,len(y_test))"
   ]
  },
  {
   "cell_type": "code",
   "execution_count": 80,
   "metadata": {},
   "outputs": [
    {
     "data": {
      "text/plain": [
       "4.765650975995383"
      ]
     },
     "execution_count": 80,
     "metadata": {},
     "output_type": "execute_result"
    }
   ],
   "source": [
    "math.sqrt(mean_squared_error(y_test,y_hat))"
   ]
  },
  {
   "cell_type": "code",
   "execution_count": 81,
   "metadata": {},
   "outputs": [
    {
     "data": {
      "text/plain": [
       "<matplotlib.legend.Legend at 0x7fe53e0888d0>"
      ]
     },
     "execution_count": 81,
     "metadata": {},
     "output_type": "execute_result"
    },
    {
     "data": {
      "image/png": "[encoded data removed]",
      "text/plain": [
       "<Figure size 432x288 with 1 Axes>"
      ]
     },
     "metadata": {
      "needs_background": "light"
     },
     "output_type": "display_data"
    }
   ],
   "source": [
    "plt.plot(range(len(y_test)), y_test, label=\"Observations\")\n",
    "plt.plot(range(len(y_test)), y_hat, label=\"Predictions\")\n",
    "plt.legend()"
   ]
  },
  {
   "cell_type": "code",
   "execution_count": null,
   "metadata": {},
   "outputs": [],
   "source": []
  },
  {
   "cell_type": "code",
   "execution_count": null,
   "metadata": {},
   "outputs": [],
   "source": []
  },
  {
   "cell_type": "code",
   "execution_count": 36,
   "metadata": {},
   "outputs": [],
   "source": [
    "data = np.load('data.npy')\n",
    "lat = np.load('lat.npy')\n",
    "lon = np.load('lon.npy')"
   ]
  },
  {
   "cell_type": "code",
   "execution_count": 44,
   "metadata": {},
   "outputs": [],
   "source": [
    "#data[22,8,2:dim(data)[3]]  #cluster==2\n",
    "#x<-data[28,7,3:dim(data)[3]]   #cluster==0\n",
    "x = data[21,7,]"
   ]
  },
  {
   "cell_type": "code",
   "execution_count": 88,
   "metadata": {},
   "outputs": [
    {
     "ename": "NameError",
     "evalue": "name 'epochs' is not defined",
     "output_type": "error",
     "traceback": [
      "\u001b[0;31m---------------------------------------------------------------------------\u001b[0m",
      "\u001b[0;31mNameError\u001b[0m                                 Traceback (most recent call last)",
      "\u001b[0;32m<ipython-input-88-dd367a073459>\u001b[0m in \u001b[0;36m<module>\u001b[0;34m\u001b[0m\n\u001b[0;32m----> 1\u001b[0;31m \u001b[0mmodel\u001b[0m\u001b[0;34m.\u001b[0m\u001b[0mfit\u001b[0m\u001b[0;34m(\u001b[0m\u001b[0mX_train\u001b[0m\u001b[0;34m,\u001b[0m \u001b[0my_train\u001b[0m\u001b[0;34m,\u001b[0m \u001b[0mepochs\u001b[0m\u001b[0;34m=\u001b[0m\u001b[0mepochs\u001b[0m\u001b[0;34m,\u001b[0m \u001b[0mvalidation_split\u001b[0m \u001b[0;34m=\u001b[0m \u001b[0;36m0.2\u001b[0m\u001b[0;34m,\u001b[0m \u001b[0mverbose\u001b[0m\u001b[0;34m=\u001b[0m\u001b[0;36m0\u001b[0m\u001b[0;34m)\u001b[0m\u001b[0;34m\u001b[0m\u001b[0;34m\u001b[0m\u001b[0m\n\u001b[0m",
      "\u001b[0;31mNameError\u001b[0m: name 'epochs' is not defined"
     ]
    }
   ],
   "source": []
  },
  {
   "cell_type": "code",
   "execution_count": 55,
   "metadata": {},
   "outputs": [],
   "source": []
  },
  {
   "cell_type": "code",
   "execution_count": 62,
   "metadata": {},
   "outputs": [
    {
     "data": {
      "text/plain": [
       "array([[0.02, 0.02, 0.01, ..., 0.  , 0.  , 1.73],\n",
       "       [0.02, 0.01, 0.  , ..., 0.  , 1.73, 0.09],\n",
       "       [0.01, 0.  , 0.08, ..., 1.73, 0.09, 0.18],\n",
       "       ...,\n",
       "       [0.02, 0.01, 0.  , ..., 0.  , 0.19, 0.09],\n",
       "       [0.01, 0.  , 0.31, ..., 0.19, 0.09, 0.1 ],\n",
       "       [0.  , 0.31, 0.  , ..., 0.09, 0.1 , 0.  ]], dtype=float32)"
      ]
     },
     "execution_count": 62,
     "metadata": {},
     "output_type": "execute_result"
    }
   ],
   "source": [
    "X_train"
   ]
  },
  {
   "cell_type": "code",
   "execution_count": null,
   "metadata": {},
   "outputs": [],
   "source": []
  },
  {
   "cell_type": "code",
   "execution_count": null,
   "metadata": {},
   "outputs": [],
   "source": []
  },
  {
   "cell_type": "code",
   "execution_count": null,
   "metadata": {},
   "outputs": [],
   "source": []
  },
  {
   "cell_type": "code",
   "execution_count": null,
   "metadata": {},
   "outputs": [],
   "source": []
  },
  {
   "cell_type": "code",
   "execution_count": null,
   "metadata": {},
   "outputs": [],
   "source": []
  },
  {
   "cell_type": "code",
   "execution_count": null,
   "metadata": {},
   "outputs": [],
   "source": []
  },
  {
   "cell_type": "code",
   "execution_count": 38,
   "metadata": {},
   "outputs": [],
   "source": [
    "n=30\n",
    "# Set forecasting window length (in years)\n",
    "m=3\n",
    "# Set start year\n",
    "start = 1948\n",
    "origin = 1980\n",
    "# Set annual sampling rate\n",
    "f = 12\n",
    "h = m*f\n",
    "\n",
    "index = (origin - start) * f +1\n",
    "\n",
    "#x.ts <- x[index:length(x)-1]\n",
    "\n",
    "train_start = index\n",
    "train_end = train_start+n*f-1\n",
    "\n",
    "test_start = train_end + 1\n",
    "test_end = test_start + m*f -1"
   ]
  },
  {
   "cell_type": "code",
   "execution_count": 42,
   "metadata": {},
   "outputs": [
    {
     "data": {
      "text/plain": [
       "385"
      ]
     },
     "execution_count": 42,
     "metadata": {},
     "output_type": "execute_result"
    }
   ],
   "source": [
    "train_start"
   ]
  },
  {
   "cell_type": "code",
   "execution_count": 39,
   "metadata": {},
   "outputs": [],
   "source": [
    "univariate_past_history = n*f\n",
    "univariate_future_target = 1\n",
    "\n",
    "x_train_uni, y_train_uni = univariate_data(x, train_start, test_start,\n",
    "                                           univariate_past_history,\n",
    "                                           univariate_future_target)\n",
    "x_val_uni, y_val_uni = univariate_data(x, test_start, test_end,\n",
    "                                       univariate_past_history,\n",
    "                                       univariate_future_target)"
   ]
  },
  {
   "cell_type": "code",
   "execution_count": 26,
   "metadata": {},
   "outputs": [],
   "source": [
    "def create_time_steps(length):\n",
    "    return list(range(-length, 0))"
   ]
  },
  {
   "cell_type": "code",
   "execution_count": 27,
   "metadata": {},
   "outputs": [],
   "source": [
    "def show_plot(plot_data, delta, title):\n",
    "    labels = ['History', 'True Future', 'Model Prediction']\n",
    "    marker = ['.-', 'rx', 'go']\n",
    "    time_steps = create_time_steps(plot_data[0].shape[0])\n",
    "    if delta:\n",
    "        future = delta\n",
    "    else:\n",
    "        future = 0\n",
    "\n",
    "    plt.title(title)\n",
    "    for i, x in enumerate(plot_data):\n",
    "        if i:\n",
    "            plt.plot(future, plot_data[i], marker[i], markersize=10,\n",
    "                label=labels[i])\n",
    "        else:\n",
    "             plt.plot(time_steps, plot_data[i].flatten(), marker[i], label=labels[i])\n",
    "    plt.legend()\n",
    "    plt.xlim([time_steps[0], (future+5)*2])\n",
    "    plt.xlabel('Time-Step')\n",
    "    return plt\n"
   ]
  },
  {
   "cell_type": "code",
   "execution_count": 28,
   "metadata": {},
   "outputs": [],
   "source": [
    "def baseline(history):\n",
    "    return np.mean(history)"
   ]
  },
  {
   "cell_type": "code",
   "execution_count": 29,
   "metadata": {},
   "outputs": [
    {
     "ename": "IndexError",
     "evalue": "index 0 is out of bounds for axis 0 with size 0",
     "output_type": "error",
     "traceback": [
      "\u001b[0;31m---------------------------------------------------------------------------\u001b[0m",
      "\u001b[0;31mIndexError\u001b[0m                                Traceback (most recent call last)",
      "\u001b[0;32m<ipython-input-29-14ab6e7623b6>\u001b[0m in \u001b[0;36m<module>\u001b[0;34m\u001b[0m\n\u001b[0;32m----> 1\u001b[0;31m \u001b[0mshow_plot\u001b[0m\u001b[0;34m(\u001b[0m\u001b[0;34m[\u001b[0m\u001b[0mx_train_uni\u001b[0m\u001b[0;34m[\u001b[0m\u001b[0;36m0\u001b[0m\u001b[0;34m]\u001b[0m\u001b[0;34m,\u001b[0m \u001b[0my_train_uni\u001b[0m\u001b[0;34m[\u001b[0m\u001b[0;36m0\u001b[0m\u001b[0;34m]\u001b[0m\u001b[0;34m]\u001b[0m\u001b[0;34m,\u001b[0m \u001b[0;36m0\u001b[0m\u001b[0;34m,\u001b[0m \u001b[0;34m'Sample Example'\u001b[0m\u001b[0;34m)\u001b[0m\u001b[0;34m\u001b[0m\u001b[0;34m\u001b[0m\u001b[0m\n\u001b[0m",
      "\u001b[0;31mIndexError\u001b[0m: index 0 is out of bounds for axis 0 with size 0"
     ]
    }
   ],
   "source": [
    "show_plot([x_train_uni[0], y_train_uni[0]], 0, 'Sample Example')\n"
   ]
  },
  {
   "cell_type": "code",
   "execution_count": 40,
   "metadata": {},
   "outputs": [
    {
     "data": {
      "text/plain": [
       "array([], dtype=float64)"
      ]
     },
     "execution_count": 40,
     "metadata": {},
     "output_type": "execute_result"
    }
   ],
   "source": [
    "x_train_uni"
   ]
  },
  {
   "cell_type": "code",
   "execution_count": null,
   "metadata": {},
   "outputs": [],
   "source": []
  }
 ],
 "metadata": {
  "kernelspec": {
   "display_name": "Python 3",
   "language": "python",
   "name": "python3"
  },
  "language_info": {
   "codemirror_mode": {
    "name": "ipython",
    "version": 3
   },
   "file_extension": ".py",
   "mimetype": "text/x-python",
   "name": "python",
   "nbconvert_exporter": "python",
   "pygments_lexer": "ipython3",
   "version": "3.6.9"
  }
 },
 "nbformat": 4,
 "nbformat_minor": 2
}
