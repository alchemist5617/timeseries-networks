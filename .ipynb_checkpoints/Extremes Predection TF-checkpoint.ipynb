{
 "cells": [
  {
   "cell_type": "code",
   "execution_count": 1,
   "metadata": {},
   "outputs": [],
   "source": [
    "import tensorflow as tf\n",
    "from tensorflow import keras\n",
    "from tensorflow.keras import layers\n",
    "import pandas as pd\n",
    "import numpy as np\n",
    "import matplotlib.pyplot as plt\n",
    "import math\n",
    "from sklearn.metrics import mean_squared_error\n",
    "\n",
    "from tensorboard.plugins.hparams import api as hp"
   ]
  },
  {
   "cell_type": "code",
   "execution_count": 2,
   "metadata": {},
   "outputs": [],
   "source": [
    "def univariate_data(dataset, start_index, end_index, history_size, target_size):\n",
    "    data = []\n",
    "    labels = []\n",
    "\n",
    "    start_index = start_index + history_size\n",
    "    if end_index is None:\n",
    "        end_index = len(dataset) - target_size\n",
    "\n",
    "    for i in range(start_index, end_index):\n",
    "        indices = range(i-history_size, i)\n",
    "    # Reshape data from (history_size,) to (history_size, 1)\n",
    "        data.append(np.reshape(dataset[indices], (history_size, 1)))\n",
    "        labels.append(dataset[i+target_size])\n",
    "    return np.array(data), np.array(labels)"
   ]
  },
  {
   "cell_type": "code",
   "execution_count": 3,
   "metadata": {},
   "outputs": [],
   "source": [
    "def split_sequence(sequence, n_steps):\n",
    "    X, y = list(), list()\n",
    "    for i in range(len(sequence)):\n",
    "        # find the end of this pattern\n",
    "        end_ix = i + n_steps\n",
    "        # check if we are beyond the sequence\n",
    "        if end_ix > len(sequence)-1:\n",
    "            break\n",
    "        # gather input and output parts of the pattern\n",
    "        seq_x, seq_y = sequence[i:end_ix], sequence[end_ix]\n",
    "        X.append(seq_x)\n",
    "        y.append(seq_y)\n",
    "    return np.array(X), np.array(y)\n",
    "\n",
    "\n",
    "def train_test_split_ts_2d_raw(X, h):\n",
    "    return(X[:-h],X[-h:])\n",
    "\n",
    "\n",
    "def train_test_split_ts(X, y, test_size=0.2):\n",
    "    r = X.shape[0]\n",
    "    split_index = int((1-test_size)*r)\n",
    "    return(X[:split_index,:,:],X[split_index:,:,:],y[:split_index],y[split_index:])\n",
    "\n",
    "def train_test_split_ts_index(X, y, split_index):\n",
    "    r = X.shape[0]\n",
    "    return(X[:split_index,:,:],X[split_index:,:,:],y[:split_index],y[split_index:])\n",
    "\n",
    "def train_test_split_ts_2d(X, y, test_size=0.2):\n",
    "    r = X.shape[0]\n",
    "    split_index = int((1-test_size)*r)\n",
    "    return(X[:split_index,:],X[split_index:,:],y[:split_index],y[split_index:])\n",
    "\n",
    "def train_test_split_ts_2d_index(X, y, split_index):\n",
    "    r = X.shape[0]\n",
    "    return(X[:split_index,:],X[split_index:,:],y[:split_index],y[split_index:])"
   ]
  },
  {
   "cell_type": "code",
   "execution_count": 4,
   "metadata": {},
   "outputs": [],
   "source": [
    "def create_dataset(dataset, window_size = 1):\n",
    "    data_X, data_Y = [], []\n",
    "    for i in range(len(dataset) - window_size - 1):\n",
    "        a = dataset[i:(i + window_size)]\n",
    "        data_X.append(a)\n",
    "        data_Y.append(dataset[i + window_size])\n",
    "    return(np.array(data_X), np.array(data_Y))"
   ]
  },
  {
   "cell_type": "code",
   "execution_count": 5,
   "metadata": {},
   "outputs": [],
   "source": [
    "def forecast(first_item, model, h, n_step):\n",
    "    x = first_item\n",
    "    result = []\n",
    "    #x = np.reshape(x,(1,20))\n",
    "    for i in range(h):\n",
    "        y = model.predict(np.reshape(x,(1,n_step*2)))\n",
    "        result.append(y)\n",
    "        x = np.append(x[1:],np.array(y))\n",
    "    return(np.array(result))   "
   ]
  },
  {
   "cell_type": "code",
   "execution_count": 6,
   "metadata": {},
   "outputs": [],
   "source": [
    "def build_model(n_steps, n_units, learning_rate, optimizer_name):\n",
    "    model = keras.Sequential()\n",
    "    if len(n_units) == 1:\n",
    "        model.add(layers.Dense(n_units[0], activation=tf.nn.relu, input_dim=n_steps))\n",
    "    else:  \n",
    "        model.add(layers.Dense(n_units[0], activation=tf.nn.relu, input_dim=n_steps))\n",
    "        for i in range(1,len(n_units)):\n",
    "            model.add(layers.Dense(n_units[i], activation=tf.nn.relu))\n",
    "    \n",
    "    model.add(layers.Dense(1))\n",
    "    \n",
    "    if optimizer_name == \"adam\":\n",
    "        optimizer = tf.keras.optimizers.Adam(learning_rate)\n",
    "    else:\n",
    "        optimizer = tf.keras.optimizers.SGD(learning_rate)\n",
    "\n",
    "    model.compile(loss='mean_squared_error', optimizer=optimizer)\n",
    "    return model"
   ]
  },
  {
   "cell_type": "code",
   "execution_count": 7,
   "metadata": {},
   "outputs": [],
   "source": [
    "def cv_hparam_tunning(x, n_steps, num_units, optimizer, learning_rate,\n",
    "                      training_window=15, forecast_window=1, freq=12,epochs=1):\n",
    "\n",
    "    fuzzify(x)\n",
    "    L = len(x)\n",
    "    errors = []\n",
    "    \n",
    "    for i in range(0, L - (training_window+forecast_window)*freq, freq):   \n",
    "\n",
    "        raw_seq = x[i:i+(training_window + forecast_window)*freq]\n",
    "\n",
    "        X, y_test = train_test_split_ts_2d_raw(raw_seq, forecast_window*freq) \n",
    "        X_train, y_train = split_sequence(X, n_steps)\n",
    "\n",
    "        #estimator = KerasRegressor(build_fn=baseline_ model(n_steps), epochs=100, batch_size=5, verbose=0)\n",
    "        model = build_model(n_steps, num_units, learning_rate, optimizer)\n",
    "\n",
    "\n",
    "        #EPOCHS = 100\n",
    "        model.fit(X_train, y_train, epochs=epochs, validation_split = 0.2, verbose=0)\n",
    "\n",
    "        y_hat = forecast(np.append(X_train[-1][1:],np.array(y_train[-1])), model, freq, n_steps)\n",
    "        y_hat = np.reshape(y_hat,len(y_test))\n",
    "        if np.any(np.isnan(y_hat)):\n",
    "            errors.append(np.nan)\n",
    "        else:\n",
    "            errors.append(math.sqrt(mean_squared_error(y_test,y_hat)))\n",
    "\n",
    "        #errors.append(math.sqrt(mean_squared_error(y_test,y_hat)))\n",
    "        \n",
    "    return(np.nanmean(errors))"
   ]
  },
  {
   "cell_type": "code",
   "execution_count": 8,
   "metadata": {},
   "outputs": [],
   "source": [
    "def uni_deseasonalize(ts,freq=12):\n",
    "    ts = np.array(ts)\n",
    "    avgs = np.zeros(freq)\n",
    "    stds = np.zeros(freq)\n",
    "    N = len(ts)\n",
    "    #averages = np.zeros((freq,n))\n",
    "    temp = ts\n",
    "    result = np.zeros((N))\n",
    "    for j in range(freq):\n",
    "        Idx = np.arange(j,N,freq)\n",
    "        avgs[j] = temp[Idx].mean()\n",
    "        stds[j] = temp[Idx].std()\n",
    "        result[Idx] = (temp[Idx] - temp[Idx].mean())#/temp[Idx].std()\n",
    "    return(result, avgs) "
   ]
  },
  {
   "cell_type": "code",
   "execution_count": 16,
   "metadata": {},
   "outputs": [
    {
     "ename": "FileNotFoundError",
     "evalue": "[Errno 2] No such file or directory: 'data.npy'",
     "output_type": "error",
     "traceback": [
      "\u001b[0;31m---------------------------------------------------------------------------\u001b[0m",
      "\u001b[0;31mFileNotFoundError\u001b[0m                         Traceback (most recent call last)",
      "\u001b[0;32m<ipython-input-16-f1f944bb1489>\u001b[0m in \u001b[0;36m<module>\u001b[0;34m\u001b[0m\n\u001b[0;32m----> 1\u001b[0;31m \u001b[0mdata\u001b[0m \u001b[0;34m=\u001b[0m \u001b[0mnp\u001b[0m\u001b[0;34m.\u001b[0m\u001b[0mload\u001b[0m\u001b[0;34m(\u001b[0m\u001b[0;34m'data.npy'\u001b[0m\u001b[0;34m)\u001b[0m\u001b[0;34m\u001b[0m\u001b[0;34m\u001b[0m\u001b[0m\n\u001b[0m\u001b[1;32m      2\u001b[0m \u001b[0mlat\u001b[0m \u001b[0;34m=\u001b[0m \u001b[0mnp\u001b[0m\u001b[0;34m.\u001b[0m\u001b[0mload\u001b[0m\u001b[0;34m(\u001b[0m\u001b[0;34m'lat.npy'\u001b[0m\u001b[0;34m)\u001b[0m\u001b[0;34m\u001b[0m\u001b[0;34m\u001b[0m\u001b[0m\n\u001b[1;32m      3\u001b[0m \u001b[0mlon\u001b[0m \u001b[0;34m=\u001b[0m \u001b[0mnp\u001b[0m\u001b[0;34m.\u001b[0m\u001b[0mload\u001b[0m\u001b[0;34m(\u001b[0m\u001b[0;34m'lon.npy'\u001b[0m\u001b[0;34m)\u001b[0m\u001b[0;34m\u001b[0m\u001b[0;34m\u001b[0m\u001b[0m\n",
      "\u001b[0;32m~/anaconda3/envs/tensorflow/lib/python3.6/site-packages/numpy/lib/npyio.py\u001b[0m in \u001b[0;36mload\u001b[0;34m(file, mmap_mode, allow_pickle, fix_imports, encoding)\u001b[0m\n\u001b[1;32m    420\u001b[0m         \u001b[0mown_fid\u001b[0m \u001b[0;34m=\u001b[0m \u001b[0;32mFalse\u001b[0m\u001b[0;34m\u001b[0m\u001b[0;34m\u001b[0m\u001b[0m\n\u001b[1;32m    421\u001b[0m     \u001b[0;32melse\u001b[0m\u001b[0;34m:\u001b[0m\u001b[0;34m\u001b[0m\u001b[0;34m\u001b[0m\u001b[0m\n\u001b[0;32m--> 422\u001b[0;31m         \u001b[0mfid\u001b[0m \u001b[0;34m=\u001b[0m \u001b[0mopen\u001b[0m\u001b[0;34m(\u001b[0m\u001b[0mos_fspath\u001b[0m\u001b[0;34m(\u001b[0m\u001b[0mfile\u001b[0m\u001b[0;34m)\u001b[0m\u001b[0;34m,\u001b[0m \u001b[0;34m\"rb\"\u001b[0m\u001b[0;34m)\u001b[0m\u001b[0;34m\u001b[0m\u001b[0;34m\u001b[0m\u001b[0m\n\u001b[0m\u001b[1;32m    423\u001b[0m         \u001b[0mown_fid\u001b[0m \u001b[0;34m=\u001b[0m \u001b[0;32mTrue\u001b[0m\u001b[0;34m\u001b[0m\u001b[0;34m\u001b[0m\u001b[0m\n\u001b[1;32m    424\u001b[0m \u001b[0;34m\u001b[0m\u001b[0m\n",
      "\u001b[0;31mFileNotFoundError\u001b[0m: [Errno 2] No such file or directory: 'data.npy'"
     ]
    }
   ],
   "source": [
    "data = np.load('data.npy')\n",
    "lat = np.load('lat.npy')\n",
    "lon = np.load('lon.npy')"
   ]
  },
  {
   "cell_type": "code",
   "execution_count": 339,
   "metadata": {},
   "outputs": [],
   "source": [
    "x = data[27,6,]"
   ]
  },
  {
   "cell_type": "code",
   "execution_count": 414,
   "metadata": {},
   "outputs": [],
   "source": [
    "data = pd.read_csv(\"../extreme_data/raw12_3.csv\")"
   ]
  },
  {
   "cell_type": "code",
   "execution_count": 420,
   "metadata": {},
   "outputs": [],
   "source": [
    "x = data.iloc[1:,1].values\n",
    "oni = data.iloc[1:,2].values"
   ]
  },
  {
   "cell_type": "code",
   "execution_count": 331,
   "metadata": {},
   "outputs": [],
   "source": [
    "x = np.array(data.iloc[1:,1:].values)\n",
    "oni = np.array(data.iloc[1:,2:].values)"
   ]
  },
  {
   "cell_type": "code",
   "execution_count": 421,
   "metadata": {},
   "outputs": [],
   "source": [
    "n = 20\n",
    "# Set forecasting window length (in years)\n",
    "m = 4\n",
    "# Set annual sampling rate\n",
    "f = 12 \n",
    "L = x.shape[0]\n",
    "errors = []\n",
    "j = 0\n",
    "\n",
    "\n",
    "start = 1977\n",
    "origin = 1985\n",
    "# Set annual sampling rate\n",
    "freq = 12\n",
    "h = m*f\n",
    "n_steps = 12\n",
    "\n",
    "index = (origin - start) * f"
   ]
  },
  {
   "cell_type": "code",
   "execution_count": 422,
   "metadata": {},
   "outputs": [],
   "source": [
    "raw_seq = x[index:index+(n+m)*f]\n",
    "X, y = split_sequence(raw_seq, n_steps)"
   ]
  },
  {
   "cell_type": "code",
   "execution_count": 355,
   "metadata": {},
   "outputs": [],
   "source": [
    "oni_seq = oni[index:index+(n+m)*f]\n",
    "X_oni, _ = split_sequence(oni_seq, n_steps)"
   ]
  },
  {
   "cell_type": "code",
   "execution_count": 356,
   "metadata": {},
   "outputs": [],
   "source": [
    "X = np.hstack((X_oni,X))"
   ]
  },
  {
   "cell_type": "code",
   "execution_count": 418,
   "metadata": {},
   "outputs": [],
   "source": [
    "X_norm = (X - X.mean(0))/X.std(0)"
   ]
  },
  {
   "cell_type": "code",
   "execution_count": 423,
   "metadata": {},
   "outputs": [],
   "source": [
    "x_train, x_test = train_test_split_ts_2d_raw(X, h)\n",
    "y_train, y_test = train_test_split_ts_2d_raw(y, h)"
   ]
  },
  {
   "cell_type": "code",
   "execution_count": 424,
   "metadata": {},
   "outputs": [],
   "source": [
    "model = tf.keras.Sequential([\n",
    "    tf.keras.layers.InputLayer(input_shape = x_train.shape[1]),\n",
    "    layers.Dense(4, activation=tf.nn.relu),\n",
    "    layers.Dropout(0.1),\n",
    "    layers.Dense(8, activation=tf.nn.relu),\n",
    "    layers.Dense(1)\n",
    "])"
   ]
  },
  {
   "cell_type": "code",
   "execution_count": 431,
   "metadata": {},
   "outputs": [],
   "source": [
    "model = tf.keras.Sequential([\n",
    "    tf.keras.layers.InputLayer(input_shape = x_train.shape[1]),\n",
    "    layers.Dense(4, kernel_regularizer=tf.keras.regularizers.l2(0.01), activation=tf.nn.relu),\n",
    "    layers.Dropout(0.1),\n",
    "    layers.Dense(8, kernel_regularizer=tf.keras.regularizers.l2(0.01), activation=tf.nn.relu),\n",
    "    layers.Dense(1)\n",
    "])"
   ]
  },
  {
   "cell_type": "code",
   "execution_count": 432,
   "metadata": {},
   "outputs": [],
   "source": [
    "model.compile(optimizer=\"RMSProp\",\n",
    "            loss='mean_squared_error',\n",
    "            metrics=['RootMeanSquaredError'])"
   ]
  },
  {
   "cell_type": "code",
   "execution_count": 436,
   "metadata": {},
   "outputs": [
    {
     "name": "stdout",
     "output_type": "stream",
     "text": [
      "48/48 [==============================] - 0s 65us/sample - loss: 18.1600 - RootMeanSquaredError: 4.2500\n"
     ]
    }
   ],
   "source": [
    "model.fit(x_train, y_train, epochs=100, verbose=False) \n",
    "\n",
    "_, rmse = model.evaluate(x_test, y_test)"
   ]
  },
  {
   "cell_type": "code",
   "execution_count": 434,
   "metadata": {},
   "outputs": [
    {
     "data": {
      "text/plain": [
       "4.4760284"
      ]
     },
     "execution_count": 434,
     "metadata": {},
     "output_type": "execute_result"
    }
   ],
   "source": [
    "rmse"
   ]
  },
  {
   "cell_type": "code",
   "execution_count": 428,
   "metadata": {},
   "outputs": [],
   "source": [
    "predictions = model.predict(x_test)"
   ]
  },
  {
   "cell_type": "code",
   "execution_count": 429,
   "metadata": {},
   "outputs": [
    {
     "data": {
      "text/plain": [
       "4.093961828487743"
      ]
     },
     "execution_count": 429,
     "metadata": {},
     "output_type": "execute_result"
    }
   ],
   "source": [
    "math.sqrt(mean_squared_error(y_test,predictions))"
   ]
  },
  {
   "cell_type": "code",
   "execution_count": 22,
   "metadata": {},
   "outputs": [
    {
     "data": {
      "text/plain": [
       "1.3121330443779999e+32"
      ]
     },
     "execution_count": 22,
     "metadata": {},
     "output_type": "execute_result"
    }
   ],
   "source": [
    "y_hat = forecast(np.append(x_train[-1][1:],np.array(y_train[-1])), model, h, n_steps)\n",
    "y_hat = np.reshape(y_hat,len(y_test))\n",
    "\n",
    "math.sqrt(mean_squared_error(y_test,y_hat))"
   ]
  },
  {
   "cell_type": "code",
   "execution_count": 430,
   "metadata": {},
   "outputs": [
    {
     "data": {
      "text/plain": [
       "<matplotlib.legend.Legend at 0x7f48b7d98c88>"
      ]
     },
     "execution_count": 430,
     "metadata": {},
     "output_type": "execute_result"
    },
    {
     "data": {
      "image/png": "[encoded data removed]",
      "text/plain": [
       "<Figure size 432x288 with 1 Axes>"
      ]
     },
     "metadata": {
      "needs_background": "light"
     },
     "output_type": "display_data"
    }
   ],
   "source": [
    "plt.plot(range(len(y_test)), y_test, label=\"Observations\")\n",
    "plt.plot(range(len(y_test)), predictions, label=\"Predictions\")\n",
    "plt.legend()"
   ]
  },
  {
   "cell_type": "code",
   "execution_count": 367,
   "metadata": {},
   "outputs": [
    {
     "data": {
      "text/plain": [
       "array([ 4,  3,  2,  5,  3,  3,  3,  2,  1,  3,  7, 25, 31, 27, 21, 12,  8,\n",
       "        7,  9,  6,  7,  6,  1,  1,  1,  2,  2,  2,  4,  3,  3,  3,  3,  4,\n",
       "        3,  4,  5,  6,  6,  7,  8,  8,  8, 11, 11,  8,  5,  8])"
      ]
     },
     "execution_count": 367,
     "metadata": {},
     "output_type": "execute_result"
    }
   ],
   "source": [
    "y_test"
   ]
  },
  {
   "cell_type": "code",
   "execution_count": 368,
   "metadata": {},
   "outputs": [
    {
     "data": {
      "text/plain": [
       "array([[ 4.3304925],\n",
       "       [ 4.1157084],\n",
       "       [ 4.510546 ],\n",
       "       [ 2.1828644],\n",
       "       [ 4.7701654],\n",
       "       [ 4.578716 ],\n",
       "       [ 4.109888 ],\n",
       "       [ 3.4815905],\n",
       "       [ 3.6134114],\n",
       "       [ 2.4285672],\n",
       "       [ 2.6691763],\n",
       "       [ 6.6833134],\n",
       "       [20.75802  ],\n",
       "       [29.71366  ],\n",
       "       [26.457047 ],\n",
       "       [21.636944 ],\n",
       "       [15.348185 ],\n",
       "       [ 8.876786 ],\n",
       "       [ 4.997763 ],\n",
       "       [ 6.7743354],\n",
       "       [ 6.659576 ],\n",
       "       [ 7.1900506],\n",
       "       [ 5.728469 ],\n",
       "       [ 4.671945 ],\n",
       "       [ 4.2929974],\n",
       "       [ 3.7907398],\n",
       "       [ 3.4014685],\n",
       "       [ 2.4700365],\n",
       "       [ 2.674887 ],\n",
       "       [ 2.8462791],\n",
       "       [ 4.8797803],\n",
       "       [ 4.3375816],\n",
       "       [ 4.7033877],\n",
       "       [ 5.591171 ],\n",
       "       [ 5.25372  ],\n",
       "       [ 4.1358533],\n",
       "       [ 4.576705 ],\n",
       "       [ 5.8609815],\n",
       "       [ 6.9745603],\n",
       "       [ 6.513139 ],\n",
       "       [ 7.410751 ],\n",
       "       [ 8.147883 ],\n",
       "       [ 8.272674 ],\n",
       "       [ 7.422599 ],\n",
       "       [ 8.93429  ],\n",
       "       [10.05007  ],\n",
       "       [ 7.4488416],\n",
       "       [ 5.8084435]], dtype=float32)"
      ]
     },
     "execution_count": 368,
     "metadata": {},
     "output_type": "execute_result"
    }
   ],
   "source": [
    "predictions"
   ]
  },
  {
   "cell_type": "code",
   "execution_count": 115,
   "metadata": {},
   "outputs": [],
   "source": [
    "df_oni = pd.DataFrame(x,\n",
    "                  columns=[\"number\"],\n",
    "                  index=pd.date_range(\"19770101\", periods=len(x), freq='MS'))"
   ]
  },
  {
   "cell_type": "code",
   "execution_count": 117,
   "metadata": {},
   "outputs": [
    {
     "data": {
      "text/plain": [
       "[<matplotlib.lines.Line2D at 0x7fe54a5a6048>]"
      ]
     },
     "execution_count": 117,
     "metadata": {},
     "output_type": "execute_result"
    },
    {
     "data": {
      "image/png": "[encoded data removed]",
      "text/plain": [
       "<Figure size 1440x360 with 1 Axes>"
      ]
     },
     "metadata": {
      "needs_background": "light"
     },
     "output_type": "display_data"
    }
   ],
   "source": [
    "plt.rcParams[\"figure.figsize\"] = (20,5)\n",
    "plt.plot(x)"
   ]
  },
  {
   "cell_type": "code",
   "execution_count": 118,
   "metadata": {},
   "outputs": [
    {
     "data": {
      "text/plain": [
       "<matplotlib.axes._subplots.AxesSubplot at 0x7fe55178fe80>"
      ]
     },
     "execution_count": 118,
     "metadata": {},
     "output_type": "execute_result"
    },
    {
     "data": {
      "image/png": "[encoded data removed]",
      "text/plain": [
       "<Figure size 1440x360 with 1 Axes>"
      ]
     },
     "metadata": {
      "needs_background": "light"
     },
     "output_type": "display_data"
    }
   ],
   "source": [
    "df_oni.plot()"
   ]
  },
  {
   "cell_type": "code",
   "execution_count": 114,
   "metadata": {},
   "outputs": [
    {
     "data": {
      "text/html": [
       "<div>\n",
       "<style scoped>\n",
       "    .dataframe tbody tr th:only-of-type {\n",
       "        vertical-align: middle;\n",
       "    }\n",
       "\n",
       "    .dataframe tbody tr th {\n",
       "        vertical-align: top;\n",
       "    }\n",
       "\n",
       "    .dataframe thead th {\n",
       "        text-align: right;\n",
       "    }\n",
       "</style>\n",
       "<table border=\"1\" class=\"dataframe\">\n",
       "  <thead>\n",
       "    <tr style=\"text-align: right;\">\n",
       "      <th></th>\n",
       "      <th>number</th>\n",
       "    </tr>\n",
       "  </thead>\n",
       "  <tbody>\n",
       "    <tr>\n",
       "      <td>1970-01-01 00:00:00.000001980</td>\n",
       "      <td>3</td>\n",
       "    </tr>\n",
       "    <tr>\n",
       "      <td>1970-02-01 00:00:00.000001980</td>\n",
       "      <td>4</td>\n",
       "    </tr>\n",
       "    <tr>\n",
       "      <td>1970-03-01 00:00:00.000001980</td>\n",
       "      <td>6</td>\n",
       "    </tr>\n",
       "    <tr>\n",
       "      <td>1970-04-01 00:00:00.000001980</td>\n",
       "      <td>10</td>\n",
       "    </tr>\n",
       "    <tr>\n",
       "      <td>1970-05-01 00:00:00.000001980</td>\n",
       "      <td>12</td>\n",
       "    </tr>\n",
       "    <tr>\n",
       "      <td>...</td>\n",
       "      <td>...</td>\n",
       "    </tr>\n",
       "    <tr>\n",
       "      <td>2008-08-01 00:00:00.000001980</td>\n",
       "      <td>2</td>\n",
       "    </tr>\n",
       "    <tr>\n",
       "      <td>2008-09-01 00:00:00.000001980</td>\n",
       "      <td>2</td>\n",
       "    </tr>\n",
       "    <tr>\n",
       "      <td>2008-10-01 00:00:00.000001980</td>\n",
       "      <td>3</td>\n",
       "    </tr>\n",
       "    <tr>\n",
       "      <td>2008-11-01 00:00:00.000001980</td>\n",
       "      <td>3</td>\n",
       "    </tr>\n",
       "    <tr>\n",
       "      <td>2008-12-01 00:00:00.000001980</td>\n",
       "      <td>2</td>\n",
       "    </tr>\n",
       "  </tbody>\n",
       "</table>\n",
       "<p>468 rows × 1 columns</p>\n",
       "</div>"
      ],
      "text/plain": [
       "                               number\n",
       "1970-01-01 00:00:00.000001980       3\n",
       "1970-02-01 00:00:00.000001980       4\n",
       "1970-03-01 00:00:00.000001980       6\n",
       "1970-04-01 00:00:00.000001980      10\n",
       "1970-05-01 00:00:00.000001980      12\n",
       "...                               ...\n",
       "2008-08-01 00:00:00.000001980       2\n",
       "2008-09-01 00:00:00.000001980       2\n",
       "2008-10-01 00:00:00.000001980       3\n",
       "2008-11-01 00:00:00.000001980       3\n",
       "2008-12-01 00:00:00.000001980       2\n",
       "\n",
       "[468 rows x 1 columns]"
      ]
     },
     "execution_count": 114,
     "metadata": {},
     "output_type": "execute_result"
    }
   ],
   "source": [
    "df_oni"
   ]
  },
  {
   "cell_type": "code",
   "execution_count": null,
   "metadata": {},
   "outputs": [],
   "source": []
  },
  {
   "cell_type": "code",
   "execution_count": null,
   "metadata": {},
   "outputs": [],
   "source": []
  },
  {
   "cell_type": "code",
   "execution_count": null,
   "metadata": {},
   "outputs": [],
   "source": []
  },
  {
   "cell_type": "code",
   "execution_count": null,
   "metadata": {},
   "outputs": [],
   "source": []
  },
  {
   "cell_type": "code",
   "execution_count": null,
   "metadata": {},
   "outputs": [],
   "source": []
  },
  {
   "cell_type": "code",
   "execution_count": 38,
   "metadata": {},
   "outputs": [],
   "source": [
    "raw_seq = x[index:index+(n+m)*f,:]"
   ]
  },
  {
   "cell_type": "code",
   "execution_count": 14,
   "metadata": {},
   "outputs": [],
   "source": [
    "# define input sequence\n",
    "raw_seq = x[index:index+(n+m)*f]\n",
    "X, y_test = train_test_split_ts_2d_raw(raw_seq, h) \n",
    "#X, avgs = uni_deseasonalize(X)\n",
    "x_train, y_train = split_sequence(X, n_steps)"
   ]
  },
  {
   "cell_type": "code",
   "execution_count": 15,
   "metadata": {},
   "outputs": [],
   "source": [
    "x_test, y_test = split_sequence(y_test, n_steps)"
   ]
  },
  {
   "cell_type": "code",
   "execution_count": 65,
   "metadata": {},
   "outputs": [],
   "source": [
    "X_train, y_train = split_sequence(X[:,0], n_steps)"
   ]
  },
  {
   "cell_type": "code",
   "execution_count": 66,
   "metadata": {},
   "outputs": [],
   "source": [
    "oni_x = np.reshape(X[19:-1,1], (X_train.shape[0],1))\n",
    "oni_y = np.reshape(X[19:-1,1], (X_train.shape[0],1))"
   ]
  },
  {
   "cell_type": "code",
   "execution_count": 67,
   "metadata": {},
   "outputs": [],
   "source": [
    "X_train = np.hstack((oni_x, X_train))"
   ]
  },
  {
   "cell_type": "code",
   "execution_count": 59,
   "metadata": {},
   "outputs": [],
   "source": []
  },
  {
   "cell_type": "code",
   "execution_count": null,
   "metadata": {},
   "outputs": [],
   "source": [
    "# define input sequence\n",
    "raw_seq = x[index:index+(n+m)*f]\n",
    "X, y_test = train_test_split_ts_2d_raw(raw_seq, h) \n",
    "#X, avgs = uni_deseasonalize(X)\n",
    "\n",
    "X_train, y_train = split_sequence(X, n_steps)"
   ]
  },
  {
   "cell_type": "code",
   "execution_count": null,
   "metadata": {},
   "outputs": [],
   "source": []
  },
  {
   "cell_type": "code",
   "execution_count": 86,
   "metadata": {},
   "outputs": [],
   "source": [
    "raw_seq = x[index:index+(n+m)*f]"
   ]
  },
  {
   "cell_type": "code",
   "execution_count": 87,
   "metadata": {},
   "outputs": [],
   "source": [
    "X, y = split_sequence(raw_seq, n_steps)"
   ]
  },
  {
   "cell_type": "code",
   "execution_count": 88,
   "metadata": {},
   "outputs": [],
   "source": [
    "x_train, x_test = train_test_split_ts_2d_raw(X, h)"
   ]
  },
  {
   "cell_type": "code",
   "execution_count": 89,
   "metadata": {},
   "outputs": [],
   "source": [
    "y_train, y_test = train_test_split_ts_2d_raw(y, h)"
   ]
  },
  {
   "cell_type": "code",
   "execution_count": null,
   "metadata": {},
   "outputs": [],
   "source": []
  },
  {
   "cell_type": "code",
   "execution_count": 55,
   "metadata": {},
   "outputs": [],
   "source": [
    "n_units = [16]\n",
    "learning_rate = 0.001\n",
    "optimizer = 'adam'\n",
    "epochs = 100"
   ]
  },
  {
   "cell_type": "code",
   "execution_count": 59,
   "metadata": {},
   "outputs": [],
   "source": [
    "n_units = [200,100,50,30,20,10]\n",
    "learning_rate = 0.001\n",
    "optimizer = 'adam'\n",
    "epochs = 500"
   ]
  },
  {
   "cell_type": "code",
   "execution_count": 60,
   "metadata": {},
   "outputs": [],
   "source": [
    "model = build_model(n_steps, n_units, learning_rate, optimizer)\n",
    "model.fit(X_train, y_train, epochs=epochs, validation_split = 0.2, verbose=0)\n",
    "y_hat = forecast(np.append(X_train[-1][1:],np.array(y_train[-1])), model, h, n_steps)\n",
    "y_hat = np.reshape(y_hat,len(y_test))"
   ]
  },
  {
   "cell_type": "code",
   "execution_count": 116,
   "metadata": {},
   "outputs": [],
   "source": [
    "#avgs = np.tile(avgs, int(len(y_hat)/f))\n",
    "#stds = np.tile(stds, int(len(y_hat)/f))"
   ]
  },
  {
   "cell_type": "code",
   "execution_count": 61,
   "metadata": {},
   "outputs": [
    {
     "data": {
      "text/plain": [
       "8.306955666928031"
      ]
     },
     "execution_count": 61,
     "metadata": {},
     "output_type": "execute_result"
    }
   ],
   "source": [
    "math.sqrt(mean_squared_error(y_test,y_hat))"
   ]
  },
  {
   "cell_type": "code",
   "execution_count": 58,
   "metadata": {},
   "outputs": [
    {
     "data": {
      "text/plain": [
       "<matplotlib.legend.Legend at 0x7f23c050ea58>"
      ]
     },
     "execution_count": 58,
     "metadata": {},
     "output_type": "execute_result"
    },
    {
     "data": {
      "image/png": "[encoded data removed]",
      "text/plain": [
       "<Figure size 432x288 with 1 Axes>"
      ]
     },
     "metadata": {
      "needs_background": "light"
     },
     "output_type": "display_data"
    }
   ],
   "source": [
    "plt.plot(range(len(y_test)), y_test, label=\"Observations\")\n",
    "plt.plot(range(len(y_test)), y_hat, label=\"Predictions\")\n",
    "plt.legend()"
   ]
  },
  {
   "cell_type": "code",
   "execution_count": 112,
   "metadata": {},
   "outputs": [
    {
     "data": {
      "text/plain": [
       "array([ 1,  2,  2,  2,  4,  3,  3,  3,  3,  4,  3,  4,  5,  6,  6,  7,  8,\n",
       "        8,  8, 11, 11,  8,  5,  8,  8, 14, 12, 11, 14, 15, 17, 15, 17, 14,\n",
       "       18, 11])"
      ]
     },
     "execution_count": 112,
     "metadata": {},
     "output_type": "execute_result"
    }
   ],
   "source": [
    "y_test"
   ]
  },
  {
   "cell_type": "code",
   "execution_count": null,
   "metadata": {},
   "outputs": [],
   "source": []
  },
  {
   "cell_type": "code",
   "execution_count": null,
   "metadata": {},
   "outputs": [],
   "source": [
    "if np.any(np.isnan(y_hat)):\n",
    "    errors.append(np.nan)\n",
    "else:\n",
    "    errors.append(math.sqrt(mean_squared_error(y_test,y_hat)))"
   ]
  },
  {
   "cell_type": "code",
   "execution_count": null,
   "metadata": {},
   "outputs": [],
   "source": []
  },
  {
   "cell_type": "code",
   "execution_count": null,
   "metadata": {},
   "outputs": [],
   "source": []
  },
  {
   "cell_type": "code",
   "execution_count": 29,
   "metadata": {},
   "outputs": [],
   "source": [
    "%load_ext tensorboard"
   ]
  },
  {
   "cell_type": "code",
   "execution_count": 30,
   "metadata": {},
   "outputs": [],
   "source": [
    "!rm -rf ./logs/ "
   ]
  },
  {
   "cell_type": "code",
   "execution_count": 371,
   "metadata": {},
   "outputs": [],
   "source": [
    "HP_NUM_UNITS = hp.HParam('num_units', hp.Discrete([16, 32]))\n",
    "HP_DROPOUT = hp.HParam('dropout', hp.RealInterval(0.1, 0.2))\n",
    "HP_OPTIMIZER = hp.HParam('optimizer', hp.Discrete(['adam', 'sgd']))\n",
    "\n",
    "METRIC_RMSE = 'RootMeanSquaredError'\n",
    "\n",
    "with tf.summary.create_file_writer('logs/hparam_tuning').as_default():\n",
    "    hp.hparams_config(\n",
    "    hparams=[HP_NUM_UNITS, HP_DROPOUT, HP_OPTIMIZER],\n",
    "    metrics=[hp.Metric(METRIC_RMSE, display_name='RMSE')],\n",
    "  )"
   ]
  },
  {
   "cell_type": "code",
   "execution_count": 373,
   "metadata": {},
   "outputs": [],
   "source": [
    "def train_test_model(hparams):\n",
    "    model = tf.keras.models.Sequential([\n",
    "    tf.keras.layers.InputLayer(input_shape = n_steps *2 ),\n",
    "    tf.keras.layers.Dense(hparams[HP_NUM_UNITS], activation=tf.nn.relu),\n",
    "    tf.keras.layers.Dropout(hparams[HP_DROPOUT]),\n",
    "    tf.keras.layers.Dense(1),\n",
    "    ])\n",
    "    model.compile(\n",
    "      optimizer=hparams[HP_OPTIMIZER],\n",
    "      loss='mean_squared_error',\n",
    "      metrics=['RootMeanSquaredError'],\n",
    "    )\n",
    "\n",
    "    model.fit(x_train, y_train, epochs=100,verbose=False) # Run with 1 epoch to speed things up for demo purposes\n",
    "    _, rmse = model.evaluate(x_test, y_test)\n",
    "    return rmse\n"
   ]
  },
  {
   "cell_type": "code",
   "execution_count": 374,
   "metadata": {},
   "outputs": [],
   "source": [
    "def run(run_dir, hparams):\n",
    "    with tf.summary.create_file_writer(run_dir).as_default():\n",
    "        hp.hparams(hparams)  # record the values used in this trial\n",
    "        rmse = train_test_model(hparams)\n",
    "        tf.summary.scalar(METRIC_RMSE, rmse, step=10)"
   ]
  },
  {
   "cell_type": "code",
   "execution_count": 375,
   "metadata": {},
   "outputs": [
    {
     "name": "stdout",
     "output_type": "stream",
     "text": [
      "--- Starting trial: run-0\n",
      "{'num_units': 16, 'dropout': 0.1, 'optimizer': 'adam'}\n",
      "48/48 [==============================] - 0s 1ms/sample - loss: 19.1536 - RootMeanSquaredError: 4.3765\n",
      "--- Starting trial: run-1\n",
      "{'num_units': 16, 'dropout': 0.1, 'optimizer': 'sgd'}\n",
      "48/48 [==============================] - 0s 1ms/sample - loss: 47.7244 - RootMeanSquaredError: 6.9083\n",
      "--- Starting trial: run-2\n",
      "{'num_units': 16, 'dropout': 0.2, 'optimizer': 'adam'}\n",
      "48/48 [==============================] - 0s 1ms/sample - loss: 18.5791 - RootMeanSquaredError: 4.3103\n",
      "--- Starting trial: run-3\n",
      "{'num_units': 16, 'dropout': 0.2, 'optimizer': 'sgd'}\n",
      "48/48 [==============================] - 0s 1ms/sample - loss: 47.5877 - RootMeanSquaredError: 6.8984\n",
      "--- Starting trial: run-4\n",
      "{'num_units': 32, 'dropout': 0.1, 'optimizer': 'adam'}\n",
      "48/48 [==============================] - 0s 1ms/sample - loss: 21.7139 - RootMeanSquaredError: 4.6598\n",
      "--- Starting trial: run-5\n",
      "{'num_units': 32, 'dropout': 0.1, 'optimizer': 'sgd'}\n",
      "48/48 [==============================] - 0s 985us/sample - loss: 48.1635 - RootMeanSquaredError: 6.9400\n",
      "--- Starting trial: run-6\n",
      "{'num_units': 32, 'dropout': 0.2, 'optimizer': 'adam'}\n",
      "48/48 [==============================] - 0s 995us/sample - loss: 20.6733 - RootMeanSquaredError: 4.5468\n",
      "--- Starting trial: run-7\n",
      "{'num_units': 32, 'dropout': 0.2, 'optimizer': 'sgd'}\n",
      "48/48 [==============================] - 0s 1ms/sample - loss: 48.1068 - RootMeanSquaredError: 6.9359\n"
     ]
    }
   ],
   "source": [
    "session_num = 0\n",
    "\n",
    "for num_units in HP_NUM_UNITS.domain.values:\n",
    "    for dropout_rate in (HP_DROPOUT.domain.min_value, HP_DROPOUT.domain.max_value):\n",
    "        for optimizer in HP_OPTIMIZER.domain.values:\n",
    "            hparams = {\n",
    "                HP_NUM_UNITS: num_units,\n",
    "                HP_DROPOUT: dropout_rate,\n",
    "                HP_OPTIMIZER: optimizer,\n",
    "            }\n",
    "            run_name = \"run-%d\" % session_num\n",
    "            print('--- Starting trial: %s' % run_name)\n",
    "            print({h.name: hparams[h] for h in hparams})\n",
    "            run('logs/hparam_tuning/' + run_name, hparams)\n",
    "            session_num += 1\n",
    "\n"
   ]
  },
  {
   "cell_type": "code",
   "execution_count": 23,
   "metadata": {},
   "outputs": [],
   "source": [
    "!kill 27181"
   ]
  },
  {
   "cell_type": "code",
   "execution_count": 253,
   "metadata": {},
   "outputs": [
    {
     "data": {
      "text/plain": [
       "Reusing TensorBoard on port 6006 (pid 28404), started 7:23:30 ago. (Use '!kill 28404' to kill it.)"
      ]
     },
     "metadata": {},
     "output_type": "display_data"
    },
    {
     "data": {
      "text/html": [
       "\n",
       "      <iframe id=\"tensorboard-frame-4cef9140f8d58125\" width=\"100%\" height=\"800\" frameborder=\"0\">\n",
       "      </iframe>\n",
       "      <script>\n",
       "        (function() {\n",
       "          const frame = document.getElementById(\"tensorboard-frame-4cef9140f8d58125\");\n",
       "          const url = new URL(\"/\", window.location);\n",
       "          url.port = 6006;\n",
       "          frame.src = url;\n",
       "        })();\n",
       "      </script>\n",
       "  "
      ],
      "text/plain": [
       "<IPython.core.display.HTML object>"
      ]
     },
     "metadata": {},
     "output_type": "display_data"
    }
   ],
   "source": [
    "%tensorboard --logdir logs/hparam_tuning"
   ]
  },
  {
   "cell_type": "code",
   "execution_count": null,
   "metadata": {},
   "outputs": [],
   "source": []
  },
  {
   "cell_type": "code",
   "execution_count": 386,
   "metadata": {},
   "outputs": [],
   "source": [
    "HP_NUM_UNITS1 = hp.HParam('num_units 1', hp.Discrete([4,8,16])) \n",
    "HP_NUM_UNITS2 = hp.HParam('num_units 2', hp.Discrete([4,8]))\n",
    "HP_DROPOUT = hp.HParam('dropout', hp.RealInterval(0.1, 0.3))\n",
    "HP_OPTIMIZER = hp.HParam('optimizer', hp.Discrete(['adam', 'sgd','RMSprop']))\n",
    "HP_L2 = hp.HParam('l2 regularizer', hp.RealInterval(.001,.01))\n",
    "METRIC_RMSE = 'RootMeanSquaredError'\n",
    "\n",
    "with tf.summary.create_file_writer('logs/hparam_tuning').as_default():\n",
    "    hp.hparams_config(\n",
    "    hparams=[HP_NUM_UNITS1,HP_NUM_UNITS2, HP_DROPOUT,HP_L2 ,HP_OPTIMIZER],\n",
    "    metrics=[hp.Metric(METRIC_RMSE, display_name='RMSE')],\n",
    "  )"
   ]
  },
  {
   "cell_type": "code",
   "execution_count": 387,
   "metadata": {},
   "outputs": [],
   "source": [
    "def train_test_model(hparams):\n",
    "    model = tf.keras.Sequential([\n",
    "        tf.keras.layers.InputLayer(input_shape = n_steps * 2),\n",
    "        layers.Dense(hparams[HP_NUM_UNITS1], kernel_regularizer=tf.keras.regularizers.l2(0.001), activation=tf.nn.relu),\n",
    "        layers.Dropout(hparams[HP_DROPOUT]),\n",
    "        layers.Dense(hparams[HP_NUM_UNITS2], kernel_regularizer=tf.keras.regularizers.l2(0.001), activation=tf.nn.relu),\n",
    "        layers.Dense(1)\n",
    "    ])\n",
    "\n",
    "    model.compile(optimizer=hparams[HP_OPTIMIZER],\n",
    "                loss='mean_squared_error',\n",
    "                metrics=['RootMeanSquaredError'])\n",
    "\n",
    "    model.fit(x_train, y_train, epochs=100,verbose=False) \n",
    "    _, rmse = model.evaluate(x_test, y_test)\n",
    "    return rmse"
   ]
  },
  {
   "cell_type": "code",
   "execution_count": 388,
   "metadata": {},
   "outputs": [],
   "source": [
    "def run(run_dir, hparams):\n",
    "    with tf.summary.create_file_writer(run_dir).as_default():\n",
    "        hp.hparams(hparams)  # record the values used in this trial\n",
    "        rmse = train_test_model(hparams)\n",
    "        tf.summary.scalar(METRIC_RMSE, rmse, step=1)\n",
    "    return(rmse, hparams)"
   ]
  },
  {
   "cell_type": "code",
   "execution_count": 389,
   "metadata": {},
   "outputs": [
    {
     "name": "stdout",
     "output_type": "stream",
     "text": [
      "--- Starting trial: run-0\n",
      "{'num_units 1': 4, 'num_units 2': 4, 'dropout': 0.1, 'l2 regularizer': 0.001, 'optimizer': 'RMSprop'}\n",
      "48/48 [==============================] - 0s 1ms/sample - loss: 19.1040 - RootMeanSquaredError: 4.3697\n",
      "--- Starting trial: run-1\n",
      "{'num_units 1': 4, 'num_units 2': 4, 'dropout': 0.1, 'l2 regularizer': 0.001, 'optimizer': 'adam'}\n",
      "48/48 [==============================] - 0s 2ms/sample - loss: 22.3175 - RootMeanSquaredError: 4.7232\n",
      "--- Starting trial: run-2\n",
      "{'num_units 1': 4, 'num_units 2': 4, 'dropout': 0.1, 'l2 regularizer': 0.001, 'optimizer': 'sgd'}\n",
      "48/48 [==============================] - 0s 1ms/sample - loss: 58.7348 - RootMeanSquaredError: 6.7918\n",
      "--- Starting trial: run-3\n",
      "{'num_units 1': 4, 'num_units 2': 4, 'dropout': 0.1, 'l2 regularizer': 0.01, 'optimizer': 'RMSprop'}\n",
      "48/48 [==============================] - 0s 1ms/sample - loss: 24.6611 - RootMeanSquaredError: 4.9653\n",
      "--- Starting trial: run-4\n",
      "{'num_units 1': 4, 'num_units 2': 4, 'dropout': 0.1, 'l2 regularizer': 0.01, 'optimizer': 'adam'}\n",
      "48/48 [==============================] - 0s 1ms/sample - loss: 22.1468 - RootMeanSquaredError: 4.7050\n",
      "--- Starting trial: run-5\n",
      "{'num_units 1': 4, 'num_units 2': 4, 'dropout': 0.1, 'l2 regularizer': 0.01, 'optimizer': 'sgd'}\n",
      "48/48 [==============================] - 0s 1ms/sample - loss: 127522586624.0000 - RootMeanSquaredError: 6.8922\n",
      "--- Starting trial: run-6\n",
      "{'num_units 1': 4, 'num_units 2': 4, 'dropout': 0.3, 'l2 regularizer': 0.001, 'optimizer': 'RMSprop'}\n",
      "48/48 [==============================] - 0s 1ms/sample - loss: 26.1459 - RootMeanSquaredError: 5.1124\n",
      "--- Starting trial: run-7\n",
      "{'num_units 1': 4, 'num_units 2': 4, 'dropout': 0.3, 'l2 regularizer': 0.001, 'optimizer': 'adam'}\n",
      "48/48 [==============================] - 0s 1ms/sample - loss: 20.7045 - RootMeanSquaredError: 4.5492\n",
      "--- Starting trial: run-8\n",
      "{'num_units 1': 4, 'num_units 2': 4, 'dropout': 0.3, 'l2 regularizer': 0.001, 'optimizer': 'sgd'}\n",
      "48/48 [==============================] - 0s 1ms/sample - loss: 51.3653 - RootMeanSquaredError: 6.9283\n",
      "--- Starting trial: run-9\n",
      "{'num_units 1': 4, 'num_units 2': 4, 'dropout': 0.3, 'l2 regularizer': 0.01, 'optimizer': 'RMSprop'}\n",
      "48/48 [==============================] - 0s 1ms/sample - loss: 17.3765 - RootMeanSquaredError: 4.1676\n",
      "--- Starting trial: run-10\n",
      "{'num_units 1': 4, 'num_units 2': 4, 'dropout': 0.3, 'l2 regularizer': 0.01, 'optimizer': 'adam'}\n",
      "48/48 [==============================] - 0s 1ms/sample - loss: 35.5765 - RootMeanSquaredError: 5.9636\n",
      "--- Starting trial: run-11\n",
      "{'num_units 1': 4, 'num_units 2': 4, 'dropout': 0.3, 'l2 regularizer': 0.01, 'optimizer': 'sgd'}\n",
      "48/48 [==============================] - 0s 1ms/sample - loss: 49.5515 - RootMeanSquaredError: 6.9741\n",
      "--- Starting trial: run-12\n",
      "{'num_units 1': 4, 'num_units 2': 8, 'dropout': 0.1, 'l2 regularizer': 0.001, 'optimizer': 'RMSprop'}\n",
      "48/48 [==============================] - 0s 1ms/sample - loss: 17.6379 - RootMeanSquaredError: 4.1985\n",
      "--- Starting trial: run-13\n",
      "{'num_units 1': 4, 'num_units 2': 8, 'dropout': 0.1, 'l2 regularizer': 0.001, 'optimizer': 'adam'}\n",
      "48/48 [==============================] - 0s 1ms/sample - loss: 20.6470 - RootMeanSquaredError: 4.5428\n",
      "--- Starting trial: run-14\n",
      "{'num_units 1': 4, 'num_units 2': 8, 'dropout': 0.1, 'l2 regularizer': 0.001, 'optimizer': 'sgd'}\n",
      "48/48 [==============================] - 0s 1ms/sample - loss: 17298.2376 - RootMeanSquaredError: 6.5321\n",
      "--- Starting trial: run-15\n",
      "{'num_units 1': 4, 'num_units 2': 8, 'dropout': 0.1, 'l2 regularizer': 0.01, 'optimizer': 'RMSprop'}\n",
      "48/48 [==============================] - 0s 1ms/sample - loss: 16.0520 - RootMeanSquaredError: 4.0052\n",
      "--- Starting trial: run-16\n",
      "{'num_units 1': 4, 'num_units 2': 8, 'dropout': 0.1, 'l2 regularizer': 0.01, 'optimizer': 'adam'}\n",
      "48/48 [==============================] - 0s 2ms/sample - loss: 24.7339 - RootMeanSquaredError: 4.9722\n",
      "--- Starting trial: run-17\n",
      "{'num_units 1': 4, 'num_units 2': 8, 'dropout': 0.1, 'l2 regularizer': 0.01, 'optimizer': 'sgd'}\n",
      "48/48 [==============================] - 0s 1ms/sample - loss: 92.5169 - RootMeanSquaredError: 6.6906\n",
      "--- Starting trial: run-18\n",
      "{'num_units 1': 4, 'num_units 2': 8, 'dropout': 0.3, 'l2 regularizer': 0.001, 'optimizer': 'RMSprop'}\n",
      "48/48 [==============================] - 0s 1ms/sample - loss: 23.1123 - RootMeanSquaredError: 4.8068\n",
      "--- Starting trial: run-19\n",
      "{'num_units 1': 4, 'num_units 2': 8, 'dropout': 0.3, 'l2 regularizer': 0.001, 'optimizer': 'adam'}\n",
      "48/48 [==============================] - 0s 2ms/sample - loss: 26.9833 - RootMeanSquaredError: 5.1935\n",
      "--- Starting trial: run-20\n",
      "{'num_units 1': 4, 'num_units 2': 8, 'dropout': 0.3, 'l2 regularizer': 0.001, 'optimizer': 'sgd'}\n",
      "48/48 [==============================] - 1s 24ms/sample - loss: 62.3239 - RootMeanSquaredError: 6.9774\n",
      "--- Starting trial: run-21\n",
      "{'num_units 1': 4, 'num_units 2': 8, 'dropout': 0.3, 'l2 regularizer': 0.01, 'optimizer': 'RMSprop'}\n",
      "48/48 [==============================] - 0s 1ms/sample - loss: 20.3920 - RootMeanSquaredError: 4.5149\n",
      "--- Starting trial: run-22\n",
      "{'num_units 1': 4, 'num_units 2': 8, 'dropout': 0.3, 'l2 regularizer': 0.01, 'optimizer': 'adam'}\n",
      "48/48 [==============================] - 0s 1ms/sample - loss: 19.9296 - RootMeanSquaredError: 4.4630\n",
      "--- Starting trial: run-23\n",
      "{'num_units 1': 4, 'num_units 2': 8, 'dropout': 0.3, 'l2 regularizer': 0.01, 'optimizer': 'sgd'}\n",
      "48/48 [==============================] - 0s 1ms/sample - loss: 50.6868 - RootMeanSquaredError: 6.8456\n",
      "--- Starting trial: run-24\n",
      "{'num_units 1': 8, 'num_units 2': 4, 'dropout': 0.1, 'l2 regularizer': 0.001, 'optimizer': 'RMSprop'}\n",
      "48/48 [==============================] - 0s 1ms/sample - loss: 27.7766 - RootMeanSquaredError: 5.2688\n",
      "--- Starting trial: run-25\n",
      "{'num_units 1': 8, 'num_units 2': 4, 'dropout': 0.1, 'l2 regularizer': 0.001, 'optimizer': 'adam'}\n",
      "48/48 [==============================] - 0s 1ms/sample - loss: 24.9632 - RootMeanSquaredError: 4.9953\n",
      "--- Starting trial: run-26\n",
      "{'num_units 1': 8, 'num_units 2': 4, 'dropout': 0.1, 'l2 regularizer': 0.001, 'optimizer': 'sgd'}\n",
      "48/48 [==============================] - 0s 1ms/sample - loss: 51.1642 - RootMeanSquaredError: 6.8641\n",
      "--- Starting trial: run-27\n",
      "{'num_units 1': 8, 'num_units 2': 4, 'dropout': 0.1, 'l2 regularizer': 0.01, 'optimizer': 'RMSprop'}\n",
      "48/48 [==============================] - 0s 1ms/sample - loss: 18.2598 - RootMeanSquaredError: 4.2713\n",
      "--- Starting trial: run-28\n",
      "{'num_units 1': 8, 'num_units 2': 4, 'dropout': 0.1, 'l2 regularizer': 0.01, 'optimizer': 'adam'}\n",
      "48/48 [==============================] - 0s 1ms/sample - loss: 20.2224 - RootMeanSquaredError: 4.4949\n",
      "--- Starting trial: run-29\n",
      "{'num_units 1': 8, 'num_units 2': 4, 'dropout': 0.1, 'l2 regularizer': 0.01, 'optimizer': 'sgd'}\n",
      "48/48 [==============================] - 0s 1ms/sample - loss: 239213.6823 - RootMeanSquaredError: 9.5367\n",
      "--- Starting trial: run-30\n",
      "{'num_units 1': 8, 'num_units 2': 4, 'dropout': 0.3, 'l2 regularizer': 0.001, 'optimizer': 'RMSprop'}\n",
      "48/48 [==============================] - 0s 1ms/sample - loss: 36.4751 - RootMeanSquaredError: 6.0386\n",
      "--- Starting trial: run-31\n",
      "{'num_units 1': 8, 'num_units 2': 4, 'dropout': 0.3, 'l2 regularizer': 0.001, 'optimizer': 'adam'}\n",
      "48/48 [==============================] - 0s 1ms/sample - loss: 19.3910 - RootMeanSquaredError: 4.4021\n",
      "--- Starting trial: run-32\n",
      "{'num_units 1': 8, 'num_units 2': 4, 'dropout': 0.3, 'l2 regularizer': 0.001, 'optimizer': 'sgd'}\n",
      "48/48 [==============================] - 0s 1ms/sample - loss: 67.2822 - RootMeanSquaredError: 6.9194\n",
      "--- Starting trial: run-33\n",
      "{'num_units 1': 8, 'num_units 2': 4, 'dropout': 0.3, 'l2 regularizer': 0.01, 'optimizer': 'RMSprop'}\n",
      "48/48 [==============================] - 0s 1ms/sample - loss: 26.0722 - RootMeanSquaredError: 5.1050\n",
      "--- Starting trial: run-34\n",
      "{'num_units 1': 8, 'num_units 2': 4, 'dropout': 0.3, 'l2 regularizer': 0.01, 'optimizer': 'adam'}\n",
      "48/48 [==============================] - 0s 1ms/sample - loss: 21.7302 - RootMeanSquaredError: 4.6601\n",
      "--- Starting trial: run-35\n",
      "{'num_units 1': 8, 'num_units 2': 4, 'dropout': 0.3, 'l2 regularizer': 0.01, 'optimizer': 'sgd'}\n"
     ]
    },
    {
     "name": "stdout",
     "output_type": "stream",
     "text": [
      "48/48 [==============================] - 0s 1ms/sample - loss: 48.0373 - RootMeanSquaredError: 6.9265\n",
      "--- Starting trial: run-36\n",
      "{'num_units 1': 8, 'num_units 2': 8, 'dropout': 0.1, 'l2 regularizer': 0.001, 'optimizer': 'RMSprop'}\n",
      "48/48 [==============================] - 0s 1ms/sample - loss: 27.7443 - RootMeanSquaredError: 5.2660\n",
      "--- Starting trial: run-37\n",
      "{'num_units 1': 8, 'num_units 2': 8, 'dropout': 0.1, 'l2 regularizer': 0.001, 'optimizer': 'adam'}\n",
      "48/48 [==============================] - 0s 1ms/sample - loss: 22.3119 - RootMeanSquaredError: 4.7214\n",
      "--- Starting trial: run-38\n",
      "{'num_units 1': 8, 'num_units 2': 8, 'dropout': 0.1, 'l2 regularizer': 0.001, 'optimizer': 'sgd'}\n",
      "48/48 [==============================] - 0s 1ms/sample - loss: 47.5136 - RootMeanSquaredError: 6.8900\n",
      "--- Starting trial: run-39\n",
      "{'num_units 1': 8, 'num_units 2': 8, 'dropout': 0.1, 'l2 regularizer': 0.01, 'optimizer': 'RMSprop'}\n",
      "48/48 [==============================] - 0s 1ms/sample - loss: 22.6655 - RootMeanSquaredError: 4.7587\n",
      "--- Starting trial: run-40\n",
      "{'num_units 1': 8, 'num_units 2': 8, 'dropout': 0.1, 'l2 regularizer': 0.01, 'optimizer': 'adam'}\n",
      "48/48 [==============================] - 0s 2ms/sample - loss: 18.8503 - RootMeanSquaredError: 4.3396\n",
      "--- Starting trial: run-41\n",
      "{'num_units 1': 8, 'num_units 2': 8, 'dropout': 0.1, 'l2 regularizer': 0.01, 'optimizer': 'sgd'}\n",
      "48/48 [==============================] - 0s 1ms/sample - loss: 1842642517.3333 - RootMeanSquaredError: 6.9032\n",
      "--- Starting trial: run-42\n",
      "{'num_units 1': 8, 'num_units 2': 8, 'dropout': 0.3, 'l2 regularizer': 0.001, 'optimizer': 'RMSprop'}\n",
      "48/48 [==============================] - 0s 1ms/sample - loss: 19.5168 - RootMeanSquaredError: 4.4166\n",
      "--- Starting trial: run-43\n",
      "{'num_units 1': 8, 'num_units 2': 8, 'dropout': 0.3, 'l2 regularizer': 0.001, 'optimizer': 'adam'}\n",
      "48/48 [==============================] - 0s 1ms/sample - loss: 25.0505 - RootMeanSquaredError: 5.0034\n",
      "--- Starting trial: run-44\n",
      "{'num_units 1': 8, 'num_units 2': 8, 'dropout': 0.3, 'l2 regularizer': 0.001, 'optimizer': 'sgd'}\n",
      "48/48 [==============================] - 0s 1ms/sample - loss: 63147.3880 - RootMeanSquaredError: 6.8686\n",
      "--- Starting trial: run-45\n",
      "{'num_units 1': 8, 'num_units 2': 8, 'dropout': 0.3, 'l2 regularizer': 0.01, 'optimizer': 'RMSprop'}\n",
      "48/48 [==============================] - 0s 1ms/sample - loss: 20.1031 - RootMeanSquaredError: 4.4820\n",
      "--- Starting trial: run-46\n",
      "{'num_units 1': 8, 'num_units 2': 8, 'dropout': 0.3, 'l2 regularizer': 0.01, 'optimizer': 'adam'}\n",
      "48/48 [==============================] - 0s 1ms/sample - loss: 29.2522 - RootMeanSquaredError: 5.4067\n",
      "--- Starting trial: run-47\n",
      "{'num_units 1': 8, 'num_units 2': 8, 'dropout': 0.3, 'l2 regularizer': 0.01, 'optimizer': 'sgd'}\n",
      "48/48 [==============================] - 0s 1ms/sample - loss: 8473768.0000 - RootMeanSquaredError: 7.0011\n",
      "--- Starting trial: run-48\n",
      "{'num_units 1': 16, 'num_units 2': 4, 'dropout': 0.1, 'l2 regularizer': 0.001, 'optimizer': 'RMSprop'}\n",
      "48/48 [==============================] - 0s 1ms/sample - loss: 17.9643 - RootMeanSquaredError: 4.2360\n",
      "--- Starting trial: run-49\n",
      "{'num_units 1': 16, 'num_units 2': 4, 'dropout': 0.1, 'l2 regularizer': 0.001, 'optimizer': 'adam'}\n",
      "48/48 [==============================] - 0s 1ms/sample - loss: 18.2836 - RootMeanSquaredError: 4.2732\n",
      "--- Starting trial: run-50\n",
      "{'num_units 1': 16, 'num_units 2': 4, 'dropout': 0.1, 'l2 regularizer': 0.001, 'optimizer': 'sgd'}\n",
      "48/48 [==============================] - 0s 1ms/sample - loss: 61.3335 - RootMeanSquaredError: 6.9120\n",
      "--- Starting trial: run-51\n",
      "{'num_units 1': 16, 'num_units 2': 4, 'dropout': 0.1, 'l2 regularizer': 0.01, 'optimizer': 'RMSprop'}\n",
      "48/48 [==============================] - 0s 1ms/sample - loss: 19.4154 - RootMeanSquaredError: 4.4037\n",
      "--- Starting trial: run-52\n",
      "{'num_units 1': 16, 'num_units 2': 4, 'dropout': 0.1, 'l2 regularizer': 0.01, 'optimizer': 'adam'}\n",
      "48/48 [==============================] - 0s 1ms/sample - loss: 18.6047 - RootMeanSquaredError: 4.3103\n",
      "--- Starting trial: run-53\n",
      "{'num_units 1': 16, 'num_units 2': 4, 'dropout': 0.1, 'l2 regularizer': 0.01, 'optimizer': 'sgd'}\n",
      "48/48 [==============================] - 0s 1ms/sample - loss: 318207018.6667 - RootMeanSquaredError: 6.9233\n",
      "--- Starting trial: run-54\n",
      "{'num_units 1': 16, 'num_units 2': 4, 'dropout': 0.3, 'l2 regularizer': 0.001, 'optimizer': 'RMSprop'}\n",
      "48/48 [==============================] - 0s 1ms/sample - loss: 29.4401 - RootMeanSquaredError: 5.4241\n",
      "--- Starting trial: run-55\n",
      "{'num_units 1': 16, 'num_units 2': 4, 'dropout': 0.3, 'l2 regularizer': 0.001, 'optimizer': 'adam'}\n",
      "48/48 [==============================] - 0s 1ms/sample - loss: 19.9844 - RootMeanSquaredError: 4.4677\n",
      "--- Starting trial: run-56\n",
      "{'num_units 1': 16, 'num_units 2': 4, 'dropout': 0.3, 'l2 regularizer': 0.001, 'optimizer': 'sgd'}\n",
      "48/48 [==============================] - 0s 1ms/sample - loss: 59.5986 - RootMeanSquaredError: 6.9369\n",
      "--- Starting trial: run-57\n",
      "{'num_units 1': 16, 'num_units 2': 4, 'dropout': 0.3, 'l2 regularizer': 0.01, 'optimizer': 'RMSprop'}\n",
      "48/48 [==============================] - 0s 1ms/sample - loss: 77.5607 - RootMeanSquaredError: 8.8062\n",
      "--- Starting trial: run-58\n",
      "{'num_units 1': 16, 'num_units 2': 4, 'dropout': 0.3, 'l2 regularizer': 0.01, 'optimizer': 'adam'}\n",
      "48/48 [==============================] - 0s 1ms/sample - loss: 24.6677 - RootMeanSquaredError: 4.9646\n",
      "--- Starting trial: run-59\n",
      "{'num_units 1': 16, 'num_units 2': 4, 'dropout': 0.3, 'l2 regularizer': 0.01, 'optimizer': 'sgd'}\n",
      "48/48 [==============================] - 0s 1ms/sample - loss: 253.3326 - RootMeanSquaredError: 6.8920\n",
      "--- Starting trial: run-60\n",
      "{'num_units 1': 16, 'num_units 2': 8, 'dropout': 0.1, 'l2 regularizer': 0.001, 'optimizer': 'RMSprop'}\n",
      "48/48 [==============================] - 0s 2ms/sample - loss: 19.3066 - RootMeanSquaredError: 4.3907\n",
      "--- Starting trial: run-61\n",
      "{'num_units 1': 16, 'num_units 2': 8, 'dropout': 0.1, 'l2 regularizer': 0.001, 'optimizer': 'adam'}\n",
      "48/48 [==============================] - 0s 1ms/sample - loss: 22.5338 - RootMeanSquaredError: 4.7447\n",
      "--- Starting trial: run-62\n",
      "{'num_units 1': 16, 'num_units 2': 8, 'dropout': 0.1, 'l2 regularizer': 0.001, 'optimizer': 'sgd'}\n",
      "48/48 [==============================] - 0s 1ms/sample - loss: 186316292096.0000 - RootMeanSquaredError: 6.8597\n",
      "--- Starting trial: run-63\n",
      "{'num_units 1': 16, 'num_units 2': 8, 'dropout': 0.1, 'l2 regularizer': 0.01, 'optimizer': 'RMSprop'}\n",
      "48/48 [==============================] - 0s 1ms/sample - loss: 21.1832 - RootMeanSquaredError: 4.6002\n",
      "--- Starting trial: run-64\n",
      "{'num_units 1': 16, 'num_units 2': 8, 'dropout': 0.1, 'l2 regularizer': 0.01, 'optimizer': 'adam'}\n",
      "48/48 [==============================] - 0s 1ms/sample - loss: 19.3278 - RootMeanSquaredError: 4.3930\n",
      "--- Starting trial: run-65\n",
      "{'num_units 1': 16, 'num_units 2': 8, 'dropout': 0.1, 'l2 regularizer': 0.01, 'optimizer': 'sgd'}\n",
      "48/48 [==============================] - 0s 1ms/sample - loss: nan - RootMeanSquaredError: nan\n",
      "--- Starting trial: run-66\n",
      "{'num_units 1': 16, 'num_units 2': 8, 'dropout': 0.3, 'l2 regularizer': 0.001, 'optimizer': 'RMSprop'}\n",
      "48/48 [==============================] - 0s 1ms/sample - loss: 20.5901 - RootMeanSquaredError: 4.5347\n",
      "--- Starting trial: run-67\n",
      "{'num_units 1': 16, 'num_units 2': 8, 'dropout': 0.3, 'l2 regularizer': 0.001, 'optimizer': 'adam'}\n",
      "48/48 [==============================] - 0s 1ms/sample - loss: 28.2416 - RootMeanSquaredError: 5.3115\n",
      "--- Starting trial: run-68\n",
      "{'num_units 1': 16, 'num_units 2': 8, 'dropout': 0.3, 'l2 regularizer': 0.001, 'optimizer': 'sgd'}\n",
      "48/48 [==============================] - 0s 1ms/sample - loss: 2374.8810 - RootMeanSquaredError: 6.9012\n",
      "--- Starting trial: run-69\n",
      "{'num_units 1': 16, 'num_units 2': 8, 'dropout': 0.3, 'l2 regularizer': 0.01, 'optimizer': 'RMSprop'}\n",
      "48/48 [==============================] - 0s 1ms/sample - loss: 18.6953 - RootMeanSquaredError: 4.3207\n",
      "--- Starting trial: run-70\n",
      "{'num_units 1': 16, 'num_units 2': 8, 'dropout': 0.3, 'l2 regularizer': 0.01, 'optimizer': 'adam'}\n",
      "48/48 [==============================] - 0s 1ms/sample - loss: 22.0898 - RootMeanSquaredError: 4.6970\n",
      "--- Starting trial: run-71\n",
      "{'num_units 1': 16, 'num_units 2': 8, 'dropout': 0.3, 'l2 regularizer': 0.01, 'optimizer': 'sgd'}\n"
     ]
    },
    {
     "name": "stdout",
     "output_type": "stream",
     "text": [
      "48/48 [==============================] - 0s 1ms/sample - loss: 99643.0729 - RootMeanSquaredError: 6.8989\n"
     ]
    }
   ],
   "source": [
    "session_num = 0\n",
    "min_rmse = float('inf')\n",
    "best_hparams = {}\n",
    "for num_units1 in HP_NUM_UNITS1.domain.values:\n",
    "    for num_units2 in HP_NUM_UNITS2.domain.values:\n",
    "        for dropout_rate in (HP_DROPOUT.domain.min_value, HP_DROPOUT.domain.max_value):\n",
    "            for l2 in (HP_L2.domain.min_value, HP_L2.domain.max_value):\n",
    "                for optimizer in HP_OPTIMIZER.domain.values:\n",
    "                    hparams = {\n",
    "                        HP_NUM_UNITS1: num_units1,\n",
    "                        HP_NUM_UNITS2: num_units2,\n",
    "                        HP_DROPOUT: dropout_rate,\n",
    "                        HP_L2: l2,\n",
    "                        HP_OPTIMIZER: optimizer\n",
    "                    }\n",
    "                    run_name = \"run-%d\" % session_num\n",
    "                    print('--- Starting trial: %s' % run_name)\n",
    "                    print({h.name: hparams[h] for h in hparams})\n",
    "                    rmse, current_hparams = run('logs/hparam_tuning/' + run_name, hparams)\n",
    "                    if (~np.isnan(rmse)) and (rmse < min_rmse): \n",
    "                        best_hparams = current_hparams\n",
    "                        min_rmse = rmse\n",
    "                        print(\"mis_rmse {}\".format(min_rmse)\")\n",
    "                    session_num += 1"
   ]
  },
  {
   "cell_type": "code",
   "execution_count": 398,
   "metadata": {},
   "outputs": [
    {
     "name": "stdout",
     "output_type": "stream",
     "text": [
      "<HParam 'num_units 1': {4, 8, 16}>\n",
      "<HParam 'num_units 2': {4, 8}>\n",
      "<HParam 'dropout': [0.1, 0.3]>\n",
      "<HParam 'l2 regularizer': [0.001, 0.01]>\n",
      "<HParam 'optimizer': {'RMSprop', 'adam', 'sgd'}>\n"
     ]
    }
   ],
   "source": [
    "for key in best_hparams.keys():\n",
    "    print(key)"
   ]
  },
  {
   "cell_type": "code",
   "execution_count": 411,
   "metadata": {},
   "outputs": [
    {
     "data": {
      "text/plain": [
       "[4, 8, 0.1, 0.01, 'RMSprop']"
      ]
     },
     "execution_count": 411,
     "metadata": {},
     "output_type": "execute_result"
    }
   ],
   "source": [
    "list(best_hparams.values())"
   ]
  },
  {
   "cell_type": "code",
   "execution_count": 413,
   "metadata": {},
   "outputs": [
    {
     "data": {
      "text/plain": [
       "6.8988886"
      ]
     },
     "execution_count": 413,
     "metadata": {},
     "output_type": "execute_result"
    }
   ],
   "source": [
    "rmse"
   ]
  },
  {
   "cell_type": "code",
   "execution_count": 321,
   "metadata": {},
   "outputs": [],
   "source": [
    "!rm -rf ./logs/ "
   ]
  },
  {
   "cell_type": "code",
   "execution_count": 349,
   "metadata": {},
   "outputs": [],
   "source": [
    "%reload_ext tensorboard"
   ]
  },
  {
   "cell_type": "code",
   "execution_count": 350,
   "metadata": {
    "scrolled": true
   },
   "outputs": [
    {
     "data": {
      "text/plain": [
       "Reusing TensorBoard on port 6006 (pid 13393), started 6:38:46 ago. (Use '!kill 13393' to kill it.)"
      ]
     },
     "metadata": {},
     "output_type": "display_data"
    },
    {
     "data": {
      "text/html": [
       "\n",
       "      <iframe id=\"tensorboard-frame-6fad2bcba6d7f57e\" width=\"100%\" height=\"800\" frameborder=\"0\">\n",
       "      </iframe>\n",
       "      <script>\n",
       "        (function() {\n",
       "          const frame = document.getElementById(\"tensorboard-frame-6fad2bcba6d7f57e\");\n",
       "          const url = new URL(\"/\", window.location);\n",
       "          url.port = 6006;\n",
       "          frame.src = url;\n",
       "        })();\n",
       "      </script>\n",
       "  "
      ],
      "text/plain": [
       "<IPython.core.display.HTML object>"
      ]
     },
     "metadata": {},
     "output_type": "display_data"
    }
   ],
   "source": [
    "%tensorboard --logdir logs/hparam_tuning"
   ]
  },
  {
   "cell_type": "code",
   "execution_count": null,
   "metadata": {},
   "outputs": [],
   "source": []
  },
  {
   "cell_type": "code",
   "execution_count": null,
   "metadata": {},
   "outputs": [],
   "source": []
  },
  {
   "cell_type": "code",
   "execution_count": 91,
   "metadata": {},
   "outputs": [],
   "source": [
    "model = tf.keras.Sequential([\n",
    "    tf.keras.layers.InputLayer(input_shape = n_steps),\n",
    "    layers.Dense(16, kernel_regularizer=tf.keras.regularizers.l2(0.001), activation=tf.nn.relu),\n",
    "    layers.Dropout(0.3),\n",
    "    layers.Dense(4, kernel_regularizer=tf.keras.regularizers.l2(0.001), activation=tf.nn.relu),\n",
    "    layers.Dense(1)\n",
    "])"
   ]
  },
  {
   "cell_type": "code",
   "execution_count": 92,
   "metadata": {},
   "outputs": [],
   "source": [
    "model.compile(optimizer=tf.keras.optimizers.Adam(),\n",
    "            loss='mean_squared_error',\n",
    "            metrics=['RootMeanSquaredError'])"
   ]
  },
  {
   "cell_type": "code",
   "execution_count": 93,
   "metadata": {},
   "outputs": [
    {
     "ename": "ValueError",
     "evalue": "Error when checking input: expected input_363 to have shape (20,) but got array with shape (1,)",
     "output_type": "error",
     "traceback": [
      "\u001b[0;31m---------------------------------------------------------------------------\u001b[0m",
      "\u001b[0;31mValueError\u001b[0m                                Traceback (most recent call last)",
      "\u001b[0;32m<ipython-input-93-40f234ebf377>\u001b[0m in \u001b[0;36m<module>\u001b[0;34m\u001b[0m\n\u001b[0;32m----> 1\u001b[0;31m \u001b[0mmodel\u001b[0m\u001b[0;34m.\u001b[0m\u001b[0mfit\u001b[0m\u001b[0;34m(\u001b[0m\u001b[0mx_train\u001b[0m\u001b[0;34m,\u001b[0m \u001b[0my_train\u001b[0m\u001b[0;34m,\u001b[0m \u001b[0mepochs\u001b[0m\u001b[0;34m=\u001b[0m\u001b[0;36m50\u001b[0m\u001b[0;34m,\u001b[0m \u001b[0mverbose\u001b[0m\u001b[0;34m=\u001b[0m\u001b[0;32mFalse\u001b[0m\u001b[0;34m)\u001b[0m\u001b[0;34m\u001b[0m\u001b[0;34m\u001b[0m\u001b[0m\n\u001b[0m",
      "\u001b[0;32m~/anaconda3/envs/tensorflow/lib/python3.6/site-packages/tensorflow_core/python/keras/engine/training.py\u001b[0m in \u001b[0;36mfit\u001b[0;34m(self, x, y, batch_size, epochs, verbose, callbacks, validation_split, validation_data, shuffle, class_weight, sample_weight, initial_epoch, steps_per_epoch, validation_steps, validation_freq, max_queue_size, workers, use_multiprocessing, **kwargs)\u001b[0m\n\u001b[1;32m    817\u001b[0m         \u001b[0mmax_queue_size\u001b[0m\u001b[0;34m=\u001b[0m\u001b[0mmax_queue_size\u001b[0m\u001b[0;34m,\u001b[0m\u001b[0;34m\u001b[0m\u001b[0;34m\u001b[0m\u001b[0m\n\u001b[1;32m    818\u001b[0m         \u001b[0mworkers\u001b[0m\u001b[0;34m=\u001b[0m\u001b[0mworkers\u001b[0m\u001b[0;34m,\u001b[0m\u001b[0;34m\u001b[0m\u001b[0;34m\u001b[0m\u001b[0m\n\u001b[0;32m--> 819\u001b[0;31m         use_multiprocessing=use_multiprocessing)\n\u001b[0m\u001b[1;32m    820\u001b[0m \u001b[0;34m\u001b[0m\u001b[0m\n\u001b[1;32m    821\u001b[0m   def evaluate(self,\n",
      "\u001b[0;32m~/anaconda3/envs/tensorflow/lib/python3.6/site-packages/tensorflow_core/python/keras/engine/training_v2.py\u001b[0m in \u001b[0;36mfit\u001b[0;34m(self, model, x, y, batch_size, epochs, verbose, callbacks, validation_split, validation_data, shuffle, class_weight, sample_weight, initial_epoch, steps_per_epoch, validation_steps, validation_freq, max_queue_size, workers, use_multiprocessing, **kwargs)\u001b[0m\n\u001b[1;32m    233\u001b[0m           \u001b[0mmax_queue_size\u001b[0m\u001b[0;34m=\u001b[0m\u001b[0mmax_queue_size\u001b[0m\u001b[0;34m,\u001b[0m\u001b[0;34m\u001b[0m\u001b[0;34m\u001b[0m\u001b[0m\n\u001b[1;32m    234\u001b[0m           \u001b[0mworkers\u001b[0m\u001b[0;34m=\u001b[0m\u001b[0mworkers\u001b[0m\u001b[0;34m,\u001b[0m\u001b[0;34m\u001b[0m\u001b[0;34m\u001b[0m\u001b[0m\n\u001b[0;32m--> 235\u001b[0;31m           use_multiprocessing=use_multiprocessing)\n\u001b[0m\u001b[1;32m    236\u001b[0m \u001b[0;34m\u001b[0m\u001b[0m\n\u001b[1;32m    237\u001b[0m       \u001b[0mtotal_samples\u001b[0m \u001b[0;34m=\u001b[0m \u001b[0m_get_total_number_of_samples\u001b[0m\u001b[0;34m(\u001b[0m\u001b[0mtraining_data_adapter\u001b[0m\u001b[0;34m)\u001b[0m\u001b[0;34m\u001b[0m\u001b[0;34m\u001b[0m\u001b[0m\n",
      "\u001b[0;32m~/anaconda3/envs/tensorflow/lib/python3.6/site-packages/tensorflow_core/python/keras/engine/training_v2.py\u001b[0m in \u001b[0;36m_process_training_inputs\u001b[0;34m(model, x, y, batch_size, epochs, sample_weights, class_weights, steps_per_epoch, validation_split, validation_data, validation_steps, shuffle, distribution_strategy, max_queue_size, workers, use_multiprocessing)\u001b[0m\n\u001b[1;32m    591\u001b[0m         \u001b[0mmax_queue_size\u001b[0m\u001b[0;34m=\u001b[0m\u001b[0mmax_queue_size\u001b[0m\u001b[0;34m,\u001b[0m\u001b[0;34m\u001b[0m\u001b[0;34m\u001b[0m\u001b[0m\n\u001b[1;32m    592\u001b[0m         \u001b[0mworkers\u001b[0m\u001b[0;34m=\u001b[0m\u001b[0mworkers\u001b[0m\u001b[0;34m,\u001b[0m\u001b[0;34m\u001b[0m\u001b[0;34m\u001b[0m\u001b[0m\n\u001b[0;32m--> 593\u001b[0;31m         use_multiprocessing=use_multiprocessing)\n\u001b[0m\u001b[1;32m    594\u001b[0m     \u001b[0mval_adapter\u001b[0m \u001b[0;34m=\u001b[0m \u001b[0;32mNone\u001b[0m\u001b[0;34m\u001b[0m\u001b[0;34m\u001b[0m\u001b[0m\n\u001b[1;32m    595\u001b[0m     \u001b[0;32mif\u001b[0m \u001b[0mvalidation_data\u001b[0m\u001b[0;34m:\u001b[0m\u001b[0;34m\u001b[0m\u001b[0;34m\u001b[0m\u001b[0m\n",
      "\u001b[0;32m~/anaconda3/envs/tensorflow/lib/python3.6/site-packages/tensorflow_core/python/keras/engine/training_v2.py\u001b[0m in \u001b[0;36m_process_inputs\u001b[0;34m(model, mode, x, y, batch_size, epochs, sample_weights, class_weights, shuffle, steps, distribution_strategy, max_queue_size, workers, use_multiprocessing)\u001b[0m\n\u001b[1;32m    644\u001b[0m     \u001b[0mstandardize_function\u001b[0m \u001b[0;34m=\u001b[0m \u001b[0;32mNone\u001b[0m\u001b[0;34m\u001b[0m\u001b[0;34m\u001b[0m\u001b[0m\n\u001b[1;32m    645\u001b[0m     x, y, sample_weights = standardize(\n\u001b[0;32m--> 646\u001b[0;31m         x, y, sample_weight=sample_weights)\n\u001b[0m\u001b[1;32m    647\u001b[0m   \u001b[0;32melif\u001b[0m \u001b[0madapter_cls\u001b[0m \u001b[0;32mis\u001b[0m \u001b[0mdata_adapter\u001b[0m\u001b[0;34m.\u001b[0m\u001b[0mListsOfScalarsDataAdapter\u001b[0m\u001b[0;34m:\u001b[0m\u001b[0;34m\u001b[0m\u001b[0;34m\u001b[0m\u001b[0m\n\u001b[1;32m    648\u001b[0m     \u001b[0mstandardize_function\u001b[0m \u001b[0;34m=\u001b[0m \u001b[0mstandardize\u001b[0m\u001b[0;34m\u001b[0m\u001b[0;34m\u001b[0m\u001b[0m\n",
      "\u001b[0;32m~/anaconda3/envs/tensorflow/lib/python3.6/site-packages/tensorflow_core/python/keras/engine/training.py\u001b[0m in \u001b[0;36m_standardize_user_data\u001b[0;34m(self, x, y, sample_weight, class_weight, batch_size, check_steps, steps_name, steps, validation_split, shuffle, extract_tensors_from_dataset)\u001b[0m\n\u001b[1;32m   2381\u001b[0m         \u001b[0mis_dataset\u001b[0m\u001b[0;34m=\u001b[0m\u001b[0mis_dataset\u001b[0m\u001b[0;34m,\u001b[0m\u001b[0;34m\u001b[0m\u001b[0;34m\u001b[0m\u001b[0m\n\u001b[1;32m   2382\u001b[0m         \u001b[0mclass_weight\u001b[0m\u001b[0;34m=\u001b[0m\u001b[0mclass_weight\u001b[0m\u001b[0;34m,\u001b[0m\u001b[0;34m\u001b[0m\u001b[0;34m\u001b[0m\u001b[0m\n\u001b[0;32m-> 2383\u001b[0;31m         batch_size=batch_size)\n\u001b[0m\u001b[1;32m   2384\u001b[0m \u001b[0;34m\u001b[0m\u001b[0m\n\u001b[1;32m   2385\u001b[0m   def _standardize_tensors(self, x, y, sample_weight, run_eagerly, dict_inputs,\n",
      "\u001b[0;32m~/anaconda3/envs/tensorflow/lib/python3.6/site-packages/tensorflow_core/python/keras/engine/training.py\u001b[0m in \u001b[0;36m_standardize_tensors\u001b[0;34m(self, x, y, sample_weight, run_eagerly, dict_inputs, is_dataset, class_weight, batch_size)\u001b[0m\n\u001b[1;32m   2408\u001b[0m           \u001b[0mfeed_input_shapes\u001b[0m\u001b[0;34m,\u001b[0m\u001b[0;34m\u001b[0m\u001b[0;34m\u001b[0m\u001b[0m\n\u001b[1;32m   2409\u001b[0m           \u001b[0mcheck_batch_axis\u001b[0m\u001b[0;34m=\u001b[0m\u001b[0;32mFalse\u001b[0m\u001b[0;34m,\u001b[0m  \u001b[0;31m# Don't enforce the batch size.\u001b[0m\u001b[0;34m\u001b[0m\u001b[0;34m\u001b[0m\u001b[0m\n\u001b[0;32m-> 2410\u001b[0;31m           exception_prefix='input')\n\u001b[0m\u001b[1;32m   2411\u001b[0m \u001b[0;34m\u001b[0m\u001b[0m\n\u001b[1;32m   2412\u001b[0m     \u001b[0;31m# Get typespecs for the input data and sanitize it if necessary.\u001b[0m\u001b[0;34m\u001b[0m\u001b[0;34m\u001b[0m\u001b[0;34m\u001b[0m\u001b[0m\n",
      "\u001b[0;32m~/anaconda3/envs/tensorflow/lib/python3.6/site-packages/tensorflow_core/python/keras/engine/training_utils.py\u001b[0m in \u001b[0;36mstandardize_input_data\u001b[0;34m(data, names, shapes, check_batch_axis, exception_prefix)\u001b[0m\n\u001b[1;32m    580\u001b[0m                              \u001b[0;34m': expected '\u001b[0m \u001b[0;34m+\u001b[0m \u001b[0mnames\u001b[0m\u001b[0;34m[\u001b[0m\u001b[0mi\u001b[0m\u001b[0;34m]\u001b[0m \u001b[0;34m+\u001b[0m \u001b[0;34m' to have shape '\u001b[0m \u001b[0;34m+\u001b[0m\u001b[0;34m\u001b[0m\u001b[0;34m\u001b[0m\u001b[0m\n\u001b[1;32m    581\u001b[0m                              \u001b[0mstr\u001b[0m\u001b[0;34m(\u001b[0m\u001b[0mshape\u001b[0m\u001b[0;34m)\u001b[0m \u001b[0;34m+\u001b[0m \u001b[0;34m' but got array with shape '\u001b[0m \u001b[0;34m+\u001b[0m\u001b[0;34m\u001b[0m\u001b[0;34m\u001b[0m\u001b[0m\n\u001b[0;32m--> 582\u001b[0;31m                              str(data_shape))\n\u001b[0m\u001b[1;32m    583\u001b[0m   \u001b[0;32mreturn\u001b[0m \u001b[0mdata\u001b[0m\u001b[0;34m\u001b[0m\u001b[0;34m\u001b[0m\u001b[0m\n\u001b[1;32m    584\u001b[0m \u001b[0;34m\u001b[0m\u001b[0m\n",
      "\u001b[0;31mValueError\u001b[0m: Error when checking input: expected input_363 to have shape (20,) but got array with shape (1,)"
     ]
    }
   ],
   "source": [
    "model.fit(x_train, y_train, epochs=50, verbose=False) "
   ]
  },
  {
   "cell_type": "code",
   "execution_count": 78,
   "metadata": {},
   "outputs": [
    {
     "name": "stdout",
     "output_type": "stream",
     "text": [
      "36/36 [==============================] - 0s 2ms/sample - loss: 3.1590 - RootMeanSquaredError: 1.7710\n"
     ]
    }
   ],
   "source": [
    " _, rmse = model.evaluate(x_test, y_test)"
   ]
  },
  {
   "cell_type": "code",
   "execution_count": 79,
   "metadata": {},
   "outputs": [],
   "source": [
    "y_hat = forecast(np.append(x_train[-1][1:],np.array(y_train[-1])), model, h, n_steps)\n",
    "y_hat = np.reshape(y_hat,len(y_test))"
   ]
  },
  {
   "cell_type": "code",
   "execution_count": 80,
   "metadata": {},
   "outputs": [
    {
     "data": {
      "text/plain": [
       "4.765650975995383"
      ]
     },
     "execution_count": 80,
     "metadata": {},
     "output_type": "execute_result"
    }
   ],
   "source": [
    "math.sqrt(mean_squared_error(y_test,y_hat))"
   ]
  },
  {
   "cell_type": "code",
   "execution_count": 81,
   "metadata": {},
   "outputs": [
    {
     "data": {
      "text/plain": [
       "<matplotlib.legend.Legend at 0x7fe53e0888d0>"
      ]
     },
     "execution_count": 81,
     "metadata": {},
     "output_type": "execute_result"
    },
    {
     "data": {
      "image/png": "[encoded data removed]",
      "text/plain": [
       "<Figure size 432x288 with 1 Axes>"
      ]
     },
     "metadata": {
      "needs_background": "light"
     },
     "output_type": "display_data"
    }
   ],
   "source": [
    "plt.plot(range(len(y_test)), y_test, label=\"Observations\")\n",
    "plt.plot(range(len(y_test)), y_hat, label=\"Predictions\")\n",
    "plt.legend()"
   ]
  },
  {
   "cell_type": "code",
   "execution_count": null,
   "metadata": {},
   "outputs": [],
   "source": []
  },
  {
   "cell_type": "code",
   "execution_count": null,
   "metadata": {},
   "outputs": [],
   "source": []
  },
  {
   "cell_type": "code",
   "execution_count": 36,
   "metadata": {},
   "outputs": [],
   "source": [
    "data = np.load('data.npy')\n",
    "lat = np.load('lat.npy')\n",
    "lon = np.load('lon.npy')"
   ]
  },
  {
   "cell_type": "code",
   "execution_count": 44,
   "metadata": {},
   "outputs": [],
   "source": [
    "#data[22,8,2:dim(data)[3]]  #cluster==2\n",
    "#x<-data[28,7,3:dim(data)[3]]   #cluster==0\n",
    "x = data[21,7,]"
   ]
  },
  {
   "cell_type": "code",
   "execution_count": 88,
   "metadata": {},
   "outputs": [
    {
     "ename": "NameError",
     "evalue": "name 'epochs' is not defined",
     "output_type": "error",
     "traceback": [
      "\u001b[0;31m---------------------------------------------------------------------------\u001b[0m",
      "\u001b[0;31mNameError\u001b[0m                                 Traceback (most recent call last)",
      "\u001b[0;32m<ipython-input-88-dd367a073459>\u001b[0m in \u001b[0;36m<module>\u001b[0;34m\u001b[0m\n\u001b[0;32m----> 1\u001b[0;31m \u001b[0mmodel\u001b[0m\u001b[0;34m.\u001b[0m\u001b[0mfit\u001b[0m\u001b[0;34m(\u001b[0m\u001b[0mX_train\u001b[0m\u001b[0;34m,\u001b[0m \u001b[0my_train\u001b[0m\u001b[0;34m,\u001b[0m \u001b[0mepochs\u001b[0m\u001b[0;34m=\u001b[0m\u001b[0mepochs\u001b[0m\u001b[0;34m,\u001b[0m \u001b[0mvalidation_split\u001b[0m \u001b[0;34m=\u001b[0m \u001b[0;36m0.2\u001b[0m\u001b[0;34m,\u001b[0m \u001b[0mverbose\u001b[0m\u001b[0;34m=\u001b[0m\u001b[0;36m0\u001b[0m\u001b[0;34m)\u001b[0m\u001b[0;34m\u001b[0m\u001b[0;34m\u001b[0m\u001b[0m\n\u001b[0m",
      "\u001b[0;31mNameError\u001b[0m: name 'epochs' is not defined"
     ]
    }
   ],
   "source": []
  },
  {
   "cell_type": "code",
   "execution_count": 55,
   "metadata": {},
   "outputs": [],
   "source": []
  },
  {
   "cell_type": "code",
   "execution_count": 62,
   "metadata": {},
   "outputs": [
    {
     "data": {
      "text/plain": [
       "array([[0.02, 0.02, 0.01, ..., 0.  , 0.  , 1.73],\n",
       "       [0.02, 0.01, 0.  , ..., 0.  , 1.73, 0.09],\n",
       "       [0.01, 0.  , 0.08, ..., 1.73, 0.09, 0.18],\n",
       "       ...,\n",
       "       [0.02, 0.01, 0.  , ..., 0.  , 0.19, 0.09],\n",
       "       [0.01, 0.  , 0.31, ..., 0.19, 0.09, 0.1 ],\n",
       "       [0.  , 0.31, 0.  , ..., 0.09, 0.1 , 0.  ]], dtype=float32)"
      ]
     },
     "execution_count": 62,
     "metadata": {},
     "output_type": "execute_result"
    }
   ],
   "source": [
    "X_train"
   ]
  },
  {
   "cell_type": "code",
   "execution_count": null,
   "metadata": {},
   "outputs": [],
   "source": []
  },
  {
   "cell_type": "code",
   "execution_count": null,
   "metadata": {},
   "outputs": [],
   "source": []
  },
  {
   "cell_type": "code",
   "execution_count": null,
   "metadata": {},
   "outputs": [],
   "source": []
  },
  {
   "cell_type": "code",
   "execution_count": null,
   "metadata": {},
   "outputs": [],
   "source": []
  },
  {
   "cell_type": "code",
   "execution_count": null,
   "metadata": {},
   "outputs": [],
   "source": []
  },
  {
   "cell_type": "code",
   "execution_count": null,
   "metadata": {},
   "outputs": [],
   "source": []
  },
  {
   "cell_type": "code",
   "execution_count": 38,
   "metadata": {},
   "outputs": [],
   "source": [
    "n=30\n",
    "# Set forecasting window length (in years)\n",
    "m=3\n",
    "# Set start year\n",
    "start = 1948\n",
    "origin = 1980\n",
    "# Set annual sampling rate\n",
    "f = 12\n",
    "h = m*f\n",
    "\n",
    "index = (origin - start) * f +1\n",
    "\n",
    "#x.ts <- x[index:length(x)-1]\n",
    "\n",
    "train_start = index\n",
    "train_end = train_start+n*f-1\n",
    "\n",
    "test_start = train_end + 1\n",
    "test_end = test_start + m*f -1"
   ]
  },
  {
   "cell_type": "code",
   "execution_count": 42,
   "metadata": {},
   "outputs": [
    {
     "data": {
      "text/plain": [
       "385"
      ]
     },
     "execution_count": 42,
     "metadata": {},
     "output_type": "execute_result"
    }
   ],
   "source": [
    "train_start"
   ]
  },
  {
   "cell_type": "code",
   "execution_count": 39,
   "metadata": {},
   "outputs": [],
   "source": [
    "univariate_past_history = n*f\n",
    "univariate_future_target = 1\n",
    "\n",
    "x_train_uni, y_train_uni = univariate_data(x, train_start, test_start,\n",
    "                                           univariate_past_history,\n",
    "                                           univariate_future_target)\n",
    "x_val_uni, y_val_uni = univariate_data(x, test_start, test_end,\n",
    "                                       univariate_past_history,\n",
    "                                       univariate_future_target)"
   ]
  },
  {
   "cell_type": "code",
   "execution_count": 26,
   "metadata": {},
   "outputs": [],
   "source": [
    "def create_time_steps(length):\n",
    "    return list(range(-length, 0))"
   ]
  },
  {
   "cell_type": "code",
   "execution_count": 27,
   "metadata": {},
   "outputs": [],
   "source": [
    "def show_plot(plot_data, delta, title):\n",
    "    labels = ['History', 'True Future', 'Model Prediction']\n",
    "    marker = ['.-', 'rx', 'go']\n",
    "    time_steps = create_time_steps(plot_data[0].shape[0])\n",
    "    if delta:\n",
    "        future = delta\n",
    "    else:\n",
    "        future = 0\n",
    "\n",
    "    plt.title(title)\n",
    "    for i, x in enumerate(plot_data):\n",
    "        if i:\n",
    "            plt.plot(future, plot_data[i], marker[i], markersize=10,\n",
    "                label=labels[i])\n",
    "        else:\n",
    "             plt.plot(time_steps, plot_data[i].flatten(), marker[i], label=labels[i])\n",
    "    plt.legend()\n",
    "    plt.xlim([time_steps[0], (future+5)*2])\n",
    "    plt.xlabel('Time-Step')\n",
    "    return plt\n"
   ]
  },
  {
   "cell_type": "code",
   "execution_count": 28,
   "metadata": {},
   "outputs": [],
   "source": [
    "def baseline(history):\n",
    "    return np.mean(history)"
   ]
  },
  {
   "cell_type": "code",
   "execution_count": 29,
   "metadata": {},
   "outputs": [
    {
     "ename": "IndexError",
     "evalue": "index 0 is out of bounds for axis 0 with size 0",
     "output_type": "error",
     "traceback": [
      "\u001b[0;31m---------------------------------------------------------------------------\u001b[0m",
      "\u001b[0;31mIndexError\u001b[0m                                Traceback (most recent call last)",
      "\u001b[0;32m<ipython-input-29-14ab6e7623b6>\u001b[0m in \u001b[0;36m<module>\u001b[0;34m\u001b[0m\n\u001b[0;32m----> 1\u001b[0;31m \u001b[0mshow_plot\u001b[0m\u001b[0;34m(\u001b[0m\u001b[0;34m[\u001b[0m\u001b[0mx_train_uni\u001b[0m\u001b[0;34m[\u001b[0m\u001b[0;36m0\u001b[0m\u001b[0;34m]\u001b[0m\u001b[0;34m,\u001b[0m \u001b[0my_train_uni\u001b[0m\u001b[0;34m[\u001b[0m\u001b[0;36m0\u001b[0m\u001b[0;34m]\u001b[0m\u001b[0;34m]\u001b[0m\u001b[0;34m,\u001b[0m \u001b[0;36m0\u001b[0m\u001b[0;34m,\u001b[0m \u001b[0;34m'Sample Example'\u001b[0m\u001b[0;34m)\u001b[0m\u001b[0;34m\u001b[0m\u001b[0;34m\u001b[0m\u001b[0m\n\u001b[0m",
      "\u001b[0;31mIndexError\u001b[0m: index 0 is out of bounds for axis 0 with size 0"
     ]
    }
   ],
   "source": [
    "show_plot([x_train_uni[0], y_train_uni[0]], 0, 'Sample Example')\n"
   ]
  },
  {
   "cell_type": "code",
   "execution_count": 40,
   "metadata": {},
   "outputs": [
    {
     "data": {
      "text/plain": [
       "array([], dtype=float64)"
      ]
     },
     "execution_count": 40,
     "metadata": {},
     "output_type": "execute_result"
    }
   ],
   "source": [
    "x_train_uni"
   ]
  },
  {
   "cell_type": "code",
   "execution_count": null,
   "metadata": {},
   "outputs": [],
   "source": []
  }
 ],
 "metadata": {
  "kernelspec": {
   "display_name": "Python 3",
   "language": "python",
   "name": "python3"
  },
  "language_info": {
   "codemirror_mode": {
    "name": "ipython",
    "version": 3
   },
   "file_extension": ".py",
   "mimetype": "text/x-python",
   "name": "python",
   "nbconvert_exporter": "python",
   "pygments_lexer": "ipython3",
   "version": "3.6.9"
  }
 },
 "nbformat": 4,
 "nbformat_minor": 2
}
