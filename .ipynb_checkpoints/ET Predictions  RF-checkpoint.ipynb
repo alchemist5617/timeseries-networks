{
 "cells": [
  {
   "cell_type": "code",
   "execution_count": 2,
   "metadata": {},
   "outputs": [
    {
     "name": "stderr",
     "output_type": "stream",
     "text": [
      "/home/mathsys2/anaconda3/lib/python3.6/site-packages/sklearn/ensemble/weight_boosting.py:29: DeprecationWarning: numpy.core.umath_tests is an internal NumPy module and should not be imported. It will be removed in a future NumPy release.\n",
      "  from numpy.core.umath_tests import inner1d\n"
     ]
    }
   ],
   "source": [
    "import pandas as pd\n",
    "import numpy as np\n",
    "import matplotlib.pyplot as plt\n",
    "import math\n",
    "from sklearn.metrics import mean_squared_error\n",
    "import csv\n",
    "\n",
    "import scipy.stats as stats\n",
    "plt.rcParams[\"figure.figsize\"] = (20,10)\n",
    "from sklearn.ensemble import RandomForestRegressor"
   ]
  },
  {
   "cell_type": "code",
   "execution_count": 3,
   "metadata": {},
   "outputs": [],
   "source": [
    "def univariate_data(dataset, start_index, end_index, history_size, target_size):\n",
    "    data = []\n",
    "    labels = []\n",
    "\n",
    "    start_index = start_index + history_size\n",
    "    if end_index is None:\n",
    "        end_index = len(dataset) - target_size\n",
    "\n",
    "    for i in range(start_index, end_index):\n",
    "        indices = range(i-history_size, i)\n",
    "    # Reshape data from (history_size,) to (history_size, 1)\n",
    "        data.append(np.reshape(dataset[indices], (history_size, 1)))\n",
    "        labels.append(dataset[i+target_size])\n",
    "    return np.array(data), np.array(labels)"
   ]
  },
  {
   "cell_type": "code",
   "execution_count": 4,
   "metadata": {},
   "outputs": [],
   "source": [
    "def split_sequence(sequence, n_steps, h_steps = 0):\n",
    "    X, y = list(), list()\n",
    "    for i in range(len(sequence)):\n",
    "        # find the end of this pattern\n",
    "        end_ix = i + n_steps \n",
    "        # check if we are beyond the sequence\n",
    "        if end_ix + h_steps > len(sequence)-1:\n",
    "            break\n",
    "        # gather input and output parts of the pattern\n",
    "        seq_x, seq_y = sequence[i:end_ix], sequence[end_ix + h_steps]\n",
    "        X.append(seq_x)\n",
    "        y.append(seq_y)\n",
    "    return np.array(X), np.array(y)\n",
    "\n",
    "\n",
    "def train_test_split_ts_2d_raw(X, h):\n",
    "    return(X[:-h],X[-h:])\n",
    "\n",
    "\n",
    "def train_test_split_ts(X, y, test_size=0.2):\n",
    "    r = X.shape[0]\n",
    "    split_index = int((1-test_size)*r)\n",
    "    return(X[:split_index,:],X[split_index:,:],y[:split_index],y[split_index:])\n",
    "\n",
    "def train_test_split_one(X, y, test_size=0.2):\n",
    "    r = X.shape[0]\n",
    "    split_index = int((1-test_size)*r)\n",
    "    return(X[:split_index],X[split_index:],y[:split_index],y[split_index:])\n",
    "\n",
    "def train_test_split_ts_index(X, y, split_index):\n",
    "    r = X.shape[0]\n",
    "    return(X[:split_index,:,:],X[split_index:,:,:],y[:split_index],y[split_index:])\n",
    "\n",
    "def train_test_split_ts_2d(X, y, test_size=0.2):\n",
    "    r = X.shape[0]\n",
    "    split_index = int((1-test_size)*r)\n",
    "    return(X[:split_index,:],X[split_index:,:],y[:split_index],y[split_index:])\n",
    "\n",
    "def train_test_split_ts_2d_index(X, y, split_index):\n",
    "    r = X.shape[0]\n",
    "    return(X[:split_index,:],X[split_index:,:],y[:split_index],y[split_index:])"
   ]
  },
  {
   "cell_type": "code",
   "execution_count": 5,
   "metadata": {},
   "outputs": [],
   "source": [
    "def create_dataset(dataset, window_size = 1):\n",
    "    data_X, data_Y = [], []\n",
    "    for i in range(len(dataset) - window_size - 1):\n",
    "        a = dataset[i:(i + window_size)]\n",
    "        data_X.append(a)\n",
    "        data_Y.append(dataset[i + window_size])\n",
    "    return(np.array(data_X), np.array(data_Y))"
   ]
  },
  {
   "cell_type": "code",
   "execution_count": 6,
   "metadata": {},
   "outputs": [],
   "source": [
    "def forecast(first_item, model, h, n_step):\n",
    "    x = first_item\n",
    "    result = []\n",
    "    #x = np.reshape(x,(1,20))\n",
    "    for i in range(h):\n",
    "        y = model.predict(np.reshape(x,(1,len(x))))\n",
    "        result.append(y)\n",
    "        x = np.append(x[1:],np.array(y))\n",
    "    return(np.array(result))   "
   ]
  },
  {
   "cell_type": "code",
   "execution_count": 7,
   "metadata": {},
   "outputs": [],
   "source": [
    "def forecast_sst(first_item,sst_last, model, h, n_step):\n",
    "    x = first_item\n",
    "    result = []\n",
    "    #x = np.reshape(x,(1,20))\n",
    "    for i in range(h):\n",
    "        x = np.append(x,sst_last[i])\n",
    "        y = model.predict(np.reshape(x,(1,len(x))))\n",
    "        result.append(y)\n",
    "        x = np.append(x[1:-1],np.array(y))\n",
    "    return(np.array(result))"
   ]
  },
  {
   "cell_type": "code",
   "execution_count": 8,
   "metadata": {},
   "outputs": [],
   "source": [
    "def forecast_sst_n(first_item,sst_last, model, h, n_step, n_sst):\n",
    "    x = first_item\n",
    "    result = []\n",
    "    #x = np.reshape(x,(1,20))\n",
    "    for i in range(h):\n",
    "        x = np.append(x,sst_last[i])\n",
    "        y = model.predict(np.reshape(x,(1,len(x))))\n",
    "        result.append(y)\n",
    "        x = np.append(x[1:-n_sst],np.array(y))\n",
    "    return(np.array(result))"
   ]
  },
  {
   "cell_type": "code",
   "execution_count": 9,
   "metadata": {},
   "outputs": [],
   "source": [
    "def build_model(n_steps, n_units, learning_rate, optimizer_name):\n",
    "    model = keras.Sequential()\n",
    "    if len(n_units) == 1:\n",
    "        model.add(layers.Dense(n_units[0], activation=tf.nn.relu, input_dim=n_steps))\n",
    "    else:  \n",
    "        model.add(layers.Dense(n_units[0], activation=tf.nn.relu, input_dim=n_steps))\n",
    "        for i in range(1,len(n_units)):\n",
    "            model.add(layers.Dense(n_units[i], activation=tf.nn.relu))\n",
    "    \n",
    "    model.add(layers.Dense(1))\n",
    "    \n",
    "    if optimizer_name == \"adam\":\n",
    "        optimizer = tf.keras.optimizers.Adam(learning_rate)\n",
    "    else:\n",
    "        optimizer = tf.keras.optimizers.SGD(learning_rate)\n",
    "\n",
    "    model.compile(loss='mean_squared_error', optimizer=optimizer)\n",
    "    return model"
   ]
  },
  {
   "cell_type": "code",
   "execution_count": 10,
   "metadata": {},
   "outputs": [],
   "source": [
    "def cv_hparam_tunning(x, n_steps, num_units, optimizer, learning_rate,\n",
    "                      training_window=15, forecast_window=1, freq=12,epochs=1):\n",
    "\n",
    "    fuzzify(x)\n",
    "    L = len(x)\n",
    "    errors = []\n",
    "    \n",
    "    for i in range(0, L - (training_window+forecast_window)*freq, freq):   \n",
    "\n",
    "        raw_seq = x[i:i+(training_window + forecast_window)*freq]\n",
    "\n",
    "        X, y_test = train_test_split_ts_2d_raw(raw_seq, forecast_window*freq) \n",
    "        X_train, y_train = split_sequence(X, n_steps)\n",
    "\n",
    "        #estimator = KerasRegressor(build_fn=baseline_ model(n_steps), epochs=100, batch_size=5, verbose=0)\n",
    "        model = build_model(n_steps, num_units, learning_rate, optimizer)\n",
    "\n",
    "\n",
    "        #EPOCHS = 100\n",
    "        model.fit(X_train, y_train, epochs=epochs, validation_split = 0.2, verbose=0)\n",
    "\n",
    "        y_hat = forecast(np.append(X_train[-1][1:],np.array(y_train[-1])), model, freq, n_steps)\n",
    "        y_hat = np.reshape(y_hat,len(y_test))\n",
    "        if np.any(np.isnan(y_hat)):\n",
    "            errors.append(np.nan)\n",
    "        else:\n",
    "            errors.append(math.sqrt(mean_squared_error(y_test,y_hat)))\n",
    "\n",
    "        #errors.append(math.sqrt(mean_squared_error(y_test,y_hat)))\n",
    "        \n",
    "    return(np.nanmean(errors))"
   ]
  },
  {
   "cell_type": "code",
   "execution_count": 11,
   "metadata": {},
   "outputs": [],
   "source": [
    "def uni_deseasonalize(ts,freq=12):\n",
    "    ts = np.array(ts)\n",
    "    avgs = np.zeros(freq)\n",
    "    stds = np.zeros(freq)\n",
    "    N = len(ts)\n",
    "    #averages = np.zeros((freq,n))\n",
    "    temp = ts\n",
    "    result = np.zeros((N))\n",
    "    for j in range(freq):\n",
    "        Idx = np.arange(j,N,freq)\n",
    "        avgs[j] = temp[Idx].mean()\n",
    "        stds[j] = temp[Idx].std()\n",
    "        result[Idx] = (temp[Idx] - temp[Idx].mean())#/temp[Idx].std()\n",
    "    return(result, avgs) "
   ]
  },
  {
   "cell_type": "code",
   "execution_count": null,
   "metadata": {},
   "outputs": [],
   "source": []
  },
  {
   "cell_type": "code",
   "execution_count": null,
   "metadata": {},
   "outputs": [],
   "source": []
  },
  {
   "cell_type": "code",
   "execution_count": 114,
   "metadata": {},
   "outputs": [],
   "source": [
    "data = pd.read_csv(\"droughtSST.csv\")\n",
    "data = data.iloc[:,1:]\n",
    "\n",
    "n = 20\n",
    "# Set forecasting window length (in years)\n",
    "m = 1\n",
    "# Set annual sampling rate\n",
    "freq = 12\n",
    "n_steps = 12\n",
    "h = freq*m\n",
    "N = data.shape[0] - (n + m)*freq"
   ]
  },
  {
   "cell_type": "code",
   "execution_count": 115,
   "metadata": {},
   "outputs": [],
   "source": [
    "index = 10"
   ]
  },
  {
   "cell_type": "code",
   "execution_count": 116,
   "metadata": {},
   "outputs": [],
   "source": [
    "raw_seq = data.iloc[index:index+(n+m)*freq,:]\n",
    "X,y = split_sequence(raw_seq.drought.values, n_steps)\n",
    "\n",
    "#No SST\n",
    "x_train, x_test = train_test_split_ts_2d_raw(X, h)\n",
    "y_train, y_test = train_test_split_ts_2d_raw(y, h)"
   ]
  },
  {
   "cell_type": "code",
   "execution_count": 117,
   "metadata": {},
   "outputs": [
    {
     "data": {
      "text/plain": [
       "RandomForestRegressor(bootstrap=True, criterion='mse', max_depth=5,\n",
       "           max_features='auto', max_leaf_nodes=None,\n",
       "           min_impurity_decrease=0.0, min_impurity_split=None,\n",
       "           min_samples_leaf=1, min_samples_split=2,\n",
       "           min_weight_fraction_leaf=0.0, n_estimators=100, n_jobs=1,\n",
       "           oob_score=False, random_state=0, verbose=0, warm_start=False)"
      ]
     },
     "execution_count": 117,
     "metadata": {},
     "output_type": "execute_result"
    }
   ],
   "source": [
    "model = RandomForestRegressor(max_depth=5, random_state=0, n_estimators=100)\n",
    "model.fit(x_train, y_train)"
   ]
  },
  {
   "cell_type": "code",
   "execution_count": 118,
   "metadata": {},
   "outputs": [],
   "source": [
    "y_hat = forecast(np.append(x_train[-1][1:],np.array(y_train[-1])), model, h, n_steps)\n",
    "y_hat = np.reshape(y_hat,len(y_test))"
   ]
  },
  {
   "cell_type": "code",
   "execution_count": 119,
   "metadata": {},
   "outputs": [
    {
     "data": {
      "text/plain": [
       "16.37549424268869"
      ]
     },
     "execution_count": 119,
     "metadata": {},
     "output_type": "execute_result"
    }
   ],
   "source": [
    "y_hat = np.reshape(y_hat,len(y_test))\n",
    "\n",
    "math.sqrt((y_hat[-1] - y_test[-1])**2)"
   ]
  },
  {
   "cell_type": "code",
   "execution_count": 120,
   "metadata": {},
   "outputs": [
    {
     "data": {
      "text/plain": [
       "array([10.11461103, 17.67086373, 26.11963015, 36.77225333, 50.75438513,\n",
       "       61.42157502, 64.13838275, 63.46744201, 59.05976215, 57.7897451 ,\n",
       "       59.89622035, 61.62450576])"
      ]
     },
     "execution_count": 120,
     "metadata": {},
     "output_type": "execute_result"
    }
   ],
   "source": [
    "y_hat"
   ]
  },
  {
   "cell_type": "code",
   "execution_count": 121,
   "metadata": {},
   "outputs": [
    {
     "data": {
      "text/plain": [
       "array([ 2, 17, 18, 38, 49, 26, 34, 54, 60, 61, 76, 78])"
      ]
     },
     "execution_count": 121,
     "metadata": {},
     "output_type": "execute_result"
    }
   ],
   "source": [
    "y_test"
   ]
  },
  {
   "cell_type": "code",
   "execution_count": 106,
   "metadata": {},
   "outputs": [
    {
     "data": {
      "text/plain": [
       "12"
      ]
     },
     "execution_count": 106,
     "metadata": {},
     "output_type": "execute_result"
    }
   ],
   "source": [
    "h"
   ]
  },
  {
   "cell_type": "code",
   "execution_count": 122,
   "metadata": {},
   "outputs": [],
   "source": [
    "raw_seq = data.iloc[index:index+(n+m)*freq,:]\n",
    "X,y = split_sequence(raw_seq.drought.values, n_steps)"
   ]
  },
  {
   "cell_type": "code",
   "execution_count": 123,
   "metadata": {},
   "outputs": [],
   "source": [
    "sst = raw_seq.sst.values[n_steps:]\n",
    "\n",
    "X = np.hstack((X,sst.reshape(-1,1)))\n",
    "x_train, x_test = train_test_split_ts_2d_raw(X, h)\n",
    "y_train, y_test = train_test_split_ts_2d_raw(y, h)"
   ]
  },
  {
   "cell_type": "code",
   "execution_count": 125,
   "metadata": {},
   "outputs": [
    {
     "data": {
      "text/plain": [
       "28.06693673711999"
      ]
     },
     "execution_count": 125,
     "metadata": {},
     "output_type": "execute_result"
    }
   ],
   "source": [
    "model = RandomForestRegressor(max_depth=5, random_state=0, n_estimators=100)\n",
    "model.fit(x_train, y_train)\n",
    "\n",
    "y_hat = forecast(np.append(x_train[-1][1:],np.array(y_train[-1])), model, h, n_steps)\n",
    "y_hat = np.reshape(y_hat,len(y_test))\n",
    "\n",
    "y_hat = np.reshape(y_hat,len(y_test))\n",
    "\n",
    "math.sqrt((y_hat[-1] - y_test[-1])**2)"
   ]
  },
  {
   "cell_type": "code",
   "execution_count": 126,
   "metadata": {},
   "outputs": [
    {
     "data": {
      "text/plain": [
       "array([53.42420697,  8.09963302, 56.62879472, 15.47176228, 60.42970198,\n",
       "       25.76014305, 63.94552065, 38.20761189, 65.0314965 , 44.47923713,\n",
       "       63.3053131 , 49.93306326])"
      ]
     },
     "execution_count": 126,
     "metadata": {},
     "output_type": "execute_result"
    }
   ],
   "source": [
    "y_hat"
   ]
  },
  {
   "cell_type": "code",
   "execution_count": 127,
   "metadata": {},
   "outputs": [
    {
     "data": {
      "text/plain": [
       "array([ 2, 17, 18, 38, 49, 26, 34, 54, 60, 61, 76, 78])"
      ]
     },
     "execution_count": 127,
     "metadata": {},
     "output_type": "execute_result"
    }
   ],
   "source": [
    "y_test"
   ]
  },
  {
   "cell_type": "code",
   "execution_count": null,
   "metadata": {},
   "outputs": [],
   "source": []
  },
  {
   "cell_type": "code",
   "execution_count": 128,
   "metadata": {},
   "outputs": [
    {
     "name": "stdout",
     "output_type": "stream",
     "text": [
      "[35.21780410514521, 38.849822705977274]\n"
     ]
    }
   ],
   "source": [
    "data = pd.read_csv(\"droughtSST.csv\")\n",
    "data = data.iloc[:,1:]\n",
    "\n",
    "n = 30\n",
    "# Set forecasting window length (in years)\n",
    "m = 1\n",
    "# Set annual sampling rate\n",
    "freq = 12\n",
    "n_steps = 12\n",
    "h = freq*m\n",
    "N = data.shape[0] - (n + m)*freq\n",
    "result_list = []\n",
    "result = np.zeros(N)\n",
    "result_witoutSST = np.zeros(N)\n",
    "for index in range(N):\n",
    "\n",
    "\n",
    "    raw_seq = data.iloc[index:index+(n+m)*freq,:]\n",
    "    X,y = split_sequence(raw_seq.drought.values, n_steps)\n",
    "\n",
    "    #No SST\n",
    "    x_train, x_test = train_test_split_ts_2d_raw(X, h)\n",
    "    y_train, y_test = train_test_split_ts_2d_raw(y, h)\n",
    "\n",
    "    model = RandomForestRegressor(max_depth=5, random_state=0, n_estimators=100)\n",
    "    model.fit(x_train, y_train) \n",
    "\n",
    "    y_hat = forecast(np.append(x_train[-1][1:],np.array(y_train[-1])), model, h, n_steps)\n",
    "    y_hat = np.reshape(y_hat,len(y_test))\n",
    "\n",
    "    result_witoutSST[index] = math.sqrt((y_hat[-1] - y_test[-1])**2) \n",
    "\n",
    "    #SST\n",
    "    sst = raw_seq.sst.values[n_steps:]\n",
    "\n",
    "    X = np.hstack((X,sst.reshape(-1,1)))\n",
    "    x_train, x_test = train_test_split_ts_2d_raw(X, h)\n",
    "    y_train, y_test = train_test_split_ts_2d_raw(y, h)\n",
    "\n",
    "    model = RandomForestRegressor(max_depth=5, random_state=0, n_estimators=100)\n",
    "    model.fit(x_train, y_train)\n",
    "\n",
    "    sst_last = sst[-12:]\n",
    "    y_hat = forecast_sst(np.append(x_train[-1][1:-1],np.array(y_train[-1])),sst_last, model, h, n_steps)\n",
    "    y_hat = np.reshape(y_hat,len(y_test))\n",
    "\n",
    "    result[index] = math.sqrt((y_hat[-1] - y_test[-1])**2) \n",
    "\n",
    "fields=[result.mean(), result_witoutSST.mean()]\n",
    "print(fields)\n",
    "with open('ET_resultTempRF.csv', 'a') as f:\n",
    "    writer = csv.writer(f)\n",
    "    writer.writerow(fields)"
   ]
  },
  {
   "cell_type": "code",
   "execution_count": 81,
   "metadata": {},
   "outputs": [],
   "source": [
    "def studentT_test_one(var, h_mean = 0):\n",
    "    n = len(var)\n",
    "    mean = np.mean(var)\n",
    "    std = np.std(var)\n",
    "\n",
    "    t_test = (mean - h_mean) / (std/math.sqrt(n)) \n",
    "    p_value = 1 - stats.t.cdf(t_test, n - 1)\n",
    "    \n",
    "    return(t_test, p_value)"
   ]
  },
  {
   "cell_type": "code",
   "execution_count": 97,
   "metadata": {},
   "outputs": [
    {
     "data": {
      "text/plain": [
       "(0.5675564016301082, 0.28548167744493647)"
      ]
     },
     "execution_count": 97,
     "metadata": {},
     "output_type": "execute_result"
    }
   ],
   "source": [
    "studentT_test_one(result_witoutSST - result)"
   ]
  },
  {
   "cell_type": "code",
   "execution_count": 88,
   "metadata": {},
   "outputs": [
    {
     "data": {
      "text/plain": [
       "(2.833624881572361, 0.0028882561385003003)"
      ]
     },
     "execution_count": 88,
     "metadata": {},
     "output_type": "execute_result"
    }
   ],
   "source": [
    "[35.21780410514521, 38.849822705977274]\n",
    "studentT_test_one(result_witoutSST - result)"
   ]
  },
  {
   "cell_type": "code",
   "execution_count": 86,
   "metadata": {},
   "outputs": [
    {
     "data": {
      "text/plain": [
       "(1.3547115729311658, 0.08959280328789798)"
      ]
     },
     "execution_count": 86,
     "metadata": {},
     "output_type": "execute_result"
    }
   ],
   "source": [
    "studentT_test_one(result_witoutSST - result)"
   ]
  },
  {
   "cell_type": "code",
   "execution_count": 84,
   "metadata": {},
   "outputs": [
    {
     "data": {
      "text/plain": [
       "(1.6048138120711342, 0.056166642526028765)"
      ]
     },
     "execution_count": 84,
     "metadata": {},
     "output_type": "execute_result"
    }
   ],
   "source": [
    "studentT_test_one(result_witoutSST - result)"
   ]
  },
  {
   "cell_type": "code",
   "execution_count": null,
   "metadata": {},
   "outputs": [],
   "source": [
    "[35.21780410514521, 38.849822705977274]"
   ]
  },
  {
   "cell_type": "code",
   "execution_count": 69,
   "metadata": {},
   "outputs": [],
   "source": [
    "data = pd.read_csv(\"droughtSST12.csv\")\n",
    "data = data.iloc[:,1:]\n",
    "\n",
    "n = 20\n",
    "# Set forecasting window length (in years)\n",
    "m = 1\n",
    "# Set annual sampling rate\n",
    "f = 12\n",
    "n_steps = 12\n",
    "h = f*m\n",
    "N = data.shape[0] - (n + m)*f\n",
    "result = np.zeros(N)\n",
    "index = 0"
   ]
  },
  {
   "cell_type": "code",
   "execution_count": 70,
   "metadata": {},
   "outputs": [],
   "source": [
    "raw_seq = data.iloc[index:index+(n+m)*f,:]\n",
    "X,y = split_sequence(raw_seq.drought.values, n_steps)\n",
    "sst = raw_seq.iloc[n_steps:,1:].values"
   ]
  },
  {
   "cell_type": "code",
   "execution_count": 71,
   "metadata": {},
   "outputs": [],
   "source": [
    "X = np.hstack((X,sst))\n",
    "x_train, x_test = train_test_split_ts_2d_raw(X, h)\n",
    "y_train, y_test = train_test_split_ts_2d_raw(y, h)"
   ]
  },
  {
   "cell_type": "code",
   "execution_count": 72,
   "metadata": {},
   "outputs": [],
   "source": [
    "n_sst = sst.shape[1]"
   ]
  },
  {
   "cell_type": "code",
   "execution_count": 73,
   "metadata": {},
   "outputs": [],
   "source": [
    "model = tf.keras.Sequential([\n",
    "tf.keras.layers.InputLayer(input_shape = x_train.shape[1]),\n",
    "layers.Dense(8, kernel_regularizer=tf.keras.regularizers.l2(0.001), activation=tf.nn.relu),\n",
    "layers.Dropout(0.1),\n",
    "layers.Dense(8, kernel_regularizer=tf.keras.regularizers.l2(0.001), activation=tf.nn.relu),\n",
    "layers.Dense(1)\n",
    "])\n",
    "\n",
    "\n",
    "model.compile(optimizer=\"RMSprop\",\n",
    "            loss='mean_squared_error',\n",
    "            metrics=['RootMeanSquaredError'])\n",
    "\n",
    "model.fit(x_train, y_train, epochs=100, verbose=False) \n",
    "\n",
    "sst_last = sst[-f*m:,:]"
   ]
  },
  {
   "cell_type": "code",
   "execution_count": 75,
   "metadata": {},
   "outputs": [],
   "source": [
    "y_hat = forecast_sst_n(np.append(x_train[-1][1:-n_sst],np.array(y_train[-1])),sst_last, model, h, n_steps, n_sst)\n",
    "y_hat = np.reshape(y_hat,len(y_test))"
   ]
  },
  {
   "cell_type": "code",
   "execution_count": 29,
   "metadata": {},
   "outputs": [
    {
     "data": {
      "text/plain": [
       "14.93119225740786"
      ]
     },
     "execution_count": 29,
     "metadata": {},
     "output_type": "execute_result"
    }
   ],
   "source": []
  },
  {
   "cell_type": "code",
   "execution_count": null,
   "metadata": {},
   "outputs": [],
   "source": []
  },
  {
   "cell_type": "code",
   "execution_count": null,
   "metadata": {},
   "outputs": [],
   "source": []
  },
  {
   "cell_type": "code",
   "execution_count": null,
   "metadata": {},
   "outputs": [],
   "source": []
  },
  {
   "cell_type": "code",
   "execution_count": null,
   "metadata": {},
   "outputs": [],
   "source": []
  },
  {
   "cell_type": "code",
   "execution_count": null,
   "metadata": {},
   "outputs": [],
   "source": []
  },
  {
   "cell_type": "code",
   "execution_count": null,
   "metadata": {},
   "outputs": [],
   "source": []
  },
  {
   "cell_type": "code",
   "execution_count": null,
   "metadata": {},
   "outputs": [],
   "source": []
  },
  {
   "cell_type": "code",
   "execution_count": null,
   "metadata": {},
   "outputs": [],
   "source": []
  },
  {
   "cell_type": "markdown",
   "metadata": {},
   "source": [
    "# 12 Months"
   ]
  },
  {
   "cell_type": "code",
   "execution_count": 14,
   "metadata": {},
   "outputs": [
    {
     "ename": "NameError",
     "evalue": "name 'n_sst' is not defined",
     "output_type": "error",
     "traceback": [
      "\u001b[0;31m---------------------------------------------------------------------------\u001b[0m",
      "\u001b[0;31mNameError\u001b[0m                                 Traceback (most recent call last)",
      "\u001b[0;32m<ipython-input-14-7863702a81a2>\u001b[0m in \u001b[0;36m<module>\u001b[0;34m\u001b[0m\n\u001b[1;32m     39\u001b[0m \u001b[0;34m\u001b[0m\u001b[0m\n\u001b[1;32m     40\u001b[0m     \u001b[0msst_last\u001b[0m \u001b[0;34m=\u001b[0m \u001b[0msst\u001b[0m\u001b[0;34m[\u001b[0m\u001b[0;34m-\u001b[0m\u001b[0mf\u001b[0m \u001b[0;34m*\u001b[0m \u001b[0mm\u001b[0m\u001b[0;34m:\u001b[0m\u001b[0;34m,\u001b[0m\u001b[0;34m:\u001b[0m\u001b[0;34m]\u001b[0m\u001b[0;34m\u001b[0m\u001b[0;34m\u001b[0m\u001b[0m\n\u001b[0;32m---> 41\u001b[0;31m     \u001b[0my_hat\u001b[0m \u001b[0;34m=\u001b[0m \u001b[0mforecast_sst_n\u001b[0m\u001b[0;34m(\u001b[0m\u001b[0mnp\u001b[0m\u001b[0;34m.\u001b[0m\u001b[0mappend\u001b[0m\u001b[0;34m(\u001b[0m\u001b[0mx_train\u001b[0m\u001b[0;34m[\u001b[0m\u001b[0;34m-\u001b[0m\u001b[0;36m1\u001b[0m\u001b[0;34m]\u001b[0m\u001b[0;34m[\u001b[0m\u001b[0;36m1\u001b[0m\u001b[0;34m:\u001b[0m\u001b[0;34m-\u001b[0m\u001b[0mn_sst\u001b[0m\u001b[0;34m]\u001b[0m\u001b[0;34m,\u001b[0m\u001b[0mnp\u001b[0m\u001b[0;34m.\u001b[0m\u001b[0marray\u001b[0m\u001b[0;34m(\u001b[0m\u001b[0my_train\u001b[0m\u001b[0;34m[\u001b[0m\u001b[0;34m-\u001b[0m\u001b[0;36m1\u001b[0m\u001b[0;34m]\u001b[0m\u001b[0;34m)\u001b[0m\u001b[0;34m)\u001b[0m\u001b[0;34m,\u001b[0m\u001b[0msst_last\u001b[0m\u001b[0;34m,\u001b[0m \u001b[0mmodel\u001b[0m\u001b[0;34m,\u001b[0m \u001b[0mh\u001b[0m\u001b[0;34m,\u001b[0m \u001b[0mn_steps\u001b[0m\u001b[0;34m,\u001b[0m \u001b[0mn_sst\u001b[0m\u001b[0;34m)\u001b[0m\u001b[0;34m\u001b[0m\u001b[0;34m\u001b[0m\u001b[0m\n\u001b[0m\u001b[1;32m     42\u001b[0m     \u001b[0my_hat\u001b[0m \u001b[0;34m=\u001b[0m \u001b[0mnp\u001b[0m\u001b[0;34m.\u001b[0m\u001b[0mreshape\u001b[0m\u001b[0;34m(\u001b[0m\u001b[0my_hat\u001b[0m\u001b[0;34m,\u001b[0m\u001b[0mlen\u001b[0m\u001b[0;34m(\u001b[0m\u001b[0my_test\u001b[0m\u001b[0;34m)\u001b[0m\u001b[0;34m)\u001b[0m\u001b[0;34m\u001b[0m\u001b[0;34m\u001b[0m\u001b[0m\n\u001b[1;32m     43\u001b[0m \u001b[0;34m\u001b[0m\u001b[0m\n",
      "\u001b[0;31mNameError\u001b[0m: name 'n_sst' is not defined"
     ]
    }
   ],
   "source": [
    "data = pd.read_csv(\"droughtSST12.csv\")\n",
    "data = data.iloc[:,1:]\n",
    "\n",
    "n = 20\n",
    "# Set forecasting window length (in years)\n",
    "m = 1\n",
    "# Set annual sampling rate\n",
    "f = 12\n",
    "n_steps = 12\n",
    "h = f*m\n",
    "N = data.shape[0] - (n + m)*f\n",
    "result = np.zeros(N)\n",
    "\n",
    "\n",
    "for index in range(N):\n",
    "\n",
    "    raw_seq = data.iloc[index:index+(n+m)*f,:]\n",
    "    X,y = split_sequence(raw_seq.drought.values, n_steps)\n",
    "    sst = raw_seq.iloc[n_steps:,1:].values\n",
    "    \n",
    "    X = np.hstack((X,sst))\n",
    "    x_train, x_test = train_test_split_ts_2d_raw(X, h)\n",
    "    y_train, y_test = train_test_split_ts_2d_raw(y, h)\n",
    "    \n",
    "    model = tf.keras.Sequential([\n",
    "    tf.keras.layers.InputLayer(input_shape = x_train.shape[1]),\n",
    "    layers.Dense(16, kernel_regularizer=tf.keras.regularizers.l2(0.001), activation=tf.nn.relu),\n",
    "    layers.Dropout(0.1),\n",
    "    layers.Dense(16, kernel_regularizer=tf.keras.regularizers.l2(0.001), activation=tf.nn.relu),\n",
    "    layers.Dense(1)\n",
    "    ])\n",
    "\n",
    "\n",
    "    model.compile(optimizer=\"adam\",\n",
    "                loss='mean_squared_error',\n",
    "                metrics=['RootMeanSquaredError'])\n",
    "    \n",
    "    model.fit(x_train, y_train, epochs=100, verbose=False) \n",
    "\n",
    "    sst_last = sst[-f * m:,:]\n",
    "    y_hat = forecast_sst_n(np.append(x_train[-1][1:-n_sst],np.array(y_train[-1])),sst_last, model, h, n_steps, n_sst)\n",
    "    y_hat = np.reshape(y_hat,len(y_test))\n",
    "    \n",
    "    result[index] = math.sqrt((y_hat[-1] - y_test[-1])**2) "
   ]
  },
  {
   "cell_type": "code",
   "execution_count": 79,
   "metadata": {},
   "outputs": [
    {
     "data": {
      "text/plain": [
       "35.423366891110646"
      ]
     },
     "execution_count": 79,
     "metadata": {},
     "output_type": "execute_result"
    }
   ],
   "source": [
    "result.mean()"
   ]
  },
  {
   "cell_type": "code",
   "execution_count": null,
   "metadata": {},
   "outputs": [],
   "source": []
  },
  {
   "cell_type": "code",
   "execution_count": 221,
   "metadata": {},
   "outputs": [],
   "source": [
    "\n"
   ]
  },
  {
   "cell_type": "code",
   "execution_count": 226,
   "metadata": {},
   "outputs": [
    {
     "data": {
      "text/plain": [
       "[<matplotlib.lines.Line2D at 0x7f45bae90a90>,\n",
       " <matplotlib.lines.Line2D at 0x7f45bae90d30>]"
      ]
     },
     "execution_count": 226,
     "metadata": {},
     "output_type": "execute_result"
    },
    {
     "data": {
      "image/png": "[encoded data removed]",
      "text/plain": [
       "<Figure size 1440x720 with 1 Axes>"
      ]
     },
     "metadata": {
      "needs_background": "light"
     },
     "output_type": "display_data"
    }
   ],
   "source": [
    "plt.plot(range(len(pred)), pred.reshape((1,-1))[0], y_test)"
   ]
  },
  {
   "cell_type": "code",
   "execution_count": 233,
   "metadata": {},
   "outputs": [],
   "source": [
    "data = pd.read_csv(\"droughtSST.csv\")\n",
    "data = data.iloc[:,1:]\n",
    "\n",
    "n = 20\n",
    "# Set forecasting window length (in years)\n",
    "m = 1\n",
    "# Set annual sampling rate\n",
    "f = 12\n",
    "n_steps = 12\n",
    "h_steps = 11\n",
    "N = data.shape[0] - (n + m)*f\n",
    "result = []\n",
    "h = m * f\n",
    "for index in range(N):\n",
    "\n",
    "    raw_seq = data.iloc[index:index+(n+m)*f,:]\n",
    "    X,y = split_sequence(raw_seq.drought.values, n_steps, h_steps)\n",
    "    sst = raw_seq.sst.values[n_steps:-h_steps]\n",
    "\n",
    "    X = np.hstack((X,sst.reshape(-1,1)))\n",
    "    x_train, x_test = train_test_split_ts_2d_raw(X, h)\n",
    "    y_train, y_test = train_test_split_ts_2d_raw(y, h)\n",
    "\n",
    "    model = tf.keras.Sequential([\n",
    "    tf.keras.layers.InputLayer(input_shape = x_train.shape[1]),\n",
    "    layers.Dense(8, kernel_regularizer=tf.keras.regularizers.l2(0.01), activation=tf.nn.relu),\n",
    "    layers.Dropout(0.1),\n",
    "    layers.Dense(8, kernel_regularizer=tf.keras.regularizers.l2(0.01), activation=tf.nn.relu),\n",
    "    layers.Dense(1)\n",
    "    ])\n",
    "\n",
    "\n",
    "    model.compile(optimizer=\"RMSprop\",\n",
    "                loss='mean_squared_error',\n",
    "                 metrics=['RootMeanSquaredError'])\n",
    "    \n",
    "    model.fit(x_train, y_train, epochs=100, verbose=False) \n",
    "\n",
    "    y_hat = model.predict(x_test)\n",
    "    \n",
    "    y_hat = y_hat.reshape((1,-1))[0]\n",
    "\n",
    "    result.append(math.sqrt(((y_hat - y_test)**2).mean()))"
   ]
  },
  {
   "cell_type": "code",
   "execution_count": 237,
   "metadata": {},
   "outputs": [
    {
     "data": {
      "text/plain": [
       "37.703552395700115"
      ]
     },
     "execution_count": 237,
     "metadata": {},
     "output_type": "execute_result"
    }
   ],
   "source": [
    "np.mean(result)"
   ]
  },
  {
   "cell_type": "code",
   "execution_count": 239,
   "metadata": {},
   "outputs": [
    {
     "data": {
      "text/plain": [
       "[<matplotlib.lines.Line2D at 0x7f456cd2e470>,\n",
       " <matplotlib.lines.Line2D at 0x7f456cd2e5c0>]"
      ]
     },
     "execution_count": 239,
     "metadata": {},
     "output_type": "execute_result"
    },
    {
     "data": {
      "image/png": "[encoded data removed]",
      "text/plain": [
       "<Figure size 1440x720 with 1 Axes>"
      ]
     },
     "metadata": {
      "needs_background": "light"
     },
     "output_type": "display_data"
    }
   ],
   "source": [
    "plt.plot(range(len(y_hat)), y_hat.reshape((1,-1))[0], y_test)"
   ]
  },
  {
   "cell_type": "markdown",
   "metadata": {},
   "source": [
    "# 12 Mixed"
   ]
  },
  {
   "cell_type": "code",
   "execution_count": 130,
   "metadata": {},
   "outputs": [
    {
     "ename": "KeyboardInterrupt",
     "evalue": "",
     "output_type": "error",
     "traceback": [
      "\u001b[0;31m---------------------------------------------------------------------------\u001b[0m",
      "\u001b[0;31mKeyboardInterrupt\u001b[0m                         Traceback (most recent call last)",
      "\u001b[0;32m<ipython-input-130-3e6e618b8cc4>\u001b[0m in \u001b[0;36m<module>\u001b[0;34m\u001b[0m\n\u001b[1;32m     29\u001b[0m     \u001b[0mlayers\u001b[0m\u001b[0;34m.\u001b[0m\u001b[0mDropout\u001b[0m\u001b[0;34m(\u001b[0m\u001b[0;36m0.1\u001b[0m\u001b[0;34m)\u001b[0m\u001b[0;34m,\u001b[0m\u001b[0;34m\u001b[0m\u001b[0;34m\u001b[0m\u001b[0m\n\u001b[1;32m     30\u001b[0m     \u001b[0mlayers\u001b[0m\u001b[0;34m.\u001b[0m\u001b[0mDense\u001b[0m\u001b[0;34m(\u001b[0m\u001b[0;36m8\u001b[0m\u001b[0;34m,\u001b[0m \u001b[0mkernel_regularizer\u001b[0m\u001b[0;34m=\u001b[0m\u001b[0mtf\u001b[0m\u001b[0;34m.\u001b[0m\u001b[0mkeras\u001b[0m\u001b[0;34m.\u001b[0m\u001b[0mregularizers\u001b[0m\u001b[0;34m.\u001b[0m\u001b[0ml2\u001b[0m\u001b[0;34m(\u001b[0m\u001b[0;36m0.01\u001b[0m\u001b[0;34m)\u001b[0m\u001b[0;34m,\u001b[0m \u001b[0mactivation\u001b[0m\u001b[0;34m=\u001b[0m\u001b[0mtf\u001b[0m\u001b[0;34m.\u001b[0m\u001b[0mnn\u001b[0m\u001b[0;34m.\u001b[0m\u001b[0mrelu\u001b[0m\u001b[0;34m)\u001b[0m\u001b[0;34m,\u001b[0m\u001b[0;34m\u001b[0m\u001b[0;34m\u001b[0m\u001b[0m\n\u001b[0;32m---> 31\u001b[0;31m     \u001b[0mlayers\u001b[0m\u001b[0;34m.\u001b[0m\u001b[0mDense\u001b[0m\u001b[0;34m(\u001b[0m\u001b[0;36m1\u001b[0m\u001b[0;34m)\u001b[0m\u001b[0;34m\u001b[0m\u001b[0;34m\u001b[0m\u001b[0m\n\u001b[0m\u001b[1;32m     32\u001b[0m     ])\n\u001b[1;32m     33\u001b[0m \u001b[0;34m\u001b[0m\u001b[0m\n",
      "\u001b[0;32m~/anaconda3/envs/tensorflow/lib/python3.6/site-packages/tensorflow_core/python/training/tracking/base.py\u001b[0m in \u001b[0;36m_method_wrapper\u001b[0;34m(self, *args, **kwargs)\u001b[0m\n\u001b[1;32m    455\u001b[0m     \u001b[0mself\u001b[0m\u001b[0;34m.\u001b[0m\u001b[0m_self_setattr_tracking\u001b[0m \u001b[0;34m=\u001b[0m \u001b[0;32mFalse\u001b[0m  \u001b[0;31m# pylint: disable=protected-access\u001b[0m\u001b[0;34m\u001b[0m\u001b[0;34m\u001b[0m\u001b[0m\n\u001b[1;32m    456\u001b[0m     \u001b[0;32mtry\u001b[0m\u001b[0;34m:\u001b[0m\u001b[0;34m\u001b[0m\u001b[0;34m\u001b[0m\u001b[0m\n\u001b[0;32m--> 457\u001b[0;31m       \u001b[0mresult\u001b[0m \u001b[0;34m=\u001b[0m \u001b[0mmethod\u001b[0m\u001b[0;34m(\u001b[0m\u001b[0mself\u001b[0m\u001b[0;34m,\u001b[0m \u001b[0;34m*\u001b[0m\u001b[0margs\u001b[0m\u001b[0;34m,\u001b[0m \u001b[0;34m**\u001b[0m\u001b[0mkwargs\u001b[0m\u001b[0;34m)\u001b[0m\u001b[0;34m\u001b[0m\u001b[0;34m\u001b[0m\u001b[0m\n\u001b[0m\u001b[1;32m    458\u001b[0m     \u001b[0;32mfinally\u001b[0m\u001b[0;34m:\u001b[0m\u001b[0;34m\u001b[0m\u001b[0;34m\u001b[0m\u001b[0m\n\u001b[1;32m    459\u001b[0m       \u001b[0mself\u001b[0m\u001b[0;34m.\u001b[0m\u001b[0m_self_setattr_tracking\u001b[0m \u001b[0;34m=\u001b[0m \u001b[0mprevious_value\u001b[0m  \u001b[0;31m# pylint: disable=protected-access\u001b[0m\u001b[0;34m\u001b[0m\u001b[0;34m\u001b[0m\u001b[0m\n",
      "\u001b[0;32m~/anaconda3/envs/tensorflow/lib/python3.6/site-packages/tensorflow_core/python/keras/engine/sequential.py\u001b[0m in \u001b[0;36m__init__\u001b[0;34m(self, layers, name)\u001b[0m\n\u001b[1;32m    114\u001b[0m       \u001b[0mtf_utils\u001b[0m\u001b[0;34m.\u001b[0m\u001b[0massert_no_legacy_layers\u001b[0m\u001b[0;34m(\u001b[0m\u001b[0mlayers\u001b[0m\u001b[0;34m)\u001b[0m\u001b[0;34m\u001b[0m\u001b[0;34m\u001b[0m\u001b[0m\n\u001b[1;32m    115\u001b[0m       \u001b[0;32mfor\u001b[0m \u001b[0mlayer\u001b[0m \u001b[0;32min\u001b[0m \u001b[0mlayers\u001b[0m\u001b[0;34m:\u001b[0m\u001b[0;34m\u001b[0m\u001b[0;34m\u001b[0m\u001b[0m\n\u001b[0;32m--> 116\u001b[0;31m         \u001b[0mself\u001b[0m\u001b[0;34m.\u001b[0m\u001b[0madd\u001b[0m\u001b[0;34m(\u001b[0m\u001b[0mlayer\u001b[0m\u001b[0;34m)\u001b[0m\u001b[0;34m\u001b[0m\u001b[0;34m\u001b[0m\u001b[0m\n\u001b[0m\u001b[1;32m    117\u001b[0m \u001b[0;34m\u001b[0m\u001b[0m\n\u001b[1;32m    118\u001b[0m   \u001b[0;34m@\u001b[0m\u001b[0mproperty\u001b[0m\u001b[0;34m\u001b[0m\u001b[0;34m\u001b[0m\u001b[0m\n",
      "\u001b[0;32m~/anaconda3/envs/tensorflow/lib/python3.6/site-packages/tensorflow_core/python/training/tracking/base.py\u001b[0m in \u001b[0;36m_method_wrapper\u001b[0;34m(self, *args, **kwargs)\u001b[0m\n\u001b[1;32m    455\u001b[0m     \u001b[0mself\u001b[0m\u001b[0;34m.\u001b[0m\u001b[0m_self_setattr_tracking\u001b[0m \u001b[0;34m=\u001b[0m \u001b[0;32mFalse\u001b[0m  \u001b[0;31m# pylint: disable=protected-access\u001b[0m\u001b[0;34m\u001b[0m\u001b[0;34m\u001b[0m\u001b[0m\n\u001b[1;32m    456\u001b[0m     \u001b[0;32mtry\u001b[0m\u001b[0;34m:\u001b[0m\u001b[0;34m\u001b[0m\u001b[0;34m\u001b[0m\u001b[0m\n\u001b[0;32m--> 457\u001b[0;31m       \u001b[0mresult\u001b[0m \u001b[0;34m=\u001b[0m \u001b[0mmethod\u001b[0m\u001b[0;34m(\u001b[0m\u001b[0mself\u001b[0m\u001b[0;34m,\u001b[0m \u001b[0;34m*\u001b[0m\u001b[0margs\u001b[0m\u001b[0;34m,\u001b[0m \u001b[0;34m**\u001b[0m\u001b[0mkwargs\u001b[0m\u001b[0;34m)\u001b[0m\u001b[0;34m\u001b[0m\u001b[0;34m\u001b[0m\u001b[0m\n\u001b[0m\u001b[1;32m    458\u001b[0m     \u001b[0;32mfinally\u001b[0m\u001b[0;34m:\u001b[0m\u001b[0;34m\u001b[0m\u001b[0;34m\u001b[0m\u001b[0m\n\u001b[1;32m    459\u001b[0m       \u001b[0mself\u001b[0m\u001b[0;34m.\u001b[0m\u001b[0m_self_setattr_tracking\u001b[0m \u001b[0;34m=\u001b[0m \u001b[0mprevious_value\u001b[0m  \u001b[0;31m# pylint: disable=protected-access\u001b[0m\u001b[0;34m\u001b[0m\u001b[0;34m\u001b[0m\u001b[0m\n",
      "\u001b[0;32m~/anaconda3/envs/tensorflow/lib/python3.6/site-packages/tensorflow_core/python/keras/engine/sequential.py\u001b[0m in \u001b[0;36madd\u001b[0;34m(self, layer)\u001b[0m\n\u001b[1;32m    201\u001b[0m       \u001b[0;31m# If the model is being built continuously on top of an input layer:\u001b[0m\u001b[0;34m\u001b[0m\u001b[0;34m\u001b[0m\u001b[0;34m\u001b[0m\u001b[0m\n\u001b[1;32m    202\u001b[0m       \u001b[0;31m# refresh its output.\u001b[0m\u001b[0;34m\u001b[0m\u001b[0;34m\u001b[0m\u001b[0;34m\u001b[0m\u001b[0m\n\u001b[0;32m--> 203\u001b[0;31m       \u001b[0moutput_tensor\u001b[0m \u001b[0;34m=\u001b[0m \u001b[0mlayer\u001b[0m\u001b[0;34m(\u001b[0m\u001b[0mself\u001b[0m\u001b[0;34m.\u001b[0m\u001b[0moutputs\u001b[0m\u001b[0;34m[\u001b[0m\u001b[0;36m0\u001b[0m\u001b[0;34m]\u001b[0m\u001b[0;34m)\u001b[0m\u001b[0;34m\u001b[0m\u001b[0;34m\u001b[0m\u001b[0m\n\u001b[0m\u001b[1;32m    204\u001b[0m       \u001b[0;32mif\u001b[0m \u001b[0mlen\u001b[0m\u001b[0;34m(\u001b[0m\u001b[0mnest\u001b[0m\u001b[0;34m.\u001b[0m\u001b[0mflatten\u001b[0m\u001b[0;34m(\u001b[0m\u001b[0moutput_tensor\u001b[0m\u001b[0;34m)\u001b[0m\u001b[0;34m)\u001b[0m \u001b[0;34m!=\u001b[0m \u001b[0;36m1\u001b[0m\u001b[0;34m:\u001b[0m\u001b[0;34m\u001b[0m\u001b[0;34m\u001b[0m\u001b[0m\n\u001b[1;32m    205\u001b[0m         raise TypeError('All layers in a Sequential model '\n",
      "\u001b[0;32m~/anaconda3/envs/tensorflow/lib/python3.6/site-packages/tensorflow_core/python/keras/engine/base_layer.py\u001b[0m in \u001b[0;36m__call__\u001b[0;34m(self, inputs, *args, **kwargs)\u001b[0m\n\u001b[1;32m    771\u001b[0m                     not base_layer_utils.is_in_eager_or_tf_function()):\n\u001b[1;32m    772\u001b[0m                   \u001b[0;32mwith\u001b[0m \u001b[0mauto_control_deps\u001b[0m\u001b[0;34m.\u001b[0m\u001b[0mAutomaticControlDependencies\u001b[0m\u001b[0;34m(\u001b[0m\u001b[0;34m)\u001b[0m \u001b[0;32mas\u001b[0m \u001b[0macd\u001b[0m\u001b[0;34m:\u001b[0m\u001b[0;34m\u001b[0m\u001b[0;34m\u001b[0m\u001b[0m\n\u001b[0;32m--> 773\u001b[0;31m                     \u001b[0moutputs\u001b[0m \u001b[0;34m=\u001b[0m \u001b[0mcall_fn\u001b[0m\u001b[0;34m(\u001b[0m\u001b[0mcast_inputs\u001b[0m\u001b[0;34m,\u001b[0m \u001b[0;34m*\u001b[0m\u001b[0margs\u001b[0m\u001b[0;34m,\u001b[0m \u001b[0;34m**\u001b[0m\u001b[0mkwargs\u001b[0m\u001b[0;34m)\u001b[0m\u001b[0;34m\u001b[0m\u001b[0;34m\u001b[0m\u001b[0m\n\u001b[0m\u001b[1;32m    774\u001b[0m                     \u001b[0;31m# Wrap Tensors in `outputs` in `tf.identity` to avoid\u001b[0m\u001b[0;34m\u001b[0m\u001b[0;34m\u001b[0m\u001b[0;34m\u001b[0m\u001b[0m\n\u001b[1;32m    775\u001b[0m                     \u001b[0;31m# circular dependencies.\u001b[0m\u001b[0;34m\u001b[0m\u001b[0;34m\u001b[0m\u001b[0;34m\u001b[0m\u001b[0m\n",
      "\u001b[0;32m~/anaconda3/envs/tensorflow/lib/python3.6/site-packages/tensorflow_core/python/keras/layers/core.py\u001b[0m in \u001b[0;36mcall\u001b[0;34m(self, inputs, training)\u001b[0m\n\u001b[1;32m    181\u001b[0m     output = tf_utils.smart_cond(training,\n\u001b[1;32m    182\u001b[0m                                  \u001b[0mdropped_inputs\u001b[0m\u001b[0;34m,\u001b[0m\u001b[0;34m\u001b[0m\u001b[0;34m\u001b[0m\u001b[0m\n\u001b[0;32m--> 183\u001b[0;31m                                  lambda: array_ops.identity(inputs))\n\u001b[0m\u001b[1;32m    184\u001b[0m     \u001b[0;32mreturn\u001b[0m \u001b[0moutput\u001b[0m\u001b[0;34m\u001b[0m\u001b[0;34m\u001b[0m\u001b[0m\n\u001b[1;32m    185\u001b[0m \u001b[0;34m\u001b[0m\u001b[0m\n",
      "\u001b[0;32m~/anaconda3/envs/tensorflow/lib/python3.6/site-packages/tensorflow_core/python/keras/utils/tf_utils.py\u001b[0m in \u001b[0;36msmart_cond\u001b[0;34m(pred, true_fn, false_fn, name)\u001b[0m\n\u001b[1;32m     57\u001b[0m         pred, true_fn=true_fn, false_fn=false_fn, name=name)\n\u001b[1;32m     58\u001b[0m   return smart_module.smart_cond(\n\u001b[0;32m---> 59\u001b[0;31m       pred, true_fn=true_fn, false_fn=false_fn, name=name)\n\u001b[0m\u001b[1;32m     60\u001b[0m \u001b[0;34m\u001b[0m\u001b[0m\n\u001b[1;32m     61\u001b[0m \u001b[0;34m\u001b[0m\u001b[0m\n",
      "\u001b[0;32m~/anaconda3/envs/tensorflow/lib/python3.6/site-packages/tensorflow_core/python/framework/smart_cond.py\u001b[0m in \u001b[0;36msmart_cond\u001b[0;34m(pred, true_fn, false_fn, name)\u001b[0m\n\u001b[1;32m     57\u001b[0m   \u001b[0;32melse\u001b[0m\u001b[0;34m:\u001b[0m\u001b[0;34m\u001b[0m\u001b[0;34m\u001b[0m\u001b[0m\n\u001b[1;32m     58\u001b[0m     return control_flow_ops.cond(pred, true_fn=true_fn, false_fn=false_fn,\n\u001b[0;32m---> 59\u001b[0;31m                                  name=name)\n\u001b[0m\u001b[1;32m     60\u001b[0m \u001b[0;34m\u001b[0m\u001b[0m\n\u001b[1;32m     61\u001b[0m \u001b[0;34m\u001b[0m\u001b[0m\n",
      "\u001b[0;32m~/anaconda3/envs/tensorflow/lib/python3.6/site-packages/tensorflow_core/python/util/deprecation.py\u001b[0m in \u001b[0;36mnew_func\u001b[0;34m(*args, **kwargs)\u001b[0m\n\u001b[1;32m    505\u001b[0m                 \u001b[0;34m'in a future version'\u001b[0m \u001b[0;32mif\u001b[0m \u001b[0mdate\u001b[0m \u001b[0;32mis\u001b[0m \u001b[0;32mNone\u001b[0m \u001b[0;32melse\u001b[0m \u001b[0;34m(\u001b[0m\u001b[0;34m'after %s'\u001b[0m \u001b[0;34m%\u001b[0m \u001b[0mdate\u001b[0m\u001b[0;34m)\u001b[0m\u001b[0;34m,\u001b[0m\u001b[0;34m\u001b[0m\u001b[0;34m\u001b[0m\u001b[0m\n\u001b[1;32m    506\u001b[0m                 instructions)\n\u001b[0;32m--> 507\u001b[0;31m       \u001b[0;32mreturn\u001b[0m \u001b[0mfunc\u001b[0m\u001b[0;34m(\u001b[0m\u001b[0;34m*\u001b[0m\u001b[0margs\u001b[0m\u001b[0;34m,\u001b[0m \u001b[0;34m**\u001b[0m\u001b[0mkwargs\u001b[0m\u001b[0;34m)\u001b[0m\u001b[0;34m\u001b[0m\u001b[0;34m\u001b[0m\u001b[0m\n\u001b[0m\u001b[1;32m    508\u001b[0m \u001b[0;34m\u001b[0m\u001b[0m\n\u001b[1;32m    509\u001b[0m     doc = _add_deprecated_arg_notice_to_docstring(\n",
      "\u001b[0;32m~/anaconda3/envs/tensorflow/lib/python3.6/site-packages/tensorflow_core/python/ops/control_flow_ops.py\u001b[0m in \u001b[0;36mcond\u001b[0;34m(pred, true_fn, false_fn, strict, name, fn1, fn2)\u001b[0m\n\u001b[1;32m   1172\u001b[0m   if (util.EnableControlFlowV2(ops.get_default_graph()) and\n\u001b[1;32m   1173\u001b[0m       not context.executing_eagerly()):\n\u001b[0;32m-> 1174\u001b[0;31m     \u001b[0;32mreturn\u001b[0m \u001b[0mcond_v2\u001b[0m\u001b[0;34m.\u001b[0m\u001b[0mcond_v2\u001b[0m\u001b[0;34m(\u001b[0m\u001b[0mpred\u001b[0m\u001b[0;34m,\u001b[0m \u001b[0mtrue_fn\u001b[0m\u001b[0;34m,\u001b[0m \u001b[0mfalse_fn\u001b[0m\u001b[0;34m,\u001b[0m \u001b[0mname\u001b[0m\u001b[0;34m)\u001b[0m\u001b[0;34m\u001b[0m\u001b[0;34m\u001b[0m\u001b[0m\n\u001b[0m\u001b[1;32m   1175\u001b[0m \u001b[0;34m\u001b[0m\u001b[0m\n\u001b[1;32m   1176\u001b[0m   \u001b[0;31m# We needed to make true_fn/false_fn keyword arguments for\u001b[0m\u001b[0;34m\u001b[0m\u001b[0;34m\u001b[0m\u001b[0;34m\u001b[0m\u001b[0m\n",
      "\u001b[0;32m~/anaconda3/envs/tensorflow/lib/python3.6/site-packages/tensorflow_core/python/ops/cond_v2.py\u001b[0m in \u001b[0;36mcond_v2\u001b[0;34m(pred, true_fn, false_fn, name)\u001b[0m\n\u001b[1;32m     98\u001b[0m         \u001b[0mfalse_graph\u001b[0m\u001b[0;34m.\u001b[0m\u001b[0mexternal_captures\u001b[0m\u001b[0;34m,\u001b[0m\u001b[0;34m\u001b[0m\u001b[0;34m\u001b[0m\u001b[0m\n\u001b[1;32m     99\u001b[0m         \u001b[0mbuilding_gradient\u001b[0m\u001b[0;34m=\u001b[0m\u001b[0;32mFalse\u001b[0m\u001b[0;34m,\u001b[0m\u001b[0;34m\u001b[0m\u001b[0;34m\u001b[0m\u001b[0m\n\u001b[0;32m--> 100\u001b[0;31m         name=scope)\n\u001b[0m\u001b[1;32m    101\u001b[0m \u001b[0;34m\u001b[0m\u001b[0m\n\u001b[1;32m    102\u001b[0m \u001b[0;34m\u001b[0m\u001b[0m\n",
      "\u001b[0;32m~/anaconda3/envs/tensorflow/lib/python3.6/site-packages/tensorflow_core/python/ops/cond_v2.py\u001b[0m in \u001b[0;36m_build_cond\u001b[0;34m(pred, true_graph, false_graph, true_inputs, false_inputs, building_gradient, name)\u001b[0m\n\u001b[1;32m    271\u001b[0m         output_shapes=_get_output_shapes(true_graph.outputs,\n\u001b[1;32m    272\u001b[0m                                          false_graph.outputs),\n\u001b[0;32m--> 273\u001b[0;31m         name=name)\n\u001b[0m\u001b[1;32m    274\u001b[0m \u001b[0;34m\u001b[0m\u001b[0m\n\u001b[1;32m    275\u001b[0m   \u001b[0mif_op\u001b[0m\u001b[0;34m,\u001b[0m \u001b[0mtensors\u001b[0m \u001b[0;34m=\u001b[0m \u001b[0m_get_op_and_outputs\u001b[0m\u001b[0;34m(\u001b[0m\u001b[0mtensors\u001b[0m\u001b[0;34m)\u001b[0m\u001b[0;34m\u001b[0m\u001b[0;34m\u001b[0m\u001b[0m\n",
      "\u001b[0;32m~/anaconda3/envs/tensorflow/lib/python3.6/site-packages/tensorflow_core/python/ops/gen_functional_ops.py\u001b[0m in \u001b[0;36m_if\u001b[0;34m(cond, input, Tout, then_branch, else_branch, output_shapes, name)\u001b[0m\n\u001b[1;32m    329\u001b[0m   _, _, _op, _outputs = _op_def_library._apply_op_helper(\n\u001b[1;32m    330\u001b[0m         \u001b[0;34m\"If\"\u001b[0m\u001b[0;34m,\u001b[0m \u001b[0mcond\u001b[0m\u001b[0;34m=\u001b[0m\u001b[0mcond\u001b[0m\u001b[0;34m,\u001b[0m \u001b[0minput\u001b[0m\u001b[0;34m=\u001b[0m\u001b[0minput\u001b[0m\u001b[0;34m,\u001b[0m \u001b[0mTout\u001b[0m\u001b[0;34m=\u001b[0m\u001b[0mTout\u001b[0m\u001b[0;34m,\u001b[0m \u001b[0mthen_branch\u001b[0m\u001b[0;34m=\u001b[0m\u001b[0mthen_branch\u001b[0m\u001b[0;34m,\u001b[0m\u001b[0;34m\u001b[0m\u001b[0;34m\u001b[0m\u001b[0m\n\u001b[0;32m--> 331\u001b[0;31m               else_branch=else_branch, output_shapes=output_shapes, name=name)\n\u001b[0m\u001b[1;32m    332\u001b[0m   \u001b[0m_result\u001b[0m \u001b[0;34m=\u001b[0m \u001b[0m_outputs\u001b[0m\u001b[0;34m[\u001b[0m\u001b[0;34m:\u001b[0m\u001b[0;34m]\u001b[0m\u001b[0;34m\u001b[0m\u001b[0;34m\u001b[0m\u001b[0m\n\u001b[1;32m    333\u001b[0m   \u001b[0;32mif\u001b[0m \u001b[0;32mnot\u001b[0m \u001b[0m_result\u001b[0m\u001b[0;34m:\u001b[0m\u001b[0;34m\u001b[0m\u001b[0;34m\u001b[0m\u001b[0m\n",
      "\u001b[0;32m~/anaconda3/envs/tensorflow/lib/python3.6/site-packages/tensorflow_core/python/framework/op_def_library.py\u001b[0m in \u001b[0;36m_apply_op_helper\u001b[0;34m(op_type_name, name, **keywords)\u001b[0m\n\u001b[1;32m    755\u001b[0m         \u001b[0moutputs\u001b[0m \u001b[0;34m=\u001b[0m \u001b[0mcallback_outputs\u001b[0m\u001b[0;34m\u001b[0m\u001b[0;34m\u001b[0m\u001b[0m\n\u001b[1;32m    756\u001b[0m \u001b[0;34m\u001b[0m\u001b[0m\n\u001b[0;32m--> 757\u001b[0;31m     \u001b[0;32mreturn\u001b[0m \u001b[0moutput_structure\u001b[0m\u001b[0;34m,\u001b[0m \u001b[0mop_def\u001b[0m\u001b[0;34m.\u001b[0m\u001b[0mis_stateful\u001b[0m\u001b[0;34m,\u001b[0m \u001b[0mop\u001b[0m\u001b[0;34m,\u001b[0m \u001b[0moutputs\u001b[0m\u001b[0;34m\u001b[0m\u001b[0;34m\u001b[0m\u001b[0m\n\u001b[0m",
      "\u001b[0;32m~/anaconda3/envs/tensorflow/lib/python3.6/contextlib.py\u001b[0m in \u001b[0;36m__exit__\u001b[0;34m(self, type, value, traceback)\u001b[0m\n\u001b[1;32m     86\u001b[0m         \u001b[0;32mif\u001b[0m \u001b[0mtype\u001b[0m \u001b[0;32mis\u001b[0m \u001b[0;32mNone\u001b[0m\u001b[0;34m:\u001b[0m\u001b[0;34m\u001b[0m\u001b[0;34m\u001b[0m\u001b[0m\n\u001b[1;32m     87\u001b[0m             \u001b[0;32mtry\u001b[0m\u001b[0;34m:\u001b[0m\u001b[0;34m\u001b[0m\u001b[0;34m\u001b[0m\u001b[0m\n\u001b[0;32m---> 88\u001b[0;31m                 \u001b[0mnext\u001b[0m\u001b[0;34m(\u001b[0m\u001b[0mself\u001b[0m\u001b[0;34m.\u001b[0m\u001b[0mgen\u001b[0m\u001b[0;34m)\u001b[0m\u001b[0;34m\u001b[0m\u001b[0;34m\u001b[0m\u001b[0m\n\u001b[0m\u001b[1;32m     89\u001b[0m             \u001b[0;32mexcept\u001b[0m \u001b[0mStopIteration\u001b[0m\u001b[0;34m:\u001b[0m\u001b[0;34m\u001b[0m\u001b[0;34m\u001b[0m\u001b[0m\n\u001b[1;32m     90\u001b[0m                 \u001b[0;32mreturn\u001b[0m \u001b[0;32mFalse\u001b[0m\u001b[0;34m\u001b[0m\u001b[0;34m\u001b[0m\u001b[0m\n",
      "\u001b[0;32m~/anaconda3/envs/tensorflow/lib/python3.6/site-packages/tensorflow_core/python/framework/func_graph.py\u001b[0m in \u001b[0;36minner_cm\u001b[0;34m()\u001b[0m\n\u001b[1;32m    424\u001b[0m             \u001b[0mself\u001b[0m\u001b[0;34m.\u001b[0m\u001b[0m_variable_creator_stack\u001b[0m \u001b[0;34m=\u001b[0m \u001b[0mold_creator_stack\u001b[0m\u001b[0;34m\u001b[0m\u001b[0;34m\u001b[0m\u001b[0m\n\u001b[1;32m    425\u001b[0m             \u001b[0mself\u001b[0m\u001b[0;34m.\u001b[0m\u001b[0m_graph_key\u001b[0m \u001b[0;34m=\u001b[0m \u001b[0mold_graph_key\u001b[0m\u001b[0;34m\u001b[0m\u001b[0;34m\u001b[0m\u001b[0m\n\u001b[0;32m--> 426\u001b[0;31m             \u001b[0mself\u001b[0m\u001b[0;34m.\u001b[0m\u001b[0m_auto_cast_variable_read_dtype\u001b[0m \u001b[0;34m=\u001b[0m \u001b[0mold_auto_cast_var_read_dtype\u001b[0m\u001b[0;34m\u001b[0m\u001b[0;34m\u001b[0m\u001b[0m\n\u001b[0m\u001b[1;32m    427\u001b[0m     \u001b[0;32mreturn\u001b[0m \u001b[0minner_cm\u001b[0m\u001b[0;34m(\u001b[0m\u001b[0;34m)\u001b[0m\u001b[0;34m\u001b[0m\u001b[0;34m\u001b[0m\u001b[0m\n\u001b[1;32m    428\u001b[0m \u001b[0;34m\u001b[0m\u001b[0m\n",
      "\u001b[0;32m~/anaconda3/envs/tensorflow/lib/python3.6/site-packages/tensorflow_core/python/framework/ops.py\u001b[0m in \u001b[0;36m_auto_cast_variable_read_dtype\u001b[0;34m(self, dtype)\u001b[0m\n\u001b[1;32m   4967\u001b[0m   \u001b[0;32mdef\u001b[0m \u001b[0m_auto_cast_variable_read_dtype\u001b[0m\u001b[0;34m(\u001b[0m\u001b[0mself\u001b[0m\u001b[0;34m,\u001b[0m \u001b[0mdtype\u001b[0m\u001b[0;34m)\u001b[0m\u001b[0;34m:\u001b[0m\u001b[0;34m\u001b[0m\u001b[0;34m\u001b[0m\u001b[0m\n\u001b[1;32m   4968\u001b[0m     \u001b[0;32mif\u001b[0m \u001b[0mdtype\u001b[0m\u001b[0;34m:\u001b[0m\u001b[0;34m\u001b[0m\u001b[0;34m\u001b[0m\u001b[0m\n\u001b[0;32m-> 4969\u001b[0;31m       \u001b[0mdtype\u001b[0m \u001b[0;34m=\u001b[0m \u001b[0mdtypes\u001b[0m\u001b[0;34m.\u001b[0m\u001b[0mas_dtype\u001b[0m\u001b[0;34m(\u001b[0m\u001b[0mdtype\u001b[0m\u001b[0;34m)\u001b[0m\u001b[0;34m\u001b[0m\u001b[0;34m\u001b[0m\u001b[0m\n\u001b[0m\u001b[1;32m   4970\u001b[0m     \u001b[0mself\u001b[0m\u001b[0;34m.\u001b[0m\u001b[0m_thread_local\u001b[0m\u001b[0;34m.\u001b[0m\u001b[0m_auto_cast_variable_read_dtype\u001b[0m \u001b[0;34m=\u001b[0m \u001b[0mdtype\u001b[0m  \u001b[0;31m# pylint: disable=protected-access\u001b[0m\u001b[0;34m\u001b[0m\u001b[0;34m\u001b[0m\u001b[0m\n\u001b[1;32m   4971\u001b[0m \u001b[0;34m\u001b[0m\u001b[0m\n",
      "\u001b[0;32m~/anaconda3/envs/tensorflow/lib/python3.6/site-packages/tensorflow_core/python/framework/dtypes.py\u001b[0m in \u001b[0;36mas_dtype\u001b[0;34m(type_value)\u001b[0m\n\u001b[1;32m    708\u001b[0m     \u001b[0mTypeError\u001b[0m\u001b[0;34m:\u001b[0m \u001b[0mIf\u001b[0m\u001b[0;31m \u001b[0m\u001b[0;31m`\u001b[0m\u001b[0mtype_value\u001b[0m\u001b[0;31m`\u001b[0m \u001b[0mcannot\u001b[0m \u001b[0mbe\u001b[0m \u001b[0mconverted\u001b[0m \u001b[0mto\u001b[0m \u001b[0ma\u001b[0m\u001b[0;31m \u001b[0m\u001b[0;31m`\u001b[0m\u001b[0mDType\u001b[0m\u001b[0;31m`\u001b[0m\u001b[0;34m.\u001b[0m\u001b[0;34m\u001b[0m\u001b[0;34m\u001b[0m\u001b[0m\n\u001b[1;32m    709\u001b[0m   \"\"\"\n\u001b[0;32m--> 710\u001b[0;31m   \u001b[0;32mif\u001b[0m \u001b[0misinstance\u001b[0m\u001b[0;34m(\u001b[0m\u001b[0mtype_value\u001b[0m\u001b[0;34m,\u001b[0m \u001b[0mDType\u001b[0m\u001b[0;34m)\u001b[0m\u001b[0;34m:\u001b[0m\u001b[0;34m\u001b[0m\u001b[0;34m\u001b[0m\u001b[0m\n\u001b[0m\u001b[1;32m    711\u001b[0m     \u001b[0;32mreturn\u001b[0m \u001b[0mtype_value\u001b[0m\u001b[0;34m\u001b[0m\u001b[0;34m\u001b[0m\u001b[0m\n\u001b[1;32m    712\u001b[0m \u001b[0;34m\u001b[0m\u001b[0m\n",
      "\u001b[0;31mKeyboardInterrupt\u001b[0m: "
     ]
    }
   ],
   "source": [
    "data = pd.read_csv(\"droughtSST.csv\")\n",
    "data = data.iloc[:,1:]\n",
    "\n",
    "n = 20\n",
    "# Set forecasting window length (in years)\n",
    "m = 1\n",
    "# Set annual sampling rate\n",
    "f = 12\n",
    "n_steps = 12\n",
    "h_steps = 11\n",
    "N = data.shape[0] - (n + m)*f\n",
    "result = np.zeros(N)\n",
    "h = m * f\n",
    "y_hat_list = []\n",
    "y_test_list = []\n",
    "for index in range(N):\n",
    "\n",
    "    raw_seq = data.iloc[index:index+(n+m)*f,:]\n",
    "    X,y = split_sequence(raw_seq.drought.values, n_steps, h_steps)\n",
    "    sst = raw_seq.sst.values[n_steps:-h_steps]\n",
    "    \n",
    "    X = np.hstack((X,sst.reshape(-1,1)))\n",
    "    x_train, x_test = train_test_split_ts_2d_raw(X, h)\n",
    "    y_train, y_test = train_test_split_ts_2d_raw(y, h)\n",
    "    \n",
    "    model = tf.keras.Sequential([\n",
    "    tf.keras.layers.InputLayer(input_shape = x_train.shape[1]),\n",
    "    layers.Dense(8, kernel_regularizer=tf.keras.regularizers.l2(0.01), activation=tf.nn.relu),\n",
    "    layers.Dropout(0.1),\n",
    "    layers.Dense(8, kernel_regularizer=tf.keras.regularizers.l2(0.01), activation=tf.nn.relu),\n",
    "    layers.Dense(1)\n",
    "    ])\n",
    "\n",
    "\n",
    "    model.compile(optimizer=\"RMSprop\",\n",
    "                loss='mean_squared_error',\n",
    "                 metrics=['RootMeanSquaredError'])\n",
    "    \n",
    "    model.fit(x_train, y_train, epochs=100, verbose=False) \n",
    "\n",
    "    sst_last = sst[-12:]\n",
    "    y_hat = forecast_sst(np.append(x_train[-1][1:-1],np.array(y_train[-1])),sst_last, model, h, n_steps)\n",
    "    y_hat = np.reshape(y_hat,len(y_test))\n",
    "    \n",
    "    result[index] = math.sqrt((y_hat[-1] - y_test[-1])**2) \n",
    "    y_hat_list.append(y_hat[-1])\n",
    "    y_test_list.append(y_test[-1])"
   ]
  },
  {
   "cell_type": "code",
   "execution_count": 92,
   "metadata": {},
   "outputs": [
    {
     "data": {
      "text/plain": [
       "[<matplotlib.lines.Line2D at 0x7f458cb1f358>,\n",
       " <matplotlib.lines.Line2D at 0x7f4592c9bef0>]"
      ]
     },
     "execution_count": 92,
     "metadata": {},
     "output_type": "execute_result"
    },
    {
     "data": {
      "image/png": "[encoded data removed]",
      "text/plain": [
       "<Figure size 1440x720 with 1 Axes>"
      ]
     },
     "metadata": {
      "needs_background": "light"
     },
     "output_type": "display_data"
    }
   ],
   "source": [
    "plt.plot(range(len(y_hat_list)), y_hat_list, y_test_list)"
   ]
  },
  {
   "cell_type": "code",
   "execution_count": 65,
   "metadata": {},
   "outputs": [
    {
     "data": {
      "text/plain": [
       "35.28321073978555"
      ]
     },
     "execution_count": 65,
     "metadata": {},
     "output_type": "execute_result"
    }
   ],
   "source": [
    "result.mean()"
   ]
  },
  {
   "cell_type": "code",
   "execution_count": 32,
   "metadata": {},
   "outputs": [
    {
     "data": {
      "text/plain": [
       "36.39197116578911"
      ]
     },
     "execution_count": 32,
     "metadata": {},
     "output_type": "execute_result"
    }
   ],
   "source": [
    "result.mean()"
   ]
  },
  {
   "cell_type": "code",
   "execution_count": 40,
   "metadata": {},
   "outputs": [
    {
     "data": {
      "text/plain": [
       "31.868235599703905"
      ]
     },
     "execution_count": 40,
     "metadata": {},
     "output_type": "execute_result"
    }
   ],
   "source": [
    "result.sum()/np.count_nonzero(result)"
   ]
  },
  {
   "cell_type": "code",
   "execution_count": 18,
   "metadata": {},
   "outputs": [
    {
     "data": {
      "text/plain": [
       "36.83620018365921"
      ]
     },
     "execution_count": 18,
     "metadata": {},
     "output_type": "execute_result"
    }
   ],
   "source": [
    "result.mean()"
   ]
  },
  {
   "cell_type": "code",
   "execution_count": 66,
   "metadata": {},
   "outputs": [
    {
     "ename": "KeyboardInterrupt",
     "evalue": "",
     "output_type": "error",
     "traceback": [
      "\u001b[0;31m---------------------------------------------------------------------------\u001b[0m",
      "\u001b[0;31mKeyboardInterrupt\u001b[0m                         Traceback (most recent call last)",
      "\u001b[0;32m<ipython-input-66-6a2bc85d2f71>\u001b[0m in \u001b[0;36m<module>\u001b[0;34m\u001b[0m\n\u001b[1;32m     35\u001b[0m                 metrics=['RootMeanSquaredError'])\n\u001b[1;32m     36\u001b[0m \u001b[0;34m\u001b[0m\u001b[0m\n\u001b[0;32m---> 37\u001b[0;31m     \u001b[0mmodel\u001b[0m\u001b[0;34m.\u001b[0m\u001b[0mfit\u001b[0m\u001b[0;34m(\u001b[0m\u001b[0mx_train\u001b[0m\u001b[0;34m,\u001b[0m \u001b[0my_train\u001b[0m\u001b[0;34m,\u001b[0m \u001b[0mepochs\u001b[0m\u001b[0;34m=\u001b[0m\u001b[0;36m100\u001b[0m\u001b[0;34m,\u001b[0m \u001b[0mverbose\u001b[0m\u001b[0;34m=\u001b[0m\u001b[0;32mFalse\u001b[0m\u001b[0;34m)\u001b[0m\u001b[0;34m\u001b[0m\u001b[0;34m\u001b[0m\u001b[0m\n\u001b[0m\u001b[1;32m     38\u001b[0m \u001b[0;34m\u001b[0m\u001b[0m\n\u001b[1;32m     39\u001b[0m     \u001b[0;31m#sst_last = sst[-12:]\u001b[0m\u001b[0;34m\u001b[0m\u001b[0;34m\u001b[0m\u001b[0;34m\u001b[0m\u001b[0m\n",
      "\u001b[0;32m~/anaconda3/envs/tensorflow/lib/python3.6/site-packages/tensorflow_core/python/keras/engine/training.py\u001b[0m in \u001b[0;36mfit\u001b[0;34m(self, x, y, batch_size, epochs, verbose, callbacks, validation_split, validation_data, shuffle, class_weight, sample_weight, initial_epoch, steps_per_epoch, validation_steps, validation_freq, max_queue_size, workers, use_multiprocessing, **kwargs)\u001b[0m\n\u001b[1;32m    817\u001b[0m         \u001b[0mmax_queue_size\u001b[0m\u001b[0;34m=\u001b[0m\u001b[0mmax_queue_size\u001b[0m\u001b[0;34m,\u001b[0m\u001b[0;34m\u001b[0m\u001b[0;34m\u001b[0m\u001b[0m\n\u001b[1;32m    818\u001b[0m         \u001b[0mworkers\u001b[0m\u001b[0;34m=\u001b[0m\u001b[0mworkers\u001b[0m\u001b[0;34m,\u001b[0m\u001b[0;34m\u001b[0m\u001b[0;34m\u001b[0m\u001b[0m\n\u001b[0;32m--> 819\u001b[0;31m         use_multiprocessing=use_multiprocessing)\n\u001b[0m\u001b[1;32m    820\u001b[0m \u001b[0;34m\u001b[0m\u001b[0m\n\u001b[1;32m    821\u001b[0m   def evaluate(self,\n",
      "\u001b[0;32m~/anaconda3/envs/tensorflow/lib/python3.6/site-packages/tensorflow_core/python/keras/engine/training_v2.py\u001b[0m in \u001b[0;36mfit\u001b[0;34m(self, model, x, y, batch_size, epochs, verbose, callbacks, validation_split, validation_data, shuffle, class_weight, sample_weight, initial_epoch, steps_per_epoch, validation_steps, validation_freq, max_queue_size, workers, use_multiprocessing, **kwargs)\u001b[0m\n\u001b[1;32m    341\u001b[0m                 \u001b[0mtraining_context\u001b[0m\u001b[0;34m=\u001b[0m\u001b[0mtraining_context\u001b[0m\u001b[0;34m,\u001b[0m\u001b[0;34m\u001b[0m\u001b[0;34m\u001b[0m\u001b[0m\n\u001b[1;32m    342\u001b[0m                 total_epochs=epochs)\n\u001b[0;32m--> 343\u001b[0;31m             \u001b[0mcbks\u001b[0m\u001b[0;34m.\u001b[0m\u001b[0mmake_logs\u001b[0m\u001b[0;34m(\u001b[0m\u001b[0mmodel\u001b[0m\u001b[0;34m,\u001b[0m \u001b[0mepoch_logs\u001b[0m\u001b[0;34m,\u001b[0m \u001b[0mtraining_result\u001b[0m\u001b[0;34m,\u001b[0m \u001b[0mModeKeys\u001b[0m\u001b[0;34m.\u001b[0m\u001b[0mTRAIN\u001b[0m\u001b[0;34m)\u001b[0m\u001b[0;34m\u001b[0m\u001b[0;34m\u001b[0m\u001b[0m\n\u001b[0m\u001b[1;32m    344\u001b[0m \u001b[0;34m\u001b[0m\u001b[0m\n\u001b[1;32m    345\u001b[0m             \u001b[0;31m# In the case of steps_per_epoch = None, the final cardinality will\u001b[0m\u001b[0;34m\u001b[0m\u001b[0;34m\u001b[0m\u001b[0;34m\u001b[0m\u001b[0m\n",
      "\u001b[0;32m~/anaconda3/envs/tensorflow/lib/python3.6/site-packages/tensorflow_core/python/keras/callbacks.py\u001b[0m in \u001b[0;36mmake_logs\u001b[0;34m(model, logs, outputs, mode, prefix)\u001b[0m\n\u001b[1;32m    178\u001b[0m \u001b[0;32mdef\u001b[0m \u001b[0mmake_logs\u001b[0m\u001b[0;34m(\u001b[0m\u001b[0mmodel\u001b[0m\u001b[0;34m,\u001b[0m \u001b[0mlogs\u001b[0m\u001b[0;34m,\u001b[0m \u001b[0moutputs\u001b[0m\u001b[0;34m,\u001b[0m \u001b[0mmode\u001b[0m\u001b[0;34m,\u001b[0m \u001b[0mprefix\u001b[0m\u001b[0;34m=\u001b[0m\u001b[0;34m''\u001b[0m\u001b[0;34m)\u001b[0m\u001b[0;34m:\u001b[0m\u001b[0;34m\u001b[0m\u001b[0;34m\u001b[0m\u001b[0m\n\u001b[1;32m    179\u001b[0m   \u001b[0;34m\"\"\"Computes logs for sending to `on_batch_end` methods.\"\"\"\u001b[0m\u001b[0;34m\u001b[0m\u001b[0;34m\u001b[0m\u001b[0m\n\u001b[0;32m--> 180\u001b[0;31m   \u001b[0mmetric_names\u001b[0m \u001b[0;34m=\u001b[0m \u001b[0mmodel\u001b[0m\u001b[0;34m.\u001b[0m\u001b[0mmetrics_names\u001b[0m\u001b[0;34m\u001b[0m\u001b[0;34m\u001b[0m\u001b[0m\n\u001b[0m\u001b[1;32m    181\u001b[0m   \u001b[0;32mif\u001b[0m \u001b[0mmode\u001b[0m \u001b[0;32min\u001b[0m \u001b[0;34m{\u001b[0m\u001b[0mModeKeys\u001b[0m\u001b[0;34m.\u001b[0m\u001b[0mTRAIN\u001b[0m\u001b[0;34m,\u001b[0m \u001b[0mModeKeys\u001b[0m\u001b[0;34m.\u001b[0m\u001b[0mTEST\u001b[0m\u001b[0;34m}\u001b[0m \u001b[0;32mand\u001b[0m \u001b[0mmetric_names\u001b[0m\u001b[0;34m:\u001b[0m\u001b[0;34m\u001b[0m\u001b[0;34m\u001b[0m\u001b[0m\n\u001b[1;32m    182\u001b[0m     \u001b[0;32mfor\u001b[0m \u001b[0mlabel\u001b[0m\u001b[0;34m,\u001b[0m \u001b[0moutput\u001b[0m \u001b[0;32min\u001b[0m \u001b[0mzip\u001b[0m\u001b[0;34m(\u001b[0m\u001b[0mmetric_names\u001b[0m\u001b[0;34m,\u001b[0m \u001b[0moutputs\u001b[0m\u001b[0;34m)\u001b[0m\u001b[0;34m:\u001b[0m\u001b[0;34m\u001b[0m\u001b[0;34m\u001b[0m\u001b[0m\n",
      "\u001b[0;32m~/anaconda3/envs/tensorflow/lib/python3.6/site-packages/tensorflow_core/python/keras/engine/training.py\u001b[0m in \u001b[0;36mmetrics_names\u001b[0;34m(self)\u001b[0m\n\u001b[1;32m    503\u001b[0m \u001b[0;34m\u001b[0m\u001b[0m\n\u001b[1;32m    504\u001b[0m     \u001b[0;31m# Add all metric names.\u001b[0m\u001b[0;34m\u001b[0m\u001b[0;34m\u001b[0m\u001b[0;34m\u001b[0m\u001b[0m\n\u001b[0;32m--> 505\u001b[0;31m     \u001b[0mmetrics_names\u001b[0m \u001b[0;34m+=\u001b[0m \u001b[0;34m[\u001b[0m\u001b[0mm\u001b[0m\u001b[0;34m.\u001b[0m\u001b[0mname\u001b[0m \u001b[0;32mfor\u001b[0m \u001b[0mm\u001b[0m \u001b[0;32min\u001b[0m \u001b[0mself\u001b[0m\u001b[0;34m.\u001b[0m\u001b[0mmetrics\u001b[0m\u001b[0;34m]\u001b[0m\u001b[0;34m\u001b[0m\u001b[0;34m\u001b[0m\u001b[0m\n\u001b[0m\u001b[1;32m    506\u001b[0m     \u001b[0;32mreturn\u001b[0m \u001b[0mmetrics_names\u001b[0m\u001b[0;34m\u001b[0m\u001b[0;34m\u001b[0m\u001b[0m\n\u001b[1;32m    507\u001b[0m \u001b[0;34m\u001b[0m\u001b[0m\n",
      "\u001b[0;32m~/anaconda3/envs/tensorflow/lib/python3.6/site-packages/tensorflow_core/python/keras/engine/training.py\u001b[0m in \u001b[0;36mmetrics\u001b[0;34m(self)\u001b[0m\n\u001b[1;32m    483\u001b[0m       \u001b[0mmetrics\u001b[0m \u001b[0;34m+=\u001b[0m \u001b[0mself\u001b[0m\u001b[0;34m.\u001b[0m\u001b[0m_compile_metric_functions\u001b[0m\u001b[0;34m\u001b[0m\u001b[0;34m\u001b[0m\u001b[0m\n\u001b[1;32m    484\u001b[0m     \u001b[0mmetrics\u001b[0m\u001b[0;34m.\u001b[0m\u001b[0mextend\u001b[0m\u001b[0;34m(\u001b[0m\u001b[0mself\u001b[0m\u001b[0;34m.\u001b[0m\u001b[0m_metrics\u001b[0m\u001b[0;34m)\u001b[0m\u001b[0;34m\u001b[0m\u001b[0;34m\u001b[0m\u001b[0m\n\u001b[0;32m--> 485\u001b[0;31m     \u001b[0mmetrics\u001b[0m\u001b[0;34m.\u001b[0m\u001b[0mextend\u001b[0m\u001b[0;34m(\u001b[0m\u001b[0m_get_metrics_from_layers\u001b[0m\u001b[0;34m(\u001b[0m\u001b[0mself\u001b[0m\u001b[0;34m.\u001b[0m\u001b[0m_layers\u001b[0m\u001b[0;34m)\u001b[0m\u001b[0;34m)\u001b[0m\u001b[0;34m\u001b[0m\u001b[0;34m\u001b[0m\u001b[0m\n\u001b[0m\u001b[1;32m    486\u001b[0m     \u001b[0;32mreturn\u001b[0m \u001b[0mmetrics\u001b[0m\u001b[0;34m\u001b[0m\u001b[0;34m\u001b[0m\u001b[0m\n\u001b[1;32m    487\u001b[0m \u001b[0;34m\u001b[0m\u001b[0m\n",
      "\u001b[0;32m~/anaconda3/envs/tensorflow/lib/python3.6/site-packages/tensorflow_core/python/keras/engine/training.py\u001b[0m in \u001b[0;36m_get_metrics_from_layers\u001b[0;34m(layers)\u001b[0m\n\u001b[1;32m   3231\u001b[0m       \u001b[0mmetrics\u001b[0m\u001b[0;34m.\u001b[0m\u001b[0mextend\u001b[0m\u001b[0;34m(\u001b[0m\u001b[0m_get_metrics_from_layers\u001b[0m\u001b[0;34m(\u001b[0m\u001b[0mlayer\u001b[0m\u001b[0;34m.\u001b[0m\u001b[0mlayers\u001b[0m\u001b[0;34m)\u001b[0m\u001b[0;34m)\u001b[0m\u001b[0;34m\u001b[0m\u001b[0;34m\u001b[0m\u001b[0m\n\u001b[1;32m   3232\u001b[0m     \u001b[0;32melse\u001b[0m\u001b[0;34m:\u001b[0m\u001b[0;34m\u001b[0m\u001b[0;34m\u001b[0m\u001b[0m\n\u001b[0;32m-> 3233\u001b[0;31m       \u001b[0mmetrics\u001b[0m\u001b[0;34m.\u001b[0m\u001b[0mextend\u001b[0m\u001b[0;34m(\u001b[0m\u001b[0mlayer\u001b[0m\u001b[0;34m.\u001b[0m\u001b[0mmetrics\u001b[0m\u001b[0;34m)\u001b[0m\u001b[0;34m\u001b[0m\u001b[0;34m\u001b[0m\u001b[0m\n\u001b[0m\u001b[1;32m   3234\u001b[0m   \u001b[0;32mreturn\u001b[0m \u001b[0mmetrics\u001b[0m\u001b[0;34m\u001b[0m\u001b[0;34m\u001b[0m\u001b[0m\n",
      "\u001b[0;32m~/anaconda3/envs/tensorflow/lib/python3.6/site-packages/tensorflow_core/python/keras/engine/base_layer.py\u001b[0m in \u001b[0;36mmetrics\u001b[0;34m(self)\u001b[0m\n\u001b[1;32m   1095\u001b[0m   \u001b[0;34m@\u001b[0m\u001b[0mproperty\u001b[0m\u001b[0;34m\u001b[0m\u001b[0;34m\u001b[0m\u001b[0m\n\u001b[1;32m   1096\u001b[0m   \u001b[0;32mdef\u001b[0m \u001b[0mmetrics\u001b[0m\u001b[0;34m(\u001b[0m\u001b[0mself\u001b[0m\u001b[0;34m)\u001b[0m\u001b[0;34m:\u001b[0m\u001b[0;34m\u001b[0m\u001b[0;34m\u001b[0m\u001b[0m\n\u001b[0;32m-> 1097\u001b[0;31m     \u001b[0;32mreturn\u001b[0m \u001b[0mself\u001b[0m\u001b[0;34m.\u001b[0m\u001b[0m_metrics\u001b[0m \u001b[0;34m+\u001b[0m \u001b[0mself\u001b[0m\u001b[0;34m.\u001b[0m\u001b[0m_gather_children_attribute\u001b[0m\u001b[0;34m(\u001b[0m\u001b[0;34m'metrics'\u001b[0m\u001b[0;34m)\u001b[0m\u001b[0;34m\u001b[0m\u001b[0;34m\u001b[0m\u001b[0m\n\u001b[0m\u001b[1;32m   1098\u001b[0m \u001b[0;34m\u001b[0m\u001b[0m\n\u001b[1;32m   1099\u001b[0m   \u001b[0;34m@\u001b[0m\u001b[0mdoc_controls\u001b[0m\u001b[0;34m.\u001b[0m\u001b[0mfor_subclass_implementers\u001b[0m\u001b[0;34m\u001b[0m\u001b[0;34m\u001b[0m\u001b[0m\n",
      "\u001b[0;32m~/anaconda3/envs/tensorflow/lib/python3.6/site-packages/tensorflow_core/python/keras/engine/base_layer.py\u001b[0m in \u001b[0;36m_gather_children_attribute\u001b[0;34m(self, attribute)\u001b[0m\n\u001b[1;32m   2319\u001b[0m       return list(\n\u001b[1;32m   2320\u001b[0m           itertools.chain.from_iterable(\n\u001b[0;32m-> 2321\u001b[0;31m               getattr(layer, attribute) for layer in nested_layers))\n\u001b[0m\u001b[1;32m   2322\u001b[0m     \u001b[0;32mreturn\u001b[0m \u001b[0;34m[\u001b[0m\u001b[0;34m]\u001b[0m\u001b[0;34m\u001b[0m\u001b[0;34m\u001b[0m\u001b[0m\n\u001b[1;32m   2323\u001b[0m \u001b[0;34m\u001b[0m\u001b[0m\n",
      "\u001b[0;32m~/anaconda3/envs/tensorflow/lib/python3.6/site-packages/tensorflow_core/python/keras/engine/base_layer.py\u001b[0m in \u001b[0;36m<genexpr>\u001b[0;34m(.0)\u001b[0m\n\u001b[1;32m   2319\u001b[0m       return list(\n\u001b[1;32m   2320\u001b[0m           itertools.chain.from_iterable(\n\u001b[0;32m-> 2321\u001b[0;31m               getattr(layer, attribute) for layer in nested_layers))\n\u001b[0m\u001b[1;32m   2322\u001b[0m     \u001b[0;32mreturn\u001b[0m \u001b[0;34m[\u001b[0m\u001b[0;34m]\u001b[0m\u001b[0;34m\u001b[0m\u001b[0;34m\u001b[0m\u001b[0m\n\u001b[1;32m   2323\u001b[0m \u001b[0;34m\u001b[0m\u001b[0m\n",
      "\u001b[0;31mKeyboardInterrupt\u001b[0m: "
     ]
    }
   ],
   "source": [
    "data = pd.read_csv(\"droughtSST.csv\")\n",
    "data = data.iloc[:,1:]\n",
    "\n",
    "n = 20\n",
    "# Set forecasting window length (in years)\n",
    "m = 1\n",
    "# Set annual sampling rate\n",
    "f = 12\n",
    "n_steps = 12\n",
    "h = f*m\n",
    "\n",
    "N = data.shape[0] - (n + m)*f\n",
    "result_witoutSST = np.zeros(N)\n",
    "\n",
    "for index in range(N):\n",
    "\n",
    "    raw_seq = data.iloc[index:index+(n+m)*f,:]\n",
    "    X,y = split_sequence(raw_seq.drought.values, n_steps)\n",
    "    #sst = raw_seq.sst.values[n_steps:]\n",
    "    \n",
    "    #X = np.hstack((X,sst.reshape(-1,1)))\n",
    "    x_train, x_test = train_test_split_ts_2d_raw(X, h)\n",
    "    y_train, y_test = train_test_split_ts_2d_raw(y, h)\n",
    "    \n",
    "    model = tf.keras.Sequential([\n",
    "    tf.keras.layers.InputLayer(input_shape = x_train.shape[1]),\n",
    "    layers.Dense(8, kernel_regularizer=tf.keras.regularizers.l2(0.001), activation=tf.nn.relu),\n",
    "    layers.Dropout(0.1),\n",
    "    layers.Dense(8, kernel_regularizer=tf.keras.regularizers.l2(0.001), activation=tf.nn.relu),\n",
    "    layers.Dense(1)\n",
    "    ])\n",
    "\n",
    "    model.compile(optimizer=\"RMSprop\",\n",
    "                loss='mean_squared_error',\n",
    "                metrics=['RootMeanSquaredError'])\n",
    "    \n",
    "    model.fit(x_train, y_train, epochs=100, verbose=False) \n",
    "\n",
    "    #sst_last = sst[-12:]\n",
    "    y_hat = forecast(np.append(x_train[-1][1:],np.array(y_train[-1])), model, h, n_steps)\n",
    "    y_hat = np.reshape(y_hat,len(y_test))\n",
    "    \n",
    "    result_witoutSST[index] = math.sqrt((y_hat[-1] - y_test[-1])**2) "
   ]
  },
  {
   "cell_type": "code",
   "execution_count": 64,
   "metadata": {},
   "outputs": [
    {
     "data": {
      "text/plain": [
       "6.862262426638136"
      ]
     },
     "execution_count": 64,
     "metadata": {},
     "output_type": "execute_result"
    }
   ],
   "source": [
    "result_witoutSST.mean()"
   ]
  },
  {
   "cell_type": "code",
   "execution_count": 42,
   "metadata": {},
   "outputs": [
    {
     "data": {
      "text/plain": [
       "31.868235599703905"
      ]
     },
     "execution_count": 42,
     "metadata": {},
     "output_type": "execute_result"
    }
   ],
   "source": [
    "result.sum()/np.count_nonzero(result_witoutSST)"
   ]
  },
  {
   "cell_type": "code",
   "execution_count": null,
   "metadata": {},
   "outputs": [],
   "source": []
  },
  {
   "cell_type": "markdown",
   "metadata": {},
   "source": [
    "# ONI"
   ]
  },
  {
   "cell_type": "code",
   "execution_count": 51,
   "metadata": {},
   "outputs": [],
   "source": [
    "data = pd.read_csv(\"droughtSST.csv\")\n",
    "data = data.iloc[:,1:]"
   ]
  },
  {
   "cell_type": "code",
   "execution_count": null,
   "metadata": {},
   "outputs": [],
   "source": []
  },
  {
   "cell_type": "code",
   "execution_count": 52,
   "metadata": {},
   "outputs": [],
   "source": [
    "oni = pd.read_csv(\"ONI.csv\")"
   ]
  },
  {
   "cell_type": "code",
   "execution_count": 53,
   "metadata": {},
   "outputs": [],
   "source": [
    "new_oni = oni.iloc[324:780,5].values"
   ]
  },
  {
   "cell_type": "code",
   "execution_count": 54,
   "metadata": {},
   "outputs": [],
   "source": [
    "data[\"sst\"] = new_oni"
   ]
  },
  {
   "cell_type": "code",
   "execution_count": 55,
   "metadata": {},
   "outputs": [
    {
     "data": {
      "text/plain": [
       "49.23684210526316"
      ]
     },
     "execution_count": 55,
     "metadata": {},
     "output_type": "execute_result"
    }
   ],
   "source": [
    "data.drought.mean()"
   ]
  },
  {
   "cell_type": "code",
   "execution_count": 56,
   "metadata": {},
   "outputs": [
    {
     "data": {
      "text/plain": [
       "38.15533379252461"
      ]
     },
     "execution_count": 56,
     "metadata": {},
     "output_type": "execute_result"
    }
   ],
   "source": [
    "data.drought.std()"
   ]
  },
  {
   "cell_type": "code",
   "execution_count": 40,
   "metadata": {},
   "outputs": [],
   "source": [
    "data = (data - data.mean())/data.std()"
   ]
  },
  {
   "cell_type": "code",
   "execution_count": 60,
   "metadata": {},
   "outputs": [],
   "source": [
    "data = pd.read_csv(\"droughtSST.csv\")\n",
    "data = data.iloc[:,1:]\n",
    "\n",
    "oni = pd.read_csv(\"ONI.csv\")\n",
    "new_oni = oni.iloc[324:780,5].values\n",
    "data[\"sst\"] = new_oni\n",
    "\n",
    "#data = (data - data.mean())/data.std()\n",
    "\n",
    "n = 20\n",
    "# Set forecasting window length (in years)\n",
    "m = 1\n",
    "# Set annual sampling rate\n",
    "f = 12\n",
    "h = m*f\n",
    "n_steps = 12\n",
    "N = data.shape[0] - (n + m)*f\n",
    "result = np.zeros(N)\n",
    "\n",
    "for index in range(0,N):\n",
    "\n",
    "    raw_seq = data.iloc[index:index+(n+m)*f,:]\n",
    "    X,y = split_sequence(raw_seq.drought.values, n_steps)\n",
    "    sst = raw_seq.sst.values[n_steps:]\n",
    "    \n",
    "    X = np.hstack((X,sst.reshape(-1,1)))\n",
    "    x_train, x_test = train_test_split_ts_2d_raw(X, h)\n",
    "    y_train, y_test = train_test_split_ts_2d_raw(y, h)\n",
    "    \n",
    "    model = tf.keras.Sequential([\n",
    "    tf.keras.layers.InputLayer(input_shape = x_train.shape[1]),\n",
    "    layers.Dense(8, kernel_regularizer=tf.keras.regularizers.l2(0.01), activation=tf.nn.relu),\n",
    "    layers.Dropout(0.1),\n",
    "    layers.Dense(8, kernel_regularizer=tf.keras.regularizers.l2(0.01), activation=tf.nn.relu),\n",
    "    layers.Dense(1)\n",
    "    ])\n",
    "\n",
    "\n",
    "    model.compile(optimizer=\"RMSprop\",\n",
    "                loss='mean_squared_error',\n",
    "                 metrics=['RootMeanSquaredError'])\n",
    "    \n",
    "    model.fit(x_train, y_train, epochs=100, verbose=False) \n",
    "\n",
    "    sst_last = sst[-12:]\n",
    "    y_hat = forecast_sst(np.append(x_train[-1][1:-1],np.array(y_train[-1])),sst_last, model, h, n_steps)\n",
    "    y_hat = np.reshape(y_hat,len(y_test))\n",
    "    \n",
    "    result[index] = math.sqrt((y_hat[-1] - y_test[-1])**2)"
   ]
  },
  {
   "cell_type": "code",
   "execution_count": 61,
   "metadata": {},
   "outputs": [
    {
     "data": {
      "text/plain": [
       "35.70480540453219"
      ]
     },
     "execution_count": 61,
     "metadata": {},
     "output_type": "execute_result"
    }
   ],
   "source": [
    "result.mean()"
   ]
  },
  {
   "cell_type": "code",
   "execution_count": 59,
   "metadata": {},
   "outputs": [
    {
     "data": {
      "text/plain": [
       "array([ 77.02858431, 120.87812246,  75.30829842,  80.68835321,\n",
       "        91.53693443,  91.86390427,  68.40573872,  77.18698068,\n",
       "        72.25358106,  60.57164216,  72.42647765,  75.46522502,\n",
       "        97.06945693,  62.12646708,  95.42049403,  80.65562996,\n",
       "        69.5810966 ,  99.20941965,  88.51848871, 106.66449462,\n",
       "        85.77686819,  86.78408656,  87.61294522,  70.42503707,\n",
       "       114.21164774, 121.41616766, 125.29029873, 109.5588329 ,\n",
       "       144.99661456, 138.83172723, 152.18650668, 151.30182321,\n",
       "       150.8728909 , 109.10972141, 146.35571964, 123.32299629,\n",
       "       113.42790951, 127.65752112, 127.67560556,  77.72776754,\n",
       "        83.78385887,  87.30505914, 103.79086648,  75.18231804,\n",
       "        65.01873785, 144.90845093, 146.4806049 , 121.54780423,\n",
       "       123.65763054,  79.11288734,  94.86861576,  73.59215722,\n",
       "       109.98097936,  66.04922641, 127.97386584,  74.88092507,\n",
       "        82.81630136,  65.23789254,  84.99712765,  72.08547141,\n",
       "        81.0614656 ,  62.31832531,  74.56023803,  77.72646223,\n",
       "        55.58733752,  71.53894241, 103.2639217 ,  56.60189109,\n",
       "        65.68112174, 100.62670139, 120.7393622 ,  68.26726277,\n",
       "        72.75203958,  85.80810938,  76.44410353,  84.70443647,\n",
       "        67.76633841,  76.1404488 , 104.34724385,  86.17757175,\n",
       "        87.72459669,  93.37219927,  95.20712586, 121.04299175,\n",
       "        55.32789582,  94.90360935,  87.94298413,  90.06490798,\n",
       "        98.02890471,  82.67637093,  57.48174488, 103.6232856 ,\n",
       "       112.87769987, 102.53152615,  56.95123081,  99.31292209,\n",
       "        71.56437676, 123.12275479,  70.36749294,  81.74218613,\n",
       "        83.79181583, 121.91105551, 110.46636253,  65.73234334,\n",
       "       127.28227034, 113.94510278,  88.86666596,  93.2173097 ,\n",
       "        95.32778482,  85.41622753,  85.18880807,  87.51755128,\n",
       "        66.66192722,  60.3464191 ,  68.46219854,  68.12471005,\n",
       "        50.26364545,  50.82417603,  69.89692544,  54.15523132,\n",
       "        49.44555713,  46.24103204,  44.94235816,  57.60167341,\n",
       "        53.50385628,  52.60918969,  68.18674828, 110.63911292,\n",
       "        94.7504778 ,  96.36082989, 136.83682502, 117.72827715,\n",
       "       159.58746747, 137.97579716, 159.64996443, 105.76735713,\n",
       "       110.00188288,  96.74237803,  69.0670874 ,  79.00614611,\n",
       "        72.43931889,  66.26360381,  50.5579389 ,  58.07244424,\n",
       "        49.86081679,  57.48660547,  63.68960284,  70.60082468,\n",
       "        85.06671038,  91.19228475, 115.46755803, 122.21459192,\n",
       "       123.07538442,  81.62670325,  78.67116827,  59.75735155,\n",
       "        53.04818746,  51.6856028 ,  54.88461234,  98.81799379,\n",
       "       104.00082769, 114.14735829, 124.48939592, 113.66337338,\n",
       "       105.70541996, 115.80712475,  99.28646926,  76.04245133,\n",
       "        79.75382199,  72.41942547,  65.5236381 ,  72.09235786,\n",
       "       102.34940873,  49.18061404,  70.32039031, 101.45546545,\n",
       "       112.95168456,  88.87467469, 119.9761639 , 109.51388128,\n",
       "       117.29122102, 130.79677164, 127.30755215, 127.92077398,\n",
       "       124.26296867,  99.53830486, 109.87364361,  99.76698794,\n",
       "       111.1082188 ,  71.02454537,  82.66678987, 102.54086736,\n",
       "        46.95963949,  95.84495175,  99.57852952,  43.03325153,\n",
       "        91.07125817,  98.01179798,  60.36111935,  74.15010683,\n",
       "        81.00573367,  58.82564099,  54.4093719 ,  85.50665828])"
      ]
     },
     "execution_count": 59,
     "metadata": {},
     "output_type": "execute_result"
    }
   ],
   "source": [
    "result"
   ]
  },
  {
   "cell_type": "code",
   "execution_count": 81,
   "metadata": {},
   "outputs": [],
   "source": [
    "data = pd.read_csv(\"droughtSST.csv\")\n",
    "data = data.iloc[:,1:]"
   ]
  },
  {
   "cell_type": "code",
   "execution_count": 82,
   "metadata": {},
   "outputs": [
    {
     "data": {
      "text/html": [
       "<div>\n",
       "<style scoped>\n",
       "    .dataframe tbody tr th:only-of-type {\n",
       "        vertical-align: middle;\n",
       "    }\n",
       "\n",
       "    .dataframe tbody tr th {\n",
       "        vertical-align: top;\n",
       "    }\n",
       "\n",
       "    .dataframe thead th {\n",
       "        text-align: right;\n",
       "    }\n",
       "</style>\n",
       "<table border=\"1\" class=\"dataframe\">\n",
       "  <thead>\n",
       "    <tr style=\"text-align: right;\">\n",
       "      <th></th>\n",
       "      <th>drought</th>\n",
       "      <th>sst</th>\n",
       "    </tr>\n",
       "  </thead>\n",
       "  <tbody>\n",
       "    <tr>\n",
       "      <td>0</td>\n",
       "      <td>30</td>\n",
       "      <td>-3.538382</td>\n",
       "    </tr>\n",
       "    <tr>\n",
       "      <td>1</td>\n",
       "      <td>32</td>\n",
       "      <td>-7.848510</td>\n",
       "    </tr>\n",
       "    <tr>\n",
       "      <td>2</td>\n",
       "      <td>30</td>\n",
       "      <td>-15.507652</td>\n",
       "    </tr>\n",
       "    <tr>\n",
       "      <td>3</td>\n",
       "      <td>30</td>\n",
       "      <td>-25.191986</td>\n",
       "    </tr>\n",
       "    <tr>\n",
       "      <td>4</td>\n",
       "      <td>10</td>\n",
       "      <td>-23.034614</td>\n",
       "    </tr>\n",
       "    <tr>\n",
       "      <td>...</td>\n",
       "      <td>...</td>\n",
       "      <td>...</td>\n",
       "    </tr>\n",
       "    <tr>\n",
       "      <td>451</td>\n",
       "      <td>26</td>\n",
       "      <td>34.922166</td>\n",
       "    </tr>\n",
       "    <tr>\n",
       "      <td>452</td>\n",
       "      <td>39</td>\n",
       "      <td>37.891602</td>\n",
       "    </tr>\n",
       "    <tr>\n",
       "      <td>453</td>\n",
       "      <td>61</td>\n",
       "      <td>44.742732</td>\n",
       "    </tr>\n",
       "    <tr>\n",
       "      <td>454</td>\n",
       "      <td>87</td>\n",
       "      <td>48.279216</td>\n",
       "    </tr>\n",
       "    <tr>\n",
       "      <td>455</td>\n",
       "      <td>82</td>\n",
       "      <td>44.709146</td>\n",
       "    </tr>\n",
       "  </tbody>\n",
       "</table>\n",
       "<p>456 rows × 2 columns</p>\n",
       "</div>"
      ],
      "text/plain": [
       "     drought        sst\n",
       "0         30  -3.538382\n",
       "1         32  -7.848510\n",
       "2         30 -15.507652\n",
       "3         30 -25.191986\n",
       "4         10 -23.034614\n",
       "..       ...        ...\n",
       "451       26  34.922166\n",
       "452       39  37.891602\n",
       "453       61  44.742732\n",
       "454       87  48.279216\n",
       "455       82  44.709146\n",
       "\n",
       "[456 rows x 2 columns]"
      ]
     },
     "execution_count": 82,
     "metadata": {},
     "output_type": "execute_result"
    }
   ],
   "source": [
    "data"
   ]
  },
  {
   "cell_type": "code",
   "execution_count": 85,
   "metadata": {},
   "outputs": [
    {
     "data": {
      "text/plain": [
       "<matplotlib.axes._subplots.AxesSubplot at 0x7f459c401f98>"
      ]
     },
     "execution_count": 85,
     "metadata": {},
     "output_type": "execute_result"
    },
    {
     "data": {
      "image/png": "[encoded data removed]",
      "text/plain": [
       "<Figure size 1440x720 with 1 Axes>"
      ]
     },
     "metadata": {
      "needs_background": "light"
     },
     "output_type": "display_data"
    }
   ],
   "source": [
    "data.plot()"
   ]
  },
  {
   "cell_type": "code",
   "execution_count": 87,
   "metadata": {},
   "outputs": [
    {
     "data": {
      "text/plain": [
       "49.23684210526316"
      ]
     },
     "execution_count": 87,
     "metadata": {},
     "output_type": "execute_result"
    }
   ],
   "source": [
    "data.drought.mean()"
   ]
  },
  {
   "cell_type": "code",
   "execution_count": 86,
   "metadata": {},
   "outputs": [
    {
     "data": {
      "text/plain": [
       "38.15533379252461"
      ]
     },
     "execution_count": 86,
     "metadata": {},
     "output_type": "execute_result"
    }
   ],
   "source": [
    "data.drought.std()"
   ]
  },
  {
   "cell_type": "markdown",
   "metadata": {},
   "source": [
    "# Tunning"
   ]
  },
  {
   "cell_type": "code",
   "execution_count": 21,
   "metadata": {},
   "outputs": [],
   "source": [
    "NUM_UNITS1 = [8]\n",
    "NUM_UNITS2 = [8]\n",
    "DROPOUTS = [0.1]\n",
    "OPTIMIZERS = ['RMSprop']"
   ]
  },
  {
   "cell_type": "code",
   "execution_count": null,
   "metadata": {},
   "outputs": [],
   "source": [
    "data = pd.read_csv(\"droughtSST.csv\")\n",
    "data = data.iloc[:,1:]\n",
    "\n",
    "n = 20\n",
    "# Set forecasting window length (in years)\n",
    "m = 1\n",
    "# Set annual sampling rate\n",
    "freq = 12\n",
    "n_steps = 12\n",
    "h = freq*m\n",
    "N = data.shape[0] - (n + m)*freq\n",
    "result_list = []\n",
    "for num_units1 in NUM_UNITS1:\n",
    "    for num_units2 in NUM_UNITS2:\n",
    "        for droupout in DROPOUTS:\n",
    "            for optimizer in OPTIMIZERS:\n",
    "                result = np.zeros(N)\n",
    "                result_witoutSST = np.zeros(N)\n",
    "                for index in range(N):\n",
    "\n",
    "                    \n",
    "                    raw_seq = data.iloc[index:index+(n+m)*freq,:]\n",
    "                    X,y = split_sequence(raw_seq.drought.values, n_steps)\n",
    "                    \n",
    "                    #No SST\n",
    "                    x_train, x_test = train_test_split_ts_2d_raw(X, h)\n",
    "                    y_train, y_test = train_test_split_ts_2d_raw(y, h)\n",
    "    \n",
    "                    model = tf.keras.Sequential([\n",
    "                    tf.keras.layers.InputLayer(input_shape = x_train.shape[1]),\n",
    "                    layers.Dense(num_units1, kernel_regularizer=tf.keras.regularizers.l2(0.001), activation=tf.nn.relu),\n",
    "                    layers.Dropout(droupout),\n",
    "                    layers.Dense(num_units2, kernel_regularizer=tf.keras.regularizers.l2(0.001), activation=tf.nn.relu),\n",
    "                    layers.Dense(1)\n",
    "                    ])\n",
    "\n",
    "                    model.compile(optimizer=optimizer,\n",
    "                        loss='mean_squared_error',\n",
    "                        metrics=['RootMeanSquaredError'])\n",
    "    \n",
    "                    model.fit(x_train, y_train, epochs=100, verbose=False) \n",
    " \n",
    "                    y_hat = forecast(np.append(x_train[-1][1:],np.array(y_train[-1])), model, h, n_steps)\n",
    "                    y_hat = np.reshape(y_hat,len(y_test))\n",
    "    \n",
    "                    result_witoutSST[index] = math.sqrt((y_hat[-1] - y_test[-1])**2) \n",
    "                                                   \n",
    "                    #SST\n",
    "                    sst = raw_seq.sst.values[n_steps:]\n",
    "\n",
    "                    X = np.hstack((X,sst.reshape(-1,1)))\n",
    "                    x_train, x_test = train_test_split_ts_2d_raw(X, h)\n",
    "                    y_train, y_test = train_test_split_ts_2d_raw(y, h)\n",
    "\n",
    "                    model = tf.keras.Sequential([\n",
    "                    tf.keras.layers.InputLayer(input_shape = x_train.shape[1]),\n",
    "                    layers.Dense(num_units1, kernel_regularizer=tf.keras.regularizers.l2(0.001), activation=tf.nn.relu),\n",
    "                    layers.Dropout(droupout),\n",
    "                    layers.Dense(num_units2, kernel_regularizer=tf.keras.regularizers.l2(0.001), activation=tf.nn.relu),\n",
    "                    layers.Dense(1)\n",
    "                    ])\n",
    "\n",
    "                    model.compile(optimizer=optimizer,\n",
    "                                loss='mean_squared_error',\n",
    "                                metrics=['RootMeanSquaredError'])\n",
    "\n",
    "                    model.fit(x_train, y_train, epochs=100, verbose=False) \n",
    "\n",
    "                    sst_last = sst[-12:]\n",
    "                    y_hat = forecast_sst(np.append(x_train[-1][1:-1],np.array(y_train[-1])),sst_last, model, h, n_steps)\n",
    "                    y_hat = np.reshape(y_hat,len(y_test))\n",
    "\n",
    "                    result[index] = math.sqrt((y_hat[-1] - y_test[-1])**2) \n",
    "                \n",
    "                fields=[num_units1, num_units2, droupout, optimizer,result.mean(), result_witoutSST.mean()]\n",
    "                print(fields)\n",
    "                with open('ET_resultTemp.csv', 'a') as f:\n",
    "                    writer = csv.writer(f)\n",
    "                    writer.writerow(fields)\n",
    "   \n",
    "        "
   ]
  },
  {
   "cell_type": "code",
   "execution_count": 20,
   "metadata": {},
   "outputs": [
    {
     "data": {
      "text/plain": [
       "(84,)"
      ]
     },
     "execution_count": 20,
     "metadata": {},
     "output_type": "execute_result"
    }
   ],
   "source": [
    "result.shape"
   ]
  },
  {
   "cell_type": "code",
   "execution_count": 19,
   "metadata": {},
   "outputs": [
    {
     "data": {
      "text/plain": [
       "(-0.08387063538326169, 0.5333193775352176)"
      ]
     },
     "execution_count": 19,
     "metadata": {},
     "output_type": "execute_result"
    }
   ],
   "source": [
    "studentT_test_one(result_witoutSST - result)"
   ]
  },
  {
   "cell_type": "code",
   "execution_count": 14,
   "metadata": {},
   "outputs": [],
   "source": [
    "def studentT_test_one(var, h_mean = 0):\n",
    "    n = len(var)\n",
    "    mean = np.mean(var)\n",
    "    std = np.std(var)\n",
    "\n",
    "    t_test = (mean - h_mean) / (std/math.sqrt(n)) \n",
    "    p_value = 1 - stats.t.cdf(t_test, n - 1)\n",
    "    \n",
    "    return(t_test, p_value)"
   ]
  },
  {
   "cell_type": "code",
   "execution_count": null,
   "metadata": {},
   "outputs": [],
   "source": [
    "[8, 8, 0.1, 'RMSprop', 36.22277104182571, 36.70123159943842]"
   ]
  },
  {
   "cell_type": "code",
   "execution_count": 63,
   "metadata": {},
   "outputs": [
    {
     "data": {
      "text/plain": [
       "(0.95574278106171, 0.17098883078613425)"
      ]
     },
     "execution_count": 63,
     "metadata": {},
     "output_type": "execute_result"
    }
   ],
   "source": [
    "studentT_test_one(result_witoutSST - result)"
   ]
  },
  {
   "cell_type": "code",
   "execution_count": 61,
   "metadata": {},
   "outputs": [
    {
     "data": {
      "text/plain": [
       "(0.48308786372333146, 0.3147769735447786)"
      ]
     },
     "execution_count": 61,
     "metadata": {},
     "output_type": "execute_result"
    }
   ],
   "source": [
    "studentT_test_one(result_witoutSST - result)"
   ]
  },
  {
   "cell_type": "code",
   "execution_count": 57,
   "metadata": {},
   "outputs": [
    {
     "data": {
      "text/plain": [
       "(0.42927716651614833, 0.3340883892473686)"
      ]
     },
     "execution_count": 57,
     "metadata": {},
     "output_type": "execute_result"
    }
   ],
   "source": [
    "studentT_test_one(result_witoutSST - result)"
   ]
  },
  {
   "cell_type": "code",
   "execution_count": 80,
   "metadata": {},
   "outputs": [
    {
     "data": {
      "text/plain": [
       "(1.6849546722177078, 0.04676699471780421)"
      ]
     },
     "execution_count": 80,
     "metadata": {},
     "output_type": "execute_result"
    }
   ],
   "source": [
    "studentT_test_one(result_witoutSST - result)"
   ]
  },
  {
   "cell_type": "markdown",
   "metadata": {},
   "source": [
    "p_value is 0.046"
   ]
  },
  {
   "cell_type": "markdown",
   "metadata": {},
   "source": [
    "# hyperparameter tuning"
   ]
  },
  {
   "cell_type": "code",
   "execution_count": 11,
   "metadata": {},
   "outputs": [],
   "source": [
    "data = pd.read_csv(\"droughtSST.csv\")\n",
    "data = data.iloc[:,1:]"
   ]
  },
  {
   "cell_type": "code",
   "execution_count": 18,
   "metadata": {},
   "outputs": [],
   "source": [
    "n = 20\n",
    "# Set forecasting window length (in years)\n",
    "m = 1\n",
    "# Set annual sampling rate\n",
    "f = 12\n",
    "n_steps = 10\n",
    "index = 0\n",
    "h = m*f"
   ]
  },
  {
   "cell_type": "code",
   "execution_count": 13,
   "metadata": {},
   "outputs": [],
   "source": [
    "raw_seq = data.iloc[index:index+(n+m)*f,:]"
   ]
  },
  {
   "cell_type": "code",
   "execution_count": 14,
   "metadata": {},
   "outputs": [],
   "source": [
    "X,y = split_sequence(raw_seq.drought.values, n_steps)"
   ]
  },
  {
   "cell_type": "code",
   "execution_count": 15,
   "metadata": {},
   "outputs": [],
   "source": [
    "sst = raw_seq.sst.values[n_steps:]"
   ]
  },
  {
   "cell_type": "code",
   "execution_count": 16,
   "metadata": {},
   "outputs": [],
   "source": [
    "X = np.hstack((X,sst.reshape(-1,1)))"
   ]
  },
  {
   "cell_type": "code",
   "execution_count": 19,
   "metadata": {},
   "outputs": [],
   "source": [
    "x_train, x_test = train_test_split_ts_2d_raw(X, h)\n",
    "y_train, y_test = train_test_split_ts_2d_raw(y, h)"
   ]
  },
  {
   "cell_type": "code",
   "execution_count": 20,
   "metadata": {},
   "outputs": [],
   "source": [
    "!rm -rf ./logs/\n",
    "\n",
    "%load_ext tensorboard"
   ]
  },
  {
   "cell_type": "code",
   "execution_count": 21,
   "metadata": {},
   "outputs": [
    {
     "name": "stdout",
     "output_type": "stream",
     "text": [
      "--- Starting trial: run-0\n",
      "{'num_units 1': 8, 'num_units 2': 8, 'dropout': 0.1, 'l2 regularizer': 0.001, 'optimizer': 'RMSprop'}\n",
      "12/12 [==============================] - 0s 5ms/sample - loss: 111.5802 - RootMeanSquaredError: 10.5625\n",
      "mis_rmse 10.562544822692871\n",
      "--- Starting trial: run-1\n",
      "{'num_units 1': 8, 'num_units 2': 8, 'dropout': 0.1, 'l2 regularizer': 0.001, 'optimizer': 'adam'}\n",
      "12/12 [==============================] - 0s 7ms/sample - loss: 182.2496 - RootMeanSquaredError: 13.4993\n",
      "--- Starting trial: run-2\n",
      "{'num_units 1': 8, 'num_units 2': 8, 'dropout': 0.1, 'l2 regularizer': 0.001, 'optimizer': 'sgd'}\n",
      "12/12 [==============================] - 0s 7ms/sample - loss: 661296381952.0000 - RootMeanSquaredError: 53.3397\n",
      "--- Starting trial: run-3\n",
      "{'num_units 1': 8, 'num_units 2': 8, 'dropout': 0.1, 'l2 regularizer': 0.01, 'optimizer': 'RMSprop'}\n",
      "12/12 [==============================] - 0s 5ms/sample - loss: 129.4499 - RootMeanSquaredError: 11.3768\n",
      "--- Starting trial: run-4\n",
      "{'num_units 1': 8, 'num_units 2': 8, 'dropout': 0.1, 'l2 regularizer': 0.01, 'optimizer': 'adam'}\n",
      "12/12 [==============================] - 0s 6ms/sample - loss: 91.3841 - RootMeanSquaredError: 9.5587\n",
      "mis_rmse 9.558722496032715\n",
      "--- Starting trial: run-5\n",
      "{'num_units 1': 8, 'num_units 2': 8, 'dropout': 0.1, 'l2 regularizer': 0.01, 'optimizer': 'sgd'}\n",
      "12/12 [==============================] - 0s 6ms/sample - loss: nan - RootMeanSquaredError: nan\n",
      "--- Starting trial: run-6\n",
      "{'num_units 1': 8, 'num_units 2': 8, 'dropout': 0.3, 'l2 regularizer': 0.001, 'optimizer': 'RMSprop'}\n",
      "12/12 [==============================] - 0s 6ms/sample - loss: 111.5101 - RootMeanSquaredError: 10.5590\n",
      "--- Starting trial: run-7\n",
      "{'num_units 1': 8, 'num_units 2': 8, 'dropout': 0.3, 'l2 regularizer': 0.001, 'optimizer': 'adam'}\n",
      "12/12 [==============================] - 0s 5ms/sample - loss: 170.8354 - RootMeanSquaredError: 13.0697\n",
      "--- Starting trial: run-8\n",
      "{'num_units 1': 8, 'num_units 2': 8, 'dropout': 0.3, 'l2 regularizer': 0.001, 'optimizer': 'sgd'}\n",
      "12/12 [==============================] - 0s 5ms/sample - loss: nan - RootMeanSquaredError: nan\n",
      "--- Starting trial: run-9\n",
      "{'num_units 1': 8, 'num_units 2': 8, 'dropout': 0.3, 'l2 regularizer': 0.01, 'optimizer': 'RMSprop'}\n",
      "12/12 [==============================] - 0s 5ms/sample - loss: 348.6690 - RootMeanSquaredError: 18.6722\n",
      "--- Starting trial: run-10\n",
      "{'num_units 1': 8, 'num_units 2': 8, 'dropout': 0.3, 'l2 regularizer': 0.01, 'optimizer': 'adam'}\n",
      "12/12 [==============================] - 0s 6ms/sample - loss: 241.9922 - RootMeanSquaredError: 15.5555\n",
      "--- Starting trial: run-11\n",
      "{'num_units 1': 8, 'num_units 2': 8, 'dropout': 0.3, 'l2 regularizer': 0.01, 'optimizer': 'sgd'}\n",
      "12/12 [==============================] - 0s 5ms/sample - loss: 151221814244650986242048.0000 - RootMeanSquaredError: 53.9109\n",
      "--- Starting trial: run-12\n",
      "{'num_units 1': 8, 'num_units 2': 16, 'dropout': 0.1, 'l2 regularizer': 0.001, 'optimizer': 'RMSprop'}\n",
      "12/12 [==============================] - 0s 6ms/sample - loss: 130.7936 - RootMeanSquaredError: 11.4356\n",
      "--- Starting trial: run-13\n",
      "{'num_units 1': 8, 'num_units 2': 16, 'dropout': 0.1, 'l2 regularizer': 0.001, 'optimizer': 'adam'}\n",
      "12/12 [==============================] - 0s 5ms/sample - loss: 172.6249 - RootMeanSquaredError: 13.1380\n",
      "--- Starting trial: run-14\n",
      "{'num_units 1': 8, 'num_units 2': 16, 'dropout': 0.1, 'l2 regularizer': 0.001, 'optimizer': 'sgd'}\n",
      "12/12 [==============================] - 0s 5ms/sample - loss: 506671178074713751552.0000 - RootMeanSquaredError: 53.5285\n",
      "--- Starting trial: run-15\n",
      "{'num_units 1': 8, 'num_units 2': 16, 'dropout': 0.1, 'l2 regularizer': 0.01, 'optimizer': 'RMSprop'}\n",
      "12/12 [==============================] - 0s 8ms/sample - loss: 130.1691 - RootMeanSquaredError: 11.4083\n",
      "--- Starting trial: run-16\n",
      "{'num_units 1': 8, 'num_units 2': 16, 'dropout': 0.1, 'l2 regularizer': 0.01, 'optimizer': 'adam'}\n",
      "12/12 [==============================] - 0s 6ms/sample - loss: 294.1960 - RootMeanSquaredError: 17.1516\n",
      "--- Starting trial: run-17\n",
      "{'num_units 1': 8, 'num_units 2': 16, 'dropout': 0.1, 'l2 regularizer': 0.01, 'optimizer': 'sgd'}\n",
      "12/12 [==============================] - 0s 5ms/sample - loss: 105846334027391303680.0000 - RootMeanSquaredError: 58.7676\n",
      "--- Starting trial: run-18\n",
      "{'num_units 1': 8, 'num_units 2': 16, 'dropout': 0.3, 'l2 regularizer': 0.001, 'optimizer': 'RMSprop'}\n",
      "12/12 [==============================] - 0s 5ms/sample - loss: 58.0929 - RootMeanSquaredError: 7.6206\n",
      "mis_rmse 7.620621204376221\n",
      "--- Starting trial: run-19\n",
      "{'num_units 1': 8, 'num_units 2': 16, 'dropout': 0.3, 'l2 regularizer': 0.001, 'optimizer': 'adam'}\n",
      "12/12 [==============================] - 0s 5ms/sample - loss: 164.2420 - RootMeanSquaredError: 12.8151\n",
      "--- Starting trial: run-20\n",
      "{'num_units 1': 8, 'num_units 2': 16, 'dropout': 0.3, 'l2 regularizer': 0.001, 'optimizer': 'sgd'}\n",
      "12/12 [==============================] - 0s 5ms/sample - loss: 1166697101073299013632.0000 - RootMeanSquaredError: 64.6131\n",
      "--- Starting trial: run-21\n",
      "{'num_units 1': 8, 'num_units 2': 16, 'dropout': 0.3, 'l2 regularizer': 0.01, 'optimizer': 'RMSprop'}\n",
      "12/12 [==============================] - 0s 5ms/sample - loss: 40.3053 - RootMeanSquaredError: 6.3471\n",
      "mis_rmse 6.347055435180664\n",
      "--- Starting trial: run-22\n",
      "{'num_units 1': 8, 'num_units 2': 16, 'dropout': 0.3, 'l2 regularizer': 0.01, 'optimizer': 'adam'}\n",
      "12/12 [==============================] - 0s 5ms/sample - loss: 198.8015 - RootMeanSquaredError: 14.0991\n",
      "--- Starting trial: run-23\n",
      "{'num_units 1': 8, 'num_units 2': 16, 'dropout': 0.3, 'l2 regularizer': 0.01, 'optimizer': 'sgd'}\n",
      "12/12 [==============================] - 0s 5ms/sample - loss: nan - RootMeanSquaredError: nan\n",
      "--- Starting trial: run-24\n",
      "{'num_units 1': 8, 'num_units 2': 32, 'dropout': 0.1, 'l2 regularizer': 0.001, 'optimizer': 'RMSprop'}\n",
      "12/12 [==============================] - 0s 5ms/sample - loss: 121.0246 - RootMeanSquaredError: 11.0002\n",
      "--- Starting trial: run-25\n",
      "{'num_units 1': 8, 'num_units 2': 32, 'dropout': 0.1, 'l2 regularizer': 0.001, 'optimizer': 'adam'}\n",
      "12/12 [==============================] - 0s 5ms/sample - loss: 67.0197 - RootMeanSquaredError: 8.1853\n",
      "--- Starting trial: run-26\n",
      "{'num_units 1': 8, 'num_units 2': 32, 'dropout': 0.1, 'l2 regularizer': 0.001, 'optimizer': 'sgd'}\n",
      "12/12 [==============================] - 0s 5ms/sample - loss: 8025422417273571770368.0000 - RootMeanSquaredError: 81986.6875\n",
      "--- Starting trial: run-27\n",
      "{'num_units 1': 8, 'num_units 2': 32, 'dropout': 0.1, 'l2 regularizer': 0.01, 'optimizer': 'RMSprop'}\n",
      "12/12 [==============================] - 0s 5ms/sample - loss: 178.6954 - RootMeanSquaredError: 13.3669\n",
      "--- Starting trial: run-28\n",
      "{'num_units 1': 8, 'num_units 2': 32, 'dropout': 0.1, 'l2 regularizer': 0.01, 'optimizer': 'adam'}\n",
      "12/12 [==============================] - 0s 5ms/sample - loss: 56.4712 - RootMeanSquaredError: 7.5131\n",
      "--- Starting trial: run-29\n",
      "{'num_units 1': 8, 'num_units 2': 32, 'dropout': 0.1, 'l2 regularizer': 0.01, 'optimizer': 'sgd'}\n",
      "12/12 [==============================] - 0s 5ms/sample - loss: nan - RootMeanSquaredError: nan\n",
      "--- Starting trial: run-30\n",
      "{'num_units 1': 8, 'num_units 2': 32, 'dropout': 0.3, 'l2 regularizer': 0.001, 'optimizer': 'RMSprop'}\n",
      "12/12 [==============================] - 0s 5ms/sample - loss: 246.7774 - RootMeanSquaredError: 15.7086\n",
      "--- Starting trial: run-31\n",
      "{'num_units 1': 8, 'num_units 2': 32, 'dropout': 0.3, 'l2 regularizer': 0.001, 'optimizer': 'adam'}\n",
      "12/12 [==============================] - 0s 6ms/sample - loss: 163.3110 - RootMeanSquaredError: 12.7784\n",
      "--- Starting trial: run-32\n",
      "{'num_units 1': 8, 'num_units 2': 32, 'dropout': 0.3, 'l2 regularizer': 0.001, 'optimizer': 'sgd'}\n",
      "12/12 [==============================] - 0s 5ms/sample - loss: nan - RootMeanSquaredError: nan\n",
      "--- Starting trial: run-33\n",
      "{'num_units 1': 8, 'num_units 2': 32, 'dropout': 0.3, 'l2 regularizer': 0.01, 'optimizer': 'RMSprop'}\n",
      "12/12 [==============================] - 0s 5ms/sample - loss: 137.1670 - RootMeanSquaredError: 11.7110\n",
      "--- Starting trial: run-34\n",
      "{'num_units 1': 8, 'num_units 2': 32, 'dropout': 0.3, 'l2 regularizer': 0.01, 'optimizer': 'adam'}\n",
      "12/12 [==============================] - 0s 5ms/sample - loss: 99.7002 - RootMeanSquaredError: 9.9838\n"
     ]
    },
    {
     "name": "stdout",
     "output_type": "stream",
     "text": [
      "--- Starting trial: run-35\n",
      "{'num_units 1': 8, 'num_units 2': 32, 'dropout': 0.3, 'l2 regularizer': 0.01, 'optimizer': 'sgd'}\n",
      "12/12 [==============================] - 0s 7ms/sample - loss: nan - RootMeanSquaredError: nan\n",
      "--- Starting trial: run-36\n",
      "{'num_units 1': 16, 'num_units 2': 8, 'dropout': 0.1, 'l2 regularizer': 0.001, 'optimizer': 'RMSprop'}\n",
      "12/12 [==============================] - 0s 20ms/sample - loss: 89.1731 - RootMeanSquaredError: 9.4419\n",
      "--- Starting trial: run-37\n",
      "{'num_units 1': 16, 'num_units 2': 8, 'dropout': 0.1, 'l2 regularizer': 0.001, 'optimizer': 'adam'}\n",
      "12/12 [==============================] - 0s 5ms/sample - loss: 97.7612 - RootMeanSquaredError: 9.8861\n",
      "--- Starting trial: run-38\n",
      "{'num_units 1': 16, 'num_units 2': 8, 'dropout': 0.1, 'l2 regularizer': 0.001, 'optimizer': 'sgd'}\n",
      "12/12 [==============================] - 0s 5ms/sample - loss: inf - RootMeanSquaredError: 36797.2930\n",
      "--- Starting trial: run-39\n",
      "{'num_units 1': 16, 'num_units 2': 8, 'dropout': 0.1, 'l2 regularizer': 0.01, 'optimizer': 'RMSprop'}\n",
      "12/12 [==============================] - 0s 5ms/sample - loss: 122.7677 - RootMeanSquaredError: 11.0791\n",
      "--- Starting trial: run-40\n",
      "{'num_units 1': 16, 'num_units 2': 8, 'dropout': 0.1, 'l2 regularizer': 0.01, 'optimizer': 'adam'}\n",
      "12/12 [==============================] - 0s 5ms/sample - loss: 210.4744 - RootMeanSquaredError: 14.5071\n",
      "--- Starting trial: run-41\n",
      "{'num_units 1': 16, 'num_units 2': 8, 'dropout': 0.1, 'l2 regularizer': 0.01, 'optimizer': 'sgd'}\n",
      "12/12 [==============================] - 0s 6ms/sample - loss: 261297748133747498787433681896079360.0000 - RootMeanSquaredError: 2328.0310\n",
      "--- Starting trial: run-42\n",
      "{'num_units 1': 16, 'num_units 2': 8, 'dropout': 0.3, 'l2 regularizer': 0.001, 'optimizer': 'RMSprop'}\n",
      "12/12 [==============================] - 0s 5ms/sample - loss: 49.1598 - RootMeanSquaredError: 7.0100\n",
      "--- Starting trial: run-43\n",
      "{'num_units 1': 16, 'num_units 2': 8, 'dropout': 0.3, 'l2 regularizer': 0.001, 'optimizer': 'adam'}\n",
      "12/12 [==============================] - 0s 6ms/sample - loss: 128.9510 - RootMeanSquaredError: 11.3548\n",
      "--- Starting trial: run-44\n",
      "{'num_units 1': 16, 'num_units 2': 8, 'dropout': 0.3, 'l2 regularizer': 0.001, 'optimizer': 'sgd'}\n",
      "12/12 [==============================] - 0s 5ms/sample - loss: nan - RootMeanSquaredError: nan\n",
      "--- Starting trial: run-45\n",
      "{'num_units 1': 16, 'num_units 2': 8, 'dropout': 0.3, 'l2 regularizer': 0.01, 'optimizer': 'RMSprop'}\n",
      "12/12 [==============================] - 0s 5ms/sample - loss: 91.1662 - RootMeanSquaredError: 9.5468\n",
      "--- Starting trial: run-46\n",
      "{'num_units 1': 16, 'num_units 2': 8, 'dropout': 0.3, 'l2 regularizer': 0.01, 'optimizer': 'adam'}\n",
      "12/12 [==============================] - 0s 5ms/sample - loss: 68.3141 - RootMeanSquaredError: 8.2639\n",
      "--- Starting trial: run-47\n",
      "{'num_units 1': 16, 'num_units 2': 8, 'dropout': 0.3, 'l2 regularizer': 0.01, 'optimizer': 'sgd'}\n",
      "12/12 [==============================] - 0s 5ms/sample - loss: nan - RootMeanSquaredError: nan\n",
      "--- Starting trial: run-48\n",
      "{'num_units 1': 16, 'num_units 2': 16, 'dropout': 0.1, 'l2 regularizer': 0.001, 'optimizer': 'RMSprop'}\n",
      "12/12 [==============================] - 0s 5ms/sample - loss: 98.7789 - RootMeanSquaredError: 9.9376\n",
      "--- Starting trial: run-49\n",
      "{'num_units 1': 16, 'num_units 2': 16, 'dropout': 0.1, 'l2 regularizer': 0.001, 'optimizer': 'adam'}\n",
      "12/12 [==============================] - 0s 5ms/sample - loss: 182.6924 - RootMeanSquaredError: 13.5153\n",
      "--- Starting trial: run-50\n",
      "{'num_units 1': 16, 'num_units 2': 16, 'dropout': 0.1, 'l2 regularizer': 0.001, 'optimizer': 'sgd'}\n",
      "12/12 [==============================] - 0s 5ms/sample - loss: nan - RootMeanSquaredError: nan\n",
      "--- Starting trial: run-51\n",
      "{'num_units 1': 16, 'num_units 2': 16, 'dropout': 0.1, 'l2 regularizer': 0.01, 'optimizer': 'RMSprop'}\n",
      "12/12 [==============================] - 0s 5ms/sample - loss: 210.0723 - RootMeanSquaredError: 14.4931\n",
      "--- Starting trial: run-52\n",
      "{'num_units 1': 16, 'num_units 2': 16, 'dropout': 0.1, 'l2 regularizer': 0.01, 'optimizer': 'adam'}\n",
      "12/12 [==============================] - 0s 5ms/sample - loss: 97.6554 - RootMeanSquaredError: 9.8807\n",
      "--- Starting trial: run-53\n",
      "{'num_units 1': 16, 'num_units 2': 16, 'dropout': 0.1, 'l2 regularizer': 0.01, 'optimizer': 'sgd'}\n",
      "12/12 [==============================] - 0s 5ms/sample - loss: nan - RootMeanSquaredError: nan\n",
      "--- Starting trial: run-54\n",
      "{'num_units 1': 16, 'num_units 2': 16, 'dropout': 0.3, 'l2 regularizer': 0.001, 'optimizer': 'RMSprop'}\n",
      "12/12 [==============================] - 0s 5ms/sample - loss: 50.0661 - RootMeanSquaredError: 7.0739\n",
      "--- Starting trial: run-55\n",
      "{'num_units 1': 16, 'num_units 2': 16, 'dropout': 0.3, 'l2 regularizer': 0.001, 'optimizer': 'adam'}\n",
      "12/12 [==============================] - 0s 5ms/sample - loss: 54.2782 - RootMeanSquaredError: 7.3655\n",
      "--- Starting trial: run-56\n",
      "{'num_units 1': 16, 'num_units 2': 16, 'dropout': 0.3, 'l2 regularizer': 0.001, 'optimizer': 'sgd'}\n",
      "12/12 [==============================] - 0s 5ms/sample - loss: nan - RootMeanSquaredError: nan\n",
      "--- Starting trial: run-57\n",
      "{'num_units 1': 16, 'num_units 2': 16, 'dropout': 0.3, 'l2 regularizer': 0.01, 'optimizer': 'RMSprop'}\n",
      "12/12 [==============================] - 0s 5ms/sample - loss: 74.7096 - RootMeanSquaredError: 8.6420\n",
      "--- Starting trial: run-58\n",
      "{'num_units 1': 16, 'num_units 2': 16, 'dropout': 0.3, 'l2 regularizer': 0.01, 'optimizer': 'adam'}\n",
      "12/12 [==============================] - 0s 5ms/sample - loss: 89.2961 - RootMeanSquaredError: 9.4481\n",
      "--- Starting trial: run-59\n",
      "{'num_units 1': 16, 'num_units 2': 16, 'dropout': 0.3, 'l2 regularizer': 0.01, 'optimizer': 'sgd'}\n",
      "12/12 [==============================] - 0s 5ms/sample - loss: nan - RootMeanSquaredError: nan\n",
      "--- Starting trial: run-60\n",
      "{'num_units 1': 16, 'num_units 2': 32, 'dropout': 0.1, 'l2 regularizer': 0.001, 'optimizer': 'RMSprop'}\n",
      "12/12 [==============================] - 0s 5ms/sample - loss: 134.8469 - RootMeanSquaredError: 11.6110\n",
      "--- Starting trial: run-61\n",
      "{'num_units 1': 16, 'num_units 2': 32, 'dropout': 0.1, 'l2 regularizer': 0.001, 'optimizer': 'adam'}\n",
      "12/12 [==============================] - 0s 5ms/sample - loss: 123.8766 - RootMeanSquaredError: 11.1283\n",
      "--- Starting trial: run-62\n",
      "{'num_units 1': 16, 'num_units 2': 32, 'dropout': 0.1, 'l2 regularizer': 0.001, 'optimizer': 'sgd'}\n",
      "12/12 [==============================] - 0s 5ms/sample - loss: nan - RootMeanSquaredError: nan\n",
      "--- Starting trial: run-63\n",
      "{'num_units 1': 16, 'num_units 2': 32, 'dropout': 0.1, 'l2 regularizer': 0.01, 'optimizer': 'RMSprop'}\n",
      "12/12 [==============================] - 0s 5ms/sample - loss: 26.3761 - RootMeanSquaredError: 5.1328\n",
      "mis_rmse 5.132754325866699\n",
      "--- Starting trial: run-64\n",
      "{'num_units 1': 16, 'num_units 2': 32, 'dropout': 0.1, 'l2 regularizer': 0.01, 'optimizer': 'adam'}\n",
      "12/12 [==============================] - 0s 5ms/sample - loss: 651.4907 - RootMeanSquaredError: 25.5236\n",
      "--- Starting trial: run-65\n",
      "{'num_units 1': 16, 'num_units 2': 32, 'dropout': 0.1, 'l2 regularizer': 0.01, 'optimizer': 'sgd'}\n",
      "12/12 [==============================] - 0s 5ms/sample - loss: nan - RootMeanSquaredError: nan\n",
      "--- Starting trial: run-66\n",
      "{'num_units 1': 16, 'num_units 2': 32, 'dropout': 0.3, 'l2 regularizer': 0.001, 'optimizer': 'RMSprop'}\n",
      "12/12 [==============================] - 0s 6ms/sample - loss: 65.5319 - RootMeanSquaredError: 8.0932\n",
      "--- Starting trial: run-67\n",
      "{'num_units 1': 16, 'num_units 2': 32, 'dropout': 0.3, 'l2 regularizer': 0.001, 'optimizer': 'adam'}\n",
      "12/12 [==============================] - 0s 6ms/sample - loss: 28.7820 - RootMeanSquaredError: 5.3622\n",
      "--- Starting trial: run-68\n",
      "{'num_units 1': 16, 'num_units 2': 32, 'dropout': 0.3, 'l2 regularizer': 0.001, 'optimizer': 'sgd'}\n",
      "12/12 [==============================] - 0s 5ms/sample - loss: nan - RootMeanSquaredError: nan\n",
      "--- Starting trial: run-69\n",
      "{'num_units 1': 16, 'num_units 2': 32, 'dropout': 0.3, 'l2 regularizer': 0.01, 'optimizer': 'RMSprop'}\n",
      "12/12 [==============================] - 0s 5ms/sample - loss: 46.1741 - RootMeanSquaredError: 6.7927\n",
      "--- Starting trial: run-70\n",
      "{'num_units 1': 16, 'num_units 2': 32, 'dropout': 0.3, 'l2 regularizer': 0.01, 'optimizer': 'adam'}\n",
      "12/12 [==============================] - 0s 5ms/sample - loss: 78.4228 - RootMeanSquaredError: 8.8538\n"
     ]
    },
    {
     "name": "stdout",
     "output_type": "stream",
     "text": [
      "--- Starting trial: run-71\n",
      "{'num_units 1': 16, 'num_units 2': 32, 'dropout': 0.3, 'l2 regularizer': 0.01, 'optimizer': 'sgd'}\n",
      "12/12 [==============================] - 0s 5ms/sample - loss: 23286118992108499463978352640.0000 - RootMeanSquaredError: 152597889548288.0000\n",
      "--- Starting trial: run-72\n",
      "{'num_units 1': 32, 'num_units 2': 8, 'dropout': 0.1, 'l2 regularizer': 0.001, 'optimizer': 'RMSprop'}\n",
      "12/12 [==============================] - 0s 6ms/sample - loss: 106.9525 - RootMeanSquaredError: 10.3404\n",
      "--- Starting trial: run-73\n",
      "{'num_units 1': 32, 'num_units 2': 8, 'dropout': 0.1, 'l2 regularizer': 0.001, 'optimizer': 'adam'}\n",
      "12/12 [==============================] - 0s 5ms/sample - loss: 153.7696 - RootMeanSquaredError: 12.3993\n",
      "--- Starting trial: run-74\n",
      "{'num_units 1': 32, 'num_units 2': 8, 'dropout': 0.1, 'l2 regularizer': 0.001, 'optimizer': 'sgd'}\n",
      "12/12 [==============================] - 0s 5ms/sample - loss: nan - RootMeanSquaredError: nan\n",
      "--- Starting trial: run-75\n",
      "{'num_units 1': 32, 'num_units 2': 8, 'dropout': 0.1, 'l2 regularizer': 0.01, 'optimizer': 'RMSprop'}\n",
      "12/12 [==============================] - 0s 5ms/sample - loss: 74.0837 - RootMeanSquaredError: 8.6056\n",
      "--- Starting trial: run-76\n",
      "{'num_units 1': 32, 'num_units 2': 8, 'dropout': 0.1, 'l2 regularizer': 0.01, 'optimizer': 'adam'}\n",
      "12/12 [==============================] - 0s 5ms/sample - loss: 78.9207 - RootMeanSquaredError: 8.8820\n",
      "--- Starting trial: run-77\n",
      "{'num_units 1': 32, 'num_units 2': 8, 'dropout': 0.1, 'l2 regularizer': 0.01, 'optimizer': 'sgd'}\n",
      "12/12 [==============================] - 0s 5ms/sample - loss: nan - RootMeanSquaredError: nan\n",
      "--- Starting trial: run-78\n",
      "{'num_units 1': 32, 'num_units 2': 8, 'dropout': 0.3, 'l2 regularizer': 0.001, 'optimizer': 'RMSprop'}\n",
      "12/12 [==============================] - 0s 5ms/sample - loss: 49.6937 - RootMeanSquaredError: 7.0475\n",
      "--- Starting trial: run-79\n",
      "{'num_units 1': 32, 'num_units 2': 8, 'dropout': 0.3, 'l2 regularizer': 0.001, 'optimizer': 'adam'}\n",
      "12/12 [==============================] - 0s 5ms/sample - loss: 113.3054 - RootMeanSquaredError: 10.6433\n",
      "--- Starting trial: run-80\n",
      "{'num_units 1': 32, 'num_units 2': 8, 'dropout': 0.3, 'l2 regularizer': 0.001, 'optimizer': 'sgd'}\n",
      "12/12 [==============================] - 0s 5ms/sample - loss: nan - RootMeanSquaredError: nan\n",
      "--- Starting trial: run-81\n",
      "{'num_units 1': 32, 'num_units 2': 8, 'dropout': 0.3, 'l2 regularizer': 0.01, 'optimizer': 'RMSprop'}\n",
      "12/12 [==============================] - 0s 5ms/sample - loss: 16.3650 - RootMeanSquaredError: 4.0423\n",
      "mis_rmse 4.0423407554626465\n",
      "--- Starting trial: run-82\n",
      "{'num_units 1': 32, 'num_units 2': 8, 'dropout': 0.3, 'l2 regularizer': 0.01, 'optimizer': 'adam'}\n",
      "12/12 [==============================] - 0s 25ms/sample - loss: 91.5661 - RootMeanSquaredError: 9.5675\n",
      "--- Starting trial: run-83\n",
      "{'num_units 1': 32, 'num_units 2': 8, 'dropout': 0.3, 'l2 regularizer': 0.01, 'optimizer': 'sgd'}\n",
      "12/12 [==============================] - 0s 5ms/sample - loss: nan - RootMeanSquaredError: nan\n",
      "--- Starting trial: run-84\n",
      "{'num_units 1': 32, 'num_units 2': 16, 'dropout': 0.1, 'l2 regularizer': 0.001, 'optimizer': 'RMSprop'}\n",
      "12/12 [==============================] - 0s 5ms/sample - loss: 107.4287 - RootMeanSquaredError: 10.3633\n",
      "--- Starting trial: run-85\n",
      "{'num_units 1': 32, 'num_units 2': 16, 'dropout': 0.1, 'l2 regularizer': 0.001, 'optimizer': 'adam'}\n",
      "12/12 [==============================] - 0s 5ms/sample - loss: 86.9559 - RootMeanSquaredError: 9.3230\n",
      "--- Starting trial: run-86\n",
      "{'num_units 1': 32, 'num_units 2': 16, 'dropout': 0.1, 'l2 regularizer': 0.001, 'optimizer': 'sgd'}\n",
      "12/12 [==============================] - 0s 5ms/sample - loss: nan - RootMeanSquaredError: nan\n",
      "--- Starting trial: run-87\n",
      "{'num_units 1': 32, 'num_units 2': 16, 'dropout': 0.1, 'l2 regularizer': 0.01, 'optimizer': 'RMSprop'}\n",
      "12/12 [==============================] - 0s 5ms/sample - loss: 76.9719 - RootMeanSquaredError: 8.7711\n",
      "--- Starting trial: run-88\n",
      "{'num_units 1': 32, 'num_units 2': 16, 'dropout': 0.1, 'l2 regularizer': 0.01, 'optimizer': 'adam'}\n",
      "12/12 [==============================] - 0s 5ms/sample - loss: 48.7601 - RootMeanSquaredError: 6.9804\n",
      "--- Starting trial: run-89\n",
      "{'num_units 1': 32, 'num_units 2': 16, 'dropout': 0.1, 'l2 regularizer': 0.01, 'optimizer': 'sgd'}\n",
      "12/12 [==============================] - 0s 5ms/sample - loss: nan - RootMeanSquaredError: nan\n",
      "--- Starting trial: run-90\n",
      "{'num_units 1': 32, 'num_units 2': 16, 'dropout': 0.3, 'l2 regularizer': 0.001, 'optimizer': 'RMSprop'}\n",
      "12/12 [==============================] - 0s 5ms/sample - loss: 43.0355 - RootMeanSquaredError: 6.5575\n",
      "--- Starting trial: run-91\n",
      "{'num_units 1': 32, 'num_units 2': 16, 'dropout': 0.3, 'l2 regularizer': 0.001, 'optimizer': 'adam'}\n",
      "12/12 [==============================] - 0s 5ms/sample - loss: 52.2898 - RootMeanSquaredError: 7.2285\n",
      "--- Starting trial: run-92\n",
      "{'num_units 1': 32, 'num_units 2': 16, 'dropout': 0.3, 'l2 regularizer': 0.001, 'optimizer': 'sgd'}\n",
      "12/12 [==============================] - 0s 5ms/sample - loss: nan - RootMeanSquaredError: nan\n",
      "--- Starting trial: run-93\n",
      "{'num_units 1': 32, 'num_units 2': 16, 'dropout': 0.3, 'l2 regularizer': 0.01, 'optimizer': 'RMSprop'}\n",
      "12/12 [==============================] - 0s 5ms/sample - loss: 82.9665 - RootMeanSquaredError: 9.1067\n",
      "--- Starting trial: run-94\n",
      "{'num_units 1': 32, 'num_units 2': 16, 'dropout': 0.3, 'l2 regularizer': 0.01, 'optimizer': 'adam'}\n",
      "12/12 [==============================] - 0s 5ms/sample - loss: 154.8404 - RootMeanSquaredError: 12.4419\n",
      "--- Starting trial: run-95\n",
      "{'num_units 1': 32, 'num_units 2': 16, 'dropout': 0.3, 'l2 regularizer': 0.01, 'optimizer': 'sgd'}\n",
      "12/12 [==============================] - 0s 5ms/sample - loss: nan - RootMeanSquaredError: nan\n",
      "--- Starting trial: run-96\n",
      "{'num_units 1': 32, 'num_units 2': 32, 'dropout': 0.1, 'l2 regularizer': 0.001, 'optimizer': 'RMSprop'}\n",
      "12/12 [==============================] - 0s 5ms/sample - loss: 196.7562 - RootMeanSquaredError: 14.0254\n",
      "--- Starting trial: run-97\n",
      "{'num_units 1': 32, 'num_units 2': 32, 'dropout': 0.1, 'l2 regularizer': 0.001, 'optimizer': 'adam'}\n",
      "12/12 [==============================] - 0s 5ms/sample - loss: 78.4487 - RootMeanSquaredError: 8.8544\n",
      "--- Starting trial: run-98\n",
      "{'num_units 1': 32, 'num_units 2': 32, 'dropout': 0.1, 'l2 regularizer': 0.001, 'optimizer': 'sgd'}\n",
      "12/12 [==============================] - 0s 5ms/sample - loss: nan - RootMeanSquaredError: nan\n",
      "--- Starting trial: run-99\n",
      "{'num_units 1': 32, 'num_units 2': 32, 'dropout': 0.1, 'l2 regularizer': 0.01, 'optimizer': 'RMSprop'}\n",
      "12/12 [==============================] - 0s 5ms/sample - loss: 127.7447 - RootMeanSquaredError: 11.3003\n",
      "--- Starting trial: run-100\n",
      "{'num_units 1': 32, 'num_units 2': 32, 'dropout': 0.1, 'l2 regularizer': 0.01, 'optimizer': 'adam'}\n",
      "12/12 [==============================] - 0s 5ms/sample - loss: 136.6754 - RootMeanSquaredError: 11.6886\n",
      "--- Starting trial: run-101\n",
      "{'num_units 1': 32, 'num_units 2': 32, 'dropout': 0.1, 'l2 regularizer': 0.01, 'optimizer': 'sgd'}\n",
      "12/12 [==============================] - 0s 5ms/sample - loss: nan - RootMeanSquaredError: nan\n",
      "--- Starting trial: run-102\n",
      "{'num_units 1': 32, 'num_units 2': 32, 'dropout': 0.3, 'l2 regularizer': 0.001, 'optimizer': 'RMSprop'}\n",
      "12/12 [==============================] - 0s 5ms/sample - loss: 34.7495 - RootMeanSquaredError: 5.8914\n",
      "--- Starting trial: run-103\n",
      "{'num_units 1': 32, 'num_units 2': 32, 'dropout': 0.3, 'l2 regularizer': 0.001, 'optimizer': 'adam'}\n",
      "12/12 [==============================] - 0s 6ms/sample - loss: 45.2638 - RootMeanSquaredError: 6.7244\n",
      "--- Starting trial: run-104\n",
      "{'num_units 1': 32, 'num_units 2': 32, 'dropout': 0.3, 'l2 regularizer': 0.001, 'optimizer': 'sgd'}\n",
      "12/12 [==============================] - 0s 5ms/sample - loss: nan - RootMeanSquaredError: nan\n",
      "--- Starting trial: run-105\n",
      "{'num_units 1': 32, 'num_units 2': 32, 'dropout': 0.3, 'l2 regularizer': 0.01, 'optimizer': 'RMSprop'}\n",
      "12/12 [==============================] - 0s 5ms/sample - loss: 47.4387 - RootMeanSquaredError: 6.8841\n",
      "--- Starting trial: run-106\n",
      "{'num_units 1': 32, 'num_units 2': 32, 'dropout': 0.3, 'l2 regularizer': 0.01, 'optimizer': 'adam'}\n",
      "12/12 [==============================] - 0s 5ms/sample - loss: 36.7822 - RootMeanSquaredError: 6.0608\n"
     ]
    },
    {
     "name": "stdout",
     "output_type": "stream",
     "text": [
      "--- Starting trial: run-107\n",
      "{'num_units 1': 32, 'num_units 2': 32, 'dropout': 0.3, 'l2 regularizer': 0.01, 'optimizer': 'sgd'}\n",
      "12/12 [==============================] - 0s 5ms/sample - loss: nan - RootMeanSquaredError: nan\n"
     ]
    }
   ],
   "source": [
    "HP_NUM_UNITS1 = hp.HParam('num_units 1', hp.Discrete([8,16,32])) \n",
    "HP_NUM_UNITS2 = hp.HParam('num_units 2', hp.Discrete([8,16,32]))\n",
    "HP_DROPOUT = hp.HParam('dropout', hp.RealInterval(0.1, 0.3))\n",
    "HP_OPTIMIZER = hp.HParam('optimizer', hp.Discrete(['adam', 'sgd','RMSprop']))\n",
    "HP_L2 = hp.HParam('l2 regularizer', hp.RealInterval(.001,.01))\n",
    "METRIC_RMSE = 'RootMeanSquaredError'\n",
    "\n",
    "with tf.summary.create_file_writer('logs/hparam_tuning').as_default():\n",
    "    hp.hparams_config(\n",
    "    hparams=[HP_NUM_UNITS1,HP_NUM_UNITS2, HP_DROPOUT,HP_L2 ,HP_OPTIMIZER],\n",
    "    metrics=[hp.Metric(METRIC_RMSE, display_name='RMSE')],\n",
    "  )\n",
    "\n",
    "def train_test_model(hparams):\n",
    "    model = tf.keras.Sequential([\n",
    "        tf.keras.layers.InputLayer(input_shape = x_train.shape[1]),\n",
    "        layers.Dense(hparams[HP_NUM_UNITS1], kernel_regularizer=tf.keras.regularizers.l2(0.001), activation=tf.nn.relu),\n",
    "        layers.Dropout(hparams[HP_DROPOUT]),\n",
    "        layers.Dense(hparams[HP_NUM_UNITS2], kernel_regularizer=tf.keras.regularizers.l2(0.001), activation=tf.nn.relu),\n",
    "        layers.Dense(1)\n",
    "    ])\n",
    "\n",
    "    model.compile(optimizer=hparams[HP_OPTIMIZER],\n",
    "                loss='mean_squared_error',\n",
    "                metrics=['RootMeanSquaredError'])\n",
    "\n",
    "    model.fit(x_train, y_train, epochs=100,verbose=False) \n",
    "    _, rmse = model.evaluate(x_test, y_test)\n",
    "    return rmse\n",
    "\n",
    "def run(run_dir, hparams):\n",
    "    with tf.summary.create_file_writer(run_dir).as_default():\n",
    "        hp.hparams(hparams)  # record the values used in this trial\n",
    "        rmse = train_test_model(hparams)\n",
    "        tf.summary.scalar(METRIC_RMSE, rmse, step=1)\n",
    "    return(rmse, hparams)\n",
    "\n",
    "session_num = 0\n",
    "min_rmse = float('inf')\n",
    "best_hparams = {}\n",
    "for num_units1 in HP_NUM_UNITS1.domain.values:\n",
    "    for num_units2 in HP_NUM_UNITS2.domain.values:\n",
    "        for dropout_rate in (HP_DROPOUT.domain.min_value, HP_DROPOUT.domain.max_value):\n",
    "            for l2 in (HP_L2.domain.min_value, HP_L2.domain.max_value):\n",
    "                for optimizer in HP_OPTIMIZER.domain.values:\n",
    "                    hparams = {\n",
    "                        HP_NUM_UNITS1: num_units1,\n",
    "                        HP_NUM_UNITS2: num_units2,\n",
    "                        HP_DROPOUT: dropout_rate,\n",
    "                        HP_L2: l2,\n",
    "                        HP_OPTIMIZER: optimizer\n",
    "                    }\n",
    "                    run_name = \"run-%d\" % session_num\n",
    "                    print('--- Starting trial: %s' % run_name)\n",
    "                    print({h.name: hparams[h] for h in hparams})\n",
    "                    rmse, current_hparams = run('logs/hparam_tuning/' + run_name, hparams)\n",
    "                    if (~np.isnan(rmse)) and (rmse < min_rmse): \n",
    "                        best_hparams = current_hparams\n",
    "                        min_rmse = rmse\n",
    "                        print(\"mis_rmse {}\".format(min_rmse))\n",
    "                    session_num += 1"
   ]
  },
  {
   "cell_type": "code",
   "execution_count": 22,
   "metadata": {},
   "outputs": [
    {
     "data": {
      "text/html": [
       "\n",
       "      <iframe id=\"tensorboard-frame-c70ba11d0a9fb6d0\" width=\"100%\" height=\"800\" frameborder=\"0\">\n",
       "      </iframe>\n",
       "      <script>\n",
       "        (function() {\n",
       "          const frame = document.getElementById(\"tensorboard-frame-c70ba11d0a9fb6d0\");\n",
       "          const url = new URL(\"/\", window.location);\n",
       "          url.port = 6006;\n",
       "          frame.src = url;\n",
       "        })();\n",
       "      </script>\n",
       "  "
      ],
      "text/plain": [
       "<IPython.core.display.HTML object>"
      ]
     },
     "metadata": {},
     "output_type": "display_data"
    }
   ],
   "source": [
    "%tensorboard --logdir logs/hparam_tuning"
   ]
  },
  {
   "cell_type": "code",
   "execution_count": 23,
   "metadata": {},
   "outputs": [
    {
     "data": {
      "text/plain": [
       "4.0423408"
      ]
     },
     "execution_count": 23,
     "metadata": {},
     "output_type": "execute_result"
    }
   ],
   "source": [
    "min_rmse"
   ]
  },
  {
   "cell_type": "code",
   "execution_count": 24,
   "metadata": {},
   "outputs": [
    {
     "data": {
      "text/plain": [
       "[32, 8, 0.3, 0.01, 'RMSprop']"
      ]
     },
     "execution_count": 24,
     "metadata": {},
     "output_type": "execute_result"
    }
   ],
   "source": [
    "list(best_hparams.values())"
   ]
  },
  {
   "cell_type": "code",
   "execution_count": 288,
   "metadata": {},
   "outputs": [],
   "source": [
    "model = tf.keras.Sequential([\n",
    "    tf.keras.layers.InputLayer(input_shape = x_train.shape[1]),\n",
    "    layers.Dense(30, kernel_regularizer=tf.keras.regularizers.l2(0.001), activation=tf.nn.relu),\n",
    "    layers.Dropout(0.1),\n",
    "    layers.Dense(8, kernel_regularizer=tf.keras.regularizers.l2(0.001), activation=tf.nn.relu),\n",
    "    layers.Dense(1)\n",
    "])"
   ]
  },
  {
   "cell_type": "code",
   "execution_count": 310,
   "metadata": {},
   "outputs": [],
   "source": [
    "model.compile(optimizer=\"adam\",\n",
    "            loss='mean_squared_error',\n",
    "            metrics=['RootMeanSquaredError'])"
   ]
  },
  {
   "cell_type": "code",
   "execution_count": 311,
   "metadata": {},
   "outputs": [
    {
     "name": "stdout",
     "output_type": "stream",
     "text": [
      "\r",
      "12/12 [==============================] - 0s 5ms/sample - loss: 184.8800 - RootMeanSquaredError: 13.5964\n"
     ]
    }
   ],
   "source": [
    "model.fit(x_train, y_train, epochs=100, verbose=False) \n",
    "\n",
    "_, rmse = model.evaluate(x_test, y_test)"
   ]
  },
  {
   "cell_type": "code",
   "execution_count": 195,
   "metadata": {},
   "outputs": [],
   "source": [
    "predictions = model.predict(x_test)"
   ]
  },
  {
   "cell_type": "code",
   "execution_count": 260,
   "metadata": {},
   "outputs": [
    {
     "data": {
      "text/plain": [
       "13.716265866362638"
      ]
     },
     "execution_count": 260,
     "metadata": {},
     "output_type": "execute_result"
    }
   ],
   "source": [
    "math.sqrt(mean_squared_error(y_test,predictions))"
   ]
  },
  {
   "cell_type": "code",
   "execution_count": 291,
   "metadata": {},
   "outputs": [],
   "source": [
    "sst_last = sst[-12:]"
   ]
  },
  {
   "cell_type": "code",
   "execution_count": 312,
   "metadata": {},
   "outputs": [],
   "source": [
    "y_hat = forecast(np.append(x_train[-1][1:],np.array(y_train[-1])),model, h, n_steps)\n",
    "y_hat = np.reshape(y_hat,len(y_test))"
   ]
  },
  {
   "cell_type": "code",
   "execution_count": 313,
   "metadata": {},
   "outputs": [
    {
     "data": {
      "text/plain": [
       "16.612852"
      ]
     },
     "execution_count": 313,
     "metadata": {},
     "output_type": "execute_result"
    }
   ],
   "source": [
    "y_hat[-1]"
   ]
  },
  {
   "cell_type": "code",
   "execution_count": 314,
   "metadata": {},
   "outputs": [
    {
     "data": {
      "text/plain": [
       "87"
      ]
     },
     "execution_count": 314,
     "metadata": {},
     "output_type": "execute_result"
    }
   ],
   "source": [
    "y_test[-1]"
   ]
  },
  {
   "cell_type": "code",
   "execution_count": 292,
   "metadata": {},
   "outputs": [],
   "source": [
    "y_hat = forecast_sst(np.append(x_train[-1][1:-1],np.array(y_train[-1])),sst_last, model, h, n_steps)\n",
    "y_hat = np.reshape(y_hat,len(y_test))"
   ]
  },
  {
   "cell_type": "code",
   "execution_count": 293,
   "metadata": {},
   "outputs": [
    {
     "data": {
      "text/plain": [
       "32.651592"
      ]
     },
     "execution_count": 293,
     "metadata": {},
     "output_type": "execute_result"
    }
   ],
   "source": [
    "y_hat[-1]"
   ]
  },
  {
   "cell_type": "code",
   "execution_count": 294,
   "metadata": {},
   "outputs": [
    {
     "data": {
      "text/plain": [
       "87"
      ]
     },
     "execution_count": 294,
     "metadata": {},
     "output_type": "execute_result"
    }
   ],
   "source": [
    "y_test[-1]"
   ]
  },
  {
   "cell_type": "code",
   "execution_count": null,
   "metadata": {},
   "outputs": [],
   "source": []
  },
  {
   "cell_type": "code",
   "execution_count": null,
   "metadata": {},
   "outputs": [],
   "source": []
  },
  {
   "cell_type": "code",
   "execution_count": 208,
   "metadata": {},
   "outputs": [
    {
     "data": {
      "text/plain": [
       "17.423708353983198"
      ]
     },
     "execution_count": 208,
     "metadata": {},
     "output_type": "execute_result"
    }
   ],
   "source": [
    "math.sqrt(mean_squared_error(y_test,y_hat))"
   ]
  },
  {
   "cell_type": "code",
   "execution_count": 280,
   "metadata": {},
   "outputs": [
    {
     "data": {
      "text/plain": [
       "<matplotlib.legend.Legend at 0x7fca68583b38>"
      ]
     },
     "execution_count": 280,
     "metadata": {},
     "output_type": "execute_result"
    },
    {
     "data": {
      "image/png": "[encoded data removed]",
      "text/plain": [
       "<Figure size 432x288 with 1 Axes>"
      ]
     },
     "metadata": {
      "needs_background": "light"
     },
     "output_type": "display_data"
    }
   ],
   "source": [
    "plt.plot(range(len(y_test)), y_test, label=\"Observations\")\n",
    "plt.plot(range(len(y_test)), y_hat, label=\"Predictions\")\n",
    "plt.legend()"
   ]
  },
  {
   "cell_type": "code",
   "execution_count": null,
   "metadata": {},
   "outputs": [],
   "source": []
  },
  {
   "cell_type": "code",
   "execution_count": 201,
   "metadata": {},
   "outputs": [],
   "source": [
    "from sklearn.ensemble import RandomForestRegressor"
   ]
  },
  {
   "cell_type": "code",
   "execution_count": 202,
   "metadata": {},
   "outputs": [],
   "source": [
    "regr = RandomForestRegressor(max_depth=2, random_state=0)"
   ]
  },
  {
   "cell_type": "code",
   "execution_count": 203,
   "metadata": {},
   "outputs": [
    {
     "name": "stderr",
     "output_type": "stream",
     "text": [
      "/home/mathsys2/anaconda3/envs/tensorflow/lib/python3.6/site-packages/sklearn/ensemble/forest.py:245: FutureWarning: The default value of n_estimators will change from 10 in version 0.20 to 100 in 0.22.\n",
      "  \"10 in version 0.20 to 100 in 0.22.\", FutureWarning)\n"
     ]
    },
    {
     "data": {
      "text/plain": [
       "RandomForestRegressor(bootstrap=True, criterion='mse', max_depth=2,\n",
       "                      max_features='auto', max_leaf_nodes=None,\n",
       "                      min_impurity_decrease=0.0, min_impurity_split=None,\n",
       "                      min_samples_leaf=1, min_samples_split=2,\n",
       "                      min_weight_fraction_leaf=0.0, n_estimators=10,\n",
       "                      n_jobs=None, oob_score=False, random_state=0, verbose=0,\n",
       "                      warm_start=False)"
      ]
     },
     "execution_count": 203,
     "metadata": {},
     "output_type": "execute_result"
    }
   ],
   "source": [
    "regr.fit(x_train, y_train)"
   ]
  },
  {
   "cell_type": "code",
   "execution_count": 204,
   "metadata": {},
   "outputs": [
    {
     "data": {
      "text/plain": [
       "32.034015638323126"
      ]
     },
     "execution_count": 204,
     "metadata": {},
     "output_type": "execute_result"
    }
   ],
   "source": [
    "sst_last = sst[-12:]\n",
    "\n",
    "y_hat = forecast_sst(np.append(x_train[-1][1:-1],np.array(y_train[-1])),sst_last, regr, h, n_steps)\n",
    "y_hat = np.reshape(y_hat,len(y_test))\n",
    "\n",
    "math.sqrt(mean_squared_error(y_test,y_hat))"
   ]
  },
  {
   "cell_type": "code",
   "execution_count": 205,
   "metadata": {},
   "outputs": [
    {
     "data": {
      "text/plain": [
       "<matplotlib.legend.Legend at 0x7fcb51aca160>"
      ]
     },
     "execution_count": 205,
     "metadata": {},
     "output_type": "execute_result"
    },
    {
     "data": {
      "image/png": "[encoded data removed]",
      "text/plain": [
       "<Figure size 432x288 with 1 Axes>"
      ]
     },
     "metadata": {
      "needs_background": "light"
     },
     "output_type": "display_data"
    }
   ],
   "source": [
    "plt.plot(range(len(y_test)), y_test, label=\"Observations\")\n",
    "plt.plot(range(len(y_test)), y_hat, label=\"Predictions\")\n",
    "plt.legend()"
   ]
  },
  {
   "cell_type": "code",
   "execution_count": 183,
   "metadata": {},
   "outputs": [
    {
     "data": {
      "text/plain": [
       "5.676576971757105"
      ]
     },
     "execution_count": 183,
     "metadata": {},
     "output_type": "execute_result"
    }
   ],
   "source": [
    "y_hat[11]"
   ]
  },
  {
   "cell_type": "code",
   "execution_count": null,
   "metadata": {},
   "outputs": [],
   "source": []
  },
  {
   "cell_type": "code",
   "execution_count": null,
   "metadata": {},
   "outputs": [],
   "source": []
  },
  {
   "cell_type": "code",
   "execution_count": 60,
   "metadata": {},
   "outputs": [
    {
     "data": {
      "text/plain": [
       "<matplotlib.legend.Legend at 0x7fca684e0ac8>"
      ]
     },
     "execution_count": 60,
     "metadata": {},
     "output_type": "execute_result"
    },
    {
     "data": {
      "image/png": "[encoded data removed]",
      "text/plain": [
       "<Figure size 1440x756 with 1 Axes>"
      ]
     },
     "metadata": {
      "needs_background": "light"
     },
     "output_type": "display_data"
    }
   ],
   "source": [
    "fig = plt.gcf()\n",
    "fig.set_size_inches(20, 10.5)\n",
    "plt.plot(range(len(y_test)), y_test, label=\"Observations\")\n",
    "plt.plot(range(len(y_test)), predictions, label=\"Predictions\")\n",
    "plt.legend(fontsize = 16)"
   ]
  },
  {
   "cell_type": "code",
   "execution_count": 61,
   "metadata": {},
   "outputs": [
    {
     "data": {
      "text/plain": [
       "(0, 20)"
      ]
     },
     "execution_count": 61,
     "metadata": {},
     "output_type": "execute_result"
    },
    {
     "data": {
      "image/png": "[encoded data removed]",
      "text/plain": [
       "<Figure size 432x288 with 1 Axes>"
      ]
     },
     "metadata": {
      "needs_background": "light"
     },
     "output_type": "display_data"
    }
   ],
   "source": [
    "plt.scatter(predictions, y_test)\n",
    "plt.xlim((0,20))\n",
    "plt.ylim((0,20))"
   ]
  },
  {
   "cell_type": "code",
   "execution_count": 62,
   "metadata": {},
   "outputs": [
    {
     "data": {
      "text/plain": [
       "[<matplotlib.lines.Line2D at 0x7fcaa86436d8>]"
      ]
     },
     "execution_count": 62,
     "metadata": {},
     "output_type": "execute_result"
    },
    {
     "data": {
      "image/png": "[encoded data removed]",
      "text/plain": [
       "<Figure size 432x288 with 1 Axes>"
      ]
     },
     "metadata": {
      "needs_background": "light"
     },
     "output_type": "display_data"
    }
   ],
   "source": [
    "predictions = np.squeeze(predictions)\n",
    "c = np.correlate(predictions,y_test, \"full\")\n",
    "\n",
    "x_c = np.arange(-len(predictions)+1,len(predictions))\n",
    "\n",
    "plt.plot(x_c,c)"
   ]
  },
  {
   "cell_type": "code",
   "execution_count": 63,
   "metadata": {},
   "outputs": [
    {
     "data": {
      "text/plain": [
       "(array([-10,  -9,  -8,  -7,  -6,  -5,  -4,  -3,  -2,  -1,   0,   1,   2,\n",
       "          3,   4,   5,   6,   7,   8,   9,  10]),\n",
       " array([0.23229196, 0.41442301, 0.19135831, 0.25789475, 0.29193529,\n",
       "        0.26738799, 0.35393116, 0.30759402, 0.41864745, 0.53336809,\n",
       "        0.71468323, 0.49085252, 0.4580624 , 0.33714145, 0.34098204,\n",
       "        0.30256236, 0.25356974, 0.24298771, 0.17729656, 0.17131987,\n",
       "        0.14511113]),\n",
       " <matplotlib.collections.LineCollection at 0x7fcb146b0160>,\n",
       " <matplotlib.lines.Line2D at 0x7fcb14558550>)"
      ]
     },
     "execution_count": 63,
     "metadata": {},
     "output_type": "execute_result"
    },
    {
     "data": {
      "image/png": "[encoded data removed]",
      "text/plain": [
       "<Figure size 432x288 with 1 Axes>"
      ]
     },
     "metadata": {
      "needs_background": "light"
     },
     "output_type": "display_data"
    }
   ],
   "source": [
    "plt.xcorr(predictions,y_test)"
   ]
  },
  {
   "cell_type": "code",
   "execution_count": null,
   "metadata": {},
   "outputs": [],
   "source": []
  },
  {
   "cell_type": "code",
   "execution_count": null,
   "metadata": {},
   "outputs": [],
   "source": []
  },
  {
   "cell_type": "code",
   "execution_count": null,
   "metadata": {},
   "outputs": [],
   "source": []
  },
  {
   "cell_type": "code",
   "execution_count": null,
   "metadata": {},
   "outputs": [],
   "source": []
  },
  {
   "cell_type": "code",
   "execution_count": null,
   "metadata": {},
   "outputs": [],
   "source": []
  },
  {
   "cell_type": "code",
   "execution_count": null,
   "metadata": {},
   "outputs": [],
   "source": []
  },
  {
   "cell_type": "code",
   "execution_count": null,
   "metadata": {},
   "outputs": [],
   "source": []
  },
  {
   "cell_type": "code",
   "execution_count": 424,
   "metadata": {},
   "outputs": [],
   "source": [
    "model = tf.keras.Sequential([\n",
    "    tf.keras.layers.InputLayer(input_shape = x_train.shape[1]),\n",
    "    layers.Dense(4, activation=tf.nn.relu),\n",
    "    layers.Dropout(0.1),\n",
    "    layers.Dense(8, activation=tf.nn.relu),\n",
    "    layers.Dense(1)\n",
    "])"
   ]
  },
  {
   "cell_type": "code",
   "execution_count": 431,
   "metadata": {},
   "outputs": [],
   "source": [
    "model = tf.keras.Sequential([\n",
    "    tf.keras.layers.InputLayer(input_shape = x_train.shape[1]),\n",
    "    layers.Dense(4, kernel_regularizer=tf.keras.regularizers.l2(0.01), activation=tf.nn.relu),\n",
    "    layers.Dropout(0.1),\n",
    "    layers.Dense(8, kernel_regularizer=tf.keras.regularizers.l2(0.01), activation=tf.nn.relu),\n",
    "    layers.Dense(1)\n",
    "])"
   ]
  },
  {
   "cell_type": "code",
   "execution_count": 432,
   "metadata": {},
   "outputs": [],
   "source": [
    "model.compile(optimizer=\"RMSProp\",\n",
    "            loss='mean_squared_error',\n",
    "            metrics=['RootMeanSquaredError'])"
   ]
  },
  {
   "cell_type": "code",
   "execution_count": 436,
   "metadata": {},
   "outputs": [
    {
     "name": "stdout",
     "output_type": "stream",
     "text": [
      "48/48 [==============================] - 0s 65us/sample - loss: 18.1600 - RootMeanSquaredError: 4.2500\n"
     ]
    }
   ],
   "source": [
    "model.fit(x_train, y_train, epochs=100, verbose=False) \n",
    "\n",
    "_, rmse = model.evaluate(x_test, y_test)"
   ]
  },
  {
   "cell_type": "code",
   "execution_count": 434,
   "metadata": {},
   "outputs": [
    {
     "data": {
      "text/plain": [
       "4.4760284"
      ]
     },
     "execution_count": 434,
     "metadata": {},
     "output_type": "execute_result"
    }
   ],
   "source": [
    "rmse"
   ]
  },
  {
   "cell_type": "code",
   "execution_count": 428,
   "metadata": {},
   "outputs": [],
   "source": [
    "predictions = model.predict(x_test)"
   ]
  },
  {
   "cell_type": "code",
   "execution_count": 429,
   "metadata": {},
   "outputs": [
    {
     "data": {
      "text/plain": [
       "4.093961828487743"
      ]
     },
     "execution_count": 429,
     "metadata": {},
     "output_type": "execute_result"
    }
   ],
   "source": [
    "math.sqrt(mean_squared_error(y_test,predictions))"
   ]
  },
  {
   "cell_type": "code",
   "execution_count": 22,
   "metadata": {},
   "outputs": [
    {
     "data": {
      "text/plain": [
       "1.3121330443779999e+32"
      ]
     },
     "execution_count": 22,
     "metadata": {},
     "output_type": "execute_result"
    }
   ],
   "source": [
    "y_hat = forecast(np.append(x_train[-1][1:],np.array(y_train[-1])), model, h, n_steps)\n",
    "y_hat = np.reshape(y_hat,len(y_test))\n",
    "\n",
    "math.sqrt(mean_squared_error(y_test,y_hat))"
   ]
  },
  {
   "cell_type": "code",
   "execution_count": 430,
   "metadata": {},
   "outputs": [
    {
     "data": {
      "text/plain": [
       "<matplotlib.legend.Legend at 0x7f48b7d98c88>"
      ]
     },
     "execution_count": 430,
     "metadata": {},
     "output_type": "execute_result"
    },
    {
     "data": {
      "image/png": "[encoded data removed]",
      "text/plain": [
       "<Figure size 432x288 with 1 Axes>"
      ]
     },
     "metadata": {
      "needs_background": "light"
     },
     "output_type": "display_data"
    }
   ],
   "source": [
    "plt.plot(range(len(y_test)), y_test, label=\"Observations\")\n",
    "plt.plot(range(len(y_test)), predictions, label=\"Predictions\")\n",
    "plt.legend()"
   ]
  },
  {
   "cell_type": "code",
   "execution_count": 367,
   "metadata": {},
   "outputs": [
    {
     "data": {
      "text/plain": [
       "array([ 4,  3,  2,  5,  3,  3,  3,  2,  1,  3,  7, 25, 31, 27, 21, 12,  8,\n",
       "        7,  9,  6,  7,  6,  1,  1,  1,  2,  2,  2,  4,  3,  3,  3,  3,  4,\n",
       "        3,  4,  5,  6,  6,  7,  8,  8,  8, 11, 11,  8,  5,  8])"
      ]
     },
     "execution_count": 367,
     "metadata": {},
     "output_type": "execute_result"
    }
   ],
   "source": [
    "y_test"
   ]
  },
  {
   "cell_type": "code",
   "execution_count": 368,
   "metadata": {},
   "outputs": [
    {
     "data": {
      "text/plain": [
       "array([[ 4.3304925],\n",
       "       [ 4.1157084],\n",
       "       [ 4.510546 ],\n",
       "       [ 2.1828644],\n",
       "       [ 4.7701654],\n",
       "       [ 4.578716 ],\n",
       "       [ 4.109888 ],\n",
       "       [ 3.4815905],\n",
       "       [ 3.6134114],\n",
       "       [ 2.4285672],\n",
       "       [ 2.6691763],\n",
       "       [ 6.6833134],\n",
       "       [20.75802  ],\n",
       "       [29.71366  ],\n",
       "       [26.457047 ],\n",
       "       [21.636944 ],\n",
       "       [15.348185 ],\n",
       "       [ 8.876786 ],\n",
       "       [ 4.997763 ],\n",
       "       [ 6.7743354],\n",
       "       [ 6.659576 ],\n",
       "       [ 7.1900506],\n",
       "       [ 5.728469 ],\n",
       "       [ 4.671945 ],\n",
       "       [ 4.2929974],\n",
       "       [ 3.7907398],\n",
       "       [ 3.4014685],\n",
       "       [ 2.4700365],\n",
       "       [ 2.674887 ],\n",
       "       [ 2.8462791],\n",
       "       [ 4.8797803],\n",
       "       [ 4.3375816],\n",
       "       [ 4.7033877],\n",
       "       [ 5.591171 ],\n",
       "       [ 5.25372  ],\n",
       "       [ 4.1358533],\n",
       "       [ 4.576705 ],\n",
       "       [ 5.8609815],\n",
       "       [ 6.9745603],\n",
       "       [ 6.513139 ],\n",
       "       [ 7.410751 ],\n",
       "       [ 8.147883 ],\n",
       "       [ 8.272674 ],\n",
       "       [ 7.422599 ],\n",
       "       [ 8.93429  ],\n",
       "       [10.05007  ],\n",
       "       [ 7.4488416],\n",
       "       [ 5.8084435]], dtype=float32)"
      ]
     },
     "execution_count": 368,
     "metadata": {},
     "output_type": "execute_result"
    }
   ],
   "source": [
    "predictions"
   ]
  },
  {
   "cell_type": "code",
   "execution_count": 115,
   "metadata": {},
   "outputs": [],
   "source": [
    "df_oni = pd.DataFrame(x,\n",
    "                  columns=[\"number\"],\n",
    "                  index=pd.date_range(\"19770101\", periods=len(x), freq='MS'))"
   ]
  },
  {
   "cell_type": "code",
   "execution_count": 117,
   "metadata": {},
   "outputs": [
    {
     "data": {
      "text/plain": [
       "[<matplotlib.lines.Line2D at 0x7fe54a5a6048>]"
      ]
     },
     "execution_count": 117,
     "metadata": {},
     "output_type": "execute_result"
    },
    {
     "data": {
      "image/png": "[encoded data removed]",
      "text/plain": [
       "<Figure size 1440x360 with 1 Axes>"
      ]
     },
     "metadata": {
      "needs_background": "light"
     },
     "output_type": "display_data"
    }
   ],
   "source": [
    "plt.rcParams[\"figure.figsize\"] = (20,5)\n",
    "plt.plot(x)"
   ]
  },
  {
   "cell_type": "code",
   "execution_count": 118,
   "metadata": {},
   "outputs": [
    {
     "data": {
      "text/plain": [
       "<matplotlib.axes._subplots.AxesSubplot at 0x7fe55178fe80>"
      ]
     },
     "execution_count": 118,
     "metadata": {},
     "output_type": "execute_result"
    },
    {
     "data": {
      "image/png": "[encoded data removed]",
      "text/plain": [
       "<Figure size 1440x360 with 1 Axes>"
      ]
     },
     "metadata": {
      "needs_background": "light"
     },
     "output_type": "display_data"
    }
   ],
   "source": [
    "df_oni.plot()"
   ]
  },
  {
   "cell_type": "code",
   "execution_count": 114,
   "metadata": {},
   "outputs": [
    {
     "data": {
      "text/html": [
       "<div>\n",
       "<style scoped>\n",
       "    .dataframe tbody tr th:only-of-type {\n",
       "        vertical-align: middle;\n",
       "    }\n",
       "\n",
       "    .dataframe tbody tr th {\n",
       "        vertical-align: top;\n",
       "    }\n",
       "\n",
       "    .dataframe thead th {\n",
       "        text-align: right;\n",
       "    }\n",
       "</style>\n",
       "<table border=\"1\" class=\"dataframe\">\n",
       "  <thead>\n",
       "    <tr style=\"text-align: right;\">\n",
       "      <th></th>\n",
       "      <th>number</th>\n",
       "    </tr>\n",
       "  </thead>\n",
       "  <tbody>\n",
       "    <tr>\n",
       "      <td>1970-01-01 00:00:00.000001980</td>\n",
       "      <td>3</td>\n",
       "    </tr>\n",
       "    <tr>\n",
       "      <td>1970-02-01 00:00:00.000001980</td>\n",
       "      <td>4</td>\n",
       "    </tr>\n",
       "    <tr>\n",
       "      <td>1970-03-01 00:00:00.000001980</td>\n",
       "      <td>6</td>\n",
       "    </tr>\n",
       "    <tr>\n",
       "      <td>1970-04-01 00:00:00.000001980</td>\n",
       "      <td>10</td>\n",
       "    </tr>\n",
       "    <tr>\n",
       "      <td>1970-05-01 00:00:00.000001980</td>\n",
       "      <td>12</td>\n",
       "    </tr>\n",
       "    <tr>\n",
       "      <td>...</td>\n",
       "      <td>...</td>\n",
       "    </tr>\n",
       "    <tr>\n",
       "      <td>2008-08-01 00:00:00.000001980</td>\n",
       "      <td>2</td>\n",
       "    </tr>\n",
       "    <tr>\n",
       "      <td>2008-09-01 00:00:00.000001980</td>\n",
       "      <td>2</td>\n",
       "    </tr>\n",
       "    <tr>\n",
       "      <td>2008-10-01 00:00:00.000001980</td>\n",
       "      <td>3</td>\n",
       "    </tr>\n",
       "    <tr>\n",
       "      <td>2008-11-01 00:00:00.000001980</td>\n",
       "      <td>3</td>\n",
       "    </tr>\n",
       "    <tr>\n",
       "      <td>2008-12-01 00:00:00.000001980</td>\n",
       "      <td>2</td>\n",
       "    </tr>\n",
       "  </tbody>\n",
       "</table>\n",
       "<p>468 rows × 1 columns</p>\n",
       "</div>"
      ],
      "text/plain": [
       "                               number\n",
       "1970-01-01 00:00:00.000001980       3\n",
       "1970-02-01 00:00:00.000001980       4\n",
       "1970-03-01 00:00:00.000001980       6\n",
       "1970-04-01 00:00:00.000001980      10\n",
       "1970-05-01 00:00:00.000001980      12\n",
       "...                               ...\n",
       "2008-08-01 00:00:00.000001980       2\n",
       "2008-09-01 00:00:00.000001980       2\n",
       "2008-10-01 00:00:00.000001980       3\n",
       "2008-11-01 00:00:00.000001980       3\n",
       "2008-12-01 00:00:00.000001980       2\n",
       "\n",
       "[468 rows x 1 columns]"
      ]
     },
     "execution_count": 114,
     "metadata": {},
     "output_type": "execute_result"
    }
   ],
   "source": [
    "df_oni"
   ]
  },
  {
   "cell_type": "code",
   "execution_count": null,
   "metadata": {},
   "outputs": [],
   "source": []
  },
  {
   "cell_type": "code",
   "execution_count": null,
   "metadata": {},
   "outputs": [],
   "source": []
  },
  {
   "cell_type": "code",
   "execution_count": null,
   "metadata": {},
   "outputs": [],
   "source": []
  },
  {
   "cell_type": "code",
   "execution_count": null,
   "metadata": {},
   "outputs": [],
   "source": []
  },
  {
   "cell_type": "code",
   "execution_count": null,
   "metadata": {},
   "outputs": [],
   "source": []
  },
  {
   "cell_type": "code",
   "execution_count": 38,
   "metadata": {},
   "outputs": [],
   "source": [
    "raw_seq = x[index:index+(n+m)*f,:]"
   ]
  },
  {
   "cell_type": "code",
   "execution_count": 14,
   "metadata": {},
   "outputs": [],
   "source": [
    "# define input sequence\n",
    "raw_seq = x[index:index+(n+m)*f]\n",
    "X, y_test = train_test_split_ts_2d_raw(raw_seq, h) \n",
    "#X, avgs = uni_deseasonalize(X)\n",
    "x_train, y_train = split_sequence(X, n_steps)"
   ]
  },
  {
   "cell_type": "code",
   "execution_count": 15,
   "metadata": {},
   "outputs": [],
   "source": [
    "x_test, y_test = split_sequence(y_test, n_steps)"
   ]
  },
  {
   "cell_type": "code",
   "execution_count": 65,
   "metadata": {},
   "outputs": [],
   "source": [
    "X_train, y_train = split_sequence(X[:,0], n_steps)"
   ]
  },
  {
   "cell_type": "code",
   "execution_count": 66,
   "metadata": {},
   "outputs": [],
   "source": [
    "oni_x = np.reshape(X[19:-1,1], (X_train.shape[0],1))\n",
    "oni_y = np.reshape(X[19:-1,1], (X_train.shape[0],1))"
   ]
  },
  {
   "cell_type": "code",
   "execution_count": 67,
   "metadata": {},
   "outputs": [],
   "source": [
    "X_train = np.hstack((oni_x, X_train))"
   ]
  },
  {
   "cell_type": "code",
   "execution_count": 59,
   "metadata": {},
   "outputs": [],
   "source": []
  },
  {
   "cell_type": "code",
   "execution_count": null,
   "metadata": {},
   "outputs": [],
   "source": [
    "# define input sequence\n",
    "raw_seq = x[index:index+(n+m)*f]\n",
    "X, y_test = train_test_split_ts_2d_raw(raw_seq, h) \n",
    "#X, avgs = uni_deseasonalize(X)\n",
    "\n",
    "X_train, y_train = split_sequence(X, n_steps)"
   ]
  },
  {
   "cell_type": "code",
   "execution_count": null,
   "metadata": {},
   "outputs": [],
   "source": []
  },
  {
   "cell_type": "code",
   "execution_count": 86,
   "metadata": {},
   "outputs": [],
   "source": [
    "raw_seq = x[index:index+(n+m)*f]"
   ]
  },
  {
   "cell_type": "code",
   "execution_count": 87,
   "metadata": {},
   "outputs": [],
   "source": [
    "X, y = split_sequence(raw_seq, n_steps)"
   ]
  },
  {
   "cell_type": "code",
   "execution_count": 88,
   "metadata": {},
   "outputs": [],
   "source": [
    "x_train, x_test = train_test_split_ts_2d_raw(X, h)"
   ]
  },
  {
   "cell_type": "code",
   "execution_count": 89,
   "metadata": {},
   "outputs": [],
   "source": [
    "y_train, y_test = train_test_split_ts_2d_raw(y, h)"
   ]
  },
  {
   "cell_type": "code",
   "execution_count": null,
   "metadata": {},
   "outputs": [],
   "source": []
  },
  {
   "cell_type": "code",
   "execution_count": 55,
   "metadata": {},
   "outputs": [],
   "source": [
    "n_units = [16]\n",
    "learning_rate = 0.001\n",
    "optimizer = 'adam'\n",
    "epochs = 100"
   ]
  },
  {
   "cell_type": "code",
   "execution_count": 59,
   "metadata": {},
   "outputs": [],
   "source": [
    "n_units = [200,100,50,30,20,10]\n",
    "learning_rate = 0.001\n",
    "optimizer = 'adam'\n",
    "epochs = 500"
   ]
  },
  {
   "cell_type": "code",
   "execution_count": 60,
   "metadata": {},
   "outputs": [],
   "source": [
    "model = build_model(n_steps, n_units, learning_rate, optimizer)\n",
    "model.fit(X_train, y_train, epochs=epochs, validation_split = 0.2, verbose=0)\n",
    "y_hat = forecast(np.append(X_train[-1][1:],np.array(y_train[-1])), model, h, n_steps)\n",
    "y_hat = np.reshape(y_hat,len(y_test))"
   ]
  },
  {
   "cell_type": "code",
   "execution_count": 116,
   "metadata": {},
   "outputs": [],
   "source": [
    "#avgs = np.tile(avgs, int(len(y_hat)/f))\n",
    "#stds = np.tile(stds, int(len(y_hat)/f))"
   ]
  },
  {
   "cell_type": "code",
   "execution_count": 61,
   "metadata": {},
   "outputs": [
    {
     "data": {
      "text/plain": [
       "8.306955666928031"
      ]
     },
     "execution_count": 61,
     "metadata": {},
     "output_type": "execute_result"
    }
   ],
   "source": [
    "math.sqrt(mean_squared_error(y_test,y_hat))"
   ]
  },
  {
   "cell_type": "code",
   "execution_count": 58,
   "metadata": {},
   "outputs": [
    {
     "data": {
      "text/plain": [
       "<matplotlib.legend.Legend at 0x7f23c050ea58>"
      ]
     },
     "execution_count": 58,
     "metadata": {},
     "output_type": "execute_result"
    },
    {
     "data": {
      "image/png": "[encoded data removed]",
      "text/plain": [
       "<Figure size 432x288 with 1 Axes>"
      ]
     },
     "metadata": {
      "needs_background": "light"
     },
     "output_type": "display_data"
    }
   ],
   "source": [
    "plt.plot(range(len(y_test)), y_test, label=\"Observations\")\n",
    "plt.plot(range(len(y_test)), y_hat, label=\"Predictions\")\n",
    "plt.legend()"
   ]
  },
  {
   "cell_type": "code",
   "execution_count": 112,
   "metadata": {},
   "outputs": [
    {
     "data": {
      "text/plain": [
       "array([ 1,  2,  2,  2,  4,  3,  3,  3,  3,  4,  3,  4,  5,  6,  6,  7,  8,\n",
       "        8,  8, 11, 11,  8,  5,  8,  8, 14, 12, 11, 14, 15, 17, 15, 17, 14,\n",
       "       18, 11])"
      ]
     },
     "execution_count": 112,
     "metadata": {},
     "output_type": "execute_result"
    }
   ],
   "source": [
    "y_test"
   ]
  },
  {
   "cell_type": "code",
   "execution_count": null,
   "metadata": {},
   "outputs": [],
   "source": []
  },
  {
   "cell_type": "code",
   "execution_count": null,
   "metadata": {},
   "outputs": [],
   "source": [
    "if np.any(np.isnan(y_hat)):\n",
    "    errors.append(np.nan)\n",
    "else:\n",
    "    errors.append(math.sqrt(mean_squared_error(y_test,y_hat)))"
   ]
  },
  {
   "cell_type": "code",
   "execution_count": null,
   "metadata": {},
   "outputs": [],
   "source": []
  },
  {
   "cell_type": "code",
   "execution_count": null,
   "metadata": {},
   "outputs": [],
   "source": []
  },
  {
   "cell_type": "code",
   "execution_count": 29,
   "metadata": {},
   "outputs": [],
   "source": [
    "%load_ext tensorboard"
   ]
  },
  {
   "cell_type": "code",
   "execution_count": 30,
   "metadata": {},
   "outputs": [],
   "source": [
    "!rm -rf ./logs/ "
   ]
  },
  {
   "cell_type": "code",
   "execution_count": 371,
   "metadata": {},
   "outputs": [],
   "source": [
    "HP_NUM_UNITS = hp.HParam('num_units', hp.Discrete([16, 32]))\n",
    "HP_DROPOUT = hp.HParam('dropout', hp.RealInterval(0.1, 0.2))\n",
    "HP_OPTIMIZER = hp.HParam('optimizer', hp.Discrete(['adam', 'sgd']))\n",
    "\n",
    "METRIC_RMSE = 'RootMeanSquaredError'\n",
    "\n",
    "with tf.summary.create_file_writer('logs/hparam_tuning').as_default():\n",
    "    hp.hparams_config(\n",
    "    hparams=[HP_NUM_UNITS, HP_DROPOUT, HP_OPTIMIZER],\n",
    "    metrics=[hp.Metric(METRIC_RMSE, display_name='RMSE')],\n",
    "  )"
   ]
  },
  {
   "cell_type": "code",
   "execution_count": 373,
   "metadata": {},
   "outputs": [],
   "source": [
    "def train_test_model(hparams):\n",
    "    model = tf.keras.models.Sequential([\n",
    "    tf.keras.layers.InputLayer(input_shape = n_steps *2 ),\n",
    "    tf.keras.layers.Dense(hparams[HP_NUM_UNITS], activation=tf.nn.relu),\n",
    "    tf.keras.layers.Dropout(hparams[HP_DROPOUT]),\n",
    "    tf.keras.layers.Dense(1),\n",
    "    ])\n",
    "    model.compile(\n",
    "      optimizer=hparams[HP_OPTIMIZER],\n",
    "      loss='mean_squared_error',\n",
    "      metrics=['RootMeanSquaredError'],\n",
    "    )\n",
    "\n",
    "    model.fit(x_train, y_train, epochs=100,verbose=False) # Run with 1 epoch to speed things up for demo purposes\n",
    "    _, rmse = model.evaluate(x_test, y_test)\n",
    "    return rmse\n"
   ]
  },
  {
   "cell_type": "code",
   "execution_count": 374,
   "metadata": {},
   "outputs": [],
   "source": [
    "def run(run_dir, hparams):\n",
    "    with tf.summary.create_file_writer(run_dir).as_default():\n",
    "        hp.hparams(hparams)  # record the values used in this trial\n",
    "        rmse = train_test_model(hparams)\n",
    "        tf.summary.scalar(METRIC_RMSE, rmse, step=10)"
   ]
  },
  {
   "cell_type": "code",
   "execution_count": 375,
   "metadata": {},
   "outputs": [
    {
     "name": "stdout",
     "output_type": "stream",
     "text": [
      "--- Starting trial: run-0\n",
      "{'num_units': 16, 'dropout': 0.1, 'optimizer': 'adam'}\n",
      "48/48 [==============================] - 0s 1ms/sample - loss: 19.1536 - RootMeanSquaredError: 4.3765\n",
      "--- Starting trial: run-1\n",
      "{'num_units': 16, 'dropout': 0.1, 'optimizer': 'sgd'}\n",
      "48/48 [==============================] - 0s 1ms/sample - loss: 47.7244 - RootMeanSquaredError: 6.9083\n",
      "--- Starting trial: run-2\n",
      "{'num_units': 16, 'dropout': 0.2, 'optimizer': 'adam'}\n",
      "48/48 [==============================] - 0s 1ms/sample - loss: 18.5791 - RootMeanSquaredError: 4.3103\n",
      "--- Starting trial: run-3\n",
      "{'num_units': 16, 'dropout': 0.2, 'optimizer': 'sgd'}\n",
      "48/48 [==============================] - 0s 1ms/sample - loss: 47.5877 - RootMeanSquaredError: 6.8984\n",
      "--- Starting trial: run-4\n",
      "{'num_units': 32, 'dropout': 0.1, 'optimizer': 'adam'}\n",
      "48/48 [==============================] - 0s 1ms/sample - loss: 21.7139 - RootMeanSquaredError: 4.6598\n",
      "--- Starting trial: run-5\n",
      "{'num_units': 32, 'dropout': 0.1, 'optimizer': 'sgd'}\n",
      "48/48 [==============================] - 0s 985us/sample - loss: 48.1635 - RootMeanSquaredError: 6.9400\n",
      "--- Starting trial: run-6\n",
      "{'num_units': 32, 'dropout': 0.2, 'optimizer': 'adam'}\n",
      "48/48 [==============================] - 0s 995us/sample - loss: 20.6733 - RootMeanSquaredError: 4.5468\n",
      "--- Starting trial: run-7\n",
      "{'num_units': 32, 'dropout': 0.2, 'optimizer': 'sgd'}\n",
      "48/48 [==============================] - 0s 1ms/sample - loss: 48.1068 - RootMeanSquaredError: 6.9359\n"
     ]
    }
   ],
   "source": [
    "session_num = 0\n",
    "\n",
    "for num_units in HP_NUM_UNITS.domain.values:\n",
    "    for dropout_rate in (HP_DROPOUT.domain.min_value, HP_DROPOUT.domain.max_value):\n",
    "        for optimizer in HP_OPTIMIZER.domain.values:\n",
    "            hparams = {\n",
    "                HP_NUM_UNITS: num_units,\n",
    "                HP_DROPOUT: dropout_rate,\n",
    "                HP_OPTIMIZER: optimizer,\n",
    "            }\n",
    "            run_name = \"run-%d\" % session_num\n",
    "            print('--- Starting trial: %s' % run_name)\n",
    "            print({h.name: hparams[h] for h in hparams})\n",
    "            run('logs/hparam_tuning/' + run_name, hparams)\n",
    "            session_num += 1\n",
    "\n"
   ]
  },
  {
   "cell_type": "code",
   "execution_count": 23,
   "metadata": {},
   "outputs": [],
   "source": [
    "!kill 27181"
   ]
  },
  {
   "cell_type": "code",
   "execution_count": 253,
   "metadata": {},
   "outputs": [
    {
     "data": {
      "text/plain": [
       "Reusing TensorBoard on port 6006 (pid 28404), started 7:23:30 ago. (Use '!kill 28404' to kill it.)"
      ]
     },
     "metadata": {},
     "output_type": "display_data"
    },
    {
     "data": {
      "text/html": [
       "\n",
       "      <iframe id=\"tensorboard-frame-4cef9140f8d58125\" width=\"100%\" height=\"800\" frameborder=\"0\">\n",
       "      </iframe>\n",
       "      <script>\n",
       "        (function() {\n",
       "          const frame = document.getElementById(\"tensorboard-frame-4cef9140f8d58125\");\n",
       "          const url = new URL(\"/\", window.location);\n",
       "          url.port = 6006;\n",
       "          frame.src = url;\n",
       "        })();\n",
       "      </script>\n",
       "  "
      ],
      "text/plain": [
       "<IPython.core.display.HTML object>"
      ]
     },
     "metadata": {},
     "output_type": "display_data"
    }
   ],
   "source": [
    "%tensorboard --logdir logs/hparam_tuning"
   ]
  },
  {
   "cell_type": "code",
   "execution_count": null,
   "metadata": {},
   "outputs": [],
   "source": []
  },
  {
   "cell_type": "code",
   "execution_count": 59,
   "metadata": {},
   "outputs": [],
   "source": [
    "HP_NUM_UNITS1 = hp.HParam('num_units 1', hp.Discrete([4,8,16])) \n",
    "HP_NUM_UNITS2 = hp.HParam('num_units 2', hp.Discrete([4,8]))\n",
    "HP_DROPOUT = hp.HParam('dropout', hp.RealInterval(0.1, 0.3))\n",
    "HP_OPTIMIZER = hp.HParam('optimizer', hp.Discrete(['adam', 'sgd','RMSprop']))\n",
    "HP_L2 = hp.HParam('l2 regularizer', hp.RealInterval(.001,.01))\n",
    "METRIC_RMSE = 'RootMeanSquaredError'\n",
    "\n",
    "with tf.summary.create_file_writer('logs/hparam_tuning').as_default():\n",
    "    hp.hparams_config(\n",
    "    hparams=[HP_NUM_UNITS1,HP_NUM_UNITS2, HP_DROPOUT,HP_L2 ,HP_OPTIMIZER],\n",
    "    metrics=[hp.Metric(METRIC_RMSE, display_name='RMSE')],\n",
    "  )"
   ]
  },
  {
   "cell_type": "code",
   "execution_count": 60,
   "metadata": {},
   "outputs": [],
   "source": [
    "def train_test_model(hparams):\n",
    "    model = tf.keras.Sequential([\n",
    "        tf.keras.layers.InputLayer(input_shape = x_train.shape[1]),\n",
    "        layers.Dense(hparams[HP_NUM_UNITS1], kernel_regularizer=tf.keras.regularizers.l2(0.001), activation=tf.nn.relu),\n",
    "        layers.Dropout(hparams[HP_DROPOUT]),\n",
    "        layers.Dense(hparams[HP_NUM_UNITS2], kernel_regularizer=tf.keras.regularizers.l2(0.001), activation=tf.nn.relu),\n",
    "        layers.Dense(1)\n",
    "    ])\n",
    "\n",
    "    model.compile(optimizer=hparams[HP_OPTIMIZER],\n",
    "                loss='mean_squared_error',\n",
    "                metrics=['RootMeanSquaredError'])\n",
    "\n",
    "    model.fit(x_train, y_train, epochs=100,verbose=False) \n",
    "    _, rmse = model.evaluate(x_test, y_test)\n",
    "    return rmse"
   ]
  },
  {
   "cell_type": "code",
   "execution_count": 61,
   "metadata": {},
   "outputs": [],
   "source": [
    "def run(run_dir, hparams):\n",
    "    with tf.summary.create_file_writer(run_dir).as_default():\n",
    "        hp.hparams(hparams)  # record the values used in this trial\n",
    "        rmse = train_test_model(hparams)\n",
    "        tf.summary.scalar(METRIC_RMSE, rmse, step=1)\n",
    "    return(rmse, hparams)"
   ]
  },
  {
   "cell_type": "code",
   "execution_count": 62,
   "metadata": {},
   "outputs": [
    {
     "name": "stdout",
     "output_type": "stream",
     "text": [
      "--- Starting trial: run-0\n",
      "{'num_units 1': 4, 'num_units 2': 4, 'dropout': 0.1, 'l2 regularizer': 0.001, 'optimizer': 'RMSprop'}\n",
      "156/156 [==============================] - 0s 449us/sample - loss: 17.8580 - RootMeanSquaredError: 4.2251\n",
      "mis_rmse 4.225065231323242\n",
      "--- Starting trial: run-1\n",
      "{'num_units 1': 4, 'num_units 2': 4, 'dropout': 0.1, 'l2 regularizer': 0.001, 'optimizer': 'adam'}\n",
      "156/156 [==============================] - 0s 412us/sample - loss: 10.4366 - RootMeanSquaredError: 3.2289\n",
      "mis_rmse 3.228870153427124\n",
      "--- Starting trial: run-2\n",
      "{'num_units 1': 4, 'num_units 2': 4, 'dropout': 0.1, 'l2 regularizer': 0.001, 'optimizer': 'sgd'}\n",
      "156/156 [==============================] - 0s 407us/sample - loss: 41.9251 - RootMeanSquaredError: 6.0395\n",
      "--- Starting trial: run-3\n",
      "{'num_units 1': 4, 'num_units 2': 4, 'dropout': 0.1, 'l2 regularizer': 0.01, 'optimizer': 'RMSprop'}\n",
      "156/156 [==============================] - 0s 419us/sample - loss: 15.8140 - RootMeanSquaredError: 3.9760\n",
      "--- Starting trial: run-4\n",
      "{'num_units 1': 4, 'num_units 2': 4, 'dropout': 0.1, 'l2 regularizer': 0.01, 'optimizer': 'adam'}\n",
      "156/156 [==============================] - 0s 387us/sample - loss: 11.4550 - RootMeanSquaredError: 3.3829\n",
      "--- Starting trial: run-5\n",
      "{'num_units 1': 4, 'num_units 2': 4, 'dropout': 0.1, 'l2 regularizer': 0.01, 'optimizer': 'sgd'}\n",
      "156/156 [==============================] - 0s 392us/sample - loss: 997.6267 - RootMeanSquaredError: 6.0777\n",
      "--- Starting trial: run-6\n",
      "{'num_units 1': 4, 'num_units 2': 4, 'dropout': 0.3, 'l2 regularizer': 0.001, 'optimizer': 'RMSprop'}\n",
      "156/156 [==============================] - 0s 414us/sample - loss: 15.3868 - RootMeanSquaredError: 3.9214\n",
      "--- Starting trial: run-7\n",
      "{'num_units 1': 4, 'num_units 2': 4, 'dropout': 0.3, 'l2 regularizer': 0.001, 'optimizer': 'adam'}\n",
      "156/156 [==============================] - 0s 396us/sample - loss: 12.9074 - RootMeanSquaredError: 3.5917\n",
      "--- Starting trial: run-8\n",
      "{'num_units 1': 4, 'num_units 2': 4, 'dropout': 0.3, 'l2 regularizer': 0.001, 'optimizer': 'sgd'}\n",
      "156/156 [==============================] - 0s 388us/sample - loss: 127773.1593 - RootMeanSquaredError: 5.6668\n",
      "--- Starting trial: run-9\n",
      "{'num_units 1': 4, 'num_units 2': 4, 'dropout': 0.3, 'l2 regularizer': 0.01, 'optimizer': 'RMSprop'}\n",
      "156/156 [==============================] - 0s 385us/sample - loss: 13.1581 - RootMeanSquaredError: 3.6268\n",
      "--- Starting trial: run-10\n",
      "{'num_units 1': 4, 'num_units 2': 4, 'dropout': 0.3, 'l2 regularizer': 0.01, 'optimizer': 'adam'}\n",
      "156/156 [==============================] - 0s 379us/sample - loss: 16.4359 - RootMeanSquaredError: 4.0528\n",
      "--- Starting trial: run-11\n",
      "{'num_units 1': 4, 'num_units 2': 4, 'dropout': 0.3, 'l2 regularizer': 0.01, 'optimizer': 'sgd'}\n",
      "156/156 [==============================] - 0s 404us/sample - loss: 36.7986 - RootMeanSquaredError: 6.0307\n",
      "--- Starting trial: run-12\n",
      "{'num_units 1': 4, 'num_units 2': 8, 'dropout': 0.1, 'l2 regularizer': 0.001, 'optimizer': 'RMSprop'}\n",
      "156/156 [==============================] - 0s 518us/sample - loss: 11.8623 - RootMeanSquaredError: 3.4427\n",
      "--- Starting trial: run-13\n",
      "{'num_units 1': 4, 'num_units 2': 8, 'dropout': 0.1, 'l2 regularizer': 0.001, 'optimizer': 'adam'}\n",
      "156/156 [==============================] - 0s 417us/sample - loss: 11.8636 - RootMeanSquaredError: 3.4429\n",
      "--- Starting trial: run-14\n",
      "{'num_units 1': 4, 'num_units 2': 8, 'dropout': 0.1, 'l2 regularizer': 0.001, 'optimizer': 'sgd'}\n",
      "156/156 [==============================] - 0s 390us/sample - loss: 124995.9543 - RootMeanSquaredError: 6.0280\n",
      "--- Starting trial: run-15\n",
      "{'num_units 1': 4, 'num_units 2': 8, 'dropout': 0.1, 'l2 regularizer': 0.01, 'optimizer': 'RMSprop'}\n",
      "156/156 [==============================] - 0s 418us/sample - loss: 14.9055 - RootMeanSquaredError: 3.8596\n",
      "--- Starting trial: run-16\n",
      "{'num_units 1': 4, 'num_units 2': 8, 'dropout': 0.1, 'l2 regularizer': 0.01, 'optimizer': 'adam'}\n",
      "156/156 [==============================] - 0s 386us/sample - loss: 12.2984 - RootMeanSquaredError: 3.5058\n",
      "--- Starting trial: run-17\n",
      "{'num_units 1': 4, 'num_units 2': 8, 'dropout': 0.1, 'l2 regularizer': 0.01, 'optimizer': 'sgd'}\n",
      "156/156 [==============================] - 0s 381us/sample - loss: 40.7698 - RootMeanSquaredError: 6.3826\n",
      "--- Starting trial: run-18\n",
      "{'num_units 1': 4, 'num_units 2': 8, 'dropout': 0.3, 'l2 regularizer': 0.001, 'optimizer': 'RMSprop'}\n",
      "156/156 [==============================] - 0s 390us/sample - loss: 14.0637 - RootMeanSquaredError: 3.7488\n",
      "--- Starting trial: run-19\n",
      "{'num_units 1': 4, 'num_units 2': 8, 'dropout': 0.3, 'l2 regularizer': 0.001, 'optimizer': 'adam'}\n",
      "156/156 [==============================] - 0s 411us/sample - loss: 13.9164 - RootMeanSquaredError: 3.7295\n",
      "--- Starting trial: run-20\n",
      "{'num_units 1': 4, 'num_units 2': 8, 'dropout': 0.3, 'l2 regularizer': 0.001, 'optimizer': 'sgd'}\n",
      "156/156 [==============================] - 0s 504us/sample - loss: 33.8626 - RootMeanSquaredError: 5.8151\n",
      "--- Starting trial: run-21\n",
      "{'num_units 1': 4, 'num_units 2': 8, 'dropout': 0.3, 'l2 regularizer': 0.01, 'optimizer': 'RMSprop'}\n",
      "156/156 [==============================] - 0s 395us/sample - loss: 17.7992 - RootMeanSquaredError: 4.2177\n",
      "--- Starting trial: run-22\n",
      "{'num_units 1': 4, 'num_units 2': 8, 'dropout': 0.3, 'l2 regularizer': 0.01, 'optimizer': 'adam'}\n",
      "156/156 [==============================] - 0s 381us/sample - loss: 15.9704 - RootMeanSquaredError: 3.9951\n",
      "--- Starting trial: run-23\n",
      "{'num_units 1': 4, 'num_units 2': 8, 'dropout': 0.3, 'l2 regularizer': 0.01, 'optimizer': 'sgd'}\n",
      "156/156 [==============================] - 0s 414us/sample - loss: 36.2064 - RootMeanSquaredError: 6.0158\n",
      "--- Starting trial: run-24\n",
      "{'num_units 1': 8, 'num_units 2': 4, 'dropout': 0.1, 'l2 regularizer': 0.001, 'optimizer': 'RMSprop'}\n",
      "156/156 [==============================] - 0s 396us/sample - loss: 11.3683 - RootMeanSquaredError: 3.3705\n",
      "--- Starting trial: run-25\n",
      "{'num_units 1': 8, 'num_units 2': 4, 'dropout': 0.1, 'l2 regularizer': 0.001, 'optimizer': 'adam'}\n",
      "156/156 [==============================] - 0s 501us/sample - loss: 17.6494 - RootMeanSquaredError: 4.1996\n",
      "--- Starting trial: run-26\n",
      "{'num_units 1': 8, 'num_units 2': 4, 'dropout': 0.1, 'l2 regularizer': 0.001, 'optimizer': 'sgd'}\n",
      "156/156 [==============================] - 0s 532us/sample - loss: 241.9973 - RootMeanSquaredError: 6.0525\n",
      "--- Starting trial: run-27\n",
      "{'num_units 1': 8, 'num_units 2': 4, 'dropout': 0.1, 'l2 regularizer': 0.01, 'optimizer': 'RMSprop'}\n",
      "156/156 [==============================] - 0s 389us/sample - loss: 12.2068 - RootMeanSquaredError: 3.4925\n",
      "--- Starting trial: run-28\n",
      "{'num_units 1': 8, 'num_units 2': 4, 'dropout': 0.1, 'l2 regularizer': 0.01, 'optimizer': 'adam'}\n",
      "156/156 [==============================] - 0s 431us/sample - loss: 13.7668 - RootMeanSquaredError: 3.7086\n",
      "--- Starting trial: run-29\n",
      "{'num_units 1': 8, 'num_units 2': 4, 'dropout': 0.1, 'l2 regularizer': 0.01, 'optimizer': 'sgd'}\n",
      "156/156 [==============================] - 0s 462us/sample - loss: 40.6933 - RootMeanSquaredError: 6.0224\n",
      "--- Starting trial: run-30\n",
      "{'num_units 1': 8, 'num_units 2': 4, 'dropout': 0.3, 'l2 regularizer': 0.001, 'optimizer': 'RMSprop'}\n",
      "156/156 [==============================] - 0s 391us/sample - loss: 16.1875 - RootMeanSquaredError: 4.0218\n",
      "--- Starting trial: run-31\n",
      "{'num_units 1': 8, 'num_units 2': 4, 'dropout': 0.3, 'l2 regularizer': 0.001, 'optimizer': 'adam'}\n",
      "156/156 [==============================] - 0s 401us/sample - loss: 12.9453 - RootMeanSquaredError: 3.5967\n",
      "--- Starting trial: run-32\n",
      "{'num_units 1': 8, 'num_units 2': 4, 'dropout': 0.3, 'l2 regularizer': 0.001, 'optimizer': 'sgd'}\n",
      "156/156 [==============================] - 0s 467us/sample - loss: 157.5461 - RootMeanSquaredError: 6.0161\n",
      "--- Starting trial: run-33\n",
      "{'num_units 1': 8, 'num_units 2': 4, 'dropout': 0.3, 'l2 regularizer': 0.01, 'optimizer': 'RMSprop'}\n",
      "156/156 [==============================] - 0s 473us/sample - loss: 12.0536 - RootMeanSquaredError: 3.4702\n",
      "--- Starting trial: run-34\n",
      "{'num_units 1': 8, 'num_units 2': 4, 'dropout': 0.3, 'l2 regularizer': 0.01, 'optimizer': 'adam'}\n",
      "156/156 [==============================] - 0s 451us/sample - loss: 15.9718 - RootMeanSquaredError: 3.9947\n",
      "--- Starting trial: run-35\n",
      "{'num_units 1': 8, 'num_units 2': 4, 'dropout': 0.3, 'l2 regularizer': 0.01, 'optimizer': 'sgd'}\n"
     ]
    },
    {
     "name": "stdout",
     "output_type": "stream",
     "text": [
      "156/156 [==============================] - 0s 487us/sample - loss: 40.0987 - RootMeanSquaredError: 6.0327\n",
      "--- Starting trial: run-36\n",
      "{'num_units 1': 8, 'num_units 2': 8, 'dropout': 0.1, 'l2 regularizer': 0.001, 'optimizer': 'RMSprop'}\n",
      "156/156 [==============================] - 0s 413us/sample - loss: 10.9880 - RootMeanSquaredError: 3.3129\n",
      "--- Starting trial: run-37\n",
      "{'num_units 1': 8, 'num_units 2': 8, 'dropout': 0.1, 'l2 regularizer': 0.001, 'optimizer': 'adam'}\n",
      "156/156 [==============================] - 0s 472us/sample - loss: 11.7133 - RootMeanSquaredError: 3.4203\n",
      "--- Starting trial: run-38\n",
      "{'num_units 1': 8, 'num_units 2': 8, 'dropout': 0.1, 'l2 regularizer': 0.001, 'optimizer': 'sgd'}\n",
      "156/156 [==============================] - 0s 569us/sample - loss: 46.9215 - RootMeanSquaredError: 6.0434\n",
      "--- Starting trial: run-39\n",
      "{'num_units 1': 8, 'num_units 2': 8, 'dropout': 0.1, 'l2 regularizer': 0.01, 'optimizer': 'RMSprop'}\n",
      "156/156 [==============================] - 0s 514us/sample - loss: 10.7290 - RootMeanSquaredError: 3.2732\n",
      "--- Starting trial: run-40\n",
      "{'num_units 1': 8, 'num_units 2': 8, 'dropout': 0.1, 'l2 regularizer': 0.01, 'optimizer': 'adam'}\n",
      "156/156 [==============================] - 0s 441us/sample - loss: 13.1631 - RootMeanSquaredError: 3.6261\n",
      "--- Starting trial: run-41\n",
      "{'num_units 1': 8, 'num_units 2': 8, 'dropout': 0.1, 'l2 regularizer': 0.01, 'optimizer': 'sgd'}\n",
      "156/156 [==============================] - 0s 468us/sample - loss: 856724.0032 - RootMeanSquaredError: 6.0309\n",
      "--- Starting trial: run-42\n",
      "{'num_units 1': 8, 'num_units 2': 8, 'dropout': 0.3, 'l2 regularizer': 0.001, 'optimizer': 'RMSprop'}\n",
      "156/156 [==============================] - 0s 449us/sample - loss: 14.7538 - RootMeanSquaredError: 3.8399\n",
      "--- Starting trial: run-43\n",
      "{'num_units 1': 8, 'num_units 2': 8, 'dropout': 0.3, 'l2 regularizer': 0.001, 'optimizer': 'adam'}\n",
      "156/156 [==============================] - 0s 426us/sample - loss: 15.3679 - RootMeanSquaredError: 3.9183\n",
      "--- Starting trial: run-44\n",
      "{'num_units 1': 8, 'num_units 2': 8, 'dropout': 0.3, 'l2 regularizer': 0.001, 'optimizer': 'sgd'}\n",
      "156/156 [==============================] - 0s 451us/sample - loss: 42.7000 - RootMeanSquaredError: 5.8721\n",
      "--- Starting trial: run-45\n",
      "{'num_units 1': 8, 'num_units 2': 8, 'dropout': 0.3, 'l2 regularizer': 0.01, 'optimizer': 'RMSprop'}\n",
      "156/156 [==============================] - 0s 533us/sample - loss: 17.1409 - RootMeanSquaredError: 4.1383\n",
      "--- Starting trial: run-46\n",
      "{'num_units 1': 8, 'num_units 2': 8, 'dropout': 0.3, 'l2 regularizer': 0.01, 'optimizer': 'adam'}\n",
      "156/156 [==============================] - 0s 426us/sample - loss: 15.7034 - RootMeanSquaredError: 3.9609\n",
      "--- Starting trial: run-47\n",
      "{'num_units 1': 8, 'num_units 2': 8, 'dropout': 0.3, 'l2 regularizer': 0.01, 'optimizer': 'sgd'}\n",
      "156/156 [==============================] - 0s 401us/sample - loss: 36.7071 - RootMeanSquaredError: 6.0486\n",
      "--- Starting trial: run-48\n",
      "{'num_units 1': 16, 'num_units 2': 4, 'dropout': 0.1, 'l2 regularizer': 0.001, 'optimizer': 'RMSprop'}\n",
      "156/156 [==============================] - 0s 402us/sample - loss: 11.1362 - RootMeanSquaredError: 3.3347\n",
      "--- Starting trial: run-49\n",
      "{'num_units 1': 16, 'num_units 2': 4, 'dropout': 0.1, 'l2 regularizer': 0.001, 'optimizer': 'adam'}\n",
      "156/156 [==============================] - 0s 406us/sample - loss: 10.1282 - RootMeanSquaredError: 3.1799\n",
      "mis_rmse 3.1798791885375977\n",
      "--- Starting trial: run-50\n",
      "{'num_units 1': 16, 'num_units 2': 4, 'dropout': 0.1, 'l2 regularizer': 0.001, 'optimizer': 'sgd'}\n",
      "156/156 [==============================] - 0s 406us/sample - loss: 1136.4602 - RootMeanSquaredError: 6.0323\n",
      "--- Starting trial: run-51\n",
      "{'num_units 1': 16, 'num_units 2': 4, 'dropout': 0.1, 'l2 regularizer': 0.01, 'optimizer': 'RMSprop'}\n",
      "156/156 [==============================] - 0s 400us/sample - loss: 10.6138 - RootMeanSquaredError: 3.2550\n",
      "--- Starting trial: run-52\n",
      "{'num_units 1': 16, 'num_units 2': 4, 'dropout': 0.1, 'l2 regularizer': 0.01, 'optimizer': 'adam'}\n",
      "156/156 [==============================] - 0s 416us/sample - loss: 10.8960 - RootMeanSquaredError: 3.2984\n",
      "--- Starting trial: run-53\n",
      "{'num_units 1': 16, 'num_units 2': 4, 'dropout': 0.1, 'l2 regularizer': 0.01, 'optimizer': 'sgd'}\n",
      "156/156 [==============================] - 0s 396us/sample - loss: 197330.2332 - RootMeanSquaredError: 6.0467\n",
      "--- Starting trial: run-54\n",
      "{'num_units 1': 16, 'num_units 2': 4, 'dropout': 0.3, 'l2 regularizer': 0.001, 'optimizer': 'RMSprop'}\n",
      "156/156 [==============================] - 0s 409us/sample - loss: 12.5746 - RootMeanSquaredError: 3.5437\n",
      "--- Starting trial: run-55\n",
      "{'num_units 1': 16, 'num_units 2': 4, 'dropout': 0.3, 'l2 regularizer': 0.001, 'optimizer': 'adam'}\n",
      "156/156 [==============================] - 0s 402us/sample - loss: 74.6713 - RootMeanSquaredError: 8.6401\n",
      "--- Starting trial: run-56\n",
      "{'num_units 1': 16, 'num_units 2': 4, 'dropout': 0.3, 'l2 regularizer': 0.001, 'optimizer': 'sgd'}\n",
      "156/156 [==============================] - 0s 398us/sample - loss: 3242641.6154 - RootMeanSquaredError: 6.0072\n",
      "--- Starting trial: run-57\n",
      "{'num_units 1': 16, 'num_units 2': 4, 'dropout': 0.3, 'l2 regularizer': 0.01, 'optimizer': 'RMSprop'}\n",
      "156/156 [==============================] - 0s 411us/sample - loss: 9.5905 - RootMeanSquaredError: 3.0939\n",
      "mis_rmse 3.093949317932129\n",
      "--- Starting trial: run-58\n",
      "{'num_units 1': 16, 'num_units 2': 4, 'dropout': 0.3, 'l2 regularizer': 0.01, 'optimizer': 'adam'}\n",
      "156/156 [==============================] - 0s 395us/sample - loss: 10.3586 - RootMeanSquaredError: 3.2157\n",
      "--- Starting trial: run-59\n",
      "{'num_units 1': 16, 'num_units 2': 4, 'dropout': 0.3, 'l2 regularizer': 0.01, 'optimizer': 'sgd'}\n",
      "156/156 [==============================] - 0s 527us/sample - loss: 481.1842 - RootMeanSquaredError: 6.0511\n",
      "--- Starting trial: run-60\n",
      "{'num_units 1': 16, 'num_units 2': 8, 'dropout': 0.1, 'l2 regularizer': 0.001, 'optimizer': 'RMSprop'}\n",
      "156/156 [==============================] - 0s 397us/sample - loss: 9.8790 - RootMeanSquaredError: 3.1400\n",
      "--- Starting trial: run-61\n",
      "{'num_units 1': 16, 'num_units 2': 8, 'dropout': 0.1, 'l2 regularizer': 0.001, 'optimizer': 'adam'}\n",
      "156/156 [==============================] - 0s 419us/sample - loss: 11.8270 - RootMeanSquaredError: 3.4352\n",
      "--- Starting trial: run-62\n",
      "{'num_units 1': 16, 'num_units 2': 8, 'dropout': 0.1, 'l2 regularizer': 0.001, 'optimizer': 'sgd'}\n",
      "156/156 [==============================] - 0s 401us/sample - loss: 41.6816 - RootMeanSquaredError: 6.0524\n",
      "--- Starting trial: run-63\n",
      "{'num_units 1': 16, 'num_units 2': 8, 'dropout': 0.1, 'l2 regularizer': 0.01, 'optimizer': 'RMSprop'}\n",
      "156/156 [==============================] - 0s 386us/sample - loss: 10.8470 - RootMeanSquaredError: 3.2909\n",
      "--- Starting trial: run-64\n",
      "{'num_units 1': 16, 'num_units 2': 8, 'dropout': 0.1, 'l2 regularizer': 0.01, 'optimizer': 'adam'}\n",
      "156/156 [==============================] - 0s 437us/sample - loss: 10.7513 - RootMeanSquaredError: 3.2751\n",
      "--- Starting trial: run-65\n",
      "{'num_units 1': 16, 'num_units 2': 8, 'dropout': 0.1, 'l2 regularizer': 0.01, 'optimizer': 'sgd'}\n",
      "156/156 [==============================] - 0s 407us/sample - loss: nan - RootMeanSquaredError: nan\n",
      "--- Starting trial: run-66\n",
      "{'num_units 1': 16, 'num_units 2': 8, 'dropout': 0.3, 'l2 regularizer': 0.001, 'optimizer': 'RMSprop'}\n",
      "156/156 [==============================] - 0s 403us/sample - loss: 12.0693 - RootMeanSquaredError: 3.4720\n",
      "--- Starting trial: run-67\n",
      "{'num_units 1': 16, 'num_units 2': 8, 'dropout': 0.3, 'l2 regularizer': 0.001, 'optimizer': 'adam'}\n",
      "156/156 [==============================] - 0s 404us/sample - loss: 11.9077 - RootMeanSquaredError: 3.4475\n",
      "--- Starting trial: run-68\n",
      "{'num_units 1': 16, 'num_units 2': 8, 'dropout': 0.3, 'l2 regularizer': 0.001, 'optimizer': 'sgd'}\n",
      "156/156 [==============================] - 0s 403us/sample - loss: 11316729856.0000 - RootMeanSquaredError: 6.0180\n",
      "--- Starting trial: run-69\n",
      "{'num_units 1': 16, 'num_units 2': 8, 'dropout': 0.3, 'l2 regularizer': 0.01, 'optimizer': 'RMSprop'}\n",
      "156/156 [==============================] - 0s 447us/sample - loss: 15.3750 - RootMeanSquaredError: 3.9188\n",
      "--- Starting trial: run-70\n",
      "{'num_units 1': 16, 'num_units 2': 8, 'dropout': 0.3, 'l2 regularizer': 0.01, 'optimizer': 'adam'}\n"
     ]
    },
    {
     "name": "stdout",
     "output_type": "stream",
     "text": [
      "156/156 [==============================] - 0s 449us/sample - loss: 12.0740 - RootMeanSquaredError: 3.4720\n",
      "--- Starting trial: run-71\n",
      "{'num_units 1': 16, 'num_units 2': 8, 'dropout': 0.3, 'l2 regularizer': 0.01, 'optimizer': 'sgd'}\n",
      "156/156 [==============================] - 0s 404us/sample - loss: 1240754091246746171604992.0000 - RootMeanSquaredError: 29829.9004\n"
     ]
    }
   ],
   "source": [
    "session_num = 0\n",
    "min_rmse = float('inf')\n",
    "best_hparams = {}\n",
    "for num_units1 in HP_NUM_UNITS1.domain.values:\n",
    "    for num_units2 in HP_NUM_UNITS2.domain.values:\n",
    "        for dropout_rate in (HP_DROPOUT.domain.min_value, HP_DROPOUT.domain.max_value):\n",
    "            for l2 in (HP_L2.domain.min_value, HP_L2.domain.max_value):\n",
    "                for optimizer in HP_OPTIMIZER.domain.values:\n",
    "                    hparams = {\n",
    "                        HP_NUM_UNITS1: num_units1,\n",
    "                        HP_NUM_UNITS2: num_units2,\n",
    "                        HP_DROPOUT: dropout_rate,\n",
    "                        HP_L2: l2,\n",
    "                        HP_OPTIMIZER: optimizer\n",
    "                    }\n",
    "                    run_name = \"run-%d\" % session_num\n",
    "                    print('--- Starting trial: %s' % run_name)\n",
    "                    print({h.name: hparams[h] for h in hparams})\n",
    "                    rmse, current_hparams = run('logs/hparam_tuning/' + run_name, hparams)\n",
    "                    if (~np.isnan(rmse)) and (rmse < min_rmse): \n",
    "                        best_hparams = current_hparams\n",
    "                        min_rmse = rmse\n",
    "                        print(\"mis_rmse {}\".format(min_rmse))\n",
    "                    session_num += 1"
   ]
  },
  {
   "cell_type": "code",
   "execution_count": 64,
   "metadata": {},
   "outputs": [
    {
     "data": {
      "text/plain": [
       "[16, 4, 0.3, 0.01, 'RMSprop']"
      ]
     },
     "execution_count": 64,
     "metadata": {},
     "output_type": "execute_result"
    }
   ],
   "source": [
    "list(best_hparams.values())"
   ]
  },
  {
   "cell_type": "code",
   "execution_count": 69,
   "metadata": {},
   "outputs": [
    {
     "data": {
      "text/plain": [
       "3.0939493"
      ]
     },
     "execution_count": 69,
     "metadata": {},
     "output_type": "execute_result"
    }
   ],
   "source": [
    "min_rmse"
   ]
  },
  {
   "cell_type": "code",
   "execution_count": 58,
   "metadata": {},
   "outputs": [],
   "source": [
    "!rm -rf ./logs/ "
   ]
  },
  {
   "cell_type": "code",
   "execution_count": 57,
   "metadata": {},
   "outputs": [],
   "source": [
    "!kill 3869"
   ]
  },
  {
   "cell_type": "code",
   "execution_count": 66,
   "metadata": {},
   "outputs": [],
   "source": [
    "%reload_ext tensorboard"
   ]
  },
  {
   "cell_type": "code",
   "execution_count": 67,
   "metadata": {},
   "outputs": [
    {
     "data": {
      "text/html": [
       "\n",
       "      <iframe id=\"tensorboard-frame-fe80860eab7ba079\" width=\"100%\" height=\"800\" frameborder=\"0\">\n",
       "      </iframe>\n",
       "      <script>\n",
       "        (function() {\n",
       "          const frame = document.getElementById(\"tensorboard-frame-fe80860eab7ba079\");\n",
       "          const url = new URL(\"/\", window.location);\n",
       "          url.port = 6006;\n",
       "          frame.src = url;\n",
       "        })();\n",
       "      </script>\n",
       "  "
      ],
      "text/plain": [
       "<IPython.core.display.HTML object>"
      ]
     },
     "metadata": {},
     "output_type": "display_data"
    }
   ],
   "source": [
    "%tensorboard --logdir logs/hparam_tuning"
   ]
  },
  {
   "cell_type": "code",
   "execution_count": null,
   "metadata": {},
   "outputs": [],
   "source": []
  },
  {
   "cell_type": "code",
   "execution_count": null,
   "metadata": {},
   "outputs": [],
   "source": []
  },
  {
   "cell_type": "code",
   "execution_count": 443,
   "metadata": {},
   "outputs": [
    {
     "name": "stdout",
     "output_type": "stream",
     "text": [
      "<HParam 'num_units 1': {4, 8, 16}>\n",
      "<HParam 'num_units 2': {4, 8}>\n",
      "<HParam 'dropout': [0.1, 0.3]>\n",
      "<HParam 'l2 regularizer': [0.001, 0.01]>\n",
      "<HParam 'optimizer': {'RMSprop', 'adam', 'sgd'}>\n"
     ]
    }
   ],
   "source": [
    "for key in best_hparams.keys():\n",
    "    print(key)"
   ]
  },
  {
   "cell_type": "code",
   "execution_count": 27,
   "metadata": {},
   "outputs": [
    {
     "data": {
      "text/plain": [
       "[32, 8, 0.1, 0.001, 'adam']"
      ]
     },
     "execution_count": 27,
     "metadata": {},
     "output_type": "execute_result"
    }
   ],
   "source": [
    "list(best_hparams.values())"
   ]
  },
  {
   "cell_type": "code",
   "execution_count": 68,
   "metadata": {},
   "outputs": [
    {
     "data": {
      "text/plain": [
       "3.0939493"
      ]
     },
     "execution_count": 68,
     "metadata": {},
     "output_type": "execute_result"
    }
   ],
   "source": [
    "min_rmse"
   ]
  },
  {
   "cell_type": "code",
   "execution_count": null,
   "metadata": {},
   "outputs": [],
   "source": []
  },
  {
   "cell_type": "code",
   "execution_count": null,
   "metadata": {},
   "outputs": [],
   "source": []
  },
  {
   "cell_type": "code",
   "execution_count": null,
   "metadata": {},
   "outputs": [],
   "source": []
  },
  {
   "cell_type": "code",
   "execution_count": null,
   "metadata": {},
   "outputs": [],
   "source": []
  },
  {
   "cell_type": "code",
   "execution_count": null,
   "metadata": {},
   "outputs": [],
   "source": []
  },
  {
   "cell_type": "code",
   "execution_count": null,
   "metadata": {},
   "outputs": [],
   "source": []
  },
  {
   "cell_type": "code",
   "execution_count": null,
   "metadata": {},
   "outputs": [],
   "source": []
  },
  {
   "cell_type": "code",
   "execution_count": 321,
   "metadata": {},
   "outputs": [],
   "source": [
    "!rm -rf ./logs/ "
   ]
  },
  {
   "cell_type": "code",
   "execution_count": 349,
   "metadata": {},
   "outputs": [],
   "source": [
    "%load_ext tensorboard"
   ]
  },
  {
   "cell_type": "code",
   "execution_count": 350,
   "metadata": {
    "scrolled": true
   },
   "outputs": [
    {
     "data": {
      "text/plain": [
       "Reusing TensorBoard on port 6006 (pid 13393), started 6:38:46 ago. (Use '!kill 13393' to kill it.)"
      ]
     },
     "metadata": {},
     "output_type": "display_data"
    },
    {
     "data": {
      "text/html": [
       "\n",
       "      <iframe id=\"tensorboard-frame-6fad2bcba6d7f57e\" width=\"100%\" height=\"800\" frameborder=\"0\">\n",
       "      </iframe>\n",
       "      <script>\n",
       "        (function() {\n",
       "          const frame = document.getElementById(\"tensorboard-frame-6fad2bcba6d7f57e\");\n",
       "          const url = new URL(\"/\", window.location);\n",
       "          url.port = 6006;\n",
       "          frame.src = url;\n",
       "        })();\n",
       "      </script>\n",
       "  "
      ],
      "text/plain": [
       "<IPython.core.display.HTML object>"
      ]
     },
     "metadata": {},
     "output_type": "display_data"
    }
   ],
   "source": [
    "%tensorboard --logdir logs/hparam_tuning"
   ]
  },
  {
   "cell_type": "code",
   "execution_count": null,
   "metadata": {},
   "outputs": [],
   "source": []
  },
  {
   "cell_type": "code",
   "execution_count": null,
   "metadata": {},
   "outputs": [],
   "source": []
  },
  {
   "cell_type": "code",
   "execution_count": 91,
   "metadata": {},
   "outputs": [],
   "source": [
    "model = tf.keras.Sequential([\n",
    "    tf.keras.layers.InputLayer(input_shape = n_steps),\n",
    "    layers.Dense(16, kernel_regularizer=tf.keras.regularizers.l2(0.001), activation=tf.nn.relu),\n",
    "    layers.Dropout(0.3),\n",
    "    layers.Dense(4, kernel_regularizer=tf.keras.regularizers.l2(0.001), activation=tf.nn.relu),\n",
    "    layers.Dense(1)\n",
    "])"
   ]
  },
  {
   "cell_type": "code",
   "execution_count": 92,
   "metadata": {},
   "outputs": [],
   "source": [
    "model.compile(optimizer=tf.keras.optimizers.Adam(),\n",
    "            loss='mean_squared_error',\n",
    "            metrics=['RootMeanSquaredError'])"
   ]
  },
  {
   "cell_type": "code",
   "execution_count": 93,
   "metadata": {},
   "outputs": [
    {
     "ename": "ValueError",
     "evalue": "Error when checking input: expected input_363 to have shape (20,) but got array with shape (1,)",
     "output_type": "error",
     "traceback": [
      "\u001b[0;31m---------------------------------------------------------------------------\u001b[0m",
      "\u001b[0;31mValueError\u001b[0m                                Traceback (most recent call last)",
      "\u001b[0;32m<ipython-input-93-40f234ebf377>\u001b[0m in \u001b[0;36m<module>\u001b[0;34m\u001b[0m\n\u001b[0;32m----> 1\u001b[0;31m \u001b[0mmodel\u001b[0m\u001b[0;34m.\u001b[0m\u001b[0mfit\u001b[0m\u001b[0;34m(\u001b[0m\u001b[0mx_train\u001b[0m\u001b[0;34m,\u001b[0m \u001b[0my_train\u001b[0m\u001b[0;34m,\u001b[0m \u001b[0mepochs\u001b[0m\u001b[0;34m=\u001b[0m\u001b[0;36m50\u001b[0m\u001b[0;34m,\u001b[0m \u001b[0mverbose\u001b[0m\u001b[0;34m=\u001b[0m\u001b[0;32mFalse\u001b[0m\u001b[0;34m)\u001b[0m\u001b[0;34m\u001b[0m\u001b[0;34m\u001b[0m\u001b[0m\n\u001b[0m",
      "\u001b[0;32m~/anaconda3/envs/tensorflow/lib/python3.6/site-packages/tensorflow_core/python/keras/engine/training.py\u001b[0m in \u001b[0;36mfit\u001b[0;34m(self, x, y, batch_size, epochs, verbose, callbacks, validation_split, validation_data, shuffle, class_weight, sample_weight, initial_epoch, steps_per_epoch, validation_steps, validation_freq, max_queue_size, workers, use_multiprocessing, **kwargs)\u001b[0m\n\u001b[1;32m    817\u001b[0m         \u001b[0mmax_queue_size\u001b[0m\u001b[0;34m=\u001b[0m\u001b[0mmax_queue_size\u001b[0m\u001b[0;34m,\u001b[0m\u001b[0;34m\u001b[0m\u001b[0;34m\u001b[0m\u001b[0m\n\u001b[1;32m    818\u001b[0m         \u001b[0mworkers\u001b[0m\u001b[0;34m=\u001b[0m\u001b[0mworkers\u001b[0m\u001b[0;34m,\u001b[0m\u001b[0;34m\u001b[0m\u001b[0;34m\u001b[0m\u001b[0m\n\u001b[0;32m--> 819\u001b[0;31m         use_multiprocessing=use_multiprocessing)\n\u001b[0m\u001b[1;32m    820\u001b[0m \u001b[0;34m\u001b[0m\u001b[0m\n\u001b[1;32m    821\u001b[0m   def evaluate(self,\n",
      "\u001b[0;32m~/anaconda3/envs/tensorflow/lib/python3.6/site-packages/tensorflow_core/python/keras/engine/training_v2.py\u001b[0m in \u001b[0;36mfit\u001b[0;34m(self, model, x, y, batch_size, epochs, verbose, callbacks, validation_split, validation_data, shuffle, class_weight, sample_weight, initial_epoch, steps_per_epoch, validation_steps, validation_freq, max_queue_size, workers, use_multiprocessing, **kwargs)\u001b[0m\n\u001b[1;32m    233\u001b[0m           \u001b[0mmax_queue_size\u001b[0m\u001b[0;34m=\u001b[0m\u001b[0mmax_queue_size\u001b[0m\u001b[0;34m,\u001b[0m\u001b[0;34m\u001b[0m\u001b[0;34m\u001b[0m\u001b[0m\n\u001b[1;32m    234\u001b[0m           \u001b[0mworkers\u001b[0m\u001b[0;34m=\u001b[0m\u001b[0mworkers\u001b[0m\u001b[0;34m,\u001b[0m\u001b[0;34m\u001b[0m\u001b[0;34m\u001b[0m\u001b[0m\n\u001b[0;32m--> 235\u001b[0;31m           use_multiprocessing=use_multiprocessing)\n\u001b[0m\u001b[1;32m    236\u001b[0m \u001b[0;34m\u001b[0m\u001b[0m\n\u001b[1;32m    237\u001b[0m       \u001b[0mtotal_samples\u001b[0m \u001b[0;34m=\u001b[0m \u001b[0m_get_total_number_of_samples\u001b[0m\u001b[0;34m(\u001b[0m\u001b[0mtraining_data_adapter\u001b[0m\u001b[0;34m)\u001b[0m\u001b[0;34m\u001b[0m\u001b[0;34m\u001b[0m\u001b[0m\n",
      "\u001b[0;32m~/anaconda3/envs/tensorflow/lib/python3.6/site-packages/tensorflow_core/python/keras/engine/training_v2.py\u001b[0m in \u001b[0;36m_process_training_inputs\u001b[0;34m(model, x, y, batch_size, epochs, sample_weights, class_weights, steps_per_epoch, validation_split, validation_data, validation_steps, shuffle, distribution_strategy, max_queue_size, workers, use_multiprocessing)\u001b[0m\n\u001b[1;32m    591\u001b[0m         \u001b[0mmax_queue_size\u001b[0m\u001b[0;34m=\u001b[0m\u001b[0mmax_queue_size\u001b[0m\u001b[0;34m,\u001b[0m\u001b[0;34m\u001b[0m\u001b[0;34m\u001b[0m\u001b[0m\n\u001b[1;32m    592\u001b[0m         \u001b[0mworkers\u001b[0m\u001b[0;34m=\u001b[0m\u001b[0mworkers\u001b[0m\u001b[0;34m,\u001b[0m\u001b[0;34m\u001b[0m\u001b[0;34m\u001b[0m\u001b[0m\n\u001b[0;32m--> 593\u001b[0;31m         use_multiprocessing=use_multiprocessing)\n\u001b[0m\u001b[1;32m    594\u001b[0m     \u001b[0mval_adapter\u001b[0m \u001b[0;34m=\u001b[0m \u001b[0;32mNone\u001b[0m\u001b[0;34m\u001b[0m\u001b[0;34m\u001b[0m\u001b[0m\n\u001b[1;32m    595\u001b[0m     \u001b[0;32mif\u001b[0m \u001b[0mvalidation_data\u001b[0m\u001b[0;34m:\u001b[0m\u001b[0;34m\u001b[0m\u001b[0;34m\u001b[0m\u001b[0m\n",
      "\u001b[0;32m~/anaconda3/envs/tensorflow/lib/python3.6/site-packages/tensorflow_core/python/keras/engine/training_v2.py\u001b[0m in \u001b[0;36m_process_inputs\u001b[0;34m(model, mode, x, y, batch_size, epochs, sample_weights, class_weights, shuffle, steps, distribution_strategy, max_queue_size, workers, use_multiprocessing)\u001b[0m\n\u001b[1;32m    644\u001b[0m     \u001b[0mstandardize_function\u001b[0m \u001b[0;34m=\u001b[0m \u001b[0;32mNone\u001b[0m\u001b[0;34m\u001b[0m\u001b[0;34m\u001b[0m\u001b[0m\n\u001b[1;32m    645\u001b[0m     x, y, sample_weights = standardize(\n\u001b[0;32m--> 646\u001b[0;31m         x, y, sample_weight=sample_weights)\n\u001b[0m\u001b[1;32m    647\u001b[0m   \u001b[0;32melif\u001b[0m \u001b[0madapter_cls\u001b[0m \u001b[0;32mis\u001b[0m \u001b[0mdata_adapter\u001b[0m\u001b[0;34m.\u001b[0m\u001b[0mListsOfScalarsDataAdapter\u001b[0m\u001b[0;34m:\u001b[0m\u001b[0;34m\u001b[0m\u001b[0;34m\u001b[0m\u001b[0m\n\u001b[1;32m    648\u001b[0m     \u001b[0mstandardize_function\u001b[0m \u001b[0;34m=\u001b[0m \u001b[0mstandardize\u001b[0m\u001b[0;34m\u001b[0m\u001b[0;34m\u001b[0m\u001b[0m\n",
      "\u001b[0;32m~/anaconda3/envs/tensorflow/lib/python3.6/site-packages/tensorflow_core/python/keras/engine/training.py\u001b[0m in \u001b[0;36m_standardize_user_data\u001b[0;34m(self, x, y, sample_weight, class_weight, batch_size, check_steps, steps_name, steps, validation_split, shuffle, extract_tensors_from_dataset)\u001b[0m\n\u001b[1;32m   2381\u001b[0m         \u001b[0mis_dataset\u001b[0m\u001b[0;34m=\u001b[0m\u001b[0mis_dataset\u001b[0m\u001b[0;34m,\u001b[0m\u001b[0;34m\u001b[0m\u001b[0;34m\u001b[0m\u001b[0m\n\u001b[1;32m   2382\u001b[0m         \u001b[0mclass_weight\u001b[0m\u001b[0;34m=\u001b[0m\u001b[0mclass_weight\u001b[0m\u001b[0;34m,\u001b[0m\u001b[0;34m\u001b[0m\u001b[0;34m\u001b[0m\u001b[0m\n\u001b[0;32m-> 2383\u001b[0;31m         batch_size=batch_size)\n\u001b[0m\u001b[1;32m   2384\u001b[0m \u001b[0;34m\u001b[0m\u001b[0m\n\u001b[1;32m   2385\u001b[0m   def _standardize_tensors(self, x, y, sample_weight, run_eagerly, dict_inputs,\n",
      "\u001b[0;32m~/anaconda3/envs/tensorflow/lib/python3.6/site-packages/tensorflow_core/python/keras/engine/training.py\u001b[0m in \u001b[0;36m_standardize_tensors\u001b[0;34m(self, x, y, sample_weight, run_eagerly, dict_inputs, is_dataset, class_weight, batch_size)\u001b[0m\n\u001b[1;32m   2408\u001b[0m           \u001b[0mfeed_input_shapes\u001b[0m\u001b[0;34m,\u001b[0m\u001b[0;34m\u001b[0m\u001b[0;34m\u001b[0m\u001b[0m\n\u001b[1;32m   2409\u001b[0m           \u001b[0mcheck_batch_axis\u001b[0m\u001b[0;34m=\u001b[0m\u001b[0;32mFalse\u001b[0m\u001b[0;34m,\u001b[0m  \u001b[0;31m# Don't enforce the batch size.\u001b[0m\u001b[0;34m\u001b[0m\u001b[0;34m\u001b[0m\u001b[0m\n\u001b[0;32m-> 2410\u001b[0;31m           exception_prefix='input')\n\u001b[0m\u001b[1;32m   2411\u001b[0m \u001b[0;34m\u001b[0m\u001b[0m\n\u001b[1;32m   2412\u001b[0m     \u001b[0;31m# Get typespecs for the input data and sanitize it if necessary.\u001b[0m\u001b[0;34m\u001b[0m\u001b[0;34m\u001b[0m\u001b[0;34m\u001b[0m\u001b[0m\n",
      "\u001b[0;32m~/anaconda3/envs/tensorflow/lib/python3.6/site-packages/tensorflow_core/python/keras/engine/training_utils.py\u001b[0m in \u001b[0;36mstandardize_input_data\u001b[0;34m(data, names, shapes, check_batch_axis, exception_prefix)\u001b[0m\n\u001b[1;32m    580\u001b[0m                              \u001b[0;34m': expected '\u001b[0m \u001b[0;34m+\u001b[0m \u001b[0mnames\u001b[0m\u001b[0;34m[\u001b[0m\u001b[0mi\u001b[0m\u001b[0;34m]\u001b[0m \u001b[0;34m+\u001b[0m \u001b[0;34m' to have shape '\u001b[0m \u001b[0;34m+\u001b[0m\u001b[0;34m\u001b[0m\u001b[0;34m\u001b[0m\u001b[0m\n\u001b[1;32m    581\u001b[0m                              \u001b[0mstr\u001b[0m\u001b[0;34m(\u001b[0m\u001b[0mshape\u001b[0m\u001b[0;34m)\u001b[0m \u001b[0;34m+\u001b[0m \u001b[0;34m' but got array with shape '\u001b[0m \u001b[0;34m+\u001b[0m\u001b[0;34m\u001b[0m\u001b[0;34m\u001b[0m\u001b[0m\n\u001b[0;32m--> 582\u001b[0;31m                              str(data_shape))\n\u001b[0m\u001b[1;32m    583\u001b[0m   \u001b[0;32mreturn\u001b[0m \u001b[0mdata\u001b[0m\u001b[0;34m\u001b[0m\u001b[0;34m\u001b[0m\u001b[0m\n\u001b[1;32m    584\u001b[0m \u001b[0;34m\u001b[0m\u001b[0m\n",
      "\u001b[0;31mValueError\u001b[0m: Error when checking input: expected input_363 to have shape (20,) but got array with shape (1,)"
     ]
    }
   ],
   "source": [
    "model.fit(x_train, y_train, epochs=50, verbose=False) "
   ]
  },
  {
   "cell_type": "code",
   "execution_count": 78,
   "metadata": {},
   "outputs": [
    {
     "name": "stdout",
     "output_type": "stream",
     "text": [
      "36/36 [==============================] - 0s 2ms/sample - loss: 3.1590 - RootMeanSquaredError: 1.7710\n"
     ]
    }
   ],
   "source": [
    " _, rmse = model.evaluate(x_test, y_test)"
   ]
  },
  {
   "cell_type": "code",
   "execution_count": 79,
   "metadata": {},
   "outputs": [],
   "source": [
    "y_hat = forecast(np.append(x_train[-1][1:],np.array(y_train[-1])), model, h, n_steps)\n",
    "y_hat = np.reshape(y_hat,len(y_test))"
   ]
  },
  {
   "cell_type": "code",
   "execution_count": 80,
   "metadata": {},
   "outputs": [
    {
     "data": {
      "text/plain": [
       "4.765650975995383"
      ]
     },
     "execution_count": 80,
     "metadata": {},
     "output_type": "execute_result"
    }
   ],
   "source": [
    "math.sqrt(mean_squared_error(y_test,y_hat))"
   ]
  },
  {
   "cell_type": "code",
   "execution_count": 81,
   "metadata": {},
   "outputs": [
    {
     "data": {
      "text/plain": [
       "<matplotlib.legend.Legend at 0x7fe53e0888d0>"
      ]
     },
     "execution_count": 81,
     "metadata": {},
     "output_type": "execute_result"
    },
    {
     "data": {
      "image/png": "[encoded data removed]",
      "text/plain": [
       "<Figure size 432x288 with 1 Axes>"
      ]
     },
     "metadata": {
      "needs_background": "light"
     },
     "output_type": "display_data"
    }
   ],
   "source": [
    "plt.plot(range(len(y_test)), y_test, label=\"Observations\")\n",
    "plt.plot(range(len(y_test)), y_hat, label=\"Predictions\")\n",
    "plt.legend()"
   ]
  },
  {
   "cell_type": "code",
   "execution_count": null,
   "metadata": {},
   "outputs": [],
   "source": []
  },
  {
   "cell_type": "code",
   "execution_count": null,
   "metadata": {},
   "outputs": [],
   "source": []
  },
  {
   "cell_type": "code",
   "execution_count": 36,
   "metadata": {},
   "outputs": [],
   "source": [
    "data = np.load('data.npy')\n",
    "lat = np.load('lat.npy')\n",
    "lon = np.load('lon.npy')"
   ]
  },
  {
   "cell_type": "code",
   "execution_count": 44,
   "metadata": {},
   "outputs": [],
   "source": [
    "#data[22,8,2:dim(data)[3]]  #cluster==2\n",
    "#x<-data[28,7,3:dim(data)[3]]   #cluster==0\n",
    "x = data[21,7,]"
   ]
  },
  {
   "cell_type": "code",
   "execution_count": 88,
   "metadata": {},
   "outputs": [
    {
     "ename": "NameError",
     "evalue": "name 'epochs' is not defined",
     "output_type": "error",
     "traceback": [
      "\u001b[0;31m---------------------------------------------------------------------------\u001b[0m",
      "\u001b[0;31mNameError\u001b[0m                                 Traceback (most recent call last)",
      "\u001b[0;32m<ipython-input-88-dd367a073459>\u001b[0m in \u001b[0;36m<module>\u001b[0;34m\u001b[0m\n\u001b[0;32m----> 1\u001b[0;31m \u001b[0mmodel\u001b[0m\u001b[0;34m.\u001b[0m\u001b[0mfit\u001b[0m\u001b[0;34m(\u001b[0m\u001b[0mX_train\u001b[0m\u001b[0;34m,\u001b[0m \u001b[0my_train\u001b[0m\u001b[0;34m,\u001b[0m \u001b[0mepochs\u001b[0m\u001b[0;34m=\u001b[0m\u001b[0mepochs\u001b[0m\u001b[0;34m,\u001b[0m \u001b[0mvalidation_split\u001b[0m \u001b[0;34m=\u001b[0m \u001b[0;36m0.2\u001b[0m\u001b[0;34m,\u001b[0m \u001b[0mverbose\u001b[0m\u001b[0;34m=\u001b[0m\u001b[0;36m0\u001b[0m\u001b[0;34m)\u001b[0m\u001b[0;34m\u001b[0m\u001b[0;34m\u001b[0m\u001b[0m\n\u001b[0m",
      "\u001b[0;31mNameError\u001b[0m: name 'epochs' is not defined"
     ]
    }
   ],
   "source": []
  },
  {
   "cell_type": "code",
   "execution_count": 55,
   "metadata": {},
   "outputs": [],
   "source": []
  },
  {
   "cell_type": "code",
   "execution_count": 62,
   "metadata": {},
   "outputs": [
    {
     "data": {
      "text/plain": [
       "array([[0.02, 0.02, 0.01, ..., 0.  , 0.  , 1.73],\n",
       "       [0.02, 0.01, 0.  , ..., 0.  , 1.73, 0.09],\n",
       "       [0.01, 0.  , 0.08, ..., 1.73, 0.09, 0.18],\n",
       "       ...,\n",
       "       [0.02, 0.01, 0.  , ..., 0.  , 0.19, 0.09],\n",
       "       [0.01, 0.  , 0.31, ..., 0.19, 0.09, 0.1 ],\n",
       "       [0.  , 0.31, 0.  , ..., 0.09, 0.1 , 0.  ]], dtype=float32)"
      ]
     },
     "execution_count": 62,
     "metadata": {},
     "output_type": "execute_result"
    }
   ],
   "source": [
    "X_train"
   ]
  },
  {
   "cell_type": "code",
   "execution_count": null,
   "metadata": {},
   "outputs": [],
   "source": []
  },
  {
   "cell_type": "code",
   "execution_count": null,
   "metadata": {},
   "outputs": [],
   "source": []
  },
  {
   "cell_type": "code",
   "execution_count": null,
   "metadata": {},
   "outputs": [],
   "source": []
  },
  {
   "cell_type": "code",
   "execution_count": null,
   "metadata": {},
   "outputs": [],
   "source": []
  },
  {
   "cell_type": "code",
   "execution_count": null,
   "metadata": {},
   "outputs": [],
   "source": []
  },
  {
   "cell_type": "code",
   "execution_count": null,
   "metadata": {},
   "outputs": [],
   "source": []
  },
  {
   "cell_type": "code",
   "execution_count": 38,
   "metadata": {},
   "outputs": [],
   "source": [
    "n=30\n",
    "# Set forecasting window length (in years)\n",
    "m=3\n",
    "# Set start year\n",
    "start = 1948\n",
    "origin = 1980\n",
    "# Set annual sampling rate\n",
    "f = 12\n",
    "h = m*f\n",
    "\n",
    "index = (origin - start) * f +1\n",
    "\n",
    "#x.ts <- x[index:length(x)-1]\n",
    "\n",
    "train_start = index\n",
    "train_end = train_start+n*f-1\n",
    "\n",
    "test_start = train_end + 1\n",
    "test_end = test_start + m*f -1"
   ]
  },
  {
   "cell_type": "code",
   "execution_count": 42,
   "metadata": {},
   "outputs": [
    {
     "data": {
      "text/plain": [
       "385"
      ]
     },
     "execution_count": 42,
     "metadata": {},
     "output_type": "execute_result"
    }
   ],
   "source": [
    "train_start"
   ]
  },
  {
   "cell_type": "code",
   "execution_count": 39,
   "metadata": {},
   "outputs": [],
   "source": [
    "univariate_past_history = n*f\n",
    "univariate_future_target = 1\n",
    "\n",
    "x_train_uni, y_train_uni = univariate_data(x, train_start, test_start,\n",
    "                                           univariate_past_history,\n",
    "                                           univariate_future_target)\n",
    "x_val_uni, y_val_uni = univariate_data(x, test_start, test_end,\n",
    "                                       univariate_past_history,\n",
    "                                       univariate_future_target)"
   ]
  },
  {
   "cell_type": "code",
   "execution_count": 26,
   "metadata": {},
   "outputs": [],
   "source": [
    "def create_time_steps(length):\n",
    "    return list(range(-length, 0))"
   ]
  },
  {
   "cell_type": "code",
   "execution_count": 27,
   "metadata": {},
   "outputs": [],
   "source": [
    "def show_plot(plot_data, delta, title):\n",
    "    labels = ['History', 'True Future', 'Model Prediction']\n",
    "    marker = ['.-', 'rx', 'go']\n",
    "    time_steps = create_time_steps(plot_data[0].shape[0])\n",
    "    if delta:\n",
    "        future = delta\n",
    "    else:\n",
    "        future = 0\n",
    "\n",
    "    plt.title(title)\n",
    "    for i, x in enumerate(plot_data):\n",
    "        if i:\n",
    "            plt.plot(future, plot_data[i], marker[i], markersize=10,\n",
    "                label=labels[i])\n",
    "        else:\n",
    "             plt.plot(time_steps, plot_data[i].flatten(), marker[i], label=labels[i])\n",
    "    plt.legend()\n",
    "    plt.xlim([time_steps[0], (future+5)*2])\n",
    "    plt.xlabel('Time-Step')\n",
    "    return plt\n"
   ]
  },
  {
   "cell_type": "code",
   "execution_count": 28,
   "metadata": {},
   "outputs": [],
   "source": [
    "def baseline(history):\n",
    "    return np.mean(history)"
   ]
  },
  {
   "cell_type": "code",
   "execution_count": 29,
   "metadata": {},
   "outputs": [
    {
     "ename": "IndexError",
     "evalue": "index 0 is out of bounds for axis 0 with size 0",
     "output_type": "error",
     "traceback": [
      "\u001b[0;31m---------------------------------------------------------------------------\u001b[0m",
      "\u001b[0;31mIndexError\u001b[0m                                Traceback (most recent call last)",
      "\u001b[0;32m<ipython-input-29-14ab6e7623b6>\u001b[0m in \u001b[0;36m<module>\u001b[0;34m\u001b[0m\n\u001b[0;32m----> 1\u001b[0;31m \u001b[0mshow_plot\u001b[0m\u001b[0;34m(\u001b[0m\u001b[0;34m[\u001b[0m\u001b[0mx_train_uni\u001b[0m\u001b[0;34m[\u001b[0m\u001b[0;36m0\u001b[0m\u001b[0;34m]\u001b[0m\u001b[0;34m,\u001b[0m \u001b[0my_train_uni\u001b[0m\u001b[0;34m[\u001b[0m\u001b[0;36m0\u001b[0m\u001b[0;34m]\u001b[0m\u001b[0;34m]\u001b[0m\u001b[0;34m,\u001b[0m \u001b[0;36m0\u001b[0m\u001b[0;34m,\u001b[0m \u001b[0;34m'Sample Example'\u001b[0m\u001b[0;34m)\u001b[0m\u001b[0;34m\u001b[0m\u001b[0;34m\u001b[0m\u001b[0m\n\u001b[0m",
      "\u001b[0;31mIndexError\u001b[0m: index 0 is out of bounds for axis 0 with size 0"
     ]
    }
   ],
   "source": [
    "show_plot([x_train_uni[0], y_train_uni[0]], 0, 'Sample Example')\n"
   ]
  },
  {
   "cell_type": "code",
   "execution_count": 40,
   "metadata": {},
   "outputs": [
    {
     "data": {
      "text/plain": [
       "array([], dtype=float64)"
      ]
     },
     "execution_count": 40,
     "metadata": {},
     "output_type": "execute_result"
    }
   ],
   "source": [
    "x_train_uni"
   ]
  },
  {
   "cell_type": "code",
   "execution_count": null,
   "metadata": {},
   "outputs": [],
   "source": []
  }
 ],
 "metadata": {
  "kernelspec": {
   "display_name": "Python 3",
   "language": "python",
   "name": "python3"
  },
  "language_info": {
   "codemirror_mode": {
    "name": "ipython",
    "version": 3
   },
   "file_extension": ".py",
   "mimetype": "text/x-python",
   "name": "python",
   "nbconvert_exporter": "python",
   "pygments_lexer": "ipython3",
   "version": "3.6.9"
  }
 },
 "nbformat": 4,
 "nbformat_minor": 2
}
