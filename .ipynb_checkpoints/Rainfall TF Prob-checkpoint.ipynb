{
 "cells": [
  {
   "cell_type": "code",
   "execution_count": 2,
   "metadata": {},
   "outputs": [],
   "source": [
    "import tensorflow as tf\n",
    "from tensorflow import keras\n",
    "from tensorflow.keras import layers\n",
    "import pandas as pd\n",
    "import numpy as np\n",
    "import matplotlib.pyplot as plt\n",
    "import math\n",
    "from sklearn.metrics import mean_squared_error\n",
    "\n",
    "import matplotlib as mpl\n",
    "from matplotlib import pylab as plt\n",
    "import matplotlib.dates as mdates\n",
    "import seaborn as sns\n",
    "\n",
    "import collections\n",
    "\n",
    "import numpy as np\n",
    "import tensorflow.compat.v2 as tf\n",
    "import tensorflow_probability as tfp\n",
    "\n",
    "from tensorflow_probability import distributions as tfd\n",
    "from tensorflow_probability import sts\n",
    "\n",
    "tf.enable_v2_behavior()"
   ]
  },
  {
   "cell_type": "code",
   "execution_count": 3,
   "metadata": {},
   "outputs": [],
   "source": [
    "def univariate_data(dataset, start_index, end_index, history_size, target_size):\n",
    "    data = []\n",
    "    labels = []\n",
    "\n",
    "    start_index = start_index + history_size\n",
    "    if end_index is None:\n",
    "        end_index = len(dataset) - target_size\n",
    "\n",
    "    for i in range(start_index, end_index):\n",
    "        indices = range(i-history_size, i)\n",
    "    # Reshape data from (history_size,) to (history_size, 1)\n",
    "        data.append(np.reshape(dataset[indices], (history_size, 1)))\n",
    "        labels.append(dataset[i+target_size])\n",
    "    return np.array(data), np.array(labels)"
   ]
  },
  {
   "cell_type": "code",
   "execution_count": 4,
   "metadata": {},
   "outputs": [],
   "source": [
    "def split_sequence(sequence, n_steps):\n",
    "    X, y = list(), list()\n",
    "    for i in range(len(sequence)):\n",
    "        # find the end of this pattern\n",
    "        end_ix = i + n_steps\n",
    "        # check if we are beyond the sequence\n",
    "        if end_ix > len(sequence)-1:\n",
    "            break\n",
    "        # gather input and output parts of the pattern\n",
    "        seq_x, seq_y = sequence[i:end_ix], sequence[end_ix]\n",
    "        X.append(seq_x)\n",
    "        y.append(seq_y)\n",
    "    return np.array(X), np.array(y)\n",
    "\n",
    "\n",
    "def train_test_split_ts_2d_raw(X, h):\n",
    "    return(X[:-h],X[-h:])\n",
    "\n",
    "\n",
    "def train_test_split_ts(X, y, test_size=0.2):\n",
    "    r = X.shape[0]\n",
    "    split_index = int((1-test_size)*r)\n",
    "    return(X[:split_index,:,:],X[split_index:,:,:],y[:split_index],y[split_index:])\n",
    "\n",
    "def train_test_split_ts_index(X, y, split_index):\n",
    "    r = X.shape[0]\n",
    "    return(X[:split_index,:,:],X[split_index:,:,:],y[:split_index],y[split_index:])\n",
    "\n",
    "def train_test_split_ts_2d(X, y, test_size=0.2):\n",
    "    r = X.shape[0]\n",
    "    split_index = int((1-test_size)*r)\n",
    "    return(X[:split_index,:],X[split_index:,:],y[:split_index],y[split_index:])\n",
    "\n",
    "def train_test_split_ts_2d_index(X, y, split_index):\n",
    "    r = X.shape[0]\n",
    "    return(X[:split_index,:],X[split_index:,:],y[:split_index],y[split_index:])"
   ]
  },
  {
   "cell_type": "code",
   "execution_count": 5,
   "metadata": {},
   "outputs": [],
   "source": [
    "def create_dataset(dataset, window_size = 1):\n",
    "    data_X, data_Y = [], []\n",
    "    for i in range(len(dataset) - window_size - 1):\n",
    "        a = dataset[i:(i + window_size)]\n",
    "        data_X.append(a)\n",
    "        data_Y.append(dataset[i + window_size])\n",
    "    return(np.array(data_X), np.array(data_Y))"
   ]
  },
  {
   "cell_type": "code",
   "execution_count": 6,
   "metadata": {},
   "outputs": [],
   "source": [
    "def forecast(first_item, model, h, n_step):\n",
    "    x = first_item\n",
    "    result = []\n",
    "    #x = np.reshape(x,(1,20))\n",
    "    for i in range(h):\n",
    "        y = model.predict(np.reshape(x,(1,n_step)))\n",
    "        result.append(y)\n",
    "        x = np.append(x[1:],np.array(y))\n",
    "    return(np.array(result))   "
   ]
  },
  {
   "cell_type": "code",
   "execution_count": 7,
   "metadata": {},
   "outputs": [],
   "source": [
    "def build_model(n_steps, n_units, learning_rate, optimizer_name):\n",
    "    model = keras.Sequential()\n",
    "    if len(n_units) == 1:\n",
    "        model.add(layers.Dense(n_units[0], activation=tf.nn.relu, input_dim=n_steps))\n",
    "    else:  \n",
    "        model.add(layers.Dense(n_units[0], activation=tf.nn.relu, input_dim=n_steps))\n",
    "        for i in range(1,len(n_units)):\n",
    "            model.add(layers.Dense(n_units[i], activation=tf.nn.relu))\n",
    "    \n",
    "    model.add(layers.Dense(1))\n",
    "    \n",
    "    if optimizer_name == \"adam\":\n",
    "        optimizer = tf.keras.optimizers.Adam(learning_rate)\n",
    "    else:\n",
    "        optimizer = tf.keras.optimizers.SGD(learning_rate)\n",
    "\n",
    "    model.compile(loss='mean_squared_error', optimizer=optimizer)\n",
    "    return model"
   ]
  },
  {
   "cell_type": "code",
   "execution_count": 8,
   "metadata": {},
   "outputs": [],
   "source": [
    "def cv_hparam_tunning(x, n_steps, num_units, optimizer, learning_rate,\n",
    "                      training_window=15, forecast_window=1, freq=12,epochs=1):\n",
    "\n",
    "    fuzzify(x)\n",
    "    L = len(x)\n",
    "    errors = []\n",
    "    \n",
    "    for i in range(0, L - (training_window+forecast_window)*freq, freq):   \n",
    "\n",
    "        raw_seq = x[i:i+(training_window + forecast_window)*freq]\n",
    "\n",
    "        X, y_test = train_test_split_ts_2d_raw(raw_seq, forecast_window*freq) \n",
    "        X_train, y_train = split_sequence(X, n_steps)\n",
    "\n",
    "        #estimator = KerasRegressor(build_fn=baseline_ model(n_steps), epochs=100, batch_size=5, verbose=0)\n",
    "        model = build_model(n_steps, num_units, learning_rate, optimizer)\n",
    "\n",
    "\n",
    "        #EPOCHS = 100\n",
    "        model.fit(X_train, y_train, epochs=epochs, validation_split = 0.2, verbose=0)\n",
    "\n",
    "        y_hat = forecast(np.append(X_train[-1][1:],np.array(y_train[-1])), model, freq, n_steps)\n",
    "        y_hat = np.reshape(y_hat,len(y_test))\n",
    "        if np.any(np.isnan(y_hat)):\n",
    "            errors.append(np.nan)\n",
    "        else:\n",
    "            errors.append(math.sqrt(mean_squared_error(y_test,y_hat)))\n",
    "\n",
    "        #errors.append(math.sqrt(mean_squared_error(y_test,y_hat)))\n",
    "        \n",
    "    return(np.nanmean(errors))"
   ]
  },
  {
   "cell_type": "code",
   "execution_count": 9,
   "metadata": {},
   "outputs": [],
   "source": [
    "def uni_deseasonalize(ts,freq=12):\n",
    "    ts = np.array(ts)\n",
    "    avgs = np.zeros(freq)\n",
    "    stds = np.zeros(freq)\n",
    "    N = len(ts)\n",
    "    #averages = np.zeros((freq,n))\n",
    "    temp = ts\n",
    "    result = np.zeros((N))\n",
    "    for j in range(freq):\n",
    "        Idx = np.arange(j,N,freq)\n",
    "        avgs[j] = temp[Idx].mean()\n",
    "        stds[j] = temp[Idx].std()\n",
    "        result[Idx] = (temp[Idx] - temp[Idx].mean())#/temp[Idx].std()\n",
    "    return(result, avgs) "
   ]
  },
  {
   "cell_type": "code",
   "execution_count": 10,
   "metadata": {},
   "outputs": [],
   "source": [
    "data = np.load('../data.npy')\n",
    "lat = np.load('../lat.npy')\n",
    "lon = np.load('../lon.npy')"
   ]
  },
  {
   "cell_type": "code",
   "execution_count": 11,
   "metadata": {},
   "outputs": [],
   "source": [
    "x = data[27,6,]"
   ]
  },
  {
   "cell_type": "code",
   "execution_count": 39,
   "metadata": {},
   "outputs": [],
   "source": [
    "n = 30\n",
    "# Set forecasting window length (in years)\n",
    "m = 3\n",
    "# Set annual sampling rate\n",
    "f = 12 \n",
    "L = len(x)\n",
    "errors = []\n",
    "j = 0\n",
    "\n",
    "\n",
    "start = 1946\n",
    "origin = 1980\n",
    "# Set annual sampling rate\n",
    "freq = 12\n",
    "h = m*f\n",
    "n_steps = 20\n",
    "\n",
    "index = (origin - start) * f\n",
    "\n",
    "#x.ts <- x[index:length(x)-1]\n",
    "\n",
    "train_start = index\n",
    "train_end = train_start+n*f-1\n",
    "\n",
    "test_start = train_end + 1\n",
    "test_end = test_start + m*f -1"
   ]
  },
  {
   "cell_type": "code",
   "execution_count": 38,
   "metadata": {},
   "outputs": [],
   "source": [
    "x_train = x[train_start:train_end]\n",
    "x_test = x[test_start:test_end]"
   ]
  },
  {
   "cell_type": "code",
   "execution_count": 72,
   "metadata": {},
   "outputs": [],
   "source": [
    "co2_by_month = x[train_start:test_end]\n",
    "num_forecast_steps = 3 * 12 # Forecast the final ten years, given previous data\n",
    "co2_by_month_training_data = x_train\n",
    "\n",
    "co2_dates = np.arange(\"1980-01\", \"2012-12\", dtype=\"datetime64[M]\")\n",
    "co2_loc = mdates.YearLocator(3)\n",
    "co2_fmt = mdates.DateFormatter('%Y')"
   ]
  },
  {
   "cell_type": "code",
   "execution_count": 41,
   "metadata": {},
   "outputs": [],
   "source": [
    "def build_model(observed_time_series):\n",
    "    trend = sts.LocalLinearTrend(observed_time_series=observed_time_series)\n",
    "    seasonal = tfp.sts.Seasonal(\n",
    "      num_seasons=12, observed_time_series=observed_time_series)\n",
    "    model = sts.Sum([trend, seasonal], observed_time_series=observed_time_series)\n",
    "    return model"
   ]
  },
  {
   "cell_type": "code",
   "execution_count": 73,
   "metadata": {},
   "outputs": [],
   "source": [
    "co2_model = build_model(x_train)\n",
    "\n",
    "# Build the variational surrogate posteriors `qs`.\n",
    "variational_posteriors = tfp.sts.build_factored_surrogate_posterior(\n",
    "    model=co2_model)\n",
    "\n"
   ]
  },
  {
   "cell_type": "code",
   "execution_count": 74,
   "metadata": {},
   "outputs": [
    {
     "data": {
      "image/png": "[encoded data removed]",
      "text/plain": [
       "<Figure size 432x288 with 1 Axes>"
      ]
     },
     "metadata": {
      "needs_background": "light"
     },
     "output_type": "display_data"
    }
   ],
   "source": [
    "#@title Minimize the variational loss.\n",
    "\n",
    "# Allow external control of optimization to reduce test runtimes.\n",
    "num_variational_steps = 200 # @param { isTemplate: true}\n",
    "num_variational_steps = int(num_variational_steps)\n",
    "\n",
    "optimizer = tf.optimizers.Adam(learning_rate=.1)\n",
    "# Using fit_surrogate_posterior to build and optimize the variational loss function.\n",
    "@tf.function(experimental_compile=True)\n",
    "def train():\n",
    "    elbo_loss_curve = tfp.vi.fit_surrogate_posterior(\n",
    "    target_log_prob_fn=co2_model.joint_log_prob(\n",
    "    observed_time_series=x_train),\n",
    "    surrogate_posterior=variational_posteriors,\n",
    "    optimizer=optimizer,\n",
    "    num_steps=num_variational_steps)\n",
    "    return elbo_loss_curve\n",
    "\n",
    "elbo_loss_curve = train()\n",
    "\n",
    "plt.plot(elbo_loss_curve)\n",
    "plt.show()\n",
    "\n",
    "# Draw samples from the variational posterior.\n",
    "q_samples_co2_ = variational_posteriors.sample(50)"
   ]
  },
  {
   "cell_type": "code",
   "execution_count": 75,
   "metadata": {},
   "outputs": [
    {
     "name": "stdout",
     "output_type": "stream",
     "text": [
      "Inferred parameters:\n",
      "observation_noise_scale: 12.952661514282227 +- 0.4917823076248169\n",
      "LocalLinearTrend/_level_scale: 0.23520593345165253 +- 0.1550997644662857\n",
      "LocalLinearTrend/_slope_scale: 0.022622762247920036 +- 0.045173101127147675\n",
      "Seasonal/_drift_scale: 0.5809606909751892 +- 0.3489072024822235\n"
     ]
    }
   ],
   "source": [
    "print(\"Inferred parameters:\")\n",
    "for param in co2_model.parameters:\n",
    "    print(\"{}: {} +- {}\".format(param.name,\n",
    "                              np.mean(q_samples_co2_[param.name], axis=0),\n",
    "                              np.std(q_samples_co2_[param.name], axis=0)))"
   ]
  },
  {
   "cell_type": "code",
   "execution_count": 36,
   "metadata": {},
   "outputs": [],
   "source": [
    "\n"
   ]
  },
  {
   "cell_type": "code",
   "execution_count": 76,
   "metadata": {},
   "outputs": [],
   "source": [
    "co2_forecast_dist = tfp.sts.forecast(\n",
    "    co2_model,\n",
    "    observed_time_series=x_train,\n",
    "    parameter_samples=q_samples_co2_,\n",
    "    num_steps_forecast=num_forecast_steps)\n",
    "\n"
   ]
  },
  {
   "cell_type": "code",
   "execution_count": 77,
   "metadata": {},
   "outputs": [],
   "source": [
    "\n",
    "\n",
    "num_samples=10\n",
    "\n",
    "co2_forecast_mean, co2_forecast_scale, co2_forecast_samples = (\n",
    "    co2_forecast_dist.mean().numpy()[..., 0],\n",
    "    co2_forecast_dist.stddev().numpy()[..., 0],\n",
    "    co2_forecast_dist.sample(num_samples).numpy()[..., 0])\n",
    "\n"
   ]
  },
  {
   "cell_type": "code",
   "execution_count": 78,
   "metadata": {},
   "outputs": [],
   "source": [
    "\n",
    "\n",
    "def plot_forecast(x, y,\n",
    "                  forecast_mean, forecast_scale, forecast_samples,\n",
    "                  title, x_locator=None, x_formatter=None):\n",
    "  \"\"\"Plot a forecast distribution against the 'true' time series.\"\"\"\n",
    "  colors = sns.color_palette()\n",
    "  c1, c2 = colors[0], colors[1]\n",
    "  fig = plt.figure(figsize=(12, 6))\n",
    "  ax = fig.add_subplot(1, 1, 1)\n",
    "\n",
    "  num_steps = len(y)\n",
    "  num_steps_forecast = forecast_mean.shape[-1]\n",
    "  num_steps_train = num_steps - num_steps_forecast\n",
    "\n",
    "\n",
    "  ax.plot(x, y, lw=2, color=c1, label='ground truth')\n",
    "\n",
    "  forecast_steps = np.arange(\n",
    "      x[num_steps_train],\n",
    "      x[num_steps_train]+num_steps_forecast,\n",
    "      dtype=x.dtype)\n",
    "\n",
    "  ax.plot(forecast_steps, forecast_samples.T, lw=1, color=c2, alpha=0.1)\n",
    "\n",
    "  ax.plot(forecast_steps, forecast_mean, lw=2, ls='--', color=c2,\n",
    "           label='forecast')\n",
    "  ax.fill_between(forecast_steps,\n",
    "                   forecast_mean-2*forecast_scale,\n",
    "                   forecast_mean+2*forecast_scale, color=c2, alpha=0.2)\n",
    "\n",
    "  ymin, ymax = min(np.min(forecast_samples), np.min(y)), max(np.max(forecast_samples), np.max(y))\n",
    "  yrange = ymax-ymin\n",
    "  ax.set_ylim([ymin - yrange*0.1, ymax + yrange*0.1])\n",
    "  ax.set_title(\"{}\".format(title))\n",
    "  ax.legend()\n",
    "\n",
    "  if x_locator is not None:\n",
    "    ax.xaxis.set_major_locator(x_locator)\n",
    "    ax.xaxis.set_major_formatter(x_formatter)\n",
    "    fig.autofmt_xdate()\n",
    "\n",
    "  return fig, ax\n",
    "\n"
   ]
  },
  {
   "cell_type": "code",
   "execution_count": 82,
   "metadata": {},
   "outputs": [
    {
     "data": {
      "text/plain": [
       "12.963929827120324"
      ]
     },
     "execution_count": 82,
     "metadata": {},
     "output_type": "execute_result"
    }
   ],
   "source": [
    "math.sqrt(mean_squared_error(co2_forecast_mean[:-1], x_test))"
   ]
  },
  {
   "cell_type": "code",
   "execution_count": null,
   "metadata": {},
   "outputs": [],
   "source": []
  },
  {
   "cell_type": "code",
   "execution_count": 79,
   "metadata": {},
   "outputs": [
    {
     "data": {
      "image/png": "[encoded data removed]",
      "text/plain": [
       "<Figure size 864x432 with 1 Axes>"
      ]
     },
     "metadata": {
      "needs_background": "light"
     },
     "output_type": "display_data"
    }
   ],
   "source": [
    "\n",
    "\n",
    "fig, ax = plot_forecast(\n",
    "    co2_dates, co2_by_month,\n",
    "    co2_forecast_mean, co2_forecast_scale, co2_forecast_samples,\n",
    "    x_locator=co2_loc,\n",
    "    x_formatter=co2_fmt,\n",
    "    title=\"Atmospheric CO2 forecast\")\n",
    "ax.axvline(co2_dates[-num_forecast_steps], linestyle=\"--\")\n",
    "ax.legend(loc=\"upper left\")\n",
    "ax.set_ylabel(\"Atmospheric CO2 concentration (ppm)\")\n",
    "ax.set_xlabel(\"Year\")\n",
    "fig.autofmt_xdate()\n",
    "\n"
   ]
  },
  {
   "cell_type": "code",
   "execution_count": 65,
   "metadata": {},
   "outputs": [],
   "source": [
    "# Build a dict mapping components to distributions over\n",
    "# their contribution to the observed signal.\n",
    "component_dists = sts.decompose_by_component(\n",
    "    co2_model,\n",
    "    observed_time_series=co2_by_month,\n",
    "    parameter_samples=q_samples_co2_)"
   ]
  },
  {
   "cell_type": "code",
   "execution_count": 66,
   "metadata": {},
   "outputs": [],
   "source": [
    "co2_component_means_, co2_component_stddevs_ = (\n",
    "    {k.name: c.mean() for k, c in component_dists.items()},\n",
    "    {k.name: c.stddev() for k, c in component_dists.items()})\n",
    "\n"
   ]
  },
  {
   "cell_type": "code",
   "execution_count": 67,
   "metadata": {},
   "outputs": [],
   "source": [
    "def plot_components(dates,\n",
    "                    component_means_dict,\n",
    "                    component_stddevs_dict,\n",
    "                    x_locator=None,\n",
    "                    x_formatter=None):\n",
    "  \"\"\"Plot the contributions of posterior components in a single figure.\"\"\"\n",
    "  colors = sns.color_palette()\n",
    "  c1, c2 = colors[0], colors[1]\n",
    "\n",
    "  axes_dict = collections.OrderedDict()\n",
    "  num_components = len(component_means_dict)\n",
    "  fig = plt.figure(figsize=(12, 2.5 * num_components))\n",
    "  for i, component_name in enumerate(component_means_dict.keys()):\n",
    "    component_mean = component_means_dict[component_name]\n",
    "    component_stddev = component_stddevs_dict[component_name]\n",
    "\n",
    "    ax = fig.add_subplot(num_components,1,1+i)\n",
    "    ax.plot(dates, component_mean, lw=2)\n",
    "    ax.fill_between(dates,\n",
    "                     component_mean-2*component_stddev,\n",
    "                     component_mean+2*component_stddev,\n",
    "                     color=c2, alpha=0.5)\n",
    "    ax.set_title(component_name)\n",
    "    if x_locator is not None:\n",
    "      ax.xaxis.set_major_locator(x_locator)\n",
    "      ax.xaxis.set_major_formatter(x_formatter)\n",
    "    axes_dict[component_name] = ax\n",
    "  fig.autofmt_xdate()\n",
    "  fig.tight_layout()\n",
    "  return fig, axes_dict"
   ]
  },
  {
   "cell_type": "code",
   "execution_count": 68,
   "metadata": {},
   "outputs": [
    {
     "data": {
      "image/png": "[encoded data removed]",
      "text/plain": [
       "<Figure size 864x360 with 2 Axes>"
      ]
     },
     "metadata": {
      "needs_background": "light"
     },
     "output_type": "display_data"
    }
   ],
   "source": [
    "_ = plot_components(co2_dates, co2_component_means_, co2_component_stddevs_,\n",
    "                    x_locator=co2_loc, x_formatter=co2_fmt)"
   ]
  },
  {
   "cell_type": "code",
   "execution_count": 54,
   "metadata": {},
   "outputs": [
    {
     "data": {
      "text/plain": [
       "359"
      ]
     },
     "execution_count": 54,
     "metadata": {},
     "output_type": "execute_result"
    }
   ],
   "source": [
    "len(x_train)"
   ]
  },
  {
   "cell_type": "code",
   "execution_count": 55,
   "metadata": {},
   "outputs": [
    {
     "ename": "NameError",
     "evalue": "name 'y' is not defined",
     "output_type": "error",
     "traceback": [
      "\u001b[0;31m---------------------------------------------------------------------------\u001b[0m",
      "\u001b[0;31mNameError\u001b[0m                                 Traceback (most recent call last)",
      "\u001b[0;32m<ipython-input-55-24c1855bc88d>\u001b[0m in \u001b[0;36m<module>\u001b[0;34m\u001b[0m\n\u001b[0;32m----> 1\u001b[0;31m \u001b[0mlen\u001b[0m\u001b[0;34m(\u001b[0m\u001b[0my\u001b[0m\u001b[0;34m)\u001b[0m\u001b[0;34m\u001b[0m\u001b[0;34m\u001b[0m\u001b[0m\n\u001b[0m",
      "\u001b[0;31mNameError\u001b[0m: name 'y' is not defined"
     ]
    }
   ],
   "source": []
  },
  {
   "cell_type": "code",
   "execution_count": null,
   "metadata": {},
   "outputs": [],
   "source": []
  },
  {
   "cell_type": "code",
   "execution_count": 15,
   "metadata": {},
   "outputs": [
    {
     "name": "stdout",
     "output_type": "stream",
     "text": [
      "WARNING:tensorflow:From /home/mathsys2/anaconda3/envs/tensorflow/lib/python3.6/site-packages/tensorflow_probability/python/sts/local_linear_trend.py:324: AffineScalar.__init__ (from tensorflow_probability.python.bijectors.affine_scalar) is deprecated and will be removed after 2020-01-01.\n",
      "Instructions for updating:\n",
      "`AffineScalar` bijector is deprecated; please use `tfb.Shift(loc)(tfb.Scale(...))` instead.\n",
      "WARNING:tensorflow:From /home/mathsys2/anaconda3/envs/tensorflow/lib/python3.6/site-packages/tensorflow_core/python/ops/linalg/linear_operator_composition.py:173: LinearOperator.graph_parents (from tensorflow.python.ops.linalg.linear_operator) is deprecated and will be removed in a future version.\n",
      "Instructions for updating:\n",
      "Do not call `graph_parents`.\n",
      "WARNING:tensorflow:From /home/mathsys2/anaconda3/envs/tensorflow/lib/python3.6/site-packages/tensorflow_probability/python/distributions/distribution.py:284: MultivariateNormalFullCovariance.__init__ (from tensorflow_probability.python.distributions.mvn_full_covariance) is deprecated and will be removed after 2019-12-01.\n",
      "Instructions for updating:\n",
      "`MultivariateNormalFullCovariance` is deprecated, use `MultivariateNormalTriL(loc=loc, scale_tril=tf.linalg.cholesky(covariance_matrix))` instead.\n"
     ]
    }
   ],
   "source": [
    "trend = tfp.sts.LocalLinearTrend(observed_time_series=x_train)\n",
    "seasonal = tfp.sts.Seasonal(num_seasons=12, observed_time_series=x_train)\n",
    "model = tfp.sts.Sum([trend, seasonal], observed_time_series=x_train)"
   ]
  },
  {
   "cell_type": "code",
   "execution_count": 19,
   "metadata": {},
   "outputs": [
    {
     "data": {
      "text/plain": [
       "[Parameter(name='observation_noise_scale', prior=<tfp.distributions.LogNormal 'Sum_LogNormal' batch_shape=[] event_shape=[] dtype=float32>, bijector=<tensorflow_probability.python.bijectors.chain.Chain object at 0x7feeaff6b198>),\n",
       " Parameter(name='LocalLinearTrend/_level_scale', prior=<tfp.distributions.LogNormal 'LocalLinearTrend_level_scale_prior' batch_shape=[] event_shape=[] dtype=float32>, bijector=<tensorflow_probability.python.bijectors.chain.Chain object at 0x7feeb13d9be0>),\n",
       " Parameter(name='LocalLinearTrend/_slope_scale', prior=<tfp.distributions.LogNormal 'LocalLinearTrend_slope_scale_prior' batch_shape=[] event_shape=[] dtype=float32>, bijector=<tensorflow_probability.python.bijectors.chain.Chain object at 0x7feeb13d9be0>),\n",
       " Parameter(name='Seasonal/_drift_scale', prior=<tfp.distributions.LogNormal 'Seasonal_LogNormal' batch_shape=[] event_shape=[] dtype=float32>, bijector=<tensorflow_probability.python.bijectors.chain.Chain object at 0x7feeaff759b0>)]"
      ]
     },
     "execution_count": 19,
     "metadata": {},
     "output_type": "execute_result"
    }
   ],
   "source": [
    "model"
   ]
  },
  {
   "cell_type": "code",
   "execution_count": null,
   "metadata": {},
   "outputs": [],
   "source": []
  },
  {
   "cell_type": "code",
   "execution_count": null,
   "metadata": {},
   "outputs": [],
   "source": []
  },
  {
   "cell_type": "code",
   "execution_count": null,
   "metadata": {},
   "outputs": [],
   "source": []
  },
  {
   "cell_type": "code",
   "execution_count": null,
   "metadata": {},
   "outputs": [],
   "source": []
  },
  {
   "cell_type": "code",
   "execution_count": null,
   "metadata": {},
   "outputs": [],
   "source": []
  },
  {
   "cell_type": "code",
   "execution_count": 340,
   "metadata": {},
   "outputs": [],
   "source": [
    "n = 30\n",
    "# Set forecasting window length (in years)\n",
    "m = 3\n",
    "# Set annual sampling rate\n",
    "f = 12 \n",
    "L = len(x)\n",
    "errors = []\n",
    "j = 0\n",
    "\n",
    "\n",
    "start = 1946\n",
    "origin = 1960\n",
    "# Set annual sampling rate\n",
    "freq = 12\n",
    "h = m*f\n",
    "n_steps = 20\n",
    "\n",
    "index = (origin - start) * f\n",
    "\n",
    "#x.ts <- x[index:length(x)-1]\n",
    "\n",
    "train_start = index\n",
    "train_end = train_start+n*f-1\n",
    "\n",
    "test_start = train_end + 1\n",
    "test_end = test_start + m*f -1"
   ]
  },
  {
   "cell_type": "code",
   "execution_count": 341,
   "metadata": {},
   "outputs": [],
   "source": [
    "# define input sequence\n",
    "raw_seq = x[index:index+(n+m)*f]\n",
    "X, y_test = train_test_split_ts_2d_raw(raw_seq, h) \n",
    "X, avgs = uni_deseasonalize(X)"
   ]
  },
  {
   "cell_type": "code",
   "execution_count": 342,
   "metadata": {},
   "outputs": [],
   "source": [
    "X_train, y_train = split_sequence(X, n_steps)"
   ]
  },
  {
   "cell_type": "code",
   "execution_count": 343,
   "metadata": {},
   "outputs": [],
   "source": [
    "n_units = [200,100,50,30,20,15,10]\n",
    "learning_rate = 0.001\n",
    "optimizer = 'sgd'\n",
    "epochs = 100"
   ]
  },
  {
   "cell_type": "code",
   "execution_count": 344,
   "metadata": {},
   "outputs": [],
   "source": [
    "model = build_model(n_steps, n_units, learning_rate, optimizer)\n",
    "model.fit(X_train, y_train, epochs=epochs, validation_split = 0.2, verbose=0)\n",
    "y_hat = forecast(np.append(X_train[-1][1:],np.array(y_train[-1])), model, h, n_steps)\n",
    "y_hat = np.reshape(y_hat,len(y_test))"
   ]
  },
  {
   "cell_type": "code",
   "execution_count": 345,
   "metadata": {},
   "outputs": [],
   "source": [
    "avgs = np.tile(avgs, int(len(y_hat)/f))\n",
    "#stds = np.tile(stds, int(len(y_hat)/f))"
   ]
  },
  {
   "cell_type": "code",
   "execution_count": 346,
   "metadata": {},
   "outputs": [
    {
     "data": {
      "text/plain": [
       "10.14633316286953"
      ]
     },
     "execution_count": 346,
     "metadata": {},
     "output_type": "execute_result"
    }
   ],
   "source": [
    "math.sqrt(mean_squared_error(y_test,y_hat + avgs))"
   ]
  },
  {
   "cell_type": "code",
   "execution_count": 216,
   "metadata": {},
   "outputs": [],
   "source": []
  },
  {
   "cell_type": "code",
   "execution_count": null,
   "metadata": {},
   "outputs": [],
   "source": []
  },
  {
   "cell_type": "code",
   "execution_count": null,
   "metadata": {},
   "outputs": [],
   "source": []
  },
  {
   "cell_type": "code",
   "execution_count": null,
   "metadata": {},
   "outputs": [],
   "source": [
    "if np.any(np.isnan(y_hat)):\n",
    "    errors.append(np.nan)\n",
    "else:\n",
    "    errors.append(math.sqrt(mean_squared_error(y_test,y_hat)))"
   ]
  },
  {
   "cell_type": "code",
   "execution_count": null,
   "metadata": {},
   "outputs": [],
   "source": []
  },
  {
   "cell_type": "code",
   "execution_count": null,
   "metadata": {},
   "outputs": [],
   "source": []
  },
  {
   "cell_type": "code",
   "execution_count": null,
   "metadata": {},
   "outputs": [],
   "source": []
  },
  {
   "cell_type": "code",
   "execution_count": 36,
   "metadata": {},
   "outputs": [],
   "source": [
    "data = np.load('data.npy')\n",
    "lat = np.load('lat.npy')\n",
    "lon = np.load('lon.npy')"
   ]
  },
  {
   "cell_type": "code",
   "execution_count": 44,
   "metadata": {},
   "outputs": [],
   "source": [
    "#data[22,8,2:dim(data)[3]]  #cluster==2\n",
    "#x<-data[28,7,3:dim(data)[3]]   #cluster==0\n",
    "x = data[21,7,]"
   ]
  },
  {
   "cell_type": "code",
   "execution_count": 88,
   "metadata": {},
   "outputs": [
    {
     "ename": "NameError",
     "evalue": "name 'epochs' is not defined",
     "output_type": "error",
     "traceback": [
      "\u001b[0;31m---------------------------------------------------------------------------\u001b[0m",
      "\u001b[0;31mNameError\u001b[0m                                 Traceback (most recent call last)",
      "\u001b[0;32m<ipython-input-88-dd367a073459>\u001b[0m in \u001b[0;36m<module>\u001b[0;34m\u001b[0m\n\u001b[0;32m----> 1\u001b[0;31m \u001b[0mmodel\u001b[0m\u001b[0;34m.\u001b[0m\u001b[0mfit\u001b[0m\u001b[0;34m(\u001b[0m\u001b[0mX_train\u001b[0m\u001b[0;34m,\u001b[0m \u001b[0my_train\u001b[0m\u001b[0;34m,\u001b[0m \u001b[0mepochs\u001b[0m\u001b[0;34m=\u001b[0m\u001b[0mepochs\u001b[0m\u001b[0;34m,\u001b[0m \u001b[0mvalidation_split\u001b[0m \u001b[0;34m=\u001b[0m \u001b[0;36m0.2\u001b[0m\u001b[0;34m,\u001b[0m \u001b[0mverbose\u001b[0m\u001b[0;34m=\u001b[0m\u001b[0;36m0\u001b[0m\u001b[0;34m)\u001b[0m\u001b[0;34m\u001b[0m\u001b[0;34m\u001b[0m\u001b[0m\n\u001b[0m",
      "\u001b[0;31mNameError\u001b[0m: name 'epochs' is not defined"
     ]
    }
   ],
   "source": []
  },
  {
   "cell_type": "code",
   "execution_count": 55,
   "metadata": {},
   "outputs": [],
   "source": []
  },
  {
   "cell_type": "code",
   "execution_count": 62,
   "metadata": {},
   "outputs": [
    {
     "data": {
      "text/plain": [
       "array([[0.02, 0.02, 0.01, ..., 0.  , 0.  , 1.73],\n",
       "       [0.02, 0.01, 0.  , ..., 0.  , 1.73, 0.09],\n",
       "       [0.01, 0.  , 0.08, ..., 1.73, 0.09, 0.18],\n",
       "       ...,\n",
       "       [0.02, 0.01, 0.  , ..., 0.  , 0.19, 0.09],\n",
       "       [0.01, 0.  , 0.31, ..., 0.19, 0.09, 0.1 ],\n",
       "       [0.  , 0.31, 0.  , ..., 0.09, 0.1 , 0.  ]], dtype=float32)"
      ]
     },
     "execution_count": 62,
     "metadata": {},
     "output_type": "execute_result"
    }
   ],
   "source": [
    "X_train"
   ]
  },
  {
   "cell_type": "code",
   "execution_count": null,
   "metadata": {},
   "outputs": [],
   "source": []
  },
  {
   "cell_type": "code",
   "execution_count": null,
   "metadata": {},
   "outputs": [],
   "source": []
  },
  {
   "cell_type": "code",
   "execution_count": null,
   "metadata": {},
   "outputs": [],
   "source": []
  },
  {
   "cell_type": "code",
   "execution_count": null,
   "metadata": {},
   "outputs": [],
   "source": []
  },
  {
   "cell_type": "code",
   "execution_count": null,
   "metadata": {},
   "outputs": [],
   "source": []
  },
  {
   "cell_type": "code",
   "execution_count": null,
   "metadata": {},
   "outputs": [],
   "source": []
  },
  {
   "cell_type": "code",
   "execution_count": 38,
   "metadata": {},
   "outputs": [],
   "source": [
    "n=30\n",
    "# Set forecasting window length (in years)\n",
    "m=3\n",
    "# Set start year\n",
    "start = 1948\n",
    "origin = 1980\n",
    "# Set annual sampling rate\n",
    "f = 12\n",
    "h = m*f\n",
    "\n",
    "index = (origin - start) * f +1\n",
    "\n",
    "#x.ts <- x[index:length(x)-1]\n",
    "\n",
    "train_start = index\n",
    "train_end = train_start+n*f-1\n",
    "\n",
    "test_start = train_end + 1\n",
    "test_end = test_start + m*f -1"
   ]
  },
  {
   "cell_type": "code",
   "execution_count": 42,
   "metadata": {},
   "outputs": [
    {
     "data": {
      "text/plain": [
       "385"
      ]
     },
     "execution_count": 42,
     "metadata": {},
     "output_type": "execute_result"
    }
   ],
   "source": [
    "train_start"
   ]
  },
  {
   "cell_type": "code",
   "execution_count": 39,
   "metadata": {},
   "outputs": [],
   "source": [
    "univariate_past_history = n*f\n",
    "univariate_future_target = 1\n",
    "\n",
    "x_train_uni, y_train_uni = univariate_data(x, train_start, test_start,\n",
    "                                           univariate_past_history,\n",
    "                                           univariate_future_target)\n",
    "x_val_uni, y_val_uni = univariate_data(x, test_start, test_end,\n",
    "                                       univariate_past_history,\n",
    "                                       univariate_future_target)"
   ]
  },
  {
   "cell_type": "code",
   "execution_count": 26,
   "metadata": {},
   "outputs": [],
   "source": [
    "def create_time_steps(length):\n",
    "    return list(range(-length, 0))"
   ]
  },
  {
   "cell_type": "code",
   "execution_count": 27,
   "metadata": {},
   "outputs": [],
   "source": [
    "def show_plot(plot_data, delta, title):\n",
    "    labels = ['History', 'True Future', 'Model Prediction']\n",
    "    marker = ['.-', 'rx', 'go']\n",
    "    time_steps = create_time_steps(plot_data[0].shape[0])\n",
    "    if delta:\n",
    "        future = delta\n",
    "    else:\n",
    "        future = 0\n",
    "\n",
    "    plt.title(title)\n",
    "    for i, x in enumerate(plot_data):\n",
    "        if i:\n",
    "            plt.plot(future, plot_data[i], marker[i], markersize=10,\n",
    "                label=labels[i])\n",
    "        else:\n",
    "             plt.plot(time_steps, plot_data[i].flatten(), marker[i], label=labels[i])\n",
    "    plt.legend()\n",
    "    plt.xlim([time_steps[0], (future+5)*2])\n",
    "    plt.xlabel('Time-Step')\n",
    "    return plt\n"
   ]
  },
  {
   "cell_type": "code",
   "execution_count": 28,
   "metadata": {},
   "outputs": [],
   "source": [
    "def baseline(history):\n",
    "    return np.mean(history)"
   ]
  },
  {
   "cell_type": "code",
   "execution_count": 29,
   "metadata": {},
   "outputs": [
    {
     "ename": "IndexError",
     "evalue": "index 0 is out of bounds for axis 0 with size 0",
     "output_type": "error",
     "traceback": [
      "\u001b[0;31m---------------------------------------------------------------------------\u001b[0m",
      "\u001b[0;31mIndexError\u001b[0m                                Traceback (most recent call last)",
      "\u001b[0;32m<ipython-input-29-14ab6e7623b6>\u001b[0m in \u001b[0;36m<module>\u001b[0;34m\u001b[0m\n\u001b[0;32m----> 1\u001b[0;31m \u001b[0mshow_plot\u001b[0m\u001b[0;34m(\u001b[0m\u001b[0;34m[\u001b[0m\u001b[0mx_train_uni\u001b[0m\u001b[0;34m[\u001b[0m\u001b[0;36m0\u001b[0m\u001b[0;34m]\u001b[0m\u001b[0;34m,\u001b[0m \u001b[0my_train_uni\u001b[0m\u001b[0;34m[\u001b[0m\u001b[0;36m0\u001b[0m\u001b[0;34m]\u001b[0m\u001b[0;34m]\u001b[0m\u001b[0;34m,\u001b[0m \u001b[0;36m0\u001b[0m\u001b[0;34m,\u001b[0m \u001b[0;34m'Sample Example'\u001b[0m\u001b[0;34m)\u001b[0m\u001b[0;34m\u001b[0m\u001b[0;34m\u001b[0m\u001b[0m\n\u001b[0m",
      "\u001b[0;31mIndexError\u001b[0m: index 0 is out of bounds for axis 0 with size 0"
     ]
    }
   ],
   "source": [
    "show_plot([x_train_uni[0], y_train_uni[0]], 0, 'Sample Example')\n"
   ]
  },
  {
   "cell_type": "code",
   "execution_count": 40,
   "metadata": {},
   "outputs": [
    {
     "data": {
      "text/plain": [
       "array([], dtype=float64)"
      ]
     },
     "execution_count": 40,
     "metadata": {},
     "output_type": "execute_result"
    }
   ],
   "source": [
    "x_train_uni"
   ]
  },
  {
   "cell_type": "code",
   "execution_count": null,
   "metadata": {},
   "outputs": [],
   "source": []
  }
 ],
 "metadata": {
  "kernelspec": {
   "display_name": "Python 3",
   "language": "python",
   "name": "python3"
  },
  "language_info": {
   "codemirror_mode": {
    "name": "ipython",
    "version": 3
   },
   "file_extension": ".py",
   "mimetype": "text/x-python",
   "name": "python",
   "nbconvert_exporter": "python",
   "pygments_lexer": "ipython3",
   "version": "3.6.9"
  }
 },
 "nbformat": 4,
 "nbformat_minor": 2
}
