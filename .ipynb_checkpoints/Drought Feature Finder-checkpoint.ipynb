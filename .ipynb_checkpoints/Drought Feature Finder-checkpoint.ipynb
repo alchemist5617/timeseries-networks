{
 "cells": [
  {
   "cell_type": "code",
   "execution_count": 1,
   "metadata": {},
   "outputs": [
    {
     "name": "stdout",
     "output_type": "stream",
     "text": [
      "Could not import rpy package\n",
      "Could not import r-package RCIT\n"
     ]
    },
    {
     "name": "stderr",
     "output_type": "stream",
     "text": [
      "/home/mathsys2/anaconda3/lib/python3.6/site-packages/sklearn/ensemble/weight_boosting.py:29: DeprecationWarning: numpy.core.umath_tests is an internal NumPy module and should not be imported. It will be removed in a future NumPy release.\n",
      "  from numpy.core.umath_tests import inner1d\n"
     ]
    }
   ],
   "source": [
    "import numpy as np\n",
    "import math\n",
    "import pandas as pd\n",
    "import random\n",
    "from sklearn.decomposition import PCA\n",
    "from sklearn.preprocessing import StandardScaler\n",
    "\n",
    "from netCDF4 import Dataset\n",
    "\n",
    "from sklearn.preprocessing import MinMaxScaler\n",
    "\n",
    "\n",
    "import PCA_functions as pf\n",
    "import Extreme_functions as ef\n",
    "\n",
    "from tigramite import plotting as tp\n",
    "from tigramite.pcmci import PCMCI\n",
    "from tigramite.independence_tests import ParCorr, CMIknn\n",
    "import tigramite.data_processing as pp\n",
    "\n",
    "from Data import Data\n",
    "from datetime import datetime\n",
    "\n",
    "import pickle\n",
    "from statsmodels.tsa.stattools import grangercausalitytests\n",
    "from sklearn.metrics import mean_squared_error\n",
    "from sklearn.ensemble import RandomForestRegressor\n",
    "from sklearn.feature_selection import SelectFromModel\n",
    "\n",
    "import matplotlib.pyplot as plt\n",
    "plt.rcParams[\"figure.figsize\"] = (20,10)"
   ]
  },
  {
   "cell_type": "code",
   "execution_count": 2,
   "metadata": {},
   "outputs": [],
   "source": [
    "def save_obj(obj, name ):\n",
    "    with open(name + '.pkl', 'wb') as f:\n",
    "        pickle.dump(obj, f, pickle.HIGHEST_PROTOCOL)\n",
    "\n",
    "def load_obj(name ):\n",
    "    with open(name + '.pkl', 'rb') as f:\n",
    "        return pickle.load(f)\n",
    "\n",
    "def deseasonalize(data,freq=12):\n",
    "    \"\"\"\n",
    "    The shape of data should be (time, index) \n",
    "    \"\"\"\n",
    "    n  = data.shape[1]\n",
    "    N  = data.shape[0]\n",
    "    data_deseasonal = np.zeros(data.shape)\n",
    "    for i in range(n):\n",
    "        temp = np.copy(data[:,i])\n",
    "        r = np.zeros((N))\n",
    "        for j in range(freq):\n",
    "            Idx = np.arange(j,N,freq)\n",
    "            if temp[Idx].std() == 0:\n",
    "                r[Idx] = 0\n",
    "            else:\n",
    "                r[Idx] = (temp[Idx] - temp[Idx].mean())/temp[Idx].std()\n",
    "        data_deseasonal[:,i] = np.copy(r)\n",
    "    return(data_deseasonal)\n",
    "\n",
    "\n",
    "ET_gamma = np.load(\"ET_gamma.npy\")\n",
    "N = ET_gamma.shape[0]\n",
    "n_nodes = ET_gamma.shape[1]\n",
    "extremes_treshold = -1\n",
    "count = []\n",
    "for i in range(N):\n",
    "    count.append(np.count_nonzero(ET_gamma[i,:] <= extremes_treshold))\n",
    "\n",
    "level = 12\n",
    "temporal_limits = {\"time_min\":datetime(1977, 1, 1, 0, 0),\"time_max\":datetime(2015, 12, 1, 0, 0) }"
   ]
  },
  {
   "cell_type": "code",
   "execution_count": 3,
   "metadata": {},
   "outputs": [],
   "source": [
    "def min_MSE_finder(count, result_sst, link,n_estimators=100, max_depth=5, tau=-1):\n",
    "    result =[]\n",
    "    link = link[link[:,1] <= tau]\n",
    "\n",
    "    df = pd.DataFrame({\"drought\":count, \"drought1\":count})\n",
    "    df.drought1 = df.drought1.shift(abs(tau))\n",
    "    df = df.dropna()\n",
    "    index = int(df.shape[0]*0.7)\n",
    "    dim = df.shape[1]\n",
    "\n",
    "    x_train, x_test = df.iloc[:index,1:dim], df.iloc[index:,1:dim] \n",
    "    y_train, y_test = df.iloc[:index,0], df.iloc[index:,0] \n",
    "    model = RandomForestRegressor(max_depth=max_depth, random_state=0, n_estimators=n_estimators)\n",
    "    model.fit(x_train, y_train)\n",
    "    y_pred = model.predict(x_test)\n",
    "    result.append(mean_squared_error(y_pred, y_test))\n",
    "\n",
    "\n",
    "    for z in range(len(link)):\n",
    "        df = pd.DataFrame({\"drought\":count, \"drought1\":count})\n",
    "        df.drought1 = df.drought1.shift(abs(tau))\n",
    "        for k in range(0,z+1):\n",
    "                if link[k,0] != 0:\n",
    "                    df[str(link[k,0]-1)] = result_sst[:,link[k,0]-1]\n",
    "                    df[str(link[k,0]-1)] = df[str(link[k,0]-1)].shift(abs(link[k,1]))\n",
    "                else:\n",
    "                    df[str(link[k,0])] = count\n",
    "                    df[str(link[k,0])] = df[str(link[k,0])].shift(abs(link[k,1]))\n",
    "        df = df.dropna()\n",
    "        index = int(df.shape[0]*0.7)\n",
    "        dim = df.shape[1]\n",
    "\n",
    "        x_train, x_test = df.iloc[:index,1:dim], df.iloc[index:,1:dim] \n",
    "        y_train, y_test = df.iloc[:index,0], df.iloc[index:,0] \n",
    "        model = RandomForestRegressor(max_depth=5, random_state=0, n_estimators=100)\n",
    "        model.fit(x_train, y_train)\n",
    "        y_pred = model.predict(x_test)\n",
    "        result.append(mean_squared_error(y_pred, y_test))\n",
    "    return(result,link)"
   ]
  },
  {
   "cell_type": "code",
   "execution_count": 4,
   "metadata": {},
   "outputs": [],
   "source": [
    "def result_creator(name, code, missing, n_components, temporal_limits = temporal_limits):\n",
    "\n",
    "    d = Data('{}'.format(name),code,temporal_limits,missing_value=missing)\n",
    "\n",
    "    result = d.get_data()\n",
    "    lon_list = d.get_lon_list()\n",
    "    lat_list = d.get_lat_list()\n",
    "    lon = d.get_lon()\n",
    "    lat = d.get_lat()\n",
    "\n",
    "    result = deseasonalize(np.array(result))\n",
    "    weights = np.sqrt(np.abs(np.cos(np.array(lat_list)* math.pi/180)))\n",
    "    for i in range(len(weights)):\n",
    "        result[:,i] = weights[i] * result[:,i]\n",
    "\n",
    "    data = pd.DataFrame(result)\n",
    "    pca = PCA(n_components=n_components)\n",
    "    pca_model = pca.fit(data)\n",
    "\n",
    "    return(pca_model.transform(data))"
   ]
  },
  {
   "cell_type": "code",
   "execution_count": 92,
   "metadata": {},
   "outputs": [],
   "source": [
    "results = load_obj(\"results_st\")\n",
    "q_matrix = np.load(\"q_matrix_sst.npy\")"
   ]
  },
  {
   "cell_type": "code",
   "execution_count": 93,
   "metadata": {},
   "outputs": [],
   "source": [
    "pq_matrix = results['p_matrix']\n",
    "val_matrix = results['val_matrix']\n",
    "alpha_level = 0.05\n",
    "N = pq_matrix.shape[0]\n",
    "\n",
    "link_dict = dict()\n",
    "for j in range(N):\n",
    "    # Get the good links\n",
    "    good_links = np.argwhere(pq_matrix[:, j, 1:] <= alpha_level)\n",
    "    # Build a dictionary from these links to their values\n",
    "    links = {(i, -tau - 1): np.abs(val_matrix[i, j, abs(tau) + 1])\n",
    "             for i, tau in good_links}\n",
    "    # Sort by value\n",
    "    link_dict[j] = sorted(links, key=links.get, reverse=True)"
   ]
  },
  {
   "cell_type": "code",
   "execution_count": 94,
   "metadata": {},
   "outputs": [],
   "source": [
    "result_sst = result_creator(\"../../nc/sst.mnmean.nc\",\"sst\",-9.96921e+36,76)"
   ]
  },
  {
   "cell_type": "code",
   "execution_count": 95,
   "metadata": {},
   "outputs": [],
   "source": [
    "link = np.array(link_dict[0])\n",
    "if link[0,0] == 0:\n",
    "    link = link[1:,: ]"
   ]
  },
  {
   "cell_type": "code",
   "execution_count": 96,
   "metadata": {},
   "outputs": [],
   "source": [
    "n_estimators=100\n",
    "max_depth=100\n",
    "tau = -6"
   ]
  },
  {
   "cell_type": "code",
   "execution_count": 97,
   "metadata": {},
   "outputs": [],
   "source": [
    "#np.random.shuffle(link[1:,:])\n",
    "link_list = []\n",
    "result, link = min_MSE_finder(count, result_sst, link,n_estimators, max_depth,tau)\n",
    "link_list.append(link)\n",
    "overall_min_MSE = []\n",
    "overall_min_MSE.append(min(result))"
   ]
  },
  {
   "cell_type": "code",
   "execution_count": 98,
   "metadata": {},
   "outputs": [],
   "source": [
    "\n",
    "diff = [x - result[i - 1] for i, x in enumerate(result)][1:]\n",
    "I = np.array(diff) < 0 \n",
    "while not all(I):\n",
    "    link_list.append(link)\n",
    "    link = link[I,:]\n",
    "    result, link = min_MSE_finder(count, result_sst, link,n_estimators, max_depth,tau)\n",
    "    overall_min_MSE.append(min(result))\n",
    "    diff = [x - result[i - 1] for i, x in enumerate(result)][1:]\n",
    "    I = np.array(diff) < 0 "
   ]
  },
  {
   "cell_type": "code",
   "execution_count": 99,
   "metadata": {},
   "outputs": [],
   "source": [
    "i = np.argmin(np.array(overall_min_MSE))"
   ]
  },
  {
   "cell_type": "code",
   "execution_count": 89,
   "metadata": {},
   "outputs": [
    {
     "data": {
      "text/plain": [
       "array([[  2, -12],\n",
       "       [ 72, -11],\n",
       "       [ 22,  -8],\n",
       "       [ 54,  -6],\n",
       "       [ 14,  -6],\n",
       "       [ 29, -10],\n",
       "       [  5,  -8],\n",
       "       [ 70,  -6],\n",
       "       [ 67,  -9],\n",
       "       [ 52,  -7],\n",
       "       [ 10,  -7],\n",
       "       [ 33,  -8],\n",
       "       [ 67,  -6]])"
      ]
     },
     "execution_count": 89,
     "metadata": {},
     "output_type": "execute_result"
    }
   ],
   "source": [
    "link_list[i]"
   ]
  },
  {
   "cell_type": "code",
   "execution_count": 90,
   "metadata": {},
   "outputs": [],
   "source": [
    "l = link_list[i ]"
   ]
  },
  {
   "cell_type": "code",
   "execution_count": 91,
   "metadata": {},
   "outputs": [
    {
     "data": {
      "text/plain": [
       "['2', '72', '22', '54', '14', '29', '5', '70', '67', '52', '10', '33', '67']"
      ]
     },
     "execution_count": 91,
     "metadata": {},
     "output_type": "execute_result"
    }
   ],
   "source": [
    "list(map(str,list(l[:,0])))"
   ]
  },
  {
   "cell_type": "code",
   "execution_count": 55,
   "metadata": {},
   "outputs": [
    {
     "data": {
      "text/plain": [
       "(468, 8)"
      ]
     },
     "execution_count": 55,
     "metadata": {},
     "output_type": "execute_result"
    }
   ],
   "source": [
    "result_sst[:,l[:,0]-1].shape"
   ]
  },
  {
   "cell_type": "code",
   "execution_count": null,
   "metadata": {},
   "outputs": [],
   "source": []
  },
  {
   "cell_type": "code",
   "execution_count": 5,
   "metadata": {},
   "outputs": [],
   "source": [
    "def link_finder(count, results_name, q_matrix_name, file_name, code, missing,\n",
    "                n_components, tau, n_estimators=100,max_depth=100):\n",
    "    \n",
    "    results = load_obj(results_name)\n",
    "    q_matrix = np.load(q_matrix_name)\n",
    "\n",
    "    pq_matrix = results['p_matrix']\n",
    "    val_matrix = results['val_matrix']\n",
    "    alpha_level = 0.05\n",
    "    N = pq_matrix.shape[0]\n",
    "\n",
    "    link_dict = dict()\n",
    "    for j in range(N):\n",
    "        # Get the good links\n",
    "        good_links = np.argwhere(pq_matrix[:, j, 1:] <= alpha_level)\n",
    "        # Build a dictionary from these links to their values\n",
    "        links = {(i, -tau - 1): np.abs(val_matrix[i, j, abs(tau) + 1])\n",
    "                 for i, tau in good_links}\n",
    "        # Sort by value\n",
    "        link_dict[j] = sorted(links, key=links.get, reverse=True)\n",
    "\n",
    "    result_ = result_creator(file_name,code, missing, n_components)\n",
    "\n",
    "    link = np.array(link_dict[0])\n",
    "    if link[0,0] == 0:\n",
    "        link = link[1:,: ]\n",
    "\n",
    "    #np.random.shuffle(link[1:,:])\n",
    "    link_list = []\n",
    "    result, link = min_MSE_finder(count, result_, link,n_estimators, max_depth,tau)\n",
    "    link_list.append(link)\n",
    "    overall_min_MSE = []\n",
    "    overall_min_MSE.append(min(result))\n",
    "\n",
    "\n",
    "    diff = [x - result[i - 1] for i, x in enumerate(result)][1:]\n",
    "    I = np.array(diff) < 0 \n",
    "    while not all(I):\n",
    "        link_list.append(link)\n",
    "        link = link[I,:]\n",
    "        result, link = min_MSE_finder(count, result_, link,n_estimators, max_depth,tau)\n",
    "        overall_min_MSE.append(min(result))\n",
    "        diff = [x - result[i - 1] for i, x in enumerate(result)][1:]\n",
    "        I = np.array(diff) < 0 \n",
    "\n",
    "    i = np.argmin(np.array(overall_min_MSE))\n",
    "\n",
    "    return(link_list[i], overall_min_MSE)"
   ]
  },
  {
   "cell_type": "code",
   "execution_count": 128,
   "metadata": {},
   "outputs": [],
   "source": [
    "best_link_sat, all_MSE_sat= link_finder(count,\"results_sat\",\"q_matrix_sat.npy\",\"../../nc/air.mon.mean.nc\",\"air\",-9.96921e+36,82,-6)"
   ]
  },
  {
   "cell_type": "code",
   "execution_count": 6,
   "metadata": {},
   "outputs": [],
   "source": [
    "best_link_sst, all_MSE_sst= link_finder(count,\"results_st\",\"q_matrix_sst.npy\",\"../../nc/sst.mnmean.nc\",\"sst\",-9.96921e+36,76,-6)"
   ]
  },
  {
   "cell_type": "code",
   "execution_count": 62,
   "metadata": {},
   "outputs": [
    {
     "name": "stdout",
     "output_type": "stream",
     "text": [
      "-1\n",
      "-2\n",
      "-3\n",
      "-4\n",
      "-5\n",
      "-6\n",
      "-7\n",
      "-8\n",
      "-9\n",
      "-10\n",
      "-11\n",
      "-12\n"
     ]
    }
   ],
   "source": [
    "for t in range(-1,-13,-1):\n",
    "    print(t)"
   ]
  },
  {
   "cell_type": "code",
   "execution_count": 7,
   "metadata": {},
   "outputs": [],
   "source": [
    "result_list = []\n",
    "for i in range(10):\n",
    "    best_link_sst, all_MSE_sst= link_finder(count,\"results_st\",\"q_matrix_sst.npy\",\"../../nc/sst.mnmean.nc\",\"sst\"\n",
    "                                            ,-9.96921e+36,76,-6)\n",
    "    result_list.append(best_link_sst)"
   ]
  },
  {
   "cell_type": "code",
   "execution_count": 55,
   "metadata": {},
   "outputs": [],
   "source": [
    "lt = result_list[0].T\n",
    "l = list(zip(lt[0],lt[1]))"
   ]
  },
  {
   "cell_type": "code",
   "execution_count": 56,
   "metadata": {},
   "outputs": [],
   "source": [
    "for i in range(1,len(result_list)):\n",
    "    lt = result_list[i].T\n",
    "    lt = list(zip(lt[0],lt[1]))\n",
    "    l = l + lt"
   ]
  },
  {
   "cell_type": "code",
   "execution_count": 57,
   "metadata": {},
   "outputs": [],
   "source": [
    "result_dic = {}\n",
    "for item in set(l):\n",
    "    result_dic[item] = l.count(item)"
   ]
  },
  {
   "cell_type": "code",
   "execution_count": 67,
   "metadata": {},
   "outputs": [],
   "source": [
    "file_name = \"./features/result_dic_{}\".format(abs(tau))"
   ]
  },
  {
   "cell_type": "code",
   "execution_count": 68,
   "metadata": {},
   "outputs": [
    {
     "data": {
      "text/plain": [
       "'./features/result_dic_1'"
      ]
     },
     "execution_count": 68,
     "metadata": {},
     "output_type": "execute_result"
    }
   ],
   "source": [
    "file_name"
   ]
  },
  {
   "cell_type": "code",
   "execution_count": 59,
   "metadata": {},
   "outputs": [],
   "source": [
    "save_obj(result_dic,\"result_dic\")"
   ]
  },
  {
   "cell_type": "code",
   "execution_count": 60,
   "metadata": {},
   "outputs": [],
   "source": [
    "r = load_obj(\"result_dic\")"
   ]
  },
  {
   "cell_type": "code",
   "execution_count": 61,
   "metadata": {},
   "outputs": [
    {
     "data": {
      "text/plain": [
       "{(2, -12): 10,\n",
       " (5, -8): 10,\n",
       " (10, -7): 5,\n",
       " (14, -6): 10,\n",
       " (22, -8): 10,\n",
       " (29, -10): 8,\n",
       " (33, -8): 10,\n",
       " (38, -8): 8,\n",
       " (48, -10): 1,\n",
       " (49, -6): 1,\n",
       " (52, -7): 7,\n",
       " (54, -6): 8,\n",
       " (67, -12): 1,\n",
       " (67, -9): 1,\n",
       " (67, -6): 5,\n",
       " (70, -6): 4,\n",
       " (71, -6): 3,\n",
       " (72, -11): 7,\n",
       " (72, -6): 5}"
      ]
     },
     "execution_count": 61,
     "metadata": {},
     "output_type": "execute_result"
    }
   ],
   "source": [
    "r"
   ]
  },
  {
   "cell_type": "code",
   "execution_count": 27,
   "metadata": {},
   "outputs": [],
   "source": [
    "unique, counts = np.unique(result_list[0][:,:], return_counts=True)"
   ]
  },
  {
   "cell_type": "code",
   "execution_count": 32,
   "metadata": {},
   "outputs": [],
   "source": [
    "l = result_list[0]"
   ]
  },
  {
   "cell_type": "code",
   "execution_count": 35,
   "metadata": {},
   "outputs": [],
   "source": [
    "lt = l.T"
   ]
  },
  {
   "cell_type": "code",
   "execution_count": 40,
   "metadata": {},
   "outputs": [],
   "source": [
    " l = list(zip(lt[0],lt[1]))"
   ]
  },
  {
   "cell_type": "code",
   "execution_count": 43,
   "metadata": {},
   "outputs": [
    {
     "data": {
      "text/plain": [
       "[(2, -12),\n",
       " (72, -11),\n",
       " (22, -8),\n",
       " (54, -6),\n",
       " (14, -6),\n",
       " (29, -10),\n",
       " (5, -8),\n",
       " (49, -6),\n",
       " (33, -8),\n",
       " (71, -6)]"
      ]
     },
     "execution_count": 43,
     "metadata": {},
     "output_type": "execute_result"
    }
   ],
   "source": [
    "l"
   ]
  },
  {
   "cell_type": "code",
   "execution_count": 18,
   "metadata": {},
   "outputs": [
    {
     "data": {
      "text/plain": [
       "array([ 2, 72, 22, 54, 14, 29,  5, 49, 33, 71])"
      ]
     },
     "execution_count": 18,
     "metadata": {},
     "output_type": "execute_result"
    }
   ],
   "source": [
    "result_list[0][:,0]"
   ]
  },
  {
   "cell_type": "code",
   "execution_count": 15,
   "metadata": {},
   "outputs": [
    {
     "data": {
      "text/plain": [
       "[54,\n",
       " 38,\n",
       " 42,\n",
       " 43,\n",
       " 53,\n",
       " 66,\n",
       " 56,\n",
       " 53,\n",
       " 46,\n",
       " 54,\n",
       " 35,\n",
       " 41,\n",
       " 30,\n",
       " 32,\n",
       " 30,\n",
       " 30,\n",
       " 10,\n",
       " 16,\n",
       " 17,\n",
       " 13,\n",
       " 23,\n",
       " 19,\n",
       " 46,\n",
       " 55,\n",
       " 52,\n",
       " 34,\n",
       " 48,\n",
       " 40,\n",
       " 44,\n",
       " 18,\n",
       " 26,\n",
       " 32,\n",
       " 32,\n",
       " 33,\n",
       " 43,\n",
       " 54,\n",
       " 51,\n",
       " 78,\n",
       " 87,\n",
       " 98,\n",
       " 65,\n",
       " 79,\n",
       " 85,\n",
       " 101,\n",
       " 89,\n",
       " 78,\n",
       " 81,\n",
       " 79,\n",
       " 93,\n",
       " 103,\n",
       " 106,\n",
       " 38,\n",
       " 52,\n",
       " 58,\n",
       " 70,\n",
       " 39,\n",
       " 38,\n",
       " 27,\n",
       " 29,\n",
       " 34,\n",
       " 34,\n",
       " 30,\n",
       " 26,\n",
       " 25,\n",
       " 35,\n",
       " 25,\n",
       " 22,\n",
       " 72,\n",
       " 75,\n",
       " 90,\n",
       " 64,\n",
       " 57,\n",
       " 55,\n",
       " 54,\n",
       " 57,\n",
       " 63,\n",
       " 68,\n",
       " 51,\n",
       " 56,\n",
       " 57,\n",
       " 57,\n",
       " 54,\n",
       " 63,\n",
       " 69,\n",
       " 74,\n",
       " 83,\n",
       " 93,\n",
       " 107,\n",
       " 117,\n",
       " 108,\n",
       " 78,\n",
       " 101,\n",
       " 153,\n",
       " 146,\n",
       " 182,\n",
       " 187,\n",
       " 175,\n",
       " 165,\n",
       " 164,\n",
       " 136,\n",
       " 77,\n",
       " 76,\n",
       " 94,\n",
       " 88,\n",
       " 31,\n",
       " 44,\n",
       " 35,\n",
       " 42,\n",
       " 51,\n",
       " 58,\n",
       " 49,\n",
       " 59,\n",
       " 78,\n",
       " 108,\n",
       " 86,\n",
       " 98,\n",
       " 123,\n",
       " 117,\n",
       " 108,\n",
       " 106,\n",
       " 91,\n",
       " 95,\n",
       " 100,\n",
       " 81,\n",
       " 94,\n",
       " 45,\n",
       " 52,\n",
       " 68,\n",
       " 74,\n",
       " 83,\n",
       " 71,\n",
       " 64,\n",
       " 68,\n",
       " 57,\n",
       " 51,\n",
       " 99,\n",
       " 93,\n",
       " 159,\n",
       " 150,\n",
       " 57,\n",
       " 35,\n",
       " 12,\n",
       " 7,\n",
       " 16,\n",
       " 18,\n",
       " 18,\n",
       " 23,\n",
       " 2,\n",
       " 6,\n",
       " 5,\n",
       " 4,\n",
       " 1,\n",
       " 9,\n",
       " 30,\n",
       " 44,\n",
       " 33,\n",
       " 14,\n",
       " 10,\n",
       " 4,\n",
       " 7,\n",
       " 12,\n",
       " 16,\n",
       " 14,\n",
       " 3,\n",
       " 4,\n",
       " 2,\n",
       " 12,\n",
       " 11,\n",
       " 21,\n",
       " 23,\n",
       " 43,\n",
       " 33,\n",
       " 52,\n",
       " 47,\n",
       " 41,\n",
       " 32,\n",
       " 44,\n",
       " 64,\n",
       " 73,\n",
       " 87,\n",
       " 76,\n",
       " 71,\n",
       " 77,\n",
       " 126,\n",
       " 112,\n",
       " 107,\n",
       " 90,\n",
       " 117,\n",
       " 95,\n",
       " 93,\n",
       " 49,\n",
       " 35,\n",
       " 27,\n",
       " 25,\n",
       " 23,\n",
       " 22,\n",
       " 11,\n",
       " 2,\n",
       " 1,\n",
       " 1,\n",
       " 12,\n",
       " 13,\n",
       " 19,\n",
       " 19,\n",
       " 33,\n",
       " 40,\n",
       " 91,\n",
       " 74,\n",
       " 94,\n",
       " 129,\n",
       " 117,\n",
       " 67,\n",
       " 62,\n",
       " 54,\n",
       " 77,\n",
       " 51,\n",
       " 48,\n",
       " 48,\n",
       " 37,\n",
       " 30,\n",
       " 15,\n",
       " 32,\n",
       " 45,\n",
       " 61,\n",
       " 63,\n",
       " 56,\n",
       " 56,\n",
       " 67,\n",
       " 54,\n",
       " 37,\n",
       " 54,\n",
       " 37,\n",
       " 35,\n",
       " 13,\n",
       " 11,\n",
       " 12,\n",
       " 16,\n",
       " 18,\n",
       " 21,\n",
       " 16,\n",
       " 19,\n",
       " 20,\n",
       " 21,\n",
       " 25,\n",
       " 37,\n",
       " 60,\n",
       " 67,\n",
       " 76,\n",
       " 103,\n",
       " 110,\n",
       " 34,\n",
       " 18,\n",
       " 10,\n",
       " 9,\n",
       " 5,\n",
       " 2,\n",
       " 4,\n",
       " 2,\n",
       " 1,\n",
       " 3,\n",
       " 0,\n",
       " 0,\n",
       " 2,\n",
       " 17,\n",
       " 18,\n",
       " 38,\n",
       " 49,\n",
       " 26,\n",
       " 34,\n",
       " 54,\n",
       " 60,\n",
       " 61,\n",
       " 76,\n",
       " 78,\n",
       " 67,\n",
       " 69,\n",
       " 63,\n",
       " 64,\n",
       " 64,\n",
       " 103,\n",
       " 86,\n",
       " 62,\n",
       " 62,\n",
       " 84,\n",
       " 84,\n",
       " 79,\n",
       " 74,\n",
       " 51,\n",
       " 39,\n",
       " 37,\n",
       " 31,\n",
       " 0,\n",
       " 10,\n",
       " 8,\n",
       " 5,\n",
       " 2,\n",
       " 1,\n",
       " 1,\n",
       " 7,\n",
       " 15,\n",
       " 14,\n",
       " 9,\n",
       " 9,\n",
       " 6,\n",
       " 16,\n",
       " 28,\n",
       " 38,\n",
       " 79,\n",
       " 116,\n",
       " 132,\n",
       " 136,\n",
       " 142,\n",
       " 99,\n",
       " 116,\n",
       " 96,\n",
       " 129,\n",
       " 92,\n",
       " 111,\n",
       " 88,\n",
       " 65,\n",
       " 58,\n",
       " 37,\n",
       " 56,\n",
       " 38,\n",
       " 45,\n",
       " 30,\n",
       " 37,\n",
       " 47,\n",
       " 45,\n",
       " 44,\n",
       " 59,\n",
       " 70,\n",
       " 72,\n",
       " 95,\n",
       " 55,\n",
       " 44,\n",
       " 49,\n",
       " 53,\n",
       " 59,\n",
       " 39,\n",
       " 64,\n",
       " 41,\n",
       " 42,\n",
       " 42,\n",
       " 30,\n",
       " 21,\n",
       " 13,\n",
       " 29,\n",
       " 33,\n",
       " 33,\n",
       " 30,\n",
       " 30,\n",
       " 29,\n",
       " 23,\n",
       " 13,\n",
       " 7,\n",
       " 34,\n",
       " 18,\n",
       " 19,\n",
       " 17,\n",
       " 2,\n",
       " 1,\n",
       " 0,\n",
       " 1,\n",
       " 0,\n",
       " 0,\n",
       " 0,\n",
       " 1,\n",
       " 0,\n",
       " 2,\n",
       " 20,\n",
       " 23,\n",
       " 35,\n",
       " 32,\n",
       " 43,\n",
       " 59,\n",
       " 65,\n",
       " 57,\n",
       " 62,\n",
       " 90,\n",
       " 87,\n",
       " 108,\n",
       " 89,\n",
       " 72,\n",
       " 70,\n",
       " 65,\n",
       " 61,\n",
       " 48,\n",
       " 37,\n",
       " 81,\n",
       " 105,\n",
       " 109,\n",
       " 92,\n",
       " 126,\n",
       " 102,\n",
       " 154,\n",
       " 115,\n",
       " 133,\n",
       " 102,\n",
       " 84,\n",
       " 78,\n",
       " 62,\n",
       " 64,\n",
       " 64,\n",
       " 51,\n",
       " 40,\n",
       " 42,\n",
       " 38,\n",
       " 39,\n",
       " 41,\n",
       " 42,\n",
       " 59,\n",
       " 80,\n",
       " 96,\n",
       " 96,\n",
       " 93,\n",
       " 59,\n",
       " 48,\n",
       " 37,\n",
       " 24,\n",
       " 23,\n",
       " 20,\n",
       " 22,\n",
       " 19,\n",
       " 0,\n",
       " 0,\n",
       " 1,\n",
       " 0,\n",
       " 0,\n",
       " 0,\n",
       " 0,\n",
       " 0,\n",
       " 0,\n",
       " 0,\n",
       " 1,\n",
       " 14,\n",
       " 33,\n",
       " 18,\n",
       " 16,\n",
       " 7,\n",
       " 4,\n",
       " 13,\n",
       " 1,\n",
       " 0,\n",
       " 1,\n",
       " 0,\n",
       " 0,\n",
       " 0,\n",
       " 3,\n",
       " 0,\n",
       " 0,\n",
       " 11,\n",
       " 10,\n",
       " 12,\n",
       " 11,\n",
       " 19,\n",
       " 16,\n",
       " 19,\n",
       " 22,\n",
       " 22,\n",
       " 13,\n",
       " 12,\n",
       " 11,\n",
       " 26,\n",
       " 39,\n",
       " 61,\n",
       " 87,\n",
       " 82]"
      ]
     },
     "execution_count": 15,
     "metadata": {},
     "output_type": "execute_result"
    }
   ],
   "source": [
    "count"
   ]
  },
  {
   "cell_type": "code",
   "execution_count": 19,
   "metadata": {},
   "outputs": [
    {
     "data": {
      "text/plain": [
       "[array([[  2, -12],\n",
       "        [ 72, -11],\n",
       "        [ 22,  -8],\n",
       "        [ 54,  -6],\n",
       "        [ 14,  -6],\n",
       "        [ 29, -10],\n",
       "        [  5,  -8],\n",
       "        [ 49,  -6],\n",
       "        [ 33,  -8],\n",
       "        [ 71,  -6]]), array([[  2, -12],\n",
       "        [ 72, -11],\n",
       "        [ 22,  -8],\n",
       "        [ 54,  -6],\n",
       "        [ 14,  -6],\n",
       "        [ 29, -10],\n",
       "        [  5,  -8],\n",
       "        [ 52,  -7],\n",
       "        [ 48, -10],\n",
       "        [ 33,  -8],\n",
       "        [ 72,  -6],\n",
       "        [ 71,  -6],\n",
       "        [ 67,  -6]]), array([[  2, -12],\n",
       "        [ 72, -11],\n",
       "        [ 22,  -8],\n",
       "        [ 38,  -8],\n",
       "        [ 54,  -6],\n",
       "        [ 14,  -6],\n",
       "        [ 29, -10],\n",
       "        [  5,  -8],\n",
       "        [ 70,  -6],\n",
       "        [ 52,  -7],\n",
       "        [ 33,  -8],\n",
       "        [ 67,  -6]]), array([[  2, -12],\n",
       "        [ 22,  -8],\n",
       "        [ 38,  -8],\n",
       "        [ 54,  -6],\n",
       "        [ 14,  -6],\n",
       "        [ 29, -10],\n",
       "        [  5,  -8],\n",
       "        [ 70,  -6],\n",
       "        [ 52,  -7],\n",
       "        [ 67, -12],\n",
       "        [ 10,  -7],\n",
       "        [ 33,  -8],\n",
       "        [ 72,  -6]]), array([[  2, -12],\n",
       "        [ 22,  -8],\n",
       "        [ 38,  -8],\n",
       "        [ 54,  -6],\n",
       "        [ 14,  -6],\n",
       "        [ 29, -10],\n",
       "        [  5,  -8],\n",
       "        [ 52,  -7],\n",
       "        [ 10,  -7],\n",
       "        [ 33,  -8],\n",
       "        [ 72,  -6],\n",
       "        [ 67,  -6]]), array([[  2, -12],\n",
       "        [ 72, -11],\n",
       "        [ 22,  -8],\n",
       "        [ 38,  -8],\n",
       "        [ 54,  -6],\n",
       "        [ 14,  -6],\n",
       "        [ 29, -10],\n",
       "        [  5,  -8],\n",
       "        [ 67,  -9],\n",
       "        [ 52,  -7],\n",
       "        [ 33,  -8],\n",
       "        [ 72,  -6],\n",
       "        [ 67,  -6]]), array([[  2, -12],\n",
       "        [ 22,  -8],\n",
       "        [ 38,  -8],\n",
       "        [ 14,  -6],\n",
       "        [  5,  -8],\n",
       "        [ 70,  -6],\n",
       "        [ 10,  -7],\n",
       "        [ 33,  -8]]), array([[  2, -12],\n",
       "        [ 72, -11],\n",
       "        [ 22,  -8],\n",
       "        [ 38,  -8],\n",
       "        [ 14,  -6],\n",
       "        [ 29, -10],\n",
       "        [  5,  -8],\n",
       "        [ 70,  -6],\n",
       "        [ 52,  -7],\n",
       "        [ 33,  -8],\n",
       "        [ 67,  -6]]), array([[  2, -12],\n",
       "        [ 72, -11],\n",
       "        [ 22,  -8],\n",
       "        [ 38,  -8],\n",
       "        [ 54,  -6],\n",
       "        [ 14,  -6],\n",
       "        [ 29, -10],\n",
       "        [  5,  -8],\n",
       "        [ 52,  -7],\n",
       "        [ 10,  -7],\n",
       "        [ 33,  -8],\n",
       "        [ 72,  -6],\n",
       "        [ 71,  -6]]), array([[  2, -12],\n",
       "        [ 72, -11],\n",
       "        [ 22,  -8],\n",
       "        [ 38,  -8],\n",
       "        [ 54,  -6],\n",
       "        [ 14,  -6],\n",
       "        [  5,  -8],\n",
       "        [ 10,  -7],\n",
       "        [ 33,  -8]])]"
      ]
     },
     "execution_count": 19,
     "metadata": {},
     "output_type": "execute_result"
    }
   ],
   "source": [
    "result_list"
   ]
  },
  {
   "cell_type": "code",
   "execution_count": null,
   "metadata": {},
   "outputs": [],
   "source": []
  },
  {
   "cell_type": "code",
   "execution_count": null,
   "metadata": {},
   "outputs": [],
   "source": []
  },
  {
   "cell_type": "code",
   "execution_count": null,
   "metadata": {},
   "outputs": [],
   "source": []
  },
  {
   "cell_type": "code",
   "execution_count": 130,
   "metadata": {},
   "outputs": [],
   "source": [
    "best_link_pre, all_MSE_pre= link_finder(count,\"results_pre\",\"q_matrix_pre.npy\",\"../../nc/precip.mon.total.2.5x2.5.v2018.nc\"\n",
    "                                        ,\"precip\",-9.96921e+36,87,-6)"
   ]
  },
  {
   "cell_type": "code",
   "execution_count": 131,
   "metadata": {},
   "outputs": [],
   "source": [
    "best_link_pres, all_MSE_pres= link_finder(count,\"results_pres\",\"q_matrix_pres.npy\",\"../../nc/pres.mon.mean.nc\"\n",
    "                                        ,\"pres\",-9.96921e+36,64,-6)"
   ]
  },
  {
   "cell_type": "code",
   "execution_count": 142,
   "metadata": {},
   "outputs": [
    {
     "data": {
      "text/plain": [
       "779.4454927392622"
      ]
     },
     "execution_count": 142,
     "metadata": {},
     "output_type": "execute_result"
    }
   ],
   "source": [
    "np.mean(all_MSE_sst)"
   ]
  },
  {
   "cell_type": "code",
   "execution_count": null,
   "metadata": {},
   "outputs": [],
   "source": []
  },
  {
   "cell_type": "code",
   "execution_count": null,
   "metadata": {},
   "outputs": [],
   "source": []
  },
  {
   "cell_type": "code",
   "execution_count": null,
   "metadata": {},
   "outputs": [],
   "source": []
  }
 ],
 "metadata": {
  "kernelspec": {
   "display_name": "Python 3",
   "language": "python",
   "name": "python3"
  },
  "language_info": {
   "codemirror_mode": {
    "name": "ipython",
    "version": 3
   },
   "file_extension": ".py",
   "mimetype": "text/x-python",
   "name": "python",
   "nbconvert_exporter": "python",
   "pygments_lexer": "ipython3",
   "version": "3.6.9"
  }
 },
 "nbformat": 4,
 "nbformat_minor": 2
}
