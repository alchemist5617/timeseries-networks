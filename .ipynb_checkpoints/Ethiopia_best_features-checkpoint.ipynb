{
 "cells": [
  {
   "cell_type": "code",
   "execution_count": 3,
   "metadata": {},
   "outputs": [],
   "source": [
    "import numpy as np\n",
    "import math\n",
    "import pandas as pd\n",
    "import random\n",
    "from sklearn.decomposition import PCA\n",
    "from sklearn.preprocessing import StandardScaler\n",
    "\n",
    "from netCDF4 import Dataset\n",
    "\n",
    "from sklearn.preprocessing import MinMaxScaler\n",
    "\n",
    "\n",
    "import PCA_functions as pf\n",
    "import Extreme_functions as ef\n",
    "\n",
    "from tigramite import plotting as tp\n",
    "from tigramite.pcmci import PCMCI\n",
    "from tigramite.independence_tests import ParCorr, CMIknn\n",
    "import tigramite.data_processing as pp\n",
    "\n",
    "from Data import Data\n",
    "from datetime import datetime\n",
    "\n",
    "import pickle\n",
    "from statsmodels.tsa.stattools import grangercausalitytests\n",
    "from sklearn.metrics import mean_squared_error\n",
    "from sklearn.ensemble import RandomForestRegressor\n",
    "from sklearn.feature_selection import SelectFromModel\n",
    "\n",
    "import matplotlib.pyplot as plt\n",
    "plt.rcParams[\"figure.figsize\"] = (20,10)"
   ]
  },
  {
   "cell_type": "code",
   "execution_count": 4,
   "metadata": {},
   "outputs": [],
   "source": [
    "def save_obj(obj, name ):\n",
    "    with open(name + '.pkl', 'wb') as f:\n",
    "        pickle.dump(obj, f, pickle.HIGHEST_PROTOCOL)\n",
    "\n",
    "def load_obj(name ):\n",
    "    with open(name + '.pkl', 'rb') as f:\n",
    "        return pickle.load(f)\n",
    "\n",
    "def deseasonalize(data,freq=12):\n",
    "    \"\"\"\n",
    "    The shape of data should be (time, index) \n",
    "    \"\"\"\n",
    "    n  = data.shape[1]\n",
    "    N  = data.shape[0]\n",
    "    data_deseasonal = np.zeros(data.shape)\n",
    "    for i in range(n):\n",
    "        temp = np.copy(data[:,i])\n",
    "        r = np.zeros((N))\n",
    "        for j in range(freq):\n",
    "            Idx = np.arange(j,N,freq)\n",
    "            if temp[Idx].std() == 0:\n",
    "                r[Idx] = 0\n",
    "            else:\n",
    "                r[Idx] = (temp[Idx] - temp[Idx].mean())/temp[Idx].std()\n",
    "        data_deseasonal[:,i] = np.copy(r)\n",
    "    return(data_deseasonal)\n",
    "\n",
    "\n",
    "ET_gamma = np.load(\"ET_gamma.npy\")\n",
    "N = ET_gamma.shape[0]\n",
    "n_nodes = ET_gamma.shape[1]\n",
    "extremes_treshold = -1\n",
    "count = []\n",
    "for i in range(N):\n",
    "    count.append(np.count_nonzero(ET_gamma[i,:] <= extremes_treshold))\n",
    "\n",
    "level = 12\n",
    "temporal_limits = {\"time_min\":datetime(1977, 1, 1, 0, 0),\"time_max\":datetime(2015, 12, 1, 0, 0) }"
   ]
  },
  {
   "cell_type": "code",
   "execution_count": 29,
   "metadata": {},
   "outputs": [],
   "source": [
    "name = [\"../../nc/sst.mnmean.nc\",\"../../nc/air.mon.mean.nc\",\"../../nc/precip.mon.total.2.5x2.5.v2018.nc\",\"../../nc/pres.mon.mean.nc\"]\n",
    "code = [\"sst\",\"air\",\"precip\", \"pres\"]\n",
    "missing = [-9.96921e+36,-9.96921e+36,-9.96921e+36,-9.96921e+36]\n",
    "n_components = [76, 82,87, 64]\n",
    "\n",
    "df_cluster = []\n",
    "loading_list = []\n",
    "for j in range(len(name)):\n",
    "    d = Data('{}'.format(name[j]),code[j],temporal_limits,missing_value=missing[j])\n",
    "\n",
    "    result = d.get_data()\n",
    "    lon_list = d.get_lon_list()\n",
    "    lat_list = d.get_lat_list()\n",
    "    lon = d.get_lon()\n",
    "    lat = d.get_lat()\n",
    "\n",
    "    result = deseasonalize(np.array(result))\n",
    "    weights = np.sqrt(np.abs(np.cos(np.array(lat_list)* math.pi/180)))\n",
    "    for i in range(len(weights)):\n",
    "        result[:,i] = weights[i] * result[:,i]\n",
    "\n",
    "    data = pd.DataFrame(result)\n",
    "    pca = PCA(n_components=n_components[j])\n",
    "    pca_model = pca.fit(data)\n",
    "\n",
    "    df_cluster.append(pca_model.transform(data))\n",
    "    \n",
    "    loading = np.transpose(pca_model.components_) \n",
    "    loading_list.append(pd.DataFrame(loading)) \n",
    "\n",
    "extremes_name  = [\"n_extremes\"]\n",
    "\n",
    "#precip_name  = []\n",
    "#for i in range(n_components[0]):\n",
    "#    precip_name.append(\"PRECIP_%d\"%i)\n",
    "\n",
    "#pres_name  = []\n",
    "#for i in range(n_components[1]):\n",
    "#    pres_name.append(\"PRES_%d\"%i)\n",
    "\n",
    "sst_name  = []\n",
    "for i in range(n_components[0]):\n",
    "    sst_name.append(\"SST_%d\"%i)\n",
    "\n",
    "sat_name  = []\n",
    "for i in range(n_components[1]):\n",
    "    sat_name.append(\"SAT_%d\"%i)"
   ]
  },
  {
   "cell_type": "code",
   "execution_count": 4,
   "metadata": {},
   "outputs": [],
   "source": [
    "result_sst = np.array(df_cluster[0])\n",
    "result_sat = np.array(df_cluster[1])"
   ]
  },
  {
   "cell_type": "code",
   "execution_count": 41,
   "metadata": {},
   "outputs": [],
   "source": [
    "link_lists = []\n",
    "\n",
    "results_file = [\"results_st\", \"results_sat\", \"results_pre\", \"results_pres\"]\n",
    "names = [\"SST\", \"SAT\", \"Precip\", \"Press\"]\n",
    "\n",
    "for file  in results_file:\n",
    "    results_file = load_obj(file)\n",
    "    pq_matrix = results_file['p_matrix']\n",
    "    val_matrix = results_file['val_matrix']\n",
    "    alpha_level = 0.05\n",
    "    N = pq_matrix.shape[0]\n",
    "\n",
    "    link_dict = dict()\n",
    "    for j in range(N):\n",
    "        # Get the good links\n",
    "        good_links = np.argwhere(pq_matrix[:, j, 1:] <= alpha_level)\n",
    "        # Build a dictionary from these links to their values\n",
    "        links = {(i, -tau - 1): np.abs(val_matrix[i, j, abs(tau) + 1])\n",
    "                 for i, tau in good_links}\n",
    "        # Sort by value\n",
    "        link_dict[j] = sorted(links, key=links.get, reverse=True)\n",
    "    link = np.array(link_dict[0])\n",
    "    link_lists.append(link[1:,: ])\n"
   ]
  },
  {
   "cell_type": "code",
   "execution_count": 43,
   "metadata": {},
   "outputs": [],
   "source": [
    "n_estimators=100\n",
    "max_depth=100\n",
    "tau = -6"
   ]
  },
  {
   "cell_type": "code",
   "execution_count": 44,
   "metadata": {},
   "outputs": [],
   "source": [
    "def min_MSE_finder(count, df_cluster, link_lists, n_estimators=100, max_depth=5, tau=-1):\n",
    "    result = []\n",
    "    name = []\n",
    "\n",
    "    df = pd.DataFrame({\"drought\":count, \"drought1\":count})\n",
    "    df.drought1 = df.drought1.shift(abs(tau))\n",
    "    df = df.dropna()\n",
    "    index = int(df.shape[0]*0.8)\n",
    "    dim = df.shape[1]\n",
    "\n",
    "    x_train, x_test = df.iloc[:index,1:dim], df.iloc[index:,1:dim] \n",
    "    y_train, y_test = df.iloc[:index,0], df.iloc[index:,0] \n",
    "    model = RandomForestRegressor(max_depth=max_depth, random_state=0, n_estimators=n_estimators)\n",
    "    model.fit(x_train, y_train)\n",
    "    y_pred = model.predict(x_test)\n",
    "    result.append(mean_squared_error(y_pred, y_test))\n",
    "    \n",
    "    #name.append(\"Drought\")\n",
    "\n",
    "    \n",
    "    for p in range(len(df_cluster)):\n",
    "        link = link_lists[p]\n",
    "        link = link[link[:,1] <= tau]\n",
    "        link_lists[p] = link\n",
    "        for z in range(len(link)):\n",
    "            df = pd.DataFrame({\"drought\":count, \"drought1\":count})\n",
    "            df.drought1 = df.drought1.shift(abs(tau))\n",
    "            for k in range(0,z+1):\n",
    "                if link[k,0] != 0:\n",
    "                    df[str(link[k,0]-1 + p*len(link))] = df_cluster[p][:,link[k,0]-1]\n",
    "                    df[str(link[k,0]-1 + p*len(link))] = df[str(link[k,0]-1+ p*len(link))].shift(abs(link[k,1]))\n",
    "                #else:\n",
    "                #    df[str(link[k,0])] = count\n",
    "                #    df[str(link[k,0])] = df[str(link[k,0])].shift(abs(link[k,1]))\n",
    "            #name.append(names[p]+str(link[z,0]-1))\n",
    "            df = df.dropna()\n",
    "            index = int(df.shape[0]*0.8)\n",
    "            dim = df.shape[1]\n",
    "\n",
    "            x_train, x_test = df.iloc[:index,1:dim], df.iloc[index:,1:dim] \n",
    "            y_train, y_test = df.iloc[:index,0], df.iloc[index:,0] \n",
    "            model = RandomForestRegressor(max_depth=5, random_state=0, n_estimators=100)\n",
    "            model.fit(x_train, y_train)\n",
    "            y_pred = model.predict(x_test)\n",
    "            result.append(mean_squared_error(y_pred, y_test))\n",
    "    return(result,link_lists)"
   ]
  },
  {
   "cell_type": "code",
   "execution_count": 45,
   "metadata": {},
   "outputs": [],
   "source": [
    "result, link = min_MSE_finder(count, df_cluster, link_lists, n_estimators, max_depth,tau)"
   ]
  },
  {
   "cell_type": "code",
   "execution_count": 46,
   "metadata": {},
   "outputs": [],
   "source": [
    "overall_min_MSE = []\n",
    "overall_min_MSE.append(min(result))"
   ]
  },
  {
   "cell_type": "code",
   "execution_count": 47,
   "metadata": {},
   "outputs": [
    {
     "data": {
      "image/png": "[encoded data removed]",
      "text/plain": [
       "<Figure size 1440x720 with 1 Axes>"
      ]
     },
     "metadata": {},
     "output_type": "display_data"
    }
   ],
   "source": [
    "plt.plot(result,linewidth=4.0)\n",
    "plt.tick_params(axis='both', which='major', labelsize=15)\n",
    "plt.ylabel(\"MSE\",fontsize = 30)\n",
    "plt.xlabel(\"Causal Factors (SST, SAT, Precip, Press)\",fontsize = 20)\n",
    "plt.savefig(\"Errors.png\")"
   ]
  },
  {
   "cell_type": "code",
   "execution_count": 48,
   "metadata": {},
   "outputs": [],
   "source": [
    "def link_refiner(link_lists, I):\n",
    "    start = 0\n",
    "    for j in range(len(link_lists)):\n",
    "        link_lists[j] = link_lists[j][I[start:start + len(link_lists[j])],:]\n",
    "        start += len(link_lists[j])\n",
    "    return(link_lists)\n",
    "    "
   ]
  },
  {
   "cell_type": "code",
   "execution_count": 49,
   "metadata": {},
   "outputs": [],
   "source": [
    "link_list = []\n",
    "diff = [x - result[i - 1] for i, x in enumerate(result)][1:]\n",
    "I = np.array(diff) < 0 "
   ]
  },
  {
   "cell_type": "code",
   "execution_count": 50,
   "metadata": {},
   "outputs": [],
   "source": [
    "while not all(I):\n",
    "    link_list.append(link_lists)\n",
    "    link_lists = link_refiner(link_lists, I)\n",
    "    result, link_lists = min_MSE_finder(count, df_cluster, link_lists, n_estimators, max_depth,tau)\n",
    "    overall_min_MSE.append(min(result))\n",
    "    diff = [x - result[i - 1] for i, x in enumerate(result)][1:]\n",
    "    I = np.array(diff) < 0"
   ]
  },
  {
   "cell_type": "code",
   "execution_count": 53,
   "metadata": {},
   "outputs": [
    {
     "data": {
      "image/png": "[encoded data removed]",
      "text/plain": [
       "<Figure size 1440x720 with 1 Axes>"
      ]
     },
     "metadata": {},
     "output_type": "display_data"
    }
   ],
   "source": [
    "plt.plot(result,linewidth=4.0)\n",
    "plt.tick_params(axis='both', which='major', labelsize=15)\n",
    "plt.ylabel(\"MSE\",fontsize = 30)\n",
    "plt.xlabel(\"Causal Factors (SST)\",fontsize = 20)\n",
    "plt.savefig(\"Errors_final.png\")"
   ]
  },
  {
   "cell_type": "code",
   "execution_count": 54,
   "metadata": {},
   "outputs": [
    {
     "data": {
      "text/plain": [
       "[array([[  2, -12],\n",
       "        [ 22,  -8],\n",
       "        [ 38,  -8],\n",
       "        [ 54,  -6],\n",
       "        [ 14,  -6],\n",
       "        [ 33,  -8],\n",
       "        [ 57,  -6]]),\n",
       " array([], shape=(0, 2), dtype=int64),\n",
       " array([], shape=(0, 2), dtype=int64),\n",
       " array([], shape=(0, 2), dtype=int64)]"
      ]
     },
     "execution_count": 54,
     "metadata": {},
     "output_type": "execute_result"
    }
   ],
   "source": [
    "link_lists"
   ]
  },
  {
   "cell_type": "code",
   "execution_count": 55,
   "metadata": {},
   "outputs": [
    {
     "data": {
      "text/plain": [
       "[931.1512378707328,\n",
       " 859.0571224137359,\n",
       " 818.7539340318665,\n",
       " 792.9807154520374,\n",
       " 792.9807154520374,\n",
       " 792.9807154520374]"
      ]
     },
     "execution_count": 55,
     "metadata": {},
     "output_type": "execute_result"
    }
   ],
   "source": [
    "overall_min_MSE"
   ]
  },
  {
   "cell_type": "code",
   "execution_count": null,
   "metadata": {},
   "outputs": [],
   "source": []
  },
  {
   "cell_type": "code",
   "execution_count": null,
   "metadata": {},
   "outputs": [],
   "source": []
  },
  {
   "cell_type": "code",
   "execution_count": null,
   "metadata": {},
   "outputs": [],
   "source": []
  },
  {
   "cell_type": "code",
   "execution_count": null,
   "metadata": {},
   "outputs": [],
   "source": []
  },
  {
   "cell_type": "code",
   "execution_count": null,
   "metadata": {},
   "outputs": [],
   "source": []
  },
  {
   "cell_type": "code",
   "execution_count": 5,
   "metadata": {},
   "outputs": [],
   "source": [
    "def time_series_maker(pc, df_sst, result, level = 95): \n",
    "    limit = np.percentile(df_sst.pc.values, level)\n",
    "    d = df_sst[df_sst.pc > limit]\n",
    "    d = result[:,d.index].mean(axis=1)\n",
    "    d = np.ravel(d)\n",
    "    d = np.reshape(d,(len(d),1))\n",
    "    d = pf.deseasonalize(d)\n",
    "    d = np.ravel(d)\n",
    "    return(d)"
   ]
  },
  {
   "cell_type": "code",
   "execution_count": null,
   "metadata": {},
   "outputs": [],
   "source": [
    "name = [\"../../nc/sst.mnmean.nc\",\"../../nc/air.mon.mean.nc\",\"../../nc/precip.mon.total.2.5x2.5.v2018.nc\",\"../../nc/pres.mon.mean.nc\"]\n",
    "code = [\"sst\",\"air\",\"precip\", \"pres\"]\n",
    "missing = [-9.96921e+36,-9.96921e+36,-9.96921e+36,-9.96921e+36]\n",
    "n_components = [76, 82,87, 64]\n",
    "\n",
    "df_cluster = []\n",
    "df_cluster_raw = []\n",
    "loading_list = []\n",
    "for j in range(len(name)):\n",
    "    d = Data('{}'.format(name[j]),code[j],temporal_limits,missing_value=missing[j])\n",
    "\n",
    "    result = d.get_data()\n",
    "    df_cluster_raw.append(result)\n",
    "    lon_list = d.get_lon_list()\n",
    "    lat_list = d.get_lat_list()\n",
    "    lon = d.get_lon()\n",
    "    lat = d.get_lat()\n",
    "\n",
    "    result = deseasonalize(np.array(result))\n",
    "    weights = np.sqrt(np.abs(np.cos(np.array(lat_list)* math.pi/180)))\n",
    "    for i in range(len(weights)):\n",
    "        result[:,i] = weights[i] * result[:,i]\n",
    "\n",
    "    data = pd.DataFrame(result)\n",
    "    pca = PCA(n_components=n_components[j])\n",
    "    pca_model = pca.fit(data)\n",
    "\n",
    "    df_cluster.append(pca_model.transform(data))\n",
    "    \n",
    "    loading = np.transpose(pca_model.components_) \n",
    "    loading_list.append(pd.DataFrame(loading)) \n",
    "\n",
    "extremes_name  = [\"n_extremes\"]\n",
    "\n",
    "#precip_name  = []\n",
    "#for i in range(n_components[0]):\n",
    "#    precip_name.append(\"PRECIP_%d\"%i)\n",
    "\n",
    "#pres_name  = []\n",
    "#for i in range(n_components[1]):\n",
    "#    pres_name.append(\"PRES_%d\"%i)\n",
    "\n",
    "sst_name  = []\n",
    "for i in range(n_components[0]):\n",
    "    sst_name.append(\"SST_%d\"%i)\n",
    "\n",
    "sat_name  = []\n",
    "for i in range(n_components[1]):\n",
    "    sat_name.append(\"SAT_%d\"%i)"
   ]
  },
  {
   "cell_type": "code",
   "execution_count": 25,
   "metadata": {},
   "outputs": [],
   "source": [
    "file_name = 'result_dic_test_ET22222.txt'\n",
    "with open(file_name, 'r') as f:\n",
    "    Lines = f.readlines()\n",
    "    \n",
    "result = {}\n",
    "for Line in Lines:\n",
    "    line = Line.strip().split(\")\")\n",
    "    key = (int(line[0].split(',')[0][1:]), int(line[0].split(',')[1].strip()))\n",
    "    value = int(line[1].strip(\",\"))\n",
    "    if value >= 7:\n",
    "        result[key] = value"
   ]
  },
  {
   "cell_type": "code",
   "execution_count": 19,
   "metadata": {},
   "outputs": [],
   "source": [
    "file1 = open('result_dic_test_ET2222.txt', 'r') \n",
    "Lines = file1.readlines() "
   ]
  },
  {
   "cell_type": "code",
   "execution_count": 26,
   "metadata": {},
   "outputs": [
    {
     "data": {
      "text/plain": [
       "{(0, -12): 9,\n",
       " (0, -11): 9,\n",
       " (0, -4): 8,\n",
       " (0, -2): 7,\n",
       " (0, -1): 9,\n",
       " (2, -12): 9,\n",
       " (26, -5): 8,\n",
       " (26, -3): 9,\n",
       " (27, -11): 9,\n",
       " (29, -2): 7,\n",
       " (34, -11): 9,\n",
       " (44, -1): 7}"
      ]
     },
     "execution_count": 26,
     "metadata": {},
     "output_type": "execute_result"
    }
   ],
   "source": [
    "result"
   ]
  },
  {
   "cell_type": "code",
   "execution_count": 11,
   "metadata": {},
   "outputs": [
    {
     "data": {
      "text/plain": [
       "',1\\n'"
      ]
     },
     "execution_count": 11,
     "metadata": {},
     "output_type": "execute_result"
    }
   ],
   "source": [
    "Lines[1].split(\")\")[1]"
   ]
  },
  {
   "cell_type": "code",
   "execution_count": 13,
   "metadata": {},
   "outputs": [
    {
     "data": {
      "text/plain": [
       "['(23, -2', ',1']"
      ]
     },
     "execution_count": 13,
     "metadata": {},
     "output_type": "execute_result"
    }
   ],
   "source": [
    "Lines[1].strip().split(\")\")"
   ]
  },
  {
   "cell_type": "code",
   "execution_count": null,
   "metadata": {},
   "outputs": [],
   "source": []
  }
 ],
 "metadata": {
  "kernelspec": {
   "display_name": "Python 3",
   "language": "python",
   "name": "python3"
  },
  "language_info": {
   "codemirror_mode": {
    "name": "ipython",
    "version": 3
   },
   "file_extension": ".py",
   "mimetype": "text/x-python",
   "name": "python",
   "nbconvert_exporter": "python",
   "pygments_lexer": "ipython3",
   "version": "3.6.9"
  }
 },
 "nbformat": 4,
 "nbformat_minor": 2
}
